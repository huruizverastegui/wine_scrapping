{
 "cells": [
  {
   "cell_type": "code",
   "execution_count": 43,
   "id": "acb5616a",
   "metadata": {},
   "outputs": [],
   "source": [
    "from bs4 import BeautifulSoup\n",
    "from selenium import webdriver\n",
    "import time\n",
    "import pandas\n",
    "import datetime\n",
    "from datetime import datetime\n",
    "import requests\n",
    "import re\n",
    "from selenium import webdriver\n",
    "from selenium.webdriver import ActionChains\n",
    "from webdriver_manager.chrome import ChromeDriverManager\n",
    "from selenium.webdriver.common.by import By\n",
    "from selenium.webdriver.common.keys import Keys\n"
   ]
  },
  {
   "cell_type": "code",
   "execution_count": 38,
   "id": "da03cde6",
   "metadata": {},
   "outputs": [],
   "source": [
    "\n",
    "browser = webdriver.Chrome(ChromeDriverManager().install())"
   ]
  },
  {
   "cell_type": "code",
   "execution_count": 28,
   "id": "63feddb3",
   "metadata": {},
   "outputs": [],
   "source": [
    "browser.get(\"https://www.i-d-s.com/dubai/wine/wines-by-country/france.html?p=2\")   "
   ]
  },
  {
   "cell_type": "code",
   "execution_count": 169,
   "id": "f23df964",
   "metadata": {},
   "outputs": [],
   "source": [
    "\n",
    "\n",
    "parameters= [\n",
    "{\n",
    "\"country\": \"TH\",   \n",
    "\"website\": \"OIS\",   \n",
    "\"url_scrap\": ((\"france\",\"https://www.i-d-s.com/dubai/wine/wines-by-country/france.html?p=\"),          \n",
    "(\"argentina\",\"https://www.i-d-s.com/dubai/wine/wines-by-country/argentina.html?p=\"),\n",
    "(\"australia\",\"https://www.i-d-s.com/dubai/wine/wines-by-country/australia.html?p=\"),\n",
    "(\"chile\",\"https://www.i-d-s.com/dubai/wine/wines-by-country/chile.html?p=\"),\n",
    "(\"new_zealand\",\"https://www.i-d-s.com/dubai/wine/wines-by-country/new-zealand.html?p=\"),\n",
    "(\"south_africa\",\"https://www.i-d-s.com/dubai/wine/wines-by-country/south-africa.html?p=\"),\n",
    "(\"uk\",\"https://www.i-d-s.com/dubai/wine/wines-by-country/united-kingdom.html?p=\"),\n",
    "(\"usa\",\"https://www.i-d-s.com/dubai/wine/wines-by-country/usa.html?p=\"),\n",
    "(\"germany\",\"https://www.i-d-s.com/dubai/wine/wines-by-country/germany.html?p=\"),\n",
    "(\"italy\",\"https://www.i-d-s.com/dubai/wine/wines-by-country/italy.html?p=\"),\n",
    "(\"spain\",\"https://www.i-d-s.com/dubai/wine/wines-by-country/spain.html?p=\"),\n",
    "(\"rest-of-the-world\",\"https://www.i-d-s.com/dubai/wine/wines-by-country/rest-of-the-world.html?p=\")),\n",
    "    \n",
    "    \n",
    "\"price_regex\":  \"data-price-amount=\\\"(.*?)\\\"\",\n",
    "\"url_product_regex\": \"class=\\\"product-item-link\\\" href=.*?>(.*?)<\",                \n",
    "\"url_image_regex\": \"NA\",\n",
    "\"brand_regex\": \"NA\", \n",
    "\"scrolling_type\" : \"no scroll\",\n",
    "\"pop_up_type\" : \"have pop up\", \n",
    "\"page_not_found_type\" : \"yes\",\n",
    "\"page_not_found_regex\":\"find products matching the selection\",\n",
    "\"format_change_type\" : \"yes\",\n",
    "\"multiple_pages\" : \"yes\",\n",
    "\"scrapper_activated\":\"1\"\n",
    "}\n",
    "    \n",
    "]\n",
    "\n",
    "DF_final=pandas.DataFrame()"
   ]
  },
  {
   "cell_type": "code",
   "execution_count": 160,
   "id": "d56bcfac",
   "metadata": {},
   "outputs": [],
   "source": [
    "def pop_up_closing(param,browser_param):\n",
    "    if param[\"pop_up_type\"]=='no pop up':\n",
    "        pass\n",
    "    if param[\"pop_up_type\"]=='have pop up':\n",
    "\n",
    "        close=browser_param.find_elements_by_class_name(\"action-close\")\n",
    "        for element in close : \n",
    "            try:\n",
    "                element.click()   \n",
    "                time.sleep(1)\n",
    "            except:\n",
    "                pass"
   ]
  },
  {
   "cell_type": "code",
   "execution_count": 195,
   "id": "665743e4",
   "metadata": {},
   "outputs": [],
   "source": [
    "def get_data(param, executable_path):\n",
    "    \n",
    "        l = len(param[\"url_scrap\"])\n",
    "        i=0\n",
    "        df_aggregated=pandas.DataFrame()\n",
    "        nb_issues = 0\n",
    "        today_date=datetime.today().strftime('%Y-%m-%d')\n",
    "        \n",
    "        while i<l:\n",
    "        #while i<2:\n",
    "            \n",
    "            #browser = webdriver.Chrome(executable_path=executable_path)\n",
    "            browser = webdriver.Chrome(ChromeDriverManager().install())\n",
    "            category=param[\"url_scrap\"][i][0]           \n",
    "            \n",
    "            url=param[\"url_scrap\"][i][1]\n",
    "            print(category)\n",
    "            #print(url)        \n",
    "\n",
    "            # to change into a parameter\n",
    "            test_not_found=param[\"page_not_found_regex\"]\n",
    "\n",
    "            #init\n",
    "            page_not_found=0\n",
    "\n",
    "            # different starting point depending on the param page not found \n",
    "            if param[\"page_not_found_type\"]=='yes':\n",
    "                page=1\n",
    "\n",
    "            if param[\"page_not_found_type\"]=='no':\n",
    "                page=\"\"\n",
    "\n",
    "\n",
    "            while page_not_found==0:\n",
    "                #use of try to handle possible scrapping errors or time outs - https://stackoverflow.com/questions/51943694/execute-when-error-occurs-python\n",
    "                     \n",
    "                url_with_page=url+str(page)\n",
    "                print(url_with_page)     \n",
    "\n",
    "                browser.get(url_with_page)    \n",
    "\n",
    "                time.sleep(5)\n",
    "                #use of the anti pop up function\n",
    "                pop_up_closing(param,browser)\n",
    "\n",
    "                #use of the scrolling function\n",
    "                #scrolling(param,browser)\n",
    "\n",
    "                #use of format changing\n",
    "                #format_change(param,browser,page)\n",
    "\n",
    "                # extract of sourc code \n",
    "                time.sleep(2)\n",
    "                htmlsource = browser.page_source\n",
    "                \n",
    "\n",
    "                #use of the commas replace code\n",
    "                #htmlsource_replaced = replace_commas(param,htmlsource)\n",
    "                #print(htmlsource)\n",
    "\n",
    "                time.sleep(2)\n",
    "\n",
    "                prices = re.findall(param[\"price_regex\"], htmlsource)\n",
    "                print(\"prices: \" + str(len(prices)))\n",
    "                print(prices)\n",
    "                \n",
    "                url_product = re.findall(param[\"url_product_regex\"], htmlsource)\n",
    "                print(\"url_product: \" + str(len(url_product)))\n",
    "                print(url_product)\n",
    "                \n",
    "                df=[prices,url_product]\n",
    "                df=pandas.DataFrame(df).transpose()\n",
    "                df['country']=category\n",
    "                df_aggregated=df_aggregated.append(df)\n",
    "\n",
    "\n",
    "                # exit loop after first iteration if there are no pages to go through\n",
    "                if param[\"page_not_found_type\"]=='no':\n",
    "                    page_not_found = 1\n",
    "\n",
    "                if param[\"page_not_found_type\"]=='yes':\n",
    "                    page_not_found = len(re.findall(test_not_found, htmlsource))\n",
    "                    page=page+1\n",
    "                    # only keep the output if there is no shift \n",
    "\n",
    "\n",
    "            i=i+1\n",
    "            browser.close()\n",
    "             \n",
    "            print(\"---------------\")\n",
    "        \n",
    "        #define columns names\n",
    "\n",
    "        return df_aggregated\n",
    "\n",
    "\n",
    "\n"
   ]
  },
  {
   "cell_type": "code",
   "execution_count": 196,
   "id": "5133f08b",
   "metadata": {},
   "outputs": [
    {
     "name": "stdout",
     "output_type": "stream",
     "text": [
      "france\n",
      "https://www.i-d-s.com/dubai/wine/wines-by-country/france.html?p=1\n",
      "prices: 12\n",
      "['42.05', '75.6', '148.85', '75.6', '3139.59', '1342.28', '15.55', '26.85', '25.35', '2025.288', '69.65', '49']\n",
      "url_product: 12\n",
      "['Domaine Cailbourdin, Pouilly-Sur-Loire, Pouilly-Fumé Les Cris ', 'Maison Antoine Geoffroy, Beaune, Gevrey Chambertin Vieilles Vignes ', 'Domaine Daniel-Etienne Defaix, Chablis Grand Cru Blanchot ', 'Domaine Daniel-Etienne Defaix, Chablis Vieilles Vignes', '2016 Château Duhart-Milon Rothschild, 4eme Cru Classé, Pauillac', '2019 \"Brulieres\" De Beychevelle, Haut-Medoc', 'Cave de Turckheim Gewurztraminer Reserve', 'Schröder and Schÿler Margaux Private Selection', \"Perle d'Aurore, Crémant de Bourgogne Brut Rosé\", '2015 Chateau Beychevelle \"Amiral De Beychevelle\" St. Julien', 'Remoissenet Pommard', 'Remoissenet Chablis 1er Cru Fourchaume']\n",
      "https://www.i-d-s.com/dubai/wine/wines-by-country/france.html?p=2\n"
     ]
    },
    {
     "name": "stderr",
     "output_type": "stream",
     "text": [
      "/var/folders/9z/sjrbpv9j1996t3_4wv3ry65c0000gn/T/ipykernel_65512/2389928353.py:74: FutureWarning: The frame.append method is deprecated and will be removed from pandas in a future version. Use pandas.concat instead.\n",
      "  df_aggregated=df_aggregated.append(df)\n"
     ]
    },
    {
     "name": "stdout",
     "output_type": "stream",
     "text": [
      "prices: 12\n",
      "['30.35', '32.78', '7150', '52.65', '45.35', '29.95', '17', '10.15', '9.4', '12.45', '11.7', '45.75']\n",
      "url_product: 12\n",
      "['Remoissenet Chablis', 'Château Mont-Redon Châteauneuf-du-Pape Rouge', '2016 Château Angelus, 1er Grand Cru Classé, Saint Emilion', 'Perrier-Jouët Grand Brut', 'Savigny Les Beaune Antoine Geoffroy', 'Domaine Michel Girault Les Beaux Regards, Sancerre Rouge', 'M.Chapoutier, Rasteau \" Les Gadilles\"', 'M.Chapoutier, Costières-de-Nîmes, Collection Bio “Areca” &amp; “Rouge” ', \"M.Chapoutier, Luberon 'La Ciboise' Rouge\", 'M.Chapoutier, Côtes-du-Rhône Rouge Adubatio , Collection Bio', \"M.Chapoutier, 'Belleruche' Côtes-du-Rhône Rouge\", 'M.Chapoutier, Châteauneuf-du-Pape, Collection Bio Rouge']\n",
      "https://www.i-d-s.com/dubai/wine/wines-by-country/france.html?p=3\n"
     ]
    },
    {
     "name": "stderr",
     "output_type": "stream",
     "text": [
      "/var/folders/9z/sjrbpv9j1996t3_4wv3ry65c0000gn/T/ipykernel_65512/2389928353.py:74: FutureWarning: The frame.append method is deprecated and will be removed from pandas in a future version. Use pandas.concat instead.\n",
      "  df_aggregated=df_aggregated.append(df)\n"
     ]
    },
    {
     "name": "stdout",
     "output_type": "stream",
     "text": [
      "prices: 12\n",
      "['12.15', '45.1', '27.15', '50.8', '12.45', '11.85', '9.4', '22.35', '17.1', '25.7', '21.2', '13.7']\n",
      "url_product: 12\n",
      "['Marius, Avenue de la Gare Syrah, IGP Collines Rhodaniennes ', \"M.Chapoutier, Cornas 'Les Arènes'\", \"M.Chapoutier, Saint-Joseph 'Deschants' Rouge\", \"M.Chapoutier, Châteauneuf-du-Pape 'La Bernardine' Blanc\", 'M.Chapoutier, Côtes-du-Rhône Blanc Adunatio , Collection Bio', \"M.Chapoutier, 'Belleruche' Côtes-du-Rhône Blanc\", \"M.Chapoutier, Luberon 'La Ciboise' Blanc\", \"M.Chapoutier, Saint-Péray 'Les Tanneurs' \", \"M.Chapoutier, 'La Combe Pilate' Viognier, IGP Collines Rhodaniennes\", \"M.Chapoutier, Saint-Joseph 'Deschants' Blanc\", \"Domaine Trénel, Climat Fleurie 'La Madone' (Single Vineyard)\", 'Domaine Trénel, Beaujolais Organic \" Rouge\"']\n",
      "https://www.i-d-s.com/dubai/wine/wines-by-country/france.html?p=4\n"
     ]
    },
    {
     "name": "stderr",
     "output_type": "stream",
     "text": [
      "/var/folders/9z/sjrbpv9j1996t3_4wv3ry65c0000gn/T/ipykernel_65512/2389928353.py:74: FutureWarning: The frame.append method is deprecated and will be removed from pandas in a future version. Use pandas.concat instead.\n",
      "  df_aggregated=df_aggregated.append(df)\n"
     ]
    },
    {
     "name": "stdout",
     "output_type": "stream",
     "text": [
      "prices: 12\n",
      "['20.85', '10.45', '22.85', '14.55', '18.75', '18.75', '15.2', '16951.92', '26.05', '49.95', '163.55', '47.9']\n",
      "url_product: 12\n",
      "['Domaine Trénel, Moulin à vent, Cru de Beaujolais', 'Domaine Trénel, Coteaux-Bourguignons, Vin de Bourgogne', 'Domaine Trénel, Viré Clessé Chardonnay, Vin de Bourgogne', 'Domaine Trénel, Beaujolais Blanc', \"Domaine Bila-Haut,'Occultum Lapidem', Côtes-du-Roussillon Rouge\", \"Domaine Bila-Haut, 'Occultum Lapidem', Côtes-du-Roussillon Blanc\", 'M.Chapoutier, Muscat de Beaumes-de-Venise', '2009 Château Lynch Bages, 5ème Cru Classé, Pauillac', 'Pernand Vergelesses Rouge, Dubreuil -Fontaine', 'Chateau Pontac Lynch Cru, Bourgeois', 'Perrier-Jouët Belle Epoque', 'Mumm Cordon Rouge Brut']\n",
      "https://www.i-d-s.com/dubai/wine/wines-by-country/france.html?p=5\n"
     ]
    },
    {
     "name": "stderr",
     "output_type": "stream",
     "text": [
      "/var/folders/9z/sjrbpv9j1996t3_4wv3ry65c0000gn/T/ipykernel_65512/2389928353.py:74: FutureWarning: The frame.append method is deprecated and will be removed from pandas in a future version. Use pandas.concat instead.\n",
      "  df_aggregated=df_aggregated.append(df)\n"
     ]
    },
    {
     "name": "stdout",
     "output_type": "stream",
     "text": [
      "prices: 12\n",
      "['62.05', '75.65', '34.75', '87.6', '40.4', '15.2', '20.7', '22.85', '29.05', '16.55', '25.4', '45.85']\n",
      "url_product: 12\n",
      "['Moët &amp; Chandon Brut Impérial', 'Veuve Clicquot Yellow Label Brut', \"Champagne Charles Chevalier Brut d'Honneur\", 'Vranken Brut Nature VDC Magnum 1.5L with Gift Box', 'Vranken Brut Nature VDC with Gift Box', 'Perrin Cotes du Rhone Blanc Reserve', 'William Fevre Petit Chablis', 'Domaine Sautereau Sancerre', 'Les Cadrans de Lassègue Saint-Emilion, Grand Cru', \"Les Alexandrins Cotes du Rhone Rouge 'Terrasses de L'Eridan'\", 'Remoissenet Bourgogne Blanc', 'Chateau Marzy, Pomerol']\n",
      "https://www.i-d-s.com/dubai/wine/wines-by-country/france.html?p=6\n"
     ]
    },
    {
     "name": "stderr",
     "output_type": "stream",
     "text": [
      "/var/folders/9z/sjrbpv9j1996t3_4wv3ry65c0000gn/T/ipykernel_65512/2389928353.py:74: FutureWarning: The frame.append method is deprecated and will be removed from pandas in a future version. Use pandas.concat instead.\n",
      "  df_aggregated=df_aggregated.append(df)\n"
     ]
    },
    {
     "name": "stdout",
     "output_type": "stream",
     "text": [
      "prices: 12\n",
      "['26.4', '17.35', '20.25', '10729.04', '16.4', '1478.992', '12.6', '33.4', '19.85', '9.6', '8.55', '49']\n",
      "url_product: 12\n",
      "['Domaine des Bosquets `La Font des Bosquets` Gigondas', '\"La Côte Sauvage\" Cairanne', 'Domaine Henry Pellé Menetou-Salon Morogues', '2010 Château Beychevelle, 4ème Cru Classé, Saint-Julien', \"Domaine De La Roche Honneur Chinon 'Cuvée De Pâques' Organic\", '2015 Château Corbin, St Emilion', 'Château Turcaud Le Rosé', 'Château De Valois Cuvée Louise', 'Château Comtesse Du Parc - By Christophe Anney', \"Château L'Ermitage Cuvée Auzan Blanc\", 'Coudelier Original, Costières De Nîmes', 'Louis Latour Pinot Noir']\n",
      "https://www.i-d-s.com/dubai/wine/wines-by-country/france.html?p=7\n"
     ]
    },
    {
     "name": "stderr",
     "output_type": "stream",
     "text": [
      "/var/folders/9z/sjrbpv9j1996t3_4wv3ry65c0000gn/T/ipykernel_65512/2389928353.py:74: FutureWarning: The frame.append method is deprecated and will be removed from pandas in a future version. Use pandas.concat instead.\n",
      "  df_aggregated=df_aggregated.append(df)\n"
     ]
    },
    {
     "name": "stdout",
     "output_type": "stream",
     "text": [
      "prices: 12\n",
      "['26.95', '47.6', '55.95', '22.25', '14', '9.65', '48.4', '20.25', '8.85', '13.45', '36.8', '39.6']\n",
      "url_product: 12\n",
      "['Domaine Laroche Chablis St-Martin', 'Domaine Laroche, Chablis 1er Cru `Les Vaudevey`', 'Domanie Laroche, Chablis 1er Cru ‘Les Vaillons’ Vieilles Vignes', 'Château des Jacques, Fleurie', \"Boutinot Cairanne 'Les Six'\", 'Domaine La Font De Notre Dame Lirac', \"Cave De Tain 'Les Arènes Sauvages'&nbsp;Cornas\", 'Château Fabre Gasparets, Corbières-Boutenac [Organic]', 'Dune Gris De Gris IGP, Sable De Camargue', 'Clos Bagatelle, “Les Sentiers de Bagatelle a l’Origine “St Chinian Rouge', '\"M\" De Minuty Magnum (1.5L)', 'Château Enclos Haut-Mazeyres']\n",
      "https://www.i-d-s.com/dubai/wine/wines-by-country/france.html?p=8\n"
     ]
    },
    {
     "name": "stderr",
     "output_type": "stream",
     "text": [
      "/var/folders/9z/sjrbpv9j1996t3_4wv3ry65c0000gn/T/ipykernel_65512/2389928353.py:74: FutureWarning: The frame.append method is deprecated and will be removed from pandas in a future version. Use pandas.concat instead.\n",
      "  df_aggregated=df_aggregated.append(df)\n"
     ]
    },
    {
     "name": "stdout",
     "output_type": "stream",
     "text": [
      "prices: 12\n",
      "['10.3', '15.6', '10.4', '9.15', '13.3', '25.1', '32.93', '91', '75.7', '8390.4', '34.55', '84.45']\n",
      "url_product: 12\n",
      "['Mas De Lavail Carmin, Côtes Du Roussillon Villages', 'Puech De Fourques, Pic Saint Loup', 'Château De Hauterive Originel', 'Domaine Coulange Secret', 'Domaine Durieu, Ventoux', 'Château De Plaisance Coteaux De Layon 1Er Cru Chaume', 'Chateau Feret Lambert Bordeaux Superieur, Magnum (1.5L)', 'Beau Joie Rosé Champagne ', 'Beau Joie Brut Champagne ', '2012 Le Petit Cheval, Château Cheval Blanc, Saint Emilion Grand Cru', 'Paul Jaboulet Aine “Les Jalets” Crozes Hermitage “Blanc”', 'Remoissenet Puligny Montrachet']\n",
      "https://www.i-d-s.com/dubai/wine/wines-by-country/france.html?p=9\n"
     ]
    },
    {
     "name": "stderr",
     "output_type": "stream",
     "text": [
      "/var/folders/9z/sjrbpv9j1996t3_4wv3ry65c0000gn/T/ipykernel_65512/2389928353.py:74: FutureWarning: The frame.append method is deprecated and will be removed from pandas in a future version. Use pandas.concat instead.\n",
      "  df_aggregated=df_aggregated.append(df)\n"
     ]
    },
    {
     "name": "stdout",
     "output_type": "stream",
     "text": [
      "prices: 12\n",
      "['11.85', '17.5', '22.7', '18.2', '16.2', '9209.2', '98.1', '75.55', '21445.2', '3195.344', '29.4', '36.85']\n",
      "url_product: 12\n",
      "[\"Domaine de Gagnebert Les Chailloux, Cabernet d'Anjou\", \"Les Alexandrins Cotes du Rhone Blanc 'Terrasses de L'Eridan'\", 'Macon Rouge Maison Antoine Geoffroy', 'La Chablisienne, “Pas Si Petit” Petit Chablis', 'Baron Philippe de Rothschild, Réserve Mouton Cadet, Saint-Émilion', '2008 Château Calon Segur, 3ème Cru Classé, Saint-Estèphe', 'Remoissenet Chassagne Montrachet 1er Cru La Maltroie', 'Remoissenet Meursault Blanc', '2010 Château Figeac, 1st Grand Cru Classé, Saint-Emilion', '2016 Château Gloria, Saint Julien', 'Chateau Fleur La Mothe, Medoc Cru Bourgeois', 'Chateau Vieux Coutelin, Saint Estephe']\n",
      "https://www.i-d-s.com/dubai/wine/wines-by-country/france.html?p=10\n"
     ]
    },
    {
     "name": "stderr",
     "output_type": "stream",
     "text": [
      "/var/folders/9z/sjrbpv9j1996t3_4wv3ry65c0000gn/T/ipykernel_65512/2389928353.py:74: FutureWarning: The frame.append method is deprecated and will be removed from pandas in a future version. Use pandas.concat instead.\n",
      "  df_aggregated=df_aggregated.append(df)\n"
     ]
    },
    {
     "name": "stdout",
     "output_type": "stream",
     "text": [
      "prices: 12\n",
      "['21.85', '27.4', '15.7', '70.9', '29', '162.7', '13.75', '91.95', '17.8', '68.8', '36.9', '62.2']\n",
      "url_product: 12\n",
      "['Clos Magne Figeac, Saint Emilion', 'Domaine Millet Sancerre Blanc', 'Chateau Feret Lambert Bordeaux Superieur', 'La Chablisienne Chablis Grand Cru Les Clos', \"Domaine Michel Girault La Grappe d'Or “Pouilly-Fume”\", 'Remoissenet Chambolle Musigny Les Combottes', 'Chateau Turcaud, Entre deux Mers Blanc AOC', 'Remoissenet Meursault Premier Cru Les Cras', 'Domaine JM Lafont Brouilly “Les Roches”', 'Moët &amp; Chandon Brut Impérial Rosé', 'Gremillet Sélection Brut', 'Taittinger Brut Réserve']\n",
      "https://www.i-d-s.com/dubai/wine/wines-by-country/france.html?p=11\n"
     ]
    },
    {
     "name": "stderr",
     "output_type": "stream",
     "text": [
      "/var/folders/9z/sjrbpv9j1996t3_4wv3ry65c0000gn/T/ipykernel_65512/2389928353.py:74: FutureWarning: The frame.append method is deprecated and will be removed from pandas in a future version. Use pandas.concat instead.\n",
      "  df_aggregated=df_aggregated.append(df)\n"
     ]
    },
    {
     "name": "stdout",
     "output_type": "stream",
     "text": [
      "prices: 12\n",
      "['26.65', '29.95', '29', '113.05', '268.2', '18.85', '87.95', '87.55', '47.5', '59.05', '36.85', '15.5']\n",
      "url_product: 12\n",
      "['Domaine Heimbourger Les Terres Blanches, Chablis', 'Champagne Gatinois Grand Cru Tradition Brut', 'Domaine Michel Girault Les Beaux Regards, Sancerre Blanc', 'Laurent-Perrier Rosé', 'Krug Grande Cuvee Brut', 'Domaine Wiehlé Engelreben Riesling', 'Ruinart Brut', 'Veuve Clicquot Rosé', 'Champagne Gremillet Blanc de Noirs Brut', 'Laurent-Perrier Brut', 'Chateau Bellegrave Les Charmes, Pauillac', 'Chateau Lassalle Le Bergey, Graves']\n",
      "https://www.i-d-s.com/dubai/wine/wines-by-country/france.html?p=12\n"
     ]
    },
    {
     "name": "stderr",
     "output_type": "stream",
     "text": [
      "/var/folders/9z/sjrbpv9j1996t3_4wv3ry65c0000gn/T/ipykernel_65512/2389928353.py:74: FutureWarning: The frame.append method is deprecated and will be removed from pandas in a future version. Use pandas.concat instead.\n",
      "  df_aggregated=df_aggregated.append(df)\n"
     ]
    },
    {
     "name": "stdout",
     "output_type": "stream",
     "text": [
      "prices: 12\n",
      "['16.5', '33.1', '27', '90.45', '15.1', '41.15', '24.35', '11.7', '30.45', '47.1', '34.75', '55.15']\n",
      "url_product: 12\n",
      "['Chateau de Mazerolle La Gravelière Peyronne, Graves', 'Chateau Mancèdre Le Trettin, Pessac Leognan', 'Château Vitallis Saint-Véran', 'Chassagne-Montrachet `Vieilles Vignes`, Domaine Borgeot, Burgundy', 'Chateau Cailleteau-Bergeron Hauts de Bergeron, Blaye Cotes de Bordeaux Blanc', 'Domaine Maratray Dubreuil Savigny les Beaune 1er Cru Les Vergelesses', 'Chateau Lalande de Pez, Saint-Estèphe', 'Domaine Coulange Cuvée Bergoïata, Cotes du Rhone', 'Chateau Laborde, Lalande de Pomerol', 'Domaine Olivier Hillaire, Chateauneuf du Pape', 'Pernand-Vergelesses Blanc Domaine Dubreuil Fontaine', 'Domaine Faury, Condrieu']\n",
      "https://www.i-d-s.com/dubai/wine/wines-by-country/france.html?p=13\n"
     ]
    },
    {
     "name": "stderr",
     "output_type": "stream",
     "text": [
      "/var/folders/9z/sjrbpv9j1996t3_4wv3ry65c0000gn/T/ipykernel_65512/2389928353.py:74: FutureWarning: The frame.append method is deprecated and will be removed from pandas in a future version. Use pandas.concat instead.\n",
      "  df_aggregated=df_aggregated.append(df)\n"
     ]
    },
    {
     "name": "stdout",
     "output_type": "stream",
     "text": [
      "prices: 12\n",
      "['75.2', '162.8', '11.1', '59.4', '22.1', '362.49', '99.9', '67.43', '23.9', '162.92', '6.95', '21.5']\n",
      "url_product: 12\n",
      "['Gevrey-Chambertin, Remoissenet Père Et Fils', 'Remoissenet Corton Charlemagne Diamond Jubilee', 'Chateau Pradeau-Mazeau Cuvée Prestige Rosé, Bordeaux', 'Gervais Gobillard Prestige Blanc, Champagne', 'Emotion de Provence Prestige, Coteaux Varois Rosé', 'Remoissenet Clos Vougeot Grand Cru', 'Remoissenet Chablis Grand Cru Les Clos', 'Fernand &amp; Laurent Pillot Chassagne Montrachet 1er Cru \"Vide Bourse\"', 'Cave De Tain Crozes-Hermitage \"Sans Sulphites\" Exploration', 'Tardieu Laurent Hermitage', 'Bellefontaine Sauvignon Blanc', 'Domaine Wiehlé Seidenfaden Gewurztraminer']\n",
      "https://www.i-d-s.com/dubai/wine/wines-by-country/france.html?p=14\n"
     ]
    },
    {
     "name": "stderr",
     "output_type": "stream",
     "text": [
      "/var/folders/9z/sjrbpv9j1996t3_4wv3ry65c0000gn/T/ipykernel_65512/2389928353.py:74: FutureWarning: The frame.append method is deprecated and will be removed from pandas in a future version. Use pandas.concat instead.\n",
      "  df_aggregated=df_aggregated.append(df)\n"
     ]
    },
    {
     "name": "stdout",
     "output_type": "stream",
     "text": [
      "prices: 12\n",
      "['7.3', '9.3', '9.9', '40.45', '6.95', '8.85', '18.25', '22.55', '25.85', '30.05', '26.35', '43.8']\n",
      "url_product: 12\n",
      "['Bellefontaine Chardonnay', 'Baron Philippe de Rothschild Chardonnay', 'L’Ormarine Duc de Morny Picpoul de Pinet', 'Chateau Ségur de Cabanac, Saint-Estèphe', 'Bellefontaine Grenache Rosé', 'La Plume Cabernet Sauvignon', 'Emotion de Provence, Coteaux Varois Rosé', 'M de Minuty Rosé', 'Miraval, Côtes de Provence Rosé', 'Whispering Angel Rosé', \"Chateau Canon Saint-Michel (Organic) L'Authentique, Canon Fronsac\", 'Domaine Ott Rosé, Château Romassan']\n",
      "https://www.i-d-s.com/dubai/wine/wines-by-country/france.html?p=15\n"
     ]
    },
    {
     "name": "stderr",
     "output_type": "stream",
     "text": [
      "/var/folders/9z/sjrbpv9j1996t3_4wv3ry65c0000gn/T/ipykernel_65512/2389928353.py:74: FutureWarning: The frame.append method is deprecated and will be removed from pandas in a future version. Use pandas.concat instead.\n",
      "  df_aggregated=df_aggregated.append(df)\n"
     ]
    },
    {
     "name": "stdout",
     "output_type": "stream",
     "text": [
      "prices: 12\n",
      "['89.2', '20.1', '6.7', '31', '39.9', '7.8', '13.1', '7.8', '7.8', '7.8', '13.8', '14.9']\n",
      "url_product: 12\n",
      "['Château Minuty \"281\" Rosé', 'Chateau La Picherie Les Marronniers, Montagne Saint-Emilion', 'Bellefontaine Merlot', 'Chateau Gravet Renaissance, Grand Cru Saint-Emilion', 'Chateau Gravet Grande Rennaissance , Grand Cru Saint-Emilion', 'Baron Philippe de Rothschild Merlot', 'Chateau Pradeau-Mazeau Cuvée Prestige, Bordeaux Blanc', 'Baron Philippe de Rothschild Cabernet Sauvignon', 'Baron Philippe de Rothschild Syrah', 'Baron Philippe de Rothschild Pinot Noir', 'Cave de Turckheim Gewurztraminer', 'Cave de Turckheim Riesling Vieilles Vignes']\n",
      "https://www.i-d-s.com/dubai/wine/wines-by-country/france.html?p=16\n"
     ]
    },
    {
     "name": "stderr",
     "output_type": "stream",
     "text": [
      "/var/folders/9z/sjrbpv9j1996t3_4wv3ry65c0000gn/T/ipykernel_65512/2389928353.py:74: FutureWarning: The frame.append method is deprecated and will be removed from pandas in a future version. Use pandas.concat instead.\n",
      "  df_aggregated=df_aggregated.append(df)\n"
     ]
    },
    {
     "name": "stdout",
     "output_type": "stream",
     "text": [
      "prices: 12\n",
      "['24', '17.8', '11.4', '15.55', '31', '11.4', '7.95', '7.9', '35.75', '44.55', '9.4', '13.95']\n",
      "url_product: 12\n",
      "['Cave deTurckheim Grand Cru Riesling', 'Mas de Lavail Alhambra, Cotes du Roussillon Villages', \"Baron Philippe de Rothschild' Mouton Cadet Blanc\", 'Baron Philippe de Rothschild, Mouton Cadet Reserve Graves Blanc', 'Château Vieux Guinot La Petite Chapelle Saint-Emilion Grand Cru', 'Baron Philippe de Rothschild, Le Rose de Mouton Cadet', 'Château Bel Air Bordeaux Superieur', 'Schröder and Schÿler Chartron La Fleur Rouge', 'Chateau Lange Réglat', 'Gervais Gobillard Brut, Champagne', 'Château Buisson Redon', 'Château de Fontenille, Bordeaux Rouge']\n",
      "https://www.i-d-s.com/dubai/wine/wines-by-country/france.html?p=17\n"
     ]
    },
    {
     "name": "stderr",
     "output_type": "stream",
     "text": [
      "/var/folders/9z/sjrbpv9j1996t3_4wv3ry65c0000gn/T/ipykernel_65512/2389928353.py:74: FutureWarning: The frame.append method is deprecated and will be removed from pandas in a future version. Use pandas.concat instead.\n",
      "  df_aggregated=df_aggregated.append(df)\n"
     ]
    },
    {
     "name": "stdout",
     "output_type": "stream",
     "text": [
      "prices: 12\n",
      "['12.3', '12.85', '13.75', '10.5', '13.3', '10.35', '9.85', '60.15', '15.7', '23.85', '18.25', '67.9']\n",
      "url_product: 12\n",
      "['Baron Philippe de Rothschild Mouton Cadet Rouge', 'Château de Haux Rouge, Premières Côtes de Bordeaux', 'Baron Philippe de Rothschild, Mouton Cadet Heritage Rouge', 'Schröder and Schÿler Private Réserve Medoc', 'Château Roc de Ségur', 'Cavalier de la Méditerranée Chardonnay, IGP Pays d\"Oc', \"Cavalier de la Méditerranée Cabernet Sauvignon, Pays d'Oc\", 'Gervais Gobillard Prestige, Champagne Rosé', 'Baron Philippe de Rothschild, Reserve Mouton Cadet Medoc', 'Château Amour', 'Chateau de Hauterive Chemin de Compostelle Hauts de Vire, Cahors', 'Moët &amp; Chandon Ice Imperial']\n",
      "https://www.i-d-s.com/dubai/wine/wines-by-country/france.html?p=18\n"
     ]
    },
    {
     "name": "stderr",
     "output_type": "stream",
     "text": [
      "/var/folders/9z/sjrbpv9j1996t3_4wv3ry65c0000gn/T/ipykernel_65512/2389928353.py:74: FutureWarning: The frame.append method is deprecated and will be removed from pandas in a future version. Use pandas.concat instead.\n",
      "  df_aggregated=df_aggregated.append(df)\n"
     ]
    },
    {
     "name": "stdout",
     "output_type": "stream",
     "text": [
      "prices: 12\n",
      "['20.5', '16.6', '23.9', '56.05', '43.25', '14.8', '38.05', '12.9', '18.8', '29.15', '107.75', '75.3']\n",
      "url_product: 12\n",
      "['Château Macquin, Saint-Georges-Saint-Émilion, Bordeaux', 'Château Vieille Tour La Rose', 'Schröder and Schÿler Margaux Private Reserve', \"Chateau Durfort-Vivens,'Vivens', Margaux\", 'Chateau Le Coteau Cuvée Graveline, Margaux', 'Château de Musset Cuvée Compostelle, Lalande-de-Pomerol', 'Château Lalande', 'Chateau Haut-Bastor Les Grandes Vignes Bordeaux Moelleux Blanc', 'Louis Jadot Mâcon Villages Blanc', 'Louis Jadot Saint Véran', 'Domaine Chanson Chassagne-Montrachet', 'Domaine Chanson Puligny Montrachet']\n",
      "https://www.i-d-s.com/dubai/wine/wines-by-country/france.html?p=19\n"
     ]
    },
    {
     "name": "stderr",
     "output_type": "stream",
     "text": [
      "/var/folders/9z/sjrbpv9j1996t3_4wv3ry65c0000gn/T/ipykernel_65512/2389928353.py:74: FutureWarning: The frame.append method is deprecated and will be removed from pandas in a future version. Use pandas.concat instead.\n",
      "  df_aggregated=df_aggregated.append(df)\n"
     ]
    },
    {
     "name": "stdout",
     "output_type": "stream",
     "text": [
      "prices: 12\n",
      "['89.55', '138.9', '22.4', '47', '37.55', '37.55', '24.8', '81.25', '55.15', '12.75', '15.15', '24.55']\n",
      "url_product: 12\n",
      "['David Moret Meursault “Sous La Velle”', 'Meursault 1er Cru Les Charmes ,Xavier Monnot', 'La Chablisienne Chablis \"La Pierrelée\"', 'Piper-Heidsieck Cuvée Brut', 'La Chablisienne Chablis 1er Cru \"Beauroy\"', 'La Chablisienne Chablis 1er Cru \"Vaillons\"', 'Bouchard Père et Fils Côtes de Beaune Villages', 'Domaine Chanson Nuits Saint Georges', 'Gevrey Chambertin , Vallet Frères', 'Château de Belleverne Beaujolais Villages', 'La Madone Fleurie \"La Reine de l\\'Arenite\"', 'Domaine Chanson Morgon']\n",
      "https://www.i-d-s.com/dubai/wine/wines-by-country/france.html?p=20\n"
     ]
    },
    {
     "name": "stderr",
     "output_type": "stream",
     "text": [
      "/var/folders/9z/sjrbpv9j1996t3_4wv3ry65c0000gn/T/ipykernel_65512/2389928353.py:74: FutureWarning: The frame.append method is deprecated and will be removed from pandas in a future version. Use pandas.concat instead.\n",
      "  df_aggregated=df_aggregated.append(df)\n"
     ]
    },
    {
     "name": "stdout",
     "output_type": "stream",
     "text": [
      "prices: 12\n",
      "['11.3', '11.85', '17.3', '12.6', '32.1', '51.55', '14.25', '34.3', '8.2', '26.4', '45.55', '9.85']\n",
      "url_product: 12\n",
      "['Vouvray Demi Sec Les Coteaux Tufiers', 'Domaine Pré Baron Touraine Sauvignon Blanc', 'Chateau du Grand Plantier Caupos, Loupiac Blanc', 'Domaine de la Combe Reserve Personelle Vieilles Vignes, Muscadet Sevre et Maine Sur LieDomaine de la', 'Jean-Max Roger Menetou Salon Cuvée le Charnay', 'Baron de L. Pouilly Fumé', 'Pierre Sourdais Chinon Tradition', 'Chante Cigale Châteauneuf -du- Pape Blanc', 'Patrice Armand Côtes du Rhône La Chapelle de Marin', 'Domaine des Bosquets ‘la Font des Bosquets’ Gigondas', 'Chateau de Vaudieu,‘Grand Vin’, Châteauneuf-du-Pape Rouge', \"Cavalier de la Méditerranée Merlot IGP Pays d'Oc\"]\n",
      "https://www.i-d-s.com/dubai/wine/wines-by-country/france.html?p=21\n"
     ]
    },
    {
     "name": "stderr",
     "output_type": "stream",
     "text": [
      "/var/folders/9z/sjrbpv9j1996t3_4wv3ry65c0000gn/T/ipykernel_65512/2389928353.py:74: FutureWarning: The frame.append method is deprecated and will be removed from pandas in a future version. Use pandas.concat instead.\n",
      "  df_aggregated=df_aggregated.append(df)\n"
     ]
    },
    {
     "name": "stdout",
     "output_type": "stream",
     "text": [
      "prices: 1\n",
      "['544.4']\n",
      "url_product: 1\n",
      "['Dom Pérignon Vintage Rosé, in individual Gift Box']\n",
      "https://www.i-d-s.com/dubai/wine/wines-by-country/france.html?p=22\n"
     ]
    },
    {
     "name": "stderr",
     "output_type": "stream",
     "text": [
      "/var/folders/9z/sjrbpv9j1996t3_4wv3ry65c0000gn/T/ipykernel_65512/2389928353.py:74: FutureWarning: The frame.append method is deprecated and will be removed from pandas in a future version. Use pandas.concat instead.\n",
      "  df_aggregated=df_aggregated.append(df)\n"
     ]
    },
    {
     "name": "stdout",
     "output_type": "stream",
     "text": [
      "prices: 0\n",
      "[]\n",
      "url_product: 0\n",
      "[]\n"
     ]
    },
    {
     "name": "stderr",
     "output_type": "stream",
     "text": [
      "/var/folders/9z/sjrbpv9j1996t3_4wv3ry65c0000gn/T/ipykernel_65512/2389928353.py:74: FutureWarning: The frame.append method is deprecated and will be removed from pandas in a future version. Use pandas.concat instead.\n",
      "  df_aggregated=df_aggregated.append(df)\n"
     ]
    },
    {
     "name": "stdout",
     "output_type": "stream",
     "text": [
      "---------------\n",
      "argentina\n",
      "https://www.i-d-s.com/dubai/wine/wines-by-country/argentina.html?p=1\n",
      "prices: 12\n",
      "['112.95', '41.3', '30.5', '19.6', '19.55', '19.1', '8.95', '6.35', '6.45', '9', '6.75', '8.3']\n",
      "url_product: 12\n",
      "['Catena Zapata Argentino Malbec', 'Catena Alta Cabernet Sauvignon', 'Catena Alta Chardonnay', 'Catena Appellation Vista Flores Malbec', 'Catena Appellation Cabernet Franc', 'Catena Appellation Tupungato Chardonnay', 'Argento Malbec', 'Argento Sauvignon Blanc', 'Argento Chardonnay', 'Bodega Norton Finca la Colonia Torrontes', 'Argento Shiraz', 'Bodega Norton Finca La Colonia Merlot']\n",
      "https://www.i-d-s.com/dubai/wine/wines-by-country/argentina.html?p=2\n"
     ]
    },
    {
     "name": "stderr",
     "output_type": "stream",
     "text": [
      "/var/folders/9z/sjrbpv9j1996t3_4wv3ry65c0000gn/T/ipykernel_65512/2389928353.py:74: FutureWarning: The frame.append method is deprecated and will be removed from pandas in a future version. Use pandas.concat instead.\n",
      "  df_aggregated=df_aggregated.append(df)\n"
     ]
    },
    {
     "name": "stdout",
     "output_type": "stream",
     "text": [
      "prices: 3\n",
      "['7.75', '10', '28.2']\n",
      "url_product: 3\n",
      "['Kaiken Clásico, Mendoza Cabernet Sauvignon', 'Pablo y Walter Malbec', 'Bodega Norton Privada Family Blend']\n",
      "https://www.i-d-s.com/dubai/wine/wines-by-country/argentina.html?p=3\n"
     ]
    },
    {
     "name": "stderr",
     "output_type": "stream",
     "text": [
      "/var/folders/9z/sjrbpv9j1996t3_4wv3ry65c0000gn/T/ipykernel_65512/2389928353.py:74: FutureWarning: The frame.append method is deprecated and will be removed from pandas in a future version. Use pandas.concat instead.\n",
      "  df_aggregated=df_aggregated.append(df)\n"
     ]
    },
    {
     "name": "stdout",
     "output_type": "stream",
     "text": [
      "prices: 0\n",
      "[]\n",
      "url_product: 0\n",
      "[]\n",
      "---------------\n"
     ]
    },
    {
     "name": "stderr",
     "output_type": "stream",
     "text": [
      "/var/folders/9z/sjrbpv9j1996t3_4wv3ry65c0000gn/T/ipykernel_65512/2389928353.py:74: FutureWarning: The frame.append method is deprecated and will be removed from pandas in a future version. Use pandas.concat instead.\n",
      "  df_aggregated=df_aggregated.append(df)\n"
     ]
    },
    {
     "name": "stdout",
     "output_type": "stream",
     "text": [
      "australia\n",
      "https://www.i-d-s.com/dubai/wine/wines-by-country/australia.html?p=1\n",
      "prices: 12\n",
      "['14.55', '14.55', '14.55', '14.55', '54.5', '67.45', '14.55', '14.55', '18', '18', '83.25', '14.95']\n",
      "url_product: 12\n",
      "['Small Victories Rosé', 'Small Victories Pinot Gris', 'Small Victories Shiraz', 'Small Victories Sangiovese', \"Elderton 'Ashmead' Single Vineyard, Cabernet Sauvignon\", \"Elderton 'Command' Single Vineyard, Shiraz\", 'Elderton Estate Family Vineyards, Eden Valley Riesling', 'Elderton Estate Family Vineyards, Eden Valley Chardonnay', 'Elderton Estate Family Vineyards, Barossa Shiraz', 'Elderton Estate Family Vineyards, Barossa Cabernet Sauvignon', 'Cullen \"Diana Madeline\" Cabernet - Merlot', 'Fishbone Black Range Sauvignon Blanc']\n",
      "https://www.i-d-s.com/dubai/wine/wines-by-country/australia.html?p=2\n"
     ]
    },
    {
     "name": "stderr",
     "output_type": "stream",
     "text": [
      "/var/folders/9z/sjrbpv9j1996t3_4wv3ry65c0000gn/T/ipykernel_65512/2389928353.py:74: FutureWarning: The frame.append method is deprecated and will be removed from pandas in a future version. Use pandas.concat instead.\n",
      "  df_aggregated=df_aggregated.append(df)\n"
     ]
    },
    {
     "name": "stdout",
     "output_type": "stream",
     "text": [
      "prices: 12\n",
      "['18.45', '33.3', '19.05', '18.55', '15', '14.6', '14', '7.7', '7.2', '15.45', '15.45', '15.45']\n",
      "url_product: 12\n",
      "['Keith Tulloch Chardonnay', 'Keith Tulloch Kester Shiraz ', 'Keith Tulloch Shiraz/Viog', 'Keith Tulloch Semillon ', 'Songlines Grenache ', 'Rag &amp; Bone Riesling  ', 'The Black Craft Shiraz  ', 'Soldiers Block Malbec', 'Soldiers Block Chardonnay  ', 'Little Ripples Rosé', 'Little Ripples Chardonnay', 'Little Ripples Sauvignon Blanc']\n",
      "https://www.i-d-s.com/dubai/wine/wines-by-country/australia.html?p=3\n"
     ]
    },
    {
     "name": "stderr",
     "output_type": "stream",
     "text": [
      "/var/folders/9z/sjrbpv9j1996t3_4wv3ry65c0000gn/T/ipykernel_65512/2389928353.py:74: FutureWarning: The frame.append method is deprecated and will be removed from pandas in a future version. Use pandas.concat instead.\n",
      "  df_aggregated=df_aggregated.append(df)\n"
     ]
    },
    {
     "name": "stdout",
     "output_type": "stream",
     "text": [
      "prices: 12\n",
      "['17.55', '17.55', '24.85', '17.15', '28.7', '19.15', '29.65', '24.85', '24.85', '18.15', '18.15', '11.55']\n",
      "url_product: 12\n",
      "['Little Ripples Shiraz', 'Little Ripples Cabernet Sauvignon', 'Grant Burge Wines of Distinction The Holy Trinity Shiraz Grenache Mourvedre', 'Petaluma White Label Cabernet Sauvignon Coonawarra', 'St Hallett Blackwell Shiraz', 'St Hallett Gamekeepers Grenache Shiraz Touriga', 'Grant Burge Wines of Distinction Corryton Park Cabernet Sauvignon', 'Grant Burge Wines of Distinction Balthasar Shiraz', 'Grant Burge Wines of Distinction Filsell Shiraz', 'Petaluma White Label Sauvignon Blanc Adelaide Hills', 'Petaluma White Label Chardonnay Adelaide Hills', 'Xanadu Circa 77 Cabernet. Sauvignon']\n",
      "https://www.i-d-s.com/dubai/wine/wines-by-country/australia.html?p=4\n"
     ]
    },
    {
     "name": "stderr",
     "output_type": "stream",
     "text": [
      "/var/folders/9z/sjrbpv9j1996t3_4wv3ry65c0000gn/T/ipykernel_65512/2389928353.py:74: FutureWarning: The frame.append method is deprecated and will be removed from pandas in a future version. Use pandas.concat instead.\n",
      "  df_aggregated=df_aggregated.append(df)\n"
     ]
    },
    {
     "name": "stdout",
     "output_type": "stream",
     "text": [
      "prices: 12\n",
      "['11.55', '30.7', '49.35', '8.75', '27.95', '19.35', '22.2', '26.8', '63.35', '44', '13.7', '14.45']\n",
      "url_product: 12\n",
      "['Xanadu Circa 77 Chardonnay', '`Red Moon` Mangan Vineyard Wilyabrup Malbec/Petit Verdot/Merlot, Cullen', '`Mangan East Block` Margaret River, Cullen', '16 Stops, Chardonnay', 'Mount Horrocks `Watervale` Clare Valley Semillon', 'Innocent Bystander Yarra Valley Pinot Gris', 'Innocent Bystander Yarra Valley Chardonnay', 'Cullen `Mangan Vineyard` Sauvignon Blanc/Semillon, Margaret River', 'Dawson James Chardonnay', \"Giant Steps `Primavera Vineyard' Yarra Valley Pinot Noir\", 'Three Lions, Great Southern Sauvignon Blanc', 'Three Lions, Great Southern Chardonnay']\n",
      "https://www.i-d-s.com/dubai/wine/wines-by-country/australia.html?p=5\n"
     ]
    },
    {
     "name": "stderr",
     "output_type": "stream",
     "text": [
      "/var/folders/9z/sjrbpv9j1996t3_4wv3ry65c0000gn/T/ipykernel_65512/2389928353.py:74: FutureWarning: The frame.append method is deprecated and will be removed from pandas in a future version. Use pandas.concat instead.\n",
      "  df_aggregated=df_aggregated.append(df)\n"
     ]
    },
    {
     "name": "stdout",
     "output_type": "stream",
     "text": [
      "prices: 12\n",
      "['21.55', '15.95', '33.65', '13.95', '18.75', '30.3', '37.2', '37.3', '8.9', '84.1', '12.3', '10.95']\n",
      "url_product: 12\n",
      "['Plantagenet, Angevin Mount Barker Riesling', 'Three Lions Great Southern Cabernet/Merlot', 'Plantagenet `Aquitaine` Mount Barker Cabernet Sauvignon', 'Dandelion Vineyards `Lionheart of the Barossa` Shiraz', \"Peter Lehmann `The Barossan' Grenache\", 'Charles Melton, Rose Of Virginia Barossa Valley', 'Mount Horrocks Clare Valley Shiraz', 'Shaw+Smith Adelaide Hills Shiraz', '16 Stops, Shiraz', 'Dawson James Pinot Noir', 'Fishbone Cabernet Shiraz', \"d'Arenberg The Stump Jump White\"]\n",
      "https://www.i-d-s.com/dubai/wine/wines-by-country/australia.html?p=6\n"
     ]
    },
    {
     "name": "stderr",
     "output_type": "stream",
     "text": [
      "/var/folders/9z/sjrbpv9j1996t3_4wv3ry65c0000gn/T/ipykernel_65512/2389928353.py:74: FutureWarning: The frame.append method is deprecated and will be removed from pandas in a future version. Use pandas.concat instead.\n",
      "  df_aggregated=df_aggregated.append(df)\n"
     ]
    },
    {
     "name": "stdout",
     "output_type": "stream",
     "text": [
      "prices: 12\n",
      "['15.45', '7.35', '15.45', '19.75', '13.85', '18.85', '35.9', '6.5', '19.6', '19.8', '31.8', '12.45']\n",
      "url_product: 12\n",
      "[\"d'Arenberg The Olive Grove Chardonnay\", 'Yellow Tail Chardonnay', \"d'Arenberg The Hermit Crab Marsanne/Viognier\", 'Peter Lehmann Masters, Margaret Semillon, Barossa Valley', 'Peter Lehmann Hill &amp; Valley Chardonnay, Eden Valley', 'Shaw + Smith, Sauvignon Blanc , Adelaide Hills', 'Shaw + Smith \"M3\", Chardonnay, Adelaide Hills', \"Jacob's Creek Chardonnay\", 'Cape Mentelle Semillon/Sauvignon Blanc', 'Stella Bella Semillon Sauvignon Blanc', 'Clonakilla \"Hilltops\", Shiraz', 'Yering Station Village Shiraz']\n",
      "https://www.i-d-s.com/dubai/wine/wines-by-country/australia.html?p=7\n"
     ]
    },
    {
     "name": "stderr",
     "output_type": "stream",
     "text": [
      "/var/folders/9z/sjrbpv9j1996t3_4wv3ry65c0000gn/T/ipykernel_65512/2389928353.py:74: FutureWarning: The frame.append method is deprecated and will be removed from pandas in a future version. Use pandas.concat instead.\n",
      "  df_aggregated=df_aggregated.append(df)\n"
     ]
    },
    {
     "name": "stdout",
     "output_type": "stream",
     "text": [
      "prices: 12\n",
      "['8.15', '8.15', '11.35', '18.05', '17.75', '38.3', '31.65', '42.35', '6.7', '6.55', '9.8', '8.65']\n",
      "url_product: 12\n",
      "['Yellow Tail Shiraz', 'Yellow Tail Merlot', \"d'Arenberg The Stump Jump Red\", \"d'Arenberg The Footbolt Shiraz\", 'Peter Lehmann, The Barossan Shiraz , Barossa Valley', 'Peter Lehmann Masters, 8 Songs Shiraz, Barossa Valley', 'Henschke Henry’s Seven` Shiraz/Grenache/Mataro/Viognier, Barossa', 'Penfolds Bin 28 Kalimna Shiraz', \"Jacob's Creek Classic Shiraz Cabernet\", \"Jacob's Creek&nbsp;Classic Shiraz Rosé\", \"Jacob's Creek Sparkling Chardonnay Pinot Noir\", 'Yellow Tail Bubbles Brut Rosé']\n",
      "https://www.i-d-s.com/dubai/wine/wines-by-country/australia.html?p=8\n"
     ]
    },
    {
     "name": "stderr",
     "output_type": "stream",
     "text": [
      "/var/folders/9z/sjrbpv9j1996t3_4wv3ry65c0000gn/T/ipykernel_65512/2389928353.py:74: FutureWarning: The frame.append method is deprecated and will be removed from pandas in a future version. Use pandas.concat instead.\n",
      "  df_aggregated=df_aggregated.append(df)\n"
     ]
    },
    {
     "name": "stdout",
     "output_type": "stream",
     "text": [
      "prices: 1\n",
      "['9.9']\n",
      "url_product: 1\n",
      "[\"Jacob's Creek Sparkling Rosé\"]\n",
      "https://www.i-d-s.com/dubai/wine/wines-by-country/australia.html?p=9\n"
     ]
    },
    {
     "name": "stderr",
     "output_type": "stream",
     "text": [
      "/var/folders/9z/sjrbpv9j1996t3_4wv3ry65c0000gn/T/ipykernel_65512/2389928353.py:74: FutureWarning: The frame.append method is deprecated and will be removed from pandas in a future version. Use pandas.concat instead.\n",
      "  df_aggregated=df_aggregated.append(df)\n"
     ]
    },
    {
     "name": "stdout",
     "output_type": "stream",
     "text": [
      "prices: 0\n",
      "[]\n",
      "url_product: 0\n",
      "[]\n",
      "---------------\n"
     ]
    },
    {
     "name": "stderr",
     "output_type": "stream",
     "text": [
      "/var/folders/9z/sjrbpv9j1996t3_4wv3ry65c0000gn/T/ipykernel_65512/2389928353.py:74: FutureWarning: The frame.append method is deprecated and will be removed from pandas in a future version. Use pandas.concat instead.\n",
      "  df_aggregated=df_aggregated.append(df)\n"
     ]
    },
    {
     "name": "stdout",
     "output_type": "stream",
     "text": [
      "chile\n",
      "https://www.i-d-s.com/dubai/wine/wines-by-country/chile.html?p=1\n",
      "prices: 12\n",
      "['16.8', '13.85', '17.3', '17.85', '27.3', '29.6', '7.95', '7.1', '7.75', '8.2', '7.1', '17.5']\n",
      "url_product: 12\n",
      "['Casa Silva Gran Terroir De Los Andes Angostura Chardonnay', 'Montes Alpha Carmenère , Colchagua', 'Montes Alpha Syrah', 'Morandé, Chardonnay Gran Reserva', 'Morandé Adventure, Vigno Carignan', 'Casa Silva, Cool Coast Pinot Noir', 'Casillero del Diablo Shiraz Rosé', 'Sierra Grande Cabernet Sauvignon', 'Casillero del Diablo Carménère', 'Casillero Del Diablo, Cabernet Sauvignon', 'Sierra Grande Pinot Noir', 'Morandé, Cabernet Sauvignon Gran Reserva']\n",
      "https://www.i-d-s.com/dubai/wine/wines-by-country/chile.html?p=2\n"
     ]
    },
    {
     "name": "stderr",
     "output_type": "stream",
     "text": [
      "/var/folders/9z/sjrbpv9j1996t3_4wv3ry65c0000gn/T/ipykernel_65512/2389928353.py:74: FutureWarning: The frame.append method is deprecated and will be removed from pandas in a future version. Use pandas.concat instead.\n",
      "  df_aggregated=df_aggregated.append(df)\n"
     ]
    },
    {
     "name": "stdout",
     "output_type": "stream",
     "text": [
      "prices: 1\n",
      "['6.7']\n",
      "url_product: 1\n",
      "['Cono Sur Bicicleta Pinot Noir']\n",
      "https://www.i-d-s.com/dubai/wine/wines-by-country/chile.html?p=3\n"
     ]
    },
    {
     "name": "stderr",
     "output_type": "stream",
     "text": [
      "/var/folders/9z/sjrbpv9j1996t3_4wv3ry65c0000gn/T/ipykernel_65512/2389928353.py:74: FutureWarning: The frame.append method is deprecated and will be removed from pandas in a future version. Use pandas.concat instead.\n",
      "  df_aggregated=df_aggregated.append(df)\n"
     ]
    },
    {
     "name": "stdout",
     "output_type": "stream",
     "text": [
      "prices: 0\n",
      "[]\n",
      "url_product: 0\n",
      "[]\n"
     ]
    },
    {
     "name": "stderr",
     "output_type": "stream",
     "text": [
      "/var/folders/9z/sjrbpv9j1996t3_4wv3ry65c0000gn/T/ipykernel_65512/2389928353.py:74: FutureWarning: The frame.append method is deprecated and will be removed from pandas in a future version. Use pandas.concat instead.\n",
      "  df_aggregated=df_aggregated.append(df)\n"
     ]
    },
    {
     "name": "stdout",
     "output_type": "stream",
     "text": [
      "---------------\n",
      "new_zealand\n",
      "https://www.i-d-s.com/dubai/wine/wines-by-country/new-zealand.html?p=1\n",
      "prices: 12\n",
      "['23.97', '20.6', '28.55', '28.25', '14.9', '14.9', '18.75', '18.4', '19.15', '24.05', '39.35', '21.3']\n",
      "url_product: 12\n",
      "['Loveblock Marlborough Sauvignon Blanc ', 'Spy Valley Marlborough Sauvignon Blanc', 'Trinity Hill `The Gimblett` Gimblett Gravels', 'Trinity Hill, Gimblett Gravels Syrah', 'Tinpot Hut Pinot Gris', 'Tinpot Hut Sauvignon Blanc', 'Framingham Marlborough Classic Riesling', 'Framingham Marlborough Pinot Gris', 'Tinpot Hut `McKee Vineyard` Grüner Veltliner', 'Greywacke Pinot Gris', 'Greywacke Chardonnay', 'Tinpot Hut Pinot Noir']\n",
      "https://www.i-d-s.com/dubai/wine/wines-by-country/new-zealand.html?p=2\n"
     ]
    },
    {
     "name": "stderr",
     "output_type": "stream",
     "text": [
      "/var/folders/9z/sjrbpv9j1996t3_4wv3ry65c0000gn/T/ipykernel_65512/2389928353.py:74: FutureWarning: The frame.append method is deprecated and will be removed from pandas in a future version. Use pandas.concat instead.\n",
      "  df_aggregated=df_aggregated.append(df)\n"
     ]
    },
    {
     "name": "stdout",
     "output_type": "stream",
     "text": [
      "prices: 12\n",
      "['31.5', '30.1', '79.8', '64.45', '23.4', '15.35', '19.85', '18.9', '23.9', '12.7', '19.75', '18.9']\n",
      "url_product: 12\n",
      "[\"Ata Rangi `Lismore' Pinot Gris\", \"Ata Rangi `Crimson' Pinot Noir\", 'Ata Rangi Pinot Noir', 'Burn Cottage Vineyard, Pinot Noir Central Otago', 'Kim Crawford Pinot Noir', 'Kim Crawford Sauvignon Blanc', 'Ata Rangi, `Te Wa` Martinborough Sauvignon Blanc', 'Trinity Hill, Hawkes Bay Chardonnay', 'Greywacke Marlborough Riesling', 'MOKO Black Sauvignon Blanc', 'Sileni Estates ‘The Lodge’ Grand Reserve Chardonnay, Hawke’s Bay', 'The Trinity, Trinity Hill, Hawkes Bay']\n",
      "https://www.i-d-s.com/dubai/wine/wines-by-country/new-zealand.html?p=3\n"
     ]
    },
    {
     "name": "stderr",
     "output_type": "stream",
     "text": [
      "/var/folders/9z/sjrbpv9j1996t3_4wv3ry65c0000gn/T/ipykernel_65512/2389928353.py:74: FutureWarning: The frame.append method is deprecated and will be removed from pandas in a future version. Use pandas.concat instead.\n",
      "  df_aggregated=df_aggregated.append(df)\n"
     ]
    },
    {
     "name": "stdout",
     "output_type": "stream",
     "text": [
      "prices: 6\n",
      "['11.85', '11.85', '12.15', '13.35', '15.5', '14.6']\n",
      "url_product: 6\n",
      "['Oyster Bay Chardonnay', 'Villa Maria Private Bin East Coast Chardonnay', 'Villa Maria Private Bin Dry Riesling', 'Villa Maria Private Bin Sauvignon Blanc', 'MOKO Black Pinot Noir', 'Oyster Bay Sparkling Cuvée Brut']\n",
      "https://www.i-d-s.com/dubai/wine/wines-by-country/new-zealand.html?p=4\n"
     ]
    },
    {
     "name": "stderr",
     "output_type": "stream",
     "text": [
      "/var/folders/9z/sjrbpv9j1996t3_4wv3ry65c0000gn/T/ipykernel_65512/2389928353.py:74: FutureWarning: The frame.append method is deprecated and will be removed from pandas in a future version. Use pandas.concat instead.\n",
      "  df_aggregated=df_aggregated.append(df)\n"
     ]
    },
    {
     "name": "stdout",
     "output_type": "stream",
     "text": [
      "prices: 0\n",
      "[]\n",
      "url_product: 0\n",
      "[]\n",
      "---------------\n"
     ]
    },
    {
     "name": "stderr",
     "output_type": "stream",
     "text": [
      "/var/folders/9z/sjrbpv9j1996t3_4wv3ry65c0000gn/T/ipykernel_65512/2389928353.py:74: FutureWarning: The frame.append method is deprecated and will be removed from pandas in a future version. Use pandas.concat instead.\n",
      "  df_aggregated=df_aggregated.append(df)\n"
     ]
    },
    {
     "name": "stdout",
     "output_type": "stream",
     "text": [
      "south_africa\n",
      "https://www.i-d-s.com/dubai/wine/wines-by-country/south-africa.html?p=1\n",
      "prices: 12\n",
      "['14', '9.5', '19', '30.15', '15.15', '10.6', '12.95', '8', '7.25', '11', '10.1', '10.6']\n",
      "url_product: 12\n",
      "['Spice Route Chenin Blanc, Swartland', 'Front Row Shiraz/Mourvèdre/Viognier, Swartland', \"Babylon's Peak Shiraz-Mourvedre-Grenache SMG\", 'Fairview `The Beacon`Shiraz, Swartland', 'ROSE Coterie Cinsault Rosé', 'Lanzerac Chenin Blanc ', 'Mooiplaas Pinotage', 'Fleur Du Cap, Essence Du Cap Chardonnay', 'Fleur Du Cap, Essence Du Cap Sauvignon Blanc', 'Nederburg Private Collection Sauvignon Blanc', 'Fleur Du Cap, Essence Du Cap Pinotage', 'Fleur Du Cap, Essence Du Cap Cabernet Sauvignon']\n",
      "https://www.i-d-s.com/dubai/wine/wines-by-country/south-africa.html?p=2\n"
     ]
    },
    {
     "name": "stderr",
     "output_type": "stream",
     "text": [
      "/var/folders/9z/sjrbpv9j1996t3_4wv3ry65c0000gn/T/ipykernel_65512/2389928353.py:74: FutureWarning: The frame.append method is deprecated and will be removed from pandas in a future version. Use pandas.concat instead.\n",
      "  df_aggregated=df_aggregated.append(df)\n"
     ]
    },
    {
     "name": "stdout",
     "output_type": "stream",
     "text": [
      "prices: 8\n",
      "['10.6', '7', '8.4', '9.15', '9.15', '9.15', '11.95', '11.95']\n",
      "url_product: 8\n",
      "['Fleur Du Cap, Essence Du Cap Merlot', 'KWV Cabernet Sauvignon', \"Nederburg The Winemaster's Pinotage\", \"Nederburg The Winemaster's Cabernet Sauvignon\", \"Nederburg The Winemaster's  Shiraz \", 'Nederburg Winemasters Merlot', 'Nederburg Private Collection Cabernet Sauvignon', 'Nederburg Private Collection Shiraz']\n",
      "https://www.i-d-s.com/dubai/wine/wines-by-country/south-africa.html?p=3\n"
     ]
    },
    {
     "name": "stderr",
     "output_type": "stream",
     "text": [
      "/var/folders/9z/sjrbpv9j1996t3_4wv3ry65c0000gn/T/ipykernel_65512/2389928353.py:74: FutureWarning: The frame.append method is deprecated and will be removed from pandas in a future version. Use pandas.concat instead.\n",
      "  df_aggregated=df_aggregated.append(df)\n"
     ]
    },
    {
     "name": "stdout",
     "output_type": "stream",
     "text": [
      "prices: 0\n",
      "[]\n",
      "url_product: 0\n",
      "[]\n"
     ]
    },
    {
     "name": "stderr",
     "output_type": "stream",
     "text": [
      "/var/folders/9z/sjrbpv9j1996t3_4wv3ry65c0000gn/T/ipykernel_65512/2389928353.py:74: FutureWarning: The frame.append method is deprecated and will be removed from pandas in a future version. Use pandas.concat instead.\n",
      "  df_aggregated=df_aggregated.append(df)\n"
     ]
    },
    {
     "name": "stdout",
     "output_type": "stream",
     "text": [
      "---------------\n",
      "uk\n",
      "https://www.i-d-s.com/dubai/wine/wines-by-country/united-kingdom.html?p=1\n",
      "prices: 11\n",
      "['20.5', '31.75', '56.95', '63.05', '32.25', '32.25', '40.5', '18.2', '19.65', '16.7', '40.8']\n",
      "url_product: 11\n",
      "['Sharpham Estate Little Bee Wild Ferment Pinot Gris', 'Bolney Bubbly Sparkling', 'Nyetimber Classic Cuvee Multi-Vintage,', 'Nyetimber Blanc de Blancs', 'Chapel Down Classic Non-Vintage Brut', 'Chapel Down English Sparkling Rosé', 'Henners Brut, Sussex', 'Sharpham Dart Valley Reserve', 'Rathfinny Cradle Valley, Pinot Blanc', 'Henners Gardner Street Classic', 'Litmus Red Pinot 2018']\n",
      "https://www.i-d-s.com/dubai/wine/wines-by-country/united-kingdom.html?p=2\n"
     ]
    },
    {
     "name": "stderr",
     "output_type": "stream",
     "text": [
      "/var/folders/9z/sjrbpv9j1996t3_4wv3ry65c0000gn/T/ipykernel_65512/2389928353.py:74: FutureWarning: The frame.append method is deprecated and will be removed from pandas in a future version. Use pandas.concat instead.\n",
      "  df_aggregated=df_aggregated.append(df)\n"
     ]
    },
    {
     "name": "stdout",
     "output_type": "stream",
     "text": [
      "prices: 0\n",
      "[]\n",
      "url_product: 0\n",
      "[]\n",
      "---------------\n"
     ]
    },
    {
     "name": "stderr",
     "output_type": "stream",
     "text": [
      "/var/folders/9z/sjrbpv9j1996t3_4wv3ry65c0000gn/T/ipykernel_65512/2389928353.py:74: FutureWarning: The frame.append method is deprecated and will be removed from pandas in a future version. Use pandas.concat instead.\n",
      "  df_aggregated=df_aggregated.append(df)\n"
     ]
    },
    {
     "name": "stdout",
     "output_type": "stream",
     "text": [
      "usa\n",
      "https://www.i-d-s.com/dubai/wine/wines-by-country/usa.html?p=1\n",
      "prices: 12\n",
      "['19.9', '14.9', '40.7', '10.95', '10.95', '10.95', '10.95', '11.65', '11.65', '11.65', '11.65', '16.9']\n",
      "url_product: 12\n",
      "['Caymus Mer Soleil Chardonnay', \"Kendall-Jackson Vintner's Reserve Riesling, Monterey\", 'The Prisoner Red Zinfandel Blend, Napa Valley', 'Leaping Horse Chardonnay', 'Leaping Horse Pinot Grigio', 'Leaping Horse Cabernet Sauvignon', 'Leaping Horse Merlot', 'Obsession Symphony-Peach', 'Obsession Red Blend', 'Obsession Rose', 'Obsession Symphony', 'Fog Mountain, Merlot']\n",
      "https://www.i-d-s.com/dubai/wine/wines-by-country/usa.html?p=2\n"
     ]
    },
    {
     "name": "stderr",
     "output_type": "stream",
     "text": [
      "/var/folders/9z/sjrbpv9j1996t3_4wv3ry65c0000gn/T/ipykernel_65512/2389928353.py:74: FutureWarning: The frame.append method is deprecated and will be removed from pandas in a future version. Use pandas.concat instead.\n",
      "  df_aggregated=df_aggregated.append(df)\n"
     ]
    },
    {
     "name": "stdout",
     "output_type": "stream",
     "text": [
      "prices: 12\n",
      "['18.8', '5.2', '5.2', '4.8', '5.2', '8.35', '5.2', '5.2', '5.2', '5.2', '12.65', '26.65']\n",
      "url_product: 12\n",
      "['Caymus Conundrum White Blend', 'Barefoot Moscato', 'Barefoot Chardonnay', 'Carlo Rossi Rosé', 'Barefoot White Zinfandel', 'Liberty Creek Cabernet Sauvignon Magnum (1.5L)', 'Barefoot Merlot', 'Barefoot Pinot Noir', 'Barefoot Cabernet Sauvignon', 'Barefoot Sweet Red', 'Murphy Goode Merlot', \"Kendall-Jackson Vintner's Reserve Merlot, Sonoma County\"]\n",
      "https://www.i-d-s.com/dubai/wine/wines-by-country/usa.html?p=3\n"
     ]
    },
    {
     "name": "stderr",
     "output_type": "stream",
     "text": [
      "/var/folders/9z/sjrbpv9j1996t3_4wv3ry65c0000gn/T/ipykernel_65512/2389928353.py:74: FutureWarning: The frame.append method is deprecated and will be removed from pandas in a future version. Use pandas.concat instead.\n",
      "  df_aggregated=df_aggregated.append(df)\n"
     ]
    },
    {
     "name": "stdout",
     "output_type": "stream",
     "text": [
      "prices: 12\n",
      "['28.7', '24', '20.05', '32.45', '35.45', '26.65', '26.95', '15.3', '24.95', '19.9', '27.75', '5.2']\n",
      "url_product: 12\n",
      "['Freemark Abbey Sauvignon Blanc, Napa Valley', 'La Crema Pinot Noir, Monterey', \"Kendall-Jackson Vintner's Reserve Zinfandel, Mendocino\", \"Kendall-Jackson 'Jackson Estate' Pinot Noir, Anderson Valley\", 'Kendall-Jackson Grand Reserve Pinot Noir, Anderson Valley', \"Kendall-Jackson Vintner's Reserve Cabernet Sauvignon, Sonoma County\", 'Murphy-Goode \"Liar\\'s Dice\" Zinfandel, Sonoma County', 'Murphy-Goode North Coast Sauvignon Blanc', 'Cambria Estate \"Katherine\\'s Vineyard\" Chardonnay', 'Nielson Chardonnay, Santa Barbara', 'Byron Nielson Vineyard Chardonnay', 'Canyon Road Chardonnay']\n",
      "https://www.i-d-s.com/dubai/wine/wines-by-country/usa.html?p=4\n"
     ]
    },
    {
     "name": "stderr",
     "output_type": "stream",
     "text": [
      "/var/folders/9z/sjrbpv9j1996t3_4wv3ry65c0000gn/T/ipykernel_65512/2389928353.py:74: FutureWarning: The frame.append method is deprecated and will be removed from pandas in a future version. Use pandas.concat instead.\n",
      "  df_aggregated=df_aggregated.append(df)\n"
     ]
    },
    {
     "name": "stdout",
     "output_type": "stream",
     "text": [
      "prices: 12\n",
      "['5.7', '8.35', '7.25', '19.4', '17.1', '19', '14', '34.55', '10.65', '12.35', '12.35', '12.35']\n",
      "url_product: 12\n",
      "['Gallo Family Vineyards Sauvignon Blanc', 'Liberty Creek Chardonnay Magnum (1.5L)', 'Barefoot Bubbly Pinot Grigio', 'Ironstone Vineyards Reserve Chardonnay', 'Charles Smith Devil Merlot', 'Columbia Crest, Grand Estates Cabernet Sauvignon', 'Columbia Crest, Two Vines Merlot', 'Jordan Vineyard &amp; Winery Chardonnay', 'Callaway Merlot', 'Line 39 Merlot', 'Line 39 Excursion Red Blend', 'Line 39 Petite Sirah']\n",
      "https://www.i-d-s.com/dubai/wine/wines-by-country/usa.html?p=5\n"
     ]
    },
    {
     "name": "stderr",
     "output_type": "stream",
     "text": [
      "/var/folders/9z/sjrbpv9j1996t3_4wv3ry65c0000gn/T/ipykernel_65512/2389928353.py:74: FutureWarning: The frame.append method is deprecated and will be removed from pandas in a future version. Use pandas.concat instead.\n",
      "  df_aggregated=df_aggregated.append(df)\n"
     ]
    },
    {
     "name": "stdout",
     "output_type": "stream",
     "text": [
      "prices: 12\n",
      "['58.45', '20.05', '17.8', '21', '20.85', '40.55', '14.2', '9.15', '13.55', '6.95', '8.3', '8.3']\n",
      "url_product: 12\n",
      "['Jordan Vineyard &amp; Winery Cabernet Sauvignon', \"Kendall-Jackson Vintner's Reserve Sauvignon Blanc, California\", 'Murphy-Goode Red Wine, California', \"Kendall-Jackson Vintner's Reserve Pinot Noir, California\", 'Francis Ford Coppola Merlot Diamond', \"Stag's Leap Wine Cellars 'Karia' Chardonnay\", 'Bread &amp; Butter Chardonnay', 'Dark Horse Sauvignon Blanc', 'Wente Vineyards Morning Fog Chardonnay', 'The Bulletin Zinfandel Rosé', 'Douglass Hill Shiraz', 'Douglass Hill Cabernet Sauvignon']\n",
      "https://www.i-d-s.com/dubai/wine/wines-by-country/usa.html?p=6\n"
     ]
    },
    {
     "name": "stderr",
     "output_type": "stream",
     "text": [
      "/var/folders/9z/sjrbpv9j1996t3_4wv3ry65c0000gn/T/ipykernel_65512/2389928353.py:74: FutureWarning: The frame.append method is deprecated and will be removed from pandas in a future version. Use pandas.concat instead.\n",
      "  df_aggregated=df_aggregated.append(df)\n"
     ]
    },
    {
     "name": "stdout",
     "output_type": "stream",
     "text": [
      "prices: 12\n",
      "['8.6', '8.9', '9.15', '14.15', '14.15', '14.15', '12.15', '23.2', '23.2', '12.65', '62.3', '74.9']\n",
      "url_product: 12\n",
      "['Glen Ellen Reserve Cabernet Sauvignon', 'Cabaret Frank No.2 \"The Aviary\", Old Vine Cabernet Franc', 'Dark Horse Zinfandel', 'Wente Vineyards Southern Hills Cabernet Sauvignon', 'Wente Vineyards Beyer Ranch Zinfandel', 'Wente Vineyards Sandstone Merlot', 'Apothic Red', 'Wente Vineyards Charles Wetmore Cabernet Sauvignon', 'Wente Vineyards Riva Ranch Pinot Noir', 'Murphy Goode Pinot Noir', 'Stag\\'s Leap Wine Cellars \"Artemis\" Cabernet Sauvignon', 'Pine Ridge Vineyards Cabernet Sauvignon']\n",
      "https://www.i-d-s.com/dubai/wine/wines-by-country/usa.html?p=7\n"
     ]
    },
    {
     "name": "stderr",
     "output_type": "stream",
     "text": [
      "/var/folders/9z/sjrbpv9j1996t3_4wv3ry65c0000gn/T/ipykernel_65512/2389928353.py:74: FutureWarning: The frame.append method is deprecated and will be removed from pandas in a future version. Use pandas.concat instead.\n",
      "  df_aggregated=df_aggregated.append(df)\n"
     ]
    },
    {
     "name": "stdout",
     "output_type": "stream",
     "text": [
      "prices: 1\n",
      "['22.15']\n",
      "url_product: 1\n",
      "['Chateau Ste. Michelle Syrah']\n",
      "https://www.i-d-s.com/dubai/wine/wines-by-country/usa.html?p=8\n"
     ]
    },
    {
     "name": "stderr",
     "output_type": "stream",
     "text": [
      "/var/folders/9z/sjrbpv9j1996t3_4wv3ry65c0000gn/T/ipykernel_65512/2389928353.py:74: FutureWarning: The frame.append method is deprecated and will be removed from pandas in a future version. Use pandas.concat instead.\n",
      "  df_aggregated=df_aggregated.append(df)\n"
     ]
    },
    {
     "name": "stdout",
     "output_type": "stream",
     "text": [
      "prices: 0\n",
      "[]\n",
      "url_product: 0\n",
      "[]\n"
     ]
    },
    {
     "name": "stderr",
     "output_type": "stream",
     "text": [
      "/var/folders/9z/sjrbpv9j1996t3_4wv3ry65c0000gn/T/ipykernel_65512/2389928353.py:74: FutureWarning: The frame.append method is deprecated and will be removed from pandas in a future version. Use pandas.concat instead.\n",
      "  df_aggregated=df_aggregated.append(df)\n"
     ]
    },
    {
     "name": "stdout",
     "output_type": "stream",
     "text": [
      "---------------\n",
      "germany\n",
      "https://www.i-d-s.com/dubai/wine/wines-by-country/germany.html?p=1\n",
      "prices: 12\n",
      "['47.7', '16.35', '21.6', '14.5', '16.15', '14.05', '10.92', '14.5', '10.5', '15.7', '8.25', '7.85']\n",
      "url_product: 12\n",
      "['Balthasar Ress Wiisselbrunnen Riesling GG Trocken', 'Von Othegraven Riesling Kabinett Feinherb', 'Von Othegraven Altenberg Riesling Kabinett', 'Alde Gott Einblick Grauburgunder Kabinett Trocken', 'Alde Gott Ausblick Grauburgunder Spätlese Trocken', 'Divino Terroir Weissburgunder Thüngersheimer Johannisberg', 'Schwedhelm Dornfelder', 'Weinbiet&nbsp; Philipp Bassler Spätburgunder Großes Gewachs', 'Cleebroon &amp; Guglingen Sankt M Lemberger', 'Cleebroon &amp; Guglingen Herzog C Lemberger', 'J. Baumer Riesling QBA', 'Villa Franz Riesling']\n",
      "https://www.i-d-s.com/dubai/wine/wines-by-country/germany.html?p=2\n"
     ]
    },
    {
     "name": "stderr",
     "output_type": "stream",
     "text": [
      "/var/folders/9z/sjrbpv9j1996t3_4wv3ry65c0000gn/T/ipykernel_65512/2389928353.py:74: FutureWarning: The frame.append method is deprecated and will be removed from pandas in a future version. Use pandas.concat instead.\n",
      "  df_aggregated=df_aggregated.append(df)\n"
     ]
    },
    {
     "name": "stdout",
     "output_type": "stream",
     "text": [
      "prices: 7\n",
      "['14.95', '35.6', '30.1', '21', '35.2', '44.3', '45.75']\n",
      "url_product: 7\n",
      "['Balthasar Ress Von Unserm Riesling QBA Trocken', 'Balthasar Ress Hattenheim Nussbrunnen Riesling Spatlese', 'Weingut Knipser Kalkmergel Spätburgunder Trocken QBA', 'Balthasar Ress, Von Unserm Spatburgunder Pinot Noir QBA Trocken', 'Balthasar Ress \"32\" Riesling Rheingauner Landwein', 'Batlhasar Ress Rudesheim Berg Rottland Riesling Auslese', 'Balthasar Ress Erbach Marcobrunn Riesling Auslese']\n",
      "https://www.i-d-s.com/dubai/wine/wines-by-country/germany.html?p=3\n"
     ]
    },
    {
     "name": "stderr",
     "output_type": "stream",
     "text": [
      "/var/folders/9z/sjrbpv9j1996t3_4wv3ry65c0000gn/T/ipykernel_65512/2389928353.py:74: FutureWarning: The frame.append method is deprecated and will be removed from pandas in a future version. Use pandas.concat instead.\n",
      "  df_aggregated=df_aggregated.append(df)\n"
     ]
    },
    {
     "name": "stdout",
     "output_type": "stream",
     "text": [
      "prices: 0\n",
      "[]\n",
      "url_product: 0\n",
      "[]\n"
     ]
    },
    {
     "name": "stderr",
     "output_type": "stream",
     "text": [
      "/var/folders/9z/sjrbpv9j1996t3_4wv3ry65c0000gn/T/ipykernel_65512/2389928353.py:74: FutureWarning: The frame.append method is deprecated and will be removed from pandas in a future version. Use pandas.concat instead.\n",
      "  df_aggregated=df_aggregated.append(df)\n"
     ]
    },
    {
     "name": "stdout",
     "output_type": "stream",
     "text": [
      "---------------\n",
      "italy\n",
      "https://www.i-d-s.com/dubai/wine/wines-by-country/italy.html?p=1\n",
      "prices: 12\n",
      "['9.2', '17.1', '27.9', '17.6', '20.55', '27.95', '24.2', '5.3', '5.8', '7.4', '8.6', '10.85']\n",
      "url_product: 12\n",
      "['Zonin Moscato', 'Cristina Ascheri Langhe Arneis DOC', 'Vesevo Taurasi Ensis Docg', \"Cà Dei Frati 'I Frati' Lugana\", 'Fontafredda Briccotondo Dolcetto', 'Mandrarossa Bertolino Soprano Grillo Wooden Box', 'Mandrarossa Cartagho Nero D’Avola', 'Ponte Pietra Trebbiano/Garg Del Veneto', 'Alpha Zeta `G` Garganega', 'Ca Di Alte Sauvignon', 'Cantina Di Monteforte Soave Classico Superiore Montegrande', 'Sartori Marzemino Villa Mura']\n",
      "https://www.i-d-s.com/dubai/wine/wines-by-country/italy.html?p=2\n"
     ]
    },
    {
     "name": "stderr",
     "output_type": "stream",
     "text": [
      "/var/folders/9z/sjrbpv9j1996t3_4wv3ry65c0000gn/T/ipykernel_65512/2389928353.py:74: FutureWarning: The frame.append method is deprecated and will be removed from pandas in a future version. Use pandas.concat instead.\n",
      "  df_aggregated=df_aggregated.append(df)\n"
     ]
    },
    {
     "name": "stdout",
     "output_type": "stream",
     "text": [
      "prices: 12\n",
      "['20.35', '27.25', '77', '52', '46.8', '56.05', '41.75', '13.4', '15.6', '15.6', '15.2', '21.8']\n",
      "url_product: 12\n",
      "['Prunotto Barbera d’Alba, Piemonte', 'Fontafredda Briccotondo Piemonte Barbera ', 'Tenuta Argiano, Brunello di Montalcino ', 'Castello di Monsanto, Chianti Classico DOCG Riserva', 'Grattamacco, Bolgheri Rosso', \"Barolo 'La Morra', Corino Giovanni di Corino Giuliano\", \"Bellavista, 'Alma’ Franciacorta Gran Cuvee Brut ,NV\", 'Santa Margherita, Merlot IGT', 'Santa Margherita, Sparkling Rosè', 'Santa Margherita, Prosecco DOCG', 'Santa Margherita, Pinot Grigio Valdadige DOC ', 'Contrada Monte Gorna \" Etna Rosso\" (Organic)']\n",
      "https://www.i-d-s.com/dubai/wine/wines-by-country/italy.html?p=3\n"
     ]
    },
    {
     "name": "stderr",
     "output_type": "stream",
     "text": [
      "/var/folders/9z/sjrbpv9j1996t3_4wv3ry65c0000gn/T/ipykernel_65512/2389928353.py:74: FutureWarning: The frame.append method is deprecated and will be removed from pandas in a future version. Use pandas.concat instead.\n",
      "  df_aggregated=df_aggregated.append(df)\n"
     ]
    },
    {
     "name": "stdout",
     "output_type": "stream",
     "text": [
      "prices: 12\n",
      "['11.35', '21.85', '10.65', '17.75', '21.5', '7.25', '7.15', '26.15', '18', '9.2', '11.6', '10.9']\n",
      "url_product: 12\n",
      "['Mandrarossa Costadune Grillo', 'Allegrini Oasi Mantellina Lugana', \"Cantine Belisario Verdicchio `Terre Di Valbona'\", 'Vesevo Greco Di Tufo Docg', 'Poggio Al Tesoro, Alegrini Estates `Cassiopea` Bolgheri Rosato', 'Mandrarossa Casa Mia Catarratto', 'Mandrarossa Casa Mia Alicante Syrah', 'Allegrini Estates Rosso Di Montalcino, San Polo', 'Allegrini Estates Rubio, San Polo', 'Mediceo Chianti', 'Corte Giara Bardolino', 'Vigneti Del Salento I Muri Primitivo']\n",
      "https://www.i-d-s.com/dubai/wine/wines-by-country/italy.html?p=4\n"
     ]
    },
    {
     "name": "stderr",
     "output_type": "stream",
     "text": [
      "/var/folders/9z/sjrbpv9j1996t3_4wv3ry65c0000gn/T/ipykernel_65512/2389928353.py:74: FutureWarning: The frame.append method is deprecated and will be removed from pandas in a future version. Use pandas.concat instead.\n",
      "  df_aggregated=df_aggregated.append(df)\n"
     ]
    },
    {
     "name": "stdout",
     "output_type": "stream",
     "text": [
      "prices: 12\n",
      "['14.35', '14.65', '10.2', '16.25', '28.2', '13.25', '13.7', '12.75', '36.95', '9.95', '11.3', '17.8']\n",
      "url_product: 12\n",
      "[\"Cantine Belisario Lacrima Di Morro D'Alba\", 'Antichi Poderi Jerzu Cannonau Bantu', 'Alpha Zeta V` Valpolicella', 'Alpha Zeta `R` Valpolicella Superiore Ripasso', 'Pieropan Ruberpan` Valpolicella Superiore', 'Vigneto Del Vulture Aglianico Pipoli', 'Purato Catarratto/Pinot Grigio, Sicily - Organic', 'Ripa Delle Mandorle IGT Toscana Rosso, Vicchiomaggio', \"Montresor Amarone della Valpolicella 'Satinato'\", 'Vicchiomaggio \"Floreale\" Rosato, Toscana IGT', 'San Jacope IGT Toscano Vermentino', 'Lugarara, Gavi Di Gavi , La Giustiniana, Piemonte']\n",
      "https://www.i-d-s.com/dubai/wine/wines-by-country/italy.html?p=5\n"
     ]
    },
    {
     "name": "stderr",
     "output_type": "stream",
     "text": [
      "/var/folders/9z/sjrbpv9j1996t3_4wv3ry65c0000gn/T/ipykernel_65512/2389928353.py:74: FutureWarning: The frame.append method is deprecated and will be removed from pandas in a future version. Use pandas.concat instead.\n",
      "  df_aggregated=df_aggregated.append(df)\n"
     ]
    },
    {
     "name": "stdout",
     "output_type": "stream",
     "text": [
      "prices: 12\n",
      "['5.95', '73.3', '7.25', '215.45', '11', '13.65', '18.9', '20.45', '10.65', '17.1', '13.55', '5.7']\n",
      "url_product: 12\n",
      "['Lambrusco Rosso Minini', 'Brunello Di Montalcino, San Polo, Tuscany', 'Ripa Delle Mandorle IGT Toscana Bianco, Vicchiomaggio', 'FSM Castello Vicchiomaggio, Merlot Toscana IGT', 'Araldica Gavi DOCG La Luciana', 'Terre Antiche, Gavi di Gavi, Piemonte', 'Ascheri Langhe Nebbiolo DOC San Giacomo', 'Nicola Bergaglio, Gavi di Gavi \"Vigneto Ciapon\" DOCG', 'Mandrarossa Viognier Le Sénie', 'Contrada Monte San Nicolo Etna Bianco (Organic)', 'Antichi Poderi Jerzu \"Telavè\", Vermentino di Sardegna', 'Via Nova Pinot Grigio IGT']\n",
      "https://www.i-d-s.com/dubai/wine/wines-by-country/italy.html?p=6\n"
     ]
    },
    {
     "name": "stderr",
     "output_type": "stream",
     "text": [
      "/var/folders/9z/sjrbpv9j1996t3_4wv3ry65c0000gn/T/ipykernel_65512/2389928353.py:74: FutureWarning: The frame.append method is deprecated and will be removed from pandas in a future version. Use pandas.concat instead.\n",
      "  df_aggregated=df_aggregated.append(df)\n"
     ]
    },
    {
     "name": "stdout",
     "output_type": "stream",
     "text": [
      "prices: 12\n",
      "['6.7', '27.75', '9.3', '15.7', '8.15', '22.95', '5.2', '30.35', '32.1', '10.8', '10.8', '32.85']\n",
      "url_product: 12\n",
      "['Alpha Zeta,`S` Soave DOC, Veneto', \"Pieropan 'Calvarino', Soave Classico, Veneto\", 'Lamberti Pinot Grigio IGT', 'Pinot Grigio Piave La di Motte', 'Fontana Candida Frascati Superiore DOCG', 'Antinori San Giovanni della Sala Orvieto Classico Superiore', 'Rometta Sangiovese Rubicone IGT', 'Prunotto, Occhetti Langhe, Nebbiolo, Piedmont', 'Patrizi Barolo DOCG', \"Mandrarossa Nero d'Avola Costadune\", 'Planeta La Segreta Rosso IGT', \"Poggio al Tesoro, 'Il Seggio' Bolgheri, Tuscany\"]\n",
      "https://www.i-d-s.com/dubai/wine/wines-by-country/italy.html?p=7\n"
     ]
    },
    {
     "name": "stderr",
     "output_type": "stream",
     "text": [
      "/var/folders/9z/sjrbpv9j1996t3_4wv3ry65c0000gn/T/ipykernel_65512/2389928353.py:74: FutureWarning: The frame.append method is deprecated and will be removed from pandas in a future version. Use pandas.concat instead.\n",
      "  df_aggregated=df_aggregated.append(df)\n"
     ]
    },
    {
     "name": "stdout",
     "output_type": "stream",
     "text": [
      "prices: 12\n",
      "['48.5', '5.2', '15.85', '15.85', '85.7', '11.65', '18.4', '15.85', '11.85', '26.2', '24.35', '26.95']\n",
      "url_product: 12\n",
      "['Bottega Brunello Di Montalcino', 'Via Nova Merlot del Veneto IGT', 'Sartori \"Regolo\" Valpolicella Superiore Ripasso DOC', 'Allegrini Valpolicella DOC', 'Allegrini Amarone della Valpolicella Classico DOCG', 'Ceradello Prosecco Spumante Brut', 'Prunotto Moscato d’Asti', 'Ruggeri Prosecco Argeo Brut', 'Martini Asti Spumante', 'Bottega Prosecco Gold Brut', 'Alasia Rosé Brut, Alta Langa', 'Bottega Prosecco Brut Rosé']\n",
      "https://www.i-d-s.com/dubai/wine/wines-by-country/italy.html?p=8\n"
     ]
    },
    {
     "name": "stderr",
     "output_type": "stream",
     "text": [
      "/var/folders/9z/sjrbpv9j1996t3_4wv3ry65c0000gn/T/ipykernel_65512/2389928353.py:74: FutureWarning: The frame.append method is deprecated and will be removed from pandas in a future version. Use pandas.concat instead.\n",
      "  df_aggregated=df_aggregated.append(df)\n"
     ]
    },
    {
     "name": "stdout",
     "output_type": "stream",
     "text": [
      "prices: 1\n",
      "['58.4']\n",
      "url_product: 1\n",
      "['Ferrari Perlé Rosé Riserva']\n",
      "https://www.i-d-s.com/dubai/wine/wines-by-country/italy.html?p=9\n"
     ]
    },
    {
     "name": "stderr",
     "output_type": "stream",
     "text": [
      "/var/folders/9z/sjrbpv9j1996t3_4wv3ry65c0000gn/T/ipykernel_65512/2389928353.py:74: FutureWarning: The frame.append method is deprecated and will be removed from pandas in a future version. Use pandas.concat instead.\n",
      "  df_aggregated=df_aggregated.append(df)\n"
     ]
    },
    {
     "name": "stdout",
     "output_type": "stream",
     "text": [
      "prices: 0\n",
      "[]\n",
      "url_product: 0\n",
      "[]\n"
     ]
    },
    {
     "name": "stderr",
     "output_type": "stream",
     "text": [
      "/var/folders/9z/sjrbpv9j1996t3_4wv3ry65c0000gn/T/ipykernel_65512/2389928353.py:74: FutureWarning: The frame.append method is deprecated and will be removed from pandas in a future version. Use pandas.concat instead.\n",
      "  df_aggregated=df_aggregated.append(df)\n"
     ]
    },
    {
     "name": "stdout",
     "output_type": "stream",
     "text": [
      "---------------\n",
      "spain\n",
      "https://www.i-d-s.com/dubai/wine/wines-by-country/spain.html?p=1\n",
      "prices: 12\n",
      "['16.1', '10.5', '6.9', '15.9', '10.7', '15.6', '13.6', '13.3', '9.65', '10.05', '10.6', '15.05']\n",
      "url_product: 12\n",
      "['Paco &amp; Lola Albarino, Rias Baixas', 'Bodegas Medina Marqués De Badajoz Cava Brut Reserva', 'Vins El Cep Ot Blanc De Terrer Macebeo', 'Vins El Cep Clot Del Roure Xarel-Lo', 'Vins El Cep Gr5 Senders Negre De Terrer( Tempranillo/Cabernet/Merlot/Syrah)', 'Les Cousins Marc &amp; Adrià \"L`Inconscient\", Priorat', 'E De Esperanza Verdejo Organic', 'Pittacum Bierzo, Mencia', 'Gran Bierzo \"Bierzo 8 Meses\" (Monastrell/Syrah)', \"Bodegas Castro Ventosa 'El Castro De Valtuille' Mencia Joven\", 'Martín Codax Cuatro Pasos Mencia', 'Emilio Moro Finca Resalso, Tempranillo']\n",
      "https://www.i-d-s.com/dubai/wine/wines-by-country/spain.html?p=2\n"
     ]
    },
    {
     "name": "stderr",
     "output_type": "stream",
     "text": [
      "/var/folders/9z/sjrbpv9j1996t3_4wv3ry65c0000gn/T/ipykernel_65512/2389928353.py:74: FutureWarning: The frame.append method is deprecated and will be removed from pandas in a future version. Use pandas.concat instead.\n",
      "  df_aggregated=df_aggregated.append(df)\n"
     ]
    },
    {
     "name": "stdout",
     "output_type": "stream",
     "text": [
      "prices: 12\n",
      "['14.7', '11.6', '12.9', '9.95', '12.75', '9.95', '17.85', '19.7', '9.7', '8.45', '9.9', '7.25']\n",
      "url_product: 12\n",
      "['Maurodos \"Prima Toro De Mauro\", Tempranillo', 'Enate Rosado, Cabernet Sauvignon', '12 Lunas Tinto', 'Enate, Cabernet/Merlot', 'Baltasar Gracián Blanco De Hielo, Macebeo, Baltasar Gracián', 'Antonio Montero Godello,', 'Bodegas Godeval \"Godeval\", Godello', 'Pazo San Mauro, Albariño, Rias Baixas', 'Adegas Valminor Minius Mencia', 'Bobal De San Juan Tinto', 'Bodegas Vegalfaro \"Rebel.Lia Seleccion Especial Organic\" (Bobal/Tempranillo/Garnacha Tintorera/', 'Bodegas Alceño \"Alceno Roble 4 Meses\",( Monastrell/Syrah)']\n",
      "https://www.i-d-s.com/dubai/wine/wines-by-country/spain.html?p=3\n"
     ]
    },
    {
     "name": "stderr",
     "output_type": "stream",
     "text": [
      "/var/folders/9z/sjrbpv9j1996t3_4wv3ry65c0000gn/T/ipykernel_65512/2389928353.py:74: FutureWarning: The frame.append method is deprecated and will be removed from pandas in a future version. Use pandas.concat instead.\n",
      "  df_aggregated=df_aggregated.append(df)\n"
     ]
    },
    {
     "name": "stdout",
     "output_type": "stream",
     "text": [
      "prices: 12\n",
      "['9.2', '11.25', '9.3', '10.4', '11.35', '13.85', '21.3', '18.5', '10.95', '52.8', '7.95', '20.3']\n",
      "url_product: 12\n",
      "['Alceno Gil 4 Meses Amarillo, Monastrell/Syrah, Juan Gil', 'Alceno Syrah 50 Barricas, Monastrell/Syrah, Bodegas Alceño', 'Bodegas Tagonius \"Tagonius Blanco\" (Malvar/Moscatel/Sauvignon Blanc)', 'Casa De Monroy \"Alceno De Monroy Garnacha Y Syrah 3M\", (Monastrell/Syrah)', 'Viñas Del Regajal \"Las Retamas Del Regaja', 'Bodegas Alejandro Fernandez\" El Vinculo Tempranillo (Crianza)', 'Vins El Cep, Mim Natura Blanc De Noirs Gran Reserva, Organic Pinot Noir/Chardonnay', 'Anna Blanc De Blancs, Codorníu Brut Reserva', \"Vins El Cep, L'Alzinar Reserva Brut, Chardonnay/Parellada\", \"Marques De Murrieta 'Capellania'&nbsp; Blanco Reserva\", 'Jf Arriezu Joven Tinto (50% Organic Tempranillo And 50% Organic Garnacha)', 'Ramón Bilbao Edición Limitada, Rioja']\n",
      "https://www.i-d-s.com/dubai/wine/wines-by-country/spain.html?p=4\n"
     ]
    },
    {
     "name": "stderr",
     "output_type": "stream",
     "text": [
      "/var/folders/9z/sjrbpv9j1996t3_4wv3ry65c0000gn/T/ipykernel_65512/2389928353.py:74: FutureWarning: The frame.append method is deprecated and will be removed from pandas in a future version. Use pandas.concat instead.\n",
      "  df_aggregated=df_aggregated.append(df)\n"
     ]
    },
    {
     "name": "stdout",
     "output_type": "stream",
     "text": [
      "prices: 12\n",
      "['37.8', '42.8', '9.2', '51.25', '55', '10.65', '17.1', '25.5', '16.95', '9.9', '15.5', '13.2']\n",
      "url_product: 12\n",
      "['Bodega Contador Predicador Rioja,', 'Cvne Imperial Reserva, Rioja', 'Jf Arriezu Verdejo Rueda blanc', 'Ossian Viñas Viejas Vedejo', 'Shaya Habis Verdejo , Rueda', 'Adegas Valminor \"Abade Do Couto\" El Rebelde ( Souzao/Caino Tinto/Alvarelhao)', \"Adegas Valminor'Davila O Rasal (Albarino/Loureiro/Treixadura)\", \"L'Atzar Priorat\", 'Bodegas Protos Roble', 'Miguel Torres Viña Esmeralda Blanco', 'Rías Baixas Albariño, Martín Códax, Galicia', 'La Val Vina Ludy Albariño']\n",
      "https://www.i-d-s.com/dubai/wine/wines-by-country/spain.html?p=5\n"
     ]
    },
    {
     "name": "stderr",
     "output_type": "stream",
     "text": [
      "/var/folders/9z/sjrbpv9j1996t3_4wv3ry65c0000gn/T/ipykernel_65512/2389928353.py:74: FutureWarning: The frame.append method is deprecated and will be removed from pandas in a future version. Use pandas.concat instead.\n",
      "  df_aggregated=df_aggregated.append(df)\n"
     ]
    },
    {
     "name": "stdout",
     "output_type": "stream",
     "text": [
      "prices: 8\n",
      "['9.6', '194.12', '28.4', '9.05', '9.6', '7.3', '14.8', '16.35']\n",
      "url_product: 8\n",
      "['Bodega Navajas Rioja Rosado', 'Torres Vina Sol.', 'Merum Priorati Ardiles Priorat', 'Miguel Torres Sangre de Toro', 'Bodegas Navajas Rioja Tinto', 'Campo Viejo Tempranillo', 'Beronia Crianza', 'Campo Viejo Rioja Gran Reserva']\n",
      "https://www.i-d-s.com/dubai/wine/wines-by-country/spain.html?p=6\n"
     ]
    },
    {
     "name": "stderr",
     "output_type": "stream",
     "text": [
      "/var/folders/9z/sjrbpv9j1996t3_4wv3ry65c0000gn/T/ipykernel_65512/2389928353.py:74: FutureWarning: The frame.append method is deprecated and will be removed from pandas in a future version. Use pandas.concat instead.\n",
      "  df_aggregated=df_aggregated.append(df)\n"
     ]
    },
    {
     "name": "stdout",
     "output_type": "stream",
     "text": [
      "prices: 0\n",
      "[]\n",
      "url_product: 0\n",
      "[]\n"
     ]
    },
    {
     "name": "stderr",
     "output_type": "stream",
     "text": [
      "/var/folders/9z/sjrbpv9j1996t3_4wv3ry65c0000gn/T/ipykernel_65512/2389928353.py:74: FutureWarning: The frame.append method is deprecated and will be removed from pandas in a future version. Use pandas.concat instead.\n",
      "  df_aggregated=df_aggregated.append(df)\n"
     ]
    },
    {
     "name": "stdout",
     "output_type": "stream",
     "text": [
      "---------------\n",
      "rest-of-the-world\n",
      "https://www.i-d-s.com/dubai/wine/wines-by-country/rest-of-the-world.html?p=1\n",
      "prices: 12\n",
      "['29.75', '13.15', '56.95', '14.4', '14.4', '23.95', '23.95', '12.95', '28.2', '16.8', '21.55', '18.9']\n",
      "url_product: 12\n",
      "['Project B Sauvignon Blanc', \"Taylor's Fine Ruby Port\", 'Nyetimber Classic Cuvee Multi-Vintage,', 'Sepp Moser Grüner Veltliner Organic', 'Sepp Moser Zweigelt Organic', 'Trius Sauvignon Blanc', 'Trius Merlot', 'Alpha Estate Malagouzia Single Vineyard Turtles', 'Alpha Estate Red', 'Alpha Estate Xinomavro Single Vineyard Hedgehog', 'Ktima Gerovassiliou Malagousia', 'Ktima Gerovassiliou White']\n",
      "https://www.i-d-s.com/dubai/wine/wines-by-country/rest-of-the-world.html?p=2\n"
     ]
    },
    {
     "name": "stderr",
     "output_type": "stream",
     "text": [
      "/var/folders/9z/sjrbpv9j1996t3_4wv3ry65c0000gn/T/ipykernel_65512/2389928353.py:74: FutureWarning: The frame.append method is deprecated and will be removed from pandas in a future version. Use pandas.concat instead.\n",
      "  df_aggregated=df_aggregated.append(df)\n"
     ]
    },
    {
     "name": "stdout",
     "output_type": "stream",
     "text": [
      "prices: 11\n",
      "['29.15', '22.2', '13.05', '22.2', '33.75', '34.8', '12.65', '11.5', '9.05', '6.8', '7.25']\n",
      "url_product: 11\n",
      "['Ktima Gerovassiliou AVATON', 'Teliani Valley Glekhuri Kisi Qvevri', 'Teliani Valley Saperavi', 'Teliani Valley Glekhuri Kisiskhevi Saperavi Qvevri', 'Grace Koshu Private Reserve, Grace Winery Grace Yamanashi', 'Grace Koshu Hishiyama, Private Reserve, Grace Winery, Yamanashi', 'Château Ksara Blanc de Blancs', 'Château Ksara Sunset Rosé', 'Vinho Verde Loureiro/Alvarinho, Azevedo, Portugal', 'Mateus Rosé', 'Terra Franca,Vinho Regional Tinto']\n",
      "https://www.i-d-s.com/dubai/wine/wines-by-country/rest-of-the-world.html?p=3\n"
     ]
    },
    {
     "name": "stderr",
     "output_type": "stream",
     "text": [
      "/var/folders/9z/sjrbpv9j1996t3_4wv3ry65c0000gn/T/ipykernel_65512/2389928353.py:74: FutureWarning: The frame.append method is deprecated and will be removed from pandas in a future version. Use pandas.concat instead.\n",
      "  df_aggregated=df_aggregated.append(df)\n"
     ]
    },
    {
     "name": "stdout",
     "output_type": "stream",
     "text": [
      "prices: 0\n",
      "[]\n",
      "url_product: 0\n",
      "[]\n"
     ]
    },
    {
     "name": "stderr",
     "output_type": "stream",
     "text": [
      "/var/folders/9z/sjrbpv9j1996t3_4wv3ry65c0000gn/T/ipykernel_65512/2389928353.py:74: FutureWarning: The frame.append method is deprecated and will be removed from pandas in a future version. Use pandas.concat instead.\n",
      "  df_aggregated=df_aggregated.append(df)\n"
     ]
    },
    {
     "name": "stdout",
     "output_type": "stream",
     "text": [
      "---------------\n"
     ]
    }
   ],
   "source": [
    "df_wine_diplo=get_data(parameters[0],executable_path)"
   ]
  },
  {
   "cell_type": "code",
   "execution_count": 197,
   "id": "00f28d70",
   "metadata": {
    "scrolled": false
   },
   "outputs": [
    {
     "data": {
      "text/html": [
       "<div>\n",
       "<style scoped>\n",
       "    .dataframe tbody tr th:only-of-type {\n",
       "        vertical-align: middle;\n",
       "    }\n",
       "\n",
       "    .dataframe tbody tr th {\n",
       "        vertical-align: top;\n",
       "    }\n",
       "\n",
       "    .dataframe thead th {\n",
       "        text-align: right;\n",
       "    }\n",
       "</style>\n",
       "<table border=\"1\" class=\"dataframe\">\n",
       "  <thead>\n",
       "    <tr style=\"text-align: right;\">\n",
       "      <th></th>\n",
       "      <th>0</th>\n",
       "      <th>1</th>\n",
       "      <th>country</th>\n",
       "    </tr>\n",
       "  </thead>\n",
       "  <tbody>\n",
       "    <tr>\n",
       "      <th>0</th>\n",
       "      <td>42.05</td>\n",
       "      <td>Domaine Cailbourdin, Pouilly-Sur-Loire, Pouill...</td>\n",
       "      <td>france</td>\n",
       "    </tr>\n",
       "    <tr>\n",
       "      <th>1</th>\n",
       "      <td>75.6</td>\n",
       "      <td>Maison Antoine Geoffroy, Beaune, Gevrey Chambe...</td>\n",
       "      <td>france</td>\n",
       "    </tr>\n",
       "    <tr>\n",
       "      <th>2</th>\n",
       "      <td>148.85</td>\n",
       "      <td>Domaine Daniel-Etienne Defaix, Chablis Grand C...</td>\n",
       "      <td>france</td>\n",
       "    </tr>\n",
       "    <tr>\n",
       "      <th>3</th>\n",
       "      <td>75.6</td>\n",
       "      <td>Domaine Daniel-Etienne Defaix, Chablis Vieille...</td>\n",
       "      <td>france</td>\n",
       "    </tr>\n",
       "    <tr>\n",
       "      <th>4</th>\n",
       "      <td>3139.59</td>\n",
       "      <td>2016 Château Duhart-Milon Rothschild, 4eme Cru...</td>\n",
       "      <td>france</td>\n",
       "    </tr>\n",
       "    <tr>\n",
       "      <th>...</th>\n",
       "      <td>...</td>\n",
       "      <td>...</td>\n",
       "      <td>...</td>\n",
       "    </tr>\n",
       "    <tr>\n",
       "      <th>6</th>\n",
       "      <td>12.65</td>\n",
       "      <td>Château Ksara Blanc de Blancs</td>\n",
       "      <td>rest-of-the-world</td>\n",
       "    </tr>\n",
       "    <tr>\n",
       "      <th>7</th>\n",
       "      <td>11.5</td>\n",
       "      <td>Château Ksara Sunset Rosé</td>\n",
       "      <td>rest-of-the-world</td>\n",
       "    </tr>\n",
       "    <tr>\n",
       "      <th>8</th>\n",
       "      <td>9.05</td>\n",
       "      <td>Vinho Verde Loureiro/Alvarinho, Azevedo, Portugal</td>\n",
       "      <td>rest-of-the-world</td>\n",
       "    </tr>\n",
       "    <tr>\n",
       "      <th>9</th>\n",
       "      <td>6.8</td>\n",
       "      <td>Mateus Rosé</td>\n",
       "      <td>rest-of-the-world</td>\n",
       "    </tr>\n",
       "    <tr>\n",
       "      <th>10</th>\n",
       "      <td>7.25</td>\n",
       "      <td>Terra Franca,Vinho Regional Tinto</td>\n",
       "      <td>rest-of-the-world</td>\n",
       "    </tr>\n",
       "  </tbody>\n",
       "</table>\n",
       "<p>671 rows × 3 columns</p>\n",
       "</div>"
      ],
      "text/plain": [
       "          0                                                  1  \\\n",
       "0     42.05  Domaine Cailbourdin, Pouilly-Sur-Loire, Pouill...   \n",
       "1      75.6  Maison Antoine Geoffroy, Beaune, Gevrey Chambe...   \n",
       "2    148.85  Domaine Daniel-Etienne Defaix, Chablis Grand C...   \n",
       "3      75.6  Domaine Daniel-Etienne Defaix, Chablis Vieille...   \n",
       "4   3139.59  2016 Château Duhart-Milon Rothschild, 4eme Cru...   \n",
       "..      ...                                                ...   \n",
       "6     12.65                      Château Ksara Blanc de Blancs   \n",
       "7      11.5                          Château Ksara Sunset Rosé   \n",
       "8      9.05  Vinho Verde Loureiro/Alvarinho, Azevedo, Portugal   \n",
       "9       6.8                                        Mateus Rosé   \n",
       "10     7.25                  Terra Franca,Vinho Regional Tinto   \n",
       "\n",
       "              country  \n",
       "0              france  \n",
       "1              france  \n",
       "2              france  \n",
       "3              france  \n",
       "4              france  \n",
       "..                ...  \n",
       "6   rest-of-the-world  \n",
       "7   rest-of-the-world  \n",
       "8   rest-of-the-world  \n",
       "9   rest-of-the-world  \n",
       "10  rest-of-the-world  \n",
       "\n",
       "[671 rows x 3 columns]"
      ]
     },
     "execution_count": 197,
     "metadata": {},
     "output_type": "execute_result"
    }
   ],
   "source": [
    "df_wine_diplo"
   ]
  },
  {
   "cell_type": "code",
   "execution_count": 198,
   "id": "6c59bbed",
   "metadata": {},
   "outputs": [],
   "source": [
    "df_wine_diplo['vivino_url']=''\n",
    "df_wine_diplo['vivino_rating']=''"
   ]
  },
  {
   "cell_type": "code",
   "execution_count": 199,
   "id": "4873daee",
   "metadata": {},
   "outputs": [
    {
     "data": {
      "text/html": [
       "<div>\n",
       "<style scoped>\n",
       "    .dataframe tbody tr th:only-of-type {\n",
       "        vertical-align: middle;\n",
       "    }\n",
       "\n",
       "    .dataframe tbody tr th {\n",
       "        vertical-align: top;\n",
       "    }\n",
       "\n",
       "    .dataframe thead th {\n",
       "        text-align: right;\n",
       "    }\n",
       "</style>\n",
       "<table border=\"1\" class=\"dataframe\">\n",
       "  <thead>\n",
       "    <tr style=\"text-align: right;\">\n",
       "      <th></th>\n",
       "      <th>0</th>\n",
       "      <th>1</th>\n",
       "      <th>country</th>\n",
       "      <th>vivino_url</th>\n",
       "      <th>vivino_rating</th>\n",
       "    </tr>\n",
       "  </thead>\n",
       "  <tbody>\n",
       "    <tr>\n",
       "      <th>0</th>\n",
       "      <td>42.05</td>\n",
       "      <td>Domaine Cailbourdin, Pouilly-Sur-Loire, Pouill...</td>\n",
       "      <td>france</td>\n",
       "      <td></td>\n",
       "      <td></td>\n",
       "    </tr>\n",
       "    <tr>\n",
       "      <th>1</th>\n",
       "      <td>75.6</td>\n",
       "      <td>Maison Antoine Geoffroy, Beaune, Gevrey Chambe...</td>\n",
       "      <td>france</td>\n",
       "      <td></td>\n",
       "      <td></td>\n",
       "    </tr>\n",
       "    <tr>\n",
       "      <th>2</th>\n",
       "      <td>148.85</td>\n",
       "      <td>Domaine Daniel-Etienne Defaix, Chablis Grand C...</td>\n",
       "      <td>france</td>\n",
       "      <td></td>\n",
       "      <td></td>\n",
       "    </tr>\n",
       "    <tr>\n",
       "      <th>3</th>\n",
       "      <td>75.6</td>\n",
       "      <td>Domaine Daniel-Etienne Defaix, Chablis Vieille...</td>\n",
       "      <td>france</td>\n",
       "      <td></td>\n",
       "      <td></td>\n",
       "    </tr>\n",
       "    <tr>\n",
       "      <th>4</th>\n",
       "      <td>3139.59</td>\n",
       "      <td>2016 Château Duhart-Milon Rothschild, 4eme Cru...</td>\n",
       "      <td>france</td>\n",
       "      <td></td>\n",
       "      <td></td>\n",
       "    </tr>\n",
       "    <tr>\n",
       "      <th>...</th>\n",
       "      <td>...</td>\n",
       "      <td>...</td>\n",
       "      <td>...</td>\n",
       "      <td>...</td>\n",
       "      <td>...</td>\n",
       "    </tr>\n",
       "    <tr>\n",
       "      <th>6</th>\n",
       "      <td>12.65</td>\n",
       "      <td>Château Ksara Blanc de Blancs</td>\n",
       "      <td>rest-of-the-world</td>\n",
       "      <td></td>\n",
       "      <td></td>\n",
       "    </tr>\n",
       "    <tr>\n",
       "      <th>7</th>\n",
       "      <td>11.5</td>\n",
       "      <td>Château Ksara Sunset Rosé</td>\n",
       "      <td>rest-of-the-world</td>\n",
       "      <td></td>\n",
       "      <td></td>\n",
       "    </tr>\n",
       "    <tr>\n",
       "      <th>8</th>\n",
       "      <td>9.05</td>\n",
       "      <td>Vinho Verde Loureiro/Alvarinho, Azevedo, Portugal</td>\n",
       "      <td>rest-of-the-world</td>\n",
       "      <td></td>\n",
       "      <td></td>\n",
       "    </tr>\n",
       "    <tr>\n",
       "      <th>9</th>\n",
       "      <td>6.8</td>\n",
       "      <td>Mateus Rosé</td>\n",
       "      <td>rest-of-the-world</td>\n",
       "      <td></td>\n",
       "      <td></td>\n",
       "    </tr>\n",
       "    <tr>\n",
       "      <th>10</th>\n",
       "      <td>7.25</td>\n",
       "      <td>Terra Franca,Vinho Regional Tinto</td>\n",
       "      <td>rest-of-the-world</td>\n",
       "      <td></td>\n",
       "      <td></td>\n",
       "    </tr>\n",
       "  </tbody>\n",
       "</table>\n",
       "<p>671 rows × 5 columns</p>\n",
       "</div>"
      ],
      "text/plain": [
       "          0                                                  1  \\\n",
       "0     42.05  Domaine Cailbourdin, Pouilly-Sur-Loire, Pouill...   \n",
       "1      75.6  Maison Antoine Geoffroy, Beaune, Gevrey Chambe...   \n",
       "2    148.85  Domaine Daniel-Etienne Defaix, Chablis Grand C...   \n",
       "3      75.6  Domaine Daniel-Etienne Defaix, Chablis Vieille...   \n",
       "4   3139.59  2016 Château Duhart-Milon Rothschild, 4eme Cru...   \n",
       "..      ...                                                ...   \n",
       "6     12.65                      Château Ksara Blanc de Blancs   \n",
       "7      11.5                          Château Ksara Sunset Rosé   \n",
       "8      9.05  Vinho Verde Loureiro/Alvarinho, Azevedo, Portugal   \n",
       "9       6.8                                        Mateus Rosé   \n",
       "10     7.25                  Terra Franca,Vinho Regional Tinto   \n",
       "\n",
       "              country vivino_url vivino_rating  \n",
       "0              france                           \n",
       "1              france                           \n",
       "2              france                           \n",
       "3              france                           \n",
       "4              france                           \n",
       "..                ...        ...           ...  \n",
       "6   rest-of-the-world                           \n",
       "7   rest-of-the-world                           \n",
       "8   rest-of-the-world                           \n",
       "9   rest-of-the-world                           \n",
       "10  rest-of-the-world                           \n",
       "\n",
       "[671 rows x 5 columns]"
      ]
     },
     "execution_count": 199,
     "metadata": {},
     "output_type": "execute_result"
    }
   ],
   "source": [
    "df_wine_diplo"
   ]
  },
  {
   "cell_type": "code",
   "execution_count": 208,
   "id": "1d675b80",
   "metadata": {},
   "outputs": [
    {
     "name": "stdout",
     "output_type": "stream",
     "text": [
      "blocked - waiting 60\n",
      "blocked - waiting 60\n",
      "blocked - waiting 60\n",
      "blocked - waiting 60\n"
     ]
    }
   ],
   "source": [
    "# Code to send a wine name to Vivino and scrape the first result\n",
    "\n",
    "\n",
    "vivino_url_wine=[]\n",
    "vivino_rating_wine=[]\n",
    "\n",
    "list_wine_search=df_wine_diplo[1]\n",
    "\n",
    "# open browser\n",
    "browser = webdriver.Chrome(ChromeDriverManager().install())\n",
    "\n",
    "#for each wine name in the list \n",
    "for search_txt in list_wine_search:\n",
    "    # write the wine name\n",
    "    browser.get('https://www.vivino.com/FR/en/')  \n",
    "    \n",
    "    try:\n",
    "        # find the input bar\n",
    "        element=browser.find_element_by_class_name(\"searchBar_searchInput__Jje-K\")\n",
    "        element.clear()\n",
    "        element.send_keys(search_txt)\n",
    "        element.send_keys(Keys.RETURN)\n",
    "\n",
    "        # get the first result\n",
    "        time.sleep(2)\n",
    "\n",
    "        htmlsource = browser.page_source\n",
    "        rating_regexp=\"\\\"ratingValue\\\":(.*?),\"\n",
    "        url_regexp='\\\"Product\\\",\\\"\\@id\\\":\\\"(.*?)\\\",'\n",
    "\n",
    "        time.sleep(1)\n",
    "\n",
    "        vivino_url_wine_inter=[re.findall(url_regexp, htmlsource)[0]]\n",
    "        vivino_rating_wine_inter= [re.findall(rating_regexp, htmlsource)[0]]\n",
    "\n",
    "        vivino_url_wine=vivino_url_wine+vivino_url_wine_inter\n",
    "        vivino_rating_wine=vivino_rating_wine+vivino_rating_wine_inter\n",
    "    \n",
    "    except:\n",
    "        # so the same thing but regenerate the browser and wait 60s\n",
    "        print('blocked - waiting 60')\n",
    "        browser.close()\n",
    "        time.sleep(60)\n",
    "        \n",
    "        browser = webdriver.Chrome(ChromeDriverManager().install())\n",
    "        browser.get('https://www.vivino.com/FR/en/')  \n",
    "        \n",
    "        element=browser.find_element_by_class_name(\"searchBar_searchInput__Jje-K\")\n",
    "        element.clear()\n",
    "        element.send_keys(search_txt)\n",
    "        element.send_keys(Keys.RETURN)\n",
    "\n",
    "        # get the first result\n",
    "        time.sleep(2)\n",
    "\n",
    "        htmlsource = browser.page_source\n",
    "        rating_regexp=\"\\\"ratingValue\\\":(.*?),\"\n",
    "        url_regexp='\\\"Product\\\",\\\"\\@id\\\":\\\"(.*?)\\\",'\n",
    "\n",
    "        time.sleep(1)\n",
    "\n",
    "        vivino_url_wine_inter=[re.findall(url_regexp, htmlsource)[0]]\n",
    "        vivino_rating_wine_inter= [re.findall(rating_regexp, htmlsource)[0]]\n",
    "\n",
    "        vivino_url_wine=vivino_url_wine+vivino_url_wine_inter\n",
    "        vivino_rating_wine=vivino_rating_wine+vivino_rating_wine_inter\n",
    "        \n",
    "    "
   ]
  },
  {
   "cell_type": "code",
   "execution_count": 215,
   "id": "924a4409",
   "metadata": {},
   "outputs": [],
   "source": [
    "df_wine_diplo['vivino_url']=vivino_url_wine"
   ]
  },
  {
   "cell_type": "code",
   "execution_count": 216,
   "id": "ef0f13f2",
   "metadata": {},
   "outputs": [],
   "source": [
    "df_wine_diplo['vivino_rating']=vivino_rating_wine"
   ]
  },
  {
   "cell_type": "code",
   "execution_count": 218,
   "id": "45f1529d",
   "metadata": {},
   "outputs": [],
   "source": [
    "df_wine_diplo.to_csv('wine_diplo_2023.csv')"
   ]
  }
 ],
 "metadata": {
  "kernelspec": {
   "display_name": "Python 3 (ipykernel)",
   "language": "python",
   "name": "python3"
  },
  "language_info": {
   "codemirror_mode": {
    "name": "ipython",
    "version": 3
   },
   "file_extension": ".py",
   "mimetype": "text/x-python",
   "name": "python",
   "nbconvert_exporter": "python",
   "pygments_lexer": "ipython3",
   "version": "3.9.13"
  }
 },
 "nbformat": 4,
 "nbformat_minor": 5
}
