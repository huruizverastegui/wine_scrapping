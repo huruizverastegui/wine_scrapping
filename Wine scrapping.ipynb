{
 "cells": [
  {
   "cell_type": "code",
   "execution_count": 3,
   "id": "acb5616a",
   "metadata": {},
   "outputs": [],
   "source": [
    "from bs4 import BeautifulSoup\n",
    "from selenium import webdriver\n",
    "import time\n",
    "import pandas\n",
    "import datetime\n",
    "from datetime import datetime\n",
    "import requests\n",
    "import re\n",
    "from selenium import webdriver\n",
    "from selenium.webdriver import ActionChains\n",
    "from webdriver_manager.chrome import ChromeDriverManager\n",
    "from selenium.webdriver.common.by import By\n",
    "from selenium.webdriver.common.keys import Keys\n"
   ]
  },
  {
   "cell_type": "code",
   "execution_count": 6,
   "id": "452a4e50",
   "metadata": {},
   "outputs": [],
   "source": [
    "browser = webdriver.Chrome(executable_path='/Users/hugoruizverastegui/Downloads/chromedriver-131')"
   ]
  },
  {
   "cell_type": "code",
   "execution_count": 3,
   "id": "da03cde6",
   "metadata": {},
   "outputs": [],
   "source": [
    "# automated install\n",
    "#browser = webdriver.Chrome(ChromeDriverManager().install())"
   ]
  },
  {
   "cell_type": "code",
   "execution_count": 4,
   "id": "f23df964",
   "metadata": {},
   "outputs": [],
   "source": [
    "\n",
    "\n",
    "parameters= [\n",
    "{\n",
    "\"country\": \"TH\",   \n",
    "\"website\": \"OIS\",   \n",
    "\"url_scrap\": ((\"france\",\"https://www.i-d-s.com/dubai/wine/wines-by-country/france.html?p=\"),    \n",
    "(\"argentina\",\"https://www.i-d-s.com/dubai/wine/wines-by-country/argentina.html?p=\"),\n",
    "(\"australia\",\"https://www.i-d-s.com/dubai/wine/wines-by-country/australia.html?p=\"),\n",
    "(\"chile\",\"https://www.i-d-s.com/dubai/wine/wines-by-country/chile.html?p=\"),\n",
    "(\"new_zealand\",\"https://www.i-d-s.com/dubai/wine/wines-by-country/new-zealand.html?p=\"),\n",
    "(\"south_africa\",\"https://www.i-d-s.com/dubai/wine/wines-by-country/south-africa.html?p=\"),\n",
    "(\"uk\",\"https://www.i-d-s.com/dubai/wine/wines-by-country/united-kingdom.html?p=\"),\n",
    "(\"usa\",\"https://www.i-d-s.com/dubai/wine/wines-by-country/usa.html?p=\"),\n",
    "(\"portugal\",\"https://www.i-d-s.com/dubai/wine/wines-by-country/portugal.html?p=\"),\n",
    "(\"canada\",\"https://www.i-d-s.com/dubai/wine/wines-by-country/canada.html?p=\"),\n",
    "(\"united_kingdom\",\"https://www.i-d-s.com/dubai/wine/wines-by-country/united-kingdom.html?p=\"),\n",
    "(\"germany\",\"https://www.i-d-s.com/dubai/wine/wines-by-country/germany.html?p=\"),\n",
    "(\"italy\",\"https://www.i-d-s.com/dubai/wine/wines-by-country/italy.html?p=\"),\n",
    "(\"spain\",\"https://www.i-d-s.com/dubai/wine/wines-by-country/spain.html?p=\"),\n",
    "(\"rest-of-the-world\",\"https://www.i-d-s.com/dubai/wine/wines-by-country/rest-of-the-world.html?p=\"),\n",
    "(\"scotch_whisky\",\"https://www.i-d-s.com/dubai/spirits/scotch-whisky.html?p=\"),\n",
    "(\"other_whisky\",\"https://www.i-d-s.com/dubai/spirits/bourbon-other-whiskey.html?p=\")\n",
    "\n",
    "),\n",
    "    \n",
    "    \n",
    "\"price_regex\":  \"finalPrice\\\" class=\\\"price-wrapper \\\"><span class=\\\"price\\\">.*?\\$(.*?)<\",    \n",
    "#\"price_regex\":  \"<span class=\\\"price\\\">\\$(.*?)<\",\n",
    "##\"data-price-amount=\\\"(.*?)\\\"\",\n",
    "\"name_regex\": \"class=\\\"product-item-link\\\" href=.*?>(.*?)<\",                \n",
    "\"url_regex\": \"product-item-link\\\" href=\\\"(.*?)\\\"\",\n",
    "\"brand_regex\": \"NA\", \n",
    "\"scrolling_type\" : \"no scroll\",\n",
    "\"pop_up_type\" : \"have pop up\", \n",
    "\"page_not_found_type\" : \"yes\",\n",
    "\"page_not_found_regex\":\"find products matching the selection\",\n",
    "\"format_change_type\" : \"yes\",\n",
    "\"multiple_pages\" : \"yes\",\n",
    "\"scrapper_activated\":\"1\"\n",
    "}\n",
    "    \n",
    "]\n",
    "\n",
    "DF_final=pandas.DataFrame()"
   ]
  },
  {
   "cell_type": "code",
   "execution_count": 18,
   "id": "d56bcfac",
   "metadata": {},
   "outputs": [],
   "source": [
    "def pop_up_closing(param,browser_param):\n",
    "    if param[\"pop_up_type\"]=='no pop up':\n",
    "        pass\n",
    "    if param[\"pop_up_type\"]=='have pop up':\n",
    "\n",
    "        close=browser_param.find_elements_by_class_name(\"action-close\")\n",
    "        for element in close : \n",
    "            try:\n",
    "                element.click()   \n",
    "                time.sleep(1)\n",
    "            except:\n",
    "                pass"
   ]
  },
  {
   "cell_type": "code",
   "execution_count": 20,
   "id": "665743e4",
   "metadata": {},
   "outputs": [],
   "source": [
    "def get_data(param):\n",
    "    \n",
    "        l = len(param[\"url_scrap\"])\n",
    "        i=0\n",
    "        df_aggregated=pandas.DataFrame()\n",
    "        nb_issues = 0\n",
    "        today_date=datetime.today().strftime('%Y-%m-%d')\n",
    "        \n",
    "        while i<l:\n",
    "        #while i<2:\n",
    "            \n",
    "            #browser = webdriver.Chrome(executable_path=executable_path)\n",
    "            #browser = webdriver.Chrome(ChromeDriverManager().install())\n",
    "            browser=webdriver.Chrome(executable_path='/Users/hugoruizverastegui/Downloads/chromedriver-131')\n",
    "            category=param[\"url_scrap\"][i][0]           \n",
    "            \n",
    "            url=param[\"url_scrap\"][i][1]\n",
    "            print(category)\n",
    "            #print(url)        \n",
    "\n",
    "            # to change into a parameter\n",
    "            test_not_found=param[\"page_not_found_regex\"]\n",
    "\n",
    "            #init\n",
    "            page_not_found=0\n",
    "\n",
    "            # different starting point depending on the param page not found \n",
    "            if param[\"page_not_found_type\"]=='yes':\n",
    "                page=1\n",
    "\n",
    "            if param[\"page_not_found_type\"]=='no':\n",
    "                page=\"\"\n",
    "\n",
    "\n",
    "            while page_not_found==0:\n",
    "                #use of try to handle possible scrapping errors or time outs - https://stackoverflow.com/questions/51943694/execute-when-error-occurs-python\n",
    "                     \n",
    "                url_with_page=url+str(page)\n",
    "                print(url_with_page)     \n",
    "\n",
    "                browser.get(url_with_page)    \n",
    "\n",
    "                time.sleep(5)\n",
    "                #use of the anti pop up function\n",
    "                pop_up_closing(param,browser)\n",
    "\n",
    "                #use of the scrolling function\n",
    "                #scrolling(param,browser)\n",
    "\n",
    "                #use of format changing\n",
    "                #format_change(param,browser,page)\n",
    "\n",
    "                # extract of sourc code \n",
    "                time.sleep(2)\n",
    "                htmlsource = browser.page_source\n",
    "                \n",
    "\n",
    "                #use of the commas replace code\n",
    "                #htmlsource_replaced = replace_commas(param,htmlsource)\n",
    "                #print(htmlsource)\n",
    "\n",
    "                time.sleep(2)\n",
    "\n",
    "                name = re.findall(param[\"name_regex\"], htmlsource)\n",
    "                print(\"name: \" + str(len(name)))\n",
    "                print(name)\n",
    "                \n",
    "                url_product = re.findall(param[\"url_regex\"], htmlsource)\n",
    "                print(\"url_product: \" + str(len(url_product)))\n",
    "                print(url_product)\n",
    "                \n",
    "                prices = re.findall(param[\"price_regex\"], htmlsource)\n",
    "                print(\"prices: \" + str(len(prices)))\n",
    "                prices = prices[0:len(name)]\n",
    "                print(\"reduced prices: \" + str(len(prices)))\n",
    "                print(prices)\n",
    "                \n",
    "\n",
    "                \n",
    "                df=[prices,name,url_product]\n",
    "                df=pandas.DataFrame(df).transpose()\n",
    "                df['country']=category\n",
    "                df_aggregated=df_aggregated.append(df)\n",
    "\n",
    "\n",
    "                # exit loop after first iteration if there are no pages to go through\n",
    "                if param[\"page_not_found_type\"]=='no':\n",
    "                    page_not_found = 1\n",
    "\n",
    "                if param[\"page_not_found_type\"]=='yes':\n",
    "                    page_not_found = len(re.findall(test_not_found, htmlsource))\n",
    "                    page=page+1\n",
    "                    # only keep the output if there is no shift \n",
    "\n",
    "\n",
    "            i=i+1\n",
    "            browser.close()\n",
    "             \n",
    "            print(\"---------------\")\n",
    "        \n",
    "        #define columns names\n",
    "\n",
    "        return df_aggregated\n",
    "\n",
    "\n",
    "\n"
   ]
  },
  {
   "cell_type": "code",
   "execution_count": 21,
   "id": "5133f08b",
   "metadata": {},
   "outputs": [
    {
     "name": "stdout",
     "output_type": "stream",
     "text": [
      "france\n",
      "https://www.i-d-s.com/dubai/wine/wines-by-country/france.html?p=1\n",
      "name: 12\n",
      "['Nicolas Feuillatte Brut with Gift Box', 'Chateau Fleur de Pedesclaux', 'Domaine Cailbourdin Pouilly Fume ‘Les Racines’', '2018 Chateau Croix Mouton', '2010 Château Beychevelle, 4ème Cru Classé, Saint-Julien', '2020 Sarget D Gruaud Larose, Saint-Julien', '2017 Château Les Ormes de Pez Cru Bourgeois Saint Estephe', '2015 Château Corbin, Saint-Emilion', '2020 Brulieres de Beychevelle', \"Clos l'Hermitage, Lalande de Pomerol\", 'Château Tayac, Margaux', 'Château des Antonins, Bordeaux Supérieur']\n",
      "url_product: 12\n",
      "['https://www.i-d-s.com/dubai/nicolas-feuillatte-brut-with-gift-box-cp1066.html', 'https://www.i-d-s.com/dubai/chateau-fleur-de-pedesclaux-fr1399.html', 'https://www.i-d-s.com/dubai/domaine-cailbourdin-pouilly-fume-les-racines-fr1380.html', 'https://www.i-d-s.com/dubai/2018-chateau-croix-mouton-fw1253.html', 'https://www.i-d-s.com/dubai/2010-ch-teau-beychevelle-4-me-cru-class-saint-julien-fw1225.html', 'https://www.i-d-s.com/dubai/2020-sarget-d-gruaud-larose-saint-julien-fw1249.html', 'https://www.i-d-s.com/dubai/2017-ch-teau-les-ormes-de-pez-cru-bourgeois-saint-estephe-fw1248.html', 'https://www.i-d-s.com/dubai/2015-ch-teau-corbin-saint-emilion-fw1246.html', 'https://www.i-d-s.com/dubai/2020-brulieres-de-beychevelle-fw1247.html', 'https://www.i-d-s.com/dubai/clos-l-hermitage-lalande-de-pomerol-fr1320.html', 'https://www.i-d-s.com/dubai/ch-teau-tayac-margaux-fr1319.html', 'https://www.i-d-s.com/dubai/ch-teau-des-antonins-bordeaux-sup-rieur-fr1332.html']\n",
      "prices: 12\n",
      "reduced prices: 12\n",
      "['39.99', '37.00', '34.30', '111.70', '1,487.50', '350.45', '720.05', '1,011.80', '189.45', '24.55', '45.00', '12.60']\n",
      "https://www.i-d-s.com/dubai/wine/wines-by-country/france.html?p=2\n"
     ]
    },
    {
     "name": "stderr",
     "output_type": "stream",
     "text": [
      "/var/folders/9z/sjrbpv9j1996t3_4wv3ry65c0000gn/T/ipykernel_16448/1430148339.py:83: FutureWarning: The frame.append method is deprecated and will be removed from pandas in a future version. Use pandas.concat instead.\n",
      "  df_aggregated=df_aggregated.append(df)\n"
     ]
    },
    {
     "name": "stdout",
     "output_type": "stream",
     "text": [
      "name: 12\n",
      "['Château Mouras Graves, Bordeaux', 'Château Fleur de Lisse Saint-Émilion Grand Cru, Bordeaux', 'Baron Philippe de Rothschild, Mouton Cadet Blanc', 'Baron Philippe de Rothschild, Mouton Cadet Rouge', 'Taittinger Rose including 2 glasses', 'Domaine de Grange Neuve, Monbazillac', 'Louis Tete, Brouilly', 'Minuty Prestige Magnum (1.5L)', 'Maison Champy Volnay- BIO', '2020 Château Pibran, Pauillac', 'Domaine du Closel Clos du Papillon Savennières, 2020', 'Domaine Marcel Couturier  \"Aux Scellés\" Mâcon Blanc, 2020']\n",
      "url_product: 12\n",
      "['https://www.i-d-s.com/dubai/ch-teau-mouras-graves-bordeaux-fr1337.html', 'https://www.i-d-s.com/dubai/ch-teau-fleur-de-lisse-saint-milion-grand-cru-bordeaux-fr1336.html', 'https://www.i-d-s.com/dubai/baron-philippe-de-rothschild-mini-mouton-cadet-blanc-mw1000.html', 'https://www.i-d-s.com/dubai/baron-philippe-de-rothschild-mouton-cadet-rouge-mw1001.html', 'https://www.i-d-s.com/dubai/taittinger-rose-including-2-glasses-zz11289.html', 'https://www.i-d-s.com/dubai/domaine-de-grange-neuve-monbazillac-dw1003.html', 'https://www.i-d-s.com/dubai/louis-tete-brouilly-fr1344.html', 'https://www.i-d-s.com/dubai/minuty-prestige-magnum-1-5l-fr4319.html', 'https://www.i-d-s.com/dubai/maison-champy-volnay-bio-fr4403.html', 'https://www.i-d-s.com/dubai/2020-ch-teau-pibran-pauillac-fw1243.html', 'https://www.i-d-s.com/dubai/domaine-du-closel-clos-du-papillon-savenni-res-2020-fr1314.html', 'https://www.i-d-s.com/dubai/domaine-marcel-couturier-aux-scell-s-m-con-blanc-2020-fr1312.html']\n",
      "prices: 12\n",
      "reduced prices: 12\n",
      "['22.80', '42.95', '71.60', '67.70', '109.45', '14.80', '23.55', '38.35', '44.80', '438.05', '71.40', '25.50']\n",
      "https://www.i-d-s.com/dubai/wine/wines-by-country/france.html?p=3\n"
     ]
    },
    {
     "name": "stderr",
     "output_type": "stream",
     "text": [
      "/var/folders/9z/sjrbpv9j1996t3_4wv3ry65c0000gn/T/ipykernel_16448/1430148339.py:83: FutureWarning: The frame.append method is deprecated and will be removed from pandas in a future version. Use pandas.concat instead.\n",
      "  df_aggregated=df_aggregated.append(df)\n"
     ]
    },
    {
     "name": "stdout",
     "output_type": "stream",
     "text": [
      "name: 12\n",
      "['2019 Château Pape Clément Grand Cru Classé de Graves, Pessac-Léognan', 'Antoine Geoffroy Puligny Montrachet Vieilles Vignes', \"Domaine Figeat L'Héritage` Pouilly-Fumé\", 'Château Tour de Capet Saint-Émilion Grand Cru, Bordeaux', \"Château Patache d'Aux Médoc Cru Bourgeois, Bordeaux\", 'Domaine Chanson Corton Vergennes Grand Gru ', 'Chateau Lamarsalle Montagne Saint-Emilion', '2020  Château Beychevelle \"Amiral De Beychevelle\" Saint-Julien', 'La Chablisienne Chablis Grand Cru Les Clos', 'Pouilly Fume Les Cris Domaine Cailbourdin', 'Cristal Roederer Brut 2009 Magnum', 'Bollinger Special Cuvée Brut']\n",
      "url_product: 12\n",
      "['https://www.i-d-s.com/dubai/2019-ch-teau-pape-cl-ment-grand-cru-class-de-graves-pessac-l-ognan-fw1204.html', 'https://www.i-d-s.com/dubai/antoine-geoffroy-puligny-montrachet-vieilles-vignes-fr1303.html', 'https://www.i-d-s.com/dubai/domaine-figeat-l-h-ritage-pouilly-fum-fr1339.html', 'https://www.i-d-s.com/dubai/ch-teau-tour-de-capet-saint-milion-grand-cru-bordeaux-fr1335.html', 'https://www.i-d-s.com/dubai/ch-teau-patache-d-aux-m-doc-cru-bourgeois-bordeaux-fr1333.html', 'https://www.i-d-s.com/dubai/domaine-chanson-corton-vergennes-grand-gru-fr1353.html', 'https://www.i-d-s.com/dubai/chateau-lamarsalle-montagne-saint-emilion-fr1372.html', 'https://www.i-d-s.com/dubai/2020-ch-teau-beychevelle-amiral-de-beychevelle-saint-julien-fw1226.html', 'https://www.i-d-s.com/dubai/la-chablisienne-chablis-grand-cru-les-clos-fr1157.html', 'https://www.i-d-s.com/dubai/pouilly-fume-les-cris-domaine-cailbourdin-fr1361.html', 'https://www.i-d-s.com/dubai/cristal-roederer-brut-2009-magnum-cp4028.html', 'https://www.i-d-s.com/dubai/bollinger-special-cuv-e-brut-cp1071.html']\n",
      "prices: 12\n",
      "reduced prices: 12\n",
      "['748.15', '149.45', '27.10', '36.45', '28.05', '179.99', '23.25', '461.55', '78.20', '39.55', '671.15', '92.50']\n",
      "https://www.i-d-s.com/dubai/wine/wines-by-country/france.html?p=4\n"
     ]
    },
    {
     "name": "stderr",
     "output_type": "stream",
     "text": [
      "/var/folders/9z/sjrbpv9j1996t3_4wv3ry65c0000gn/T/ipykernel_16448/1430148339.py:83: FutureWarning: The frame.append method is deprecated and will be removed from pandas in a future version. Use pandas.concat instead.\n",
      "  df_aggregated=df_aggregated.append(df)\n"
     ]
    },
    {
     "name": "stdout",
     "output_type": "stream",
     "text": [
      "name: 12\n",
      "['Fleur de Miraval, Rosé Champagne', '2016 Château Smith Haut Lafitte Rouge, Pessac -Leognan', 'Baron Philippe de Rothschild, Mouton Cadet Mathilde Rose BIO', 'Chateau Tour De Mons, Margaux', '2020 Château&nbsp;Les Ormes De Pez Cru Bourgeois Saint Estephe', 'Mumm Grand Cordon', '2020 Sarget D Gruaud Larose, Saint-Julien', 'Les Hauts de Perganson, Haut-Medoc, Bordeaux', 'M.Chapoutier, Rasteau \" Les Gadilles\"', 'Remoissenet Père &amp; Fils Chablis', 'M.Chapoutier, Côtes-du-Rhône Blanc Adunatio, Collection Bio', 'Vranken Brut Nature VDC with Gift Box']\n",
      "url_product: 12\n",
      "['https://www.i-d-s.com/dubai/fleur-de-miraval-ros-champagne-cp1030.html', 'https://www.i-d-s.com/dubai/2016-ch-teau-smith-haut-lafitte-rouge-pessac-leognan-fw1187.html', 'https://www.i-d-s.com/dubai/baron-philippe-de-rothschild-mouton-cadet-mathilde-rose-bio-fr1357.html', 'https://www.i-d-s.com/dubai/chateau-tour-de-mons-margaux-fw1222.html', 'https://www.i-d-s.com/dubai/2020-ch-teau-les-ormes-de-pez-cru-bourgeois-saint-estephe-fw1218.html', 'https://www.i-d-s.com/dubai/mumm-grand-cordon-cp4026.html', 'https://www.i-d-s.com/dubai/2020-sarget-d-gruaud-larose-saint-julien-fw1220.html', 'https://www.i-d-s.com/dubai/les-hauts-de-perganson-haut-medoc-bordeaux-fr1334.html', 'https://www.i-d-s.com/dubai/m-chapoutier-rasteau-fr1281.html', 'https://www.i-d-s.com/dubai/remoissenet-p-re-fils-chablis-fr4426.html', 'https://www.i-d-s.com/dubai/m-chapoutier-c-tes-du-rh-ne-blanc-collection-bio-fr1271.html', 'https://www.i-d-s.com/dubai/vranken-brut-nature-vdc-with-gift-box-cp4019.html']\n",
      "prices: 12\n",
      "reduced prices: 12\n",
      "['445.40', '2,837.60', '11.50', '262.85', '766.25', '56.55', '700.90', '23.30', '17.20', '31.15', '12.95', '33.00']\n",
      "https://www.i-d-s.com/dubai/wine/wines-by-country/france.html?p=5\n"
     ]
    },
    {
     "name": "stderr",
     "output_type": "stream",
     "text": [
      "/var/folders/9z/sjrbpv9j1996t3_4wv3ry65c0000gn/T/ipykernel_16448/1430148339.py:83: FutureWarning: The frame.append method is deprecated and will be removed from pandas in a future version. Use pandas.concat instead.\n",
      "  df_aggregated=df_aggregated.append(df)\n"
     ]
    },
    {
     "name": "stdout",
     "output_type": "stream",
     "text": [
      "name: 12\n",
      "['Les Terres du Roy Côtes-du-Rhône Rouge', 'Veuve Clicquot Yellow Label Brut', 'Moët &amp; Chandon Brut Impérial', 'M.Chapoutier, Costières-de-Nîmes, Collection Bio “Areca” &amp; “Rouge”', 'Château des Antonins Bordeaux Blanc', 'Maison Antoine Geoffroy Pouilly Fuisse', 'Domaine du Pré Semelé Sancerre Rouge, Pinot Noir Non Filtré', 'Clos de la Cure, Saint-Émilion Grand Cru', 'Château Calvimont Blanc, Graves', 'Famille Perrin Luberon Rosé', \"Les Vignes de L'Eglise Merlot/Grenache IGP, Côtes de Thau, Languedoc\", 'Baron de Badassière Syrah IGP Côtes de Thau, Languedoc']\n",
      "url_product: 12\n",
      "['https://www.i-d-s.com/dubai/les-terres-du-roy-c-tes-du-rh-ne-rouge-fr1340.html', 'https://www.i-d-s.com/dubai/veuve-clicquot-yellow-label-brut-cp1016.html', 'https://www.i-d-s.com/dubai/mo-t-chandon-brut-imp-rial-cp1011.html', 'https://www.i-d-s.com/dubai/m-chapoutier-costi-res-de-n-mes-collection-bio-fr1280.html', 'https://www.i-d-s.com/dubai/ch-teau-des-antonins-bordeaux-blanc-fr1351.html', 'https://www.i-d-s.com/dubai/maison-antoine-geoffroy-pouilly-fuisse-fr1315.html', 'https://www.i-d-s.com/dubai/domaine-du-pr-semel-sancerre-rouge-pinot-noir-non-filtr-fr1323.html', 'https://www.i-d-s.com/dubai/clos-de-la-cure-saint-milion-grand-cru-fr1318.html', 'https://www.i-d-s.com/dubai/ch-teau-calvimont-blanc-graves-fr1317.html', 'https://www.i-d-s.com/dubai/famille-perrin-luberon-ros-fr1331.html', 'https://www.i-d-s.com/dubai/les-vignes-de-l-eglise-merlot-grenache-igp-c-tes-de-thau-languedoc-fr1329.html', 'https://www.i-d-s.com/dubai/baron-de-badassi-re-syrah-igp-c-tes-de-thau-languedoc-fr1328.html']\n",
      "prices: 12\n",
      "reduced prices: 12\n",
      "['11.10', '72.00', '63.80', '10.15', '12.55', '43.85', '33.65', '31.95', '20.85', '12.20', '8.70', '10.05']\n",
      "https://www.i-d-s.com/dubai/wine/wines-by-country/france.html?p=6\n"
     ]
    },
    {
     "name": "stderr",
     "output_type": "stream",
     "text": [
      "/var/folders/9z/sjrbpv9j1996t3_4wv3ry65c0000gn/T/ipykernel_16448/1430148339.py:83: FutureWarning: The frame.append method is deprecated and will be removed from pandas in a future version. Use pandas.concat instead.\n",
      "  df_aggregated=df_aggregated.append(df)\n"
     ]
    },
    {
     "name": "stdout",
     "output_type": "stream",
     "text": [
      "name: 12\n",
      "['Les Caves de Richemer Chardonnay IGP, Languedoc', '2015 Château Pichon Comtesse Lalande, Grand Cru Classe, Pauillac', '2016 Château Talbot 4ème Cru Classé, Saint-Julien', 'Maison Antoine Geoffroy, Beaune, Puligny Montrachet 1Er Cru Les Combettes', 'Remoissenet Père &amp; Fils Savigny Les Beaune 1er Cru Aux Serpentières', 'Domaine Cailbourdin, Pouilly-Fumé Les Cris', 'Domaine Daniel-Etienne Defaix, Chablis Vieilles Vignes', '2016 Château Duhart-Milon Rothschild, 4eme Cru Classé, Pauillac', 'Schröder and Schÿler Margaux Private Selection', 'JCB No. 21` Crémant de Bourgogne Brut, Jean-Charles Boisset', 'Miraval, Côtes de Provence Rosé, Magnum', 'Remoissenet Père &amp; Fils Pommard']\n",
      "url_product: 12\n",
      "['https://www.i-d-s.com/dubai/les-caves-de-richemer-chardonnay-igp-languedoc-fr1327.html', 'https://www.i-d-s.com/dubai/2015-ch-teau-pichon-comtesse-lalande-grand-cru-classe-pauillac-fw1795.html', 'https://www.i-d-s.com/dubai/2016-ch-teau-talbot-4-me-cru-class-saint-julien-fw1175.html', 'https://www.i-d-s.com/dubai/maison-antoine-geoffroy-beaune-puligny-montrachet-1er-cru-les-combettes-fr1307.html', 'https://www.i-d-s.com/dubai/remoissenet-p-re-fils-savigny-les-beaune-1er-cru-aux-serpenti-res-fr1298.html', 'https://www.i-d-s.com/dubai/domaine-cailbourdin-pouilly-fum-les-cris-fr1309.html', 'https://www.i-d-s.com/dubai/domaine-daniel-etienne-defaix-chablis-vieilles-vignes-fr1305.html', 'https://www.i-d-s.com/dubai/2016-ch-teau-duhart-milon-rothschild-4eme-cru-class-pauillac-fw1202.html', 'https://www.i-d-s.com/dubai/schr-der-and-sch-ler-margaux-private-selection-fr1299.html', 'https://www.i-d-s.com/dubai/jcb-no-21-cr-mant-de-bourgogne-brut-jean-charles-boisset-sw1071.html', 'https://www.i-d-s.com/dubai/miraval-c-tes-de-provence-ros-magnum-fr4423.html', 'https://www.i-d-s.com/dubai/remoissenet-p-re-fils-pommard-fr4431.html']\n",
      "prices: 12\n",
      "reduced prices: 12\n",
      "['10.75', '4,123.00', '793.80', '183.95', '54.50', '43.00', '45.90', '984.40', '27.70', '21.35', '59.05', '82.30']\n",
      "https://www.i-d-s.com/dubai/wine/wines-by-country/france.html?p=7\n"
     ]
    },
    {
     "name": "stderr",
     "output_type": "stream",
     "text": [
      "/var/folders/9z/sjrbpv9j1996t3_4wv3ry65c0000gn/T/ipykernel_16448/1430148339.py:83: FutureWarning: The frame.append method is deprecated and will be removed from pandas in a future version. Use pandas.concat instead.\n",
      "  df_aggregated=df_aggregated.append(df)\n"
     ]
    },
    {
     "name": "stdout",
     "output_type": "stream",
     "text": [
      "name: 12\n",
      "['Remoissenet Père &amp; Fils Chablis 1er Cru Fourchaume', 'Miraval, `Studio`Côtes de Provence Rosé', 'Perrier-Jouët Grand Brut', 'Antoine Geoffroy Savigny Les Beaune ', 'M.Chapoutier, Côtes-du-Rhône Rouge Adunation, Collection Bio', 'M.Chapoutier, Châteauneuf-du-Pape, Collection Bio Rouge', 'Marius, Avenue de la Gare Syrah, IGP Collines Rhodaniennes', \"M.Chapoutier, Saint-Joseph 'Deschants' Rouge\", \"M.Chapoutier, Châteauneuf-du-Pape 'La Bernardine' Blanc\", \"M.Chapoutier, 'Belleruche' Côtes-du-Rhône Blanc\", \"M.Chapoutier, Luberon 'La Ciboise' Blanc\", \"M.Chapoutier, Saint-Péray 'Les Tanneurs'\"]\n",
      "url_product: 12\n",
      "['https://www.i-d-s.com/dubai/remoissenet-p-re-fils-chablis-1er-cru-fourchaume-fr4427.html', 'https://www.i-d-s.com/dubai/miraval-studio-c-tes-de-provence-ros-fr1287.html', 'https://www.i-d-s.com/dubai/perrier-jou-t-grand-brut-cp1003.html', 'https://www.i-d-s.com/dubai/savigny-les-beaune-antoine-geoffroy-fr4436.html', 'https://www.i-d-s.com/dubai/m-chapoutier-c-tes-du-rh-ne-rouge-collection-bio-fr1278.html', 'https://www.i-d-s.com/dubai/m-chapoutier-ch-teauneuf-du-pape-collection-bio-rouge-fr1276.html', 'https://www.i-d-s.com/dubai/marius-avenue-de-la-gare-syrah-igp-collines-rhodaniennes-fr1275.html', 'https://www.i-d-s.com/dubai/m-chapoutier-saint-joseph-deschants-rouge-fr1273.html', 'https://www.i-d-s.com/dubai/m-chapoutier-ch-teauneuf-du-pape-la-bernardine-blanc-fr1272.html', 'https://www.i-d-s.com/dubai/m-chapoutier-belleruche-c-tes-du-rh-ne-blanc-fr1270.html', 'https://www.i-d-s.com/dubai/m-chapoutier-luberon-la-ciboise-blanc-fr1269.html', 'https://www.i-d-s.com/dubai/m-chapoutier-saint-p-ray-les-tanneurs-fr1268.html']\n",
      "prices: 12\n",
      "reduced prices: 12\n",
      "['52.25', '17.90', '56.70', '45.75', '14.75', '48.70', '12.40', '30.35', '49.40', '12.15', '10.70', '19.99']\n",
      "https://www.i-d-s.com/dubai/wine/wines-by-country/france.html?p=8\n"
     ]
    },
    {
     "name": "stderr",
     "output_type": "stream",
     "text": [
      "/var/folders/9z/sjrbpv9j1996t3_4wv3ry65c0000gn/T/ipykernel_16448/1430148339.py:83: FutureWarning: The frame.append method is deprecated and will be removed from pandas in a future version. Use pandas.concat instead.\n",
      "  df_aggregated=df_aggregated.append(df)\n"
     ]
    },
    {
     "name": "stdout",
     "output_type": "stream",
     "text": [
      "name: 12\n",
      "[\"M.Chapoutier, Saint-Joseph 'Deschants' Blanc\", 'Domaine Trénel, Viré Clessé Chardonnay, Vin de Bourgogne', 'Domaine Trénel, Beaujolais Blanc', \"Domaine Bila-Haut, 'Occultum Lapidem', Côtes-du-Roussillon Blanc\", 'Remoissenet Père &amp; Fils Chambolle Musigny Les Charmes', 'Dubreuil -Fontaine Pernand Vergelesses Rouge', 'Chateau Pontac Lynch Cru, Bourgeois', 'Perrier-Jouët Belle Epoque', 'Mumm Cordon Rouge Brut', 'Moët &amp; Chandon Grand Vintage Blanc', \"Les Alexandrins Cotes du Rhone Rouge 'Terrasses de L'Eridan'\", 'Remoissenet Père &amp; Fils Bourgogne Blanc']\n",
      "url_product: 12\n",
      "['https://www.i-d-s.com/dubai/m-chapoutier-saint-joseph-deschants-blanc-fr1266.html', 'https://www.i-d-s.com/dubai/domaine-tr-nel-vir-cless-chardonnay-vin-de-bourgogne-fr1261.html', 'https://www.i-d-s.com/dubai/domaine-tr-nel-beaujolais-blanc-fr1260.html', 'https://www.i-d-s.com/dubai/domaine-bila-haut-occultum-lapidem-c-tes-du-roussillon-blanc-fr1283.html', 'https://www.i-d-s.com/dubai/remoissenet-chambolle-musigny-les-charmes-fr1285.html', 'https://www.i-d-s.com/dubai/pernand-vergelesses-rouge-dubreuil-fontaine-fr1246.html', 'https://www.i-d-s.com/dubai/chateau-pontac-lynch-cru-bourgeois-ex1020.html', 'https://www.i-d-s.com/dubai/perrier-jou-t-belle-epoque-cp1004.html', 'https://www.i-d-s.com/dubai/mumm-cordon-rouge-brut-cp1008.html', 'https://www.i-d-s.com/dubai/mo-t-chandon-grand-vintage-blanc-cp2004.html', 'https://www.i-d-s.com/dubai/les-alexandrins-cotes-du-rhone-rouge-terrasses-de-l-eridan-fr1168.html', 'https://www.i-d-s.com/dubai/remoissenet-bourgogne-blanc-fr1200.html']\n",
      "prices: 12\n",
      "reduced prices: 12\n",
      "['19.99', '21.05', '14.70', '16.35', '164.55', '40.05', '41.99', '194.10', '51.75', '67.25', '16.70', '25.60']\n",
      "https://www.i-d-s.com/dubai/wine/wines-by-country/france.html?p=9\n"
     ]
    },
    {
     "name": "stderr",
     "output_type": "stream",
     "text": [
      "/var/folders/9z/sjrbpv9j1996t3_4wv3ry65c0000gn/T/ipykernel_16448/1430148339.py:83: FutureWarning: The frame.append method is deprecated and will be removed from pandas in a future version. Use pandas.concat instead.\n",
      "  df_aggregated=df_aggregated.append(df)\n"
     ]
    },
    {
     "name": "stdout",
     "output_type": "stream",
     "text": [
      "name: 12\n",
      "['Chateau Marzy, Pomerol', '\"La Côte Sauvage\" Cairanne', 'Domaine Henry Pellé Menetou-Salon Morogues', '2009 Château Baron Pichon Longueville, 2ème Cru Classé, Pauillac', '2011 Château Pontet Canet, 5ème Cru Classé, Pauillac', 'Château De Coulaine Chinon Rouge', '2015 Château Corbin, Saint-Emilion', '2010 Château Rauzan Ségla, 2ème Cru Classé, Margaux', 'Louis Latour Pinot Noir', 'Jean-Marc Brocard Chablis Grand Cru \"Valmur\"', 'Jean-Marc Brocard Chablis Grand Cru \"Les Preuses\"', 'Domaine Laroche, Chablis Grand Cru `Les Blanchots`']\n",
      "url_product: 12\n",
      "['https://www.i-d-s.com/dubai/chateau-marzy-pomerol-fr1234.html', 'https://www.i-d-s.com/dubai/la-c-te-sauvage-cairanne-fr1239.html', 'https://www.i-d-s.com/dubai/domaine-henry-pell-menetou-salon-morogues-fr4023.html', 'https://www.i-d-s.com/dubai/2009-ch-teau-baron-pichon-longueville-2-me-cru-class-pauillac-fw1020.html', 'https://www.i-d-s.com/dubai/2011-ch-teau-pontet-canet-5-me-cru-class-pauillac-fw1033.html', 'https://www.i-d-s.com/dubai/ch-teau-de-coulaine-chinon-rouge-fr4037.html', 'https://www.i-d-s.com/dubai/2015-ch-teau-corbin-st-emilion-fw1152.html', 'https://www.i-d-s.com/dubai/2010-ch-teau-rauzan-s-gla-2-me-cru-class-margaux-fw1007.html', 'https://www.i-d-s.com/dubai/louis-latour-pinot-noir-fr4175.html', 'https://www.i-d-s.com/dubai/jean-marc-brocard-chablis-grand-cru-valmur-fr4188.html', 'https://www.i-d-s.com/dubai/jean-marc-brocard-chablis-grand-cru-les-preuses-fr4189.html', 'https://www.i-d-s.com/dubai/domaine-laroche-chablis-grand-cru-les-blanchots-fr4190.html']\n",
      "prices: 12\n",
      "reduced prices: 12\n",
      "['46.20', '20.05', '28.40', '4,385.50', '1,811.25', '22.10', '511.90', '3,083.15', '28.45', '56.75', '67.75', '75.40']\n",
      "https://www.i-d-s.com/dubai/wine/wines-by-country/france.html?p=10\n"
     ]
    },
    {
     "name": "stderr",
     "output_type": "stream",
     "text": [
      "/var/folders/9z/sjrbpv9j1996t3_4wv3ry65c0000gn/T/ipykernel_16448/1430148339.py:83: FutureWarning: The frame.append method is deprecated and will be removed from pandas in a future version. Use pandas.concat instead.\n",
      "  df_aggregated=df_aggregated.append(df)\n"
     ]
    },
    {
     "name": "stdout",
     "output_type": "stream",
     "text": [
      "name: 12\n",
      "['Louis Latour Meursault', 'Louis Latour Côte De Beaune Villages', 'Remoissenet Père &amp; Fils Chambolle-Musigny Premier Cru \"Aux Echanges\"', 'Collin Bourisset Morgon \"L\\'Authentique\" Vieilles Vignes, Côte Du Py', \"Cave De Tain 'Les Arènes Sauvages'&nbsp;Cornas\", 'Château De Plaisance Coteaux De Layon 1Er Cru Chaume', 'Chateau Feret Lambert Bordeaux Superieur, Magnum (1.5L)', 'Beau Joie Brut Champagne ', 'Paul Jaboulet Aine “Les Jalets” Crozes Hermitage “Blanc”', \"Les Alexandrins Cotes du Rhone Blanc 'Terrasses de L'Eridan'\", 'Maison Antoine Geoffroy Macon Rouge ', 'La Chablisienne, “Pas Si Petit” Petit Chablis']\n",
      "url_product: 12\n",
      "['https://www.i-d-s.com/dubai/louis-latour-meursault-fr4193.html', 'https://www.i-d-s.com/dubai/louis-latour-c-te-de-beaune-villages-fr4204.html', 'https://www.i-d-s.com/dubai/remoissenet-p-re-fils-chambolle-musigny-premier-cru-aux-echanges-fr4224.html', 'https://www.i-d-s.com/dubai/collin-bourisset-morgon-l-authentique-vieilles-vignes-c-te-du-py-fr4234.html', 'https://www.i-d-s.com/dubai/cave-de-tain-les-ar-nes-sauvages-cornas-fr4253.html', 'https://www.i-d-s.com/dubai/ch-teau-de-plaisance-coteaux-de-layon-1er-cru-chaume-fr4021.html', 'https://www.i-d-s.com/dubai/chateau-feret-lambert-bordeaux-superieur-magnum-1-5l-fr1182.html', 'https://www.i-d-s.com/dubai/beau-joie-brut-champagne-cp1028.html', 'https://www.i-d-s.com/dubai/paul-jaboulet-aine-les-jalets-crozes-hermitage-blanc-fr1159.html', 'https://www.i-d-s.com/dubai/les-alexandrins-cotes-du-rhone-blanc-terrasses-de-l-eridan-fr1167.html', 'https://www.i-d-s.com/dubai/macon-rouge-maison-antoine-geoffroy-fr1187.html', 'https://www.i-d-s.com/dubai/la-chablisienne-pas-si-petit-petit-chablis-fr1120.html']\n",
      "prices: 12\n",
      "reduced prices: 12\n",
      "['115.00', '44.00', '170.55', '16.45', '44.05', '18.99', '29.25', '78.85', '34.55', '17.65', '22.85', '18.75']\n",
      "https://www.i-d-s.com/dubai/wine/wines-by-country/france.html?p=11\n"
     ]
    },
    {
     "name": "stderr",
     "output_type": "stream",
     "text": [
      "/var/folders/9z/sjrbpv9j1996t3_4wv3ry65c0000gn/T/ipykernel_16448/1430148339.py:83: FutureWarning: The frame.append method is deprecated and will be removed from pandas in a future version. Use pandas.concat instead.\n",
      "  df_aggregated=df_aggregated.append(df)\n"
     ]
    },
    {
     "name": "stdout",
     "output_type": "stream",
     "text": [
      "name: 12\n",
      "['2008 Château Calon Segur, 3ème Cru Classé, Saint-Estèphe', '2016  Château Léoville Barton, Saint -Julien', '2016 Château Grand-Puy-Lacoste, 2nd Cru Classé, Pauillac', 'Chateau Fleur La Mothe, Medoc Cru Bourgeois', 'Chateau Vieux Coutelin, Saint Estephe', 'Clos Magne Figeac, Saint Emilion', 'Pauillac de Haut-Batailley, Pauillac', 'Domaine Millet Sancerre Blanc', 'Remoissenet Père Et Fils \"Bougros\",  Chablis Grand Cru', 'Remoissenet Père &amp; Fils Meursault Premier Cru Les Cras', 'Moët &amp; Chandon Brut Impérial Rosé', 'Veuve Cliquot Rich']\n",
      "url_product: 12\n",
      "['https://www.i-d-s.com/dubai/2008-ch-teau-calon-segur-3-me-cru-class-saint-est-phe-fw1066.html', 'https://www.i-d-s.com/dubai/2016-chateau-l-oville-barton-saint-julien-fw1124.html', 'https://www.i-d-s.com/dubai/2016-ch-teau-grand-puy-lacoste-2nd-cru-class-pauillac-fw1166.html', 'https://www.i-d-s.com/dubai/chateau-fleur-la-mothe-medoc-cru-bourgeois-fr1161.html', 'https://www.i-d-s.com/dubai/chateau-vieux-coutelin-saint-estephe-fr1162.html', 'https://www.i-d-s.com/dubai/clos-magne-figeac-saint-emilion-fr1163.html', 'https://www.i-d-s.com/dubai/pauillac-de-haut-batailley-pauillac-fr1164.html', 'https://www.i-d-s.com/dubai/domaine-millet-sancerre-blanc-fr1166.html', 'https://www.i-d-s.com/dubai/remoissenet-p-re-et-fils-bougros-chablis-grand-cru-fr1207.html', 'https://www.i-d-s.com/dubai/remoissenet-p-re-fils-meursault-premier-cru-les-cras-fr1206.html', 'https://www.i-d-s.com/dubai/mo-t-chandon-brut-imp-rial-ros-cp1012.html', 'https://www.i-d-s.com/dubai/veuve-cliquot-rich-cp2023.html']\n",
      "prices: 12\n",
      "reduced prices: 12\n",
      "['2,630.25', '2,460.50', '1,712.85', '29.65', '37.15', '21.85', '54.50', '27.30', '118.15', '135.55', '70.75', '74.95']\n",
      "https://www.i-d-s.com/dubai/wine/wines-by-country/france.html?p=12\n"
     ]
    },
    {
     "name": "stderr",
     "output_type": "stream",
     "text": [
      "/var/folders/9z/sjrbpv9j1996t3_4wv3ry65c0000gn/T/ipykernel_16448/1430148339.py:83: FutureWarning: The frame.append method is deprecated and will be removed from pandas in a future version. Use pandas.concat instead.\n",
      "  df_aggregated=df_aggregated.append(df)\n"
     ]
    },
    {
     "name": "stdout",
     "output_type": "stream",
     "text": [
      "name: 12\n",
      "['Taittinger Brut Réserve', 'Veuve Cliquot Rich Rosé', 'Taittinger Cuvée Prestige Rosé', 'Laurent-Perrier Rosé', 'Krug Grande Cuvee Brut', 'Domaine Wiehlé Engelreben Riesling', 'Veuve Clicquot Rosé', 'Perrier-Jouët Blason Rosé', 'Moët &amp; Chandon Brut Impérial Magnum', 'Champagne Gremillet Blanc de Noirs Brut', 'Laurent-Perrier Brut', 'Chateau Mancèdre Le Trettin, Pessac Leognan']\n",
      "url_product: 12\n",
      "['https://www.i-d-s.com/dubai/taittinger-brut-r-serve-cp1010.html', 'https://www.i-d-s.com/dubai/veuve-cliquot-rich-ros-cp2027.html', 'https://www.i-d-s.com/dubai/taittinger-cuv-e-prestige-ros-cp2050.html', 'https://www.i-d-s.com/dubai/laurent-perrier-ros-cp1002.html', 'https://www.i-d-s.com/dubai/krug-grande-cuvee-brut-cp1061.html', 'https://www.i-d-s.com/dubai/domaine-wiehl-engelreben-riesling-fr1217.html', 'https://www.i-d-s.com/dubai/veuve-clicquot-ros-cp1017.html', 'https://www.i-d-s.com/dubai/perrier-jou-t-blason-ros-cp4006.html', 'https://www.i-d-s.com/dubai/mo-t-chandon-brut-imp-rial-magnum-cp1013.html', 'https://www.i-d-s.com/dubai/champagne-gremillet-blanc-de-noirs-brut-cp1007.html', 'https://www.i-d-s.com/dubai/laurent-perrier-brut-cp1001.html', 'https://www.i-d-s.com/dubai/chateau-manc-dre-le-trettin-pessac-leognan-fr1238.html']\n",
      "prices: 12\n",
      "reduced prices: 12\n",
      "['62.20', '79.99', '99.95', '118.70', '268.20', '19.40', '90.90', '92.50', '140.20', '51.55', '63.80', '29.99']\n",
      "https://www.i-d-s.com/dubai/wine/wines-by-country/france.html?p=13\n"
     ]
    },
    {
     "name": "stderr",
     "output_type": "stream",
     "text": [
      "/var/folders/9z/sjrbpv9j1996t3_4wv3ry65c0000gn/T/ipykernel_16448/1430148339.py:83: FutureWarning: The frame.append method is deprecated and will be removed from pandas in a future version. Use pandas.concat instead.\n",
      "  df_aggregated=df_aggregated.append(df)\n"
     ]
    },
    {
     "name": "stdout",
     "output_type": "stream",
     "text": [
      "name: 12\n",
      "['Domaine Heimbourger Les Terres Blanches, Chardonnay', 'Domaine Borgeot `Vieilles Vignes`, Chassagne-Montrachet ', 'Domaine Faury, Condrieu', 'Remoissenet Père &amp; Fils Gevrey Chambertin ', 'Remoissenet Père &amp; Fils Gevrey Chambertin Premier Cru Le Trio', 'Bollinger Special Cuvée Brut, in individual Gift Box', 'Remoissenet Père &amp; Fils Clos Vuogeot Grand Cru', 'La Chablisienne Chablis Grand Cru, Chateau Grenouille', 'Bellefontaine Sauvignon Blanc', 'Domaine Wiehlé Seidenfaden Gewurztraminer', 'Bellefontaine Chardonnay', 'Baron Philippe de Rothschild Sauvignon Blanc']\n",
      "url_product: 12\n",
      "['https://www.i-d-s.com/dubai/domaine-heimbourger-les-terres-blanches-chardonnay-fr1149.html', 'https://www.i-d-s.com/dubai/chassagne-montrachet-vieilles-vignes-domaine-borgeot-burgundy-fr1185.html', 'https://www.i-d-s.com/dubai/domaine-faury-condrieu-fr1156.html', 'https://www.i-d-s.com/dubai/gevrey-chambertin-remoissenet-p-re-et-fils-fr1202.html', 'https://www.i-d-s.com/dubai/remoissenet-p-re-fils-gevrey-chambertin-premier-cru-le-trio-fr1209.html', 'https://www.i-d-s.com/dubai/bollinger-special-cuv-e-brut-in-individual-gift-box-cp1000.html', 'https://www.i-d-s.com/dubai/remoissenet-clos-vougeot-grand-cru-fr1210.html', 'https://www.i-d-s.com/dubai/la-chablisienne-chablis-grand-cru-chateau-grenouille-fr1223.html', 'https://www.i-d-s.com/dubai/bellefontaine-sauvignon-blanc-fr1003.html', 'https://www.i-d-s.com/dubai/domaine-wiehl-seidenfaden-gewurztraminer-fr1218.html', 'https://www.i-d-s.com/dubai/bellefontaine-chardonnay-fr1004.html', 'https://www.i-d-s.com/dubai/baron-philippe-de-rothschild-sauvignon-blanc-fr1005.html']\n",
      "prices: 12\n",
      "reduced prices: 12\n",
      "['20.80', '133.15', '49.99', '75.60', '117.85', '96.25', '353.60', '98.05', '7.50', '14.45', '7.75', '12.15']\n",
      "https://www.i-d-s.com/dubai/wine/wines-by-country/france.html?p=14\n"
     ]
    },
    {
     "name": "stderr",
     "output_type": "stream",
     "text": [
      "/var/folders/9z/sjrbpv9j1996t3_4wv3ry65c0000gn/T/ipykernel_16448/1430148339.py:83: FutureWarning: The frame.append method is deprecated and will be removed from pandas in a future version. Use pandas.concat instead.\n",
      "  df_aggregated=df_aggregated.append(df)\n"
     ]
    },
    {
     "name": "stdout",
     "output_type": "stream",
     "text": [
      "name: 12\n",
      "['Baron Philippe de Rothschild Chardonnay', 'L’Ormarine Duc de Morny Picpoul de Pinet', 'Dom Pérignon Vintage, in individual Gift Box', 'Bellefontaine Grenache Rosé', 'M de Minuty Côtes de Provence Rosé', 'Miraval, Côtes de Provence Rosé', 'Whispering Angel Côtes de Provence Rosé', 'Domaine Ott Rosé, Château Romassan Côtes de Provence', 'Château Minuty \"281\" Côtes de Provence Rosé', 'Bellefontaine Merlot', 'Bellefontaine Malbec', 'Baron Philippe de Rothschild Merlot']\n",
      "url_product: 12\n",
      "['https://www.i-d-s.com/dubai/baron-philippe-de-rothschild-chardonnay-fr1006.html', 'https://www.i-d-s.com/dubai/l-ormarine-duc-de-morny-picpoul-de-pinet-fr1008.html', 'https://www.i-d-s.com/dubai/dom-p-rignon-vintage-in-individual-gift-box-cp1014.html', 'https://www.i-d-s.com/dubai/bellefontaine-grenache-ros-fr1010.html', 'https://www.i-d-s.com/dubai/m-de-minuty-ros-fr1014.html', 'https://www.i-d-s.com/dubai/miraval-ros-fr1015.html', 'https://www.i-d-s.com/dubai/whispering-angel-ros-fr1016.html', 'https://www.i-d-s.com/dubai/domaine-ott-ros-ch-teau-romassan-fr1017.html', 'https://www.i-d-s.com/dubai/ch-teau-minuty-281-ros-fr1018.html', 'https://www.i-d-s.com/dubai/bellefontaine-merlot-fr1020.html', 'https://www.i-d-s.com/dubai/bellefontaine-malbec-fr1021.html', 'https://www.i-d-s.com/dubai/baron-philippe-de-rothschild-merlot-fr1023.html']\n",
      "prices: 12\n",
      "reduced prices: 12\n",
      "['7.99', '11.05', '299.55', '7.35', '27.00', '28.35', '30.85', '77.70', '101.70', '7.10', '7.50', '8.25']\n",
      "https://www.i-d-s.com/dubai/wine/wines-by-country/france.html?p=15\n"
     ]
    },
    {
     "name": "stderr",
     "output_type": "stream",
     "text": [
      "/var/folders/9z/sjrbpv9j1996t3_4wv3ry65c0000gn/T/ipykernel_16448/1430148339.py:83: FutureWarning: The frame.append method is deprecated and will be removed from pandas in a future version. Use pandas.concat instead.\n",
      "  df_aggregated=df_aggregated.append(df)\n"
     ]
    },
    {
     "name": "stdout",
     "output_type": "stream",
     "text": [
      "name: 12\n",
      "['Baron Philippe de Rothschild Cabernet Sauvignon', 'Baron Philippe de Rothschild Syrah', 'Baron Philippe de Rothschild Pinot Noir', 'Chateau Pineraie Tradition Malbec, Cahors', 'Cave de Turckheim Gewurztraminer', 'Cave de Turckheim Riesling Vieilles Vignes', 'Cave deTurckheim Grand Cru Riesling', \"Baron Philippe de Rothschild' Mouton Cadet Blanc\", 'Baron Philippe de Rothschild, Mouton Cadet Reserve Graves Blanc', 'Château Bel Air Bordeaux Superieur', 'Schröder and Schÿler Chartron La Fleur Rouge', 'Chateau Lange Réglat, Sauternes']\n",
      "url_product: 12\n",
      "['https://www.i-d-s.com/dubai/baron-philippe-de-rothschild-cabernet-sauvignon-fr1024.html', 'https://www.i-d-s.com/dubai/baron-philippe-de-rothschild-syrah-fr1025.html', 'https://www.i-d-s.com/dubai/baron-philippe-de-rothschild-pinot-noir-fr1026.html', 'https://www.i-d-s.com/dubai/ch-teau-pineraie-cahors-malbec-fr1027.html', 'https://www.i-d-s.com/dubai/cave-de-turckheim-gewurztraminer-fr1028.html', 'https://www.i-d-s.com/dubai/cave-de-turckheim-riesling-vieilles-vignes-fr1029.html', 'https://www.i-d-s.com/dubai/cave-deturckheim-grand-cru-riesling-fr1032.html', 'https://www.i-d-s.com/dubai/baron-philippe-de-rothschild-mouton-cadet-blanc-fr1033.html', 'https://www.i-d-s.com/dubai/baron-philippe-de-rothschild-mouton-cadet-reserve-graves-blanc-fr1034.html', 'https://www.i-d-s.com/dubai/ch-teau-bel-air-bordeaux-superieur-fr1036.html', 'https://www.i-d-s.com/dubai/schr-der-and-sch-ler-chartron-la-fleur-rouge-fr1037.html', 'https://www.i-d-s.com/dubai/chateau-lange-r-glat-dw1010.html']\n",
      "prices: 12\n",
      "reduced prices: 12\n",
      "['8.25', '8.25', '8.25', '12.75', '15.45', '16.60', '27.50', '12.05', '19.20', '5.99', '8.15', '29.99']\n",
      "https://www.i-d-s.com/dubai/wine/wines-by-country/france.html?p=16\n"
     ]
    },
    {
     "name": "stderr",
     "output_type": "stream",
     "text": [
      "/var/folders/9z/sjrbpv9j1996t3_4wv3ry65c0000gn/T/ipykernel_16448/1430148339.py:83: FutureWarning: The frame.append method is deprecated and will be removed from pandas in a future version. Use pandas.concat instead.\n",
      "  df_aggregated=df_aggregated.append(df)\n"
     ]
    },
    {
     "name": "stdout",
     "output_type": "stream",
     "text": [
      "name: 12\n",
      "['Château Buisson Redon, Bordeaux', 'Baron Philippe de Rothschild Mouton Cadet Rouge', 'Château de Haux Rouge, Premières Côtes de Bordeaux', 'Baron Philippe de Rothschild, Mouton Cadet Heritage Rouge', 'Schröder and Schÿler Private Réserve Medoc', 'Gervais Gobillard Prestige, Champagne Rosé', 'Baron Philippe de Rothschild, Reserve Mouton Cadet Medoc', 'Château Amour, Medoc', 'Château Macquin, Saint-Georges-Saint-Émilion, Bordeaux', 'Château Vieille Tour La Rose, Saint Emilion', \"Chateau Durfort-Vivens,'Vivens', Margaux\", 'Château Lalande, Saint-Julien']\n",
      "url_product: 12\n",
      "['https://www.i-d-s.com/dubai/ch-teau-buisson-redon-fr1038.html', 'https://www.i-d-s.com/dubai/baron-philippe-de-rothschild-mouton-cadet-rouge-fr1040.html', 'https://www.i-d-s.com/dubai/ch-teau-de-haux-rouge-premi-res-c-tes-de-bordeaux-fr1041.html', 'https://www.i-d-s.com/dubai/baron-philippe-de-rothschild-mouton-cadet-heritage-rouge-fr1042.html', 'https://www.i-d-s.com/dubai/schr-der-and-sch-ler-private-r-serve-medoc-fr1043.html', 'https://www.i-d-s.com/dubai/gervais-gobillard-prestige-champagne-rose-cp1026.html', 'https://www.i-d-s.com/dubai/baron-philippe-de-rothschild-reserve-mouton-cadet-medoc-fr1045.html', 'https://www.i-d-s.com/dubai/ch-teau-amour-fr1046.html', 'https://www.i-d-s.com/dubai/ch-teau-macquin-saint-georges-saint-milion-bordeaux-fr1049.html', 'https://www.i-d-s.com/dubai/ch-teau-vieille-tour-la-rose-fr1050.html', 'https://www.i-d-s.com/dubai/chateau-durfort-vivens-vivens-margaux-fr1053.html', 'https://www.i-d-s.com/dubai/ch-teau-lalande-fr1056.html']\n",
      "prices: 12\n",
      "reduced prices: 12\n",
      "['10.90', '13.00', '13.25', '14.55', '10.80', '44.45', '16.95', '24.05', '23.10', '17.15', '62.10', '39.50']\n",
      "https://www.i-d-s.com/dubai/wine/wines-by-country/france.html?p=17\n"
     ]
    },
    {
     "name": "stderr",
     "output_type": "stream",
     "text": [
      "/var/folders/9z/sjrbpv9j1996t3_4wv3ry65c0000gn/T/ipykernel_16448/1430148339.py:83: FutureWarning: The frame.append method is deprecated and will be removed from pandas in a future version. Use pandas.concat instead.\n",
      "  df_aggregated=df_aggregated.append(df)\n"
     ]
    },
    {
     "name": "stdout",
     "output_type": "stream",
     "text": [
      "name: 12\n",
      "['Chateau Haut-Bastor Les Grandes Vignes Bordeaux Moelleux Blanc', 'La Chablisienne Bourgogne Chardonnay', 'Louis Jadot Mâcon Villages Blanc', 'Louis Jadot Saint Véran', 'Domaine Chanson Chassagne-Montrachet', 'Xavier Monnot Les Charmes, Meursault 1er Cru ', 'Jean-Marc Brocard, Chablis', 'Piper-Heidsieck Cuvée Brut', 'La Chablisienne Chablis 1er Cru \"Beauroy\"', 'La Chablisienne Chablis 1er Cru \"Vaillons\"', 'Domaine Chanson Nuits Saint Georges', 'Vallet Frères Gevrey Chambertin ']\n",
      "url_product: 12\n",
      "['https://www.i-d-s.com/dubai/chateau-haut-bastor-les-grandes-vignes-bordeaux-moelleux-blanc-fr1221.html', 'https://www.i-d-s.com/dubai/la-chablisienne-bourgogne-chardonnay-fr1059.html', 'https://www.i-d-s.com/dubai/louis-jadot-m-con-villages-blanc-fr1061.html', 'https://www.i-d-s.com/dubai/louis-jadot-saint-v-ran-fr1062.html', 'https://www.i-d-s.com/dubai/domaine-chanson-chassagne-montrachet-fr1066.html', 'https://www.i-d-s.com/dubai/meursault-1er-cru-les-charmes-xavier-monnot-fr1069.html', 'https://www.i-d-s.com/dubai/chablis-jean-marc-brocard-fr1071.html', 'https://www.i-d-s.com/dubai/piper-heidsieck-cuv-e-brut-cp1009.html', 'https://www.i-d-s.com/dubai/la-chablisienne-chablis-1er-cru-beauroy-fr1072.html', 'https://www.i-d-s.com/dubai/la-chablisienne-chablis-1er-cru-vaillons-fr1073.html', 'https://www.i-d-s.com/dubai/domaine-chanson-nuits-saint-georges-fr1079.html', 'https://www.i-d-s.com/dubai/gevrey-chambertin-vallet-fr-res-fr1080.html']\n",
      "prices: 12\n",
      "reduced prices: 12\n",
      "['13.30', '14.55', '20.40', '33.30', '108.65', '227.85', '40.30', '58.00', '44.15', '41.25', '81.95', '59.90']\n",
      "https://www.i-d-s.com/dubai/wine/wines-by-country/france.html?p=18\n"
     ]
    },
    {
     "name": "stderr",
     "output_type": "stream",
     "text": [
      "/var/folders/9z/sjrbpv9j1996t3_4wv3ry65c0000gn/T/ipykernel_16448/1430148339.py:83: FutureWarning: The frame.append method is deprecated and will be removed from pandas in a future version. Use pandas.concat instead.\n",
      "  df_aggregated=df_aggregated.append(df)\n"
     ]
    },
    {
     "name": "stdout",
     "output_type": "stream",
     "text": [
      "name: 9\n",
      "['Les Coteaux Tufiers Vouvray Demi Sec', 'Domaine Pré Baron Touraine Sauvignon Blanc', 'Chateau du Grand Plantier Caupos, Loupiac Blanc', 'de Ladoucette Pouilly Fumé', 'Pierre Sourdais Chinon Tradition', 'Chante Cigale Châteauneuf -du- Pape Blanc', 'Patrice Armand Côtes du Rhône La Chapelle de Marin', 'Chateau de Vaudieu,‘Grand Vin’, Châteauneuf-du-Pape Rouge', 'Dom Pérignon Vintage Rosé, in individual Gift Box']\n",
      "url_product: 9\n",
      "['https://www.i-d-s.com/dubai/vouvray-demi-sec-les-coteaux-tufiers-fr1086.html', 'https://www.i-d-s.com/dubai/domaine-pr-baron-touraine-sauvignon-blanc-fr1087.html', 'https://www.i-d-s.com/dubai/chateau-du-grand-plantier-caupos-loupiac-blanc-fr2592.html', 'https://www.i-d-s.com/dubai/baron-de-ladoucette-pouilly-fum-fr1095.html', 'https://www.i-d-s.com/dubai/pierre-sourdais-chinon-tradition-fr1099.html', 'https://www.i-d-s.com/dubai/chante-cigale-ch-teauneuf-du-pape-blanc-fr1102.html', 'https://www.i-d-s.com/dubai/patrice-armand-c-tes-du-rh-ne-la-chapelle-de-marin-fr1103.html', 'https://www.i-d-s.com/dubai/chateau-de-vaudieu-grand-vin-ch-teauneuf-du-pape-rouge-fr1113.html', 'https://www.i-d-s.com/dubai/dom-p-rignon-vintage-ros-in-individual-gift-box-cp1015.html']\n",
      "prices: 9\n",
      "reduced prices: 9\n",
      "['12.05', '13.05', '12.40', '52.35', '14.80', '37.85', '8.60', '52.35', '559.65']\n",
      "https://www.i-d-s.com/dubai/wine/wines-by-country/france.html?p=19\n"
     ]
    },
    {
     "name": "stderr",
     "output_type": "stream",
     "text": [
      "/var/folders/9z/sjrbpv9j1996t3_4wv3ry65c0000gn/T/ipykernel_16448/1430148339.py:83: FutureWarning: The frame.append method is deprecated and will be removed from pandas in a future version. Use pandas.concat instead.\n",
      "  df_aggregated=df_aggregated.append(df)\n"
     ]
    },
    {
     "name": "stdout",
     "output_type": "stream",
     "text": [
      "name: 0\n",
      "[]\n",
      "url_product: 0\n",
      "[]\n",
      "prices: 0\n",
      "reduced prices: 0\n",
      "[]\n",
      "---------------\n"
     ]
    },
    {
     "name": "stderr",
     "output_type": "stream",
     "text": [
      "/var/folders/9z/sjrbpv9j1996t3_4wv3ry65c0000gn/T/ipykernel_16448/1430148339.py:83: FutureWarning: The frame.append method is deprecated and will be removed from pandas in a future version. Use pandas.concat instead.\n",
      "  df_aggregated=df_aggregated.append(df)\n"
     ]
    },
    {
     "name": "stdout",
     "output_type": "stream",
     "text": [
      "argentina\n",
      "https://www.i-d-s.com/dubai/wine/wines-by-country/argentina.html?p=1\n",
      "name: 12\n",
      "['MASI Tupungato Corbec Rosso di Argentina Organic', 'Argento Organic Rosé', 'Argento Andes Soul Shiraz', 'Argento Andes Soul Chardonnay', 'Catena Alta Malbec', 'Pablo y Walter Malbec', 'Kaiken Clásico, Mendoza Cabernet Sauvignon', 'Catena Alta Chardonnay', 'Catena Appellation Vista Flores Malbec', 'Catena Alta Cabernet Sauvignon', 'Argento Malbec', 'Chandon Garden Spritz Sparkling Wine']\n",
      "url_product: 12\n",
      "['https://www.i-d-s.com/dubai/masi-tupungato-corbec-rosso-di-argentina-organic-ag1025.html', 'https://www.i-d-s.com/dubai/argento-organic-ros-ag1028.html', 'https://www.i-d-s.com/dubai/argento-andes-soul-shiraz-ag1027.html', 'https://www.i-d-s.com/dubai/argento-andes-soul-chardonnay-ag1026.html', 'https://www.i-d-s.com/dubai/catena-alta-malbec-ag1021.html', 'https://www.i-d-s.com/dubai/pablo-y-walter-malbec-ag1011.html', 'https://www.i-d-s.com/dubai/kaiken-cl-sico-mendoza-cabernet-sauvignon-ag1010.html', 'https://www.i-d-s.com/dubai/catena-alta-chardonnay-ag4030.html', 'https://www.i-d-s.com/dubai/catena-appellation-vista-flores-malbec-ag4029.html', 'https://www.i-d-s.com/dubai/catena-alta-cabernet-sauvignon-ag4031.html', 'https://www.i-d-s.com/dubai/argento-malbec-ag1007.html', 'https://www.i-d-s.com/dubai/chandon-garden-spritz-sparkling-wine-sw1072.html']\n",
      "prices: 12\n",
      "reduced prices: 12\n",
      "['25.80', '7.95', '7.95', '7.35', '35.35', '10.70', '11.25', '29.95', '22.20', '33.75', '8.95', '27.40']\n",
      "https://www.i-d-s.com/dubai/wine/wines-by-country/argentina.html?p=2\n"
     ]
    },
    {
     "name": "stderr",
     "output_type": "stream",
     "text": [
      "/var/folders/9z/sjrbpv9j1996t3_4wv3ry65c0000gn/T/ipykernel_16448/1430148339.py:83: FutureWarning: The frame.append method is deprecated and will be removed from pandas in a future version. Use pandas.concat instead.\n",
      "  df_aggregated=df_aggregated.append(df)\n"
     ]
    },
    {
     "name": "stdout",
     "output_type": "stream",
     "text": [
      "name: 0\n",
      "[]\n",
      "url_product: 0\n",
      "[]\n",
      "prices: 0\n",
      "reduced prices: 0\n",
      "[]\n",
      "---------------\n"
     ]
    },
    {
     "name": "stderr",
     "output_type": "stream",
     "text": [
      "/var/folders/9z/sjrbpv9j1996t3_4wv3ry65c0000gn/T/ipykernel_16448/1430148339.py:83: FutureWarning: The frame.append method is deprecated and will be removed from pandas in a future version. Use pandas.concat instead.\n",
      "  df_aggregated=df_aggregated.append(df)\n"
     ]
    },
    {
     "name": "stdout",
     "output_type": "stream",
     "text": [
      "australia\n",
      "https://www.i-d-s.com/dubai/wine/wines-by-country/australia.html?p=1\n",
      "name: 12\n",
      "['Penfolds Bin 128 Shiraz', '`Gaia` Clare Valley Cabernet Sauvignon/Cabernet Franc, Grosset', 'Sidewood Estate Sauvignon Blanc', \"D'Arenberg Peppermint Paddock, Sparkling Shiraz\", 'Yangarra Estate Old Vine Grenache, McLaren Vale', 'Yangarra Estate Mourvedre, McLaren Vale', 'Yangarra Estate Shiraz, McLaren Vale', 'Jansz Premium Cuvee NV', 'Fishbone Blue Range Ruby Rose', 'Fishbone Black Range Sauvignon Blanc', '16 Stops, Chardonnay', '16 Stops, Shiraz']\n",
      "url_product: 12\n",
      "['https://www.i-d-s.com/dubai/penfolds-bin-128-shiraz-au2024.html', 'https://www.i-d-s.com/dubai/gaia-clare-valley-cabernet-sauvignon-cabernet-franc-grosset-au4024.html', 'https://www.i-d-s.com/dubai/sidewood-estate-sauvignon-blanc-au1147.html', 'https://www.i-d-s.com/dubai/d-arenberg-peppermint-paddock-sparkling-shiraz-sw1041.html', 'https://www.i-d-s.com/dubai/yangarra-estate-old-vine-grenache-mclaren-vale-au2020.html', 'https://www.i-d-s.com/dubai/yangarra-estate-mourvedre-mclaren-vale-au2021.html', 'https://www.i-d-s.com/dubai/yangarra-estate-shiraz-mclaren-vale-au2023.html', 'https://www.i-d-s.com/dubai/jansz-premium-cuvee-nv-sw4054.html', 'https://www.i-d-s.com/dubai/fishbone-blue-range-ruby-rose-au1139.html', 'https://www.i-d-s.com/dubai/fishbone-black-range-sauvignon-blanc-au1918.html', 'https://www.i-d-s.com/dubai/16-stops-chardonnay-au4074.html', 'https://www.i-d-s.com/dubai/16-stops-shiraz-au4072.html']\n",
      "prices: 12\n",
      "reduced prices: 12\n",
      "['45.90', '59.45', '15.95', '19.50', '24.45', '24.45', '28.70', '19.99', '8.99', '14.99', '11.00', '9.85']\n",
      "https://www.i-d-s.com/dubai/wine/wines-by-country/australia.html?p=2\n"
     ]
    },
    {
     "name": "stderr",
     "output_type": "stream",
     "text": [
      "/var/folders/9z/sjrbpv9j1996t3_4wv3ry65c0000gn/T/ipykernel_16448/1430148339.py:83: FutureWarning: The frame.append method is deprecated and will be removed from pandas in a future version. Use pandas.concat instead.\n",
      "  df_aggregated=df_aggregated.append(df)\n"
     ]
    },
    {
     "name": "stdout",
     "output_type": "stream",
     "text": [
      "name: 12\n",
      "['Penfolds Bin 389 Cabernet/Shiraz, 2019', 'Innocent Bystander Yarra Valley Chardonnay', \"Elderton 'Ashmead' Single Vineyard, Cabernet Sauvignon\", \"Elderton 'Command' Single Vineyard, Shiraz\", 'Little Ripples Shiraz', 'Little Ripples Cabernet Sauvignon', 'Fishbone Black Range Shiraz', 'Fishbone Cabernet Shiraz', 'Shaw+Smith Adelaide Hills Shiraz', 'Elderton Estate Family Vineyards, Barossa Shiraz', 'Elderton Estate Family Vineyards, Barossa Cabernet Sauvignon', 'Elderton Estate Family Vineyards, Eden Valley Riesling']\n",
      "url_product: 12\n",
      "['https://www.i-d-s.com/dubai/penfolds-bin-389-cabernet-shiraz-2019-au1138.html', 'https://www.i-d-s.com/dubai/innocent-bystander-yarra-valley-chardonnay-au4043.html', 'https://www.i-d-s.com/dubai/elderton-ashmead-single-vineyard-cabernet-sauvignon-au1116.html', 'https://www.i-d-s.com/dubai/elderton-command-single-vineyard-shiraz-au1115.html', 'https://www.i-d-s.com/dubai/little-ripples-shiraz-au4078.html', 'https://www.i-d-s.com/dubai/little-ripples-cabernet-sauvignon-au4077.html', 'https://www.i-d-s.com/dubai/fishbone-margaret-river-black-range-shiraz-au1916.html', 'https://www.i-d-s.com/dubai/fishbone-cabernet-shiraz-au1052.html', 'https://www.i-d-s.com/dubai/shaw-smith-adelaide-hills-shiraz-au4039.html', 'https://www.i-d-s.com/dubai/elderton-estate-family-vineyards-barossa-shiraz-au1111.html', 'https://www.i-d-s.com/dubai/elderton-estate-family-vineyards-barossa-cabernet-sauvignon-au1112.html', 'https://www.i-d-s.com/dubai/elderton-estate-family-vineyards-eden-valley-riesling-au1114.html']\n",
      "prices: 12\n",
      "reduced prices: 12\n",
      "['84.35', '16.30', '64.15', '78.90', '9.99', '9.99', '14.99', '8.99', '40.60', '14.99', '14.99', '11.99']\n",
      "https://www.i-d-s.com/dubai/wine/wines-by-country/australia.html?p=3\n"
     ]
    },
    {
     "name": "stderr",
     "output_type": "stream",
     "text": [
      "/var/folders/9z/sjrbpv9j1996t3_4wv3ry65c0000gn/T/ipykernel_16448/1430148339.py:83: FutureWarning: The frame.append method is deprecated and will be removed from pandas in a future version. Use pandas.concat instead.\n",
      "  df_aggregated=df_aggregated.append(df)\n"
     ]
    },
    {
     "name": "stdout",
     "output_type": "stream",
     "text": [
      "name: 12\n",
      "['Elderton Estate Family Vineyards, Eden Valley Chardonnay', 'Little Ripples Chardonnay', 'Little Ripples Rosé', 'Little Ripples Sauvignon Blanc', 'Jim Barry Macrae Shiraz, McRae Wood', 'Voyager Shiraz', 'Voyager Sauvignon Blanc Semillion', 'Voyager Estate Chardonnay', 'Vasse Felix Filius Chardonnay', 'Vasse felix Filius Cab Merlot', 'Vasse Felix Classic Dry Red, Shiraz', 'Taltarni Brut Tache Rosé']\n",
      "url_product: 12\n",
      "['https://www.i-d-s.com/dubai/elderton-estate-family-vineyards-eden-valley-chardonnay-au1113.html', 'https://www.i-d-s.com/dubai/little-ripples-chardonnay-au4080.html', 'https://www.i-d-s.com/dubai/little-ripples-ros-au4081.html', 'https://www.i-d-s.com/dubai/little-ripples-sauvignon-blanc-au4079.html', 'https://www.i-d-s.com/dubai/jim-barry-macrae-shiraz-mcrae-wood-au1144.html', 'https://www.i-d-s.com/dubai/voyager-shiraz-au1162.html', 'https://www.i-d-s.com/dubai/voyager-sauvignon-blanc-semillion-au1161.html', 'https://www.i-d-s.com/dubai/voyager-estate-chardonnay-au1159.html', 'https://www.i-d-s.com/dubai/vasse-felix-filius-chardonnay-au1156.html', 'https://www.i-d-s.com/dubai/vasse-felix-filius-cab-merlot-au1155.html', 'https://www.i-d-s.com/dubai/vasse-felix-classic-dry-red-shiraz-au1153.html', 'https://www.i-d-s.com/dubai/taltarni-brut-tache-ros-sw1078.html']\n",
      "prices: 12\n",
      "reduced prices: 12\n",
      "['15.05', '9.99', '9.99', '9.99', '41.35', '21.30', '16.95', '14.99', '17.05', '19.50', '13.25', '15.50']\n",
      "https://www.i-d-s.com/dubai/wine/wines-by-country/australia.html?p=4\n"
     ]
    },
    {
     "name": "stderr",
     "output_type": "stream",
     "text": [
      "/var/folders/9z/sjrbpv9j1996t3_4wv3ry65c0000gn/T/ipykernel_16448/1430148339.py:83: FutureWarning: The frame.append method is deprecated and will be removed from pandas in a future version. Use pandas.concat instead.\n",
      "  df_aggregated=df_aggregated.append(df)\n"
     ]
    },
    {
     "name": "stdout",
     "output_type": "stream",
     "text": [
      "name: 12\n",
      "['Taltarni T Series Victorian Sauvignon Blanc', 'Pirathon Silver Shiraz', 'Jim Barry Watervale Riesling', 'Jim Barry lodge Hill Shiraz', 'Jim Barry Lodge Hill Riesling', \"d'Arenberg Dead Arm Shiraz\", 'Yering Reserve Cabernet Sauvignon', 'Small Victories Rosé', 'Small Victories Pinot Gris', 'Small Victories Shiraz', 'Small Victories Sangiovese', 'Keith Tulloch Chardonnay']\n",
      "url_product: 12\n",
      "['https://www.i-d-s.com/dubai/taltarni-t-series-victorian-sauvignon-blanc-au1149.html', 'https://www.i-d-s.com/dubai/pirathon-silver-shiraz-au1146.html', 'https://www.i-d-s.com/dubai/jim-barry-watervale-riesling-au1145.html', 'https://www.i-d-s.com/dubai/jim-barry-lodge-hill-shiraz-au1143.html', 'https://www.i-d-s.com/dubai/jim-barry-lodge-hill-riesling-au1142.html', 'https://www.i-d-s.com/dubai/d-arenberg-dead-arm-shiraz-au1163.html', 'https://www.i-d-s.com/dubai/yering-reserve-cabernet-sauvignon-au1140.html', 'https://www.i-d-s.com/dubai/small-victories-ros-au1117.html', 'https://www.i-d-s.com/dubai/small-victories-pinot-gris-au1110.html', 'https://www.i-d-s.com/dubai/small-victories-shiraz-au1109.html', 'https://www.i-d-s.com/dubai/small-victories-sangiovese-au1108.html', 'https://www.i-d-s.com/dubai/keith-tulloch-chardonnay-au1102.html']\n",
      "prices: 12\n",
      "reduced prices: 12\n",
      "['13.80', '14.99', '14.99', '23.20', '19.25', '42.05', '62.95', '14.55', '11.99', '14.55', '14.55', '12.05']\n",
      "https://www.i-d-s.com/dubai/wine/wines-by-country/australia.html?p=5\n"
     ]
    },
    {
     "name": "stderr",
     "output_type": "stream",
     "text": [
      "/var/folders/9z/sjrbpv9j1996t3_4wv3ry65c0000gn/T/ipykernel_16448/1430148339.py:83: FutureWarning: The frame.append method is deprecated and will be removed from pandas in a future version. Use pandas.concat instead.\n",
      "  df_aggregated=df_aggregated.append(df)\n"
     ]
    },
    {
     "name": "stdout",
     "output_type": "stream",
     "text": [
      "name: 12\n",
      "['Keith Tulloch Kester Shiraz ', 'Keith Tulloch Shiraz', 'Keith Tulloch Semillon', 'Rag &amp; Bone Riesling', 'The Black Craft Shiraz', 'Wishbone Shiraz Cabernet', 'Soldiers Block Malbec', 'Petaluma White Label Cabernet Sauvignon Coonawarra', 'St Hallett Blackwell Shiraz', 'St Hallett Eden Valley Riesling', 'St Hallett Gamekeepers Grenache Shiraz Touriga', 'Grant Burge Wines of Distinction Corryton Park Cabernet Sauvignon']\n",
      "url_product: 12\n",
      "['https://www.i-d-s.com/dubai/keith-tulloch-kester-shiraz-au1101.html', 'https://www.i-d-s.com/dubai/keith-tulloch-shiraz-au1100.html', 'https://www.i-d-s.com/dubai/keith-tulloch-semillon-au1099.html', 'https://www.i-d-s.com/dubai/rag-bone-riesling-au1107.html', 'https://www.i-d-s.com/dubai/the-black-craft-shiraz-au1106.html', 'https://www.i-d-s.com/dubai/wishbone-shiraz-cabernet-au1105.html', 'https://www.i-d-s.com/dubai/soldiers-block-malbec-au1104.html', 'https://www.i-d-s.com/dubai/petaluma-white-label-cabernet-sauvignon-coonawarra-au1091.html', 'https://www.i-d-s.com/dubai/st-hallett-blackwell-shiraz-au1090.html', 'https://www.i-d-s.com/dubai/st-hallett-eden-valley-riesling-au1088.html', 'https://www.i-d-s.com/dubai/st-hallett-gamekeepers-grenache-shiraz-touriga-au1087.html', 'https://www.i-d-s.com/dubai/grant-burge-wines-of-distinction-corryton-park-cabernet-sauvignon-au1086.html']\n",
      "prices: 12\n",
      "reduced prices: 12\n",
      "['22.30', '21.15', '22.25', '15.60', '15.60', '10.55', '8.40', '14.99', '28.65', '19.25', '19.15', '29.65']\n",
      "https://www.i-d-s.com/dubai/wine/wines-by-country/australia.html?p=6\n"
     ]
    },
    {
     "name": "stderr",
     "output_type": "stream",
     "text": [
      "/var/folders/9z/sjrbpv9j1996t3_4wv3ry65c0000gn/T/ipykernel_16448/1430148339.py:83: FutureWarning: The frame.append method is deprecated and will be removed from pandas in a future version. Use pandas.concat instead.\n",
      "  df_aggregated=df_aggregated.append(df)\n"
     ]
    },
    {
     "name": "stdout",
     "output_type": "stream",
     "text": [
      "name: 12\n",
      "['Grant Burge Wines of Distinction Balthasar Shiraz', 'Grant Burge Wines of Distinction Filsell Shiraz', 'Petaluma White Label Sauvignon Blanc Adelaide Hills', 'Xanadu Circa 77 Cabernet. Sauvignon', 'Cullen `Mangan East Block`, Margaret River', 'Mount Horrocks `Watervale` Clare Valley Semillon', 'Cullen `Mangan Vineyard` Sauvignon Blanc/Semillon, Margaret River', 'Dawson James Chardonnay', \"Giant Steps `Primavera Vineyard' Yarra Valley Pinot Noir\", 'Three Lions, Great Southern Sauvignon Blanc', 'Three Lions, Great Southern Chardonnay', 'Plantagenet, Angevin Mount Barker Riesling']\n",
      "url_product: 12\n",
      "['https://www.i-d-s.com/dubai/grant-burge-wines-of-distinction-balthasar-shiraz-au1084.html', 'https://www.i-d-s.com/dubai/grant-burge-wines-of-distinction-filsell-shiraz-au1083.html', 'https://www.i-d-s.com/dubai/petaluma-white-label-sauvignon-blanc-adelaide-hills-au1093.html', 'https://www.i-d-s.com/dubai/xanadu-circa-77-cabernet-sauvignon-au1095.html', 'https://www.i-d-s.com/dubai/mangan-east-block-margaret-river-cullen-au4003.html', 'https://www.i-d-s.com/dubai/mount-harrocks-watervale-clare-valley-semillon-au4019.html', 'https://www.i-d-s.com/dubai/cullen-mangan-vineyard-sauvignon-blanc-semillon-margaret-river-au4001.html', 'https://www.i-d-s.com/dubai/dawson-james-chardonnay-au4069.html', 'https://www.i-d-s.com/dubai/giant-steps-primavera-vineyard-yarra-valley-pinot-noir-au4045.html', 'https://www.i-d-s.com/dubai/three-lions-great-southern-sauvignon-blanc-au4004.html', 'https://www.i-d-s.com/dubai/three-lions-great-southern-chardonnay-au4005.html', 'https://www.i-d-s.com/dubai/plantagenet-angevin-mount-barker-riesling-au3002.html']\n",
      "prices: 12\n",
      "reduced prices: 12\n",
      "['24.85', '24.85', '16.00', '9.75', '56.65', '18.15', '31.25', '51.95', '69.75', '9.99', '16.00', '23.25']\n",
      "https://www.i-d-s.com/dubai/wine/wines-by-country/australia.html?p=7\n"
     ]
    },
    {
     "name": "stderr",
     "output_type": "stream",
     "text": [
      "/var/folders/9z/sjrbpv9j1996t3_4wv3ry65c0000gn/T/ipykernel_16448/1430148339.py:83: FutureWarning: The frame.append method is deprecated and will be removed from pandas in a future version. Use pandas.concat instead.\n",
      "  df_aggregated=df_aggregated.append(df)\n"
     ]
    },
    {
     "name": "stdout",
     "output_type": "stream",
     "text": [
      "name: 12\n",
      "['Three Lions Great Southern Cabernet/Merlot', 'Plantagenet `Aquitaine` Mount Barker Cabernet Sauvignon', 'Dandelion Vineyards, Lionheart of the Barossa Shiraz', \"Peter Lehmann `The Barossan' Grenache\", 'Charles Melton, Rose Of Virginia Barossa Valley', 'Mount Horrocks Clare Valley Shiraz', 'Dawson James Pinot Noir', 'Mount Langi Ghiran, Billi Billi Pinot Gris', \"d'Arenberg The Olive Grove Chardonnay\", 'Yering Station Village Chardonnay', \"d'Arenberg The Hermit Crab Marsanne/Viognier\", 'Peter Lehmann Hill &amp; Valley Chardonnay, Eden Valley']\n",
      "url_product: 12\n",
      "['https://www.i-d-s.com/dubai/three-lions-great-southern-cabernet-merlot-au4006.html', 'https://www.i-d-s.com/dubai/plantagenet-aquitaine-mount-barker-cabernet-sauvignon-au4007.html', 'https://www.i-d-s.com/dubai/dandelion-vineyards-lionheart-of-the-barossa-shiraz-au3006.html', 'https://www.i-d-s.com/dubai/peter-lehmann-the-barossan-grenache-au4034.html', 'https://www.i-d-s.com/dubai/charles-melton-rose-of-virginia-barossa-valley-au1068.html', 'https://www.i-d-s.com/dubai/mount-horrocks-clare-valley-shiraz-au4023.html', 'https://www.i-d-s.com/dubai/dawson-james-pinot-noir-au4070.html', 'https://www.i-d-s.com/dubai/mount-langi-ghiran-billi-billi-pinot-grigio-au1012.html', 'https://www.i-d-s.com/dubai/d-arenberg-the-olive-grove-chardonnay-au1001.html', 'https://www.i-d-s.com/dubai/yering-station-village-chardonnay-au1014.html', 'https://www.i-d-s.com/dubai/d-arenberg-the-hermit-crab-marsanne-viognier-au1002.html', 'https://www.i-d-s.com/dubai/peter-lehmann-hill-valley-chardonnay-eden-valley-au1006.html']\n",
      "prices: 12\n",
      "reduced prices: 12\n",
      "['14.99', '34.90', '14.50', '21.35', '26.99', '43.60', '59.05', '9.90', '15.45', '11.99', '16.00', '16.70']\n",
      "https://www.i-d-s.com/dubai/wine/wines-by-country/australia.html?p=8\n"
     ]
    },
    {
     "name": "stderr",
     "output_type": "stream",
     "text": [
      "/var/folders/9z/sjrbpv9j1996t3_4wv3ry65c0000gn/T/ipykernel_16448/1430148339.py:83: FutureWarning: The frame.append method is deprecated and will be removed from pandas in a future version. Use pandas.concat instead.\n",
      "  df_aggregated=df_aggregated.append(df)\n"
     ]
    },
    {
     "name": "stdout",
     "output_type": "stream",
     "text": [
      "name: 12\n",
      "['Shaw + Smith, Sauvignon Blanc, Adelaide Hills', 'Shaw + Smith \"M3\", Chardonnay, Adelaide Hills', \"Jacob's Creek Chardonnay\", 'Mount Langi Cliff Edge Pinot Gris', 'Stella Bella Semillon Sauvignon Blanc', 'Yellow Tail Pinot Grigio', 'Yellow Tail Rosé', 'Mount Langhi Ghiran Billi Billi Shiraz', 'Mount Langhi Cliff Edge Shiraz', 'Clonakilla \"Hilltops\", Shiraz', 'Yering Station Village Shiraz', 'Yering Station Village Rose']\n",
      "url_product: 12\n",
      "['https://www.i-d-s.com/dubai/shaw-smith-sauvignon-blanc-adelaide-hills-au1008.html', 'https://www.i-d-s.com/dubai/shaw-smith-m3-chardonnay-adelaide-hills-au1009.html', 'https://www.i-d-s.com/dubai/jacob-s-creek-chardonnay-au1010.html', 'https://www.i-d-s.com/dubai/mount-langi-cliff-edge-pinot-gris-au1013.html', 'https://www.i-d-s.com/dubai/stella-bella-semillon-sauvignon-blanc-au1016.html', 'https://www.i-d-s.com/dubai/yellow-tail-pinot-grigio-au1018.html', 'https://www.i-d-s.com/dubai/yellow-tail-rose-au1050.html', 'https://www.i-d-s.com/dubai/mount-langhi-ghiran-billi-billi-shiraz-au1022.html', 'https://www.i-d-s.com/dubai/mount-langhi-cliff-edge-shiraz-au1023.html', 'https://www.i-d-s.com/dubai/clonakilla-hilltops-shiraz-au1025.html', 'https://www.i-d-s.com/dubai/yering-station-village-shiraz-au1026.html', 'https://www.i-d-s.com/dubai/yering-station-village-rose-au1027.html']\n",
      "prices: 12\n",
      "reduced prices: 12\n",
      "['18.20', '40.30', '7.95', '14.99', '23.50', '8.15', '8.15', '9.90', '17.75', '34.05', '13.70', '14.00']\n",
      "https://www.i-d-s.com/dubai/wine/wines-by-country/australia.html?p=9\n"
     ]
    },
    {
     "name": "stderr",
     "output_type": "stream",
     "text": [
      "/var/folders/9z/sjrbpv9j1996t3_4wv3ry65c0000gn/T/ipykernel_16448/1430148339.py:83: FutureWarning: The frame.append method is deprecated and will be removed from pandas in a future version. Use pandas.concat instead.\n",
      "  df_aggregated=df_aggregated.append(df)\n"
     ]
    },
    {
     "name": "stdout",
     "output_type": "stream",
     "text": [
      "name: 12\n",
      "['Yellow Tail Shiraz', 'Yellow Tail Merlot', \"d'Arenberg The Footbolt Shiraz\", 'Peter Lehmann, The Barossan Shiraz, Barossa Valley', 'Peter Lehmann Masters, 8 Songs Shiraz, Barossa Valley', 'Henschke Henry’s Seven` Shiraz/Grenache/Mataro/Viognier, Barossa', 'Penfolds Koonunga Hill Shiraz Cabernet Sauvignon', \"Jacob's Creek Classic Shiraz Cabernet\", \"Jacob's Creek&nbsp;Classic Shiraz Rosé\", 'Parker Coonawarra Estate Shiraz', 'Parker Coonawarra Estate Cabernet Sauvignon', \"Parker Coonawarra Estate 'First Growth'\"]\n",
      "url_product: 12\n",
      "['https://www.i-d-s.com/dubai/yellow-tail-shiraz-au1033.html', 'https://www.i-d-s.com/dubai/yellow-tail-merlot-au1034.html', 'https://www.i-d-s.com/dubai/d-arenberg-the-footbolt-shiraz-au1036.html', 'https://www.i-d-s.com/dubai/peter-lehmann-the-barossan-shiraz-barossa-valley-au1038.html', 'https://www.i-d-s.com/dubai/peter-lehmann-masters-8-songs-shiraz-barossa-valley-au1039.html', 'https://www.i-d-s.com/dubai/henschke-henry-s-seven-shiraz-grenache-mataro-viognier-barossa-au1040.html', 'https://www.i-d-s.com/dubai/penfolds-koonunga-hill-shiraz-cabernet-sauvignon-au1042.html', 'https://www.i-d-s.com/dubai/jacob-s-creek-classic-shiraz-cabernet-au1044.html', 'https://www.i-d-s.com/dubai/jacob-s-creek-classic-shiraz-ros-au1045.html', 'https://www.i-d-s.com/dubai/parker-coonawarra-estate-shiraz-au1046.html', 'https://www.i-d-s.com/dubai/parker-coonawarra-estate-cabernet-sauvignon-au1047.html', 'https://www.i-d-s.com/dubai/parker-coonawarra-estate-first-growth-au1048.html']\n",
      "prices: 12\n",
      "reduced prices: 12\n",
      "['8.15', '8.15', '18.70', '21.90', '41.80', '35.45', '20.00', '8.15', '7.95', '9.50', '9.99', '70.60']\n",
      "https://www.i-d-s.com/dubai/wine/wines-by-country/australia.html?p=10\n"
     ]
    },
    {
     "name": "stderr",
     "output_type": "stream",
     "text": [
      "/var/folders/9z/sjrbpv9j1996t3_4wv3ry65c0000gn/T/ipykernel_16448/1430148339.py:83: FutureWarning: The frame.append method is deprecated and will be removed from pandas in a future version. Use pandas.concat instead.\n",
      "  df_aggregated=df_aggregated.append(df)\n"
     ]
    },
    {
     "name": "stdout",
     "output_type": "stream",
     "text": [
      "name: 3\n",
      "['Yellow Tail Bubbles Brut', 'Yellow Tail Bubbles Brut Rosé', \"Jacob's Creek Sparkling Rosé\"]\n",
      "url_product: 3\n",
      "['https://www.i-d-s.com/dubai/yellow-tail-bubbles-brut-sw1026.html', 'https://www.i-d-s.com/dubai/yellow-tail-bubbles-brut-ros-sw1028.html', 'https://www.i-d-s.com/dubai/jacob-s-creek-sparkling-ros-sw1029.html']\n",
      "prices: 3\n",
      "reduced prices: 3\n",
      "['9.60', '9.60', '10.20']\n",
      "https://www.i-d-s.com/dubai/wine/wines-by-country/australia.html?p=11\n"
     ]
    },
    {
     "name": "stderr",
     "output_type": "stream",
     "text": [
      "/var/folders/9z/sjrbpv9j1996t3_4wv3ry65c0000gn/T/ipykernel_16448/1430148339.py:83: FutureWarning: The frame.append method is deprecated and will be removed from pandas in a future version. Use pandas.concat instead.\n",
      "  df_aggregated=df_aggregated.append(df)\n"
     ]
    },
    {
     "name": "stdout",
     "output_type": "stream",
     "text": [
      "name: 0\n",
      "[]\n",
      "url_product: 0\n",
      "[]\n",
      "prices: 0\n",
      "reduced prices: 0\n",
      "[]\n",
      "---------------\n"
     ]
    },
    {
     "name": "stderr",
     "output_type": "stream",
     "text": [
      "/var/folders/9z/sjrbpv9j1996t3_4wv3ry65c0000gn/T/ipykernel_16448/1430148339.py:83: FutureWarning: The frame.append method is deprecated and will be removed from pandas in a future version. Use pandas.concat instead.\n",
      "  df_aggregated=df_aggregated.append(df)\n"
     ]
    },
    {
     "name": "stdout",
     "output_type": "stream",
     "text": [
      "chile\n",
      "https://www.i-d-s.com/dubai/wine/wines-by-country/chile.html?p=1\n",
      "name: 12\n",
      "['Viña Aquitania Chardonnay, 2018', 'Lapostolle Cuvee Alexandre Chardonnay', 'Lapostolle Cuvee Alexandre Cabernet Sauvignon', 'Morandé, Chardonnay Gran Reserva', 'Sierra Grande Sauvignon Blanc', 'Cono Sur Bicicleta Chardonnay ', 'Morandé Adventure, Vigno Carignan', 'Cono Sur Single Vineyard Chardonnay', 'Casillero del Diablo, Chardonnay', 'Casillero del Diablo, Sauvignon Blanc', 'Cono Sur Bicicleta Cabernet Sauvignon', 'Casillero del Diablo Shiraz Rosé']\n",
      "url_product: 12\n",
      "['https://www.i-d-s.com/dubai/vi-a-aquitania-chardonnay-2018-ch1039.html', 'https://www.i-d-s.com/dubai/lapostolle-cuvee-alexandre-chardonnay-ch2039.html', 'https://www.i-d-s.com/dubai/lapostolle-cuvee-alexandre-cabernet-sauvignon-ch2043.html', 'https://www.i-d-s.com/dubai/morand-chardonnay-gran-reserva-ch3000.html', 'https://www.i-d-s.com/dubai/sierra-grande-sauvignon-blanc-ch1000.html', 'https://www.i-d-s.com/dubai/cono-sur-bicicleta-chardonnay-ch1001.html', 'https://www.i-d-s.com/dubai/morand-adventure-vigno-carignan-ch1018.html', 'https://www.i-d-s.com/dubai/cono-sur-single-vineyard-chardonnay-ch1006.html', 'https://www.i-d-s.com/dubai/casillero-del-diablo-chardonnay-ch1010.html', 'https://www.i-d-s.com/dubai/casillero-del-diablo-sauvignon-blanc-ch1011.html', 'https://www.i-d-s.com/dubai/cono-sur-bicicleta-cabernet-sauvignon-ch1154.html', 'https://www.i-d-s.com/dubai/casillero-del-diablo-shiraz-ros-ch1012.html']\n",
      "prices: 12\n",
      "reduced prices: 12\n",
      "['18.20', '19.99', '19.99', '18.75', '6.85', '5.65', '22.99', '13.40', '8.90', '8.90', '6.60', '8.90']\n",
      "https://www.i-d-s.com/dubai/wine/wines-by-country/chile.html?p=2\n"
     ]
    },
    {
     "name": "stderr",
     "output_type": "stream",
     "text": [
      "/var/folders/9z/sjrbpv9j1996t3_4wv3ry65c0000gn/T/ipykernel_16448/1430148339.py:83: FutureWarning: The frame.append method is deprecated and will be removed from pandas in a future version. Use pandas.concat instead.\n",
      "  df_aggregated=df_aggregated.append(df)\n"
     ]
    },
    {
     "name": "stdout",
     "output_type": "stream",
     "text": [
      "name: 8\n",
      "['Sierra Grande Cabernet Sauvignon', 'Casillero Del Diablo, Cabernet Sauvignon', 'Cono Sur Bicicleta Carménère', 'Sierra Grande Pinot Noir', 'Morandé, Cabernet Sauvignon Gran Reserva', 'Cono Sur Single Vineyard Cabernet Sauvignon ', 'Cono Sur Bicicleta Pinot Noir', 'Cono Sur Ocio Pinot Noir']\n",
      "url_product: 8\n",
      "['https://www.i-d-s.com/dubai/sierra-grande-cabernet-sauvignon-ch1013.html', 'https://www.i-d-s.com/dubai/casillero-del-diablo-cabernet-sauvignon-ch1015.html', 'https://www.i-d-s.com/dubai/cono-sur-bicicleta-carm-n-re-ch1016.html', 'https://www.i-d-s.com/dubai/sierra-grande-pinot-noir-ch1017.html', 'https://www.i-d-s.com/dubai/morand-cabernet-sauvignon-gran-reserva-ch1019.html', 'https://www.i-d-s.com/dubai/cono-sur-single-vineyard-cabernet-sauvignon-ch1020.html', 'https://www.i-d-s.com/dubai/cono-sur-bicicleta-pinot-noir-ch1156.html', 'https://www.i-d-s.com/dubai/cono-sur-ocio-pinot-noir-ch1021.html']\n",
      "prices: 8\n",
      "reduced prices: 8\n",
      "['7.65', '8.90', '6.60', '7.65', '19.50', '13.40', '6.80', '60.00']\n",
      "https://www.i-d-s.com/dubai/wine/wines-by-country/chile.html?p=3\n"
     ]
    },
    {
     "name": "stderr",
     "output_type": "stream",
     "text": [
      "/var/folders/9z/sjrbpv9j1996t3_4wv3ry65c0000gn/T/ipykernel_16448/1430148339.py:83: FutureWarning: The frame.append method is deprecated and will be removed from pandas in a future version. Use pandas.concat instead.\n",
      "  df_aggregated=df_aggregated.append(df)\n"
     ]
    },
    {
     "name": "stdout",
     "output_type": "stream",
     "text": [
      "name: 0\n",
      "[]\n",
      "url_product: 0\n",
      "[]\n",
      "prices: 0\n",
      "reduced prices: 0\n",
      "[]\n",
      "---------------\n"
     ]
    },
    {
     "name": "stderr",
     "output_type": "stream",
     "text": [
      "/var/folders/9z/sjrbpv9j1996t3_4wv3ry65c0000gn/T/ipykernel_16448/1430148339.py:83: FutureWarning: The frame.append method is deprecated and will be removed from pandas in a future version. Use pandas.concat instead.\n",
      "  df_aggregated=df_aggregated.append(df)\n"
     ]
    },
    {
     "name": "stdout",
     "output_type": "stream",
     "text": [
      "new_zealand\n",
      "https://www.i-d-s.com/dubai/wine/wines-by-country/new-zealand.html?p=1\n",
      "name: 12\n",
      "['Oyster Bay Pinot Noir', 'Trinity Hill `The Gimblett` Gimblett Gravels', 'Kim Crawford Pinot Noir', 'Kim Crawford Sauvignon Blanc', 'Ata Rangi Pinot Noir', \"Ata Rangi `Lismore' Pinot Gris\", 'MOKO Black Sauvignon Blanc', 'Oyster Bay Chardonnay', 'Oyster Bay Sauvignon Blanc', 'Villa Maria Private Bin East Coast Chardonnay', 'Cloudy Bay Sauvignon Blanc', 'Spy Valley Marlborough Sauvignon Blanc']\n",
      "url_product: 12\n",
      "['https://www.i-d-s.com/dubai/oyster-bay-pinot-noir-nz1059.html', 'https://www.i-d-s.com/dubai/trinity-hill-the-gimblett-gimblett-gravels-nz4023.html', 'https://www.i-d-s.com/dubai/kim-crawford-pinot-noir-nz2009.html', 'https://www.i-d-s.com/dubai/kim-crawford-sauvignon-blanc-nz3002.html', 'https://www.i-d-s.com/dubai/ata-rangi-pinot-noir-nz4018.html', 'https://www.i-d-s.com/dubai/ata-rangi-lismore-pinot-gris-nz4015.html', 'https://www.i-d-s.com/dubai/moko-black-sauvignon-blanc-nz1000.html', 'https://www.i-d-s.com/dubai/oyster-bay-chardonnay-nz1004.html', 'https://www.i-d-s.com/dubai/oyster-bay-sauvignon-blanc-nz1005.html', 'https://www.i-d-s.com/dubai/villa-maria-private-bin-east-coast-chardonnay-nz1007.html', 'https://www.i-d-s.com/dubai/cloudy-bay-sauvignon-blanc-nz1006.html', 'https://www.i-d-s.com/dubai/spy-valley-marlborough-sauvignon-blanc-nz1025.html']\n",
      "prices: 12\n",
      "reduced prices: 12\n",
      "['13.40', '29.15', '27.70', '18.05', '90.25', '25.99', '13.40', '13.40', '13.40', '15.25', '32.70', '20.75']\n",
      "https://www.i-d-s.com/dubai/wine/wines-by-country/new-zealand.html?p=2\n"
     ]
    },
    {
     "name": "stderr",
     "output_type": "stream",
     "text": [
      "/var/folders/9z/sjrbpv9j1996t3_4wv3ry65c0000gn/T/ipykernel_16448/1430148339.py:83: FutureWarning: The frame.append method is deprecated and will be removed from pandas in a future version. Use pandas.concat instead.\n",
      "  df_aggregated=df_aggregated.append(df)\n"
     ]
    },
    {
     "name": "stdout",
     "output_type": "stream",
     "text": [
      "name: 12\n",
      "['Framingham Marlborough Classic Riesling', 'Framingham Marlborough Pinot Gris', 'Tinpot Hut Pinot Gris', 'Tinpot Hut Sauvignon Blanc', 'Tinpot Hut `McKee Vineyard` Grüner Veltliner', 'Greywacke Pinot Gris', 'Greywacke Chardonnay', 'Tinpot Hut Pinot Noir', \"Ata Rangi `Crimson' Pinot Noir\", 'Burn Cottage Vineyard, Pinot Noir Central Otago', 'Trinity Hill, Hawks Bay Chardonay', 'Matua Valley Sauvignon Blanc']\n",
      "url_product: 12\n",
      "['https://www.i-d-s.com/dubai/framingham-marlborough-classic-riesling-nz4005.html', 'https://www.i-d-s.com/dubai/framingham-marlborough-pinot-gris-nz4006.html', 'https://www.i-d-s.com/dubai/tinpot-hut-pinot-gris-nz4002.html', 'https://www.i-d-s.com/dubai/tinpot-hut-sauvignon-blanc-nz4003.html', 'https://www.i-d-s.com/dubai/tinpot-hut-mckee-vineyard-gr-ner-veltliner-nz4004.html', 'https://www.i-d-s.com/dubai/greywacke-pinot-gris-nz4009.html', 'https://www.i-d-s.com/dubai/greywacke-chardonnay-nz4011.html', 'https://www.i-d-s.com/dubai/tinpot-hut-pinot-noir-nz4014.html', 'https://www.i-d-s.com/dubai/ata-rangi-crimson-pinot-noir-nz4016.html', 'https://www.i-d-s.com/dubai/burn-cottage-vineyard-pinot-noir-central-otago-nz4025.html', 'https://www.i-d-s.com/dubai/trinity-hill-hawkes-bay-chardonnay-nz1030.html', 'https://www.i-d-s.com/dubai/matua-valley-sauvignon-blanc-nz1001.html']\n",
      "prices: 12\n",
      "reduced prices: 12\n",
      "['23.95', '21.20', '17.10', '18.05', '20.65', '29.70', '42.05', '23.65', '36.25', '67.05', '19.75', '15.65']\n",
      "https://www.i-d-s.com/dubai/wine/wines-by-country/new-zealand.html?p=3\n"
     ]
    },
    {
     "name": "stderr",
     "output_type": "stream",
     "text": [
      "/var/folders/9z/sjrbpv9j1996t3_4wv3ry65c0000gn/T/ipykernel_16448/1430148339.py:83: FutureWarning: The frame.append method is deprecated and will be removed from pandas in a future version. Use pandas.concat instead.\n",
      "  df_aggregated=df_aggregated.append(df)\n"
     ]
    },
    {
     "name": "stdout",
     "output_type": "stream",
     "text": [
      "name: 8\n",
      "['The Trinity, Trinity Hill, Hawkes Bay', 'Villa Maria Private Bin Dry Riesling', 'Villa Maria Private Bin Sauvignon Blanc', 'Villa Maria Blush Sauvignon Blanc Rosé', 'Matua Valley Pinot Noir', 'Oyster Bay Merlot', 'Villa Maria Private Bin Pinot Noir', 'Oyster Bay Sparkling Cuvée Brut']\n",
      "url_product: 8\n",
      "['https://www.i-d-s.com/dubai/the-trinity-trinity-hill-hawkes-bay-nz1003.html', 'https://www.i-d-s.com/dubai/villa-maria-private-bin-dry-riesling-nz1008.html', 'https://www.i-d-s.com/dubai/villa-maria-private-bin-sauvignon-blanc-nz1009.html', 'https://www.i-d-s.com/dubai/villa-maria-blush-sauvignon-blanc-rose-nz1010.html', 'https://www.i-d-s.com/dubai/matua-valley-pinot-noir-nz1013.html', 'https://www.i-d-s.com/dubai/oyster-bay-merlot-nz1014.html', 'https://www.i-d-s.com/dubai/villa-maria-private-bin-pinot-noir-nz1015.html', 'https://www.i-d-s.com/dubai/oyster-bay-sparkling-cuv-e-brut-sw1030.html']\n",
      "prices: 8\n",
      "reduced prices: 8\n",
      "['20.60', '14.90', '16.35', '16.60', '15.45', '13.40', '20.15', '15.10']\n",
      "https://www.i-d-s.com/dubai/wine/wines-by-country/new-zealand.html?p=4\n"
     ]
    },
    {
     "name": "stderr",
     "output_type": "stream",
     "text": [
      "/var/folders/9z/sjrbpv9j1996t3_4wv3ry65c0000gn/T/ipykernel_16448/1430148339.py:83: FutureWarning: The frame.append method is deprecated and will be removed from pandas in a future version. Use pandas.concat instead.\n",
      "  df_aggregated=df_aggregated.append(df)\n"
     ]
    },
    {
     "name": "stdout",
     "output_type": "stream",
     "text": [
      "name: 0\n",
      "[]\n",
      "url_product: 0\n",
      "[]\n",
      "prices: 0\n",
      "reduced prices: 0\n",
      "[]\n",
      "---------------\n"
     ]
    },
    {
     "name": "stderr",
     "output_type": "stream",
     "text": [
      "/var/folders/9z/sjrbpv9j1996t3_4wv3ry65c0000gn/T/ipykernel_16448/1430148339.py:83: FutureWarning: The frame.append method is deprecated and will be removed from pandas in a future version. Use pandas.concat instead.\n",
      "  df_aggregated=df_aggregated.append(df)\n"
     ]
    },
    {
     "name": "stdout",
     "output_type": "stream",
     "text": [
      "south_africa\n",
      "https://www.i-d-s.com/dubai/wine/wines-by-country/south-africa.html?p=1\n",
      "name: 12\n",
      "['Drostdy Hof Claret Select', 'Pongrácz Methode Cap Classique Rosé', 'Mullineux Syrah, Swartland, 2018', 'Mullineux &amp; Leeu Old Vines White, 2020', 'Lanzerac Sauvignon Blanc', 'Lanzerac Chardonnay', 'Lievland Bush Vine, Pinotage', 'Waterkloof Seriously Cool Cinsault', 'Drostdy Hof Premium Grand Cru', 'Nederburg Private Collection Sauvignon Blanc', 'Mooiplaas The Coco Merlot', \"Mooiplaas 'The Bean' Pinotage\"]\n",
      "url_product: 12\n",
      "['https://www.i-d-s.com/dubai/drostdy-hof-claret-select-wb1005.html', 'https://www.i-d-s.com/dubai/pongr-cz-methode-cap-classique-ros-sw1025.html', 'https://www.i-d-s.com/dubai/mullineux-syrah-swartland-2018-za1074.html', 'https://www.i-d-s.com/dubai/mullineux-leeu-old-vines-white-2020-za1073.html', 'https://www.i-d-s.com/dubai/lanzerac-sauvignon-blanc-za1076.html', 'https://www.i-d-s.com/dubai/lanzerac-chardonnay-za1075.html', 'https://www.i-d-s.com/dubai/lievland-bush-vine-pinotage-za4067.html', 'https://www.i-d-s.com/dubai/waterkloof-seriously-cool-cinsault-za2029.html', 'https://www.i-d-s.com/dubai/drostdy-hof-premium-grand-cru-wb1001.html', 'https://www.i-d-s.com/dubai/nederburg-private-collection-sauvignon-blanc-za1005.html', 'https://www.i-d-s.com/dubai/mooiplaas-the-coco-merlot-za1015.html', 'https://www.i-d-s.com/dubai/mooiplaas-the-bean-pinotage-za1014.html']\n",
      "prices: 12\n",
      "reduced prices: 12\n",
      "['75.30', '14.90', '32.85', '25.90', '11.25', '12.50', '16.20', '17.20', '76.40', '11.00', '9.75', '9.75']\n",
      "https://www.i-d-s.com/dubai/wine/wines-by-country/south-africa.html?p=2\n"
     ]
    },
    {
     "name": "stderr",
     "output_type": "stream",
     "text": [
      "/var/folders/9z/sjrbpv9j1996t3_4wv3ry65c0000gn/T/ipykernel_16448/1430148339.py:83: FutureWarning: The frame.append method is deprecated and will be removed from pandas in a future version. Use pandas.concat instead.\n",
      "  df_aggregated=df_aggregated.append(df)\n"
     ]
    },
    {
     "name": "stdout",
     "output_type": "stream",
     "text": [
      "name: 12\n",
      "['KWV Chardonnay', 'KWV Sauvignon Blanc', 'Fleur Du Cap, Essence Du Cap Cabernet Sauvignon', 'Front Row Shiraz/Mourvèdre/Viognier, Swartland', 'Coterie Cabernet Franc Malbec', 'ROSE Coterie Cinsault Rosé', 'Coterie Semillon Sauvignon Blanc', 'Lanzerac Pinotage Rosé', 'Lanzerac Pinotage', 'Lanzerac Pionier Pinotage', 'Mooiplaas Pinotage', \"Nederburg The Winemaster's Sauvignon Blanc\"]\n",
      "url_product: 12\n",
      "['https://www.i-d-s.com/dubai/kwv-chardonnay-za1010.html', 'https://www.i-d-s.com/dubai/kwv-sauvignon-blanc-za1011.html', 'https://www.i-d-s.com/dubai/fleur-du-cap-essence-du-cap-cabernet-sauvignon-za1022.html', 'https://www.i-d-s.com/dubai/front-row-shiraz-mourv-dre-viognier-swartland-za4052.html', 'https://www.i-d-s.com/dubai/coterie-cabernet-franc-malbec-za1071.html', 'https://www.i-d-s.com/dubai/rose-coterie-cinsault-ros-za1070.html', 'https://www.i-d-s.com/dubai/coterie-semillon-sauvignon-blanc-za1069.html', 'https://www.i-d-s.com/dubai/lanzerac-pinotage-rose-za1064.html', 'https://www.i-d-s.com/dubai/lanzerac-pinotage-za1050.html', 'https://www.i-d-s.com/dubai/lanzerac-pionier-pinotage-za1051.html', 'https://www.i-d-s.com/dubai/mooiplaas-pinotage-za1053.html', 'https://www.i-d-s.com/dubai/nederburg-sauvignon-blanc-za1003.html']\n",
      "prices: 12\n",
      "reduced prices: 12\n",
      "['6.95', '6.95', '9.90', '8.95', '14.05', '16.20', '14.05', '10.50', '18.90', '64.45', '15.25', '8.55']\n",
      "https://www.i-d-s.com/dubai/wine/wines-by-country/south-africa.html?p=3\n"
     ]
    },
    {
     "name": "stderr",
     "output_type": "stream",
     "text": [
      "/var/folders/9z/sjrbpv9j1996t3_4wv3ry65c0000gn/T/ipykernel_16448/1430148339.py:83: FutureWarning: The frame.append method is deprecated and will be removed from pandas in a future version. Use pandas.concat instead.\n",
      "  df_aggregated=df_aggregated.append(df)\n"
     ]
    },
    {
     "name": "stdout",
     "output_type": "stream",
     "text": [
      "name: 12\n",
      "[\"Nederburg The Winemaster's Chardonnay\", 'Mooiplaas The Peach Chenin Blanc', 'Mooiplaas Sauvignon Blanc', 'KWV Chenin Blanc', 'Mooiplaas Cabernet Sauvignon', 'Boekenhouskloof The Chocolate Block', 'KWV Cabernet Sauvignon', 'KWV Pinotage', \"Nederburg The Winemaster's Pinotage\", \"Nederburg The Winemaster's Cabernet Sauvignon\", \"Nederburg The Winemaster's Shiraz\", 'Nederburg Winemasters Merlot']\n",
      "url_product: 12\n",
      "['https://www.i-d-s.com/dubai/nederburg-the-winemaster-chardonnay-za1004.html', 'https://www.i-d-s.com/dubai/mooiplaas-the-peach-white-blend-za1008.html', 'https://www.i-d-s.com/dubai/mooiplaas-sauvignon-blanc-za1009.html', 'https://www.i-d-s.com/dubai/kwv-chenin-blanc-za1012.html', 'https://www.i-d-s.com/dubai/mooiplaas-cabernet-sauvignon-za1017.html', 'https://www.i-d-s.com/dubai/boekenhouskloof-the-chocolate-block-za1020.html', 'https://www.i-d-s.com/dubai/kwv-cabernet-sauvignon-za1025.html', 'https://www.i-d-s.com/dubai/kwv-pinotage-za1026.html', 'https://www.i-d-s.com/dubai/nederburg-pinotage-za1027.html', 'https://www.i-d-s.com/dubai/nederburg-cabernet-sauvignon-za1028.html', 'https://www.i-d-s.com/dubai/nederburg-shiraz-za1029.html', 'https://www.i-d-s.com/dubai/nederburg-merlot-za1030.html']\n",
      "prices: 12\n",
      "reduced prices: 12\n",
      "['8.55', '8.60', '12.95', '6.95', '16.15', '38.55', '7.10', '7.10', '9.00', '9.95', '9.95', '9.15']\n",
      "https://www.i-d-s.com/dubai/wine/wines-by-country/south-africa.html?p=4\n"
     ]
    },
    {
     "name": "stderr",
     "output_type": "stream",
     "text": [
      "/var/folders/9z/sjrbpv9j1996t3_4wv3ry65c0000gn/T/ipykernel_16448/1430148339.py:83: FutureWarning: The frame.append method is deprecated and will be removed from pandas in a future version. Use pandas.concat instead.\n",
      "  df_aggregated=df_aggregated.append(df)\n"
     ]
    },
    {
     "name": "stdout",
     "output_type": "stream",
     "text": [
      "name: 1\n",
      "['Nederburg Private Collection Shiraz']\n",
      "url_product: 1\n",
      "['https://www.i-d-s.com/dubai/nederburg-private-collection-shiraz-za1032.html']\n",
      "prices: 1\n",
      "reduced prices: 1\n",
      "['13.65']\n",
      "https://www.i-d-s.com/dubai/wine/wines-by-country/south-africa.html?p=5\n"
     ]
    },
    {
     "name": "stderr",
     "output_type": "stream",
     "text": [
      "/var/folders/9z/sjrbpv9j1996t3_4wv3ry65c0000gn/T/ipykernel_16448/1430148339.py:83: FutureWarning: The frame.append method is deprecated and will be removed from pandas in a future version. Use pandas.concat instead.\n",
      "  df_aggregated=df_aggregated.append(df)\n"
     ]
    },
    {
     "name": "stdout",
     "output_type": "stream",
     "text": [
      "name: 0\n",
      "[]\n",
      "url_product: 0\n",
      "[]\n",
      "prices: 0\n",
      "reduced prices: 0\n",
      "[]\n",
      "---------------\n"
     ]
    },
    {
     "name": "stderr",
     "output_type": "stream",
     "text": [
      "/var/folders/9z/sjrbpv9j1996t3_4wv3ry65c0000gn/T/ipykernel_16448/1430148339.py:83: FutureWarning: The frame.append method is deprecated and will be removed from pandas in a future version. Use pandas.concat instead.\n",
      "  df_aggregated=df_aggregated.append(df)\n"
     ]
    },
    {
     "name": "stdout",
     "output_type": "stream",
     "text": [
      "uk\n",
      "https://www.i-d-s.com/dubai/wine/wines-by-country/united-kingdom.html?p=1\n",
      "name: 12\n",
      "['Henners Brut, Sussex, US Label', 'Chapel Down Flint Dry', 'Rathfinny Wine Estate, Rosé Brut', 'Rathfinny Sparkling Brut', 'Nyetimber Blanc de Blancs', 'Chapel Down English Sparkling Rosé', 'Nyetimber Rosé', 'Sharpham Dart Valley Reserve', 'Bolney Lychgate Bacchus', 'Henners Native Grace Chardonnay 2018', 'Henners Gardner Street Classic', 'Bolney Winemaker’s Edition Red']\n",
      "url_product: 12\n",
      "['https://www.i-d-s.com/dubai/henners-brut-sussex-us-label-sw1077.html', 'https://www.i-d-s.com/dubai/chapel-down-flint-dry-gb2001.html', 'https://www.i-d-s.com/dubai/rathfinny-wine-estate-ros-brut-sw1039.html', 'https://www.i-d-s.com/dubai/rathfinny-sparkling-brut-sw4061.html', 'https://www.i-d-s.com/dubai/nyetimber-blanc-de-blancs-sw4058.html', 'https://www.i-d-s.com/dubai/chapel-down-english-rose-nv-sw1048.html', 'https://www.i-d-s.com/dubai/nyetimber-ros-sw4057.html', 'https://www.i-d-s.com/dubai/sharpham-dart-valley-reserve-gb3002.html', 'https://www.i-d-s.com/dubai/bolney-lychgate-bacchus-gb3007.html', 'https://www.i-d-s.com/dubai/henners-native-grace-chardonnay-2018-en2000.html', 'https://www.i-d-s.com/dubai/henners-gardner-street-classic-gb4002.html', 'https://www.i-d-s.com/dubai/bolney-winemaker-s-edition-red-gb3006.html']\n",
      "prices: 12\n",
      "reduced prices: 12\n",
      "['27.95', '16.45', '29.99', '26.00', '67.15', '38.50', '55.45', '11.99', '23.75', '21.99', '20.70', '27.10']\n",
      "https://www.i-d-s.com/dubai/wine/wines-by-country/united-kingdom.html?p=2\n"
     ]
    },
    {
     "name": "stderr",
     "output_type": "stream",
     "text": [
      "/var/folders/9z/sjrbpv9j1996t3_4wv3ry65c0000gn/T/ipykernel_16448/1430148339.py:83: FutureWarning: The frame.append method is deprecated and will be removed from pandas in a future version. Use pandas.concat instead.\n",
      "  df_aggregated=df_aggregated.append(df)\n"
     ]
    },
    {
     "name": "stdout",
     "output_type": "stream",
     "text": [
      "name: 6\n",
      "['Sharpham Estate Little Bee Wild Ferment Pinot Gris', 'Bolney Bubbly Sparkling', 'Nyetimber Classic Cuvee Multi-Vintage', 'Henners Brut, Sussex', 'Rathfinny Cradle Valley, Pinot Blanc', 'Litmus Red Pinot 2018']\n",
      "url_product: 6\n",
      "['https://www.i-d-s.com/dubai/sharpham-estate-little-bee-wild-ferment-pinot-gris-gb1006.html', 'https://www.i-d-s.com/dubai/bolney-bubbly-sparkling-sw1037.html', 'https://www.i-d-s.com/dubai/nyetimber-classic-cuvee-multi-vintage-sw1038.html', 'https://www.i-d-s.com/dubai/henners-brut-sussex-sw3002.html', 'https://www.i-d-s.com/dubai/rathfinny-cradle-valley-pinot-blanc-gb1005.html', 'https://www.i-d-s.com/dubai/litmus-red-pinot-2018-gb4003.html']\n",
      "prices: 6\n",
      "reduced prices: 6\n",
      "['26.60', '37.90', '44.50', '42.50', '15.45', '31.90']\n",
      "https://www.i-d-s.com/dubai/wine/wines-by-country/united-kingdom.html?p=3\n"
     ]
    },
    {
     "name": "stderr",
     "output_type": "stream",
     "text": [
      "/var/folders/9z/sjrbpv9j1996t3_4wv3ry65c0000gn/T/ipykernel_16448/1430148339.py:83: FutureWarning: The frame.append method is deprecated and will be removed from pandas in a future version. Use pandas.concat instead.\n",
      "  df_aggregated=df_aggregated.append(df)\n"
     ]
    },
    {
     "name": "stdout",
     "output_type": "stream",
     "text": [
      "name: 0\n",
      "[]\n",
      "url_product: 0\n",
      "[]\n",
      "prices: 0\n",
      "reduced prices: 0\n",
      "[]\n",
      "---------------\n"
     ]
    },
    {
     "name": "stderr",
     "output_type": "stream",
     "text": [
      "/var/folders/9z/sjrbpv9j1996t3_4wv3ry65c0000gn/T/ipykernel_16448/1430148339.py:83: FutureWarning: The frame.append method is deprecated and will be removed from pandas in a future version. Use pandas.concat instead.\n",
      "  df_aggregated=df_aggregated.append(df)\n"
     ]
    },
    {
     "name": "stdout",
     "output_type": "stream",
     "text": [
      "usa\n",
      "https://www.i-d-s.com/dubai/wine/wines-by-country/usa.html?p=1\n",
      "name: 12\n",
      "['Domaine Ste Michelle Brut', 'Reata Chardonnay', 'True Myth Chardonnay', 'Bread &amp; Butter Merlot', 'Bread &amp; Butter Pinot Grigio', 'Hartford Court Russian River Valley  Pinot Noir', 'Stonestreet Estate Vineyard Cabernet Sauvignon', 'Ferrari Carano Cabernet Sauvignon', \"Stags' Leap Merlot, Napa Valley\", 'Freemark Abbey Cabernet Sauvignon, Napa Valley', 'Mt. Brave Mount Veeder Malbec', 'La Crema Chardonnay, Monterey']\n",
      "url_product: 12\n",
      "['https://www.i-d-s.com/dubai/domaine-ste-michelle-brut-sw1031.html', 'https://www.i-d-s.com/dubai/reata-chardonnay-us4039.html', 'https://www.i-d-s.com/dubai/true-myth-chardonnay-us4040.html', 'https://www.i-d-s.com/dubai/bread-butter-merlot-us4041.html', 'https://www.i-d-s.com/dubai/bread-butter-pinot-grigio-us4037.html', 'https://www.i-d-s.com/dubai/hartford-court-russian-river-valley-pinot-noir-us1131.html', 'https://www.i-d-s.com/dubai/stonestreet-estate-vineyard-cabernet-sauvignon-us2010.html', 'https://www.i-d-s.com/dubai/ferrari-carano-cabernet-sauvignon-us2043.html', 'https://www.i-d-s.com/dubai/stags-leap-merlot-napa-valley-us2049.html', 'https://www.i-d-s.com/dubai/freemark-abbey-cabernet-sauvignon-napa-valley-us2051.html', 'https://www.i-d-s.com/dubai/mt-brave-mount-veeder-malbec-us2055.html', 'https://www.i-d-s.com/dubai/la-crema-chardonnay-monterey-us2062.html']\n",
      "prices: 12\n",
      "reduced prices: 12\n",
      "['16.30', '14.80', '12.55', '14.50', '14.20', '35.00', '41.45', '36.99', '55.65', '49.45', '78.60', '19.70']\n",
      "https://www.i-d-s.com/dubai/wine/wines-by-country/usa.html?p=2\n"
     ]
    },
    {
     "name": "stderr",
     "output_type": "stream",
     "text": [
      "/var/folders/9z/sjrbpv9j1996t3_4wv3ry65c0000gn/T/ipykernel_16448/1430148339.py:83: FutureWarning: The frame.append method is deprecated and will be removed from pandas in a future version. Use pandas.concat instead.\n",
      "  df_aggregated=df_aggregated.append(df)\n"
     ]
    },
    {
     "name": "stdout",
     "output_type": "stream",
     "text": [
      "name: 12\n",
      "['Kendall-Jackson Grand Reserve Cabernet Sauvignon, Sonoma/Napa', \"Hartford Court Land's Edge Vineyard Pinot Noir\", 'Hartford Court \"Jennifer\\'s Vineyard\" Russian River Chardonnay', 'Hartford Court Four Hearts Vineyard Chardonnay', 'Cambria Estate \"Julia\\'s Vineyard\" Pinot Noir', 'Hartford Zinfandel, Russian River Valley', 'Jackson Estate Chardonnay, Santa Maria Valley', 'WillaKenzie Estate Pinot Gris, Willamette Valley', 'Gran Moraine Pinot Noir, Yamhill-Carlton', 'WillaKenzie Pinot Noir, Willamette Valley', 'Murphy-Goode \"Liar\\'s Dice\" Zinfandel, Sonoma County', 'Bread &amp; Butter Chardonnay']\n",
      "url_product: 12\n",
      "['https://www.i-d-s.com/dubai/kendall-jackson-grand-reserve-cabernet-sauvignon-sonoma-napa-us2099.html', 'https://www.i-d-s.com/dubai/hartford-court-land-s-edge-vineyard-pinot-noir-us2100.html', 'https://www.i-d-s.com/dubai/hartford-court-jennifer-s-vineyard-russian-river-chardonnay-us2108.html', 'https://www.i-d-s.com/dubai/hartford-court-four-hearts-vineyard-chardonnay-us2109.html', 'https://www.i-d-s.com/dubai/cambria-estate-julia-s-vineyard-pinot-noir-us2111.html', 'https://www.i-d-s.com/dubai/hartford-zinfandel-russian-river-valley-us2114.html', 'https://www.i-d-s.com/dubai/jackson-estate-chardonnay-santa-maria-valley-us2130.html', 'https://www.i-d-s.com/dubai/willakenzie-estate-pinot-gris-willamette-valley-us2141.html', 'https://www.i-d-s.com/dubai/gran-moraine-pinot-noir-yamhill-carlton-us2145.html', 'https://www.i-d-s.com/dubai/willakenzie-pinot-noir-willamette-valley-us2146.html', 'https://www.i-d-s.com/dubai/murphy-goode-liar-s-dice-zinfandel-sonoma-county-us2095.html', 'https://www.i-d-s.com/dubai/bread-butter-chardonnay-us1001.html']\n",
      "prices: 12\n",
      "reduced prices: 12\n",
      "['28.95', '52.45', '29.45', '57.45', '24.20', '39.99', '22.70', '21.50', '37.90', '27.20', '19.99', '14.20']\n",
      "https://www.i-d-s.com/dubai/wine/wines-by-country/usa.html?p=3\n"
     ]
    },
    {
     "name": "stderr",
     "output_type": "stream",
     "text": [
      "/var/folders/9z/sjrbpv9j1996t3_4wv3ry65c0000gn/T/ipykernel_16448/1430148339.py:83: FutureWarning: The frame.append method is deprecated and will be removed from pandas in a future version. Use pandas.concat instead.\n",
      "  df_aggregated=df_aggregated.append(df)\n"
     ]
    },
    {
     "name": "stdout",
     "output_type": "stream",
     "text": [
      "name: 12\n",
      "[\"Kendall-Jackson Vintner's Reserve Merlot, Sonoma County\", \"Kendall-Jackson Vintner's Reserve Cabernet Sauvignon, Sonoma County\", \"Kendall-Jackson 'Jackson Estate' Pinot Noir, Anderson Valley\", \"Kendall-Jackson Vintner's Reserve Zinfandel, Mendocino\", 'Murphy Goode Merlot', 'Line 39 Caberet Sauvignon', 'Line 39 Merlot', 'Line 39 Pinot Noir', 'Dark Horse Cabernet Sauvignon', 'Leaping Horse Chardonnay', 'Leaping Horse Pinot Grigio', 'Leaping Horse Cabernet Sauvignon']\n",
      "url_product: 12\n",
      "['https://www.i-d-s.com/dubai/kendall-jackson-vintner-s-reserve-merlot-california-us2200.html', 'https://www.i-d-s.com/dubai/kendall-jackson-vintner-s-reserve-cabernet-sauvignon-california-us2090.html', 'https://www.i-d-s.com/dubai/kendall-jackson-jackson-estate-pinot-noir-anderson-valley-us2074.html', 'https://www.i-d-s.com/dubai/kendall-jackson-vintner-s-reserve-zinfandel-mendocino-us2069.html', 'https://www.i-d-s.com/dubai/murphy-goode-merlot-us1050.html', 'https://www.i-d-s.com/dubai/line-39-caberet-sauvignon-us1069.html', 'https://www.i-d-s.com/dubai/line-39-merlot-us1068.html', 'https://www.i-d-s.com/dubai/line-39-pinot-noir-us1067.html', 'https://www.i-d-s.com/dubai/dark-horse-cabernet-sauvignon-us2233.html', 'https://www.i-d-s.com/dubai/leaping-horse-chardonnay-us1097.html', 'https://www.i-d-s.com/dubai/leaping-horse-pinot-grigio-us1096.html', 'https://www.i-d-s.com/dubai/leaping-horse-cabernet-sauvignon-us1095.html']\n",
      "prices: 12\n",
      "reduced prices: 12\n",
      "['19.99', '17.99', '21.50', '12.99', '11.99', '12.35', '12.35', '12.35', '9.75', '11.45', '11.45', '10.95']\n",
      "https://www.i-d-s.com/dubai/wine/wines-by-country/usa.html?p=4\n"
     ]
    },
    {
     "name": "stderr",
     "output_type": "stream",
     "text": [
      "/var/folders/9z/sjrbpv9j1996t3_4wv3ry65c0000gn/T/ipykernel_16448/1430148339.py:83: FutureWarning: The frame.append method is deprecated and will be removed from pandas in a future version. Use pandas.concat instead.\n",
      "  df_aggregated=df_aggregated.append(df)\n"
     ]
    },
    {
     "name": "stdout",
     "output_type": "stream",
     "text": [
      "name: 12\n",
      "['Leaping Horse Merlot', 'Obsession Symphony-Peach', 'Obsession Rose', 'Obsession Symphony', 'Barefoot Sweet Red', 'Apothic Red Cabernet Sauvignon', 'Kendall-Jackson Grand Reserve Pinot Noir, Anderson Valley', 'Cambria Estate \"Katherine\\'s Vineyard\" Chardonnay', 'Nielson Chardonnay, Santa Barbara', 'Byron Nielson Vineyard Chardonnay', 'Ironstone Vineyards Reserve Chardonnay', 'Charles Smith Devil Merlot']\n",
      "url_product: 12\n",
      "['https://www.i-d-s.com/dubai/leaping-horse-merlot-us1094.html', 'https://www.i-d-s.com/dubai/obsession-symphony-peach-us1093.html', 'https://www.i-d-s.com/dubai/obsession-rose-us1091.html', 'https://www.i-d-s.com/dubai/obsession-symphony-us1090.html', 'https://www.i-d-s.com/dubai/barefoot-sweet-red-us2222.html', 'https://www.i-d-s.com/dubai/apothic-red-cabernet-sauvignon-us2227.html', 'https://www.i-d-s.com/dubai/kendall-jackson-grand-reserve-pinot-noir-anderson-valley-us2075.html', 'https://www.i-d-s.com/dubai/cambria-estate-katherine-s-vineyard-chardonnay-us2105.html', 'https://www.i-d-s.com/dubai/nielson-chardonnay-santa-barbara-us2119.html', 'https://www.i-d-s.com/dubai/byron-nielson-vineyard-chardonnay-us2131.html', 'https://www.i-d-s.com/dubai/ironstone-vineyards-reserve-chardonnay-us1108.html', 'https://www.i-d-s.com/dubai/charles-smith-devil-merlot-us1054.html']\n",
      "prices: 12\n",
      "reduced prices: 12\n",
      "['11.45', '11.65', '12.15', '12.15', '4.99', '12.95', '21.99', '16.99', '14.45', '22.45', '12.90', '17.10']\n",
      "https://www.i-d-s.com/dubai/wine/wines-by-country/usa.html?p=5\n"
     ]
    },
    {
     "name": "stderr",
     "output_type": "stream",
     "text": [
      "/var/folders/9z/sjrbpv9j1996t3_4wv3ry65c0000gn/T/ipykernel_16448/1430148339.py:83: FutureWarning: The frame.append method is deprecated and will be removed from pandas in a future version. Use pandas.concat instead.\n",
      "  df_aggregated=df_aggregated.append(df)\n"
     ]
    },
    {
     "name": "stdout",
     "output_type": "stream",
     "text": [
      "name: 12\n",
      "['Columbia Crest, Grand Estates Chardonnay', 'Line 39 Pinot Grigio', 'Columbia Crest, Two Vines Chardonnay', 'Line 39 Sauvignon Blanc', 'Line 39 Chardonnay', 'Jordan Winery Chardonnay, Russian River Valley', 'Callaway Merlot', 'Line 39 Excursion Red Blend', 'Line 39 Petite Sirah', 'Jordan Winery Cabernet Sauvignon, Alexander Valley', \"Kendall-Jackson Vintner's Reserve Chardonnay, California\", 'Douglass Hill Chardonnay']\n",
      "url_product: 12\n",
      "['https://www.i-d-s.com/dubai/columbia-crest-grand-estates-chardonnay-us1105.html', 'https://www.i-d-s.com/dubai/line-39-pinot-grigio-us1064.html', 'https://www.i-d-s.com/dubai/columbia-crest-two-vines-chardonnay-us1104.html', 'https://www.i-d-s.com/dubai/line-39-sauvignon-blanc-us1065.html', 'https://www.i-d-s.com/dubai/line-39-chardonnay-us1066.html', 'https://www.i-d-s.com/dubai/jordan-vineyard-winery-chardonnay-us1072.html', 'https://www.i-d-s.com/dubai/callaway-merlot-us1062.html', 'https://www.i-d-s.com/dubai/line-39-excursion-red-blend-us1070.html', 'https://www.i-d-s.com/dubai/line-39-petite-sirah-us1071.html', 'https://www.i-d-s.com/dubai/jordan-vineyard-winery-cabernet-sauvignon-us1073.html', 'https://www.i-d-s.com/dubai/kendall-jackson-vintner-s-reserve-chardonnay-california-us2001.html', 'https://www.i-d-s.com/dubai/douglass-hill-chardonnay-us1003.html']\n",
      "prices: 12\n",
      "reduced prices: 12\n",
      "['14.99', '12.95', '9.99', '12.05', '12.05', '29.99', '10.65', '12.35', '12.35', '51.95', '11.99', '5.99']\n",
      "https://www.i-d-s.com/dubai/wine/wines-by-country/usa.html?p=6\n"
     ]
    },
    {
     "name": "stderr",
     "output_type": "stream",
     "text": [
      "/var/folders/9z/sjrbpv9j1996t3_4wv3ry65c0000gn/T/ipykernel_16448/1430148339.py:83: FutureWarning: The frame.append method is deprecated and will be removed from pandas in a future version. Use pandas.concat instead.\n",
      "  df_aggregated=df_aggregated.append(df)\n"
     ]
    },
    {
     "name": "stdout",
     "output_type": "stream",
     "text": [
      "name: 12\n",
      "['Dark Horse Sauvignon Blanc', 'Dark Horse Chardonnay', 'Wente Vineyards Morning Fog Chardonnay', 'Wente Vineyards Louis Mel Sauvignon Blanc', 'The Bulletin Zinfandel Rosé', 'Bread &amp; Butter Pinot Noir', 'Bread &amp; Butter Cabernet Sauvignon', 'Douglass Hill Shiraz', 'Douglass Hill Cabernet Sauvignon', 'Cabaret Frank No.2 \"The Aviary\", Old Vine Cabernet Franc', 'Dark Horse Merlot', 'Robert Mondavi Woodbridge Cabernet Sauvignon']\n",
      "url_product: 12\n",
      "['https://www.i-d-s.com/dubai/dark-horse-sauvignon-blanc-us1004.html', 'https://www.i-d-s.com/dubai/dark-horse-chardonnay-us1005.html', 'https://www.i-d-s.com/dubai/wente-vineyards-morning-fog-chardonnay-us1008.html', 'https://www.i-d-s.com/dubai/wente-vineyards-louis-mel-sauvignon-blanc-us1009.html', 'https://www.i-d-s.com/dubai/the-bulletin-zinfandel-rose-us1013.html', 'https://www.i-d-s.com/dubai/bread-butter-pinot-noir-us1014.html', 'https://www.i-d-s.com/dubai/bread-butter-cabernet-sauvignon-us1015.html', 'https://www.i-d-s.com/dubai/douglass-hill-shiraz-us1016.html', 'https://www.i-d-s.com/dubai/douglass-hill-cabernet-sauvignon-us1017.html', 'https://www.i-d-s.com/dubai/cabaret-frank-no-2-the-aviary-old-vine-cabernet-franc-us1021.html', 'https://www.i-d-s.com/dubai/dark-horse-merlot-us1024.html', 'https://www.i-d-s.com/dubai/robert-mondavi-woodbridge-cabernet-sauvignon-us1025.html']\n",
      "prices: 12\n",
      "reduced prices: 12\n",
      "['9.75', '9.75', '13.55', '14.35', '7.20', '15.60', '15.60', '8.30', '8.30', '9.25', '9.75', '13.15']\n",
      "https://www.i-d-s.com/dubai/wine/wines-by-country/usa.html?p=7\n"
     ]
    },
    {
     "name": "stderr",
     "output_type": "stream",
     "text": [
      "/var/folders/9z/sjrbpv9j1996t3_4wv3ry65c0000gn/T/ipykernel_16448/1430148339.py:83: FutureWarning: The frame.append method is deprecated and will be removed from pandas in a future version. Use pandas.concat instead.\n",
      "  df_aggregated=df_aggregated.append(df)\n"
     ]
    },
    {
     "name": "stdout",
     "output_type": "stream",
     "text": [
      "name: 9\n",
      "['Wente Vineyards Southern Hills Cabernet Sauvignon', 'Wente Vineyards Beyer Ranch Zinfandel', 'Wente Vineyards Sandstone Merlot', 'Apothic Red', 'Wente Vineyards Charles Wetmore Cabernet Sauvignon', 'Wente Vineyards Riva Ranch Pinot Noir', 'Ironstone Vineyards Rous Vineyard Old Vine Reserve Zinfandel', 'Ironstone Vineyards Reserve Cabernet Sauvignon', 'Pine Ridge Vineyards Cabernet Sauvignon']\n",
      "url_product: 9\n",
      "['https://www.i-d-s.com/dubai/wente-vineyards-southern-hills-cabernet-sauvignon-us1027.html', 'https://www.i-d-s.com/dubai/wente-vineyards-beyer-ranch-zinfandel-us1028.html', 'https://www.i-d-s.com/dubai/wente-vineyards-sandstone-merlot-us1029.html', 'https://www.i-d-s.com/dubai/apothic-red-us1030.html', 'https://www.i-d-s.com/dubai/wente-vineyards-charles-wetmore-cabernet-sauvignon-us1032.html', 'https://www.i-d-s.com/dubai/wente-vineyards-riva-ranch-pinot-noir-us1033.html', 'https://www.i-d-s.com/dubai/ironstone-vineyards-rous-vineyard-old-vine-reserve-zinfandel-us1034.html', 'https://www.i-d-s.com/dubai/ironstone-vineyards-reserve-cabernet-sauvignon-us1035.html', 'https://www.i-d-s.com/dubai/pine-ridge-vineyards-cabernet-sauvignon-us1039.html']\n",
      "prices: 9\n",
      "reduced prices: 9\n",
      "['9.99', '14.15', '14.15', '13.35', '23.20', '23.20', '21.80', '22.50', '93.80']\n",
      "https://www.i-d-s.com/dubai/wine/wines-by-country/usa.html?p=8\n"
     ]
    },
    {
     "name": "stderr",
     "output_type": "stream",
     "text": [
      "/var/folders/9z/sjrbpv9j1996t3_4wv3ry65c0000gn/T/ipykernel_16448/1430148339.py:83: FutureWarning: The frame.append method is deprecated and will be removed from pandas in a future version. Use pandas.concat instead.\n",
      "  df_aggregated=df_aggregated.append(df)\n"
     ]
    },
    {
     "name": "stdout",
     "output_type": "stream",
     "text": [
      "name: 0\n",
      "[]\n",
      "url_product: 0\n",
      "[]\n",
      "prices: 0\n",
      "reduced prices: 0\n",
      "[]\n",
      "---------------\n"
     ]
    },
    {
     "name": "stderr",
     "output_type": "stream",
     "text": [
      "/var/folders/9z/sjrbpv9j1996t3_4wv3ry65c0000gn/T/ipykernel_16448/1430148339.py:83: FutureWarning: The frame.append method is deprecated and will be removed from pandas in a future version. Use pandas.concat instead.\n",
      "  df_aggregated=df_aggregated.append(df)\n"
     ]
    },
    {
     "name": "stdout",
     "output_type": "stream",
     "text": [
      "portugal\n",
      "https://www.i-d-s.com/dubai/wine/wines-by-country/portugal.html?p=1\n",
      "name: 8\n",
      "[\"Taylor's Fine Tawny Port\", \"Taylor's LBV\", 'Sandeman Ruby Port', 'Offley Vintage Port', \"Dow's Vintage Port\", \"Taylor's Fine Ruby Port\", 'Mateus Rosé', 'Herdade Do Esporão Reserva Red Magnum (1.5L)']\n",
      "url_product: 8\n",
      "['https://www.i-d-s.com/dubai/taylor-s-fine-tawny-port-fd1004.html', 'https://www.i-d-s.com/dubai/taylor-s-lbv-fd1005.html', 'https://www.i-d-s.com/dubai/sandeman-ruby-port-fd2000.html', 'https://www.i-d-s.com/dubai/offley-vintage-port-fd2001.html', 'https://www.i-d-s.com/dubai/dow-s-vintage-port-fd2005.html', 'https://www.i-d-s.com/dubai/taylor-s-fine-ruby-port-fd4033.html', 'https://www.i-d-s.com/dubai/mateus-ros-pt1002.html', 'https://www.i-d-s.com/dubai/herdade-do-espor-o-reserva-red-magnum-1-5l-pt4030.html']\n",
      "prices: 8\n",
      "reduced prices: 8\n",
      "['15.55', '21.60', '13.80', '62.95', '120.45', '13.15', '9.60', '31.65']\n",
      "https://www.i-d-s.com/dubai/wine/wines-by-country/portugal.html?p=2\n"
     ]
    },
    {
     "name": "stderr",
     "output_type": "stream",
     "text": [
      "/var/folders/9z/sjrbpv9j1996t3_4wv3ry65c0000gn/T/ipykernel_16448/1430148339.py:83: FutureWarning: The frame.append method is deprecated and will be removed from pandas in a future version. Use pandas.concat instead.\n",
      "  df_aggregated=df_aggregated.append(df)\n"
     ]
    },
    {
     "name": "stdout",
     "output_type": "stream",
     "text": [
      "name: 0\n",
      "[]\n",
      "url_product: 0\n",
      "[]\n",
      "prices: 0\n",
      "reduced prices: 0\n",
      "[]\n",
      "---------------\n"
     ]
    },
    {
     "name": "stderr",
     "output_type": "stream",
     "text": [
      "/var/folders/9z/sjrbpv9j1996t3_4wv3ry65c0000gn/T/ipykernel_16448/1430148339.py:83: FutureWarning: The frame.append method is deprecated and will be removed from pandas in a future version. Use pandas.concat instead.\n",
      "  df_aggregated=df_aggregated.append(df)\n"
     ]
    },
    {
     "name": "stdout",
     "output_type": "stream",
     "text": [
      "canada\n",
      "https://www.i-d-s.com/dubai/wine/wines-by-country/canada.html?p=1\n",
      "name: 12\n",
      "[\"Quails' Gate Chardonnay, Okanagan&nbsp;&nbsp;&nbsp;&nbsp;&nbsp;&nbsp;&nbsp;&nbsp;&nbsp;&nbsp;&nbsp;&nbsp;&nbsp; &nbsp;&nbsp;&nbsp;&nbsp;&nbsp;&nbsp;&nbsp;&nbsp;&nbsp;&nbsp;&nbsp;&nbsp;&nbsp;&nbsp;&nbsp;&nbsp;&nbsp;&nbsp;&nbsp;&nbsp;&nbsp;&nbsp;&nbsp;&nbsp;&nbsp;&nbsp;\", \"Quails' Gate Pinot Noir, Okanagan&nbsp;&nbsp;&nbsp;&nbsp;&nbsp;&nbsp;&nbsp;&nbsp;&nbsp;&nbsp;&nbsp;&nbsp;&nbsp; &nbsp;&nbsp;&nbsp;&nbsp;&nbsp;&nbsp;&nbsp;&nbsp;&nbsp;&nbsp;&nbsp;&nbsp;&nbsp;&nbsp;&nbsp;&nbsp;&nbsp;&nbsp;&nbsp;&nbsp;&nbsp;&nbsp;&nbsp;&nbsp;&nbsp;&nbsp;\", 'Trius Merlot', 'Le Clos Jordanne `Le Grand Clos` Niagara Chardonnay, Ontario', 'Inniskillin `Gold` Niagara Vidal Icewine', 'Inniskillin Niagara Riesling Icewine, Ontario', 'Peller, Ice Cuvée Sparkling', 'Peller, Ice Cuvée Rosé', 'Inniskillin Niagara Vidal Sparkling Icewine', 'Bachelder Niagara Chardonnay, VQA Niagara Peninsula Les Villages', 'Project B Sauvignon Blanc', 'Mission Hill Reserve Pinot Noir']\n",
      "url_product: 12\n",
      "['https://www.i-d-s.com/dubai/quails-gate-chardonnay-okanagan-ca1003.html', 'https://www.i-d-s.com/dubai/quails-gate-pinot-noir-okanagan-ca1004.html', 'https://www.i-d-s.com/dubai/trius-merlot-ca1001.html', 'https://www.i-d-s.com/dubai/le-clos-jordanne-le-grand-clos-niagara-chardonnay-ontario-ca1008.html', 'https://www.i-d-s.com/dubai/inniskillin-gold-niagara-vidal-icewine-dw4011.html', 'https://www.i-d-s.com/dubai/inniskillin-niagara-riesling-icewine-ontario-ca1021.html', 'https://www.i-d-s.com/dubai/peller-ice-cuv-e-sparkling-sw1073.html', 'https://www.i-d-s.com/dubai/peller-ice-cuv-e-ros-sw1074.html', 'https://www.i-d-s.com/dubai/inniskillin-niagara-vidal-sparkling-icewine-dw4012.html', 'https://www.i-d-s.com/dubai/bachelder-niagara-chardonnay-vqa-niagara-peninsula-les-villages-ca4004.html', 'https://www.i-d-s.com/dubai/project-b-sauvignon-blanc-ca1005.html', 'https://www.i-d-s.com/dubai/mission-hill-reserve-pinot-noir-ca1014.html']\n",
      "prices: 12\n",
      "reduced prices: 12\n",
      "['29.99', '30.00', '24.85', '47.15', '65.50', '80.80', '38.60', '56.20', '69.99', '34.99', '24.99', '24.05']\n",
      "https://www.i-d-s.com/dubai/wine/wines-by-country/canada.html?p=2\n"
     ]
    },
    {
     "name": "stderr",
     "output_type": "stream",
     "text": [
      "/var/folders/9z/sjrbpv9j1996t3_4wv3ry65c0000gn/T/ipykernel_16448/1430148339.py:83: FutureWarning: The frame.append method is deprecated and will be removed from pandas in a future version. Use pandas.concat instead.\n",
      "  df_aggregated=df_aggregated.append(df)\n"
     ]
    },
    {
     "name": "stdout",
     "output_type": "stream",
     "text": [
      "name: 7\n",
      "['Mission Hill Vistas Edge Cabernet Franc', 'Norman Hardie Pinot Noir', 'Stratus Cabernet Franc', 'Le Clos Jordanne `Le Grand Clos` Niagara Pinot Noir, Ontario', 'Bachelder `Wismer-Parke` 20 Mile Bench Niagara Pinot Noir, Ontario', 'Inniskillin Niagara Cabernet Franc Icewine, Ontario', 'Peller Peller, Vidal Icewine']\n",
      "url_product: 7\n",
      "['https://www.i-d-s.com/dubai/mission-hill-vistas-edge-cabernet-franc-ca1015.html', 'https://www.i-d-s.com/dubai/norman-hardie-pinot-noir-ca4001.html', 'https://www.i-d-s.com/dubai/stratus-cabernet-franc-ca1016.html', 'https://www.i-d-s.com/dubai/le-clos-jordanne-le-grand-clos-niagara-pinot-noir-ontario-ca1007.html', 'https://www.i-d-s.com/dubai/bachelder-wismer-parke-20-mile-bench-niagara-pinot-noir-ontario-ca1020.html', 'https://www.i-d-s.com/dubai/inniskillin-niagara-cabernet-franc-icewine-ontario-ca1022.html', 'https://www.i-d-s.com/dubai/peller-peller-vidal-icewine-ca1009.html']\n",
      "prices: 7\n",
      "reduced prices: 7\n",
      "['45.90', '34.99', '44.45', '48.10', '45.45', '100.10', '56.85']\n",
      "https://www.i-d-s.com/dubai/wine/wines-by-country/canada.html?p=3\n"
     ]
    },
    {
     "name": "stderr",
     "output_type": "stream",
     "text": [
      "/var/folders/9z/sjrbpv9j1996t3_4wv3ry65c0000gn/T/ipykernel_16448/1430148339.py:83: FutureWarning: The frame.append method is deprecated and will be removed from pandas in a future version. Use pandas.concat instead.\n",
      "  df_aggregated=df_aggregated.append(df)\n"
     ]
    },
    {
     "name": "stdout",
     "output_type": "stream",
     "text": [
      "name: 0\n",
      "[]\n",
      "url_product: 0\n",
      "[]\n",
      "prices: 0\n",
      "reduced prices: 0\n",
      "[]\n",
      "---------------\n"
     ]
    },
    {
     "name": "stderr",
     "output_type": "stream",
     "text": [
      "/var/folders/9z/sjrbpv9j1996t3_4wv3ry65c0000gn/T/ipykernel_16448/1430148339.py:83: FutureWarning: The frame.append method is deprecated and will be removed from pandas in a future version. Use pandas.concat instead.\n",
      "  df_aggregated=df_aggregated.append(df)\n"
     ]
    },
    {
     "name": "stdout",
     "output_type": "stream",
     "text": [
      "united_kingdom\n",
      "https://www.i-d-s.com/dubai/wine/wines-by-country/united-kingdom.html?p=1\n",
      "name: 12\n",
      "['Henners Brut, Sussex, US Label', 'Chapel Down Flint Dry', 'Rathfinny Wine Estate, Rosé Brut', 'Rathfinny Sparkling Brut', 'Nyetimber Blanc de Blancs', 'Chapel Down English Sparkling Rosé', 'Nyetimber Rosé', 'Sharpham Dart Valley Reserve', 'Bolney Lychgate Bacchus', 'Henners Native Grace Chardonnay 2018', 'Henners Gardner Street Classic', 'Bolney Winemaker’s Edition Red']\n",
      "url_product: 12\n",
      "['https://www.i-d-s.com/dubai/henners-brut-sussex-us-label-sw1077.html', 'https://www.i-d-s.com/dubai/chapel-down-flint-dry-gb2001.html', 'https://www.i-d-s.com/dubai/rathfinny-wine-estate-ros-brut-sw1039.html', 'https://www.i-d-s.com/dubai/rathfinny-sparkling-brut-sw4061.html', 'https://www.i-d-s.com/dubai/nyetimber-blanc-de-blancs-sw4058.html', 'https://www.i-d-s.com/dubai/chapel-down-english-rose-nv-sw1048.html', 'https://www.i-d-s.com/dubai/nyetimber-ros-sw4057.html', 'https://www.i-d-s.com/dubai/sharpham-dart-valley-reserve-gb3002.html', 'https://www.i-d-s.com/dubai/bolney-lychgate-bacchus-gb3007.html', 'https://www.i-d-s.com/dubai/henners-native-grace-chardonnay-2018-en2000.html', 'https://www.i-d-s.com/dubai/henners-gardner-street-classic-gb4002.html', 'https://www.i-d-s.com/dubai/bolney-winemaker-s-edition-red-gb3006.html']\n",
      "prices: 12\n",
      "reduced prices: 12\n",
      "['27.95', '16.45', '29.99', '26.00', '67.15', '38.50', '55.45', '11.99', '23.75', '21.99', '20.70', '27.10']\n",
      "https://www.i-d-s.com/dubai/wine/wines-by-country/united-kingdom.html?p=2\n"
     ]
    },
    {
     "name": "stderr",
     "output_type": "stream",
     "text": [
      "/var/folders/9z/sjrbpv9j1996t3_4wv3ry65c0000gn/T/ipykernel_16448/1430148339.py:83: FutureWarning: The frame.append method is deprecated and will be removed from pandas in a future version. Use pandas.concat instead.\n",
      "  df_aggregated=df_aggregated.append(df)\n"
     ]
    },
    {
     "name": "stdout",
     "output_type": "stream",
     "text": [
      "name: 6\n",
      "['Sharpham Estate Little Bee Wild Ferment Pinot Gris', 'Bolney Bubbly Sparkling', 'Nyetimber Classic Cuvee Multi-Vintage', 'Henners Brut, Sussex', 'Rathfinny Cradle Valley, Pinot Blanc', 'Litmus Red Pinot 2018']\n",
      "url_product: 6\n",
      "['https://www.i-d-s.com/dubai/sharpham-estate-little-bee-wild-ferment-pinot-gris-gb1006.html', 'https://www.i-d-s.com/dubai/bolney-bubbly-sparkling-sw1037.html', 'https://www.i-d-s.com/dubai/nyetimber-classic-cuvee-multi-vintage-sw1038.html', 'https://www.i-d-s.com/dubai/henners-brut-sussex-sw3002.html', 'https://www.i-d-s.com/dubai/rathfinny-cradle-valley-pinot-blanc-gb1005.html', 'https://www.i-d-s.com/dubai/litmus-red-pinot-2018-gb4003.html']\n",
      "prices: 6\n",
      "reduced prices: 6\n",
      "['26.60', '37.90', '44.50', '42.50', '15.45', '31.90']\n",
      "https://www.i-d-s.com/dubai/wine/wines-by-country/united-kingdom.html?p=3\n"
     ]
    },
    {
     "name": "stderr",
     "output_type": "stream",
     "text": [
      "/var/folders/9z/sjrbpv9j1996t3_4wv3ry65c0000gn/T/ipykernel_16448/1430148339.py:83: FutureWarning: The frame.append method is deprecated and will be removed from pandas in a future version. Use pandas.concat instead.\n",
      "  df_aggregated=df_aggregated.append(df)\n"
     ]
    },
    {
     "name": "stdout",
     "output_type": "stream",
     "text": [
      "name: 0\n",
      "[]\n",
      "url_product: 0\n",
      "[]\n",
      "prices: 0\n",
      "reduced prices: 0\n",
      "[]\n",
      "---------------\n"
     ]
    },
    {
     "name": "stderr",
     "output_type": "stream",
     "text": [
      "/var/folders/9z/sjrbpv9j1996t3_4wv3ry65c0000gn/T/ipykernel_16448/1430148339.py:83: FutureWarning: The frame.append method is deprecated and will be removed from pandas in a future version. Use pandas.concat instead.\n",
      "  df_aggregated=df_aggregated.append(df)\n"
     ]
    },
    {
     "name": "stdout",
     "output_type": "stream",
     "text": [
      "germany\n",
      "https://www.i-d-s.com/dubai/wine/wines-by-country/germany.html?p=1\n",
      "name: 12\n",
      "['Henkell Trocken Sparkling Wine', 'Henkell Trocken Sparkling Wine Rosé', 'Balthasar Ress Pinot Noir Rosé Brut Nv', 'Jean Stodden Spätburgunder JS, 2019', 'Balthasar Ress \"Prestige\"Rüdesheim Berg Schlossberg Riesling Brut Nature', 'Balthasar Ress Hattenheim Riesling Feinherb', 'Balthasar Ress Schützenhaus Riesling Kabinett', 'Von Othegraven Altenberg Riesling Spatlese', 'Alde Gott Ausblick Grauburgunder Spätlese Trocken', 'Alde Gott Ausblick Spätburgunder Spätlese Von Alten Reben Trocken', 'Heitlinger Konigsbecher Pinot Noir Gg', 'Divino Terroir Weissburgunder Thüngersheimer Johannisberg']\n",
      "url_product: 12\n",
      "['https://www.i-d-s.com/dubai/henkell-trocken-sparkling-wine-sw1004.html', 'https://www.i-d-s.com/dubai/henkell-trocken-sparkling-wine-ros-sw1005.html', 'https://www.i-d-s.com/dubai/balthasar-ress-pinot-noir-ros-brut-nv-sw4038.html', 'https://www.i-d-s.com/dubai/jean-stodden-sp-tburgunder-js-2019-ge1025.html', 'https://www.i-d-s.com/dubai/balthasar-ress-prestige-r-desheim-berg-schlossberg-riesling-brut-nature-sw4039.html', 'https://www.i-d-s.com/dubai/balthasar-ress-hattenheim-riesling-feinherb-ge1024.html', 'https://www.i-d-s.com/dubai/balthasar-ress-sch-tzenhaus-riesling-kabinett-ge1023.html', 'https://www.i-d-s.com/dubai/von-othegraven-altenberg-riesling-spatlese-ge4005.html', 'https://www.i-d-s.com/dubai/alde-gott-ausblick-grauburgunder-sp-tlese-trocken-ge4021.html', 'https://www.i-d-s.com/dubai/alde-gott-ausblick-sp-tburgunder-sp-tlese-von-alten-reben-trocken-ge4023.html', 'https://www.i-d-s.com/dubai/heitlinger-konigsbecher-pinot-noir-gg-ge4024.html', 'https://www.i-d-s.com/dubai/divino-terroir-weissburgunder-th-ngersheimer-johannisberg-ge4026.html']\n",
      "prices: 12\n",
      "reduced prices: 12\n",
      "['7.15', '7.55', '21.45', '35.95', '31.45', '16.90', '19.35', '26.99', '14.85', '26.45', '26.99', '9.99']\n",
      "https://www.i-d-s.com/dubai/wine/wines-by-country/germany.html?p=2\n"
     ]
    },
    {
     "name": "stderr",
     "output_type": "stream",
     "text": [
      "/var/folders/9z/sjrbpv9j1996t3_4wv3ry65c0000gn/T/ipykernel_16448/1430148339.py:83: FutureWarning: The frame.append method is deprecated and will be removed from pandas in a future version. Use pandas.concat instead.\n",
      "  df_aggregated=df_aggregated.append(df)\n"
     ]
    },
    {
     "name": "stdout",
     "output_type": "stream",
     "text": [
      "name: 12\n",
      "['Hofkeller Würzburg Silvaner Würzburger Stein Erste Lage Vdp', 'Hofkeller Würzburg Gg Silvaner Würzburger Stein', 'Hofkeller Würzburg Riesling Randsackerer Pfälben', 'Divino Franconia Spätburgunder', 'Schwedhelm Dornfelder', 'Cleebroon &amp; Guglingen Herzog C Lemberger', 'J. Baumer Riesling QBA', 'Villa Franz Riesling', 'Balthasar Ress Von Unserm Riesling QBA Trocken', 'Balthasar Ress Hattenheim Nussbrunnen Riesling Spatlese', 'Balthasar Ress RESSpekt Riesling', 'Balthassar Ress \"32\" Rhein Riesling']\n",
      "url_product: 12\n",
      "['https://www.i-d-s.com/dubai/hofkeller-w-rzburg-silvaner-w-rzburger-stein-erste-lage-vdp-ge4028.html', 'https://www.i-d-s.com/dubai/hofkeller-w-rzburg-gg-silvaner-w-rzburger-stein-ge4030.html', 'https://www.i-d-s.com/dubai/hofkeller-w-rzburg-riesling-randsackerer-pf-lben-ge4031.html', 'https://www.i-d-s.com/dubai/divino-franconia-sp-tburgunder-ge4032.html', 'https://www.i-d-s.com/dubai/schwedhelm-dornfelder-ge4042.html', 'https://www.i-d-s.com/dubai/cleebroon-guglingen-herzog-c-lemberger-ge4048.html', 'https://www.i-d-s.com/dubai/j-baumer-riesling-qba-ge1001.html', 'https://www.i-d-s.com/dubai/villa-franz-riesling-ge1002.html', 'https://www.i-d-s.com/dubai/balthasar-ress-von-unserm-riesling-qba-trocken-ge1003.html', 'https://www.i-d-s.com/dubai/balthasar-ress-hattenheim-nussbrunnen-riesling-spatlese-ge1005.html', 'https://www.i-d-s.com/dubai/balthasar-ress-resspekt-riesling-ge1006.html', 'https://www.i-d-s.com/dubai/balthasar-ress-32-riesling-rheingauner-landwein-ge1011.html']\n",
      "prices: 12\n",
      "reduced prices: 12\n",
      "['9.99', '28.45', '22.99', '9.99', '8.45', '9.99', '8.65', '9.95', '15.20', '35.95', '85.60', '36.70']\n",
      "https://www.i-d-s.com/dubai/wine/wines-by-country/germany.html?p=3\n"
     ]
    },
    {
     "name": "stderr",
     "output_type": "stream",
     "text": [
      "/var/folders/9z/sjrbpv9j1996t3_4wv3ry65c0000gn/T/ipykernel_16448/1430148339.py:83: FutureWarning: The frame.append method is deprecated and will be removed from pandas in a future version. Use pandas.concat instead.\n",
      "  df_aggregated=df_aggregated.append(df)\n"
     ]
    },
    {
     "name": "stdout",
     "output_type": "stream",
     "text": [
      "name: 2\n",
      "['Rudesheim Berg Schlossberg Riesling Auslese', 'Hattenheim Nussbrunnen Riesling GG Trocken']\n",
      "url_product: 2\n",
      "['https://www.i-d-s.com/dubai/balthasar-ress-rudesheim-berg-schlossberg-riesling-auslese-ge1012.html', 'https://www.i-d-s.com/dubai/hattenheim-nussbrunnen-riesling-gg-trocken-ge1016.html']\n",
      "prices: 2\n",
      "reduced prices: 2\n",
      "['45.10', '52.45']\n",
      "https://www.i-d-s.com/dubai/wine/wines-by-country/germany.html?p=4\n"
     ]
    },
    {
     "name": "stderr",
     "output_type": "stream",
     "text": [
      "/var/folders/9z/sjrbpv9j1996t3_4wv3ry65c0000gn/T/ipykernel_16448/1430148339.py:83: FutureWarning: The frame.append method is deprecated and will be removed from pandas in a future version. Use pandas.concat instead.\n",
      "  df_aggregated=df_aggregated.append(df)\n"
     ]
    },
    {
     "name": "stdout",
     "output_type": "stream",
     "text": [
      "name: 0\n",
      "[]\n",
      "url_product: 0\n",
      "[]\n",
      "prices: 0\n",
      "reduced prices: 0\n",
      "[]\n",
      "---------------\n"
     ]
    },
    {
     "name": "stderr",
     "output_type": "stream",
     "text": [
      "/var/folders/9z/sjrbpv9j1996t3_4wv3ry65c0000gn/T/ipykernel_16448/1430148339.py:83: FutureWarning: The frame.append method is deprecated and will be removed from pandas in a future version. Use pandas.concat instead.\n",
      "  df_aggregated=df_aggregated.append(df)\n"
     ]
    },
    {
     "name": "stdout",
     "output_type": "stream",
     "text": [
      "italy\n",
      "https://www.i-d-s.com/dubai/wine/wines-by-country/italy.html?p=1\n",
      "name: 12\n",
      "['MASI Nectar Costasera Amarone della Valpolicella Classico DOGC', 'MASI Campolongo di Torbe Amarone della Valpolicella Classico DOGC', 'MASI Privata Boscaini Mazzano Amarone Della Valpolicella Classico DOCG', \"Cantina Lunaria Orsogna 'Charisma' Trebianno D'Abruzzo\", 'Franz Haas `Lepus`', 'Franz Haas Manna `Cru`', 'Vigneti Del Vulture Greco/Fiano Bascilicata Pipoli', 'Cà Dei Frati `Rosa Dei Frati`', 'Cantine Belisario Vigneti Del Cerro Verdicchio Matelica', 'Prunotto Barbaresco D.O.C.G', 'Fontanafredda Barolo Di Serralunga Docg', 'Planeta Etna Bianco Doc']\n",
      "url_product: 12\n",
      "['https://www.i-d-s.com/dubai/masi-nectar-costasera-amarone-della-valpolicella-classico-dogc-it1217.html', 'https://www.i-d-s.com/dubai/masi-campolongo-di-torbe-amarone-della-valpolicella-classico-dogc-it1218.html', 'https://www.i-d-s.com/dubai/masi-privata-boscaini-mazzano-amarone-della-valpolicella-classico-docg-it1219.html', 'https://www.i-d-s.com/dubai/cantina-lunaria-orsogna-charisma-trebianno-d-abruzzo-it4002.html', 'https://www.i-d-s.com/dubai/franz-haas-lepus-it4014.html', 'https://www.i-d-s.com/dubai/franz-haas-manna-cru-it4015.html', 'https://www.i-d-s.com/dubai/vigneti-del-vulture-greco-fiano-bascilicata-pipoli-it4017.html', 'https://www.i-d-s.com/dubai/c-dei-frati-rosa-dei-frati-it4027.html', 'https://www.i-d-s.com/dubai/cantine-belisario-vigneti-del-cerro-verdicchio-matelica-it4030.html', 'https://www.i-d-s.com/dubai/prunotto-barbaresco-d-o-c-g-it4051.html', 'https://www.i-d-s.com/dubai/fontanafredda-barolo-di-serralunga-docg-it4053.html', 'https://www.i-d-s.com/dubai/planeta-etna-bianco-doc-it4071.html']\n",
      "prices: 12\n",
      "reduced prices: 12\n",
      "['40.80', '148.80', '148.80', '8.99', '19.99', '28.25', '8.50', '15.99', '11.45', '34.45', '34.25', '17.99']\n",
      "https://www.i-d-s.com/dubai/wine/wines-by-country/italy.html?p=2\n"
     ]
    },
    {
     "name": "stderr",
     "output_type": "stream",
     "text": [
      "/var/folders/9z/sjrbpv9j1996t3_4wv3ry65c0000gn/T/ipykernel_16448/1430148339.py:83: FutureWarning: The frame.append method is deprecated and will be removed from pandas in a future version. Use pandas.concat instead.\n",
      "  df_aggregated=df_aggregated.append(df)\n"
     ]
    },
    {
     "name": "stdout",
     "output_type": "stream",
     "text": [
      "name: 12\n",
      "[\"Mandrarossa Terre Di Sommacco Nero D'Avola Wooden Box\", \"Planeta Santa Cecilia, Nero D'Avola\", 'Poggio Al Tesoro, Alegrini Estates `Mediterra`', 'Selvapiana Vigneto Bucerchiale', \"Valdipiatta Vino Nobile Vigna d'Alfiero Wooden Box\", 'Poggio Al Tesoro, Alegrini Estates `Sondraia` Bolgheri Superiore', 'Felsina Berardenga Vigneto Rancia', 'Felsina Berardenga Fontalloro', 'Allegrini `La Grola`', 'Follador Laelia Prosecco DOC Treviso Rose Millesimato Brut', '2019 Antinori, Tignanello', 'Santa Margherita Rosé Trevenezie IGT']\n",
      "url_product: 12\n",
      "['https://www.i-d-s.com/dubai/mandrarossa-terre-di-sommacco-nero-d-avola-wooden-box-it4082.html', 'https://www.i-d-s.com/dubai/planeta-santa-cecilia-nero-d-avola-it4083.html', 'https://www.i-d-s.com/dubai/poggio-al-tesoro-alegrini-estates-mediterra-it4103.html', 'https://www.i-d-s.com/dubai/selvapiana-vigneto-bucerchiale-it4112.html', 'https://www.i-d-s.com/dubai/valdipiatta-vino-nobile-vigna-d-alfiero-wooden-box-it4115.html', 'https://www.i-d-s.com/dubai/poggio-al-tesoro-alegrini-estates-sondraia-bolgheri-superiore-it4117.html', 'https://www.i-d-s.com/dubai/felsina-berardenga-vigneto-rancia-it4118.html', 'https://www.i-d-s.com/dubai/felsina-berardenga-fontalloro-it4119.html', 'https://www.i-d-s.com/dubai/allegrini-la-grola-it4162.html', 'https://www.i-d-s.com/dubai/follador-laelia-prosecco-doc-treviso-rose-millesimato-brut-sw1040.html', 'https://www.i-d-s.com/dubai/2019-antinori-tignanello-fw1236.html', 'https://www.i-d-s.com/dubai/santa-margherita-ros-trevenezie-igt-it1216.html']\n",
      "prices: 12\n",
      "reduced prices: 12\n",
      "['29.45', '26.99', '17.99', '29.99', '38.00', '49.99', '56.99', '61.99', '21.99', '14.30', '2,013.00', '17.10']\n",
      "https://www.i-d-s.com/dubai/wine/wines-by-country/italy.html?p=3\n"
     ]
    },
    {
     "name": "stderr",
     "output_type": "stream",
     "text": [
      "/var/folders/9z/sjrbpv9j1996t3_4wv3ry65c0000gn/T/ipykernel_16448/1430148339.py:83: FutureWarning: The frame.append method is deprecated and will be removed from pandas in a future version. Use pandas.concat instead.\n",
      "  df_aggregated=df_aggregated.append(df)\n"
     ]
    },
    {
     "name": "stdout",
     "output_type": "stream",
     "text": [
      "name: 12\n",
      "[\"Banfi 'Belnero' Toscana\", 'Tenuta di Arceno Tuscany Chianti Classico Riserva', 'Tenuta di Arceno Il Fauno di Arcanum Toscana IGT', 'Castello Banfi Excelsus Toscana', 'Castello Vicchiomaggio San Jacopo Chianti Classico', 'Alpha Zeta `R` Valpolicella Superiore Ripasso', 'Alpha Zeta,`S` Soave DOC, Veneto', 'Via Nova Merlot del Veneto IGT', 'Via Nova Pinot Grigio IGT', 'Allegrini Valpolicella DOC', 'Planeta Rosé', 'Araldica Gavi DOCG La Luciana']\n",
      "url_product: 12\n",
      "['https://www.i-d-s.com/dubai/banfi-belnero-toscana-it2010.html', 'https://www.i-d-s.com/dubai/tenuta-di-arceno-tuscany-chianti-classico-riserva-it2013.html', 'https://www.i-d-s.com/dubai/tenuta-di-arceno-il-fauno-di-arcanum-toscana-igt-it2014.html', 'https://www.i-d-s.com/dubai/castello-banfi-excelsus-toscana-it2016.html', 'https://www.i-d-s.com/dubai/castello-vicchiomaggio-san-jacopo-chianti-classico-it1203.html', 'https://www.i-d-s.com/dubai/alpha-zeta-r-valpolicella-superiore-ripasso-it4156.html', 'https://www.i-d-s.com/dubai/alpha-zeta-s-soave-veneto-it1009.html', 'https://www.i-d-s.com/dubai/via-nova-merlot-del-veneto-igt-it1043.html', 'https://www.i-d-s.com/dubai/via-nova-pinot-grigio-igt-it1008.html', 'https://www.i-d-s.com/dubai/allegrini-valpolicella-doc-it1046.html', 'https://www.i-d-s.com/dubai/planeta-ros-it1019.html', 'https://www.i-d-s.com/dubai/araldica-gavi-docg-la-luciana-it1000.html']\n",
      "prices: 12\n",
      "reduced prices: 12\n",
      "['18.45', '22.45', '26.99', '87.25', '15.55', '19.25', '9.55', '5.35', '5.90', '18.30', '12.05', '11.90']\n",
      "https://www.i-d-s.com/dubai/wine/wines-by-country/italy.html?p=4\n"
     ]
    },
    {
     "name": "stderr",
     "output_type": "stream",
     "text": [
      "/var/folders/9z/sjrbpv9j1996t3_4wv3ry65c0000gn/T/ipykernel_16448/1430148339.py:83: FutureWarning: The frame.append method is deprecated and will be removed from pandas in a future version. Use pandas.concat instead.\n",
      "  df_aggregated=df_aggregated.append(df)\n"
     ]
    },
    {
     "name": "stdout",
     "output_type": "stream",
     "text": [
      "name: 12\n",
      "['Follador Prosecco DOC Treviso', 'Ceradello Prosecco Spumante Brut', 'Freixenet Prosecco DOC', 'Ruggeri Prosecco Argeo Brut', 'Martini Asti Spumante', 'Bottega Prosecco Gold Brut', 'Alasia Rosé Brut, Alta Langa', 'Castello Vicchiomaggio San Jacopo Vin Santo', 'Cristina Ascheri Langhe Arneis DOC', 'Vesevo Taurasi Ensis Docg', 'La Giustiniana Gavi Di Gavi `Montessora`', 'Fontafredda Briccotondo Dolcetto']\n",
      "url_product: 12\n",
      "['https://www.i-d-s.com/dubai/follador-prosecco-doc-treviso-sw1007.html', 'https://www.i-d-s.com/dubai/ceradello-prosecco-spumante-brut-sw1006.html', 'https://www.i-d-s.com/dubai/freixenet-prosecco-doc-sw1010.html', 'https://www.i-d-s.com/dubai/ruggeri-prosecco-argeo-brut-nv-sw1011.html', 'https://www.i-d-s.com/dubai/martini-asti-spumante-sw1012.html', 'https://www.i-d-s.com/dubai/bottega-prosecco-gold-brut-sw1013.html', 'https://www.i-d-s.com/dubai/alasia-ros-brut-alta-langa-sw1003.html', 'https://www.i-d-s.com/dubai/castello-vicchiomaggio-san-jacopo-vin-santo-dw1011.html', 'https://www.i-d-s.com/dubai/cristina-ascheri-langhe-arneis-doc-it4036.html', 'https://www.i-d-s.com/dubai/vesevo-taurasi-ensis-docg-it4021.html', 'https://www.i-d-s.com/dubai/la-giustiniana-gavi-di-gavi-montessora-it4038.html', 'https://www.i-d-s.com/dubai/fontafredda-briccotondo-dolcetto-it4042.html']\n",
      "prices: 12\n",
      "reduced prices: 12\n",
      "['14.00', '12.05', '13.50', '16.40', '14.25', '26.20', '25.75', '11.99', '15.10', '24.45', '20.65', '14.99']\n",
      "https://www.i-d-s.com/dubai/wine/wines-by-country/italy.html?p=5\n"
     ]
    },
    {
     "name": "stderr",
     "output_type": "stream",
     "text": [
      "/var/folders/9z/sjrbpv9j1996t3_4wv3ry65c0000gn/T/ipykernel_16448/1430148339.py:83: FutureWarning: The frame.append method is deprecated and will be removed from pandas in a future version. Use pandas.concat instead.\n",
      "  df_aggregated=df_aggregated.append(df)\n"
     ]
    },
    {
     "name": "stdout",
     "output_type": "stream",
     "text": [
      "name: 12\n",
      "['Mandrarossa Bertolino Soprano Grillo Wooden Box', 'Alpha Zeta `G` Garganega', 'Fontanafredda Briccotondo Piemonte Barbera ', 'Tenuta Argiano, Brunello di Montalcino', 'Castello di Monsanto, Chianti Classico DOCG Riserva', 'Grattamacco, Bolgheri Rosso', \"Corino Giovanni di Corino Giuliano, Barolo 'La Morra'\", \"Bellavista, 'Alma’ Franciacorta Gran Cuvee Brut\", 'Santa Margherita, Chianti Classico DOCG', 'Santa Margherita, Merlot IGT', 'Santa Margherita, Sparkling Rosè', 'Santa Margherita, Prosecco DOCG']\n",
      "url_product: 12\n",
      "['https://www.i-d-s.com/dubai/mandrarossa-bertolino-soprano-grillo-wooden-box-it4072.html', 'https://www.i-d-s.com/dubai/alpha-zeta-g-garganega-it4124.html', 'https://www.i-d-s.com/dubai/fontafredda-briccotondo-barbera-it4040.html', 'https://www.i-d-s.com/dubai/tenuta-argiano-brunello-di-montalcino-it1074.html', 'https://www.i-d-s.com/dubai/castello-di-monsanto-chianti-classico-docg-riserva-it1073.html', 'https://www.i-d-s.com/dubai/grattamacco-bolgheri-rosso-it1072.html', 'https://www.i-d-s.com/dubai/barolo-la-morra-corino-giovanni-di-corino-giuliano-it1069.html', 'https://www.i-d-s.com/dubai/bellavista-alma-franciacorta-gran-cuvee-brut-nv-sw4016.html', 'https://www.i-d-s.com/dubai/santa-margherita-chianti-classico-docg-it1076.html', 'https://www.i-d-s.com/dubai/santa-margherita-merlot-igt-it1075.html', 'https://www.i-d-s.com/dubai/santa-margherita-sparkling-ros-sw1051.html', 'https://www.i-d-s.com/dubai/santa-margherita-prosecco-docg-sw1050.html']\n",
      "prices: 12\n",
      "reduced prices: 12\n",
      "['24.45', '6.20', '23.65', '77.65', '52.40', '39.00', '63.45', '47.05', '15.75', '13.80', '16.10', '16.10']\n",
      "https://www.i-d-s.com/dubai/wine/wines-by-country/italy.html?p=6\n"
     ]
    },
    {
     "name": "stderr",
     "output_type": "stream",
     "text": [
      "/var/folders/9z/sjrbpv9j1996t3_4wv3ry65c0000gn/T/ipykernel_16448/1430148339.py:83: FutureWarning: The frame.append method is deprecated and will be removed from pandas in a future version. Use pandas.concat instead.\n",
      "  df_aggregated=df_aggregated.append(df)\n"
     ]
    },
    {
     "name": "stdout",
     "output_type": "stream",
     "text": [
      "name: 12\n",
      "['Santa Margherita, Pinot Grigio Valdadige DOC', 'Contrada Monte Gorna \" Etna Rosso\" Organic', 'Mandrarossa Costadune Grillo', 'Allegrini Oasi Mantellina Lugana', \"Cantine Belisario Verdicchio `Terre Di Valbona'\", 'Vesevo Greco Di Tufo Docg', 'Alegrini Estates Poggio Al Tesoro,  `Cassiopea` Bolgheri Rosato', 'Mandrarossa Casa Mia Catarratto', 'Mandrarossa Casa Mia Alicante Syrah', 'Allegrini Estates Rosso Di Montalcino, San Polo', 'Allegrini Estates Rubio, San Polo, Toscana IGT', 'Mediceo Chianti']\n",
      "url_product: 12\n",
      "['https://www.i-d-s.com/dubai/santa-margherita-pinot-grigio-valdadige-doc-it1077.html', 'https://www.i-d-s.com/dubai/contrada-monte-gorna-etna-rosso-organic-it1071.html', 'https://www.i-d-s.com/dubai/mandrarossa-costadune-grillo-it4066.html', 'https://www.i-d-s.com/dubai/allegrini-oasi-mantellina-lugana-it4025.html', 'https://www.i-d-s.com/dubai/cantine-belisario-verdicchio-terre-di-valbona-it4028.html', 'https://www.i-d-s.com/dubai/vesevo-greco-di-tufo-docg-it4019.html', 'https://www.i-d-s.com/dubai/poggio-al-tesoro-alegrini-estates-cassiopea-bolgheri-rosato-it4090.html', 'https://www.i-d-s.com/dubai/mandrarossa-casa-mia-catarratto-it4063.html', 'https://www.i-d-s.com/dubai/mandrarossa-casa-mia-alicante-syrah-it4073.html', 'https://www.i-d-s.com/dubai/allegrini-estates-rosso-di-montalcino-san-polo-it4105.html', 'https://www.i-d-s.com/dubai/allegrini-estates-rubio-san-polo-it4097.html', 'https://www.i-d-s.com/dubai/mediceo-chianti-it4091.html']\n",
      "prices: 12\n",
      "reduced prices: 12\n",
      "['15.65', '23.40', '13.85', '16.99', '12.45', '19.80', '19.95', '9.45', '9.25', '40.60', '22.00', '11.25']\n",
      "https://www.i-d-s.com/dubai/wine/wines-by-country/italy.html?p=7\n"
     ]
    },
    {
     "name": "stderr",
     "output_type": "stream",
     "text": [
      "/var/folders/9z/sjrbpv9j1996t3_4wv3ry65c0000gn/T/ipykernel_16448/1430148339.py:83: FutureWarning: The frame.append method is deprecated and will be removed from pandas in a future version. Use pandas.concat instead.\n",
      "  df_aggregated=df_aggregated.append(df)\n"
     ]
    },
    {
     "name": "stdout",
     "output_type": "stream",
     "text": [
      "name: 12\n",
      "['Vigneti Del Salento I Muri Primitivo', 'Antichi Poderi Jerzu Cannonau Bantu', 'Pieropan Ruberpan` Valpolicella Superiore', 'Vigneto Del Vulture Aglianico Pipoli', 'Purato Catarratto/Pinot Grigio, Sicily - Organic', 'Poggiotondo,Organic Chianti', 'Vicchiomaggio \"Floreale\" Rosato, Toscana IGT', 'Riserva Vigna La Prima Chianti Classico DOCG', 'Riserva Agostina Petri Chianti Classico DOCG', 'San Jacope IGT Toscano Vermentino', 'La Giustiniana Lugarara, Gavi Di Gavi, Piemonte', 'Ripa Delle More Toscana IGT']\n",
      "url_product: 12\n",
      "['https://www.i-d-s.com/dubai/vigneti-del-salento-i-muri-primitivo-it4055.html', 'https://www.i-d-s.com/dubai/antichi-poderi-jerzu-cannonau-bantu-it4061.html', 'https://www.i-d-s.com/dubai/pieropan-ruberpan-valpolicella-superiore-it4161.html', 'https://www.i-d-s.com/dubai/vigneto-del-vulture-aglianico-pipoli-it4018.html', 'https://www.i-d-s.com/dubai/purato-catarratto-pinot-grigio-sicily-organic-it1105.html', 'https://www.i-d-s.com/dubai/poggiotondo-organic-chianti-it1052.html', 'https://www.i-d-s.com/dubai/vicchiomaggio-floreale-rosato-toscana-igt-it1090.html', 'https://www.i-d-s.com/dubai/la-prima-chianti-classico-riserva-docg-castello-vicchiomaggio-it1091.html', 'https://www.i-d-s.com/dubai/chianti-classico-riserva-docg-agostina-petri-it1092.html', 'https://www.i-d-s.com/dubai/san-jacope-igt-toscano-vermentino-it1093.html', 'https://www.i-d-s.com/dubai/lugarara-gavi-di-gavi-la-giustiniana-piemonte-it1061.html', 'https://www.i-d-s.com/dubai/ripa-delle-more-toscana-igt-castello-vicchiomaggio-it1096.html']\n",
      "prices: 12\n",
      "reduced prices: 12\n",
      "['12.10', '16.20', '18.99', '13.75', '13.80', '17.30', '12.80', '43.00', '26.00', '12.80', '21.85', '38.55']\n",
      "https://www.i-d-s.com/dubai/wine/wines-by-country/italy.html?p=8\n"
     ]
    },
    {
     "name": "stderr",
     "output_type": "stream",
     "text": [
      "/var/folders/9z/sjrbpv9j1996t3_4wv3ry65c0000gn/T/ipykernel_16448/1430148339.py:83: FutureWarning: The frame.append method is deprecated and will be removed from pandas in a future version. Use pandas.concat instead.\n",
      "  df_aggregated=df_aggregated.append(df)\n"
     ]
    },
    {
     "name": "stdout",
     "output_type": "stream",
     "text": [
      "name: 12\n",
      "['Lambrusco Rosso Minini', 'Brunello Di Montalcino, San Polo, Tuscany', 'Ripa Delle Mandorle Toscana Igt Bianco', 'Castello Vicchiomaggio FSM Tuscan Merlot IGT', 'Vicchiomaggio Vegan-Chianti Classico Riserva', 'Terre Antiche, Gavi di Gavi, Piemonte', 'Ascheri Langhe Nebbiolo DOC San Giacomo', 'Nicola Bergaglio, Gavi di Gavi \"Vigneto Ciapon\" DOCG', 'Mandrarossa Viognier Le Sénie', 'Contrada Monte San Nicolo Etna Bianco Organic', 'Antichi Poderi Jerzu \"Telavè\", Vermentino di Sardegna', \"Pieropan 'Calvarino', Soave Classico, Veneto\"]\n",
      "url_product: 12\n",
      "['https://www.i-d-s.com/dubai/lambrusco-rosso-minini-sw1102.html', 'https://www.i-d-s.com/dubai/brunello-di-montalcino-san-polo-tuscany-it1062.html', 'https://www.i-d-s.com/dubai/ripa-delle-mandorle-toscana-igt-bianco-it1097.html', 'https://www.i-d-s.com/dubai/fsm-castello-vicchiomaggio-merlot-toscana-igt-it1099.html', 'https://www.i-d-s.com/dubai/vicchiomaggio-vegan-chianti-classico-riserva-it1101.html', 'https://www.i-d-s.com/dubai/terre-antiche-gavi-di-gavi-piemonte-it1001.html', 'https://www.i-d-s.com/dubai/cristina-ascheri-langhe-arneis-doc-it1002.html', 'https://www.i-d-s.com/dubai/nicola-bergaglio-gavi-di-gavi-vigneto-ciapon-docg-it1003.html', 'https://www.i-d-s.com/dubai/mandrarossa-viognier-le-s-nie-it1004.html', 'https://www.i-d-s.com/dubai/etna-bianco-fondo-filara-organic-it1006.html', 'https://www.i-d-s.com/dubai/antichi-poderi-jerzu-telav-vermentino-di-sardegna-it1007.html', 'https://www.i-d-s.com/dubai/pieropan-calvarino-soave-classico-veneto-it1010.html']\n",
      "prices: 12\n",
      "reduced prices: 12\n",
      "['8.40', '85.05', '12.55', '250.00', '22.00', '18.00', '19.60', '21.20', '13.65', '22.15', '16.50', '19.99']\n",
      "https://www.i-d-s.com/dubai/wine/wines-by-country/italy.html?p=9\n"
     ]
    },
    {
     "name": "stderr",
     "output_type": "stream",
     "text": [
      "/var/folders/9z/sjrbpv9j1996t3_4wv3ry65c0000gn/T/ipykernel_16448/1430148339.py:83: FutureWarning: The frame.append method is deprecated and will be removed from pandas in a future version. Use pandas.concat instead.\n",
      "  df_aggregated=df_aggregated.append(df)\n"
     ]
    },
    {
     "name": "stdout",
     "output_type": "stream",
     "text": [
      "name: 12\n",
      "['Bertani Due Uve Bianco Pinot Grigio-Sauvignon IGT', 'Antinori San Giovanni della Sala Orvieto Classico Superiore', 'La Maglia Rosa Pinot Grigio Blush Delle Venezie', 'Rometta Sangiovese Rubicone IGT', \"Prunotto, Pian Romualdo, Barbera d'Alba No 3, Piedmont\", 'Prunotto, Occhetti Langhe, Nebbiolo, Piedmont', 'Patrizi Barolo DOCG', \"Mandrarossa Nero d'Avola Costadune\", 'Planeta La Segreta Rosso IGT', 'Antinori, Peppoli Chianti Classico DOCG', \"Poggio al Tesoro, 'Il Seggio' Bolgheri, Tuscany\", 'Antinori, Marchese Chianti Classico Riserva DOCG']\n",
      "url_product: 12\n",
      "['https://www.i-d-s.com/dubai/bertani-due-uve-bianco-pinot-grigio-sauvignon-igt-it1013.html', 'https://www.i-d-s.com/dubai/antinori-san-giovanni-della-sala-orvieto-classico-superiore-it1017.html', 'https://www.i-d-s.com/dubai/la-maglia-rosa-pinot-grigio-blush-delle-venezie-it1049.html', 'https://www.i-d-s.com/dubai/rometta-sangiovese-rubicone-igt-it1022.html', 'https://www.i-d-s.com/dubai/prunotto-pian-romualdo-barbera-d-alba-no-3-piedmont-it1023.html', 'https://www.i-d-s.com/dubai/prunotto-occhetti-langhe-nebbiolo-piedmont-it1024.html', 'https://www.i-d-s.com/dubai/patrizi-barolo-docg-it1026.html', 'https://www.i-d-s.com/dubai/mandrarossa-nero-d-avola-costadune-it1030.html', 'https://www.i-d-s.com/dubai/planeta-la-segreta-rosso-igt-it1031.html', 'https://www.i-d-s.com/dubai/antinori-peppoli-chianti-classico-docg-it1037.html', 'https://www.i-d-s.com/dubai/poggio-al-tesoro-il-seggio-bolgheri-tuscany-it1038.html', 'https://www.i-d-s.com/dubai/antinori-marchese-chianti-classico-riserva-docg-it1040.html']\n",
      "prices: 12\n",
      "reduced prices: 12\n",
      "['13.60', '28.70', '8.20', '5.35', '34.00', '29.10', '33.30', '13.30', '11.20', '27.75', '26.99', '66.05']\n",
      "https://www.i-d-s.com/dubai/wine/wines-by-country/italy.html?p=10\n"
     ]
    },
    {
     "name": "stderr",
     "output_type": "stream",
     "text": [
      "/var/folders/9z/sjrbpv9j1996t3_4wv3ry65c0000gn/T/ipykernel_16448/1430148339.py:83: FutureWarning: The frame.append method is deprecated and will be removed from pandas in a future version. Use pandas.concat instead.\n",
      "  df_aggregated=df_aggregated.append(df)\n"
     ]
    },
    {
     "name": "stdout",
     "output_type": "stream",
     "text": [
      "name: 2\n",
      "['Sartori \"Regolo\" Valpolicella Superiore Ripasso DOC', 'Allegrini Amarone della Valpolicella Classico DOCG']\n",
      "url_product: 2\n",
      "['https://www.i-d-s.com/dubai/sartori-regolo-valpolicella-superiore-ripasso-doc-it1045.html', 'https://www.i-d-s.com/dubai/allegrini-amarone-della-valpolicella-classico-docg-it1048.html']\n",
      "prices: 2\n",
      "reduced prices: 2\n",
      "['16.45', '104.60']\n",
      "https://www.i-d-s.com/dubai/wine/wines-by-country/italy.html?p=11\n"
     ]
    },
    {
     "name": "stderr",
     "output_type": "stream",
     "text": [
      "/var/folders/9z/sjrbpv9j1996t3_4wv3ry65c0000gn/T/ipykernel_16448/1430148339.py:83: FutureWarning: The frame.append method is deprecated and will be removed from pandas in a future version. Use pandas.concat instead.\n",
      "  df_aggregated=df_aggregated.append(df)\n"
     ]
    },
    {
     "name": "stdout",
     "output_type": "stream",
     "text": [
      "name: 0\n",
      "[]\n",
      "url_product: 0\n",
      "[]\n",
      "prices: 0\n",
      "reduced prices: 0\n",
      "[]\n",
      "---------------\n"
     ]
    },
    {
     "name": "stderr",
     "output_type": "stream",
     "text": [
      "/var/folders/9z/sjrbpv9j1996t3_4wv3ry65c0000gn/T/ipykernel_16448/1430148339.py:83: FutureWarning: The frame.append method is deprecated and will be removed from pandas in a future version. Use pandas.concat instead.\n",
      "  df_aggregated=df_aggregated.append(df)\n"
     ]
    },
    {
     "name": "stdout",
     "output_type": "stream",
     "text": [
      "spain\n",
      "https://www.i-d-s.com/dubai/wine/wines-by-country/spain.html?p=1\n",
      "name: 12\n",
      "['Bodegas Navajas Rioja Blanco', 'La Miranda de Secastilla Garnacha Blanca', 'Bodega Navajas Rioja Rosado', \"Merum Priorati 'INICI' Priorat\", 'Bodegas Navajas Rioja Tinto', 'CVNE Rioja Crianza', 'Campo Viejo Reserva', 'Campo Viejo Rioja Gran Reserva', 'CVNE Rioja Gran Reserva', 'CVNE, Rioja Reserva Magnum', \"L'Atzar Priorat\", 'Bodegas Bejamin de Rothschild &amp; Vega Sicilia, Macan Classico 2020']\n",
      "url_product: 12\n",
      "['https://www.i-d-s.com/dubai/bodegas-navajas-rioja-blanco-sp1000.html', 'https://www.i-d-s.com/dubai/la-miranda-de-secastilla-garnacha-blanca-sp1006.html', 'https://www.i-d-s.com/dubai/bodega-navajas-rioja-rosado-sp1008.html', 'https://www.i-d-s.com/dubai/merum-priorati-ardiles-priorat-sp1011.html', 'https://www.i-d-s.com/dubai/bodegas-navajas-rioja-tinto-sp1014.html', 'https://www.i-d-s.com/dubai/cvne-rioja-crianza-sp1019.html', 'https://www.i-d-s.com/dubai/campo-viejo-reserva-sp1020.html', 'https://www.i-d-s.com/dubai/campo-viejo-rioja-gran-reserva-sp1023.html', 'https://www.i-d-s.com/dubai/cvne-rioja-gran-reserva-sp1024.html', 'https://www.i-d-s.com/dubai/cvne-rioja-reserva-magnums-sp1026.html', 'https://www.i-d-s.com/dubai/l-atzar-priorat-sp1050.html', 'https://www.i-d-s.com/dubai/bodegas-bejamin-de-rothschild-vega-sicilia-macan-classico-2020-sp1059.html']\n",
      "prices: 12\n",
      "reduced prices: 12\n",
      "['9.90', '12.70', '9.60', '21.05', '9.60', '11.80', '18.00', '17.35', '23.85', '43.55', '20.05', '53.55']\n",
      "https://www.i-d-s.com/dubai/wine/wines-by-country/spain.html?p=2\n"
     ]
    },
    {
     "name": "stderr",
     "output_type": "stream",
     "text": [
      "/var/folders/9z/sjrbpv9j1996t3_4wv3ry65c0000gn/T/ipykernel_16448/1430148339.py:83: FutureWarning: The frame.append method is deprecated and will be removed from pandas in a future version. Use pandas.concat instead.\n",
      "  df_aggregated=df_aggregated.append(df)\n"
     ]
    },
    {
     "name": "stdout",
     "output_type": "stream",
     "text": [
      "name: 12\n",
      "[\"L'Expressió del Priorat\", 'Torroxal Albariño', \"Marques De Murrieta 'Capellania'&nbsp; Blanco Reserva\", 'Cvne Imperial Reserva, Rioja', 'Vinícola Real 200 Monjes, Rioja', 'Shaya Habis Verdejo , Rueda', 'Ossian Viñas Viejas Vedejo', 'Viña Romana Winner Premium Crianza (Juan Garcia/Bruña)', 'Bodega Cuatro Pizarras De Otero, Mencia', 'Martín Codax Cuatro Pasos Mencia', 'Baltasar Gracián Blanco De Hielo, Macebeo, Baltasar Gracián', \"Adegas Valminor'Davila O Rasal (Albarino/Loureiro/Treixadura)\"]\n",
      "url_product: 12\n",
      "['https://www.i-d-s.com/dubai/l-expressi-del-priorat-sp2017.html', 'https://www.i-d-s.com/dubai/torroxal-albari-o-sp2024.html', 'https://www.i-d-s.com/dubai/marques-de-murrieta-capellania-reserva-sp4002.html', 'https://www.i-d-s.com/dubai/cvne-imperial-reserva-rioja-sp4029.html', 'https://www.i-d-s.com/dubai/vin-cola-real-200-monjes-rioja-sp4030.html', 'https://www.i-d-s.com/dubai/shaya-habis-verdejo-rueda-sp4060.html', 'https://www.i-d-s.com/dubai/ossian-vi-as-viejas-vedejo-sp4061.html', 'https://www.i-d-s.com/dubai/vi-a-romana-winner-premium-crianza-juan-garcia-bru-a-sp4063.html', 'https://www.i-d-s.com/dubai/bodega-cuatro-pizarras-de-otero-mencia-sp4064.html', 'https://www.i-d-s.com/dubai/mart-n-codax-cuatro-pasos-mencia-sp4073.html', 'https://www.i-d-s.com/dubai/baltasar-graci-n-blanco-de-hielo-macebeo-baltasar-graci-n-sp4124.html', 'https://www.i-d-s.com/dubai/adegas-valminor-davila-o-rasal-albarino-loureiro-treixadura-sp4136.html']\n",
      "prices: 12\n",
      "reduced prices: 12\n",
      "['20.99', '17.20', '40.45', '31.45', '44.99', '47.25', '44.05', '13.15', '6.99', '8.99', '9.99', '12.99']\n",
      "https://www.i-d-s.com/dubai/wine/wines-by-country/spain.html?p=3\n"
     ]
    },
    {
     "name": "stderr",
     "output_type": "stream",
     "text": [
      "/var/folders/9z/sjrbpv9j1996t3_4wv3ry65c0000gn/T/ipykernel_16448/1430148339.py:83: FutureWarning: The frame.append method is deprecated and will be removed from pandas in a future version. Use pandas.concat instead.\n",
      "  df_aggregated=df_aggregated.append(df)\n"
     ]
    },
    {
     "name": "stdout",
     "output_type": "stream",
     "text": [
      "name: 5\n",
      "['Bobal De San Juan Tinto', 'Alceno Syrah 50 Barricas, Monastrell/Syrah, Bodegas Alceño', 'Freixenet, Cordon Negro Brut', 'Campo Viejo Cava Brut Reserva', 'Raimat Nature Brut Chardonnay/Xarelo']\n",
      "url_product: 5\n",
      "['https://www.i-d-s.com/dubai/bobal-de-san-juan-tinto-sp4153.html', 'https://www.i-d-s.com/dubai/alceno-syrah-50-barricas-monastrell-syrah-bodegas-alce-o-sp4164.html', 'https://www.i-d-s.com/dubai/freixenet-cordon-negro-brut-sw1019.html', 'https://www.i-d-s.com/dubai/campo-viejo-cava-brut-reserva-sw1020.html', 'https://www.i-d-s.com/dubai/raimat-nature-brut-chardonnay-xarelo-sw4029.html']\n",
      "prices: 5\n",
      "reduced prices: 5\n",
      "['7.45', '6.40', '10.55', '10.15', '9.99']\n",
      "https://www.i-d-s.com/dubai/wine/wines-by-country/spain.html?p=4\n"
     ]
    },
    {
     "name": "stderr",
     "output_type": "stream",
     "text": [
      "/var/folders/9z/sjrbpv9j1996t3_4wv3ry65c0000gn/T/ipykernel_16448/1430148339.py:83: FutureWarning: The frame.append method is deprecated and will be removed from pandas in a future version. Use pandas.concat instead.\n",
      "  df_aggregated=df_aggregated.append(df)\n"
     ]
    },
    {
     "name": "stdout",
     "output_type": "stream",
     "text": [
      "name: 0\n",
      "[]\n",
      "url_product: 0\n",
      "[]\n",
      "prices: 0\n",
      "reduced prices: 0\n",
      "[]\n",
      "---------------\n"
     ]
    },
    {
     "name": "stderr",
     "output_type": "stream",
     "text": [
      "/var/folders/9z/sjrbpv9j1996t3_4wv3ry65c0000gn/T/ipykernel_16448/1430148339.py:83: FutureWarning: The frame.append method is deprecated and will be removed from pandas in a future version. Use pandas.concat instead.\n",
      "  df_aggregated=df_aggregated.append(df)\n"
     ]
    },
    {
     "name": "stdout",
     "output_type": "stream",
     "text": [
      "rest-of-the-world\n",
      "https://www.i-d-s.com/dubai/wine/wines-by-country/rest-of-the-world.html?p=1\n",
      "name: 12\n",
      "['Château Ksara Blanc de Blancs', 'Château Ksara Sunset Rosé', 'lxsir Altitudes Red', 'Kamitaka Fukushu Tensen 3 Year Old Chozo Shochu', 'Kamitaka Daiginjo 35', 'Asahara Biwanosasanami Junmai Ginjo Matsu', 'Ikomahouzan Junmai Daiginjo', 'L.A Cetto Reserve Cabernet Sauvignon', 'L.A Cetto Nebbiolo', 'L.A Cetto Reserve Chardonnay', 'Grover Art Collection Viognier 2020 ', 'Grover Art Collection Cabernet Shiraz  2020']\n",
      "url_product: 12\n",
      "['https://www.i-d-s.com/dubai/ch-teau-ksara-blanc-de-blancs-lb1000.html', 'https://www.i-d-s.com/dubai/ch-teau-ksara-sunset-ros-lb1002.html', 'https://www.i-d-s.com/dubai/lxsir-altitudes-red-lb1003.html', 'https://www.i-d-s.com/dubai/kamitaka-fukushu-tensen-3-year-old-chozo-shochu-js1008.html', 'https://www.i-d-s.com/dubai/kamitaka-daiginjo-35-js1009.html', 'https://www.i-d-s.com/dubai/asahara-biwanosasanami-junmai-ginjo-matsu-js1012.html', 'https://www.i-d-s.com/dubai/ikomahouzan-junmai-daiginjo-js1016.html', 'https://www.i-d-s.com/dubai/l-a-cetto-reserve-cabernet-sauvignon-mx1000.html', 'https://www.i-d-s.com/dubai/l-a-cetto-nebbiolo-mx1001.html', 'https://www.i-d-s.com/dubai/l-a-cetto-reserve-chardonnay-mx1002.html', 'https://www.i-d-s.com/dubai/grover-art-collection-viognier-2020-in4000.html', 'https://www.i-d-s.com/dubai/grover-art-collection-cabernet-shiraz-2020-in4001.html']\n",
      "prices: 12\n",
      "reduced prices: 12\n",
      "['12.50', '10.50', '16.35', '15.45', '37.80', '21.45', '61.00', '24.45', '24.45', '22.99', '13.05', '14.25']\n",
      "https://www.i-d-s.com/dubai/wine/wines-by-country/rest-of-the-world.html?p=2\n"
     ]
    },
    {
     "name": "stderr",
     "output_type": "stream",
     "text": [
      "/var/folders/9z/sjrbpv9j1996t3_4wv3ry65c0000gn/T/ipykernel_16448/1430148339.py:83: FutureWarning: The frame.append method is deprecated and will be removed from pandas in a future version. Use pandas.concat instead.\n",
      "  df_aggregated=df_aggregated.append(df)\n"
     ]
    },
    {
     "name": "stdout",
     "output_type": "stream",
     "text": [
      "name: 12\n",
      "['Grover La Reserve 2018 ', 'Sula Sauvignon Blanc', 'Sula Chenin Blanc Reserve', 'Sula Shiraz', 'Argyros, Visanto Mezzo 4 Year Old', 'Chateau Kardenakhi \"Saperavi\" qvevri Nagdi Marani', 'Chateau Kardenakhi \"Tsarapi\" qvevri 2016 Nagdi Marani', 'Golan Heights Gamla Cabernet Merlot ', 'Sepp Moser Grüner Veltliner Organic', 'Alpha Estate Malagouzia Single Vineyard Turtles', 'Alpha Estate Xinomavro Single Vineyard Hedgehog', 'Ktima Gerovassiliou Malagousia']\n",
      "url_product: 12\n",
      "['https://www.i-d-s.com/dubai/grover-la-reserve-2018-in4002.html', 'https://www.i-d-s.com/dubai/sula-sauvignon-blanc-in1000.html', 'https://www.i-d-s.com/dubai/sula-chenin-blanc-reserve-in1001.html', 'https://www.i-d-s.com/dubai/sula-shiraz-in1002.html', 'https://www.i-d-s.com/dubai/argyros-visanto-mezzo-4-year-old-dw4022.html', 'https://www.i-d-s.com/dubai/chateau-kardenakhi-saperavi-qvevri-nagdi-marani-go1005.html', 'https://www.i-d-s.com/dubai/chateau-kardenakhi-tsarapi-qvevri-2016-nagdi-marani-go1006.html', 'https://www.i-d-s.com/dubai/golan-heights-gamla-cabernet-merlot-il1001.html', 'https://www.i-d-s.com/dubai/sepp-moser-gr-ner-veltliner-organic-at1000.html', 'https://www.i-d-s.com/dubai/alpha-estate-malagouzia-single-vineyard-turtles-gk1001.html', 'https://www.i-d-s.com/dubai/alpha-estate-xinomavro-single-vineyard-hedgehog-gk1007.html', 'https://www.i-d-s.com/dubai/ktima-gerovassiliou-malagousia-gk1009.html']\n",
      "prices: 12\n",
      "reduced prices: 12\n",
      "['15.05', '13.65', '13.65', '14.70', '32.35', '22.45', '21.45', '15.75', '15.70', '13.35', '17.75', '21.55']\n",
      "https://www.i-d-s.com/dubai/wine/wines-by-country/rest-of-the-world.html?p=3\n"
     ]
    },
    {
     "name": "stderr",
     "output_type": "stream",
     "text": [
      "/var/folders/9z/sjrbpv9j1996t3_4wv3ry65c0000gn/T/ipykernel_16448/1430148339.py:83: FutureWarning: The frame.append method is deprecated and will be removed from pandas in a future version. Use pandas.concat instead.\n",
      "  df_aggregated=df_aggregated.append(df)\n"
     ]
    },
    {
     "name": "stdout",
     "output_type": "stream",
     "text": [
      "name: 9\n",
      "['Ktima Gerovassiliou White', 'Ktima Gerovassiliou AVATON', 'Teliani Valley Saperavi', 'Teliani Valley Glekhuri Kisiskhevi Saperavi Qvevri', 'Grace Koshu Kayagatake, Grace Winery, Yamanashi', 'Grace Koshu Private Reserve, Grace Winery Grace Yamanashi', 'Grace Koshu Hishiyama, Private Reserve, Grace Winery, Yamanashi', 'Calusari Pinot Grigio', 'Calusari Pinot Noir']\n",
      "url_product: 9\n",
      "['https://www.i-d-s.com/dubai/ktima-gerovassiliou-white-gk1010.html', 'https://www.i-d-s.com/dubai/ktima-gerovassiliou-avaton-gk1012.html', 'https://www.i-d-s.com/dubai/teliani-valley-saperavi-go1001.html', 'https://www.i-d-s.com/dubai/teliani-valley-glekhuri-kisiskhevi-saperavi-qvevri-go1002.html', 'https://www.i-d-s.com/dubai/grace-koshu-kayagatake-grace-winery-yamanashi-jp1000.html', 'https://www.i-d-s.com/dubai/grace-koshu-private-reserve-grace-winery-grace-yamanashi-jp1001.html', 'https://www.i-d-s.com/dubai/grace-koshu-hishiyama-private-reserve-grace-winery-yamanashi-jp1002.html', 'https://www.i-d-s.com/dubai/calusari-pinot-grigio-ro1000.html', 'https://www.i-d-s.com/dubai/calusari-pinot-noir-ro1001.html']\n",
      "prices: 9\n",
      "reduced prices: 9\n",
      "['18.90', '29.15', '14.90', '24.35', '29.10', '35.40', '34.90', '9.00', '9.00']\n",
      "https://www.i-d-s.com/dubai/wine/wines-by-country/rest-of-the-world.html?p=4\n"
     ]
    },
    {
     "name": "stderr",
     "output_type": "stream",
     "text": [
      "/var/folders/9z/sjrbpv9j1996t3_4wv3ry65c0000gn/T/ipykernel_16448/1430148339.py:83: FutureWarning: The frame.append method is deprecated and will be removed from pandas in a future version. Use pandas.concat instead.\n",
      "  df_aggregated=df_aggregated.append(df)\n"
     ]
    },
    {
     "name": "stdout",
     "output_type": "stream",
     "text": [
      "name: 0\n",
      "[]\n",
      "url_product: 0\n",
      "[]\n",
      "prices: 0\n",
      "reduced prices: 0\n",
      "[]\n",
      "---------------\n"
     ]
    },
    {
     "name": "stderr",
     "output_type": "stream",
     "text": [
      "/var/folders/9z/sjrbpv9j1996t3_4wv3ry65c0000gn/T/ipykernel_16448/1430148339.py:83: FutureWarning: The frame.append method is deprecated and will be removed from pandas in a future version. Use pandas.concat instead.\n",
      "  df_aggregated=df_aggregated.append(df)\n"
     ]
    },
    {
     "name": "stdout",
     "output_type": "stream",
     "text": [
      "scotch_whisky\n",
      "https://www.i-d-s.com/dubai/spirits/scotch-whisky.html?p=1\n",
      "name: 12\n",
      "['Chivas Royal Salute, 21 Year Old, in Gift Pack', 'Penderyn Faraday', 'The Glenlivet, 15 Year Old, in Gift Box', 'Johnnie Walker Black Label, 12 Year Old', 'Johnnie Walker, Red Label', 'Chivas Regal, 12 Year Old', 'The Glenlivet, 12 Year Old, in Gift Box', 'Chivas, 18 Year Old', 'Chivas Royal Salute, 21 Year Old, in Gift Pack', 'The Glenlivet Founders Reserve, in Gift Box', 'Glenmorangie The Original, in Gift Box', 'Glenmorangie The Accord 12 Year Old, in Gift Box']\n",
      "url_product: 12\n",
      "['https://www.i-d-s.com/dubai/chivas-royal-salute-21-year-old-in-gift-pack-wh1297.html', 'https://www.i-d-s.com/dubai/penderyn-faraday-wh1275.html', 'https://www.i-d-s.com/dubai/the-glenlivet-15-year-old-in-gift-box-wh1033.html', 'https://www.i-d-s.com/dubai/johnnie-walker-black-label-12-year-old-in-gift-box-wh1010.html', 'https://www.i-d-s.com/dubai/johnnie-walker-red-label-wh1000.html', 'https://www.i-d-s.com/dubai/chivas-regal-12-year-old-in-gift-box-wh1014.html', 'https://www.i-d-s.com/dubai/the-glenlivet-12-year-old-in-gift-box-wh1032.html', 'https://www.i-d-s.com/dubai/chivas-18-year-old-in-gift-box-wh1017.html', 'https://www.i-d-s.com/dubai/chivas-royal-salute-21-year-old-in-gift-pack-wh1021.html', 'https://www.i-d-s.com/dubai/the-glenlivet-founders-reserve-in-gift-box-wh1031.html', 'https://www.i-d-s.com/dubai/glenmorangie-the-original-in-gift-box-wh1039.html', 'https://www.i-d-s.com/dubai/glenmorangie-the-accord-12-year-old-in-gift-box-wh1040.html']\n",
      "prices: 12\n",
      "reduced prices: 12\n",
      "['161.60', '54.45', '85.00', '42.50', '20.75', '41.00', '74.90', '104.65', '156.65', '68.95', '71.75', '117.90']\n",
      "https://www.i-d-s.com/dubai/spirits/scotch-whisky.html?p=2\n"
     ]
    },
    {
     "name": "stderr",
     "output_type": "stream",
     "text": [
      "/var/folders/9z/sjrbpv9j1996t3_4wv3ry65c0000gn/T/ipykernel_16448/1430148339.py:83: FutureWarning: The frame.append method is deprecated and will be removed from pandas in a future version. Use pandas.concat instead.\n",
      "  df_aggregated=df_aggregated.append(df)\n"
     ]
    },
    {
     "name": "stdout",
     "output_type": "stream",
     "text": [
      "name: 12\n",
      "['Glenmorangie The Elementa 14 Year Old, in Gift Box', 'Glenmorangie The Tribute 16 Year Old, in Gift Box', 'Talisker Surge ', 'Dalmore 12 Year Old Single Malt Whisky', 'Dalmore 15 Year Old Single Malt Whisky', 'Dalmore King Alexander Single Malt Whisky', 'The Macallan Rare Cask', 'White Horse Fine Old', 'Adnams Rye Malt Whisky', 'Fettercairn 12 Year Old Malt Pedro Ximenez', 'Deanstone 18 Year Old', 'The John Walker, In Gift Box']\n",
      "url_product: 12\n",
      "['https://www.i-d-s.com/dubai/glenmorangie-the-elementa-14-year-old-in-gift-box-wh1041.html', 'https://www.i-d-s.com/dubai/glenmorangie-the-tribute-16-year-old-in-gift-box-wh1042.html', 'https://www.i-d-s.com/dubai/talisker-surge-wh1317.html', 'https://www.i-d-s.com/dubai/dalmore-12-year-old-single-malt-whisky-wh1169.html', 'https://www.i-d-s.com/dubai/dalmore-15-year-old-single-malt-whisky-wh1170.html', 'https://www.i-d-s.com/dubai/dalmore-king-alexander-single-malt-whisky-wh1172.html', 'https://www.i-d-s.com/dubai/the-macallan-rare-cask-wh1306.html', 'https://www.i-d-s.com/dubai/white-horse-fine-old-wh4013.html', 'https://www.i-d-s.com/dubai/adnams-rye-malt-whisky-wh1316.html', 'https://www.i-d-s.com/dubai/fettercairn-12-year-old-malt-pedro-ximenez-wh4045.html', 'https://www.i-d-s.com/dubai/deanstone-18-year-old-wh4036.html', 'https://www.i-d-s.com/dubai/the-john-walker-in-gift-box-wh1303.html']\n",
      "prices: 12\n",
      "reduced prices: 12\n",
      "['115.00', '138.85', '44.45', '82.15', '117.85', '190.85', '629.99', '10.65', '25.95', '65.85', '103.45', '2,894.70']\n",
      "https://www.i-d-s.com/dubai/spirits/scotch-whisky.html?p=3\n"
     ]
    },
    {
     "name": "stderr",
     "output_type": "stream",
     "text": [
      "/var/folders/9z/sjrbpv9j1996t3_4wv3ry65c0000gn/T/ipykernel_16448/1430148339.py:83: FutureWarning: The frame.append method is deprecated and will be removed from pandas in a future version. Use pandas.concat instead.\n",
      "  df_aggregated=df_aggregated.append(df)\n"
     ]
    },
    {
     "name": "stdout",
     "output_type": "stream",
     "text": [
      "name: 12\n",
      "['Non - Refillable Johnnie Walker Black Label, 12 Year Old', '100 Pipers Scotch Whisky NRF ', 'Johnnie Walker Blue Label Xordinaire', 'Glenfiddich Project XX', 'The Macallan Lumina, in Gift Box', 'The Macallan Terra', 'Johnnie Walker Gold Label Reserve', 'Johnnie Walker, 18 Year Old, in Gift Box', 'Johnnie Walker Blue Label, in Gift Box', 'Laphroaig, 10 Year Old', 'Laphroaig Pedro Ximenez Cask', 'Monkey Shoulder']\n",
      "url_product: 12\n",
      "['https://www.i-d-s.com/dubai/non-refillable-johnnie-walker-black-label-12-year-old-in-gift-box-nrf20530.html', 'https://www.i-d-s.com/dubai/100-pipers-scotch-whisky-nrf-wh1207.html', 'https://www.i-d-s.com/dubai/johnnie-walker-blue-label-xordinaire-wh1269.html', 'https://www.i-d-s.com/dubai/glenfiddich-project-xx-wh4077.html', 'https://www.i-d-s.com/dubai/the-macallan-lumina-in-gift-box-wh1037.html', 'https://www.i-d-s.com/dubai/the-macallan-terra-wh2200.html', 'https://www.i-d-s.com/dubai/johnnie-walker-gold-label-reserve-wh1013.html', 'https://www.i-d-s.com/dubai/johnnie-walker-18-year-old-in-gift-box-wh1024.html', 'https://www.i-d-s.com/dubai/johnnie-walker-blue-label-in-gift-box-wh1026.html', 'https://www.i-d-s.com/dubai/laphroaig-10-year-old-wh1210.html', 'https://www.i-d-s.com/dubai/laphroaig-pedro-ximenez-cask-wh4058.html', 'https://www.i-d-s.com/dubai/monkey-shoulder-wh1028.html']\n",
      "prices: 12\n",
      "reduced prices: 12\n",
      "['44.95', '13.25', '370.80', '70.05', '162.85', '312.50', '74.20', '143.80', '359.90', '61.00', '82.95', '51.30']\n",
      "https://www.i-d-s.com/dubai/spirits/scotch-whisky.html?p=4\n"
     ]
    },
    {
     "name": "stderr",
     "output_type": "stream",
     "text": [
      "/var/folders/9z/sjrbpv9j1996t3_4wv3ry65c0000gn/T/ipykernel_16448/1430148339.py:83: FutureWarning: The frame.append method is deprecated and will be removed from pandas in a future version. Use pandas.concat instead.\n",
      "  df_aggregated=df_aggregated.append(df)\n"
     ]
    },
    {
     "name": "stdout",
     "output_type": "stream",
     "text": [
      "name: 12\n",
      "['Cameron Bridge 26 Year Old \"Special Release 2022\"', 'Cardhu 16 Year Old \"Special Release 2022\"', 'Clynelish 12 Year Old \"Special Release 2022\"', 'Glen Ord The Singleton 15 Year Old \"Special Release 2022\"', 'Mortlach \"Special Release 2022\"', 'Oban 10 Year Old \"Special Release 2022\"', 'Talisker 11 Year Old \"Special Release 2022\"', 'Glenfiddich Perpetual Collection VAT 01', 'Glenfiddich Perpetual Collection VAT 3 Aged 15 YO', 'Glenfiddich 15 Year Old Solera', 'Glenfiddich Perpetual Collection VAT 2', 'Auchentoshan American Oak']\n",
      "url_product: 12\n",
      "['https://www.i-d-s.com/dubai/cameron-bridge-26-year-old-special-release-2022-wh1213.html', 'https://www.i-d-s.com/dubai/cardhu-16-year-old-special-release-2022-wh1214.html', 'https://www.i-d-s.com/dubai/clynelish-12-year-old-special-release-2022-wh1215.html', 'https://www.i-d-s.com/dubai/glen-ord-the-singleton-15-year-old-special-release-2022-wh1216.html', 'https://www.i-d-s.com/dubai/mortlach-special-release-2022-wh1218.html', 'https://www.i-d-s.com/dubai/oban-10-year-old-special-release-2022-wh1219.html', 'https://www.i-d-s.com/dubai/talisker-11-year-old-special-release-2022-wh1220.html', 'https://www.i-d-s.com/dubai/glenfiddich-perpetual-collection-vat-01-wh2198.html', 'https://www.i-d-s.com/dubai/glenfiddich-perpetual-collection-vat-3-aged-15-yo-wh1330.html', 'https://www.i-d-s.com/dubai/glenfiddich-15-year-old-solera-wh1211.html', 'https://www.i-d-s.com/dubai/glenfiddich-perpetual-collection-vat-2-wh1329.html', 'https://www.i-d-s.com/dubai/auchentoshan-american-oak-wh1328.html']\n",
      "prices: 12\n",
      "reduced prices: 12\n",
      "['160.45', '69.45', '63.99', '49.45', '149.45', '51.99', '49.45', '71.80', '90.05', '99.95', '88.80', '36.35']\n",
      "https://www.i-d-s.com/dubai/spirits/scotch-whisky.html?p=5\n"
     ]
    },
    {
     "name": "stderr",
     "output_type": "stream",
     "text": [
      "/var/folders/9z/sjrbpv9j1996t3_4wv3ry65c0000gn/T/ipykernel_16448/1430148339.py:83: FutureWarning: The frame.append method is deprecated and will be removed from pandas in a future version. Use pandas.concat instead.\n",
      "  df_aggregated=df_aggregated.append(df)\n"
     ]
    },
    {
     "name": "stdout",
     "output_type": "stream",
     "text": [
      "name: 12\n",
      "['Non - Refillable Chivas Regal, 12 Year Old In Individual Gift Box', 'The Famous Grouse', 'The Famous Grouse Smoky Black', \"Ballantine's Finest\", \"Ballantine's, 21 Year Old, in Gift Pack\", 'Jura 21 Year Old “ Time” Single Malt Whisky', 'J &amp; B Rare', 'Jura The Sound Malt Whisky', 'Jura The Bay 12 Year Old Malt Whisky', 'Chivas Regal, 12 Year Old Scotch Whisky With Cradle (4.5L)', 'Chivas Regal, 25 Year Old, in Gift Box', 'Dalmore Cigar Malt Whisky']\n",
      "url_product: 12\n",
      "['https://www.i-d-s.com/dubai/non-refillable-chivas-regal-12-year-old-in-individual-gift-box-nrf10535.html', 'https://www.i-d-s.com/dubai/the-famous-grouse-wh1004.html', 'https://www.i-d-s.com/dubai/the-famous-grouse-smoky-black-wh1005.html', 'https://www.i-d-s.com/dubai/ballantine-s-finest-wh1002.html', 'https://www.i-d-s.com/dubai/ballantine-s-21-year-old-in-gift-pack-wh1020.html', 'https://www.i-d-s.com/dubai/jura-21-year-old-single-malt-whisky-wh1168.html', 'https://www.i-d-s.com/dubai/j-b-rare-wh1003.html', 'https://www.i-d-s.com/dubai/jura-the-sound-malt-whisky-wh1166.html', 'https://www.i-d-s.com/dubai/jura-the-bay-12-year-old-malt-whisky-wh1167.html', 'https://www.i-d-s.com/dubai/chivas-regal-12-year-old-scotch-whisky-with-cradle-wh1015.html', 'https://www.i-d-s.com/dubai/chivas-regal-25-year-old-in-gift-box-wh1022.html', 'https://www.i-d-s.com/dubai/dalmore-cigar-malt-whisky-wh1173.html']\n",
      "prices: 12\n",
      "reduced prices: 12\n",
      "['36.05', '16.45', '25.20', '16.85', '279.15', '205.40', '24.15', '49.85', '76.65', '250.70', '292.45', '140.25']\n",
      "https://www.i-d-s.com/dubai/spirits/scotch-whisky.html?p=6\n"
     ]
    },
    {
     "name": "stderr",
     "output_type": "stream",
     "text": [
      "/var/folders/9z/sjrbpv9j1996t3_4wv3ry65c0000gn/T/ipykernel_16448/1430148339.py:83: FutureWarning: The frame.append method is deprecated and will be removed from pandas in a future version. Use pandas.concat instead.\n",
      "  df_aggregated=df_aggregated.append(df)\n"
     ]
    },
    {
     "name": "stdout",
     "output_type": "stream",
     "text": [
      "name: 12\n",
      "['Johnnie Walker Red Label (3L)', 'Johnnie Walker Black Label, 12 Year Old (3L)', 'Johnnie Walker Blue Label King George V', \"Teacher's Highland Cream\", \"Dewar's White Label\", 'Dimple, 15 Year Old', 'Glenmorangie, 19 Year Old, in Gift Box', 'Oban Little Bay, in Gift Box', 'Highland Park Loyalty of the Wolf, 14 Year Old, in Gift Box', 'Bowmore, 10 Year Old- Dark &amp; intense', 'Bowmore, 15 Year Old - Golden &amp; Elegant', 'Auchentoshan American Oak Reserve']\n",
      "url_product: 12\n",
      "['https://www.i-d-s.com/dubai/johnnie-walker-red-label-3l-wh1001.html', 'https://www.i-d-s.com/dubai/johnnie-walker-black-label-12-year-old-3l-wh1011.html', 'https://www.i-d-s.com/dubai/johnnie-walker-blue-label-king-george-v-wh1027.html', 'https://www.i-d-s.com/dubai/teacher-s-highland-cream-wh1007.html', 'https://www.i-d-s.com/dubai/dewar-s-white-label-wh1008.html', 'https://www.i-d-s.com/dubai/dimple-15-year-old-in-gift-box-wh1018.html', 'https://www.i-d-s.com/dubai/glenmorangie-19-year-old-in-gift-box-wh1043.html', 'https://www.i-d-s.com/dubai/oban-little-bay-in-gift-box-wh1044.html', 'https://www.i-d-s.com/dubai/highland-park-loyalty-of-the-wolf-14-year-old-in-gift-box-wh1045.html', 'https://www.i-d-s.com/dubai/bowmore-10-year-old-dark-intense-wh1048.html', 'https://www.i-d-s.com/dubai/bowmore-15-year-old-golden-elegant-wh1049.html', 'https://www.i-d-s.com/dubai/auchentoshan-american-oak-reserve-wh1051.html']\n",
      "prices: 12\n",
      "reduced prices: 12\n",
      "['60.10', '148.00', '772.40', '16.05', '21.45', '60.20', '103.40', '123.25', '90.50', '52.30', '119.00', '45.10']\n",
      "https://www.i-d-s.com/dubai/spirits/scotch-whisky.html?p=7\n"
     ]
    },
    {
     "name": "stderr",
     "output_type": "stream",
     "text": [
      "/var/folders/9z/sjrbpv9j1996t3_4wv3ry65c0000gn/T/ipykernel_16448/1430148339.py:83: FutureWarning: The frame.append method is deprecated and will be removed from pandas in a future version. Use pandas.concat instead.\n",
      "  df_aggregated=df_aggregated.append(df)\n"
     ]
    },
    {
     "name": "stdout",
     "output_type": "stream",
     "text": [
      "name: 1\n",
      "['Rare Vintage Glen Grant,1961, In Gift Box']\n",
      "url_product: 1\n",
      "['https://www.i-d-s.com/dubai/rare-vintage-glen-grant-1961-in-gift-box-wh1053.html']\n",
      "prices: 1\n",
      "reduced prices: 1\n",
      "['1,181.15']\n",
      "https://www.i-d-s.com/dubai/spirits/scotch-whisky.html?p=8\n"
     ]
    },
    {
     "name": "stderr",
     "output_type": "stream",
     "text": [
      "/var/folders/9z/sjrbpv9j1996t3_4wv3ry65c0000gn/T/ipykernel_16448/1430148339.py:83: FutureWarning: The frame.append method is deprecated and will be removed from pandas in a future version. Use pandas.concat instead.\n",
      "  df_aggregated=df_aggregated.append(df)\n"
     ]
    },
    {
     "name": "stdout",
     "output_type": "stream",
     "text": [
      "name: 0\n",
      "[]\n",
      "url_product: 0\n",
      "[]\n",
      "prices: 0\n",
      "reduced prices: 0\n",
      "[]\n",
      "---------------\n"
     ]
    },
    {
     "name": "stderr",
     "output_type": "stream",
     "text": [
      "/var/folders/9z/sjrbpv9j1996t3_4wv3ry65c0000gn/T/ipykernel_16448/1430148339.py:83: FutureWarning: The frame.append method is deprecated and will be removed from pandas in a future version. Use pandas.concat instead.\n",
      "  df_aggregated=df_aggregated.append(df)\n"
     ]
    },
    {
     "name": "stdout",
     "output_type": "stream",
     "text": [
      "other_whisky\n",
      "https://www.i-d-s.com/dubai/spirits/bourbon-other-whiskey.html?p=1\n",
      "name: 12\n",
      "['Amrut India Kurinji Indian Single Malt Whisky', 'Godawan Fruit &amp; Spice Single Malt Whisky', 'Amrut Fusion Indian Single Malt ', 'Amrut Triparva Indian Single Malt ', 'John Jameson Triple Distilled, Irish Whiskey', \"Jack Daniel's Old No. 7 (Black Label), Tennessee Whiskey\", 'Jim Beam White, Kentucky Straight Bourbon Whiskey', 'Buffalo Trace Kentucky Straight Bourbon Whiskey', \"Woodford Reserve Bourbon Distiller's Select, Kentucky Straight Bourbon\", 'Penderyn Legend Single Malt Whisky', 'Evan Williams Kentucky Straight Bourbon, Whiskey', 'Shin Select Reserve Whisky']\n",
      "url_product: 12\n",
      "['https://www.i-d-s.com/dubai/amrut-india-kurinji-indian-single-malt-whisky-wh1336.html', 'https://www.i-d-s.com/dubai/godawan-fruit-spice-single-malt-whisky-wh1335.html', 'https://www.i-d-s.com/dubai/amrut-fusion-indian-single-malt-wh1283.html', 'https://www.i-d-s.com/dubai/amrut-triparva-indian-single-malt-wh1280.html', 'https://www.i-d-s.com/dubai/john-jameson-triple-distilled-irish-whiskey-wh1081.html', 'https://www.i-d-s.com/dubai/jack-daniel-s-old-no-7-black-label-tennessee-whiskey-wh1054.html', 'https://www.i-d-s.com/dubai/jim-beam-white-kentucky-straight-bourbon-whiskey-wh1058.html', 'https://www.i-d-s.com/dubai/buffalo-trace-kentucky-straight-bourbon-whiskey-wh1062.html', 'https://www.i-d-s.com/dubai/woodford-reserve-bourbon-distiller-s-select-kentucky-straight-bourbon-wh1060.html', 'https://www.i-d-s.com/dubai/penderyn-legend-single-malt-whisky-wh1274.html', 'https://www.i-d-s.com/dubai/evan-williams-kentucky-straight-bourbon-whiskey-wh1112.html', 'https://www.i-d-s.com/dubai/shin-select-reserve-whisky-wh1325.html']\n",
      "prices: 12\n",
      "reduced prices: 12\n",
      "['83.50', '76.50', '44.40', '105.20', '25.00', '36.15', '18.80', '33.70', '51.60', '32.65', '21.80', '16.45']\n",
      "https://www.i-d-s.com/dubai/spirits/bourbon-other-whiskey.html?p=2\n"
     ]
    },
    {
     "name": "stderr",
     "output_type": "stream",
     "text": [
      "/var/folders/9z/sjrbpv9j1996t3_4wv3ry65c0000gn/T/ipykernel_16448/1430148339.py:83: FutureWarning: The frame.append method is deprecated and will be removed from pandas in a future version. Use pandas.concat instead.\n",
      "  df_aggregated=df_aggregated.append(df)\n"
     ]
    },
    {
     "name": "stdout",
     "output_type": "stream",
     "text": [
      "name: 12\n",
      "['Masahiro 12 Years Old Pure Malt Whisky', 'Suntory AO World Blend Whisky', 'Bowmore, 15 Year Old - Golden &amp; Elegant', \"Jack Daniel's Single Barrel Rye Whiskey\", 'Bushmills Port Cask, In Gift Box Irish Whiskey', 'Wild Turkey American Honey Whiskey', 'Headland Distillery Muscat cask ', 'Starward Nova ', 'Hibiki Harmony, In Individual Gift Box', 'Yamazaki 12 Year Old', 'Shinobu Blended Whisky, Mizunari Oak Finish ', 'Shin Serene Whisky ']\n",
      "url_product: 12\n",
      "['https://www.i-d-s.com/dubai/masahiro-12-years-old-pure-malt-whisky-wh1324.html', 'https://www.i-d-s.com/dubai/suntory-ao-world-blend-whisky-wh4137.html', 'https://www.i-d-s.com/dubai/bowmore-15-year-old-golden-elegant-wh1049.html', 'https://www.i-d-s.com/dubai/jack-daniel-s-single-barrel-rye-whiskey-wh2169.html', 'https://www.i-d-s.com/dubai/bushmills-port-cask-in-gift-box-irish-whiskey-wh2168.html', 'https://www.i-d-s.com/dubai/wild-turkey-american-honey-whiskey-wh2148.html', 'https://www.i-d-s.com/dubai/headland-distillery-muscat-cask-wh1264.html', 'https://www.i-d-s.com/dubai/starward-nova-wh1262.html', 'https://www.i-d-s.com/dubai/hibiki-harmony-in-individual-gift-box-wh1256.html', 'https://www.i-d-s.com/dubai/yamazaki-12-year-old-wh1257.html', 'https://www.i-d-s.com/dubai/shinobu-blended-whisky-mizunari-oak-finish-wh1320.html', 'https://www.i-d-s.com/dubai/shin-serene-whisky-wh1318.html']\n",
      "prices: 12\n",
      "reduced prices: 12\n",
      "['65.99', '272.10', '119.00', '46.60', '59.00', '12.60', '78.85', '85.05', '295.10', '520.85', '19.99', '17.99']\n",
      "https://www.i-d-s.com/dubai/spirits/bourbon-other-whiskey.html?p=3\n"
     ]
    },
    {
     "name": "stderr",
     "output_type": "stream",
     "text": [
      "/var/folders/9z/sjrbpv9j1996t3_4wv3ry65c0000gn/T/ipykernel_16448/1430148339.py:83: FutureWarning: The frame.append method is deprecated and will be removed from pandas in a future version. Use pandas.concat instead.\n",
      "  df_aggregated=df_aggregated.append(df)\n"
     ]
    },
    {
     "name": "stdout",
     "output_type": "stream",
     "text": [
      "name: 12\n",
      "['Masahiro Pure Malt Whisky ', 'Shinobu Lightly Peated Pure Malt, Mizunara Oak Finish ', 'Shinobu 15 Years Old Pure Malt Whisky, Mizunara Oak Finish ', 'Penderyn Myth Single Malt Whisky', 'Penderyn Celt Single Malt Whisky', 'Penderyn Legend Single Malt Whisky', 'Jim Beam Honey Whiskey', 'Adnams Rye Malt Whisky', \"Jack Daniel's Tennessee Fire\", 'Dyc 8 Años Whisky', 'The Suntory Chita Single Malt, in Gift Box', \"Jack Daniel's Gold No27\"]\n",
      "url_product: 12\n",
      "['https://www.i-d-s.com/dubai/masahiro-pure-malt-whisky-wh1323.html', 'https://www.i-d-s.com/dubai/shinobu-lightly-peated-pure-malt-mizunara-oak-finish-wh1322.html', 'https://www.i-d-s.com/dubai/shinobu-15-years-old-pure-malt-whisky-mizunara-oak-finish-wh1321.html', 'https://www.i-d-s.com/dubai/penderyn-myth-single-malt-whisky-wh1313.html', 'https://www.i-d-s.com/dubai/penderyn-celt-single-malt-whisky-wh1314.html', 'https://www.i-d-s.com/dubai/penderyn-legend-single-malt-whisky-wh1312.html', 'https://www.i-d-s.com/dubai/jim-beam-honey-whiskey-wh2147.html', 'https://www.i-d-s.com/dubai/adnams-rye-malt-whisky-wh1316.html', 'https://www.i-d-s.com/dubai/jack-daniel-s-tennessee-fire-wh1180.html', 'https://www.i-d-s.com/dubai/dyc-8-a-os-whisky-wh4116.html', 'https://www.i-d-s.com/dubai/the-suntory-chita-single-malt-in-gift-box-wh1084.html', 'https://www.i-d-s.com/dubai/jack-daniel-s-gold-no27-wh1177.html']\n",
      "prices: 12\n",
      "reduced prices: 12\n",
      "['25.45', '33.99', '99.99', '24.30', '24.30', '24.30', '16.60', '25.95', '36.15', '19.30', '88.55', '56.15']\n",
      "https://www.i-d-s.com/dubai/spirits/bourbon-other-whiskey.html?p=4\n"
     ]
    },
    {
     "name": "stderr",
     "output_type": "stream",
     "text": [
      "/var/folders/9z/sjrbpv9j1996t3_4wv3ry65c0000gn/T/ipykernel_16448/1430148339.py:83: FutureWarning: The frame.append method is deprecated and will be removed from pandas in a future version. Use pandas.concat instead.\n",
      "  df_aggregated=df_aggregated.append(df)\n"
     ]
    },
    {
     "name": "stdout",
     "output_type": "stream",
     "text": [
      "name: 12\n",
      "[\"Jack Daniel's Sinatra Select\", \"Jack Daniel's Rye\", \"Jack Daniel's Tennessee Honey, Tennessee Whiskey\", \"Jack Daniel's Gentleman Jack, Tennessee Whiskey\", 'Jim Beam Black Extra Aged', 'Togouchi Premium Blended Whisky', \"Hakushu Distiller's Reserve\", 'Akashi Blend White Oak', 'Suntory Toki', 'Nikka Whisky From The Barrel, Japanese Blended Whisky', 'Nikka Yoichi Single Malt, in Gift Box', 'Tullamore D.E.W, Triple Distilled, Irish Whiskey']\n",
      "url_product: 12\n",
      "['https://www.i-d-s.com/dubai/jack-daniel-s-sinatra-select-wh1176.html', 'https://www.i-d-s.com/dubai/jack-daniel-s-rye-wh1179.html', 'https://www.i-d-s.com/dubai/jack-daniel-s-tennessee-honey-tennessee-whiskey-wh1057.html', 'https://www.i-d-s.com/dubai/jack-daniel-s-gentleman-jack-tennessee-whiskey-wh1056.html', 'https://www.i-d-s.com/dubai/jim-beam-black-triple-aged-kentucky-straight-bourbon-whiskey-wh1059.html', 'https://www.i-d-s.com/dubai/togouchi-premium-blended-whisky-wh1162.html', 'https://www.i-d-s.com/dubai/hakushu-distiller-s-reserve-wh1255.html', 'https://www.i-d-s.com/dubai/akashi-blend-white-oak-wh1159.html', 'https://www.i-d-s.com/dubai/suntory-toki-wh1157.html', 'https://www.i-d-s.com/dubai/nikka-whisky-from-the-barrel-japanese-blended-whisky-wh1086.html', 'https://www.i-d-s.com/dubai/nikka-yoichi-single-malt-in-gift-box-wh1085.html', 'https://www.i-d-s.com/dubai/tullamore-d-e-w-triple-distilled-irish-whiskey-wh1082.html']\n",
      "prices: 12\n",
      "reduced prices: 12\n",
      "['183.35', '39.80', '36.15', '46.55', '30.45', '62.40', '265.40', '37.05', '44.00', '72.15', '140.60', '29.40']\n",
      "https://www.i-d-s.com/dubai/spirits/bourbon-other-whiskey.html?p=5\n"
     ]
    },
    {
     "name": "stderr",
     "output_type": "stream",
     "text": [
      "/var/folders/9z/sjrbpv9j1996t3_4wv3ry65c0000gn/T/ipykernel_16448/1430148339.py:83: FutureWarning: The frame.append method is deprecated and will be removed from pandas in a future version. Use pandas.concat instead.\n",
      "  df_aggregated=df_aggregated.append(df)\n"
     ]
    },
    {
     "name": "stdout",
     "output_type": "stream",
     "text": [
      "name: 5\n",
      "['Knob Creek Small Batch, Kentucky Straight Bourbon', 'Woodford Reserve Double Oaked, Kentucky Straight Bourbon', 'Wild Turkey 8 Year Old 101 Proof, Kentucky Straight Bourbon Whiskey', 'Canadian Club', 'Crown Royal, Deluxe Whisky, in Gift Box']\n",
      "url_product: 5\n",
      "['https://www.i-d-s.com/dubai/knob-creek-small-batch-kentucky-straight-bourbon-wh2062.html', 'https://www.i-d-s.com/dubai/woodford-reserve-double-oaked-kentucky-straight-bourbon-wh1061.html', 'https://www.i-d-s.com/dubai/wild-turkey-8-year-old-101-proof-kentucky-straight-bourbon-whiskey-wh1088.html', 'https://www.i-d-s.com/dubai/canadian-club-wh1078.html', 'https://www.i-d-s.com/dubai/crown-royal-deluxe-whisky-in-gift-box-wh1079.html']\n",
      "prices: 5\n",
      "reduced prices: 5\n",
      "['59.00', '98.60', '32.15', '19.10', '34.85']\n",
      "https://www.i-d-s.com/dubai/spirits/bourbon-other-whiskey.html?p=6\n"
     ]
    },
    {
     "name": "stderr",
     "output_type": "stream",
     "text": [
      "/var/folders/9z/sjrbpv9j1996t3_4wv3ry65c0000gn/T/ipykernel_16448/1430148339.py:83: FutureWarning: The frame.append method is deprecated and will be removed from pandas in a future version. Use pandas.concat instead.\n",
      "  df_aggregated=df_aggregated.append(df)\n"
     ]
    },
    {
     "name": "stdout",
     "output_type": "stream",
     "text": [
      "name: 0\n",
      "[]\n",
      "url_product: 0\n",
      "[]\n",
      "prices: 0\n",
      "reduced prices: 0\n",
      "[]\n",
      "---------------\n"
     ]
    },
    {
     "name": "stderr",
     "output_type": "stream",
     "text": [
      "/var/folders/9z/sjrbpv9j1996t3_4wv3ry65c0000gn/T/ipykernel_16448/1430148339.py:83: FutureWarning: The frame.append method is deprecated and will be removed from pandas in a future version. Use pandas.concat instead.\n",
      "  df_aggregated=df_aggregated.append(df)\n"
     ]
    }
   ],
   "source": [
    "df_wine_diplo=get_data(parameters[0])"
   ]
  },
  {
   "cell_type": "code",
   "execution_count": 23,
   "id": "84d68a74",
   "metadata": {},
   "outputs": [
    {
     "data": {
      "text/html": [
       "<div>\n",
       "<style scoped>\n",
       "    .dataframe tbody tr th:only-of-type {\n",
       "        vertical-align: middle;\n",
       "    }\n",
       "\n",
       "    .dataframe tbody tr th {\n",
       "        vertical-align: top;\n",
       "    }\n",
       "\n",
       "    .dataframe thead th {\n",
       "        text-align: right;\n",
       "    }\n",
       "</style>\n",
       "<table border=\"1\" class=\"dataframe\">\n",
       "  <thead>\n",
       "    <tr style=\"text-align: right;\">\n",
       "      <th></th>\n",
       "      <th>0</th>\n",
       "      <th>1</th>\n",
       "      <th>2</th>\n",
       "      <th>country</th>\n",
       "    </tr>\n",
       "  </thead>\n",
       "  <tbody>\n",
       "    <tr>\n",
       "      <th>0</th>\n",
       "      <td>39.99</td>\n",
       "      <td>Nicolas Feuillatte Brut with Gift Box</td>\n",
       "      <td>https://www.i-d-s.com/dubai/nicolas-feuillatte...</td>\n",
       "      <td>france</td>\n",
       "    </tr>\n",
       "    <tr>\n",
       "      <th>1</th>\n",
       "      <td>37.00</td>\n",
       "      <td>Chateau Fleur de Pedesclaux</td>\n",
       "      <td>https://www.i-d-s.com/dubai/chateau-fleur-de-p...</td>\n",
       "      <td>france</td>\n",
       "    </tr>\n",
       "    <tr>\n",
       "      <th>2</th>\n",
       "      <td>34.30</td>\n",
       "      <td>Domaine Cailbourdin Pouilly Fume ‘Les Racines’</td>\n",
       "      <td>https://www.i-d-s.com/dubai/domaine-cailbourdi...</td>\n",
       "      <td>france</td>\n",
       "    </tr>\n",
       "    <tr>\n",
       "      <th>3</th>\n",
       "      <td>111.70</td>\n",
       "      <td>2018 Chateau Croix Mouton</td>\n",
       "      <td>https://www.i-d-s.com/dubai/2018-chateau-croix...</td>\n",
       "      <td>france</td>\n",
       "    </tr>\n",
       "    <tr>\n",
       "      <th>4</th>\n",
       "      <td>1,487.50</td>\n",
       "      <td>2010 Château Beychevelle, 4ème Cru Classé, Sai...</td>\n",
       "      <td>https://www.i-d-s.com/dubai/2010-ch-teau-beych...</td>\n",
       "      <td>france</td>\n",
       "    </tr>\n",
       "    <tr>\n",
       "      <th>...</th>\n",
       "      <td>...</td>\n",
       "      <td>...</td>\n",
       "      <td>...</td>\n",
       "      <td>...</td>\n",
       "    </tr>\n",
       "    <tr>\n",
       "      <th>0</th>\n",
       "      <td>59.00</td>\n",
       "      <td>Knob Creek Small Batch, Kentucky Straight Bourbon</td>\n",
       "      <td>https://www.i-d-s.com/dubai/knob-creek-small-b...</td>\n",
       "      <td>other_whisky</td>\n",
       "    </tr>\n",
       "    <tr>\n",
       "      <th>1</th>\n",
       "      <td>98.60</td>\n",
       "      <td>Woodford Reserve Double Oaked, Kentucky Straig...</td>\n",
       "      <td>https://www.i-d-s.com/dubai/woodford-reserve-d...</td>\n",
       "      <td>other_whisky</td>\n",
       "    </tr>\n",
       "    <tr>\n",
       "      <th>2</th>\n",
       "      <td>32.15</td>\n",
       "      <td>Wild Turkey 8 Year Old 101 Proof, Kentucky Str...</td>\n",
       "      <td>https://www.i-d-s.com/dubai/wild-turkey-8-year...</td>\n",
       "      <td>other_whisky</td>\n",
       "    </tr>\n",
       "    <tr>\n",
       "      <th>3</th>\n",
       "      <td>19.10</td>\n",
       "      <td>Canadian Club</td>\n",
       "      <td>https://www.i-d-s.com/dubai/canadian-club-wh10...</td>\n",
       "      <td>other_whisky</td>\n",
       "    </tr>\n",
       "    <tr>\n",
       "      <th>4</th>\n",
       "      <td>34.85</td>\n",
       "      <td>Crown Royal, Deluxe Whisky, in Gift Box</td>\n",
       "      <td>https://www.i-d-s.com/dubai/crown-royal-deluxe...</td>\n",
       "      <td>other_whisky</td>\n",
       "    </tr>\n",
       "  </tbody>\n",
       "</table>\n",
       "<p>893 rows × 4 columns</p>\n",
       "</div>"
      ],
      "text/plain": [
       "           0                                                  1  \\\n",
       "0      39.99              Nicolas Feuillatte Brut with Gift Box   \n",
       "1      37.00                        Chateau Fleur de Pedesclaux   \n",
       "2      34.30     Domaine Cailbourdin Pouilly Fume ‘Les Racines’   \n",
       "3     111.70                          2018 Chateau Croix Mouton   \n",
       "4   1,487.50  2010 Château Beychevelle, 4ème Cru Classé, Sai...   \n",
       "..       ...                                                ...   \n",
       "0      59.00  Knob Creek Small Batch, Kentucky Straight Bourbon   \n",
       "1      98.60  Woodford Reserve Double Oaked, Kentucky Straig...   \n",
       "2      32.15  Wild Turkey 8 Year Old 101 Proof, Kentucky Str...   \n",
       "3      19.10                                      Canadian Club   \n",
       "4      34.85            Crown Royal, Deluxe Whisky, in Gift Box   \n",
       "\n",
       "                                                    2       country  \n",
       "0   https://www.i-d-s.com/dubai/nicolas-feuillatte...        france  \n",
       "1   https://www.i-d-s.com/dubai/chateau-fleur-de-p...        france  \n",
       "2   https://www.i-d-s.com/dubai/domaine-cailbourdi...        france  \n",
       "3   https://www.i-d-s.com/dubai/2018-chateau-croix...        france  \n",
       "4   https://www.i-d-s.com/dubai/2010-ch-teau-beych...        france  \n",
       "..                                                ...           ...  \n",
       "0   https://www.i-d-s.com/dubai/knob-creek-small-b...  other_whisky  \n",
       "1   https://www.i-d-s.com/dubai/woodford-reserve-d...  other_whisky  \n",
       "2   https://www.i-d-s.com/dubai/wild-turkey-8-year...  other_whisky  \n",
       "3   https://www.i-d-s.com/dubai/canadian-club-wh10...  other_whisky  \n",
       "4   https://www.i-d-s.com/dubai/crown-royal-deluxe...  other_whisky  \n",
       "\n",
       "[893 rows x 4 columns]"
      ]
     },
     "execution_count": 23,
     "metadata": {},
     "output_type": "execute_result"
    }
   ],
   "source": [
    "df_wine_diplo"
   ]
  },
  {
   "cell_type": "code",
   "execution_count": 24,
   "id": "00f28d70",
   "metadata": {
    "scrolled": false
   },
   "outputs": [],
   "source": [
    "df_wine_diplo.to_csv('wine_14_01_25.csv')"
   ]
  },
  {
   "cell_type": "code",
   "execution_count": 25,
   "id": "6c59bbed",
   "metadata": {},
   "outputs": [],
   "source": [
    "df_wine_diplo['vivino_url']=''\n",
    "df_wine_diplo['vivino_rating']=''"
   ]
  },
  {
   "cell_type": "code",
   "execution_count": 26,
   "id": "4873daee",
   "metadata": {},
   "outputs": [],
   "source": [
    "df_wine_diplo_backup=df_wine_diplo"
   ]
  },
  {
   "cell_type": "code",
   "execution_count": 27,
   "id": "5d20f26f",
   "metadata": {},
   "outputs": [],
   "source": [
    "#param for vivino scrapper\n",
    "features_vivino=['url','rating']\n",
    "\n",
    "rating_regexp=\"\\\"ratingValue\\\":(.*?),\"\n",
    "url_regexp='\\\"Product\\\",\\\"\\@id\\\":\\\"(.*?)\\\",'\n",
    "name_regexp=\"description\\\":\\\"Check out this (.*?) on Vivino\" \n",
    "price_regexp=\"class=\\\"wine-price-value\\\">(.*?)</span>\"\n",
    "region_regexp=\"wine-regions\\/(.*?)\\\"\"\n",
    "country_regexp=\"wine-countries\\/(.*?)\\\"\"\n",
    "nb_ratings_regexp=\"(\\d+) ratings\""
   ]
  },
  {
   "cell_type": "code",
   "execution_count": 28,
   "id": "2f42cdd0",
   "metadata": {},
   "outputs": [],
   "source": [
    "def scrap_feature_vivino(feature_name,feature_regex,vivino_feature_list):\n",
    "        if len(re.findall(feature_regex, htmlsource))==0:\n",
    "            vivino_feature_inter_list=['-']\n",
    "        else:\n",
    "            vivino_feature_inter_list=[re.findall(url_regexp, htmlsource)[0]]\n",
    "            \n",
    "        vivino_feature_list=vivino_feature_list+vivino_feature_inter_list\n",
    "    "
   ]
  },
  {
   "cell_type": "markdown",
   "id": "31a2e212",
   "metadata": {},
   "source": [
    "# RUN 1"
   ]
  },
  {
   "cell_type": "code",
   "execution_count": null,
   "id": "7dc66b98",
   "metadata": {},
   "outputs": [
    {
     "ename": "KeyError",
     "evalue": "1",
     "output_type": "error",
     "traceback": [
      "\u001b[0;31m---------------------------------------------------------------------------\u001b[0m",
      "\u001b[0;31mKeyError\u001b[0m                                  Traceback (most recent call last)",
      "File \u001b[0;32m~/opt/anaconda3/envs/sitrep/lib/python3.9/site-packages/pandas/core/indexes/base.py:3803\u001b[0m, in \u001b[0;36mIndex.get_loc\u001b[0;34m(self, key, method, tolerance)\u001b[0m\n\u001b[1;32m   3802\u001b[0m \u001b[38;5;28;01mtry\u001b[39;00m:\n\u001b[0;32m-> 3803\u001b[0m     \u001b[38;5;28;01mreturn\u001b[39;00m \u001b[38;5;28;43mself\u001b[39;49m\u001b[38;5;241;43m.\u001b[39;49m\u001b[43m_engine\u001b[49m\u001b[38;5;241;43m.\u001b[39;49m\u001b[43mget_loc\u001b[49m\u001b[43m(\u001b[49m\u001b[43mcasted_key\u001b[49m\u001b[43m)\u001b[49m\n\u001b[1;32m   3804\u001b[0m \u001b[38;5;28;01mexcept\u001b[39;00m \u001b[38;5;167;01mKeyError\u001b[39;00m \u001b[38;5;28;01mas\u001b[39;00m err:\n",
      "File \u001b[0;32m~/opt/anaconda3/envs/sitrep/lib/python3.9/site-packages/pandas/_libs/index.pyx:138\u001b[0m, in \u001b[0;36mpandas._libs.index.IndexEngine.get_loc\u001b[0;34m()\u001b[0m\n",
      "File \u001b[0;32m~/opt/anaconda3/envs/sitrep/lib/python3.9/site-packages/pandas/_libs/index.pyx:165\u001b[0m, in \u001b[0;36mpandas._libs.index.IndexEngine.get_loc\u001b[0;34m()\u001b[0m\n",
      "File \u001b[0;32mpandas/_libs/hashtable_class_helper.pxi:5745\u001b[0m, in \u001b[0;36mpandas._libs.hashtable.PyObjectHashTable.get_item\u001b[0;34m()\u001b[0m\n",
      "File \u001b[0;32mpandas/_libs/hashtable_class_helper.pxi:5753\u001b[0m, in \u001b[0;36mpandas._libs.hashtable.PyObjectHashTable.get_item\u001b[0;34m()\u001b[0m\n",
      "\u001b[0;31mKeyError\u001b[0m: 1",
      "\nThe above exception was the direct cause of the following exception:\n",
      "\u001b[0;31mKeyError\u001b[0m                                  Traceback (most recent call last)",
      "Cell \u001b[0;32mIn [14], line 8\u001b[0m\n\u001b[1;32m      4\u001b[0m \u001b[38;5;66;03m#keep only the rows where [2] does not contain whisky\u001b[39;00m\n\u001b[1;32m      6\u001b[0m df_wine_diplo_vivino\u001b[38;5;241m=\u001b[39mdf_wine_diplo[\u001b[38;5;241m~\u001b[39mdf_wine_diplo[\u001b[38;5;124m'\u001b[39m\u001b[38;5;124mcountry\u001b[39m\u001b[38;5;124m'\u001b[39m]\u001b[38;5;241m.\u001b[39mstr\u001b[38;5;241m.\u001b[39mcontains(\u001b[38;5;124m'\u001b[39m\u001b[38;5;124mwhisky\u001b[39m\u001b[38;5;124m'\u001b[39m, case\u001b[38;5;241m=\u001b[39m\u001b[38;5;28;01mFalse\u001b[39;00m, na\u001b[38;5;241m=\u001b[39m\u001b[38;5;28;01mFalse\u001b[39;00m)]\n\u001b[0;32m----> 8\u001b[0m \u001b[43mdf_wine_diplo_vivino\u001b[49m\u001b[43m[\u001b[49m\u001b[38;5;241;43m1\u001b[39;49m\u001b[43m]\u001b[49m\n",
      "File \u001b[0;32m~/opt/anaconda3/envs/sitrep/lib/python3.9/site-packages/pandas/core/frame.py:3804\u001b[0m, in \u001b[0;36mDataFrame.__getitem__\u001b[0;34m(self, key)\u001b[0m\n\u001b[1;32m   3802\u001b[0m \u001b[38;5;28;01mif\u001b[39;00m \u001b[38;5;28mself\u001b[39m\u001b[38;5;241m.\u001b[39mcolumns\u001b[38;5;241m.\u001b[39mnlevels \u001b[38;5;241m>\u001b[39m \u001b[38;5;241m1\u001b[39m:\n\u001b[1;32m   3803\u001b[0m     \u001b[38;5;28;01mreturn\u001b[39;00m \u001b[38;5;28mself\u001b[39m\u001b[38;5;241m.\u001b[39m_getitem_multilevel(key)\n\u001b[0;32m-> 3804\u001b[0m indexer \u001b[38;5;241m=\u001b[39m \u001b[38;5;28;43mself\u001b[39;49m\u001b[38;5;241;43m.\u001b[39;49m\u001b[43mcolumns\u001b[49m\u001b[38;5;241;43m.\u001b[39;49m\u001b[43mget_loc\u001b[49m\u001b[43m(\u001b[49m\u001b[43mkey\u001b[49m\u001b[43m)\u001b[49m\n\u001b[1;32m   3805\u001b[0m \u001b[38;5;28;01mif\u001b[39;00m is_integer(indexer):\n\u001b[1;32m   3806\u001b[0m     indexer \u001b[38;5;241m=\u001b[39m [indexer]\n",
      "File \u001b[0;32m~/opt/anaconda3/envs/sitrep/lib/python3.9/site-packages/pandas/core/indexes/base.py:3805\u001b[0m, in \u001b[0;36mIndex.get_loc\u001b[0;34m(self, key, method, tolerance)\u001b[0m\n\u001b[1;32m   3803\u001b[0m     \u001b[38;5;28;01mreturn\u001b[39;00m \u001b[38;5;28mself\u001b[39m\u001b[38;5;241m.\u001b[39m_engine\u001b[38;5;241m.\u001b[39mget_loc(casted_key)\n\u001b[1;32m   3804\u001b[0m \u001b[38;5;28;01mexcept\u001b[39;00m \u001b[38;5;167;01mKeyError\u001b[39;00m \u001b[38;5;28;01mas\u001b[39;00m err:\n\u001b[0;32m-> 3805\u001b[0m     \u001b[38;5;28;01mraise\u001b[39;00m \u001b[38;5;167;01mKeyError\u001b[39;00m(key) \u001b[38;5;28;01mfrom\u001b[39;00m \u001b[38;5;21;01merr\u001b[39;00m\n\u001b[1;32m   3806\u001b[0m \u001b[38;5;28;01mexcept\u001b[39;00m \u001b[38;5;167;01mTypeError\u001b[39;00m:\n\u001b[1;32m   3807\u001b[0m     \u001b[38;5;66;03m# If we have a listlike key, _check_indexing_error will raise\u001b[39;00m\n\u001b[1;32m   3808\u001b[0m     \u001b[38;5;66;03m#  InvalidIndexError. Otherwise we fall through and re-raise\u001b[39;00m\n\u001b[1;32m   3809\u001b[0m     \u001b[38;5;66;03m#  the TypeError.\u001b[39;00m\n\u001b[1;32m   3810\u001b[0m     \u001b[38;5;28mself\u001b[39m\u001b[38;5;241m.\u001b[39m_check_indexing_error(key)\n",
      "\u001b[0;31mKeyError\u001b[0m: 1"
     ]
    }
   ],
   "source": [
    "# we first want to only scrape the wine from vivino - the whisky will be scraped separately\n",
    "import pandas as pd \n",
    "df_wine_diplo=pd.read_csv('wine_14_01_25.csv')\n",
    "#keep only the rows where [2] does not contain whisky\n",
    "\n",
    "df_wine_diplo_vivino=df_wine_diplo[~df_wine_diplo['country'].str.contains('whisky', case=False, na=False)]\n",
    "\n"
   ]
  },
  {
   "cell_type": "code",
   "execution_count": 17,
   "id": "1d675b80",
   "metadata": {},
   "outputs": [],
   "source": [
    "# Code to send a wine name to Vivino and scrape the first result\n",
    "\n",
    "\n",
    "vivino_url_wine=[]\n",
    "vivino_rating_wine=[]\n",
    "vivino_name_wine=[]\n",
    "vivino_price_wine=[]\n",
    "vivino_country_wine=[]\n",
    "vivino_region_wine=[]\n",
    "vivino_nb_ratings_wine=[]\n",
    "\n",
    "list_wine_search=df_wine_diplo_vivino['1']\n",
    "\n",
    "# open browser\n",
    "#browser = webdriver.Chrome(ChromeDriverManager().install())\n",
    "browser=webdriver.Chrome(executable_path='/Users/hugoruizverastegui/Downloads/chromedriver-131')\n",
    "browser.get('https://www.vivino.com/FR/en/')\n",
    "#for each wine name in the list \n",
    "for search_txt in list_wine_search:\n",
    "    # write the wine name\n",
    "    #browser.get('https://www.vivino.com/FR/en/')  \n",
    "    time.sleep(1)\n",
    "    try:\n",
    "        # find the input bar\n",
    "        element=browser.find_element_by_class_name(\"searchBar_searchInput__Jje-K\")\n",
    "        element.clear()\n",
    "        element.send_keys(search_txt)\n",
    "        element.send_keys(Keys.RETURN)\n",
    "\n",
    "        # get the first result\n",
    "        time.sleep(2)\n",
    "\n",
    "        htmlsource = browser.page_source\n",
    "        rating_regexp=\"\\\"ratingValue\\\":(.*?),\"\n",
    "        url_regexp='\\\"Product\\\",\\\"\\@id\\\":\\\"(.*?)\\\",'\n",
    "        name_regexp=\"description\\\":\\\"Check out this (.*?) on Vivino\" \n",
    "        price_regexp=\"class=\\\"wine-price-value\\\">(.*?)</span>\"\n",
    "        region_regexp=\"wine-regions\\/(.*?)\\\"\"\n",
    "        country_regexp=\"wine-countries\\/(.*?)\\\"\"\n",
    "        nb_ratings_regexp=\"(\\d+) ratings\"\n",
    "\n",
    "        time.sleep(1)\n",
    "\n",
    "        if len(re.findall(url_regexp, htmlsource))==0:\n",
    "            vivino_url_wine_inter=['-']\n",
    "        else:\n",
    "            vivino_url_wine_inter=[re.findall(url_regexp, htmlsource)[0]]\n",
    "        \n",
    "        if len(re.findall(rating_regexp, htmlsource))==0:\n",
    "            vivino_rating_wine_inter= ['-']\n",
    "        else:\n",
    "            vivino_rating_wine_inter= [re.findall(rating_regexp, htmlsource)[0]]\n",
    "        \n",
    "        if len(re.findall(price_regexp, htmlsource))==0:\n",
    "            vivino_price_wine_inter= ['-']\n",
    "        else:\n",
    "            vivino_price_wine_inter= [re.findall(price_regexp, htmlsource)[0]]\n",
    "               \n",
    "        if len(re.findall(name_regexp, htmlsource))==0:\n",
    "            vivino_name_wine_inter= ['-']\n",
    "        else:\n",
    "            vivino_name_wine_inter= [re.findall(name_regexp, htmlsource)[0]]\n",
    "            \n",
    "        if len(re.findall(country_regexp, htmlsource))==0:\n",
    "            vivino_country_wine_inter= ['-']\n",
    "        else:\n",
    "            vivino_country_wine_inter= [re.findall(country_regexp, htmlsource)[0]]\n",
    "        \n",
    "        \n",
    "        if len(re.findall(region_regexp, htmlsource))==0:\n",
    "            vivino_region_wine_inter= ['-']\n",
    "        else:\n",
    "            vivino_region_wine_inter= [re.findall(region_regexp, htmlsource)[0]]\n",
    "        \n",
    "        if len(re.findall(nb_ratings_regexp, htmlsource))==0:\n",
    "            vivino_nb_ratings_wine_inter= ['-']\n",
    "        else:\n",
    "            vivino_nb_ratings_wine_inter= [re.findall(nb_ratings_regexp, htmlsource)[0]]\n",
    "        \n",
    "\n",
    "        vivino_url_wine=vivino_url_wine+vivino_url_wine_inter\n",
    "        vivino_rating_wine=vivino_rating_wine+vivino_rating_wine_inter\n",
    "        vivino_name_wine=vivino_name_wine+vivino_name_wine_inter\n",
    "        vivino_price_wine=vivino_price_wine+vivino_price_wine_inter\n",
    "        vivino_country_wine=vivino_country_wine+vivino_country_wine_inter\n",
    "        vivino_region_wine=vivino_region_wine+vivino_region_wine_inter\n",
    "        vivino_nb_ratings_wine=vivino_nb_ratings_wine+vivino_nb_ratings_wine_inter\n",
    "        \n",
    "        time.sleep(1)\n",
    "\n",
    "    except:\n",
    "        # so the same thing but regenerate the browser and wait 60s\n",
    "        print('blocked - waiting 60')\n",
    "        browser.close()\n",
    "        time.sleep(60)\n",
    "        \n",
    "        #browser = webdriver.Chrome(ChromeDriverManager().install())\n",
    "        browser=webdriver.Chrome(executable_path='/Users/hugoruizverastegui/Downloads/chromedriver-131')\n",
    "        browser.get('https://www.vivino.com/FR/en/')\n",
    "        \n",
    "        element=browser.find_element_by_class_name(\"searchBar_searchInput__Jje-K\")\n",
    "        element.clear()\n",
    "        element.send_keys(search_txt)\n",
    "        element.send_keys(Keys.RETURN)\n",
    "\n",
    "        # get the first result\n",
    "        time.sleep(2)\n",
    "\n",
    "        htmlsource = browser.page_source\n",
    "        rating_regexp=\"\\\"ratingValue\\\":(.*?),\"\n",
    "        url_regexp='\\\"Product\\\",\\\"\\@id\\\":\\\"(.*?)\\\",'\n",
    "        name_regexp=\"description\\\":\\\"Check out this (.*?) on Vivino\" \n",
    "        price_regexp=\"class=\\\"wine-price-value\\\">(.*?)<\\/span>\"\n",
    "        region_regexp=\"wine-regions\\/(.*?)\\\"\"\n",
    "        country_regexp=\"wine-countries\\/(.*?)\\\"\"\n",
    "        nb_ratings_regexp=\"(\\d+) ratings\"\n",
    "\n",
    "        time.sleep(1)\n",
    "\n",
    "        if len(re.findall(url_regexp, htmlsource))==0:\n",
    "            vivino_url_wine_inter=['-']\n",
    "        else:\n",
    "            vivino_url_wine_inter=[re.findall(url_regexp, htmlsource)[0]]\n",
    "        \n",
    "        if len(re.findall(rating_regexp, htmlsource))==0:\n",
    "            vivino_rating_wine_inter= ['-']\n",
    "        else:\n",
    "            vivino_rating_wine_inter= [re.findall(rating_regexp, htmlsource)[0]]\n",
    "        \n",
    "        if len(re.findall(price_regexp, htmlsource))==0:\n",
    "            vivino_price_wine_inter= ['-']\n",
    "        else:\n",
    "            vivino_price_wine_inter= [re.findall(price_regexp, htmlsource)[0]]\n",
    "               \n",
    "        if len(re.findall(name_regexp, htmlsource))==0:\n",
    "            vivino_name_wine_inter= ['-']\n",
    "        else:\n",
    "            vivino_name_wine_inter= [re.findall(name_regexp, htmlsource)[0]]\n",
    "            \n",
    "        if len(re.findall(country_regexp, htmlsource))==0:\n",
    "            vivino_country_wine_inter= ['-']\n",
    "        else:\n",
    "            vivino_country_wine_inter= [re.findall(country_regexp, htmlsource)[0]]\n",
    "        \n",
    "        \n",
    "        if len(re.findall(region_regexp, htmlsource))==0:\n",
    "            vivino_region_wine_inter= ['-']\n",
    "        else:\n",
    "            vivino_region_wine_inter= [re.findall(region_regexp, htmlsource)[0]]\n",
    "        \n",
    "        if len(re.findall(nb_ratings_regexp, htmlsource))==0:\n",
    "            vivino_nb_ratings_wine_inter= ['-']\n",
    "        else:\n",
    "            vivino_nb_ratings_wine_inter= [re.findall(nb_ratings_regexp, htmlsource)[0]]\n",
    "        \n",
    "\n",
    "        vivino_url_wine=vivino_url_wine+vivino_url_wine_inter\n",
    "        vivino_rating_wine=vivino_rating_wine+vivino_rating_wine_inter\n",
    "        vivino_name_wine=vivino_name_wine+vivino_name_wine_inter\n",
    "        vivino_price_wine=vivino_price_wine+vivino_price_wine_inter\n",
    "        vivino_country_wine=vivino_country_wine+vivino_country_wine_inter\n",
    "        vivino_region_wine=vivino_region_wine+vivino_region_wine_inter\n",
    "        vivino_nb_ratings_wine=vivino_nb_ratings_wine+vivino_nb_ratings_wine_inter\n",
    "        \n",
    "    "
   ]
  },
  {
   "cell_type": "code",
   "execution_count": 18,
   "id": "dc552e75",
   "metadata": {},
   "outputs": [
    {
     "data": {
      "text/plain": [
       "767"
      ]
     },
     "execution_count": 18,
     "metadata": {},
     "output_type": "execute_result"
    }
   ],
   "source": [
    "already_scrapped_len=len(vivino_name_wine)\n",
    "already_scrapped_len"
   ]
  },
  {
   "cell_type": "code",
   "execution_count": 19,
   "id": "483c9785",
   "metadata": {},
   "outputs": [
    {
     "data": {
      "text/plain": [
       "Series([], Name: 1, dtype: object)"
      ]
     },
     "execution_count": 19,
     "metadata": {},
     "output_type": "execute_result"
    }
   ],
   "source": [
    "\n",
    "\n",
    "remaining_list_wine=list_wine_search[already_scrapped_len:]\n",
    "remaining_list_wine"
   ]
  },
  {
   "cell_type": "markdown",
   "id": "ad3f0878",
   "metadata": {},
   "source": [
    "# Step 2 - redo for wines that did not get scrapped\n"
   ]
  },
  {
   "cell_type": "code",
   "execution_count": 39,
   "id": "9cfe9106",
   "metadata": {},
   "outputs": [],
   "source": [
    "browser=webdriver.Chrome(executable_path='/Users/hugoruizverastegui/Downloads/chromedriver-121')\n",
    "browser.get('https://www.vivino.com/FR/en/')\n",
    "#for each wine name in the list \n",
    "for search_txt in remaining_list_wine:\n",
    "    # write the wine name\n",
    "    #browser.get('https://www.vivino.com/FR/en/')  \n",
    "    time.sleep(1)\n",
    "    try:\n",
    "        # find the input bar\n",
    "        element=browser.find_element_by_class_name(\"searchBar_searchInput__Jje-K\")\n",
    "        element.clear()\n",
    "        element.send_keys(search_txt)\n",
    "        element.send_keys(Keys.RETURN)\n",
    "\n",
    "        # get the first result\n",
    "        time.sleep(2)\n",
    "\n",
    "        htmlsource = browser.page_source\n",
    "        rating_regexp=\"\\\"ratingValue\\\":(.*?),\"\n",
    "        url_regexp='\\\"Product\\\",\\\"\\@id\\\":\\\"(.*?)\\\",'\n",
    "        name_regexp=\"description\\\":\\\"Check out this (.*?) on Vivino\" \n",
    "        price_regexp=\"class=\\\"wine-price-value\\\">(.*?)</span>\"\n",
    "        region_regexp=\"wine-regions\\/(.*?)\\\"\"\n",
    "        country_regexp=\"wine-countries\\/(.*?)\\\"\"\n",
    "        nb_ratings_regexp=\"(\\d+) ratings\"\n",
    "\n",
    "        time.sleep(1)\n",
    "\n",
    "        if len(re.findall(url_regexp, htmlsource))==0:\n",
    "            vivino_url_wine_inter=['-']\n",
    "        else:\n",
    "            vivino_url_wine_inter=[re.findall(url_regexp, htmlsource)[0]]\n",
    "        \n",
    "        if len(re.findall(rating_regexp, htmlsource))==0:\n",
    "            vivino_rating_wine_inter= ['-']\n",
    "        else:\n",
    "            vivino_rating_wine_inter= [re.findall(rating_regexp, htmlsource)[0]]\n",
    "        \n",
    "        if len(re.findall(price_regexp, htmlsource))==0:\n",
    "            vivino_price_wine_inter= ['-']\n",
    "        else:\n",
    "            vivino_price_wine_inter= [re.findall(price_regexp, htmlsource)[0]]\n",
    "               \n",
    "        if len(re.findall(name_regexp, htmlsource))==0:\n",
    "            vivino_name_wine_inter= ['-']\n",
    "        else:\n",
    "            vivino_name_wine_inter= [re.findall(name_regexp, htmlsource)[0]]\n",
    "            \n",
    "        if len(re.findall(country_regexp, htmlsource))==0:\n",
    "            vivino_country_wine_inter= ['-']\n",
    "        else:\n",
    "            vivino_country_wine_inter= [re.findall(country_regexp, htmlsource)[0]]\n",
    "        \n",
    "        \n",
    "        if len(re.findall(region_regexp, htmlsource))==0:\n",
    "            vivino_region_wine_inter= ['-']\n",
    "        else:\n",
    "            vivino_region_wine_inter= [re.findall(region_regexp, htmlsource)[0]]\n",
    "        \n",
    "        if len(re.findall(nb_ratings_regexp, htmlsource))==0:\n",
    "            vivino_nb_ratings_wine_inter= ['-']\n",
    "        else:\n",
    "            vivino_nb_ratings_wine_inter= [re.findall(nb_ratings_regexp, htmlsource)[0]]\n",
    "        \n",
    "\n",
    "        vivino_url_wine=vivino_url_wine+vivino_url_wine_inter\n",
    "        vivino_rating_wine=vivino_rating_wine+vivino_rating_wine_inter\n",
    "        vivino_name_wine=vivino_name_wine+vivino_name_wine_inter\n",
    "        vivino_price_wine=vivino_price_wine+vivino_price_wine_inter\n",
    "        vivino_country_wine=vivino_country_wine+vivino_country_wine_inter\n",
    "        vivino_region_wine=vivino_region_wine+vivino_region_wine_inter\n",
    "        vivino_nb_ratings_wine=vivino_nb_ratings_wine+vivino_nb_ratings_wine_inter\n",
    "        \n",
    "        time.sleep(1)\n",
    "\n",
    "    except:\n",
    "        # so the same thing but regenerate the browser and wait 60s\n",
    "        print('blocked - waiting 60')\n",
    "        browser.close()\n",
    "        time.sleep(60)\n",
    "        \n",
    "        #browser = webdriver.Chrome(ChromeDriverManager().install())\n",
    "        browser=webdriver.Chrome(executable_path='/Users/hugoruizverastegui/Downloads/chromedriver-121')\n",
    "        browser.get('https://www.vivino.com/FR/en/')\n",
    "        \n",
    "        element=browser.find_element_by_class_name(\"searchBar_searchInput__Jje-K\")\n",
    "        element.clear()\n",
    "        element.send_keys(search_txt)\n",
    "        element.send_keys(Keys.RETURN)\n",
    "\n",
    "        # get the first result\n",
    "        time.sleep(2)\n",
    "\n",
    "        htmlsource = browser.page_source\n",
    "        rating_regexp=\"\\\"ratingValue\\\":(.*?),\"\n",
    "        url_regexp='\\\"Product\\\",\\\"\\@id\\\":\\\"(.*?)\\\",'\n",
    "        name_regexp=\"description\\\":\\\"Check out this (.*?) on Vivino\" \n",
    "        price_regexp=\"class=\\\"wine-price-value\\\">(.*?)<\\/span>\"\n",
    "        region_regexp=\"wine-regions\\/(.*?)\\\"\"\n",
    "        country_regexp=\"wine-countries\\/(.*?)\\\"\"\n",
    "        nb_ratings_regexp=\"(\\d+) ratings\"\n",
    "\n",
    "        time.sleep(1)\n",
    "\n",
    "        if len(re.findall(url_regexp, htmlsource))==0:\n",
    "            vivino_url_wine_inter=['-']\n",
    "        else:\n",
    "            vivino_url_wine_inter=[re.findall(url_regexp, htmlsource)[0]]\n",
    "        \n",
    "        if len(re.findall(rating_regexp, htmlsource))==0:\n",
    "            vivino_rating_wine_inter= ['-']\n",
    "        else:\n",
    "            vivino_rating_wine_inter= [re.findall(rating_regexp, htmlsource)[0]]\n",
    "        \n",
    "        if len(re.findall(price_regexp, htmlsource))==0:\n",
    "            vivino_price_wine_inter= ['-']\n",
    "        else:\n",
    "            vivino_price_wine_inter= [re.findall(price_regexp, htmlsource)[0]]\n",
    "               \n",
    "        if len(re.findall(name_regexp, htmlsource))==0:\n",
    "            vivino_name_wine_inter= ['-']\n",
    "        else:\n",
    "            vivino_name_wine_inter= [re.findall(name_regexp, htmlsource)[0]]\n",
    "            \n",
    "        if len(re.findall(country_regexp, htmlsource))==0:\n",
    "            vivino_country_wine_inter= ['-']\n",
    "        else:\n",
    "            vivino_country_wine_inter= [re.findall(country_regexp, htmlsource)[0]]\n",
    "        \n",
    "        \n",
    "        if len(re.findall(region_regexp, htmlsource))==0:\n",
    "            vivino_region_wine_inter= ['-']\n",
    "        else:\n",
    "            vivino_region_wine_inter= [re.findall(region_regexp, htmlsource)[0]]\n",
    "        \n",
    "        if len(re.findall(nb_ratings_regexp, htmlsource))==0:\n",
    "            vivino_nb_ratings_wine_inter= ['-']\n",
    "        else:\n",
    "            vivino_nb_ratings_wine_inter= [re.findall(nb_ratings_regexp, htmlsource)[0]]\n",
    "        \n",
    "\n",
    "        vivino_url_wine=vivino_url_wine+vivino_url_wine_inter\n",
    "        vivino_rating_wine=vivino_rating_wine+vivino_rating_wine_inter\n",
    "        vivino_name_wine=vivino_name_wine+vivino_name_wine_inter\n",
    "        vivino_price_wine=vivino_price_wine+vivino_price_wine_inter\n",
    "        vivino_country_wine=vivino_country_wine+vivino_country_wine_inter\n",
    "        vivino_region_wine=vivino_region_wine+vivino_region_wine_inter\n",
    "        vivino_nb_ratings_wine=vivino_nb_ratings_wine+vivino_nb_ratings_wine_inter\n",
    "        "
   ]
  },
  {
   "cell_type": "code",
   "execution_count": 20,
   "id": "af7dc6e9",
   "metadata": {},
   "outputs": [
    {
     "data": {
      "text/plain": [
       "767"
      ]
     },
     "execution_count": 20,
     "metadata": {},
     "output_type": "execute_result"
    }
   ],
   "source": [
    "len(vivino_url_wine)"
   ]
  },
  {
   "cell_type": "code",
   "execution_count": 21,
   "id": "967cb2c3",
   "metadata": {},
   "outputs": [
    {
     "name": "stderr",
     "output_type": "stream",
     "text": [
      "/var/folders/9z/sjrbpv9j1996t3_4wv3ry65c0000gn/T/ipykernel_20101/2867374674.py:1: SettingWithCopyWarning: \n",
      "A value is trying to be set on a copy of a slice from a DataFrame.\n",
      "Try using .loc[row_indexer,col_indexer] = value instead\n",
      "\n",
      "See the caveats in the documentation: https://pandas.pydata.org/pandas-docs/stable/user_guide/indexing.html#returning-a-view-versus-a-copy\n",
      "  df_wine_diplo_vivino['vivino_url']=vivino_url_wine\n",
      "/var/folders/9z/sjrbpv9j1996t3_4wv3ry65c0000gn/T/ipykernel_20101/2867374674.py:2: SettingWithCopyWarning: \n",
      "A value is trying to be set on a copy of a slice from a DataFrame.\n",
      "Try using .loc[row_indexer,col_indexer] = value instead\n",
      "\n",
      "See the caveats in the documentation: https://pandas.pydata.org/pandas-docs/stable/user_guide/indexing.html#returning-a-view-versus-a-copy\n",
      "  df_wine_diplo_vivino['vivino_rating']=vivino_rating_wine\n",
      "/var/folders/9z/sjrbpv9j1996t3_4wv3ry65c0000gn/T/ipykernel_20101/2867374674.py:3: SettingWithCopyWarning: \n",
      "A value is trying to be set on a copy of a slice from a DataFrame.\n",
      "Try using .loc[row_indexer,col_indexer] = value instead\n",
      "\n",
      "See the caveats in the documentation: https://pandas.pydata.org/pandas-docs/stable/user_guide/indexing.html#returning-a-view-versus-a-copy\n",
      "  df_wine_diplo_vivino['vivino_name']=vivino_name_wine\n",
      "/var/folders/9z/sjrbpv9j1996t3_4wv3ry65c0000gn/T/ipykernel_20101/2867374674.py:4: SettingWithCopyWarning: \n",
      "A value is trying to be set on a copy of a slice from a DataFrame.\n",
      "Try using .loc[row_indexer,col_indexer] = value instead\n",
      "\n",
      "See the caveats in the documentation: https://pandas.pydata.org/pandas-docs/stable/user_guide/indexing.html#returning-a-view-versus-a-copy\n",
      "  df_wine_diplo_vivino['vivino_price']=vivino_price_wine\n",
      "/var/folders/9z/sjrbpv9j1996t3_4wv3ry65c0000gn/T/ipykernel_20101/2867374674.py:5: SettingWithCopyWarning: \n",
      "A value is trying to be set on a copy of a slice from a DataFrame.\n",
      "Try using .loc[row_indexer,col_indexer] = value instead\n",
      "\n",
      "See the caveats in the documentation: https://pandas.pydata.org/pandas-docs/stable/user_guide/indexing.html#returning-a-view-versus-a-copy\n",
      "  df_wine_diplo_vivino['vivino_country']=vivino_country_wine\n",
      "/var/folders/9z/sjrbpv9j1996t3_4wv3ry65c0000gn/T/ipykernel_20101/2867374674.py:6: SettingWithCopyWarning: \n",
      "A value is trying to be set on a copy of a slice from a DataFrame.\n",
      "Try using .loc[row_indexer,col_indexer] = value instead\n",
      "\n",
      "See the caveats in the documentation: https://pandas.pydata.org/pandas-docs/stable/user_guide/indexing.html#returning-a-view-versus-a-copy\n",
      "  df_wine_diplo_vivino['vivino_region']=vivino_region_wine\n",
      "/var/folders/9z/sjrbpv9j1996t3_4wv3ry65c0000gn/T/ipykernel_20101/2867374674.py:7: SettingWithCopyWarning: \n",
      "A value is trying to be set on a copy of a slice from a DataFrame.\n",
      "Try using .loc[row_indexer,col_indexer] = value instead\n",
      "\n",
      "See the caveats in the documentation: https://pandas.pydata.org/pandas-docs/stable/user_guide/indexing.html#returning-a-view-versus-a-copy\n",
      "  df_wine_diplo_vivino['nb_ratings']=vivino_nb_ratings_wine\n"
     ]
    }
   ],
   "source": [
    "df_wine_diplo_vivino['vivino_url']=vivino_url_wine\n",
    "df_wine_diplo_vivino['vivino_rating']=vivino_rating_wine\n",
    "df_wine_diplo_vivino['vivino_name']=vivino_name_wine\n",
    "df_wine_diplo_vivino['vivino_price']=vivino_price_wine\n",
    "df_wine_diplo_vivino['vivino_country']=vivino_country_wine\n",
    "df_wine_diplo_vivino['vivino_region']=vivino_region_wine\n",
    "df_wine_diplo_vivino['nb_ratings']=vivino_nb_ratings_wine"
   ]
  },
  {
   "cell_type": "code",
   "execution_count": 22,
   "id": "986be18c",
   "metadata": {},
   "outputs": [
    {
     "data": {
      "text/html": [
       "<div>\n",
       "<style scoped>\n",
       "    .dataframe tbody tr th:only-of-type {\n",
       "        vertical-align: middle;\n",
       "    }\n",
       "\n",
       "    .dataframe tbody tr th {\n",
       "        vertical-align: top;\n",
       "    }\n",
       "\n",
       "    .dataframe thead th {\n",
       "        text-align: right;\n",
       "    }\n",
       "</style>\n",
       "<table border=\"1\" class=\"dataframe\">\n",
       "  <thead>\n",
       "    <tr style=\"text-align: right;\">\n",
       "      <th></th>\n",
       "      <th>Unnamed: 0</th>\n",
       "      <th>0</th>\n",
       "      <th>1</th>\n",
       "      <th>2</th>\n",
       "      <th>country</th>\n",
       "      <th>vivino_url</th>\n",
       "      <th>vivino_rating</th>\n",
       "      <th>vivino_name</th>\n",
       "      <th>vivino_price</th>\n",
       "      <th>vivino_country</th>\n",
       "      <th>vivino_region</th>\n",
       "      <th>nb_ratings</th>\n",
       "    </tr>\n",
       "  </thead>\n",
       "  <tbody>\n",
       "    <tr>\n",
       "      <th>0</th>\n",
       "      <td>0</td>\n",
       "      <td>39.99</td>\n",
       "      <td>Nicolas Feuillatte Brut with Gift Box</td>\n",
       "      <td>https://www.i-d-s.com/dubai/nicolas-feuillatte...</td>\n",
       "      <td>france</td>\n",
       "      <td>https://www.vivino.com/FR/en/wines/157213587</td>\n",
       "      <td>3.9</td>\n",
       "      <td>Nicolas Feuillatte Réserve Exclusive Brut Cham...</td>\n",
       "      <td>—</td>\n",
       "      <td>france</td>\n",
       "      <td>champagne-grand-cru-chouilly</td>\n",
       "      <td>26179</td>\n",
       "    </tr>\n",
       "    <tr>\n",
       "      <th>1</th>\n",
       "      <td>1</td>\n",
       "      <td>37.00</td>\n",
       "      <td>Chateau Fleur de Pedesclaux</td>\n",
       "      <td>https://www.i-d-s.com/dubai/chateau-fleur-de-p...</td>\n",
       "      <td>france</td>\n",
       "      <td>https://www.vivino.com/FR/en/wines/1931635</td>\n",
       "      <td>4.0</td>\n",
       "      <td>Château Pédesclaux Fleur de Pédesclaux Pauillac 0</td>\n",
       "      <td>—</td>\n",
       "      <td>france</td>\n",
       "      <td>pauillac</td>\n",
       "      <td>7166</td>\n",
       "    </tr>\n",
       "    <tr>\n",
       "      <th>2</th>\n",
       "      <td>2</td>\n",
       "      <td>34.30</td>\n",
       "      <td>Domaine Cailbourdin Pouilly Fume ‘Les Racines’</td>\n",
       "      <td>https://www.i-d-s.com/dubai/domaine-cailbourdi...</td>\n",
       "      <td>france</td>\n",
       "      <td>https://www.vivino.com/FR/en/wines/173651106</td>\n",
       "      <td>4.0</td>\n",
       "      <td>Domaine A Cailbourdin Pouilly Fume Les Racines 0</td>\n",
       "      <td>—</td>\n",
       "      <td>france</td>\n",
       "      <td>pouilly-fume</td>\n",
       "      <td>223</td>\n",
       "    </tr>\n",
       "    <tr>\n",
       "      <th>3</th>\n",
       "      <td>3</td>\n",
       "      <td>111.70</td>\n",
       "      <td>2018 Chateau Croix Mouton</td>\n",
       "      <td>https://www.i-d-s.com/dubai/2018-chateau-croix...</td>\n",
       "      <td>france</td>\n",
       "      <td>https://www.vivino.com/FR/en/wines/4733991</td>\n",
       "      <td>3.6</td>\n",
       "      <td>Château Croix Mouton Bordeaux Supérieur 0</td>\n",
       "      <td>—</td>\n",
       "      <td>france</td>\n",
       "      <td>bordeaux-superieur</td>\n",
       "      <td>10451</td>\n",
       "    </tr>\n",
       "    <tr>\n",
       "      <th>4</th>\n",
       "      <td>4</td>\n",
       "      <td>1,487.50</td>\n",
       "      <td>2010 Château Beychevelle, 4ème Cru Classé, Sai...</td>\n",
       "      <td>https://www.i-d-s.com/dubai/2010-ch-teau-beych...</td>\n",
       "      <td>france</td>\n",
       "      <td>https://www.vivino.com/FR/en/wines/2048358</td>\n",
       "      <td>4.3</td>\n",
       "      <td>Château Beychevelle Saint-Julien (Grand Cru Cl...</td>\n",
       "      <td>—</td>\n",
       "      <td>france</td>\n",
       "      <td>saint-julien</td>\n",
       "      <td>29432</td>\n",
       "    </tr>\n",
       "    <tr>\n",
       "      <th>...</th>\n",
       "      <td>...</td>\n",
       "      <td>...</td>\n",
       "      <td>...</td>\n",
       "      <td>...</td>\n",
       "      <td>...</td>\n",
       "      <td>...</td>\n",
       "      <td>...</td>\n",
       "      <td>...</td>\n",
       "      <td>...</td>\n",
       "      <td>...</td>\n",
       "      <td>...</td>\n",
       "      <td>...</td>\n",
       "    </tr>\n",
       "    <tr>\n",
       "      <th>762</th>\n",
       "      <td>4</td>\n",
       "      <td>29.10</td>\n",
       "      <td>Grace Koshu Kayagatake, Grace Winery, Yamanashi</td>\n",
       "      <td>https://www.i-d-s.com/dubai/grace-koshu-kayaga...</td>\n",
       "      <td>rest-of-the-world</td>\n",
       "      <td>https://www.vivino.com/FR/en/wines/3542812</td>\n",
       "      <td>3.6</td>\n",
       "      <td>Grace Gris de Koshu 0</td>\n",
       "      <td>—</td>\n",
       "      <td>japan</td>\n",
       "      <td>yamanashi-ken</td>\n",
       "      <td>2839</td>\n",
       "    </tr>\n",
       "    <tr>\n",
       "      <th>763</th>\n",
       "      <td>5</td>\n",
       "      <td>35.40</td>\n",
       "      <td>Grace Koshu Private Reserve, Grace Winery Grac...</td>\n",
       "      <td>https://www.i-d-s.com/dubai/grace-koshu-privat...</td>\n",
       "      <td>rest-of-the-world</td>\n",
       "      <td>https://www.vivino.com/FR/en/wines/4910969</td>\n",
       "      <td>3.7</td>\n",
       "      <td>Grace Toriibira Vineyard Koshu Private Reserve 0</td>\n",
       "      <td>—</td>\n",
       "      <td>japan</td>\n",
       "      <td>yamanashi-ken</td>\n",
       "      <td>874</td>\n",
       "    </tr>\n",
       "    <tr>\n",
       "      <th>764</th>\n",
       "      <td>6</td>\n",
       "      <td>34.90</td>\n",
       "      <td>Grace Koshu Hishiyama, Private Reserve, Grace ...</td>\n",
       "      <td>https://www.i-d-s.com/dubai/grace-koshu-hishiy...</td>\n",
       "      <td>rest-of-the-world</td>\n",
       "      <td>https://www.vivino.com/FR/en/wines/167488945</td>\n",
       "      <td>3.7</td>\n",
       "      <td>Grace Hishiyama Vineyard Private Reserve Koshu 0</td>\n",
       "      <td>39.00</td>\n",
       "      <td>japan</td>\n",
       "      <td>yamanashi-ken</td>\n",
       "      <td>60</td>\n",
       "    </tr>\n",
       "    <tr>\n",
       "      <th>765</th>\n",
       "      <td>7</td>\n",
       "      <td>9.00</td>\n",
       "      <td>Calusari Pinot Grigio</td>\n",
       "      <td>https://www.i-d-s.com/dubai/calusari-pinot-gri...</td>\n",
       "      <td>rest-of-the-world</td>\n",
       "      <td>https://www.vivino.com/FR/en/wines/3130030</td>\n",
       "      <td>3.7</td>\n",
       "      <td>Călușari Pinot Grigio 0</td>\n",
       "      <td>—</td>\n",
       "      <td>romania</td>\n",
       "      <td>recas</td>\n",
       "      <td>2295</td>\n",
       "    </tr>\n",
       "    <tr>\n",
       "      <th>766</th>\n",
       "      <td>8</td>\n",
       "      <td>9.00</td>\n",
       "      <td>Calusari Pinot Noir</td>\n",
       "      <td>https://www.i-d-s.com/dubai/calusari-pinot-noi...</td>\n",
       "      <td>rest-of-the-world</td>\n",
       "      <td>https://www.vivino.com/FR/en/wines/1652687</td>\n",
       "      <td>3.6</td>\n",
       "      <td>Călușari Pinot Noir 0</td>\n",
       "      <td>—</td>\n",
       "      <td>romania</td>\n",
       "      <td>recas</td>\n",
       "      <td>3505</td>\n",
       "    </tr>\n",
       "  </tbody>\n",
       "</table>\n",
       "<p>767 rows × 12 columns</p>\n",
       "</div>"
      ],
      "text/plain": [
       "     Unnamed: 0         0                                                  1  \\\n",
       "0             0     39.99              Nicolas Feuillatte Brut with Gift Box   \n",
       "1             1     37.00                        Chateau Fleur de Pedesclaux   \n",
       "2             2     34.30     Domaine Cailbourdin Pouilly Fume ‘Les Racines’   \n",
       "3             3    111.70                          2018 Chateau Croix Mouton   \n",
       "4             4  1,487.50  2010 Château Beychevelle, 4ème Cru Classé, Sai...   \n",
       "..          ...       ...                                                ...   \n",
       "762           4     29.10    Grace Koshu Kayagatake, Grace Winery, Yamanashi   \n",
       "763           5     35.40  Grace Koshu Private Reserve, Grace Winery Grac...   \n",
       "764           6     34.90  Grace Koshu Hishiyama, Private Reserve, Grace ...   \n",
       "765           7      9.00                              Calusari Pinot Grigio   \n",
       "766           8      9.00                                Calusari Pinot Noir   \n",
       "\n",
       "                                                     2            country  \\\n",
       "0    https://www.i-d-s.com/dubai/nicolas-feuillatte...             france   \n",
       "1    https://www.i-d-s.com/dubai/chateau-fleur-de-p...             france   \n",
       "2    https://www.i-d-s.com/dubai/domaine-cailbourdi...             france   \n",
       "3    https://www.i-d-s.com/dubai/2018-chateau-croix...             france   \n",
       "4    https://www.i-d-s.com/dubai/2010-ch-teau-beych...             france   \n",
       "..                                                 ...                ...   \n",
       "762  https://www.i-d-s.com/dubai/grace-koshu-kayaga...  rest-of-the-world   \n",
       "763  https://www.i-d-s.com/dubai/grace-koshu-privat...  rest-of-the-world   \n",
       "764  https://www.i-d-s.com/dubai/grace-koshu-hishiy...  rest-of-the-world   \n",
       "765  https://www.i-d-s.com/dubai/calusari-pinot-gri...  rest-of-the-world   \n",
       "766  https://www.i-d-s.com/dubai/calusari-pinot-noi...  rest-of-the-world   \n",
       "\n",
       "                                       vivino_url vivino_rating  \\\n",
       "0    https://www.vivino.com/FR/en/wines/157213587           3.9   \n",
       "1      https://www.vivino.com/FR/en/wines/1931635           4.0   \n",
       "2    https://www.vivino.com/FR/en/wines/173651106           4.0   \n",
       "3      https://www.vivino.com/FR/en/wines/4733991           3.6   \n",
       "4      https://www.vivino.com/FR/en/wines/2048358           4.3   \n",
       "..                                            ...           ...   \n",
       "762    https://www.vivino.com/FR/en/wines/3542812           3.6   \n",
       "763    https://www.vivino.com/FR/en/wines/4910969           3.7   \n",
       "764  https://www.vivino.com/FR/en/wines/167488945           3.7   \n",
       "765    https://www.vivino.com/FR/en/wines/3130030           3.7   \n",
       "766    https://www.vivino.com/FR/en/wines/1652687           3.6   \n",
       "\n",
       "                                           vivino_name vivino_price  \\\n",
       "0    Nicolas Feuillatte Réserve Exclusive Brut Cham...            —   \n",
       "1    Château Pédesclaux Fleur de Pédesclaux Pauillac 0            —   \n",
       "2     Domaine A Cailbourdin Pouilly Fume Les Racines 0            —   \n",
       "3            Château Croix Mouton Bordeaux Supérieur 0            —   \n",
       "4    Château Beychevelle Saint-Julien (Grand Cru Cl...            —   \n",
       "..                                                 ...          ...   \n",
       "762                              Grace Gris de Koshu 0            —   \n",
       "763   Grace Toriibira Vineyard Koshu Private Reserve 0            —   \n",
       "764   Grace Hishiyama Vineyard Private Reserve Koshu 0        39.00   \n",
       "765                            Călușari Pinot Grigio 0            —   \n",
       "766                              Călușari Pinot Noir 0            —   \n",
       "\n",
       "    vivino_country                 vivino_region nb_ratings  \n",
       "0           france  champagne-grand-cru-chouilly      26179  \n",
       "1           france                      pauillac       7166  \n",
       "2           france                  pouilly-fume        223  \n",
       "3           france            bordeaux-superieur      10451  \n",
       "4           france                  saint-julien      29432  \n",
       "..             ...                           ...        ...  \n",
       "762          japan                 yamanashi-ken       2839  \n",
       "763          japan                 yamanashi-ken        874  \n",
       "764          japan                 yamanashi-ken         60  \n",
       "765        romania                         recas       2295  \n",
       "766        romania                         recas       3505  \n",
       "\n",
       "[767 rows x 12 columns]"
      ]
     },
     "execution_count": 22,
     "metadata": {},
     "output_type": "execute_result"
    }
   ],
   "source": [
    "df_wine_diplo_vivino"
   ]
  },
  {
   "cell_type": "code",
   "execution_count": 23,
   "id": "83856253",
   "metadata": {},
   "outputs": [],
   "source": [
    "#check name distance \n",
    "import fuzzywuzzy\n",
    "from fuzzywuzzy import fuzz\n",
    "\n",
    "def distance_name(name1, name2):\n",
    "    return fuzz.ratio(name1.lower(),name2.lower())"
   ]
  },
  {
   "cell_type": "code",
   "execution_count": 25,
   "id": "02d69393",
   "metadata": {
    "scrolled": true
   },
   "outputs": [
    {
     "name": "stderr",
     "output_type": "stream",
     "text": [
      "/var/folders/9z/sjrbpv9j1996t3_4wv3ry65c0000gn/T/ipykernel_20101/1393062776.py:1: SettingWithCopyWarning: \n",
      "A value is trying to be set on a copy of a slice from a DataFrame.\n",
      "Try using .loc[row_indexer,col_indexer] = value instead\n",
      "\n",
      "See the caveats in the documentation: https://pandas.pydata.org/pandas-docs/stable/user_guide/indexing.html#returning-a-view-versus-a-copy\n",
      "  df_wine_diplo_vivino['ratio']=df_wine_diplo_vivino.apply(lambda x: distance_name(x[1], x['vivino_name']), axis=1)\n"
     ]
    }
   ],
   "source": [
    "df_wine_diplo_vivino['ratio']=df_wine_diplo_vivino.apply(lambda x: distance_name(x[1], x['vivino_name']), axis=1)"
   ]
  },
  {
   "cell_type": "code",
   "execution_count": 26,
   "id": "830c46d5",
   "metadata": {},
   "outputs": [
    {
     "data": {
      "text/html": [
       "<div>\n",
       "<style scoped>\n",
       "    .dataframe tbody tr th:only-of-type {\n",
       "        vertical-align: middle;\n",
       "    }\n",
       "\n",
       "    .dataframe tbody tr th {\n",
       "        vertical-align: top;\n",
       "    }\n",
       "\n",
       "    .dataframe thead th {\n",
       "        text-align: right;\n",
       "    }\n",
       "</style>\n",
       "<table border=\"1\" class=\"dataframe\">\n",
       "  <thead>\n",
       "    <tr style=\"text-align: right;\">\n",
       "      <th></th>\n",
       "      <th>Unnamed: 0</th>\n",
       "      <th>0</th>\n",
       "      <th>1</th>\n",
       "      <th>2</th>\n",
       "      <th>country</th>\n",
       "      <th>vivino_url</th>\n",
       "      <th>vivino_rating</th>\n",
       "      <th>vivino_name</th>\n",
       "      <th>vivino_price</th>\n",
       "      <th>vivino_country</th>\n",
       "      <th>vivino_region</th>\n",
       "      <th>nb_ratings</th>\n",
       "      <th>ratio</th>\n",
       "    </tr>\n",
       "  </thead>\n",
       "  <tbody>\n",
       "    <tr>\n",
       "      <th>0</th>\n",
       "      <td>0</td>\n",
       "      <td>39.99</td>\n",
       "      <td>Nicolas Feuillatte Brut with Gift Box</td>\n",
       "      <td>https://www.i-d-s.com/dubai/nicolas-feuillatte...</td>\n",
       "      <td>france</td>\n",
       "      <td>https://www.vivino.com/FR/en/wines/157213587</td>\n",
       "      <td>3.9</td>\n",
       "      <td>Nicolas Feuillatte Réserve Exclusive Brut Cham...</td>\n",
       "      <td>—</td>\n",
       "      <td>france</td>\n",
       "      <td>champagne-grand-cru-chouilly</td>\n",
       "      <td>26179</td>\n",
       "      <td>0</td>\n",
       "    </tr>\n",
       "    <tr>\n",
       "      <th>1</th>\n",
       "      <td>1</td>\n",
       "      <td>37.00</td>\n",
       "      <td>Chateau Fleur de Pedesclaux</td>\n",
       "      <td>https://www.i-d-s.com/dubai/chateau-fleur-de-p...</td>\n",
       "      <td>france</td>\n",
       "      <td>https://www.vivino.com/FR/en/wines/1931635</td>\n",
       "      <td>4.0</td>\n",
       "      <td>Château Pédesclaux Fleur de Pédesclaux Pauillac 0</td>\n",
       "      <td>—</td>\n",
       "      <td>france</td>\n",
       "      <td>pauillac</td>\n",
       "      <td>7166</td>\n",
       "      <td>4</td>\n",
       "    </tr>\n",
       "    <tr>\n",
       "      <th>2</th>\n",
       "      <td>2</td>\n",
       "      <td>34.30</td>\n",
       "      <td>Domaine Cailbourdin Pouilly Fume ‘Les Racines’</td>\n",
       "      <td>https://www.i-d-s.com/dubai/domaine-cailbourdi...</td>\n",
       "      <td>france</td>\n",
       "      <td>https://www.vivino.com/FR/en/wines/173651106</td>\n",
       "      <td>4.0</td>\n",
       "      <td>Domaine A Cailbourdin Pouilly Fume Les Racines 0</td>\n",
       "      <td>—</td>\n",
       "      <td>france</td>\n",
       "      <td>pouilly-fume</td>\n",
       "      <td>223</td>\n",
       "      <td>4</td>\n",
       "    </tr>\n",
       "    <tr>\n",
       "      <th>3</th>\n",
       "      <td>3</td>\n",
       "      <td>111.70</td>\n",
       "      <td>2018 Chateau Croix Mouton</td>\n",
       "      <td>https://www.i-d-s.com/dubai/2018-chateau-croix...</td>\n",
       "      <td>france</td>\n",
       "      <td>https://www.vivino.com/FR/en/wines/4733991</td>\n",
       "      <td>3.6</td>\n",
       "      <td>Château Croix Mouton Bordeaux Supérieur 0</td>\n",
       "      <td>—</td>\n",
       "      <td>france</td>\n",
       "      <td>bordeaux-superieur</td>\n",
       "      <td>10451</td>\n",
       "      <td>4</td>\n",
       "    </tr>\n",
       "    <tr>\n",
       "      <th>4</th>\n",
       "      <td>4</td>\n",
       "      <td>1,487.50</td>\n",
       "      <td>2010 Château Beychevelle, 4ème Cru Classé, Sai...</td>\n",
       "      <td>https://www.i-d-s.com/dubai/2010-ch-teau-beych...</td>\n",
       "      <td>france</td>\n",
       "      <td>https://www.vivino.com/FR/en/wines/2048358</td>\n",
       "      <td>4.3</td>\n",
       "      <td>Château Beychevelle Saint-Julien (Grand Cru Cl...</td>\n",
       "      <td>—</td>\n",
       "      <td>france</td>\n",
       "      <td>saint-julien</td>\n",
       "      <td>29432</td>\n",
       "      <td>3</td>\n",
       "    </tr>\n",
       "    <tr>\n",
       "      <th>...</th>\n",
       "      <td>...</td>\n",
       "      <td>...</td>\n",
       "      <td>...</td>\n",
       "      <td>...</td>\n",
       "      <td>...</td>\n",
       "      <td>...</td>\n",
       "      <td>...</td>\n",
       "      <td>...</td>\n",
       "      <td>...</td>\n",
       "      <td>...</td>\n",
       "      <td>...</td>\n",
       "      <td>...</td>\n",
       "      <td>...</td>\n",
       "    </tr>\n",
       "    <tr>\n",
       "      <th>762</th>\n",
       "      <td>4</td>\n",
       "      <td>29.10</td>\n",
       "      <td>Grace Koshu Kayagatake, Grace Winery, Yamanashi</td>\n",
       "      <td>https://www.i-d-s.com/dubai/grace-koshu-kayaga...</td>\n",
       "      <td>rest-of-the-world</td>\n",
       "      <td>https://www.vivino.com/FR/en/wines/3542812</td>\n",
       "      <td>3.6</td>\n",
       "      <td>Grace Gris de Koshu 0</td>\n",
       "      <td>—</td>\n",
       "      <td>japan</td>\n",
       "      <td>yamanashi-ken</td>\n",
       "      <td>2839</td>\n",
       "      <td>8</td>\n",
       "    </tr>\n",
       "    <tr>\n",
       "      <th>763</th>\n",
       "      <td>5</td>\n",
       "      <td>35.40</td>\n",
       "      <td>Grace Koshu Private Reserve, Grace Winery Grac...</td>\n",
       "      <td>https://www.i-d-s.com/dubai/grace-koshu-privat...</td>\n",
       "      <td>rest-of-the-world</td>\n",
       "      <td>https://www.vivino.com/FR/en/wines/4910969</td>\n",
       "      <td>3.7</td>\n",
       "      <td>Grace Toriibira Vineyard Koshu Private Reserve 0</td>\n",
       "      <td>—</td>\n",
       "      <td>japan</td>\n",
       "      <td>yamanashi-ken</td>\n",
       "      <td>874</td>\n",
       "      <td>4</td>\n",
       "    </tr>\n",
       "    <tr>\n",
       "      <th>764</th>\n",
       "      <td>6</td>\n",
       "      <td>34.90</td>\n",
       "      <td>Grace Koshu Hishiyama, Private Reserve, Grace ...</td>\n",
       "      <td>https://www.i-d-s.com/dubai/grace-koshu-hishiy...</td>\n",
       "      <td>rest-of-the-world</td>\n",
       "      <td>https://www.vivino.com/FR/en/wines/167488945</td>\n",
       "      <td>3.7</td>\n",
       "      <td>Grace Hishiyama Vineyard Private Reserve Koshu 0</td>\n",
       "      <td>39.00</td>\n",
       "      <td>japan</td>\n",
       "      <td>yamanashi-ken</td>\n",
       "      <td>60</td>\n",
       "      <td>4</td>\n",
       "    </tr>\n",
       "    <tr>\n",
       "      <th>765</th>\n",
       "      <td>7</td>\n",
       "      <td>9.00</td>\n",
       "      <td>Calusari Pinot Grigio</td>\n",
       "      <td>https://www.i-d-s.com/dubai/calusari-pinot-gri...</td>\n",
       "      <td>rest-of-the-world</td>\n",
       "      <td>https://www.vivino.com/FR/en/wines/3130030</td>\n",
       "      <td>3.7</td>\n",
       "      <td>Călușari Pinot Grigio 0</td>\n",
       "      <td>—</td>\n",
       "      <td>romania</td>\n",
       "      <td>recas</td>\n",
       "      <td>2295</td>\n",
       "      <td>7</td>\n",
       "    </tr>\n",
       "    <tr>\n",
       "      <th>766</th>\n",
       "      <td>8</td>\n",
       "      <td>9.00</td>\n",
       "      <td>Calusari Pinot Noir</td>\n",
       "      <td>https://www.i-d-s.com/dubai/calusari-pinot-noi...</td>\n",
       "      <td>rest-of-the-world</td>\n",
       "      <td>https://www.vivino.com/FR/en/wines/1652687</td>\n",
       "      <td>3.6</td>\n",
       "      <td>Călușari Pinot Noir 0</td>\n",
       "      <td>—</td>\n",
       "      <td>romania</td>\n",
       "      <td>recas</td>\n",
       "      <td>3505</td>\n",
       "      <td>8</td>\n",
       "    </tr>\n",
       "  </tbody>\n",
       "</table>\n",
       "<p>767 rows × 13 columns</p>\n",
       "</div>"
      ],
      "text/plain": [
       "     Unnamed: 0         0                                                  1  \\\n",
       "0             0     39.99              Nicolas Feuillatte Brut with Gift Box   \n",
       "1             1     37.00                        Chateau Fleur de Pedesclaux   \n",
       "2             2     34.30     Domaine Cailbourdin Pouilly Fume ‘Les Racines’   \n",
       "3             3    111.70                          2018 Chateau Croix Mouton   \n",
       "4             4  1,487.50  2010 Château Beychevelle, 4ème Cru Classé, Sai...   \n",
       "..          ...       ...                                                ...   \n",
       "762           4     29.10    Grace Koshu Kayagatake, Grace Winery, Yamanashi   \n",
       "763           5     35.40  Grace Koshu Private Reserve, Grace Winery Grac...   \n",
       "764           6     34.90  Grace Koshu Hishiyama, Private Reserve, Grace ...   \n",
       "765           7      9.00                              Calusari Pinot Grigio   \n",
       "766           8      9.00                                Calusari Pinot Noir   \n",
       "\n",
       "                                                     2            country  \\\n",
       "0    https://www.i-d-s.com/dubai/nicolas-feuillatte...             france   \n",
       "1    https://www.i-d-s.com/dubai/chateau-fleur-de-p...             france   \n",
       "2    https://www.i-d-s.com/dubai/domaine-cailbourdi...             france   \n",
       "3    https://www.i-d-s.com/dubai/2018-chateau-croix...             france   \n",
       "4    https://www.i-d-s.com/dubai/2010-ch-teau-beych...             france   \n",
       "..                                                 ...                ...   \n",
       "762  https://www.i-d-s.com/dubai/grace-koshu-kayaga...  rest-of-the-world   \n",
       "763  https://www.i-d-s.com/dubai/grace-koshu-privat...  rest-of-the-world   \n",
       "764  https://www.i-d-s.com/dubai/grace-koshu-hishiy...  rest-of-the-world   \n",
       "765  https://www.i-d-s.com/dubai/calusari-pinot-gri...  rest-of-the-world   \n",
       "766  https://www.i-d-s.com/dubai/calusari-pinot-noi...  rest-of-the-world   \n",
       "\n",
       "                                       vivino_url vivino_rating  \\\n",
       "0    https://www.vivino.com/FR/en/wines/157213587           3.9   \n",
       "1      https://www.vivino.com/FR/en/wines/1931635           4.0   \n",
       "2    https://www.vivino.com/FR/en/wines/173651106           4.0   \n",
       "3      https://www.vivino.com/FR/en/wines/4733991           3.6   \n",
       "4      https://www.vivino.com/FR/en/wines/2048358           4.3   \n",
       "..                                            ...           ...   \n",
       "762    https://www.vivino.com/FR/en/wines/3542812           3.6   \n",
       "763    https://www.vivino.com/FR/en/wines/4910969           3.7   \n",
       "764  https://www.vivino.com/FR/en/wines/167488945           3.7   \n",
       "765    https://www.vivino.com/FR/en/wines/3130030           3.7   \n",
       "766    https://www.vivino.com/FR/en/wines/1652687           3.6   \n",
       "\n",
       "                                           vivino_name vivino_price  \\\n",
       "0    Nicolas Feuillatte Réserve Exclusive Brut Cham...            —   \n",
       "1    Château Pédesclaux Fleur de Pédesclaux Pauillac 0            —   \n",
       "2     Domaine A Cailbourdin Pouilly Fume Les Racines 0            —   \n",
       "3            Château Croix Mouton Bordeaux Supérieur 0            —   \n",
       "4    Château Beychevelle Saint-Julien (Grand Cru Cl...            —   \n",
       "..                                                 ...          ...   \n",
       "762                              Grace Gris de Koshu 0            —   \n",
       "763   Grace Toriibira Vineyard Koshu Private Reserve 0            —   \n",
       "764   Grace Hishiyama Vineyard Private Reserve Koshu 0        39.00   \n",
       "765                            Călușari Pinot Grigio 0            —   \n",
       "766                              Călușari Pinot Noir 0            —   \n",
       "\n",
       "    vivino_country                 vivino_region nb_ratings  ratio  \n",
       "0           france  champagne-grand-cru-chouilly      26179      0  \n",
       "1           france                      pauillac       7166      4  \n",
       "2           france                  pouilly-fume        223      4  \n",
       "3           france            bordeaux-superieur      10451      4  \n",
       "4           france                  saint-julien      29432      3  \n",
       "..             ...                           ...        ...    ...  \n",
       "762          japan                 yamanashi-ken       2839      8  \n",
       "763          japan                 yamanashi-ken        874      4  \n",
       "764          japan                 yamanashi-ken         60      4  \n",
       "765        romania                         recas       2295      7  \n",
       "766        romania                         recas       3505      8  \n",
       "\n",
       "[767 rows x 13 columns]"
      ]
     },
     "execution_count": 26,
     "metadata": {},
     "output_type": "execute_result"
    }
   ],
   "source": [
    "df_wine_diplo_vivino[df_wine_diplo_vivino['ratio']<=50]"
   ]
  },
  {
   "cell_type": "code",
   "execution_count": null,
   "id": "3a303877",
   "metadata": {},
   "outputs": [],
   "source": [
    "# for the wine with ratio <50 they are scrapped a second time"
   ]
  },
  {
   "cell_type": "code",
   "execution_count": 28,
   "id": "45f1529d",
   "metadata": {},
   "outputs": [],
   "source": [
    "df_wine_diplo_vivino.to_csv('wine_diplo_2025_14Jan.csv')"
   ]
  },
  {
   "cell_type": "code",
   "execution_count": null,
   "id": "cbeffa56",
   "metadata": {},
   "outputs": [],
   "source": []
  }
 ],
 "metadata": {
  "kernelspec": {
   "display_name": "Python 3",
   "language": "python",
   "name": "python3"
  },
  "language_info": {
   "codemirror_mode": {
    "name": "ipython",
    "version": 3
   },
   "file_extension": ".py",
   "mimetype": "text/x-python",
   "name": "python",
   "nbconvert_exporter": "python",
   "pygments_lexer": "ipython3",
   "version": "3.9.13"
  }
 },
 "nbformat": 4,
 "nbformat_minor": 5
}
