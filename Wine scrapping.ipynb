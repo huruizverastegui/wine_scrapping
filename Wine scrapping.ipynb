{
 "cells": [
  {
   "cell_type": "code",
   "execution_count": 1,
   "id": "acb5616a",
   "metadata": {},
   "outputs": [],
   "source": [
    "from bs4 import BeautifulSoup\n",
    "from selenium import webdriver\n",
    "import time\n",
    "import pandas\n",
    "import datetime\n",
    "from datetime import datetime\n",
    "import requests\n",
    "import re\n",
    "from selenium import webdriver\n",
    "from selenium.webdriver import ActionChains\n",
    "from webdriver_manager.chrome import ChromeDriverManager\n",
    "from selenium.webdriver.common.by import By\n",
    "from selenium.webdriver.common.keys import Keys\n"
   ]
  },
  {
   "cell_type": "code",
   "execution_count": 2,
   "id": "452a4e50",
   "metadata": {},
   "outputs": [],
   "source": [
    "browser = webdriver.Chrome(executable_path='/Users/hugoruizverastegui/Documents/perso github/chromedriver')"
   ]
  },
  {
   "cell_type": "code",
   "execution_count": 3,
   "id": "da03cde6",
   "metadata": {},
   "outputs": [],
   "source": [
    "# automated install\n",
    "#browser = webdriver.Chrome(ChromeDriverManager().install())"
   ]
  },
  {
   "cell_type": "code",
   "execution_count": 4,
   "id": "f23df964",
   "metadata": {},
   "outputs": [],
   "source": [
    "\n",
    "\n",
    "parameters= [\n",
    "{\n",
    "\"country\": \"TH\",   \n",
    "\"website\": \"OIS\",   \n",
    "\"url_scrap\": ((\"france\",\"https://www.i-d-s.com/dubai/wine/wines-by-country/france.html?p=\"),    \n",
    "(\"argentina\",\"https://www.i-d-s.com/dubai/wine/wines-by-country/argentina.html?p=\"),\n",
    "(\"australia\",\"https://www.i-d-s.com/dubai/wine/wines-by-country/australia.html?p=\"),\n",
    "(\"chile\",\"https://www.i-d-s.com/dubai/wine/wines-by-country/chile.html?p=\"),\n",
    "(\"new_zealand\",\"https://www.i-d-s.com/dubai/wine/wines-by-country/new-zealand.html?p=\"),\n",
    "(\"south_africa\",\"https://www.i-d-s.com/dubai/wine/wines-by-country/south-africa.html?p=\"),\n",
    "(\"uk\",\"https://www.i-d-s.com/dubai/wine/wines-by-country/united-kingdom.html?p=\"),\n",
    "(\"usa\",\"https://www.i-d-s.com/dubai/wine/wines-by-country/usa.html?p=\"),\n",
    "(\"germany\",\"https://www.i-d-s.com/dubai/wine/wines-by-country/germany.html?p=\"),\n",
    "(\"italy\",\"https://www.i-d-s.com/dubai/wine/wines-by-country/italy.html?p=\"),\n",
    "(\"spain\",\"https://www.i-d-s.com/dubai/wine/wines-by-country/spain.html?p=\"),\n",
    "(\"rest-of-the-world\",\"https://www.i-d-s.com/dubai/wine/wines-by-country/rest-of-the-world.html?p=\")\n",
    "),\n",
    "    \n",
    "    \n",
    "\"price_regex\":  \"finalPrice\\\" class=\\\"price-wrapper \\\"><span class=\\\"price\\\">.*?\\$(.*?)<\",    \n",
    "#\"price_regex\":  \"<span class=\\\"price\\\">\\$(.*?)<\",\n",
    "##\"data-price-amount=\\\"(.*?)\\\"\",\n",
    "\"name_regex\": \"class=\\\"product-item-link\\\" href=.*?>(.*?)<\",                \n",
    "\"url_regex\": \"product-item-link\\\" href=\\\"(.*?)\\\"\",\n",
    "\"brand_regex\": \"NA\", \n",
    "\"scrolling_type\" : \"no scroll\",\n",
    "\"pop_up_type\" : \"have pop up\", \n",
    "\"page_not_found_type\" : \"yes\",\n",
    "\"page_not_found_regex\":\"find products matching the selection\",\n",
    "\"format_change_type\" : \"yes\",\n",
    "\"multiple_pages\" : \"yes\",\n",
    "\"scrapper_activated\":\"1\"\n",
    "}\n",
    "    \n",
    "]\n",
    "\n",
    "DF_final=pandas.DataFrame()"
   ]
  },
  {
   "cell_type": "code",
   "execution_count": 5,
   "id": "d56bcfac",
   "metadata": {},
   "outputs": [],
   "source": [
    "def pop_up_closing(param,browser_param):\n",
    "    if param[\"pop_up_type\"]=='no pop up':\n",
    "        pass\n",
    "    if param[\"pop_up_type\"]=='have pop up':\n",
    "\n",
    "        close=browser_param.find_elements_by_class_name(\"action-close\")\n",
    "        for element in close : \n",
    "            try:\n",
    "                element.click()   \n",
    "                time.sleep(1)\n",
    "            except:\n",
    "                pass"
   ]
  },
  {
   "cell_type": "code",
   "execution_count": 15,
   "id": "665743e4",
   "metadata": {},
   "outputs": [],
   "source": [
    "def get_data(param):\n",
    "    \n",
    "        l = len(param[\"url_scrap\"])\n",
    "        i=0\n",
    "        df_aggregated=pandas.DataFrame()\n",
    "        nb_issues = 0\n",
    "        today_date=datetime.today().strftime('%Y-%m-%d')\n",
    "        \n",
    "        while i<l:\n",
    "        #while i<2:\n",
    "            \n",
    "            #browser = webdriver.Chrome(executable_path=executable_path)\n",
    "            #browser = webdriver.Chrome(ChromeDriverManager().install())\n",
    "            browser=webdriver.Chrome(executable_path='/Users/hugoruizverastegui/Documents/perso github/chromedriver')\n",
    "            category=param[\"url_scrap\"][i][0]           \n",
    "            \n",
    "            url=param[\"url_scrap\"][i][1]\n",
    "            print(category)\n",
    "            #print(url)        \n",
    "\n",
    "            # to change into a parameter\n",
    "            test_not_found=param[\"page_not_found_regex\"]\n",
    "\n",
    "            #init\n",
    "            page_not_found=0\n",
    "\n",
    "            # different starting point depending on the param page not found \n",
    "            if param[\"page_not_found_type\"]=='yes':\n",
    "                page=1\n",
    "\n",
    "            if param[\"page_not_found_type\"]=='no':\n",
    "                page=\"\"\n",
    "\n",
    "\n",
    "            while page_not_found==0:\n",
    "                #use of try to handle possible scrapping errors or time outs - https://stackoverflow.com/questions/51943694/execute-when-error-occurs-python\n",
    "                     \n",
    "                url_with_page=url+str(page)\n",
    "                print(url_with_page)     \n",
    "\n",
    "                browser.get(url_with_page)    \n",
    "\n",
    "                time.sleep(5)\n",
    "                #use of the anti pop up function\n",
    "                pop_up_closing(param,browser)\n",
    "\n",
    "                #use of the scrolling function\n",
    "                #scrolling(param,browser)\n",
    "\n",
    "                #use of format changing\n",
    "                #format_change(param,browser,page)\n",
    "\n",
    "                # extract of sourc code \n",
    "                time.sleep(2)\n",
    "                htmlsource = browser.page_source\n",
    "                \n",
    "\n",
    "                #use of the commas replace code\n",
    "                #htmlsource_replaced = replace_commas(param,htmlsource)\n",
    "                #print(htmlsource)\n",
    "\n",
    "                time.sleep(2)\n",
    "\n",
    "                name = re.findall(param[\"name_regex\"], htmlsource)\n",
    "                print(\"name: \" + str(len(name)))\n",
    "                print(name)\n",
    "                \n",
    "                url_product = re.findall(param[\"url_regex\"], htmlsource)\n",
    "                print(\"url_product: \" + str(len(url_product)))\n",
    "                print(url_product)\n",
    "                \n",
    "                prices = re.findall(param[\"price_regex\"], htmlsource)\n",
    "                print(\"prices: \" + str(len(prices)))\n",
    "                prices = prices[0:len(name)]\n",
    "                print(\"reduced prices: \" + str(len(prices)))\n",
    "                print(prices)\n",
    "                \n",
    "\n",
    "                \n",
    "                df=[prices,name,url_product]\n",
    "                df=pandas.DataFrame(df).transpose()\n",
    "                df['country']=category\n",
    "                df_aggregated=df_aggregated.append(df)\n",
    "\n",
    "\n",
    "                # exit loop after first iteration if there are no pages to go through\n",
    "                if param[\"page_not_found_type\"]=='no':\n",
    "                    page_not_found = 1\n",
    "\n",
    "                if param[\"page_not_found_type\"]=='yes':\n",
    "                    page_not_found = len(re.findall(test_not_found, htmlsource))\n",
    "                    page=page+1\n",
    "                    # only keep the output if there is no shift \n",
    "\n",
    "\n",
    "            i=i+1\n",
    "            browser.close()\n",
    "             \n",
    "            print(\"---------------\")\n",
    "        \n",
    "        #define columns names\n",
    "\n",
    "        return df_aggregated\n",
    "\n",
    "\n",
    "\n"
   ]
  },
  {
   "cell_type": "code",
   "execution_count": 16,
   "id": "5133f08b",
   "metadata": {},
   "outputs": [
    {
     "name": "stdout",
     "output_type": "stream",
     "text": [
      "france\n",
      "https://www.i-d-s.com/dubai/wine/wines-by-country/france.html?p=1\n",
      "name: 12\n",
      "['M.Chapoutier, Rasteau \" Les Gadilles\"', \"M.Chapoutier, Luberon 'La Ciboise' Rouge\", 'Vranken Brut Nature VDC with Gift Box', 'Veuve Clicquot Yellow Label Brut', 'Moët &amp; Chandon Brut Impérial', 'M.Chapoutier, Costières-de-Nîmes, Collection Bio “Areca” &amp; “Rouge” ', '2012 Château La Mission Haut-Brion, Grand Cru Classé de Graves, Pessac-Léognan', '2016 Château Talbot 4ème Cru Classé, Saint-Julien', 'Château Moncontour Vouvray Brut', '2017 Château Talbot 4ème Cru Classe, Saint-Julien', '2016 Chateau Pichon Comtesse Lalande, Grand Cr', '2015 Chateau Les Ormes de Pez Cru Bourgeois Saint Estephe']\n",
      "url_product: 12\n",
      "['https://www.i-d-s.com/dubai/m-chapoutier-rasteau-fr1281.html', 'https://www.i-d-s.com/dubai/m-chapoutier-luberon-la-ciboise-rouge-fr1279.html', 'https://www.i-d-s.com/dubai/vranken-brut-nature-vdc-with-gift-box-cp4019.html', 'https://www.i-d-s.com/dubai/veuve-clicquot-yellow-label-brut-cp1016.html', 'https://www.i-d-s.com/dubai/mo-t-chandon-brut-imp-rial-cp1011.html', 'https://www.i-d-s.com/dubai/m-chapoutier-costi-res-de-n-mes-collection-bio-fr1280.html', 'https://www.i-d-s.com/dubai/2012-ch-teau-la-mission-haut-brion-grand-cru-class-de-graves-pessac-l-ognan-fw1188.html', 'https://www.i-d-s.com/dubai/2016-ch-teau-talbot-4-me-cru-class-saint-julien-fw1175.html', 'https://www.i-d-s.com/dubai/ch-teau-moncontour-vouvray-brut-sw2003.html', 'https://www.i-d-s.com/dubai/2017-ch-teau-talbot-4-me-cru-classe-saint-julien-fw1216.html', 'https://www.i-d-s.com/dubai/2016-chateau-pichon-comtesse-lalande-grand-cr-fw1215.html', 'https://www.i-d-s.com/dubai/2015-chateau-les-ormes-de-pez-cru-bourgeois-saint-estephe-fw1213.html']\n",
      "prices: 12\n",
      "reduced prices: 12\n",
      "['16.95', '9.25', '33.00', '76.85', '63.05', '10.00', '2,485.70', '721.90', '18.50', '1,509.20', '3,770.55', '703.10']\n",
      "https://www.i-d-s.com/dubai/wine/wines-by-country/france.html?p=2\n"
     ]
    },
    {
     "name": "stderr",
     "output_type": "stream",
     "text": [
      "/var/folders/9z/sjrbpv9j1996t3_4wv3ry65c0000gn/T/ipykernel_31041/3340895757.py:83: FutureWarning: The frame.append method is deprecated and will be removed from pandas in a future version. Use pandas.concat instead.\n",
      "  df_aggregated=df_aggregated.append(df)\n"
     ]
    },
    {
     "name": "stdout",
     "output_type": "stream",
     "text": [
      "name: 12\n",
      "['2017 Chateau Léoville Barton, Saint -Julien', 'Maison Antoine Geoffroy, Beaune, Puligny Montrachet 1Er Cru Les Combettes ', 'Maison Antoine Geoffroy, Beaune, Gevrey Chambertin Vieilles Vignes ', 'Domaine Daniel-Etienne Defaix, Chablis Grand Cru Blanchot ', 'Domaine Daniel-Etienne Defaix, Chablis Vieilles Vignes', '2016 Château Duhart-Milon Rothschild, 4eme Cru Classé, Pauillac', '2019 \"Brulieres\" De Beychevelle, Haut-Medoc', 'Cave de Turckheim Gewurztraminer Reserve', 'Schröder and Schÿler Margaux Private Selection', '2017 Chateau Croix Mouton', \"Perle d'Aurore, Crémant de Bourgogne Brut Rosé\", 'Miraval, Côtes de Provence Rosé, Magnum']\n",
      "url_product: 12\n",
      "['https://www.i-d-s.com/dubai/2017-chateau-l-oville-barton-saint-julien-fw1210.html', 'https://www.i-d-s.com/dubai/maison-antoine-geoffroy-beaune-puligny-montrachet-1er-cru-les-combettes-fr1307.html', 'https://www.i-d-s.com/dubai/maison-antoine-geoffroy-beaune-gevrey-chambertin-vieilles-vignes-fr1308.html', 'https://www.i-d-s.com/dubai/domaine-daniel-etienne-defaix-chablis-grand-cru-blanchot-fr1306.html', 'https://www.i-d-s.com/dubai/domaine-daniel-etienne-defaix-chablis-vieilles-vignes-fr1305.html', 'https://www.i-d-s.com/dubai/2016-ch-teau-duhart-milon-rothschild-4eme-cru-class-pauillac-fw1202.html', 'https://www.i-d-s.com/dubai/2019-brulieres-de-beychevelle-haut-medoc-fw1209.html', 'https://www.i-d-s.com/dubai/cave-de-turckheim-gewurztraminer-reserve-fr1310.html', 'https://www.i-d-s.com/dubai/schr-der-and-sch-ler-margaux-private-selection-fr1299.html', 'https://www.i-d-s.com/dubai/2017-chateau-croix-mouton-fw1184.html', 'https://www.i-d-s.com/dubai/perle-d-aurore-cr-mant-de-bourgogne-brut-ros-sw2005.html', 'https://www.i-d-s.com/dubai/miraval-c-tes-de-provence-ros-magnum-fr4423.html']\n",
      "prices: 12\n",
      "reduced prices: 12\n",
      "['1,881.50', '183.95', '76.25', '150.10', '45.90', '880.25', '371.60', '15.75', '27.35', '212.50', '23.85', '81.45']\n",
      "https://www.i-d-s.com/dubai/wine/wines-by-country/france.html?p=3\n"
     ]
    },
    {
     "name": "stderr",
     "output_type": "stream",
     "text": [
      "/var/folders/9z/sjrbpv9j1996t3_4wv3ry65c0000gn/T/ipykernel_31041/3340895757.py:83: FutureWarning: The frame.append method is deprecated and will be removed from pandas in a future version. Use pandas.concat instead.\n",
      "  df_aggregated=df_aggregated.append(df)\n"
     ]
    },
    {
     "name": "stdout",
     "output_type": "stream",
     "text": [
      "name: 12\n",
      "['Remoissenet Santenay Blanc 2018', 'Château Mont-Redon Châteauneuf-du-Pape Rouge', 'Perrier-Jouët Grand Brut', 'Savigny Les Beaune Antoine Geoffroy', 'Domaine Michel Girault Les Beaux Regards, Sancerre Rouge', 'M.Chapoutier, Côtes-du-Rhône Rouge Adubatio , Collection Bio', \"M.Chapoutier, 'Belleruche' Côtes-du-Rhône Rouge\", 'M.Chapoutier, Châteauneuf-du-Pape, Collection Bio Rouge', 'Marius, Avenue de la Gare Syrah, IGP Collines Rhodaniennes ', \"M.Chapoutier, Cornas 'Les Arènes'\", \"M.Chapoutier, Saint-Joseph 'Deschants' Rouge\", \"M.Chapoutier, Châteauneuf-du-Pape 'La Bernardine' Blanc\"]\n",
      "url_product: 12\n",
      "['https://www.i-d-s.com/dubai/remoissenet-santenay-blanc-2018-fr4429.html', 'https://www.i-d-s.com/dubai/ch-teau-mont-redon-ch-teauneuf-du-pape-rouge-zz18126.html', 'https://www.i-d-s.com/dubai/perrier-jou-t-grand-brut-cp1003.html', 'https://www.i-d-s.com/dubai/savigny-les-beaune-antoine-geoffroy-fr4436.html', 'https://www.i-d-s.com/dubai/domaine-michel-girault-les-beaux-regards-sancerre-rouge-fr4433.html', 'https://www.i-d-s.com/dubai/m-chapoutier-c-tes-du-rh-ne-rouge-collection-bio-fr1278.html', 'https://www.i-d-s.com/dubai/m-chapoutier-belleruche-c-tes-du-rh-ne-rouge-fr1277.html', 'https://www.i-d-s.com/dubai/m-chapoutier-ch-teauneuf-du-pape-collection-bio-rouge-fr1276.html', 'https://www.i-d-s.com/dubai/marius-avenue-de-la-gare-syrah-igp-collines-rhodaniennes-fr1275.html', 'https://www.i-d-s.com/dubai/m-chapoutier-cornas-les-ar-nes-fr1274.html', 'https://www.i-d-s.com/dubai/m-chapoutier-saint-joseph-deschants-rouge-fr1273.html', 'https://www.i-d-s.com/dubai/m-chapoutier-ch-teauneuf-du-pape-la-bernardine-blanc-fr1272.html']\n",
      "prices: 12\n",
      "reduced prices: 12\n",
      "['38.20', '43.45', '56.70', '45.75', '29.95', '12.55', '11.60', '46.30', '12.25', '45.65', '27.35', '51.40']\n",
      "https://www.i-d-s.com/dubai/wine/wines-by-country/france.html?p=4\n"
     ]
    },
    {
     "name": "stderr",
     "output_type": "stream",
     "text": [
      "/var/folders/9z/sjrbpv9j1996t3_4wv3ry65c0000gn/T/ipykernel_31041/3340895757.py:83: FutureWarning: The frame.append method is deprecated and will be removed from pandas in a future version. Use pandas.concat instead.\n",
      "  df_aggregated=df_aggregated.append(df)\n"
     ]
    },
    {
     "name": "stdout",
     "output_type": "stream",
     "text": [
      "name: 12\n",
      "[\"M.Chapoutier, 'Belleruche' Côtes-du-Rhône Blanc\", \"M.Chapoutier, Luberon 'La Ciboise' Blanc\", \"M.Chapoutier, Saint-Péray 'Les Tanneurs' \", \"M.Chapoutier, 'La Combe Pilate' Viognier, IGP Collines Rhodaniennes\", \"M.Chapoutier, Saint-Joseph 'Deschants' Blanc\", \"Domaine Trénel, Climat Fleurie 'La Madone' (Single Vineyard)\", 'Domaine Trénel, Beaujolais Organic \" Rouge\"', 'Domaine Trénel, Moulin à vent, Cru de Beaujolais', 'Domaine Trénel, Coteaux-Bourguignons, Vin de Bourgogne', 'Domaine Trénel, Viré Clessé Chardonnay, Vin de Bourgogne', 'Domaine Trénel, Beaujolais Blanc', \"Domaine Bila-Haut,'Occultum Lapidem', Côtes-du-Roussillon Rouge\"]\n",
      "url_product: 12\n",
      "['https://www.i-d-s.com/dubai/m-chapoutier-belleruche-c-tes-du-rh-ne-blanc-fr1270.html', 'https://www.i-d-s.com/dubai/m-chapoutier-luberon-la-ciboise-blanc-fr1269.html', 'https://www.i-d-s.com/dubai/m-chapoutier-saint-p-ray-les-tanneurs-fr1268.html', 'https://www.i-d-s.com/dubai/m-chapoutier-la-combe-pilate-viognier-igp-collines-rhodaniennes-fr1267.html', 'https://www.i-d-s.com/dubai/m-chapoutier-saint-joseph-deschants-blanc-fr1266.html', 'https://www.i-d-s.com/dubai/domaine-tr-nel-fleurie-la-madone-single-vineyard-fr1265.html', 'https://www.i-d-s.com/dubai/domaine-tr-nel-beaujolais-organic-fr1264.html', 'https://www.i-d-s.com/dubai/domaine-tr-nel-moulin-vent-cru-de-beaujolais-fr1263.html', 'https://www.i-d-s.com/dubai/domaine-tr-nel-coteaux-bourguignons-vin-de-bourgogne-fr1262.html', 'https://www.i-d-s.com/dubai/domaine-tr-nel-vir-cless-chardonnay-vin-de-bourgogne-fr1261.html', 'https://www.i-d-s.com/dubai/domaine-tr-nel-beaujolais-blanc-fr1260.html', 'https://www.i-d-s.com/dubai/domaine-bila-haut-occultum-lapidem-c-tes-du-roussillon-rouge-fr1284.html']\n",
      "prices: 12\n",
      "reduced prices: 12\n",
      "['11.95', '9.25', '22.45', '17.10', '25.85', '21.25', '13.65', '20.95', '10.35', '22.95', '14.50', '18.80']\n",
      "https://www.i-d-s.com/dubai/wine/wines-by-country/france.html?p=5\n"
     ]
    },
    {
     "name": "stderr",
     "output_type": "stream",
     "text": [
      "/var/folders/9z/sjrbpv9j1996t3_4wv3ry65c0000gn/T/ipykernel_31041/3340895757.py:83: FutureWarning: The frame.append method is deprecated and will be removed from pandas in a future version. Use pandas.concat instead.\n",
      "  df_aggregated=df_aggregated.append(df)\n"
     ]
    },
    {
     "name": "stdout",
     "output_type": "stream",
     "text": [
      "name: 12\n",
      "[\"Domaine Bila-Haut, 'Occultum Lapidem', Côtes-du-Roussillon Blanc\", 'M.Chapoutier, Muscat de Beaumes-de-Venise', '2009 Château Lynch Bages, 5ème Cru Classé, Pauillac', 'Chateau Pontac Lynch Cru, Bourgeois', 'Perrier-Jouët Belle Epoque', 'Mumm Cordon Rouge Brut', \"Champagne Charles Chevalier Brut d'Honneur\", 'Vranken Brut Nature VDC Magnum 1.5L with Gift Box', \"Les Alexandrins Cotes du Rhone Rouge 'Terrasses de L'Eridan'\", 'Chateau Marzy, Pomerol', 'Domaine des Bosquets `La Font des Bosquets` Gigondas', '\"La Côte Sauvage\" Cairanne']\n",
      "url_product: 12\n",
      "['https://www.i-d-s.com/dubai/domaine-bila-haut-occultum-lapidem-c-tes-du-roussillon-blanc-fr1283.html', 'https://www.i-d-s.com/dubai/m-chapoutier-muscat-de-beaumes-de-venise-dw1007.html', 'https://www.i-d-s.com/dubai/2008-ch-teau-lynch-bages-5-me-cru-class-pauillac-fw1153.html', 'https://www.i-d-s.com/dubai/chateau-pontac-lynch-cru-bourgeois-ex1020.html', 'https://www.i-d-s.com/dubai/perrier-jou-t-belle-epoque-cp1004.html', 'https://www.i-d-s.com/dubai/mumm-cordon-rouge-brut-cp1008.html', 'https://www.i-d-s.com/dubai/champagne-charles-chevalier-brut-d-honneur-cp1019.html', 'https://www.i-d-s.com/dubai/vranken-brut-nature-vdc-magnum-1-5l-with-gift-box-cp4016.html', 'https://www.i-d-s.com/dubai/les-alexandrins-cotes-du-rhone-rouge-terrasses-de-l-eridan-fr1168.html', 'https://www.i-d-s.com/dubai/chateau-marzy-pomerol-fr1234.html', 'https://www.i-d-s.com/dubai/domaine-des-bosquets-la-font-des-bosquets-gigondas-fr2031.html', 'https://www.i-d-s.com/dubai/la-c-te-sauvage-cairanne-fr1239.html']\n",
      "prices: 12\n",
      "reduced prices: 12\n",
      "['18.80', '15.45', '4,765.00', '48.15', '194.10', '51.75', '32.70', '72.35', '16.70', '46.20', '26.40', '17.60']\n",
      "https://www.i-d-s.com/dubai/wine/wines-by-country/france.html?p=6\n"
     ]
    },
    {
     "name": "stderr",
     "output_type": "stream",
     "text": [
      "/var/folders/9z/sjrbpv9j1996t3_4wv3ry65c0000gn/T/ipykernel_31041/3340895757.py:83: FutureWarning: The frame.append method is deprecated and will be removed from pandas in a future version. Use pandas.concat instead.\n",
      "  df_aggregated=df_aggregated.append(df)\n"
     ]
    },
    {
     "name": "stdout",
     "output_type": "stream",
     "text": [
      "name: 12\n",
      "['2010 Château Beychevelle, 4ème Cru Classé, Saint-Julien', \"Domaine De La Roche Honneur Chinon 'Cuvée De Pâques' Organic\", '2013 Chateau Pavie, Saint Emilion Grand Cru', '2015 Château Kirwan, 3ème Cru Classé, Margaux', '2010 Château Rauzan Ségla, 2ème Cru Classé, Margaux', '2011 Remoissenet Pere &amp; Fils, Le Montrachet Grand Cru', 'Château De Valois Cuvée Louise', 'Château Comtesse Du Parc - By Christophe Anney', 'Louis Latour Pinot Noir', 'Domaine Laroche Chablis St-Martin', 'Domaine Laroche, Chablis 1er Cru `Les Vaudevey`', 'Domanie Laroche, Chablis 1er Cru ‘Les Vaillons’ Vieilles Vignes']\n",
      "url_product: 12\n",
      "['https://www.i-d-s.com/dubai/2010-ch-teau-beychevelle-4-me-cru-class-saint-julien-fw1012.html', 'https://www.i-d-s.com/dubai/domaine-de-la-roche-honneur-chinon-cuv-e-de-p-ques-organic-fr4039.html', 'https://www.i-d-s.com/dubai/2013-chateau-pavie-saint-emilion-grand-cru-fw1042.html', 'https://www.i-d-s.com/dubai/2015-ch-teau-kirwan-3-me-cru-class-margaux-fw1030.html', 'https://www.i-d-s.com/dubai/2010-ch-teau-rauzan-s-gla-2-me-cru-class-margaux-fw1007.html', 'https://www.i-d-s.com/dubai/2011-remoissenet-pere-fils-le-montrachet-grand-cru-fw1089.html', 'https://www.i-d-s.com/dubai/ch-teau-de-valois-cuv-e-louise-fr4121.html', 'https://www.i-d-s.com/dubai/ch-teau-comtesse-du-parc-by-christophe-anney-fr4133.html', 'https://www.i-d-s.com/dubai/louis-latour-pinot-noir-fr4175.html', 'https://www.i-d-s.com/dubai/domaine-laroche-chablis-st-martin-fr4183.html', 'https://www.i-d-s.com/dubai/domaine-laroche-chablis-1er-cru-les-vaudevey-fr4186.html', 'https://www.i-d-s.com/dubai/domanie-laroche-chablis-1er-cru-les-vaillons-vieilles-vignes-fr4187.html']\n",
      "prices: 12\n",
      "reduced prices: 12\n",
      "['2,915.50', '13.20', '2,707.25', '1,030.75', '2,941.60', '13,505.45', '31.45', '18.70', '28.45', '25.40', '38.95', '45.85']\n",
      "https://www.i-d-s.com/dubai/wine/wines-by-country/france.html?p=7\n"
     ]
    },
    {
     "name": "stderr",
     "output_type": "stream",
     "text": [
      "/var/folders/9z/sjrbpv9j1996t3_4wv3ry65c0000gn/T/ipykernel_31041/3340895757.py:83: FutureWarning: The frame.append method is deprecated and will be removed from pandas in a future version. Use pandas.concat instead.\n",
      "  df_aggregated=df_aggregated.append(df)\n"
     ]
    },
    {
     "name": "stdout",
     "output_type": "stream",
     "text": [
      "name: 12\n",
      "['Château des Jacques, Fleurie', \"Boutinot Cairanne 'Les Six'\", 'Domaine La Font De Notre Dame Lirac', \"Cave De Tain 'Les Arènes Sauvages'&nbsp;Cornas\", 'Château Fabre Gasparets, Corbières-Boutenac [Organic]', 'Clos Bagatelle, “Les Sentiers de Bagatelle a l’Origine “St Chinian Rouge', '\"M\" De Minuty Magnum (1.5L)', 'Château Enclos Haut-Mazeyres', 'Mas De Lavail Carmin, Côtes Du Roussillon Villages', 'Domaine Durieu, Ventoux', 'Château De Plaisance Coteaux De Layon 1Er Cru Chaume', 'Chateau Feret Lambert Bordeaux Superieur, Magnum (1.5L)']\n",
      "url_product: 12\n",
      "['https://www.i-d-s.com/dubai/ch-teau-des-jacques-fleurie-fr4229.html', 'https://www.i-d-s.com/dubai/boutinot-cairanne-les-six-fr4245.html', 'https://www.i-d-s.com/dubai/domaine-la-font-de-notre-dame-lirac-fr4246.html', 'https://www.i-d-s.com/dubai/cave-de-tain-les-ar-nes-sauvages-cornas-fr4253.html', 'https://www.i-d-s.com/dubai/ch-teau-fabre-gasparets-corbi-res-boutenac-organic-fr4286.html', 'https://www.i-d-s.com/dubai/clos-bagatelle-les-sentiers-de-bagatelle-a-l-origine-st-chinian-rouge-fr4300.html', 'https://www.i-d-s.com/dubai/m-de-minuty-magnum-1-5l-fr4318.html', 'https://www.i-d-s.com/dubai/ch-teau-enclos-haut-mazeyres-fr4330.html', 'https://www.i-d-s.com/dubai/mas-de-lavail-carmin-c-tes-du-roussillon-villages-fr4335.html', 'https://www.i-d-s.com/dubai/domaine-durieu-ventoux-fr4340.html', 'https://www.i-d-s.com/dubai/ch-teau-de-plaisance-coteaux-de-layon-1er-cru-chaume-fr4021.html', 'https://www.i-d-s.com/dubai/chateau-feret-lambert-bordeaux-superieur-magnum-1-5l-fr1182.html']\n",
      "prices: 12\n",
      "reduced prices: 12\n",
      "['18.05', '11.25', '11.00', '39.60', '16.40', '10.80', '31.75', '32.35', '9.70', '12.55', '23.60', '29.25']\n",
      "https://www.i-d-s.com/dubai/wine/wines-by-country/france.html?p=8\n"
     ]
    },
    {
     "name": "stderr",
     "output_type": "stream",
     "text": [
      "/var/folders/9z/sjrbpv9j1996t3_4wv3ry65c0000gn/T/ipykernel_31041/3340895757.py:83: FutureWarning: The frame.append method is deprecated and will be removed from pandas in a future version. Use pandas.concat instead.\n",
      "  df_aggregated=df_aggregated.append(df)\n"
     ]
    },
    {
     "name": "stdout",
     "output_type": "stream",
     "text": [
      "name: 12\n",
      "['Beau Joie Brut Champagne ', 'Paul Jaboulet Aine “Les Jalets” Crozes Hermitage “Blanc”', \"Les Alexandrins Cotes du Rhone Blanc 'Terrasses de L'Eridan'\", 'Macon Rouge Maison Antoine Geoffroy', 'La Chablisienne, “Pas Si Petit” Petit Chablis', '2016 Chateau Léoville Barton, Saint -Julien', '2016 Château Grand-Puy-Lacoste, 2nd Cru Classé, Pauillac', 'Chateau Fleur La Mothe, Medoc Cru Bourgeois', 'Chateau Vieux Coutelin, Saint Estephe', 'Pauillac de Haut-Batailley, Pauillac', 'Domaine Millet Sancerre Blanc', 'Chateau Feret Lambert Bordeaux Superieur']\n",
      "url_product: 12\n",
      "['https://www.i-d-s.com/dubai/beau-joie-brut-champagne-cp1028.html', 'https://www.i-d-s.com/dubai/paul-jaboulet-aine-les-jalets-crozes-hermitage-blanc-fr1159.html', 'https://www.i-d-s.com/dubai/les-alexandrins-cotes-du-rhone-blanc-terrasses-de-l-eridan-fr1167.html', 'https://www.i-d-s.com/dubai/macon-rouge-maison-antoine-geoffroy-fr1187.html', 'https://www.i-d-s.com/dubai/la-chablisienne-pas-si-petit-petit-chablis-fr1120.html', 'https://www.i-d-s.com/dubai/2016-chateau-l-oville-barton-saint-julien-fw1124.html', 'https://www.i-d-s.com/dubai/2016-ch-teau-grand-puy-lacoste-2nd-cru-class-pauillac-fw1166.html', 'https://www.i-d-s.com/dubai/chateau-fleur-la-mothe-medoc-cru-bourgeois-fr1161.html', 'https://www.i-d-s.com/dubai/chateau-vieux-coutelin-saint-estephe-fr1162.html', 'https://www.i-d-s.com/dubai/pauillac-de-haut-batailley-pauillac-fr1164.html', 'https://www.i-d-s.com/dubai/catalog/product/view/id/12598/s/domaine-millet-sancerre-blanc-fr1166/category/483/', 'https://www.i-d-s.com/dubai/chateau-feret-lambert-bordeaux-superieur-fr1181.html']\n",
      "prices: 12\n",
      "reduced prices: 12\n",
      "['78.85', '34.55', '17.65', '22.85', '18.50', '2,254.00', '1,527.75', '29.65', '37.15', '54.50', '27.30', '13.95']\n",
      "https://www.i-d-s.com/dubai/wine/wines-by-country/france.html?p=9\n"
     ]
    },
    {
     "name": "stderr",
     "output_type": "stream",
     "text": [
      "/var/folders/9z/sjrbpv9j1996t3_4wv3ry65c0000gn/T/ipykernel_31041/3340895757.py:83: FutureWarning: The frame.append method is deprecated and will be removed from pandas in a future version. Use pandas.concat instead.\n",
      "  df_aggregated=df_aggregated.append(df)\n"
     ]
    },
    {
     "name": "stdout",
     "output_type": "stream",
     "text": [
      "name: 12\n",
      "[\"Domaine Michel Girault La Grappe d'Or “Pouilly-Fume”\", 'Chateau Turcaud, Entre deux Mers Blanc AOC', 'Domaine JM Lafont Brouilly “Les Roches”', 'Chateau Pradeau-Mazeau Cuvée Prestige, Bordeaux Rouge', 'Moët &amp; Chandon Brut Impérial Rosé', 'Gremillet Sélection Brut', 'Taittinger Brut Réserve', 'Domaine Heimbourger Les Terres Blanches, Chablis', 'Domaine Michel Girault Les Beaux Regards, Sancerre Blanc', 'Laurent-Perrier Rosé', 'Domaine Wiehlé Engelreben Riesling', 'Ruinart Rosé']\n",
      "url_product: 12\n",
      "['https://www.i-d-s.com/dubai/domaine-michel-girault-la-grappe-d-or-fr1154.html', 'https://www.i-d-s.com/dubai/chateau-turcaud-entre-deux-mers-blanc-aoc-fr1222.html', 'https://www.i-d-s.com/dubai/domaine-de-bel-air-brouilly-fr1152.html', 'https://www.i-d-s.com/dubai/chateau-pradeau-mazeau-cuv-e-prestige-bordeaux-rouge-fr1178.html', 'https://www.i-d-s.com/dubai/mo-t-chandon-brut-imp-rial-ros-cp1012.html', 'https://www.i-d-s.com/dubai/gremillet-s-lection-brut-cp1006.html', 'https://www.i-d-s.com/dubai/taittinger-brut-r-serve-cp1010.html', 'https://www.i-d-s.com/dubai/domaine-heimbourger-les-terres-blanches-chablis-fr1148.html', 'https://www.i-d-s.com/dubai/domaine-michel-girault-les-beaux-regards-sancerre-fr1153.html', 'https://www.i-d-s.com/dubai/laurent-perrier-ros-cp1002.html', 'https://www.i-d-s.com/dubai/domaine-wiehl-engelreben-riesling-fr1217.html', 'https://www.i-d-s.com/dubai/ruinart-rose-cp1062.html']\n",
      "prices: 12\n",
      "reduced prices: 12\n",
      "['29.50', '14.00', '18.50', '11.30', '69.90', '37.50', '62.20', '27.15', '29.50', '118.60', '19.20', '90.80']\n",
      "https://www.i-d-s.com/dubai/wine/wines-by-country/france.html?p=10\n"
     ]
    },
    {
     "name": "stderr",
     "output_type": "stream",
     "text": [
      "/var/folders/9z/sjrbpv9j1996t3_4wv3ry65c0000gn/T/ipykernel_31041/3340895757.py:83: FutureWarning: The frame.append method is deprecated and will be removed from pandas in a future version. Use pandas.concat instead.\n",
      "  df_aggregated=df_aggregated.append(df)\n"
     ]
    },
    {
     "name": "stdout",
     "output_type": "stream",
     "text": [
      "name: 12\n",
      "['Veuve Clicquot Rosé', 'Moët &amp; Chandon Brut Impérial Magnum (1.5L)', 'Laurent-Perrier Brut', 'Chateau Bellegrave Les Charmes, Pauillac', 'Chateau Lassalle Le Bergey, Graves', 'Chateau Lassalle Le Pigeonnier Graves Bordeaux', 'Chateau de Mazerolle La Gravelière Peyronne, Graves', 'Chateau Mancèdre Le Trettin, Pessac Leognan', 'Château Vitallis Saint-Véran', 'Domaine Heimbourger Les Terres Blanches, Chardonnay', 'Chateau Cailleteau-Bergeron Hauts de Bergeron, Blaye Cotes de Bordeaux Blanc', 'Domaine Maratray Dubreuil Savigny les Beaune 1er Cru Les Vergelesses']\n",
      "url_product: 12\n",
      "['https://www.i-d-s.com/dubai/veuve-clicquot-ros-cp1017.html', 'https://www.i-d-s.com/dubai/mo-t-chandon-brut-imp-rial-magnum-cp1013.html', 'https://www.i-d-s.com/dubai/laurent-perrier-brut-cp1001.html', 'https://www.i-d-s.com/dubai/chateau-bellegrave-les-charmes-pauillac-fr1236.html', 'https://www.i-d-s.com/dubai/chateau-lassalle-le-bergey-graves-fr1176.html', 'https://www.i-d-s.com/dubai/chateau-lassalle-le-pigeonnier-graves-bordeaux-fr1177.html', 'https://www.i-d-s.com/dubai/chateau-de-mazerolle-la-graveli-re-peyronne-graves-fr1237.html', 'https://www.i-d-s.com/dubai/chateau-manc-dre-le-trettin-pessac-leognan-fr1238.html', 'https://www.i-d-s.com/dubai/ch-teau-vitallis-saint-v-ran-fr1147.html', 'https://www.i-d-s.com/dubai/domaine-heimbourger-les-terres-blanches-chardonnay-fr1149.html', 'https://www.i-d-s.com/dubai/chateau-cailleteau-bergeron-hauts-de-bergeron-blaye-cotes-de-bordeaux-blanc-fr2591.html', 'https://www.i-d-s.com/dubai/domaine-maratray-dubreuil-savigny-les-beaune-1er-cru-les-vergelesses-fr1150.html']\n",
      "prices: 12\n",
      "reduced prices: 12\n",
      "['89.80', '138.50', '63.80', '37.55', '15.75', '16.70', '16.80', '33.70', '27.50', '20.55', '15.35', '41.95']\n",
      "https://www.i-d-s.com/dubai/wine/wines-by-country/france.html?p=11\n"
     ]
    },
    {
     "name": "stderr",
     "output_type": "stream",
     "text": [
      "/var/folders/9z/sjrbpv9j1996t3_4wv3ry65c0000gn/T/ipykernel_31041/3340895757.py:83: FutureWarning: The frame.append method is deprecated and will be removed from pandas in a future version. Use pandas.concat instead.\n",
      "  df_aggregated=df_aggregated.append(df)\n"
     ]
    },
    {
     "name": "stdout",
     "output_type": "stream",
     "text": [
      "name: 12\n",
      "['Chateau Lalande de Pez, Saint-Estèphe', 'Domaine Coulange Cuvée Bergoïata, Cotes du Rhone', 'Chateau Laborde, Lalande de Pomerol', 'Domaine Olivier Hillaire, Chateauneuf du Pape', 'Pernand-Vergelesses Blanc Domaine Dubreuil Fontaine', 'Domaine Faury, Condrieu', 'Chateau Pradeau-Mazeau Cuvée Prestige Rosé, Bordeaux', 'Gervais Gobillard Prestige Blanc, Champagne', 'Emotion de Provence Prestige, Coteaux Varois Rosé', 'Bollinger Special Cuvée Brut, in individual Gift Box', 'Fernand &amp; Laurent Pillot Chassagne Montrachet 1er Cru \"Vide Bourse\"', 'Cave De Tain Crozes-Hermitage \"Sans Sulphites\" Exploration']\n",
      "url_product: 12\n",
      "['https://www.i-d-s.com/dubai/chateau-lalande-de-pez-saint-est-phe-fr2593.html', 'https://www.i-d-s.com/dubai/domaine-coulange-cuv-e-bergo-ata-cotes-du-rhone-fr1169.html', 'https://www.i-d-s.com/dubai/chateau-laborde-lalande-de-pomerol-fr1235.html', 'https://www.i-d-s.com/dubai/domaine-olivier-hillaire-chateauneuf-du-pape-fr1170.html', 'https://www.i-d-s.com/dubai/pernand-vergelesses-blanc-domaine-dubreuil-fontaine-fr1201.html', 'https://www.i-d-s.com/dubai/domaine-faury-condrieu-fr1156.html', 'https://www.i-d-s.com/dubai/chateau-pradeau-mazeau-cuv-e-prestige-rose-bordeaux-fr1174.html', 'https://www.i-d-s.com/dubai/gervais-gobillard-prestige-blanc-champagne-cp1050.html', 'https://www.i-d-s.com/dubai/emotion-de-provence-prestige-coteaux-varois-ros-fr1173.html', 'https://www.i-d-s.com/dubai/bollinger-special-cuv-e-brut-in-individual-gift-box-cp1000.html', 'https://www.i-d-s.com/dubai/fernand-laurent-pillot-chassagne-montrachet-1er-cru-vide-bourse-fr1215.html', 'https://www.i-d-s.com/dubai/cave-de-tain-crozes-hermitage-sans-sulphites-exploration-fr1219.html']\n",
      "prices: 12\n",
      "reduced prices: 12\n",
      "['24.80', '11.95', '31.00', '49.20', '43.55', '56.20', '11.30', '60.50', '22.50', '96.25', '63.35', '24.30']\n",
      "https://www.i-d-s.com/dubai/wine/wines-by-country/france.html?p=12\n"
     ]
    },
    {
     "name": "stderr",
     "output_type": "stream",
     "text": [
      "/var/folders/9z/sjrbpv9j1996t3_4wv3ry65c0000gn/T/ipykernel_31041/3340895757.py:83: FutureWarning: The frame.append method is deprecated and will be removed from pandas in a future version. Use pandas.concat instead.\n",
      "  df_aggregated=df_aggregated.append(df)\n"
     ]
    },
    {
     "name": "stdout",
     "output_type": "stream",
     "text": [
      "name: 12\n",
      "['Tardieu Laurent Hermitage', 'Bellefontaine Sauvignon Blanc', 'Domaine Wiehlé Seidenfaden Gewurztraminer', 'Bellefontaine Chardonnay', 'Baron Philippe de Rothschild Sauvignon Blanc', 'Baron Philippe de Rothschild Chardonnay', 'Baron Philippe de Rothschild Viognier', 'L’Ormarine Duc de Morny Picpoul de Pinet', 'Chateau Ségur de Cabanac, Saint-Estèphe', 'Dom Pérignon Vintage, in individual Gift Box', 'Bellefontaine Grenache Rosé', 'Emotion de Provence, Coteaux Varois Rosé']\n",
      "url_product: 12\n",
      "['https://www.i-d-s.com/dubai/tardieu-laurent-hermitage-fr1251.html', 'https://www.i-d-s.com/dubai/bellefontaine-sauvignon-blanc-fr1003.html', 'https://www.i-d-s.com/dubai/domaine-wiehl-seidenfaden-gewurztraminer-fr1218.html', 'https://www.i-d-s.com/dubai/bellefontaine-chardonnay-fr1004.html', 'https://www.i-d-s.com/dubai/baron-philippe-de-rothschild-sauvignon-blanc-fr1005.html', 'https://www.i-d-s.com/dubai/baron-philippe-de-rothschild-chardonnay-fr1006.html', 'https://www.i-d-s.com/dubai/baron-philippe-de-rothschild-viognier-fr1007.html', 'https://www.i-d-s.com/dubai/l-ormarine-duc-de-morny-picpoul-de-pinet-fr1008.html', 'https://www.i-d-s.com/dubai/chateau-s-gur-de-cabanac-saint-est-phe-fr1134.html', 'https://www.i-d-s.com/dubai/dom-p-rignon-vintage-in-individual-gift-box-cp1014.html', 'https://www.i-d-s.com/dubai/bellefontaine-grenache-ros-fr1010.html', 'https://www.i-d-s.com/dubai/emotion-de-provence-coteaux-varois-ros-fr2598.html']\n",
      "prices: 12\n",
      "reduced prices: 12\n",
      "['160.25', '7.05', '21.90', '7.45', '7.80', '9.85', '7.80', '10.05', '41.20', '295.95', '7.05', '18.55']\n",
      "https://www.i-d-s.com/dubai/wine/wines-by-country/france.html?p=13\n"
     ]
    },
    {
     "name": "stderr",
     "output_type": "stream",
     "text": [
      "/var/folders/9z/sjrbpv9j1996t3_4wv3ry65c0000gn/T/ipykernel_31041/3340895757.py:83: FutureWarning: The frame.append method is deprecated and will be removed from pandas in a future version. Use pandas.concat instead.\n",
      "  df_aggregated=df_aggregated.append(df)\n"
     ]
    },
    {
     "name": "stdout",
     "output_type": "stream",
     "text": [
      "name: 12\n",
      "['M de Minuty Rosé', 'Miraval, Côtes de Provence Rosé', \"Chateau Canon Saint-Michel (Organic) L'Authentique, Canon Fronsac\", 'Domaine Ott Rosé, Château Romassan', 'Château Minuty \"281\" Rosé', 'Chateau La Picherie Les Marronniers, Montagne Saint-Emilion', 'Bellefontaine Merlot', 'Bellefontaine Malbec', 'Chateau Gravet Renaissance, Grand Cru Saint-Emilion', 'Chateau Gravet Grande Rennaissance , Grand Cru Saint-Emilion', 'Baron Philippe de Rothschild Merlot', 'Chateau Pradeau-Mazeau Cuvée Prestige, Bordeaux Blanc']\n",
      "url_product: 12\n",
      "['https://www.i-d-s.com/dubai/m-de-minuty-ros-fr1014.html', 'https://www.i-d-s.com/dubai/miraval-ros-fr1015.html', 'https://www.i-d-s.com/dubai/chateau-canon-saint-michel-organic-l-authentique-canon-fronsac-fr1232.html', 'https://www.i-d-s.com/dubai/domaine-ott-ros-ch-teau-romassan-fr1017.html', 'https://www.i-d-s.com/dubai/ch-teau-minuty-281-ros-fr1018.html', 'https://www.i-d-s.com/dubai/chateau-la-picherie-les-marronniers-montagne-saint-emilion-fr2594.html', 'https://www.i-d-s.com/dubai/bellefontaine-merlot-fr1020.html', 'https://www.i-d-s.com/dubai/bellefontaine-malbec-fr1021.html', 'https://www.i-d-s.com/dubai/chateau-gravet-renaissance-grand-cru-saint-emilion-fr1229.html', 'https://www.i-d-s.com/dubai/grande-renaissance-grand-cru-saint-emilion-fr1231.html', 'https://www.i-d-s.com/dubai/baron-philippe-de-rothschild-merlot-fr1023.html', 'https://www.i-d-s.com/dubai/chateau-pradeau-mazeau-cuv-e-prestige-bordeaux-blanc-fr2590.html']\n",
      "prices: 12\n",
      "reduced prices: 12\n",
      "['25.05', '27.00', '26.85', '77.70', '99.60', '20.45', '6.80', '7.05', '31.60', '40.65', '8.15', '13.35']\n",
      "https://www.i-d-s.com/dubai/wine/wines-by-country/france.html?p=14\n"
     ]
    },
    {
     "name": "stderr",
     "output_type": "stream",
     "text": [
      "/var/folders/9z/sjrbpv9j1996t3_4wv3ry65c0000gn/T/ipykernel_31041/3340895757.py:83: FutureWarning: The frame.append method is deprecated and will be removed from pandas in a future version. Use pandas.concat instead.\n",
      "  df_aggregated=df_aggregated.append(df)\n"
     ]
    },
    {
     "name": "stdout",
     "output_type": "stream",
     "text": [
      "name: 12\n",
      "['Baron Philippe de Rothschild Cabernet Sauvignon', 'Baron Philippe de Rothschild Syrah', 'Baron Philippe de Rothschild Pinot Noir', 'Château Pineraie Cahors Malbec', 'Cave de Turckheim Gewurztraminer', 'Cave de Turckheim Riesling Vieilles Vignes', 'Cave deTurckheim Grand Cru Riesling', 'Mas de Lavail Alhambra, Cotes du Roussillon Villages', \"Baron Philippe de Rothschild' Mouton Cadet Blanc\", 'Baron Philippe de Rothschild, Mouton Cadet Reserve Graves Blanc', 'Château Vieux Guinot La Petite Chapelle Saint-Emilion Grand Cru', 'Baron Philippe de Rothschild, Le Rose de Mouton Cadet']\n",
      "url_product: 12\n",
      "['https://www.i-d-s.com/dubai/baron-philippe-de-rothschild-cabernet-sauvignon-fr1024.html', 'https://www.i-d-s.com/dubai/baron-philippe-de-rothschild-syrah-fr1025.html', 'https://www.i-d-s.com/dubai/baron-philippe-de-rothschild-pinot-noir-fr1026.html', 'https://www.i-d-s.com/dubai/ch-teau-pineraie-cahors-malbec-fr1027.html', 'https://www.i-d-s.com/dubai/cave-de-turckheim-gewurztraminer-fr1028.html', 'https://www.i-d-s.com/dubai/cave-de-turckheim-riesling-vieilles-vignes-fr1029.html', 'https://www.i-d-s.com/dubai/cave-deturckheim-grand-cru-riesling-fr1032.html', 'https://www.i-d-s.com/dubai/mas-de-lavail-alhambra-cotes-du-roussillon-villages-fr1172.html', 'https://www.i-d-s.com/dubai/baron-philippe-de-rothschild-mouton-cadet-blanc-fr1033.html', 'https://www.i-d-s.com/dubai/baron-philippe-de-rothschild-mouton-cadet-reserve-graves-blanc-fr1034.html', 'https://www.i-d-s.com/dubai/ch-teau-vieux-guinot-la-petite-chapelle-saint-emilion-grand-cru-fr1175.html', 'https://www.i-d-s.com/dubai/baron-philippe-de-rothschild-le-rose-de-mouton-cadet-fr1035.html']\n",
      "prices: 12\n",
      "reduced prices: 12\n",
      "['8.15', '7.80', '8.15', '12.25', '14.00', '15.10', '24.40', '18.15', '11.90', '19.00', '31.60', '11.90']\n",
      "https://www.i-d-s.com/dubai/wine/wines-by-country/france.html?p=15\n"
     ]
    },
    {
     "name": "stderr",
     "output_type": "stream",
     "text": [
      "/var/folders/9z/sjrbpv9j1996t3_4wv3ry65c0000gn/T/ipykernel_31041/3340895757.py:83: FutureWarning: The frame.append method is deprecated and will be removed from pandas in a future version. Use pandas.concat instead.\n",
      "  df_aggregated=df_aggregated.append(df)\n"
     ]
    },
    {
     "name": "stdout",
     "output_type": "stream",
     "text": [
      "name: 12\n",
      "['Château Bel Air Bordeaux Superieur', 'Schröder and Schÿler Chartron La Fleur Rouge', 'Chateau Lange Réglat', 'Gervais Gobillard Brut, Champagne', 'Château Buisson Redon', 'Baron Philippe de Rothschild Mouton Cadet Rouge', 'Château de Haux Rouge, Premières Côtes de Bordeaux', 'Baron Philippe de Rothschild, Mouton Cadet Heritage Rouge', 'Schröder and Schÿler Private Réserve Medoc', 'Château Roc de Ségur', 'Cavalier de la Méditerranée Chardonnay, IGP Pays d\"Oc', \"Cavalier de la Méditerranée Cabernet Sauvignon, Pays d'Oc\"]\n",
      "url_product: 12\n",
      "['https://www.i-d-s.com/dubai/ch-teau-bel-air-bordeaux-superieur-fr1036.html', 'https://www.i-d-s.com/dubai/schr-der-and-sch-ler-chartron-la-fleur-rouge-fr1037.html', 'https://www.i-d-s.com/dubai/chateau-lange-r-glat-dw1010.html', 'https://www.i-d-s.com/dubai/gervais-gobillard-brut-champagne-cp1025.html', 'https://www.i-d-s.com/dubai/ch-teau-buisson-redon-fr1038.html', 'https://www.i-d-s.com/dubai/baron-philippe-de-rothschild-mouton-cadet-rouge-fr1040.html', 'https://www.i-d-s.com/dubai/ch-teau-de-haux-rouge-premi-res-c-tes-de-bordeaux-fr1041.html', 'https://www.i-d-s.com/dubai/baron-philippe-de-rothschild-mouton-cadet-heritage-rouge-fr1042.html', 'https://www.i-d-s.com/dubai/schr-der-and-sch-ler-private-r-serve-medoc-fr1043.html', 'https://www.i-d-s.com/dubai/ch-teau-roc-de-s-gur-fr1044.html', 'https://www.i-d-s.com/dubai/cavalier-de-la-m-diterran-e-chardonnay-igp-pays-d-oc-fr2595.html', 'https://www.i-d-s.com/dubai/cavalier-de-la-m-diterran-e-cabernet-sauvignon-pays-d-oc-fr2596.html']\n",
      "prices: 12\n",
      "reduced prices: 12\n",
      "['8.10', '8.05', '36.40', '45.40', '9.80', '12.85', '13.10', '14.35', '10.70', '13.40', '10.55', '10.00']\n",
      "https://www.i-d-s.com/dubai/wine/wines-by-country/france.html?p=16\n"
     ]
    },
    {
     "name": "stderr",
     "output_type": "stream",
     "text": [
      "/var/folders/9z/sjrbpv9j1996t3_4wv3ry65c0000gn/T/ipykernel_31041/3340895757.py:83: FutureWarning: The frame.append method is deprecated and will be removed from pandas in a future version. Use pandas.concat instead.\n",
      "  df_aggregated=df_aggregated.append(df)\n"
     ]
    },
    {
     "name": "stdout",
     "output_type": "stream",
     "text": [
      "name: 12\n",
      "['Gervais Gobillard Prestige, Champagne Rosé', 'Baron Philippe de Rothschild, Reserve Mouton Cadet Medoc', 'Château Amour', 'Chateau de Hauterive Chemin de Compostelle Hauts de Vire, Cahors', 'Château Macquin, Saint-Georges-Saint-Émilion, Bordeaux', 'Château Vieille Tour La Rose', \"Chateau Durfort-Vivens,'Vivens', Margaux\", 'Chateau Le Coteau Cuvée Graveline, Margaux', 'Château de Musset Cuvée Compostelle, Lalande-de-Pomerol', 'Château Lalande', 'La Chablisienne Bourgogne Chardonnay', 'Louis Jadot Saint Véran']\n",
      "url_product: 12\n",
      "['https://www.i-d-s.com/dubai/gervais-gobillard-prestige-champagne-rose-cp1026.html', 'https://www.i-d-s.com/dubai/baron-philippe-de-rothschild-reserve-mouton-cadet-medoc-fr1045.html', 'https://www.i-d-s.com/dubai/ch-teau-amour-fr1046.html', 'https://www.i-d-s.com/dubai/chateau-de-hauterive-chemin-de-compostelle-hauts-de-vire-cahors-fr1216.html', 'https://www.i-d-s.com/dubai/ch-teau-macquin-saint-georges-saint-milion-bordeaux-fr1049.html', 'https://www.i-d-s.com/dubai/ch-teau-vieille-tour-la-rose-fr1050.html', 'https://www.i-d-s.com/dubai/chateau-durfort-vivens-vivens-margaux-fr1053.html', 'https://www.i-d-s.com/dubai/chateau-le-coteau-cuv-e-graveline-margaux-fr1233.html', 'https://www.i-d-s.com/dubai/ch-teau-de-musset-cuv-e-compostelle-lalande-de-pomerol-fr1054.html', 'https://www.i-d-s.com/dubai/ch-teau-lalande-fr1056.html', 'https://www.i-d-s.com/dubai/la-chablisienne-bourgogne-chardonnay-fr1059.html', 'https://www.i-d-s.com/dubai/louis-jadot-saint-v-ran-fr1062.html']\n",
      "prices: 12\n",
      "reduced prices: 12\n",
      "['61.25', '16.40', '24.05', '18.55', '21.80', '16.95', '60.85', '44.05', '14.80', '38.65', '14.35', '32.65']\n",
      "https://www.i-d-s.com/dubai/wine/wines-by-country/france.html?p=17\n"
     ]
    },
    {
     "name": "stderr",
     "output_type": "stream",
     "text": [
      "/var/folders/9z/sjrbpv9j1996t3_4wv3ry65c0000gn/T/ipykernel_31041/3340895757.py:83: FutureWarning: The frame.append method is deprecated and will be removed from pandas in a future version. Use pandas.concat instead.\n",
      "  df_aggregated=df_aggregated.append(df)\n"
     ]
    },
    {
     "name": "stdout",
     "output_type": "stream",
     "text": [
      "name: 12\n",
      "['Domaine Chanson Chassagne-Montrachet', 'Domaine Chanson Puligny Montrachet', 'La Chablisienne Chablis \"La Pierrelée\"', 'Piper-Heidsieck Cuvée Brut', 'La Chablisienne Chablis 1er Cru \"Beauroy\"', 'La Chablisienne Chablis 1er Cru \"Vaillons\"', 'Domaine Chanson Nuits Saint Georges', 'Gevrey Chambertin , Vallet Frères', 'Château de Belleverne Beaujolais Villages', 'La Madone Fleurie \"La Reine de l\\'Arenite\"', 'Château de Belleverne St Amour \"Le Cru Des Amoureux\"', 'Vouvray Demi Sec Les Coteaux Tufiers']\n",
      "url_product: 12\n",
      "['https://www.i-d-s.com/dubai/domaine-chanson-chassagne-montrachet-fr1066.html', 'https://www.i-d-s.com/dubai/domaine-chanson-puligny-montrachet-fr1067.html', 'https://www.i-d-s.com/dubai/la-chablisienne-chablis-la-pierrel-e-fr1115.html', 'https://www.i-d-s.com/dubai/piper-heidsieck-cuv-e-brut-cp1009.html', 'https://www.i-d-s.com/dubai/la-chablisienne-chablis-1er-cru-beauroy-fr1072.html', 'https://www.i-d-s.com/dubai/la-chablisienne-chablis-1er-cru-vaillons-fr1073.html', 'https://www.i-d-s.com/dubai/domaine-chanson-nuits-saint-georges-fr1079.html', 'https://www.i-d-s.com/dubai/gevrey-chambertin-vallet-fr-res-fr1080.html', 'https://www.i-d-s.com/dubai/ch-teau-de-belleverne-beaujolais-villages-fr1081.html', 'https://www.i-d-s.com/dubai/la-madone-fleurie-la-reine-de-l-arenite-fr1082.html', 'https://www.i-d-s.com/dubai/ch-teau-de-belleverne-st-amour-le-cru-des-amoureux-fr1083.html', 'https://www.i-d-s.com/dubai/vouvray-demi-sec-les-coteaux-tufiers-fr1086.html']\n",
      "prices: 12\n",
      "reduced prices: 12\n",
      "['108.65', '75.30', '22.80', '54.25', '38.25', '38.25', '81.95', '56.00', '12.95', '15.35', '15.90', '11.45']\n",
      "https://www.i-d-s.com/dubai/wine/wines-by-country/france.html?p=18\n"
     ]
    },
    {
     "name": "stderr",
     "output_type": "stream",
     "text": [
      "/var/folders/9z/sjrbpv9j1996t3_4wv3ry65c0000gn/T/ipykernel_31041/3340895757.py:83: FutureWarning: The frame.append method is deprecated and will be removed from pandas in a future version. Use pandas.concat instead.\n",
      "  df_aggregated=df_aggregated.append(df)\n"
     ]
    },
    {
     "name": "stdout",
     "output_type": "stream",
     "text": [
      "name: 10\n",
      "['Chateau du Grand Plantier Caupos, Loupiac Blanc', 'Domaine de la Combe Reserve Personelle Vieilles Vignes, Muscadet Sevre et Maine Sur LieDomaine de la', 'Jean-Max Roger Menetou Salon Cuvée le Charnay', 'Domaine Cailbourdin Pouilly Fumé Cuvée de Boisfleury', 'de Ladoucette Pouilly Fumé', 'Pierre Sourdais Chinon Tradition', 'Chante Cigale Châteauneuf -du- Pape Blanc', 'Chateau de Vaudieu,‘Grand Vin’, Châteauneuf-du-Pape Rouge', \"Cavalier de la Méditerranée Merlot IGP Pays d'Oc\", 'Dom Pérignon Vintage Rosé, in individual Gift Box']\n",
      "url_product: 10\n",
      "['https://www.i-d-s.com/dubai/chateau-du-grand-plantier-caupos-loupiac-blanc-fr2592.html', 'https://www.i-d-s.com/dubai/domaine-de-la-combe-muscadet-sevre-et-maine-sur-lie-vieilles-vignes-fr1089.html', 'https://www.i-d-s.com/dubai/jean-max-roger-menetou-salon-cuv-e-le-charnay-fr1091.html', 'https://www.i-d-s.com/dubai/domaine-cailbourdin-pouilly-fum-cuv-e-de-boisfleury-fr1093.html', 'https://www.i-d-s.com/dubai/baron-de-ladoucette-pouilly-fum-fr1095.html', 'https://www.i-d-s.com/dubai/pierre-sourdais-chinon-tradition-fr1099.html', 'https://www.i-d-s.com/dubai/chante-cigale-ch-teauneuf-du-pape-blanc-fr1102.html', 'https://www.i-d-s.com/dubai/chateau-de-vaudieu-grand-vin-ch-teauneuf-du-pape-rouge-fr1113.html', 'https://www.i-d-s.com/dubai/cavalier-de-la-m-diterran-e-merlot-igp-pays-d-oc-fr2597.html', 'https://www.i-d-s.com/dubai/dom-p-rignon-vintage-ros-in-individual-gift-box-cp1015.html']\n",
      "prices: 10\n",
      "reduced prices: 10\n",
      "['17.65', '12.60', '15.85', '32.40', '52.35', '14.25', '34.80', '50.75', '10.00', '552.90']\n",
      "https://www.i-d-s.com/dubai/wine/wines-by-country/france.html?p=19\n"
     ]
    },
    {
     "name": "stderr",
     "output_type": "stream",
     "text": [
      "/var/folders/9z/sjrbpv9j1996t3_4wv3ry65c0000gn/T/ipykernel_31041/3340895757.py:83: FutureWarning: The frame.append method is deprecated and will be removed from pandas in a future version. Use pandas.concat instead.\n",
      "  df_aggregated=df_aggregated.append(df)\n"
     ]
    },
    {
     "name": "stdout",
     "output_type": "stream",
     "text": [
      "name: 0\n",
      "[]\n",
      "url_product: 0\n",
      "[]\n",
      "prices: 0\n",
      "reduced prices: 0\n",
      "[]\n",
      "---------------\n"
     ]
    },
    {
     "name": "stderr",
     "output_type": "stream",
     "text": [
      "/var/folders/9z/sjrbpv9j1996t3_4wv3ry65c0000gn/T/ipykernel_31041/3340895757.py:83: FutureWarning: The frame.append method is deprecated and will be removed from pandas in a future version. Use pandas.concat instead.\n",
      "  df_aggregated=df_aggregated.append(df)\n"
     ]
    },
    {
     "name": "stdout",
     "output_type": "stream",
     "text": [
      "argentina\n",
      "https://www.i-d-s.com/dubai/wine/wines-by-country/argentina.html?p=1\n",
      "name: 12\n",
      "['Pablo y Walter Malbec', 'Kaiken Clásico, Mendoza Cabernet Sauvignon', 'Catena Zapata Argentino Malbec', 'Catena Alta Chardonnay', 'Catena Alta Cabernet Sauvignon', 'Argento Malbec', 'Argento Shiraz', 'Argento Sauvignon Blanc', 'Argento Pinot Grigio', 'Argento Chardonnay', 'Bodega Norton Finca la Colonia Torrontes', 'Bodega Norton Privada Family Blend']\n",
      "url_product: 12\n",
      "['https://www.i-d-s.com/dubai/pablo-y-walter-malbec-ag1011.html', 'https://www.i-d-s.com/dubai/kaiken-cl-sico-mendoza-cabernet-sauvignon-ag1010.html', 'https://www.i-d-s.com/dubai/catena-zapata-argentino-malbec-ag4032.html', 'https://www.i-d-s.com/dubai/catena-alta-chardonnay-ag4030.html', 'https://www.i-d-s.com/dubai/catena-alta-cabernet-sauvignon-ag4031.html', 'https://www.i-d-s.com/dubai/argento-malbec-ag1007.html', 'https://www.i-d-s.com/dubai/argento-shiraz-ag1006.html', 'https://www.i-d-s.com/dubai/argento-sauvignon-blanc-ag1000.html', 'https://www.i-d-s.com/dubai/argento-pinot-grigio-ag1001.html', 'https://www.i-d-s.com/dubai/argento-chardonnay-ag1002.html', 'https://www.i-d-s.com/dubai/bodega-norton-finca-la-colonia-torrontes-ag1003.html', 'https://www.i-d-s.com/dubai/bodega-norton-privada-family-blend-ag1014.html']\n",
      "prices: 12\n",
      "reduced prices: 12\n",
      "['10.15', '10.60', '101.20', '29.95', '33.75', '8.95', '7.95', '7.70', '7.55', '7.35', '7.45', '23.10']\n",
      "https://www.i-d-s.com/dubai/wine/wines-by-country/argentina.html?p=2\n"
     ]
    },
    {
     "name": "stderr",
     "output_type": "stream",
     "text": [
      "/var/folders/9z/sjrbpv9j1996t3_4wv3ry65c0000gn/T/ipykernel_31041/3340895757.py:83: FutureWarning: The frame.append method is deprecated and will be removed from pandas in a future version. Use pandas.concat instead.\n",
      "  df_aggregated=df_aggregated.append(df)\n"
     ]
    },
    {
     "name": "stdout",
     "output_type": "stream",
     "text": [
      "name: 2\n",
      "['Catena Appellation Tupungato Chardonnay', 'Chandon Garden Spritz Sparkling Wine']\n",
      "url_product: 2\n",
      "['https://www.i-d-s.com/dubai/catena-appellation-tupungato-chardonnay-ag4027.html', 'https://www.i-d-s.com/dubai/chandon-garden-spritz-sparkling-wine-sw1072.html']\n",
      "prices: 2\n",
      "reduced prices: 2\n",
      "['19.10', '27.05']\n",
      "https://www.i-d-s.com/dubai/wine/wines-by-country/argentina.html?p=3\n"
     ]
    },
    {
     "name": "stderr",
     "output_type": "stream",
     "text": [
      "/var/folders/9z/sjrbpv9j1996t3_4wv3ry65c0000gn/T/ipykernel_31041/3340895757.py:83: FutureWarning: The frame.append method is deprecated and will be removed from pandas in a future version. Use pandas.concat instead.\n",
      "  df_aggregated=df_aggregated.append(df)\n"
     ]
    },
    {
     "name": "stdout",
     "output_type": "stream",
     "text": [
      "name: 0\n",
      "[]\n",
      "url_product: 0\n",
      "[]\n",
      "prices: 0\n",
      "reduced prices: 0\n",
      "[]\n"
     ]
    },
    {
     "name": "stderr",
     "output_type": "stream",
     "text": [
      "/var/folders/9z/sjrbpv9j1996t3_4wv3ry65c0000gn/T/ipykernel_31041/3340895757.py:83: FutureWarning: The frame.append method is deprecated and will be removed from pandas in a future version. Use pandas.concat instead.\n",
      "  df_aggregated=df_aggregated.append(df)\n"
     ]
    },
    {
     "name": "stdout",
     "output_type": "stream",
     "text": [
      "---------------\n",
      "australia\n",
      "https://www.i-d-s.com/dubai/wine/wines-by-country/australia.html?p=1\n",
      "name: 12\n",
      "['Fishbone Blue Label Shiraz ', 'Fishbone Black Range Sauvignon Blanc', '16 Stops, Chardonnay', '16 Stops, Shiraz', 'Penfolds Bin 389 Cabernet/Shiraz, 2019', 'Penfolds Bin 2 Shiraz Mataro&nbsp; ', 'Innocent Bystander Yarra Valley Pinot Gris', 'Innocent Bystander Yarra Valley Chardonnay', \"Elderton 'Ashmead' Single Vineyard, Cabernet Sauvignon\", \"Elderton 'Command' Single Vineyard, Shiraz\", 'Little Ripples Shiraz', 'Little Ripples Cabernet Sauvignon']\n",
      "url_product: 12\n",
      "['https://www.i-d-s.com/dubai/fishbone-blue-label-shiraz-au1164.html', 'https://www.i-d-s.com/dubai/fishbone-black-range-sauvignon-blanc-au1918.html', 'https://www.i-d-s.com/dubai/16-stops-chardonnay-au4074.html', 'https://www.i-d-s.com/dubai/16-stops-shiraz-au4072.html', 'https://www.i-d-s.com/dubai/penfolds-bin-389-cabernet-shiraz-2019-au1138.html', 'https://www.i-d-s.com/dubai/penfolds-bin-2-shiraz-mataro-au2039.html', 'https://www.i-d-s.com/dubai/innocent-bystander-yarra-valley-pinot-gris-au4042.html', 'https://www.i-d-s.com/dubai/innocent-bystander-yarra-valley-chardonnay-au4043.html', 'https://www.i-d-s.com/dubai/elderton-ashmead-single-vineyard-cabernet-sauvignon-au1116.html', 'https://www.i-d-s.com/dubai/elderton-command-single-vineyard-shiraz-au1115.html', 'https://www.i-d-s.com/dubai/little-ripples-shiraz-au4078.html', 'https://www.i-d-s.com/dubai/little-ripples-cabernet-sauvignon-au4077.html']\n",
      "prices: 12\n",
      "reduced prices: 12\n",
      "['16.00', '20.15', '9.70', '9.85', '84.35', '30.10', '15.60', '19.70', '54.50', '67.45', '16.60', '16.60']\n",
      "https://www.i-d-s.com/dubai/wine/wines-by-country/australia.html?p=2\n"
     ]
    },
    {
     "name": "stderr",
     "output_type": "stream",
     "text": [
      "/var/folders/9z/sjrbpv9j1996t3_4wv3ry65c0000gn/T/ipykernel_31041/3340895757.py:83: FutureWarning: The frame.append method is deprecated and will be removed from pandas in a future version. Use pandas.concat instead.\n",
      "  df_aggregated=df_aggregated.append(df)\n"
     ]
    },
    {
     "name": "stdout",
     "output_type": "stream",
     "text": [
      "name: 12\n",
      "['Fishbone, Margaret River Black Range Shiraz', 'Fishbone Cabernet Shiraz', 'Shaw+Smith Adelaide Hills Shiraz', 'Elderton Estate Family Vineyards, Barossa Shiraz', 'Elderton Estate Family Vineyards, Barossa Cabernet Sauvignon', 'Elderton Estate Family Vineyards, Eden Valley Riesling', 'Elderton Estate Family Vineyards, Eden Valley Chardonnay', 'Little Ripples Chardonnay', 'Little Ripples Rosé', 'Little Ripples Sauvignon Blanc', 'Small Victories Rosé', 'Small Victories Pinot Gris']\n",
      "url_product: 12\n",
      "['https://www.i-d-s.com/dubai/fishbone-margaret-river-black-range-shiraz-au1916.html', 'https://www.i-d-s.com/dubai/fishbone-cabernet-shiraz-au1052.html', 'https://www.i-d-s.com/dubai/shaw-smith-adelaide-hills-shiraz-au4039.html', 'https://www.i-d-s.com/dubai/elderton-estate-family-vineyards-barossa-shiraz-au1111.html', 'https://www.i-d-s.com/dubai/elderton-estate-family-vineyards-barossa-cabernet-sauvignon-au1112.html', 'https://www.i-d-s.com/dubai/elderton-estate-family-vineyards-eden-valley-riesling-au1114.html', 'https://www.i-d-s.com/dubai/elderton-estate-family-vineyards-eden-valley-chardonnay-au1113.html', 'https://www.i-d-s.com/dubai/little-ripples-chardonnay-au4080.html', 'https://www.i-d-s.com/dubai/little-ripples-ros-au4081.html', 'https://www.i-d-s.com/dubai/little-ripples-sauvignon-blanc-au4079.html', 'https://www.i-d-s.com/dubai/small-victories-ros-au1117.html', 'https://www.i-d-s.com/dubai/small-victories-pinot-gris-au1110.html']\n",
      "prices: 12\n",
      "reduced prices: 12\n",
      "['20.15', '13.35', '38.70', '18.00', '18.00', '14.55', '14.55', '15.00', '14.95', '14.95', '14.55', '14.55']\n",
      "https://www.i-d-s.com/dubai/wine/wines-by-country/australia.html?p=3\n"
     ]
    },
    {
     "name": "stderr",
     "output_type": "stream",
     "text": [
      "/var/folders/9z/sjrbpv9j1996t3_4wv3ry65c0000gn/T/ipykernel_31041/3340895757.py:83: FutureWarning: The frame.append method is deprecated and will be removed from pandas in a future version. Use pandas.concat instead.\n",
      "  df_aggregated=df_aggregated.append(df)\n"
     ]
    },
    {
     "name": "stdout",
     "output_type": "stream",
     "text": [
      "name: 12\n",
      "['Small Victories Shiraz', 'Small Victories Sangiovese', 'Keith Tulloch Chardonnay', 'Keith Tulloch Kester Shiraz ', 'Keith Tulloch Shiraz', 'Keith Tulloch Semillon ', 'Songlines Grenache ', 'Rag &amp; Bone Riesling  ', 'The Black Craft Shiraz  ', 'Wishbone Shiraz Cabernet  ', 'Soldiers Block Malbec', 'Grant Burge Wines of Distinction The Holy Trinity Shiraz Grenache Mourvedre']\n",
      "url_product: 12\n",
      "['https://www.i-d-s.com/dubai/small-victories-shiraz-au1109.html', 'https://www.i-d-s.com/dubai/small-victories-sangiovese-au1108.html', 'https://www.i-d-s.com/dubai/keith-tulloch-chardonnay-au1102.html', 'https://www.i-d-s.com/dubai/keith-tulloch-kester-shiraz-au1101.html', 'https://www.i-d-s.com/dubai/keith-tulloch-shiraz-au1100.html', 'https://www.i-d-s.com/dubai/keith-tulloch-semillon-au1099.html', 'https://www.i-d-s.com/dubai/songlines-grenache-au1098.html', 'https://www.i-d-s.com/dubai/rag-bone-riesling-au1107.html', 'https://www.i-d-s.com/dubai/the-black-craft-shiraz-au1106.html', 'https://www.i-d-s.com/dubai/wishbone-shiraz-cabernet-au1105.html', 'https://www.i-d-s.com/dubai/soldiers-block-malbec-au1104.html', 'https://www.i-d-s.com/dubai/grant-burge-wines-of-distinction-the-holy-trinity-shiraz-grenache-mourvedre-au1085.html']\n",
      "prices: 12\n",
      "reduced prices: 12\n",
      "['14.55', '14.55', '18.70', '33.85', '19.35', '18.85', '15.20', '14.85', '14.25', '9.50', '7.80', '24.85']\n",
      "https://www.i-d-s.com/dubai/wine/wines-by-country/australia.html?p=4\n"
     ]
    },
    {
     "name": "stderr",
     "output_type": "stream",
     "text": [
      "/var/folders/9z/sjrbpv9j1996t3_4wv3ry65c0000gn/T/ipykernel_31041/3340895757.py:83: FutureWarning: The frame.append method is deprecated and will be removed from pandas in a future version. Use pandas.concat instead.\n",
      "  df_aggregated=df_aggregated.append(df)\n"
     ]
    },
    {
     "name": "stdout",
     "output_type": "stream",
     "text": [
      "name: 12\n",
      "['Petaluma White Label Cabernet Sauvignon Coonawarra', 'St Hallett Blackwell Shiraz', 'St Hallett Faith Shiraz', 'St Hallett Eden Valley Riesling', 'St Hallett Gamekeepers Grenache Shiraz Touriga', 'Grant Burge Wines of Distinction Corryton Park Cabernet Sauvignon', 'Grant Burge Wines of Distinction Balthasar Shiraz', 'Grant Burge Wines of Distinction Filsell Shiraz', 'Petaluma White Label Sauvignon Blanc Adelaide Hills', 'Petaluma White Label Chardonnay Adelaide Hills', 'Xanadu Circa 77 Cabernet. Sauvignon', 'Xanadu Circa 77 Chardonnay']\n",
      "url_product: 12\n",
      "['https://www.i-d-s.com/dubai/petaluma-white-label-cabernet-sauvignon-coonawarra-au1091.html', 'https://www.i-d-s.com/dubai/st-hallett-blackwell-shiraz-au1090.html', 'https://www.i-d-s.com/dubai/st-hallett-faith-shiraz-au1089.html', 'https://www.i-d-s.com/dubai/st-hallett-eden-valley-riesling-au1088.html', 'https://www.i-d-s.com/dubai/st-hallett-gamekeepers-grenache-shiraz-touriga-au1087.html', 'https://www.i-d-s.com/dubai/grant-burge-wines-of-distinction-corryton-park-cabernet-sauvignon-au1086.html', 'https://www.i-d-s.com/dubai/grant-burge-wines-of-distinction-balthasar-shiraz-au1084.html', 'https://www.i-d-s.com/dubai/grant-burge-wines-of-distinction-filsell-shiraz-au1083.html', 'https://www.i-d-s.com/dubai/petaluma-white-label-sauvignon-blanc-adelaide-hills-au1093.html', 'https://www.i-d-s.com/dubai/petaluma-white-label-chardonnay-adelaide-hills-au1092.html', 'https://www.i-d-s.com/dubai/xanadu-circa-77-cabernet-sauvignon-au1095.html', 'https://www.i-d-s.com/dubai/xanadu-circa-77-chardonnay-au1094.html']\n",
      "prices: 12\n",
      "reduced prices: 12\n",
      "['19.60', '28.65', '17.40', '18.85', '19.15', '29.65', '24.85', '24.85', '29.55', '18.50', '9.75', '9.75']\n",
      "https://www.i-d-s.com/dubai/wine/wines-by-country/australia.html?p=5\n"
     ]
    },
    {
     "name": "stderr",
     "output_type": "stream",
     "text": [
      "/var/folders/9z/sjrbpv9j1996t3_4wv3ry65c0000gn/T/ipykernel_31041/3340895757.py:83: FutureWarning: The frame.append method is deprecated and will be removed from pandas in a future version. Use pandas.concat instead.\n",
      "  df_aggregated=df_aggregated.append(df)\n"
     ]
    },
    {
     "name": "stdout",
     "output_type": "stream",
     "text": [
      "name: 12\n",
      "['Yellow Tail Jammy Red Roo', '`Red Moon` Mangan Vineyard Wilyabrup Malbec/Petit Verdot/Merlot, Cullen', '`Mangan East Block` Margaret River, Cullen', 'Mount Horrocks `Watervale` Clare Valley Semillon', 'Cullen `Mangan Vineyard` Sauvignon Blanc/Semillon, Margaret River', 'Dawson James Chardonnay', \"Giant Steps `Primavera Vineyard' Yarra Valley Pinot Noir\", 'Three Lions, Great Southern Sauvignon Blanc', 'Three Lions, Great Southern Chardonnay', 'Plantagenet, Angevin Mount Barker Riesling', 'Three Lions Great Southern Cabernet/Merlot', 'Plantagenet `Aquitaine` Mount Barker Cabernet Sauvignon']\n",
      "url_product: 12\n",
      "['https://www.i-d-s.com/dubai/yellow-tail-jammy-red-roo-au1078.html', 'https://www.i-d-s.com/dubai/red-moon-mangan-vineyard-wilyabrup-malbec-petit-verdot-merlot-cullen-au4002.html', 'https://www.i-d-s.com/dubai/mangan-east-block-margaret-river-cullen-au4003.html', 'https://www.i-d-s.com/dubai/mount-harrocks-watervale-clare-valley-semillon-au4019.html', 'https://www.i-d-s.com/dubai/cullen-mangan-vineyard-sauvignon-blanc-semillon-margaret-river-au4001.html', 'https://www.i-d-s.com/dubai/dawson-james-chardonnay-au4069.html', 'https://www.i-d-s.com/dubai/giant-steps-primavera-vineyard-yarra-valley-pinot-noir-au4045.html', 'https://www.i-d-s.com/dubai/three-lions-great-southern-sauvignon-blanc-au4004.html', 'https://www.i-d-s.com/dubai/three-lions-great-southern-chardonnay-au4005.html', 'https://www.i-d-s.com/dubai/plantagenet-angevin-mount-barker-riesling-au3002.html', 'https://www.i-d-s.com/dubai/three-lions-great-southern-cabernet-merlot-au4006.html', 'https://www.i-d-s.com/dubai/plantagenet-aquitaine-mount-barker-cabernet-sauvignon-au4007.html']\n",
      "prices: 12\n",
      "reduced prices: 12\n",
      "['4.80', '33.00', '51.20', '29.60', '27.95', '68.85', '47.90', '15.20', '15.30', '22.30', '16.60', '34.40']\n",
      "https://www.i-d-s.com/dubai/wine/wines-by-country/australia.html?p=6\n"
     ]
    },
    {
     "name": "stderr",
     "output_type": "stream",
     "text": [
      "/var/folders/9z/sjrbpv9j1996t3_4wv3ry65c0000gn/T/ipykernel_31041/3340895757.py:83: FutureWarning: The frame.append method is deprecated and will be removed from pandas in a future version. Use pandas.concat instead.\n",
      "  df_aggregated=df_aggregated.append(df)\n"
     ]
    },
    {
     "name": "stdout",
     "output_type": "stream",
     "text": [
      "name: 12\n",
      "['Dandelion Vineyards `Lionheart of the Barossa` Shiraz', \"Peter Lehmann `The Barossan' Grenache\", 'Charles Melton, Rose Of Virginia Barossa Valley', 'Mount Horrocks Clare Valley Shiraz', 'Dawson James Pinot Noir', 'Mount Langi Ghiran, Billi Billi Pinot Gris', \"d'Arenberg The Stump Jump White\", \"d'Arenberg The Olive Grove Chardonnay\", 'Yering Station Village Chardonnay', 'Yellow Tail Chardonnay', \"d'Arenberg The Hermit Crab Marsanne/Viognier\", 'Peter Lehmann Masters, Margaret Semillon, Barossa Valley']\n",
      "url_product: 12\n",
      "['https://www.i-d-s.com/dubai/dandelion-vineyards-lionheart-of-the-barossa-shiraz-au3006.html', 'https://www.i-d-s.com/dubai/peter-lehmann-the-barossan-grenache-au4034.html', 'https://www.i-d-s.com/dubai/charles-melton-rose-of-virginia-barossa-valley-au1068.html', 'https://www.i-d-s.com/dubai/mount-horrocks-clare-valley-shiraz-au4023.html', 'https://www.i-d-s.com/dubai/dawson-james-pinot-noir-au4070.html', 'https://www.i-d-s.com/dubai/mount-langi-ghiran-billi-billi-pinot-grigio-au1012.html', 'https://www.i-d-s.com/dubai/d-arenberg-the-stump-jump-white-au1000.html', 'https://www.i-d-s.com/dubai/d-arenberg-the-olive-grove-chardonnay-au1001.html', 'https://www.i-d-s.com/dubai/yering-station-village-chardonnay-au1014.html', 'https://www.i-d-s.com/dubai/yellow-tail-chardonnay-au1019.html', 'https://www.i-d-s.com/dubai/d-arenberg-the-hermit-crab-marsanne-viognier-au1002.html', 'https://www.i-d-s.com/dubai/peter-lehmann-masters-margaret-semillon-barossa-valley-au1004.html']\n",
      "prices: 12\n",
      "reduced prices: 12\n",
      "['14.45', '21.65', '32.25', '42.70', '86.80', '9.20', '10.95', '15.45', '13.50', '8.15', '15.45', '23.95']\n",
      "https://www.i-d-s.com/dubai/wine/wines-by-country/australia.html?p=7\n"
     ]
    },
    {
     "name": "stderr",
     "output_type": "stream",
     "text": [
      "/var/folders/9z/sjrbpv9j1996t3_4wv3ry65c0000gn/T/ipykernel_31041/3340895757.py:83: FutureWarning: The frame.append method is deprecated and will be removed from pandas in a future version. Use pandas.concat instead.\n",
      "  df_aggregated=df_aggregated.append(df)\n"
     ]
    },
    {
     "name": "stdout",
     "output_type": "stream",
     "text": [
      "name: 12\n",
      "['Peter Lehmann Hill &amp; Valley Chardonnay, Eden Valley', 'Shaw + Smith, Sauvignon Blanc , Adelaide Hills', 'Shaw + Smith \"M3\", Chardonnay, Adelaide Hills', \"Jacob's Creek Chardonnay\", 'Cape Mentelle Semillon/Sauvignon Blanc', 'Stella Bella Semillon Sauvignon Blanc', 'Yellow Tail Pinot Grigio', 'Yellow Tail  Rosé', 'Mount Langhi Ghiran Billi Billi Shiraz', 'Mount Langi Cliff Edge Shiraz', 'Clonakilla \"Hilltops\", Shiraz', 'Yering Station Village Shiraz']\n",
      "url_product: 12\n",
      "['https://www.i-d-s.com/dubai/peter-lehmann-hill-valley-chardonnay-eden-valley-au1006.html', 'https://www.i-d-s.com/dubai/shaw-smith-sauvignon-blanc-adelaide-hills-au1008.html', 'https://www.i-d-s.com/dubai/shaw-smith-m3-chardonnay-adelaide-hills-au1009.html', 'https://www.i-d-s.com/dubai/jacob-s-creek-chardonnay-au1010.html', 'https://www.i-d-s.com/dubai/cape-mentelle-semillon-sauvignon-blanc-au1015.html', 'https://www.i-d-s.com/dubai/stella-bella-semillon-sauvignon-blanc-au1016.html', 'https://www.i-d-s.com/dubai/yellow-tail-pinot-grigio-au1018.html', 'https://www.i-d-s.com/dubai/yellow-tail-rose-au1050.html', 'https://www.i-d-s.com/dubai/mount-langhi-ghiran-billi-billi-shiraz-au1022.html', 'https://www.i-d-s.com/dubai/mount-langhi-cliff-edge-shiraz-au1023.html', 'https://www.i-d-s.com/dubai/clonakilla-hilltops-shiraz-au1025.html', 'https://www.i-d-s.com/dubai/yering-station-village-shiraz-au1026.html']\n",
      "prices: 12\n",
      "reduced prices: 12\n",
      "['16.55', '17.80', '38.70', '7.95', '16.75', '23.00', '8.15', '8.15', '9.35', '17.75', '33.35', '13.70']\n",
      "https://www.i-d-s.com/dubai/wine/wines-by-country/australia.html?p=8\n"
     ]
    },
    {
     "name": "stderr",
     "output_type": "stream",
     "text": [
      "/var/folders/9z/sjrbpv9j1996t3_4wv3ry65c0000gn/T/ipykernel_31041/3340895757.py:83: FutureWarning: The frame.append method is deprecated and will be removed from pandas in a future version. Use pandas.concat instead.\n",
      "  df_aggregated=df_aggregated.append(df)\n"
     ]
    },
    {
     "name": "stdout",
     "output_type": "stream",
     "text": [
      "name: 12\n",
      "['Yering Station Village Rosé', \"Lindeman's Bin 50 Shiraz\", 'Yellow Tail Shiraz', 'Yellow Tail Merlot', \"d'Arenberg The Stump Jump Red\", \"d'Arenberg The Footbolt Shiraz\", 'Wolf Blass Yellow Label Cabernet Sauvignon', 'Peter Lehmann, The Barossan Shiraz , Barossa Valley', 'Peter Lehmann Masters, 8 Songs Shiraz, Barossa Valley', 'Henschke Henry’s Seven` Shiraz/Grenache/Mataro/Viognier, Barossa', 'Wolf Blass Eagle Hawk Merlot', 'Penfolds Koonunga Hill Shiraz Cabernet Sauvignon']\n",
      "url_product: 12\n",
      "['https://www.i-d-s.com/dubai/yering-station-village-rose-au1027.html', 'https://www.i-d-s.com/dubai/lindeman-s-bin-50-shiraz-au1032.html', 'https://www.i-d-s.com/dubai/yellow-tail-shiraz-au1033.html', 'https://www.i-d-s.com/dubai/yellow-tail-merlot-au1034.html', 'https://www.i-d-s.com/dubai/d-arenberg-the-stump-jump-red-au1035.html', 'https://www.i-d-s.com/dubai/d-arenberg-the-footbolt-shiraz-au1036.html', 'https://www.i-d-s.com/dubai/wolf-blass-yellow-label-cabernet-sauvignon-au1037.html', 'https://www.i-d-s.com/dubai/peter-lehmann-the-barossan-shiraz-barossa-valley-au1038.html', 'https://www.i-d-s.com/dubai/peter-lehmann-masters-8-songs-shiraz-barossa-valley-au1039.html', 'https://www.i-d-s.com/dubai/henschke-henry-s-seven-shiraz-grenache-mataro-viognier-barossa-au1040.html', 'https://www.i-d-s.com/dubai/wolf-blass-eagle-hawk-merlot-au1041.html', 'https://www.i-d-s.com/dubai/penfolds-koonunga-hill-shiraz-cabernet-sauvignon-au1042.html']\n",
      "prices: 12\n",
      "reduced prices: 12\n",
      "['14.00', '7.70', '8.15', '8.15', '11.35', '18.05', '10.95', '20.65', '39.85', '34.05', '6.35', '12.50']\n",
      "https://www.i-d-s.com/dubai/wine/wines-by-country/australia.html?p=9\n"
     ]
    },
    {
     "name": "stderr",
     "output_type": "stream",
     "text": [
      "/var/folders/9z/sjrbpv9j1996t3_4wv3ry65c0000gn/T/ipykernel_31041/3340895757.py:83: FutureWarning: The frame.append method is deprecated and will be removed from pandas in a future version. Use pandas.concat instead.\n",
      "  df_aggregated=df_aggregated.append(df)\n"
     ]
    },
    {
     "name": "stdout",
     "output_type": "stream",
     "text": [
      "name: 9\n",
      "['Penfolds Bin 28 Kalimna Shiraz', \"Jacob's Creek Classic Shiraz Cabernet\", \"Jacob's Creek&nbsp;Classic Shiraz Rosé\", 'Parker Coonawarra Estate Shiraz', 'Parker Coonawarra Estate Cabernet Sauvignon', \"Parker Coonawarra Estate 'First Growth'\", \"Jacob's Creek Sparkling Chardonnay Pinot Noir\", 'Yellow Tail Bubbles Brut Rosé', \"Jacob's Creek Sparkling Rosé\"]\n",
      "url_product: 9\n",
      "['https://www.i-d-s.com/dubai/penfolds-bin-28-kalimna-shiraz-au1043.html', 'https://www.i-d-s.com/dubai/jacob-s-creek-classic-shiraz-cabernet-au1044.html', 'https://www.i-d-s.com/dubai/jacob-s-creek-classic-shiraz-ros-au1045.html', 'https://www.i-d-s.com/dubai/parker-coonawarra-estate-shiraz-au1046.html', 'https://www.i-d-s.com/dubai/parker-coonawarra-estate-cabernet-sauvignon-au1047.html', 'https://www.i-d-s.com/dubai/parker-coonawarra-estate-first-growth-au1048.html', 'https://www.i-d-s.com/dubai/jacob-s-creek-sparkling-chardonnay-pinot-noir-sw1027.html', 'https://www.i-d-s.com/dubai/yellow-tail-bubbles-brut-ros-sw1028.html', 'https://www.i-d-s.com/dubai/jacob-s-creek-sparkling-ros-sw1029.html']\n",
      "prices: 9\n",
      "reduced prices: 9\n",
      "['42.35', '8.15', '7.95', '13.10', '13.10', '52.85', '10.20', '9.60', '10.20']\n",
      "https://www.i-d-s.com/dubai/wine/wines-by-country/australia.html?p=10\n"
     ]
    },
    {
     "name": "stderr",
     "output_type": "stream",
     "text": [
      "/var/folders/9z/sjrbpv9j1996t3_4wv3ry65c0000gn/T/ipykernel_31041/3340895757.py:83: FutureWarning: The frame.append method is deprecated and will be removed from pandas in a future version. Use pandas.concat instead.\n",
      "  df_aggregated=df_aggregated.append(df)\n"
     ]
    },
    {
     "name": "stdout",
     "output_type": "stream",
     "text": [
      "name: 0\n",
      "[]\n",
      "url_product: 0\n",
      "[]\n",
      "prices: 0\n",
      "reduced prices: 0\n",
      "[]\n"
     ]
    },
    {
     "name": "stderr",
     "output_type": "stream",
     "text": [
      "/var/folders/9z/sjrbpv9j1996t3_4wv3ry65c0000gn/T/ipykernel_31041/3340895757.py:83: FutureWarning: The frame.append method is deprecated and will be removed from pandas in a future version. Use pandas.concat instead.\n",
      "  df_aggregated=df_aggregated.append(df)\n"
     ]
    },
    {
     "name": "stdout",
     "output_type": "stream",
     "text": [
      "---------------\n",
      "chile\n",
      "https://www.i-d-s.com/dubai/wine/wines-by-country/chile.html?p=1\n",
      "name: 12\n",
      "['Casa Silva Gran Terroir De Los Andes Angostura Chardonnay', 'Montes Alpha Syrah', 'Morandé, Chardonnay Gran Reserva', 'Sierra Grande Sauvignon Blanc', 'Cono Sur Bicicleta Chardonnay', 'Morandé Adventure, Vigno Carignan', 'Casa Silva, Cool Coast Pinot Noir', 'Casillero del Diablo, Chardonnay', 'Casillero del Diablo, Sauvignon Blanc', 'Cono Sur Bicicleta Cabernet Sauvignon', 'Casillero del Diablo Shiraz Rosé', 'Sierra Grande Cabernet Sauvignon']\n",
      "url_product: 12\n",
      "['https://www.i-d-s.com/dubai/casa-silva-gran-terroir-de-los-andes-angostura-chardonnay-ch4007.html', 'https://www.i-d-s.com/dubai/montes-alpha-syrah-ch4018.html', 'https://www.i-d-s.com/dubai/morand-chardonnay-gran-reserva-ch3000.html', 'https://www.i-d-s.com/dubai/sierra-grande-sauvignon-blanc-ch1000.html', 'https://www.i-d-s.com/dubai/cono-sur-bicicleta-chardonnay-ch1001.html', 'https://www.i-d-s.com/dubai/morand-adventure-vigno-carignan-ch1018.html', 'https://www.i-d-s.com/dubai/casa-silva-cool-coast-pinot-noir-ch1009.html', 'https://www.i-d-s.com/dubai/casillero-del-diablo-chardonnay-ch1010.html', 'https://www.i-d-s.com/dubai/casillero-del-diablo-sauvignon-blanc-ch1011.html', 'https://www.i-d-s.com/dubai/cono-sur-bicicleta-cabernet-sauvignon-ch1154.html', 'https://www.i-d-s.com/dubai/casillero-del-diablo-shiraz-ros-ch1012.html', 'https://www.i-d-s.com/dubai/sierra-grande-cabernet-sauvignon-ch1013.html']\n",
      "prices: 12\n",
      "reduced prices: 12\n",
      "['13.55', '13.95', '18.35', '6.70', '6.30', '29.50', '16.70', '8.30', '7.95', '6.10', '7.95', '7.20']\n",
      "https://www.i-d-s.com/dubai/wine/wines-by-country/chile.html?p=2\n"
     ]
    },
    {
     "name": "stderr",
     "output_type": "stream",
     "text": [
      "/var/folders/9z/sjrbpv9j1996t3_4wv3ry65c0000gn/T/ipykernel_31041/3340895757.py:83: FutureWarning: The frame.append method is deprecated and will be removed from pandas in a future version. Use pandas.concat instead.\n",
      "  df_aggregated=df_aggregated.append(df)\n"
     ]
    },
    {
     "name": "stdout",
     "output_type": "stream",
     "text": [
      "name: 5\n",
      "['Casillero del Diablo Carménère', 'Casillero Del Diablo, Cabernet Sauvignon', 'Sierra Grande Pinot Noir', 'Morandé, Cabernet Sauvignon Gran Reserva', 'Cono Sur Bicicleta Pinot Noir']\n",
      "url_product: 5\n",
      "['https://www.i-d-s.com/dubai/casillero-del-diablo-carm-n-re-ch1014.html', 'https://www.i-d-s.com/dubai/casillero-del-diablo-cabernet-sauvignon-ch1015.html', 'https://www.i-d-s.com/dubai/sierra-grande-pinot-noir-ch1017.html', 'https://www.i-d-s.com/dubai/morand-cabernet-sauvignon-gran-reserva-ch1019.html', 'https://www.i-d-s.com/dubai/cono-sur-bicicleta-pinot-noir-ch1156.html']\n",
      "prices: 5\n",
      "reduced prices: 5\n",
      "['7.75', '8.30', '7.20', '19.10', '6.30']\n",
      "https://www.i-d-s.com/dubai/wine/wines-by-country/chile.html?p=3\n"
     ]
    },
    {
     "name": "stderr",
     "output_type": "stream",
     "text": [
      "/var/folders/9z/sjrbpv9j1996t3_4wv3ry65c0000gn/T/ipykernel_31041/3340895757.py:83: FutureWarning: The frame.append method is deprecated and will be removed from pandas in a future version. Use pandas.concat instead.\n",
      "  df_aggregated=df_aggregated.append(df)\n"
     ]
    },
    {
     "name": "stdout",
     "output_type": "stream",
     "text": [
      "name: 0\n",
      "[]\n",
      "url_product: 0\n",
      "[]\n",
      "prices: 0\n",
      "reduced prices: 0\n",
      "[]\n",
      "---------------\n"
     ]
    },
    {
     "name": "stderr",
     "output_type": "stream",
     "text": [
      "/var/folders/9z/sjrbpv9j1996t3_4wv3ry65c0000gn/T/ipykernel_31041/3340895757.py:83: FutureWarning: The frame.append method is deprecated and will be removed from pandas in a future version. Use pandas.concat instead.\n",
      "  df_aggregated=df_aggregated.append(df)\n"
     ]
    },
    {
     "name": "stdout",
     "output_type": "stream",
     "text": [
      "new_zealand\n",
      "https://www.i-d-s.com/dubai/wine/wines-by-country/new-zealand.html?p=1\n",
      "name: 12\n",
      "['Trinity Hill `The Gimblett` Gimblett Gravels', 'Trinity Hill, Gimblett Gravels Syrah', 'Kim Crawford Pinot Noir', 'Kim Crawford Sauvignon Blanc', 'Ata Rangi Pinot Noir', \"Ata Rangi `Lismore' Pinot Gris\", 'MOKO Black Sauvignon Blanc', 'Oyster Bay Chardonnay', 'Oyster Bay Sauvignon Blanc', 'Villa Maria Private Bin East Coast Chardonnay', 'Cloudy Bay Sauvignon Blanc', 'Spy Valley Marlborough Sauvignon Blanc']\n",
      "url_product: 12\n",
      "['https://www.i-d-s.com/dubai/trinity-hill-the-gimblett-gimblett-gravels-nz4023.html', 'https://www.i-d-s.com/dubai/trinity-hill-gimblett-gravels-syrah-nz4024.html', 'https://www.i-d-s.com/dubai/kim-crawford-pinot-noir-nz2009.html', 'https://www.i-d-s.com/dubai/kim-crawford-sauvignon-blanc-nz3002.html', 'https://www.i-d-s.com/dubai/ata-rangi-pinot-noir-nz4018.html', 'https://www.i-d-s.com/dubai/ata-rangi-lismore-pinot-gris-nz4015.html', 'https://www.i-d-s.com/dubai/moko-black-sauvignon-blanc-nz1000.html', 'https://www.i-d-s.com/dubai/oyster-bay-chardonnay-nz1004.html', 'https://www.i-d-s.com/dubai/oyster-bay-sauvignon-blanc-nz1005.html', 'https://www.i-d-s.com/dubai/villa-maria-private-bin-east-coast-chardonnay-nz1007.html', 'https://www.i-d-s.com/dubai/cloudy-bay-sauvignon-blanc-nz1006.html', 'https://www.i-d-s.com/dubai/spy-valley-marlborough-sauvignon-blanc-nz1025.html']\n",
      "prices: 12\n",
      "reduced prices: 12\n",
      "['29.40', '29.60', '26.10', '17.05', '87.15', '32.90', '12.90', '13.15', '13.15', '14.90', '32.30', '20.75']\n",
      "https://www.i-d-s.com/dubai/wine/wines-by-country/new-zealand.html?p=2\n"
     ]
    },
    {
     "name": "stderr",
     "output_type": "stream",
     "text": [
      "/var/folders/9z/sjrbpv9j1996t3_4wv3ry65c0000gn/T/ipykernel_31041/3340895757.py:83: FutureWarning: The frame.append method is deprecated and will be removed from pandas in a future version. Use pandas.concat instead.\n",
      "  df_aggregated=df_aggregated.append(df)\n"
     ]
    },
    {
     "name": "stdout",
     "output_type": "stream",
     "text": [
      "name: 12\n",
      "['Loveblock Marlborough Sauvignon Blanc ', 'Framingham Marlborough Classic Riesling', 'Framingham Marlborough Pinot Gris', 'Tinpot Hut Pinot Gris', 'Tinpot Hut `McKee Vineyard` Grüner Veltliner', 'Greywacke Pinot Gris', 'Tinpot Hut Pinot Noir', \"Ata Rangi `Crimson' Pinot Noir\", 'Burn Cottage Vineyard, Pinot Noir Central Otago', 'Ata Rangi, `Te Wa` Martinborough Sauvignon Blanc', 'Trinity Hill, Hawkes Bay Chardonnay', 'Greywacke Marlborough Riesling']\n",
      "url_product: 12\n",
      "['https://www.i-d-s.com/dubai/loveblock-marlborough-sauvignon-blanc-nz1034.html', 'https://www.i-d-s.com/dubai/framingham-marlborough-classic-riesling-nz4005.html', 'https://www.i-d-s.com/dubai/framingham-marlborough-pinot-gris-nz4006.html', 'https://www.i-d-s.com/dubai/tinpot-hut-pinot-gris-nz4002.html', 'https://www.i-d-s.com/dubai/tinpot-hut-mckee-vineyard-gr-ner-veltliner-nz4004.html', 'https://www.i-d-s.com/dubai/greywacke-pinot-gris-nz4009.html', 'https://www.i-d-s.com/dubai/tinpot-hut-pinot-noir-nz4014.html', 'https://www.i-d-s.com/dubai/ata-rangi-crimson-pinot-noir-nz4016.html', 'https://www.i-d-s.com/dubai/burn-cottage-vineyard-pinot-noir-central-otago-nz4025.html', 'https://www.i-d-s.com/dubai/ata-rangi-raranga-sauvignon-blanc-nz3003.html', 'https://www.i-d-s.com/dubai/trinity-hill-hawkes-bay-chardonnay-nz1030.html', 'https://www.i-d-s.com/dubai/greywacke-marlborough-riesling-nz1031.html']\n",
      "prices: 12\n",
      "reduced prices: 12\n",
      "['20.70', '21.85', '20.75', '16.20', '19.75', '28.20', '22.85', '35.50', '65.65', '23.70', '19.75', '27.90']\n",
      "https://www.i-d-s.com/dubai/wine/wines-by-country/new-zealand.html?p=3\n"
     ]
    },
    {
     "name": "stderr",
     "output_type": "stream",
     "text": [
      "/var/folders/9z/sjrbpv9j1996t3_4wv3ry65c0000gn/T/ipykernel_31041/3340895757.py:83: FutureWarning: The frame.append method is deprecated and will be removed from pandas in a future version. Use pandas.concat instead.\n",
      "  df_aggregated=df_aggregated.append(df)\n"
     ]
    },
    {
     "name": "stdout",
     "output_type": "stream",
     "text": [
      "name: 10\n",
      "['Matua Valley Sauvignon Blanc', 'Sileni Estates ‘The Lodge’ Grand Reserve Chardonnay, Hawke’s Bay', 'The Trinity, Trinity Hill, Hawkes Bay', 'Villa Maria Private Bin Dry Riesling', 'Villa Maria Private Bin Sauvignon Blanc', 'MOKO Black Pinot Noir', 'Matua Valley Pinot Noir', 'Oyster Bay Merlot', 'Villa Maria Private Bin Pinot Noir', 'Oyster Bay Sparkling Cuvée Brut']\n",
      "url_product: 10\n",
      "['https://www.i-d-s.com/dubai/matua-valley-sauvignon-blanc-nz1001.html', 'https://www.i-d-s.com/dubai/sileni-estates-the-lodge-grand-reserve-chardonnay-hawke-s-bay-nz1002.html', 'https://www.i-d-s.com/dubai/the-trinity-trinity-hill-hawkes-bay-nz1003.html', 'https://www.i-d-s.com/dubai/villa-maria-private-bin-dry-riesling-nz1008.html', 'https://www.i-d-s.com/dubai/villa-maria-private-bin-sauvignon-blanc-nz1009.html', 'https://www.i-d-s.com/dubai/moko-black-pinot-noir-nz1012.html', 'https://www.i-d-s.com/dubai/matua-valley-pinot-noir-nz1013.html', 'https://www.i-d-s.com/dubai/oyster-bay-merlot-nz1014.html', 'https://www.i-d-s.com/dubai/villa-maria-private-bin-pinot-noir-nz1015.html', 'https://www.i-d-s.com/dubai/oyster-bay-sparkling-cuv-e-brut-sw1030.html']\n",
      "prices: 10\n",
      "reduced prices: 10\n",
      "['15.65', '20.10', '20.15', '14.90', '16.00', '15.75', '15.20', '13.15', '19.75', '14.80']\n",
      "https://www.i-d-s.com/dubai/wine/wines-by-country/new-zealand.html?p=4\n"
     ]
    },
    {
     "name": "stderr",
     "output_type": "stream",
     "text": [
      "/var/folders/9z/sjrbpv9j1996t3_4wv3ry65c0000gn/T/ipykernel_31041/3340895757.py:83: FutureWarning: The frame.append method is deprecated and will be removed from pandas in a future version. Use pandas.concat instead.\n",
      "  df_aggregated=df_aggregated.append(df)\n"
     ]
    },
    {
     "name": "stdout",
     "output_type": "stream",
     "text": [
      "name: 0\n",
      "[]\n",
      "url_product: 0\n",
      "[]\n",
      "prices: 0\n",
      "reduced prices: 0\n",
      "[]\n"
     ]
    },
    {
     "name": "stderr",
     "output_type": "stream",
     "text": [
      "/var/folders/9z/sjrbpv9j1996t3_4wv3ry65c0000gn/T/ipykernel_31041/3340895757.py:83: FutureWarning: The frame.append method is deprecated and will be removed from pandas in a future version. Use pandas.concat instead.\n",
      "  df_aggregated=df_aggregated.append(df)\n"
     ]
    },
    {
     "name": "stdout",
     "output_type": "stream",
     "text": [
      "---------------\n",
      "south_africa\n",
      "https://www.i-d-s.com/dubai/wine/wines-by-country/south-africa.html?p=1\n",
      "name: 12\n",
      "['Nederburg Private Collection Sauvignon Blanc', 'Mooiplaas The Coco Merlot', \"Mooiplaas 'The Bean' Pinotage\", 'Fleur Du Cap, Essence Du Cap Sauvignon Blanc', 'KWV Chardonnay', 'Fleur Du Cap, Essence Du Cap Pinotage', 'Fleur Du Cap, Essence Du Cap Cabernet Sauvignon', 'Spice Route Chenin Blanc, Swartland', 'Front Row Shiraz/Mourvèdre/Viognier, Swartland', \"Babylon's Peak Shiraz-Mourvedre-Grenache SMG\", 'Fairview `The Beacon`Shiraz, Swartland', 'Coterie Cabernet Franc Malbec']\n",
      "url_product: 12\n",
      "['https://www.i-d-s.com/dubai/nederburg-private-collection-sauvignon-blanc-za1005.html', 'https://www.i-d-s.com/dubai/mooiplaas-the-coco-merlot-za1015.html', 'https://www.i-d-s.com/dubai/mooiplaas-the-bean-pinotage-za1014.html', 'https://www.i-d-s.com/dubai/fleur-du-cap-essence-du-cap-sauvignon-blanc-za1002.html', 'https://www.i-d-s.com/dubai/kwv-chardonnay-za1010.html', 'https://www.i-d-s.com/dubai/fleur-du-cap-essence-du-cap-pinotage-za1021.html', 'https://www.i-d-s.com/dubai/fleur-du-cap-essence-du-cap-cabernet-sauvignon-za1022.html', 'https://www.i-d-s.com/dubai/spice-route-chenin-blanc-swartland-za4031.html', 'https://www.i-d-s.com/dubai/front-row-shiraz-mourv-dre-viognier-swartland-za4052.html', 'https://www.i-d-s.com/dubai/babylon-s-peak-shiraz-mourvedre-grenache-smg-za4071.html', 'https://www.i-d-s.com/dubai/fairview-the-beacon-shiraz-swartland-za4074.html', 'https://www.i-d-s.com/dubai/coterie-cabernet-franc-malbec-za1071.html']\n",
      "prices: 12\n",
      "reduced prices: 12\n",
      "['11.00', '8.75', '8.75', '7.65', '6.95', '9.05', '9.50', '13.20', '8.95', '17.90', '28.40', '13.25']\n",
      "https://www.i-d-s.com/dubai/wine/wines-by-country/south-africa.html?p=2\n"
     ]
    },
    {
     "name": "stderr",
     "output_type": "stream",
     "text": [
      "/var/folders/9z/sjrbpv9j1996t3_4wv3ry65c0000gn/T/ipykernel_31041/3340895757.py:83: FutureWarning: The frame.append method is deprecated and will be removed from pandas in a future version. Use pandas.concat instead.\n",
      "  df_aggregated=df_aggregated.append(df)\n"
     ]
    },
    {
     "name": "stdout",
     "output_type": "stream",
     "text": [
      "name: 12\n",
      "['ROSE Coterie Cinsault Rosé', 'Coterie Semillon Sauvignon Blanc', 'Lanzerac Pinotage Rosé', 'Mooiplaas Pinotage', \"Nederburg The Winemaster's Sauvignon Blanc\", \"Nederburg The Winemaster's Chardonnay\", 'Mooiplaas The Peach Chenin Blanc', 'KWV Chenin Blanc', 'Fleur Du Cap, Essence Du Cap Merlot', 'KWV Cabernet Sauvignon', 'KWV Pinotage', \"Nederburg The Winemaster's Pinotage\"]\n",
      "url_product: 12\n",
      "['https://www.i-d-s.com/dubai/rose-coterie-cinsault-ros-za1070.html', 'https://www.i-d-s.com/dubai/coterie-semillon-sauvignon-blanc-za1069.html', 'https://www.i-d-s.com/dubai/lanzerac-pinotage-rose-za1064.html', 'https://www.i-d-s.com/dubai/mooiplaas-pinotage-za1053.html', 'https://www.i-d-s.com/dubai/nederburg-sauvignon-blanc-za1003.html', 'https://www.i-d-s.com/dubai/nederburg-the-winemaster-chardonnay-za1004.html', 'https://www.i-d-s.com/dubai/mooiplaas-the-peach-white-blend-za1008.html', 'https://www.i-d-s.com/dubai/kwv-chenin-blanc-za1012.html', 'https://www.i-d-s.com/dubai/fleur-du-cap-essence-du-cap-merlot-za1023.html', 'https://www.i-d-s.com/dubai/kwv-cabernet-sauvignon-za1025.html', 'https://www.i-d-s.com/dubai/kwv-pinotage-za1026.html', 'https://www.i-d-s.com/dubai/nederburg-pinotage-za1027.html']\n",
      "prices: 12\n",
      "reduced prices: 12\n",
      "['15.35', '13.25', '10.00', '13.35', '8.55', '8.55', '7.85', '6.95', '9.50', '7.10', '7.10', '9.00']\n",
      "https://www.i-d-s.com/dubai/wine/wines-by-country/south-africa.html?p=3\n"
     ]
    },
    {
     "name": "stderr",
     "output_type": "stream",
     "text": [
      "/var/folders/9z/sjrbpv9j1996t3_4wv3ry65c0000gn/T/ipykernel_31041/3340895757.py:83: FutureWarning: The frame.append method is deprecated and will be removed from pandas in a future version. Use pandas.concat instead.\n",
      "  df_aggregated=df_aggregated.append(df)\n"
     ]
    },
    {
     "name": "stdout",
     "output_type": "stream",
     "text": [
      "name: 5\n",
      "[\"Nederburg The Winemaster's Cabernet Sauvignon\", \"Nederburg The Winemaster's  Shiraz \", 'Nederburg Winemasters Merlot', 'Nederburg Private Collection Cabernet Sauvignon', 'Nederburg Private Collection Shiraz']\n",
      "url_product: 5\n",
      "['https://www.i-d-s.com/dubai/nederburg-cabernet-sauvignon-za1028.html', 'https://www.i-d-s.com/dubai/nederburg-shiraz-za1029.html', 'https://www.i-d-s.com/dubai/nederburg-merlot-za1030.html', 'https://www.i-d-s.com/dubai/nederburg-private-collection-cabernet-sauvignon-za1031.html', 'https://www.i-d-s.com/dubai/nederburg-private-collection-shiraz-za1032.html']\n",
      "prices: 5\n",
      "reduced prices: 5\n",
      "['9.15', '9.15', '9.15', '11.95', '11.95']\n",
      "https://www.i-d-s.com/dubai/wine/wines-by-country/south-africa.html?p=4\n"
     ]
    },
    {
     "name": "stderr",
     "output_type": "stream",
     "text": [
      "/var/folders/9z/sjrbpv9j1996t3_4wv3ry65c0000gn/T/ipykernel_31041/3340895757.py:83: FutureWarning: The frame.append method is deprecated and will be removed from pandas in a future version. Use pandas.concat instead.\n",
      "  df_aggregated=df_aggregated.append(df)\n"
     ]
    },
    {
     "name": "stdout",
     "output_type": "stream",
     "text": [
      "name: 0\n",
      "[]\n",
      "url_product: 0\n",
      "[]\n",
      "prices: 0\n",
      "reduced prices: 0\n",
      "[]\n",
      "---------------\n"
     ]
    },
    {
     "name": "stderr",
     "output_type": "stream",
     "text": [
      "/var/folders/9z/sjrbpv9j1996t3_4wv3ry65c0000gn/T/ipykernel_31041/3340895757.py:83: FutureWarning: The frame.append method is deprecated and will be removed from pandas in a future version. Use pandas.concat instead.\n",
      "  df_aggregated=df_aggregated.append(df)\n"
     ]
    },
    {
     "name": "stdout",
     "output_type": "stream",
     "text": [
      "uk\n",
      "https://www.i-d-s.com/dubai/wine/wines-by-country/united-kingdom.html?p=1\n",
      "name: 12\n",
      "['Sharpham Dart Valley Reserve', 'Henners Gardner Street Classic', 'Bolney Lychgate Bacchus', 'Bolney Winemaker’s Edition Red', 'Sharpham Estate Little Bee Wild Ferment Pinot Gris', 'Sharpham Estate Pinot Gris , Devon', 'Bolney Bubbly Sparkling', 'Nyetimber Classic Cuvee Multi-Vintage,', 'Nyetimber Blanc de Blancs', 'Chapel Down Classic Non-Vintage Brut', 'Chapel Down English Sparkling Rosé', 'Henners Brut, Sussex']\n",
      "url_product: 12\n",
      "['https://www.i-d-s.com/dubai/sharpham-dart-valley-reserve-gb3002.html', 'https://www.i-d-s.com/dubai/henners-gardner-street-classic-gb4002.html', 'https://www.i-d-s.com/dubai/bolney-lychgate-bacchus-gb3007.html', 'https://www.i-d-s.com/dubai/bolney-winemaker-s-edition-red-gb3006.html', 'https://www.i-d-s.com/dubai/sharpham-estate-little-bee-wild-ferment-pinot-gris-gb1006.html', 'https://www.i-d-s.com/dubai/sharpham-estate-pinot-gris-devon-gb3001.html', 'https://www.i-d-s.com/dubai/bolney-bubbly-sparkling-sw1037.html', 'https://www.i-d-s.com/dubai/nyetimber-classic-cuvee-multi-vintage-sw1038.html', 'https://www.i-d-s.com/dubai/nyetimber-blanc-de-blancs-sw4058.html', 'https://www.i-d-s.com/dubai/chapel-down-classic-non-vintage-brut-sw1047.html', 'https://www.i-d-s.com/dubai/chapel-down-english-rose-nv-sw1048.html', 'https://www.i-d-s.com/dubai/henners-brut-sussex-sw3002.html']\n",
      "prices: 12\n",
      "reduced prices: 12\n",
      "['18.55', '16.70', '18.60', '24.60', '21.85', '23.65', '31.75', '42.45', '64.05', '32.35', '32.35', '41.15']\n",
      "https://www.i-d-s.com/dubai/wine/wines-by-country/united-kingdom.html?p=2\n"
     ]
    },
    {
     "name": "stderr",
     "output_type": "stream",
     "text": [
      "/var/folders/9z/sjrbpv9j1996t3_4wv3ry65c0000gn/T/ipykernel_31041/3340895757.py:83: FutureWarning: The frame.append method is deprecated and will be removed from pandas in a future version. Use pandas.concat instead.\n",
      "  df_aggregated=df_aggregated.append(df)\n"
     ]
    },
    {
     "name": "stdout",
     "output_type": "stream",
     "text": [
      "name: 2\n",
      "['Rathfinny Cradle Valley, Pinot Blanc', 'Litmus Red Pinot 2018']\n",
      "url_product: 2\n",
      "['https://www.i-d-s.com/dubai/rathfinny-cradle-valley-pinot-blanc-gb1005.html', 'https://www.i-d-s.com/dubai/litmus-red-pinot-2018-gb4003.html']\n",
      "prices: 2\n",
      "reduced prices: 2\n",
      "['21.10', '40.75']\n",
      "https://www.i-d-s.com/dubai/wine/wines-by-country/united-kingdom.html?p=3\n"
     ]
    },
    {
     "name": "stderr",
     "output_type": "stream",
     "text": [
      "/var/folders/9z/sjrbpv9j1996t3_4wv3ry65c0000gn/T/ipykernel_31041/3340895757.py:83: FutureWarning: The frame.append method is deprecated and will be removed from pandas in a future version. Use pandas.concat instead.\n",
      "  df_aggregated=df_aggregated.append(df)\n"
     ]
    },
    {
     "name": "stdout",
     "output_type": "stream",
     "text": [
      "name: 0\n",
      "[]\n",
      "url_product: 0\n",
      "[]\n",
      "prices: 0\n",
      "reduced prices: 0\n",
      "[]\n"
     ]
    },
    {
     "name": "stderr",
     "output_type": "stream",
     "text": [
      "/var/folders/9z/sjrbpv9j1996t3_4wv3ry65c0000gn/T/ipykernel_31041/3340895757.py:83: FutureWarning: The frame.append method is deprecated and will be removed from pandas in a future version. Use pandas.concat instead.\n",
      "  df_aggregated=df_aggregated.append(df)\n"
     ]
    },
    {
     "name": "stdout",
     "output_type": "stream",
     "text": [
      "---------------\n",
      "usa\n",
      "https://www.i-d-s.com/dubai/wine/wines-by-country/usa.html?p=1\n",
      "name: 12\n",
      "['Murphy-Goode \"Liar\\'s Dice\" Zinfandel, Sonoma County', 'Murphy-Goode North Coast Sauvignon Blanc', 'Bread &amp; Butter Chardonnay', \"Kendall-Jackson Vintner's Reserve Pinot Noir, California\", \"Kendall-Jackson Vintner's Reserve Merlot, Sonoma County\", \"Kendall-Jackson Vintner's Reserve Cabernet Sauvignon, Sonoma County\", \"Kendall-Jackson 'Jackson Estate' Pinot Noir, Anderson Valley\", \"Kendall-Jackson Vintner's Reserve Zinfandel, Mendocino\", 'Murphy Goode Merlot', 'Line 39 Caberet Sauvignon', 'Line 39 Merlot', 'Line 39 Pinot Noir']\n",
      "url_product: 12\n",
      "['https://www.i-d-s.com/dubai/murphy-goode-liar-s-dice-zinfandel-sonoma-county-us2095.html', 'https://www.i-d-s.com/dubai/murphy-goode-north-coast-sauvignon-blanc-us2104.html', 'https://www.i-d-s.com/dubai/bread-butter-chardonnay-us1001.html', 'https://www.i-d-s.com/dubai/kendall-jackson-vintner-s-reserve-pinot-noir-california-us2007.html', 'https://www.i-d-s.com/dubai/kendall-jackson-vintner-s-reserve-merlot-california-us2200.html', 'https://www.i-d-s.com/dubai/kendall-jackson-vintner-s-reserve-cabernet-sauvignon-california-us2090.html', 'https://www.i-d-s.com/dubai/kendall-jackson-jackson-estate-pinot-noir-anderson-valley-us2074.html', 'https://www.i-d-s.com/dubai/kendall-jackson-vintner-s-reserve-zinfandel-mendocino-us2069.html', 'https://www.i-d-s.com/dubai/murphy-goode-merlot-us1050.html', 'https://www.i-d-s.com/dubai/line-39-caberet-sauvignon-us1069.html', 'https://www.i-d-s.com/dubai/line-39-merlot-us1068.html', 'https://www.i-d-s.com/dubai/line-39-pinot-noir-us1067.html']\n",
      "prices: 12\n",
      "reduced prices: 12\n",
      "['23.45', '13.10', '14.20', '18.00', '23.15', '25.55', '27.00', '17.35', '14.15', '12.35', '12.35', '12.35']\n",
      "https://www.i-d-s.com/dubai/wine/wines-by-country/usa.html?p=2\n"
     ]
    },
    {
     "name": "stderr",
     "output_type": "stream",
     "text": [
      "/var/folders/9z/sjrbpv9j1996t3_4wv3ry65c0000gn/T/ipykernel_31041/3340895757.py:83: FutureWarning: The frame.append method is deprecated and will be removed from pandas in a future version. Use pandas.concat instead.\n",
      "  df_aggregated=df_aggregated.append(df)\n"
     ]
    },
    {
     "name": "stdout",
     "output_type": "stream",
     "text": [
      "name: 12\n",
      "[\"Kendall-Jackson Vintner's Reserve Riesling, Monterey\", 'The Prisoner Red Zinfandel Blend, Napa Valley', 'Leaping Horse Chardonnay', 'Leaping Horse Pinot Grigio', 'Leaping Horse Cabernet Sauvignon', 'Leaping Horse Merlot', 'Obsession Symphony-Peach', 'Obsession Red Blend', 'Obsession Rose', 'Obsession Symphony', 'Fog Mountain, Merlot', 'Caymus Conundrum White Blend']\n",
      "url_product: 12\n",
      "['https://www.i-d-s.com/dubai/kendall-jackson-vintner-s-reserve-riesling-monterey-us2061.html', 'https://www.i-d-s.com/dubai/the-prisoner-red-zinfandel-blend-napa-valley-us2047.html', 'https://www.i-d-s.com/dubai/leaping-horse-chardonnay-us1097.html', 'https://www.i-d-s.com/dubai/leaping-horse-pinot-grigio-us1096.html', 'https://www.i-d-s.com/dubai/leaping-horse-cabernet-sauvignon-us1095.html', 'https://www.i-d-s.com/dubai/leaping-horse-merlot-us1094.html', 'https://www.i-d-s.com/dubai/obsession-symphony-peach-us1093.html', 'https://www.i-d-s.com/dubai/obsession-red-blend-us1092.html', 'https://www.i-d-s.com/dubai/obsession-rose-us1091.html', 'https://www.i-d-s.com/dubai/obsession-symphony-us1090.html', 'https://www.i-d-s.com/dubai/fog-mountain-merlot-us4004.html', 'https://www.i-d-s.com/dubai/caymus-conundrum-white-blend-us4031.html']\n",
      "prices: 12\n",
      "reduced prices: 12\n",
      "['14.05', '38.35', '10.95', '10.95', '10.95', '10.95', '11.65', '11.65', '11.65', '11.65', '14.45', '18.80']\n",
      "https://www.i-d-s.com/dubai/wine/wines-by-country/usa.html?p=3\n"
     ]
    },
    {
     "name": "stderr",
     "output_type": "stream",
     "text": [
      "/var/folders/9z/sjrbpv9j1996t3_4wv3ry65c0000gn/T/ipykernel_31041/3340895757.py:83: FutureWarning: The frame.append method is deprecated and will be removed from pandas in a future version. Use pandas.concat instead.\n",
      "  df_aggregated=df_aggregated.append(df)\n"
     ]
    },
    {
     "name": "stdout",
     "output_type": "stream",
     "text": [
      "name: 12\n",
      "['Barefoot Moscato', 'Barefoot Chardonnay', 'Carlo Rossi Rosé', 'Barefoot White Zinfandel', 'Liberty Creek Cabernet Sauvignon Magnum (1.5L)', 'Barefoot Merlot', 'Barefoot Pinot Noir', 'Barefoot Cabernet Sauvignon', 'Barefoot Sweet Red', 'Freemark Abbey Sauvignon Blanc, Napa Valley', 'La Crema Pinot Noir, Monterey', 'Cambria Estate \"Katherine\\'s Vineyard\" Chardonnay']\n",
      "url_product: 12\n",
      "['https://www.i-d-s.com/dubai/barefoot-moscato-us2230.html', 'https://www.i-d-s.com/dubai/barefoot-chardonnay-us2207.html', 'https://www.i-d-s.com/dubai/carlo-rossi-ros-us2212.html', 'https://www.i-d-s.com/dubai/barefoot-white-zinfandel-us2213.html', 'https://www.i-d-s.com/dubai/liberty-creek-cabernet-sauvignon-magnum-1-5l-us2218.html', 'https://www.i-d-s.com/dubai/barefoot-merlot-us2231.html', 'https://www.i-d-s.com/dubai/barefoot-pinot-noir-us2232.html', 'https://www.i-d-s.com/dubai/barefoot-cabernet-sauvignon-us2221.html', 'https://www.i-d-s.com/dubai/barefoot-sweet-red-us2222.html', 'https://www.i-d-s.com/dubai/freemark-abbey-sauvignon-blanc-napa-valley-us2023.html', 'https://www.i-d-s.com/dubai/la-crema-pinot-noir-monterey-us2064.html', 'https://www.i-d-s.com/dubai/cambria-estate-katherine-s-vineyard-chardonnay-us2105.html']\n",
      "prices: 12\n",
      "reduced prices: 12\n",
      "['4.95', '4.95', '3.75', '8.10', '7.80', '4.95', '8.10', '4.95', '8.10', '20.70', '22.60', '21.65']\n",
      "https://www.i-d-s.com/dubai/wine/wines-by-country/usa.html?p=4\n"
     ]
    },
    {
     "name": "stderr",
     "output_type": "stream",
     "text": [
      "/var/folders/9z/sjrbpv9j1996t3_4wv3ry65c0000gn/T/ipykernel_31041/3340895757.py:83: FutureWarning: The frame.append method is deprecated and will be removed from pandas in a future version. Use pandas.concat instead.\n",
      "  df_aggregated=df_aggregated.append(df)\n"
     ]
    },
    {
     "name": "stdout",
     "output_type": "stream",
     "text": [
      "name: 12\n",
      "['Nielson Chardonnay, Santa Barbara', 'Byron Nielson Vineyard Chardonnay', 'Canyon Road Chardonnay', 'Liberty Creek Chardonnay Magnum (1.5L)', 'Barefoot Bubbly Pinot Grigio', 'Ironstone Vineyards Reserve Chardonnay', 'Charles Smith Devil Merlot', 'Columbia Crest, Grand Estates Cabernet Sauvignon', 'Columbia Crest, Two Vines Merlot', 'Jordan Vineyard &amp; Winery Chardonnay', 'Callaway Merlot', 'Callaway Cabernet Sauvignon']\n",
      "url_product: 12\n",
      "['https://www.i-d-s.com/dubai/nielson-chardonnay-santa-barbara-us2119.html', 'https://www.i-d-s.com/dubai/byron-nielson-vineyard-chardonnay-us2131.html', 'https://www.i-d-s.com/dubai/canyon-road-chardonnay-us2204.html', 'https://www.i-d-s.com/dubai/liberty-creek-chardonnay-magnum-1-5l-us2202.html', 'https://www.i-d-s.com/dubai/barefoot-bubbly-pinot-grigio-sw2037.html', 'https://www.i-d-s.com/dubai/ironstone-vineyards-reserve-chardonnay-us1108.html', 'https://www.i-d-s.com/dubai/charles-smith-devil-merlot-us1054.html', 'https://www.i-d-s.com/dubai/columbia-crest-grand-estates-cabernet-sauvignon-us1107.html', 'https://www.i-d-s.com/dubai/columbia-crest-two-vines-merlot-us1106.html', 'https://www.i-d-s.com/dubai/jordan-vineyard-winery-chardonnay-us1072.html', 'https://www.i-d-s.com/dubai/callaway-merlot-us1062.html', 'https://www.i-d-s.com/dubai/callaway-cabernet-sauvignon-us1063.html']\n",
      "prices: 12\n",
      "reduced prices: 12\n",
      "['17.20', '26.15', '4.95', '9.30', '10.45', '26.00', '17.10', '15.80', '12.10', '34.55', '10.65', '10.65']\n",
      "https://www.i-d-s.com/dubai/wine/wines-by-country/usa.html?p=5\n"
     ]
    },
    {
     "name": "stderr",
     "output_type": "stream",
     "text": [
      "/var/folders/9z/sjrbpv9j1996t3_4wv3ry65c0000gn/T/ipykernel_31041/3340895757.py:83: FutureWarning: The frame.append method is deprecated and will be removed from pandas in a future version. Use pandas.concat instead.\n",
      "  df_aggregated=df_aggregated.append(df)\n"
     ]
    },
    {
     "name": "stdout",
     "output_type": "stream",
     "text": [
      "name: 12\n",
      "['Line 39 Excursion Red Blend', 'Line 39 Petite Sirah', 'Jordan Vineyard &amp; Winery Cabernet Sauvignon', 'Murphy-Goode Red Wine, California', 'Francis Ford Coppola Merlot Diamond', \"Stag's Leap Wine Cellars 'Karia' Chardonnay\", 'Douglass Hill Chardonnay', 'Dark Horse Sauvignon Blanc', 'Dark Horse Chardonnay', 'Robert Mondavi Woodbridge Chardonnay', 'Wente Vineyards Morning Fog Chardonnay', 'The Bulletin Zinfandel Rosé']\n",
      "url_product: 12\n",
      "['https://www.i-d-s.com/dubai/line-39-excursion-red-blend-us1070.html', 'https://www.i-d-s.com/dubai/line-39-petite-sirah-us1071.html', 'https://www.i-d-s.com/dubai/jordan-vineyard-winery-cabernet-sauvignon-us1073.html', 'https://www.i-d-s.com/dubai/murphy-goode-red-bordeaux-blend-california-us2005.html', 'https://www.i-d-s.com/dubai/francis-ford-coppola-merlot-diamond-us2008.html', 'https://www.i-d-s.com/dubai/stag-s-leap-wine-cellars-karia-chardonnay-us1000.html', 'https://www.i-d-s.com/dubai/douglass-hill-chardonnay-us1003.html', 'https://www.i-d-s.com/dubai/dark-horse-sauvignon-blanc-us1004.html', 'https://www.i-d-s.com/dubai/dark-horse-chardonnay-us1005.html', 'https://www.i-d-s.com/dubai/robert-mondavi-woodbridge-chardonnay-us1006.html', 'https://www.i-d-s.com/dubai/wente-vineyards-morning-fog-chardonnay-us1008.html', 'https://www.i-d-s.com/dubai/the-bulletin-zinfandel-rose-us1013.html']\n",
      "prices: 12\n",
      "reduced prices: 12\n",
      "['12.35', '12.35', '58.45', '13.10', '19.60', '40.55', '8.30', '9.30', '9.30', '11.70', '13.55', '7.05']\n",
      "https://www.i-d-s.com/dubai/wine/wines-by-country/usa.html?p=6\n"
     ]
    },
    {
     "name": "stderr",
     "output_type": "stream",
     "text": [
      "/var/folders/9z/sjrbpv9j1996t3_4wv3ry65c0000gn/T/ipykernel_31041/3340895757.py:83: FutureWarning: The frame.append method is deprecated and will be removed from pandas in a future version. Use pandas.concat instead.\n",
      "  df_aggregated=df_aggregated.append(df)\n"
     ]
    },
    {
     "name": "stdout",
     "output_type": "stream",
     "text": [
      "name: 12\n",
      "['Bread &amp; Butter Pinot Noir', 'Bread &amp; Butter Cabernet Sauvignon', 'Douglass Hill Shiraz', 'Douglass Hill Cabernet Sauvignon', 'Glen Ellen Reserve Cabernet Sauvignon', 'Cabaret Frank No.2 \"The Aviary\", Old Vine Cabernet Franc', 'Dark Horse Zinfandel', 'Dark Horse Merlot', 'Robert Mondavi Woodbridge Cabernet Sauvignon', 'Wente Vineyards Southern Hills Cabernet Sauvignon', 'Wente Vineyards Beyer Ranch Zinfandel', 'Wente Vineyards Sandstone Merlot']\n",
      "url_product: 12\n",
      "['https://www.i-d-s.com/dubai/bread-butter-pinot-noir-us1014.html', 'https://www.i-d-s.com/dubai/bread-butter-cabernet-sauvignon-us1015.html', 'https://www.i-d-s.com/dubai/douglass-hill-shiraz-us1016.html', 'https://www.i-d-s.com/dubai/douglass-hill-cabernet-sauvignon-us1017.html', 'https://www.i-d-s.com/dubai/glen-ellen-reserve-cabernet-sauvignon-us1020.html', 'https://www.i-d-s.com/dubai/cabaret-frank-no-2-the-aviary-old-vine-cabernet-franc-us1021.html', 'https://www.i-d-s.com/dubai/dark-horse-zinfandel-us1023.html', 'https://www.i-d-s.com/dubai/dark-horse-merlot-us1024.html', 'https://www.i-d-s.com/dubai/robert-mondavi-woodbridge-cabernet-sauvignon-us1025.html', 'https://www.i-d-s.com/dubai/wente-vineyards-southern-hills-cabernet-sauvignon-us1027.html', 'https://www.i-d-s.com/dubai/wente-vineyards-beyer-ranch-zinfandel-us1028.html', 'https://www.i-d-s.com/dubai/wente-vineyards-sandstone-merlot-us1029.html']\n",
      "prices: 12\n",
      "reduced prices: 12\n",
      "['14.20', '14.20', '8.30', '8.30', '7.75', '9.05', '9.30', '9.30', '13.15', '14.15', '14.15', '14.15']\n",
      "https://www.i-d-s.com/dubai/wine/wines-by-country/usa.html?p=7\n"
     ]
    },
    {
     "name": "stderr",
     "output_type": "stream",
     "text": [
      "/var/folders/9z/sjrbpv9j1996t3_4wv3ry65c0000gn/T/ipykernel_31041/3340895757.py:83: FutureWarning: The frame.append method is deprecated and will be removed from pandas in a future version. Use pandas.concat instead.\n",
      "  df_aggregated=df_aggregated.append(df)\n"
     ]
    },
    {
     "name": "stdout",
     "output_type": "stream",
     "text": [
      "name: 10\n",
      "['Apothic Red', 'Ironstone Vineyards Reserve Cabernet Franc', 'Wente Vineyards Charles Wetmore Cabernet Sauvignon', 'Wente Vineyards Riva Ranch Pinot Noir', 'Ironstone Vineyards Rous Vineyard Old Vine Reserve Zinfandel', 'Ironstone Vineyards Reserve Cabernet Sauvignon', 'Murphy Goode Pinot Noir', 'Stag\\'s Leap Wine Cellars \"Artemis\" Cabernet Sauvignon', 'Pine Ridge Vineyards Cabernet Sauvignon', 'Chateau Ste. Michelle Syrah']\n",
      "url_product: 10\n",
      "['https://www.i-d-s.com/dubai/apothic-red-us1030.html', 'https://www.i-d-s.com/dubai/ironstone-vineyards-reserve-cabernet-franc-us1031.html', 'https://www.i-d-s.com/dubai/wente-vineyards-charles-wetmore-cabernet-sauvignon-us1032.html', 'https://www.i-d-s.com/dubai/wente-vineyards-riva-ranch-pinot-noir-us1033.html', 'https://www.i-d-s.com/dubai/ironstone-vineyards-rous-vineyard-old-vine-reserve-zinfandel-us1034.html', 'https://www.i-d-s.com/dubai/ironstone-vineyards-reserve-cabernet-sauvignon-us1035.html', 'https://www.i-d-s.com/dubai/murphy-goode-pinot-noir-us1037.html', 'https://www.i-d-s.com/dubai/stag-s-leap-wine-cellars-artemis-cabernet-sauvignon-us1038.html', 'https://www.i-d-s.com/dubai/pine-ridge-vineyards-cabernet-sauvignon-us1039.html', 'https://www.i-d-s.com/dubai/chateau-ste-michelle-syrah-us1040.html']\n",
      "prices: 10\n",
      "reduced prices: 10\n",
      "['12.35', '19.95', '23.20', '23.20', '23.60', '23.50', '14.15', '62.30', '91.85', '20.95']\n",
      "https://www.i-d-s.com/dubai/wine/wines-by-country/usa.html?p=8\n"
     ]
    },
    {
     "name": "stderr",
     "output_type": "stream",
     "text": [
      "/var/folders/9z/sjrbpv9j1996t3_4wv3ry65c0000gn/T/ipykernel_31041/3340895757.py:83: FutureWarning: The frame.append method is deprecated and will be removed from pandas in a future version. Use pandas.concat instead.\n",
      "  df_aggregated=df_aggregated.append(df)\n"
     ]
    },
    {
     "name": "stdout",
     "output_type": "stream",
     "text": [
      "name: 0\n",
      "[]\n",
      "url_product: 0\n",
      "[]\n",
      "prices: 0\n",
      "reduced prices: 0\n",
      "[]\n",
      "---------------\n"
     ]
    },
    {
     "name": "stderr",
     "output_type": "stream",
     "text": [
      "/var/folders/9z/sjrbpv9j1996t3_4wv3ry65c0000gn/T/ipykernel_31041/3340895757.py:83: FutureWarning: The frame.append method is deprecated and will be removed from pandas in a future version. Use pandas.concat instead.\n",
      "  df_aggregated=df_aggregated.append(df)\n"
     ]
    },
    {
     "name": "stdout",
     "output_type": "stream",
     "text": [
      "germany\n",
      "https://www.i-d-s.com/dubai/wine/wines-by-country/germany.html?p=1\n",
      "name: 12\n",
      "['Balthasar Ress Oestrich Doosberg Riesling Auslese', 'Weinland Rheingau Riesling Trocken', 'Alde Gott Einblick Grauburgunder Kabinett Trocken', 'Alde Gott Ausblick Grauburgunder Spätlese Trocken', 'Divino Terroir Weissburgunder Thüngersheimer Johannisberg', 'Schwedhelm Dornfelder', 'Weinbiet&nbsp; Philipp Bassler Spätburgunder Großes Gewachs', 'Cleebroon &amp; Guglingen Herzog C Lemberger', 'J. Baumer Riesling QBA', 'Villa Franz Riesling', 'Balthasar Ress RESSpekt Riesling', 'Weingut Knipser Kalkmergel Spätburgunder Trocken QBA']\n",
      "url_product: 12\n",
      "['https://www.i-d-s.com/dubai/oestrich-doosberg-riesling-auslese-ge1020.html', 'https://www.i-d-s.com/dubai/weinland-rheingau-riesling-trocken-ge4007.html', 'https://www.i-d-s.com/dubai/alde-gott-einblick-grauburgunder-kabinett-trocken-ge4020.html', 'https://www.i-d-s.com/dubai/alde-gott-ausblick-grauburgunder-sp-tlese-trocken-ge4021.html', 'https://www.i-d-s.com/dubai/divino-terroir-weissburgunder-th-ngersheimer-johannisberg-ge4026.html', 'https://www.i-d-s.com/dubai/schwedhelm-dornfelder-ge4042.html', 'https://www.i-d-s.com/dubai/weinbiet-philipp-bassler-sp-tburgunder-gro-es-gewachs-ge4043.html', 'https://www.i-d-s.com/dubai/cleebroon-guglingen-herzog-c-lemberger-ge4048.html', 'https://www.i-d-s.com/dubai/j-baumer-riesling-qba-ge1001.html', 'https://www.i-d-s.com/dubai/villa-franz-riesling-ge1002.html', 'https://www.i-d-s.com/dubai/balthasar-ress-resspekt-riesling-ge1006.html', 'https://www.i-d-s.com/dubai/weingut-knipser-kalkmergel-sp-tburgunder-trocken-qba-ge1007.html']\n",
      "prices: 12\n",
      "reduced prices: 12\n",
      "['38.85', '16.50', '12.85', '15.25', '12.45', '8.35', '11.65', '13.85', '8.50', '9.75', '78.40', '27.75']\n",
      "https://www.i-d-s.com/dubai/wine/wines-by-country/germany.html?p=2\n"
     ]
    },
    {
     "name": "stderr",
     "output_type": "stream",
     "text": [
      "/var/folders/9z/sjrbpv9j1996t3_4wv3ry65c0000gn/T/ipykernel_31041/3340895757.py:83: FutureWarning: The frame.append method is deprecated and will be removed from pandas in a future version. Use pandas.concat instead.\n",
      "  df_aggregated=df_aggregated.append(df)\n"
     ]
    },
    {
     "name": "stdout",
     "output_type": "stream",
     "text": [
      "name: 0\n",
      "[]\n",
      "url_product: 0\n",
      "[]\n",
      "prices: 0\n",
      "reduced prices: 0\n",
      "[]\n",
      "---------------\n"
     ]
    },
    {
     "name": "stderr",
     "output_type": "stream",
     "text": [
      "/var/folders/9z/sjrbpv9j1996t3_4wv3ry65c0000gn/T/ipykernel_31041/3340895757.py:83: FutureWarning: The frame.append method is deprecated and will be removed from pandas in a future version. Use pandas.concat instead.\n",
      "  df_aggregated=df_aggregated.append(df)\n"
     ]
    },
    {
     "name": "stdout",
     "output_type": "stream",
     "text": [
      "italy\n",
      "https://www.i-d-s.com/dubai/wine/wines-by-country/italy.html?p=1\n",
      "name: 12\n",
      "['Alpha Zeta `R` Valpolicella Superiore Ripasso', 'Alpha Zeta,`S` Soave DOC, Veneto', 'Via Nova Merlot del Veneto IGT', 'Via Nova Pinot Grigio IGT', 'Bottega Brunello Di Montalcino', 'Lamberti Pinot Grigio IGT', 'Allegrini Valpolicella DOC', 'Planeta Rosé', 'Araldica Gavi DOCG La Luciana', 'Follador Prosecco DOC Treviso', 'Ceradello Prosecco Spumante Brut', 'Freixenet Prosecco DOC']\n",
      "url_product: 12\n",
      "['https://www.i-d-s.com/dubai/alpha-zeta-r-valpolicella-superiore-ripasso-it4156.html', 'https://www.i-d-s.com/dubai/alpha-zeta-s-soave-veneto-it1009.html', 'https://www.i-d-s.com/dubai/via-nova-merlot-del-veneto-igt-it1043.html', 'https://www.i-d-s.com/dubai/via-nova-pinot-grigio-igt-it1008.html', 'https://www.i-d-s.com/dubai/bottega-brunello-di-montalcino-it1039.html', 'https://www.i-d-s.com/dubai/lamberti-pinot-grigio-igt-it1011.html', 'https://www.i-d-s.com/dubai/allegrini-valpolicella-doc-it1046.html', 'https://www.i-d-s.com/dubai/planeta-ros-it1019.html', 'https://www.i-d-s.com/dubai/araldica-gavi-docg-la-luciana-it1000.html', 'https://www.i-d-s.com/dubai/follador-prosecco-doc-treviso-sw1007.html', 'https://www.i-d-s.com/dubai/ceradello-prosecco-spumante-brut-sw1006.html', 'https://www.i-d-s.com/dubai/freixenet-prosecco-doc-sw1010.html']\n",
      "prices: 12\n",
      "reduced prices: 12\n",
      "['18.30', '8.50', '5.20', '5.70', '48.50', '9.30', '17.75', '11.60', '11.15', '11.00', '11.80', '13.00']\n",
      "https://www.i-d-s.com/dubai/wine/wines-by-country/italy.html?p=2\n"
     ]
    },
    {
     "name": "stderr",
     "output_type": "stream",
     "text": [
      "/var/folders/9z/sjrbpv9j1996t3_4wv3ry65c0000gn/T/ipykernel_31041/3340895757.py:83: FutureWarning: The frame.append method is deprecated and will be removed from pandas in a future version. Use pandas.concat instead.\n",
      "  df_aggregated=df_aggregated.append(df)\n"
     ]
    },
    {
     "name": "stdout",
     "output_type": "stream",
     "text": [
      "name: 12\n",
      "['Ruggeri Prosecco Argeo Brut', 'Martini Asti Spumante', 'Bottega Prosecco Brut Rosé', 'Ferrari Perlé Rosé Riserva', 'Castello Vicchiomaggio San Jacopo Vin Santo', 'Cristina Ascheri Langhe Arneis DOC', 'Vesevo Taurasi Ensis Docg', \"Cà Dei Frati 'I Frati' Lugana\", 'Fontafredda Briccotondo Dolcetto', 'Mandrarossa Bertolino Soprano Grillo Wooden Box', 'Ponte Pietra Trebbiano/Garg Del Veneto', 'Alpha Zeta `G` Garganega']\n",
      "url_product: 12\n",
      "['https://www.i-d-s.com/dubai/ruggeri-prosecco-argeo-brut-nv-sw1011.html', 'https://www.i-d-s.com/dubai/martini-asti-spumante-sw1012.html', 'https://www.i-d-s.com/dubai/bottega-prosecco-brut-ros-sw1017.html', 'https://www.i-d-s.com/dubai/ferrari-perl-ros-riserva-sw1018.html', 'https://www.i-d-s.com/dubai/castello-vicchiomaggio-san-jacopo-vin-santo-dw1011.html', 'https://www.i-d-s.com/dubai/cristina-ascheri-langhe-arneis-doc-it4036.html', 'https://www.i-d-s.com/dubai/vesevo-taurasi-ensis-docg-it4021.html', 'https://www.i-d-s.com/dubai/c-dei-frati-i-frati-lugana-it4026.html', 'https://www.i-d-s.com/dubai/fontafredda-briccotondo-dolcetto-it4042.html', 'https://www.i-d-s.com/dubai/mandrarossa-bertolino-soprano-grillo-wooden-box-it4072.html', 'https://www.i-d-s.com/dubai/ponte-pietra-trebbiano-garg-del-veneto-it4123.html', 'https://www.i-d-s.com/dubai/alpha-zeta-g-garganega-it4124.html']\n",
      "prices: 12\n",
      "reduced prices: 12\n",
      "['15.85', '14.25', '26.95', '58.40', '14.75', '15.10', '26.30', '16.60', '16.65', '26.35', '4.90', '5.30']\n",
      "https://www.i-d-s.com/dubai/wine/wines-by-country/italy.html?p=3\n"
     ]
    },
    {
     "name": "stderr",
     "output_type": "stream",
     "text": [
      "/var/folders/9z/sjrbpv9j1996t3_4wv3ry65c0000gn/T/ipykernel_31041/3340895757.py:83: FutureWarning: The frame.append method is deprecated and will be removed from pandas in a future version. Use pandas.concat instead.\n",
      "  df_aggregated=df_aggregated.append(df)\n"
     ]
    },
    {
     "name": "stdout",
     "output_type": "stream",
     "text": [
      "name: 12\n",
      "['Cantina Di Monteforte Soave Classico Superiore Montegrande', 'Sartori Marzemino Villa Mura', 'Prunotto Barbera d’Alba, Piemonte', 'Fontafredda Briccotondo Piemonte Barbera ', 'Tenuta Argiano, Brunello di Montalcino ', 'Castello di Monsanto, Chianti Classico DOCG Riserva', 'Grattamacco, Bolgheri Rosso', \"Bellavista, 'Alma’ Franciacorta Gran Cuvee Brut ,NV\", 'Santa Margherita, Chianti Classico DOCG', 'Santa Margherita, Merlot IGT', 'Santa Margherita, Sparkling Rosè', 'Santa Margherita, Prosecco DOCG']\n",
      "url_product: 12\n",
      "['https://www.i-d-s.com/dubai/cantina-di-monteforte-soave-classico-superiore-montegrande-it4130.html', 'https://www.i-d-s.com/dubai/sartori-marzemino-villa-mura-it4143.html', 'https://www.i-d-s.com/dubai/prunotto-barbera-d-alba-piemonte-it1078.html', 'https://www.i-d-s.com/dubai/fontafredda-briccotondo-barbera-it4040.html', 'https://www.i-d-s.com/dubai/tenuta-argiano-brunello-di-montalcino-it1074.html', 'https://www.i-d-s.com/dubai/castello-di-monsanto-chianti-classico-docg-riserva-it1073.html', 'https://www.i-d-s.com/dubai/grattamacco-bolgheri-rosso-it1072.html', 'https://www.i-d-s.com/dubai/bellavista-alma-franciacorta-gran-cuvee-brut-nv-sw4016.html', 'https://www.i-d-s.com/dubai/santa-margherita-chianti-classico-docg-it1076.html', 'https://www.i-d-s.com/dubai/santa-margherita-merlot-igt-it1075.html', 'https://www.i-d-s.com/dubai/santa-margherita-sparkling-ros-sw1051.html', 'https://www.i-d-s.com/dubai/santa-margherita-prosecco-docg-sw1050.html']\n",
      "prices: 12\n",
      "reduced prices: 12\n",
      "['7.25', '9.30', '37.50', '23.65', '77.65', '52.40', '47.15', '44.95', '15.55', '13.65', '15.90', '15.90']\n",
      "https://www.i-d-s.com/dubai/wine/wines-by-country/italy.html?p=4\n"
     ]
    },
    {
     "name": "stderr",
     "output_type": "stream",
     "text": [
      "/var/folders/9z/sjrbpv9j1996t3_4wv3ry65c0000gn/T/ipykernel_31041/3340895757.py:83: FutureWarning: The frame.append method is deprecated and will be removed from pandas in a future version. Use pandas.concat instead.\n",
      "  df_aggregated=df_aggregated.append(df)\n"
     ]
    },
    {
     "name": "stdout",
     "output_type": "stream",
     "text": [
      "name: 12\n",
      "['Santa Margherita, Pinot Grigio Valdadige DOC ', 'Contrada Monte Gorna \" Etna Rosso\" (Organic)', 'Mandrarossa Costadune Grillo', 'Allegrini Oasi Mantellina Lugana', \"Cantine Belisario Verdicchio `Terre Di Valbona'\", 'Vesevo Greco Di Tufo Docg', 'Poggio Al Tesoro, Alegrini Estates `Cassiopea` Bolgheri Rosato', 'Mandrarossa Casa Mia Catarratto', 'Allegrini Estates Rosso Di Montalcino, San Polo', 'Allegrini Estates Rubio, San Polo', 'Mediceo Chianti', 'Corte Giara Bardolino']\n",
      "url_product: 12\n",
      "['https://www.i-d-s.com/dubai/santa-margherita-pinot-grigio-valdadige-doc-it1077.html', 'https://www.i-d-s.com/dubai/contrada-monte-gorna-etna-rosso-organic-it1071.html', 'https://www.i-d-s.com/dubai/mandrarossa-costadune-grillo-it4066.html', 'https://www.i-d-s.com/dubai/allegrini-oasi-mantellina-lugana-it4025.html', 'https://www.i-d-s.com/dubai/cantine-belisario-verdicchio-terre-di-valbona-it4028.html', 'https://www.i-d-s.com/dubai/vesevo-greco-di-tufo-docg-it4019.html', 'https://www.i-d-s.com/dubai/poggio-al-tesoro-alegrini-estates-cassiopea-bolgheri-rosato-it4090.html', 'https://www.i-d-s.com/dubai/mandrarossa-casa-mia-catarratto-it4063.html', 'https://www.i-d-s.com/dubai/allegrini-estates-rosso-di-montalcino-san-polo-it4105.html', 'https://www.i-d-s.com/dubai/allegrini-estates-rubio-san-polo-it4097.html', 'https://www.i-d-s.com/dubai/mediceo-chianti-it4091.html', 'https://www.i-d-s.com/dubai/corte-giara-bardolino-it4152.html']\n",
      "prices: 12\n",
      "reduced prices: 12\n",
      "['15.45', '22.10', '13.20', '22.80', '11.95', '16.60', '31.00', '8.80', '39.75', '19.10', '10.50', '11.60']\n",
      "https://www.i-d-s.com/dubai/wine/wines-by-country/italy.html?p=5\n"
     ]
    },
    {
     "name": "stderr",
     "output_type": "stream",
     "text": [
      "/var/folders/9z/sjrbpv9j1996t3_4wv3ry65c0000gn/T/ipykernel_31041/3340895757.py:83: FutureWarning: The frame.append method is deprecated and will be removed from pandas in a future version. Use pandas.concat instead.\n",
      "  df_aggregated=df_aggregated.append(df)\n"
     ]
    },
    {
     "name": "stdout",
     "output_type": "stream",
     "text": [
      "name: 12\n",
      "[\"Cantine Belisario Lacrima Di Morro D'Alba\", 'Antichi Poderi Jerzu Cannonau Bantu', 'Alpha Zeta V` Valpolicella', 'Pieropan Ruberpan` Valpolicella Superiore', 'Vigneto Del Vulture Aglianico Pipoli', 'Purato Catarratto/Pinot Grigio, Sicily - Organic', 'Poggiotondo,Organic Chianti', 'Ripa Delle Mandorle IGT Toscana Rosso, Vicchiomaggio', \"Montresor Amarone della Valpolicella 'Satinato'\", 'Lugarara, Gavi Di Gavi , La Giustiniana, Piemonte', 'Ripa Delle More Toscana IGT, Castello Vicchiomaggio', 'Lambrusco Rosso Minini']\n",
      "url_product: 12\n",
      "['https://www.i-d-s.com/dubai/cantine-belisario-lacrima-di-morro-d-alba-it4031.html', 'https://www.i-d-s.com/dubai/antichi-poderi-jerzu-cannonau-bantu-it4061.html', 'https://www.i-d-s.com/dubai/alpha-zeta-v-valpolicella-it4151.html', 'https://www.i-d-s.com/dubai/pieropan-ruberpan-valpolicella-superiore-it4161.html', 'https://www.i-d-s.com/dubai/vigneto-del-vulture-aglianico-pipoli-it4018.html', 'https://www.i-d-s.com/dubai/purato-catarratto-pinot-grigio-sicily-organic-it1105.html', 'https://www.i-d-s.com/dubai/poggiotondo-organic-chianti-it1052.html', 'https://www.i-d-s.com/dubai/ripa-delle-mandorle-igt-toscana-rosso-vicchiomaggio-it1100.html', 'https://www.i-d-s.com/dubai/montresor-amarone-della-valpolicella-satinato-it1029.html', 'https://www.i-d-s.com/dubai/lugarara-gavi-di-gavi-la-giustiniana-piemonte-it1061.html', 'https://www.i-d-s.com/dubai/ripa-delle-more-toscana-igt-castello-vicchiomaggio-it1096.html', 'https://www.i-d-s.com/dubai/lambrusco-rosso-minini-sw1102.html']\n",
      "prices: 12\n",
      "reduced prices: 12\n",
      "['15.35', '15.20', '12.10', '31.65', '13.45', '13.80', '16.25', '12.75', '37.55', '20.50', '36.65', '5.95']\n",
      "https://www.i-d-s.com/dubai/wine/wines-by-country/italy.html?p=6\n"
     ]
    },
    {
     "name": "stderr",
     "output_type": "stream",
     "text": [
      "/var/folders/9z/sjrbpv9j1996t3_4wv3ry65c0000gn/T/ipykernel_31041/3340895757.py:83: FutureWarning: The frame.append method is deprecated and will be removed from pandas in a future version. Use pandas.concat instead.\n",
      "  df_aggregated=df_aggregated.append(df)\n"
     ]
    },
    {
     "name": "stdout",
     "output_type": "stream",
     "text": [
      "name: 12\n",
      "['Brunello Di Montalcino, San Polo, Tuscany', 'FSM Castello Vicchiomaggio, Merlot Toscana IGT', 'Terre Antiche, Gavi di Gavi, Piemonte', 'Mandrarossa Viognier Le Sénie', 'Contrada Monte San Nicolo Etna Bianco (Organic)', 'Antichi Poderi Jerzu \"Telavè\", Vermentino di Sardegna', \"Pieropan 'Calvarino', Soave Classico, Veneto\", 'Pinot Grigio Piave La di Motte', 'Bertani Due Uve Bianco Pinot Grigio-Sauvignon IGT', 'Fontana Candida Frascati Superiore DOCG', 'Antinori San Giovanni della Sala Orvieto Classico Superiore', 'Antinori Cervaro della Sala']\n",
      "url_product: 12\n",
      "['https://www.i-d-s.com/dubai/brunello-di-montalcino-san-polo-tuscany-it1062.html', 'https://www.i-d-s.com/dubai/fsm-castello-vicchiomaggio-merlot-toscana-igt-it1099.html', 'https://www.i-d-s.com/dubai/terre-antiche-gavi-di-gavi-piemonte-it1001.html', 'https://www.i-d-s.com/dubai/mandrarossa-viognier-le-s-nie-it1004.html', 'https://www.i-d-s.com/dubai/etna-bianco-fondo-filara-organic-it1006.html', 'https://www.i-d-s.com/dubai/antichi-poderi-jerzu-telav-vermentino-di-sardegna-it1007.html', 'https://www.i-d-s.com/dubai/pieropan-calvarino-soave-classico-veneto-it1010.html', 'https://www.i-d-s.com/dubai/pinot-grigio-piave-la-di-motte-it1012.html', 'https://www.i-d-s.com/dubai/bertani-due-uve-bianco-pinot-grigio-sauvignon-igt-it1013.html', 'https://www.i-d-s.com/dubai/fontana-candida-frascati-superiore-docg-it1016.html', 'https://www.i-d-s.com/dubai/antinori-san-giovanni-della-sala-orvieto-classico-superiore-it1017.html', 'https://www.i-d-s.com/dubai/antinori-cervaro-della-sala-it1018.html']\n",
      "prices: 12\n",
      "reduced prices: 12\n",
      "['79.25', '215.45', '13.90', '13.00', '17.10', '15.85', '23.00', '8.25', '13.15', '8.15', '22.95', '124.35']\n",
      "https://www.i-d-s.com/dubai/wine/wines-by-country/italy.html?p=7\n"
     ]
    },
    {
     "name": "stderr",
     "output_type": "stream",
     "text": [
      "/var/folders/9z/sjrbpv9j1996t3_4wv3ry65c0000gn/T/ipykernel_31041/3340895757.py:83: FutureWarning: The frame.append method is deprecated and will be removed from pandas in a future version. Use pandas.concat instead.\n",
      "  df_aggregated=df_aggregated.append(df)\n"
     ]
    },
    {
     "name": "stdout",
     "output_type": "stream",
     "text": [
      "name: 12\n",
      "['Rometta Sangiovese Rubicone IGT', 'Prunotto, Occhetti Langhe, Nebbiolo, Piedmont', 'Patrizi Barolo DOCG', \"Mandrarossa Nero d'Avola Costadune\", 'Planeta La Segreta Rosso IGT', 'Antinori, Peppoli Chianti Classico DOCG', \"Poggio al Tesoro, 'Il Seggio' Bolgheri, Tuscany\", 'Antinori, Marchese Chianti Classico Riserva DOCG', 'Antinori, Tignanello', 'Sartori \"Regolo\" Valpolicella Superiore Ripasso DOC', 'Allegrini Amarone della Valpolicella Classico DOCG', 'Prunotto Moscato d’Asti']\n",
      "url_product: 12\n",
      "['https://www.i-d-s.com/dubai/rometta-sangiovese-rubicone-igt-it1022.html', 'https://www.i-d-s.com/dubai/prunotto-occhetti-langhe-nebbiolo-piedmont-it1024.html', 'https://www.i-d-s.com/dubai/patrizi-barolo-docg-it1026.html', 'https://www.i-d-s.com/dubai/mandrarossa-nero-d-avola-costadune-it1030.html', 'https://www.i-d-s.com/dubai/planeta-la-segreta-rosso-igt-it1031.html', 'https://www.i-d-s.com/dubai/antinori-peppoli-chianti-classico-docg-it1037.html', 'https://www.i-d-s.com/dubai/poggio-al-tesoro-il-seggio-bolgheri-tuscany-it1038.html', 'https://www.i-d-s.com/dubai/antinori-marchese-chianti-classico-riserva-docg-it1040.html', 'https://www.i-d-s.com/dubai/antinori-tignanello-it1042.html', 'https://www.i-d-s.com/dubai/sartori-regolo-valpolicella-superiore-ripasso-doc-it1045.html', 'https://www.i-d-s.com/dubai/allegrini-amarone-della-valpolicella-classico-docg-it1048.html', 'https://www.i-d-s.com/dubai/prunotto-moscato-d-asti-sw1008.html']\n",
      "prices: 12\n",
      "reduced prices: 12\n",
      "['5.20', '28.40', '32.60', '12.25', '10.80', '26.75', '35.75', '59.15', '180.20', '15.85', '96.95', '15.30']\n",
      "https://www.i-d-s.com/dubai/wine/wines-by-country/italy.html?p=8\n"
     ]
    },
    {
     "name": "stderr",
     "output_type": "stream",
     "text": [
      "/var/folders/9z/sjrbpv9j1996t3_4wv3ry65c0000gn/T/ipykernel_31041/3340895757.py:83: FutureWarning: The frame.append method is deprecated and will be removed from pandas in a future version. Use pandas.concat instead.\n",
      "  df_aggregated=df_aggregated.append(df)\n"
     ]
    },
    {
     "name": "stdout",
     "output_type": "stream",
     "text": [
      "name: 0\n",
      "[]\n",
      "url_product: 0\n",
      "[]\n",
      "prices: 0\n",
      "reduced prices: 0\n",
      "[]\n",
      "---------------\n"
     ]
    },
    {
     "name": "stderr",
     "output_type": "stream",
     "text": [
      "/var/folders/9z/sjrbpv9j1996t3_4wv3ry65c0000gn/T/ipykernel_31041/3340895757.py:83: FutureWarning: The frame.append method is deprecated and will be removed from pandas in a future version. Use pandas.concat instead.\n",
      "  df_aggregated=df_aggregated.append(df)\n"
     ]
    },
    {
     "name": "stdout",
     "output_type": "stream",
     "text": [
      "spain\n",
      "https://www.i-d-s.com/dubai/wine/wines-by-country/spain.html?p=1\n",
      "name: 12\n",
      "['Miguel Torres Sangre de Toro', \"L'Atzar Priorat\", 'Vega Sicilia, Unico 2013', 'Miguel Torres Celeste Crianza', 'Bodegas Protos Roble', 'Bodegas Bejamin de Rothschild &amp; Vega Sicilia, Macan Classico 2019', 'Bodegas Bejamin de Rothschild &amp; Vega Sicilia, Macan 2018', 'Vins El Cep Clot Del Roure Xarel-Lo', 'Vins El Cep Gr5 Senders Negre De Terrer( Tempranillo/Cabernet/Merlot/Syrah)', 'E De Esperanza Verdejo Organic', 'Pittacum Bierzo, Mencia', \"Bodegas Castro Ventosa 'El Castro De Valtuille' Mencia Joven\"]\n",
      "url_product: 12\n",
      "['https://www.i-d-s.com/dubai/miguel-torres-sangre-de-toro-sp1012.html', 'https://www.i-d-s.com/dubai/l-atzar-priorat-sp1050.html', 'https://www.i-d-s.com/dubai/vega-sicilia-unico-2013-sp1057.html', 'https://www.i-d-s.com/dubai/miguel-torres-celeste-crianza-sp1010.html', 'https://www.i-d-s.com/dubai/bodegas-protos-roble-sp1009.html', 'https://www.i-d-s.com/dubai/bodegas-bejamin-de-rothschild-vega-sicilia-macan-classico-2019-sp1059.html', 'https://www.i-d-s.com/dubai/bodegas-bejamin-de-rothschild-vega-sicilia-macan-2018-sp1060.html', 'https://www.i-d-s.com/dubai/vins-el-cep-clot-del-roure-xarel-lo-sp4036.html', 'https://www.i-d-s.com/dubai/vins-el-cep-gr5-senders-negre-de-terrer-tempranillo-cabernet-merlot-syrah-sp4039.html', 'https://www.i-d-s.com/dubai/e-de-esperanza-verdejo-organic-sp4059.html', 'https://www.i-d-s.com/dubai/pittacum-bierzo-mencia-sp4066.html', 'https://www.i-d-s.com/dubai/bodegas-castro-ventosa-el-castro-de-valtuille-mencia-joven-sp4071.html']\n",
      "prices: 12\n",
      "reduced prices: 12\n",
      "['9.20', '25.75', '495.55', '25.35', '16.90', '56.35', '92.60', '14.95', '10.05', '11.25', '12.50', '9.45']\n",
      "https://www.i-d-s.com/dubai/wine/wines-by-country/spain.html?p=2\n"
     ]
    },
    {
     "name": "stderr",
     "output_type": "stream",
     "text": [
      "/var/folders/9z/sjrbpv9j1996t3_4wv3ry65c0000gn/T/ipykernel_31041/3340895757.py:83: FutureWarning: The frame.append method is deprecated and will be removed from pandas in a future version. Use pandas.concat instead.\n",
      "  df_aggregated=df_aggregated.append(df)\n"
     ]
    },
    {
     "name": "stdout",
     "output_type": "stream",
     "text": [
      "name: 12\n",
      "['Martín Codax Cuatro Pasos Mencia', '12 Lunas Tinto', 'Baltasar Gracián Blanco De Hielo, Macebeo, Baltasar Gracián', 'Bodegas Godeval \"Godeval\", Godello', 'Adegas Valminor Minius Mencia', 'Bobal De San Juan Tinto', 'Alceno Gil 4 Meses Amarillo, Monastrell/Syrah, Juan Gil', 'Alceno Syrah 50 Barricas, Monastrell/Syrah, Bodegas Alceño', 'Bodegas Tagonius \"Tagonius Blanco\" (Malvar/Moscatel/Sauvignon Blanc)', 'Casa De Monroy \"Alceno De Monroy Garnacha Y Syrah 3M\"', 'Viñas Del Regajal \"Las Retamas Del Regaja', 'Bodegas Alejandro Fernandez\" El Vinculo Tempranillo (Crianza)']\n",
      "url_product: 12\n",
      "['https://www.i-d-s.com/dubai/mart-n-codax-cuatro-pasos-mencia-sp4073.html', 'https://www.i-d-s.com/dubai/12-lunas-tinto-sp4119.html', 'https://www.i-d-s.com/dubai/baltasar-graci-n-blanco-de-hielo-macebeo-baltasar-graci-n-sp4124.html', 'https://www.i-d-s.com/dubai/bodegas-godeval-godeval-godello-sp4131.html', 'https://www.i-d-s.com/dubai/adegas-valminor-minius-mencia-sp4141.html', 'https://www.i-d-s.com/dubai/bobal-de-san-juan-tinto-sp4153.html', 'https://www.i-d-s.com/dubai/alceno-gil-4-meses-amarillo-monastrell-syrah-juan-gil-sp4163.html', 'https://www.i-d-s.com/dubai/alceno-syrah-50-barricas-monastrell-syrah-bodegas-alce-o-sp4164.html', 'https://www.i-d-s.com/dubai/bodegas-tagonius-tagonius-blanco-malvar-moscatel-sauvignon-blanc-sp4171.html', 'https://www.i-d-s.com/dubai/casa-de-monroy-alceno-de-monroy-garnacha-y-syrah-3m-sp4172.html', 'https://www.i-d-s.com/dubai/vi-as-del-regajal-las-retamas-del-regaja-sp4173.html', 'https://www.i-d-s.com/dubai/bodegas-alejandro-fernandez-el-vinculo-tempranillo-crianza-sp4178.html']\n",
      "prices: 12\n",
      "reduced prices: 12\n",
      "['10.00', '12.15', '12.00', '16.80', '8.95', '8.00', '8.70', '10.60', '8.75', '9.80', '10.70', '13.05']\n",
      "https://www.i-d-s.com/dubai/wine/wines-by-country/spain.html?p=3\n"
     ]
    },
    {
     "name": "stderr",
     "output_type": "stream",
     "text": [
      "/var/folders/9z/sjrbpv9j1996t3_4wv3ry65c0000gn/T/ipykernel_31041/3340895757.py:83: FutureWarning: The frame.append method is deprecated and will be removed from pandas in a future version. Use pandas.concat instead.\n",
      "  df_aggregated=df_aggregated.append(df)\n"
     ]
    },
    {
     "name": "stdout",
     "output_type": "stream",
     "text": [
      "name: 12\n",
      "['Vins El Cep, Mim Natura Blanc De Noirs Gran Reserva, Organic Pinot Noir/Chardonnay', 'Anna Blanc De Blancs, Codorníu Brut Reserva', \"Vins El Cep, L'Alzinar Reserva Brut, Chardonnay/Parellada\", \"Marques De Murrieta 'Capellania'&nbsp; Blanco Reserva\", 'Cvne Imperial Reserva, Rioja', 'Ossian Viñas Viejas Vedejo', 'Shaya Habis Verdejo , Rueda', 'Protos Reserva, 5 Años Ribera Del Duero ', 'Adegas Valminor \"Abade Do Couto\" El Rebelde ( Souzao/Caino Tinto/Alvarelhao)', \"Adegas Valminor'Davila O Rasal (Albarino/Loureiro/Treixadura)\", 'Bodegas Navajas Rioja Blanco', 'CVNE, Monopole Unoaked Blanco Rioja']\n",
      "url_product: 12\n",
      "['https://www.i-d-s.com/dubai/vins-el-cep-mim-natura-blanc-de-noirs-gran-reserva-organic-pinot-noir-chardonnay-sw4031.html', 'https://www.i-d-s.com/dubai/anna-blanc-de-blancs-codorn-u-sw4028.html', 'https://www.i-d-s.com/dubai/vins-el-cep-l-alzinar-reserva-brut-chardonnay-parellada-sw4023.html', 'https://www.i-d-s.com/dubai/marques-de-murrieta-capellania-reserva-sp4002.html', 'https://www.i-d-s.com/dubai/cvne-imperial-reserva-rioja-sp4029.html', 'https://www.i-d-s.com/dubai/ossian-vi-as-viejas-vedejo-sp4061.html', 'https://www.i-d-s.com/dubai/shaya-habis-verdejo-rueda-sp4060.html', 'https://www.i-d-s.com/dubai/protos-reserva-ribera-del-duero-sp4084.html', 'https://www.i-d-s.com/dubai/adegas-valminor-abade-do-couto-souzao-caino-tinto-alvarelhao-sp4133.html', 'https://www.i-d-s.com/dubai/adegas-valminor-davila-o-rasal-albarino-loureiro-treixadura-sp4136.html', 'https://www.i-d-s.com/dubai/bodegas-navajas-rioja-blanco-sp1000.html', 'https://www.i-d-s.com/dubai/cvne-monopole-unoaked-blanco-rioja-sp1033.html']\n",
      "prices: 12\n",
      "reduced prices: 12\n",
      "['18.60', '16.25', '9.85', '45.40', '34.35', '44.05', '47.25', '32.95', '9.55', '15.05', '9.90', '10.15']\n",
      "https://www.i-d-s.com/dubai/wine/wines-by-country/spain.html?p=4\n"
     ]
    },
    {
     "name": "stderr",
     "output_type": "stream",
     "text": [
      "/var/folders/9z/sjrbpv9j1996t3_4wv3ry65c0000gn/T/ipykernel_31041/3340895757.py:83: FutureWarning: The frame.append method is deprecated and will be removed from pandas in a future version. Use pandas.concat instead.\n",
      "  df_aggregated=df_aggregated.append(df)\n"
     ]
    },
    {
     "name": "stdout",
     "output_type": "stream",
     "text": [
      "name: 9\n",
      "['Bodega Navajas Rioja Rosado', 'Torres Vina Sol.', 'Merum Priorati Ardiles Priorat', 'Campo Viejo Tempranillo', 'CVNE Rioja Crianza', 'Campo Viejo Reserva', 'Vina Real Rioja Crianza', 'Campo Viejo Rioja Gran Reserva', 'CVNE Rioja Gran Reserva']\n",
      "url_product: 9\n",
      "['https://www.i-d-s.com/dubai/bodega-navajas-rioja-rosado-sp1008.html', 'https://www.i-d-s.com/dubai/torres-vina-sol-mw3000.html', 'https://www.i-d-s.com/dubai/merum-priorati-ardiles-priorat-sp1011.html', 'https://www.i-d-s.com/dubai/campo-viejo-tempranillo-sp1015.html', 'https://www.i-d-s.com/dubai/cvne-rioja-crianza-sp1019.html', 'https://www.i-d-s.com/dubai/campo-viejo-reserva-sp1020.html', 'https://www.i-d-s.com/dubai/vina-real-rioja-crianza-sp1021.html', 'https://www.i-d-s.com/dubai/campo-viejo-rioja-gran-reserva-sp1023.html', 'https://www.i-d-s.com/dubai/cvne-rioja-gran-reserva-sp1024.html']\n",
      "prices: 9\n",
      "reduced prices: 9\n",
      "['9.60', '51.10', '28.85', '7.50', '11.80', '17.25', '12.50', '16.85', '23.35']\n",
      "https://www.i-d-s.com/dubai/wine/wines-by-country/spain.html?p=5\n"
     ]
    },
    {
     "name": "stderr",
     "output_type": "stream",
     "text": [
      "/var/folders/9z/sjrbpv9j1996t3_4wv3ry65c0000gn/T/ipykernel_31041/3340895757.py:83: FutureWarning: The frame.append method is deprecated and will be removed from pandas in a future version. Use pandas.concat instead.\n",
      "  df_aggregated=df_aggregated.append(df)\n"
     ]
    },
    {
     "name": "stdout",
     "output_type": "stream",
     "text": [
      "name: 0\n",
      "[]\n",
      "url_product: 0\n",
      "[]\n",
      "prices: 0\n",
      "reduced prices: 0\n",
      "[]\n",
      "---------------\n"
     ]
    },
    {
     "name": "stderr",
     "output_type": "stream",
     "text": [
      "/var/folders/9z/sjrbpv9j1996t3_4wv3ry65c0000gn/T/ipykernel_31041/3340895757.py:83: FutureWarning: The frame.append method is deprecated and will be removed from pandas in a future version. Use pandas.concat instead.\n",
      "  df_aggregated=df_aggregated.append(df)\n"
     ]
    },
    {
     "name": "stdout",
     "output_type": "stream",
     "text": [
      "rest-of-the-world\n",
      "https://www.i-d-s.com/dubai/wine/wines-by-country/rest-of-the-world.html?p=1\n",
      "name: 12\n",
      "['Project B Sauvignon Blanc', \"Taylor's Fine Ruby Port\", 'Sepp Moser Grüner Veltliner Organic', 'Sepp Moser Zweigelt Organic', 'Trius Sauvignon Blanc', 'Trius Merlot', 'Alpha Estate Malagouzia Single Vineyard Turtles', 'Alpha Estate Red', 'Alpha Estate Xinomavro Single Vineyard Hedgehog', 'Ktima Gerovassiliou Malagousia', 'Ktima Gerovassiliou White', 'Ktima Gerovassiliou Xinomavro Rosé']\n",
      "url_product: 12\n",
      "['https://www.i-d-s.com/dubai/project-b-sauvignon-blanc-ca1005.html', 'https://www.i-d-s.com/dubai/taylor-s-fine-ruby-port-fd4033.html', 'https://www.i-d-s.com/dubai/sepp-moser-gr-ner-veltliner-organic-at1000.html', 'https://www.i-d-s.com/dubai/sepp-moser-zweigelt-organic-at1002.html', 'https://www.i-d-s.com/dubai/trius-sauvignon-blanc-ca1000.html', 'https://www.i-d-s.com/dubai/trius-merlot-ca1001.html', 'https://www.i-d-s.com/dubai/catalog/product/view/id/12726/s/alpha-estate-malagouzia-single-vineyard-turtles-gk1001/category/486/', 'https://www.i-d-s.com/dubai/alpha-estate-red-gk1005.html', 'https://www.i-d-s.com/dubai/alpha-estate-xinomavro-single-vineyard-hedgehog-gk1007.html', 'https://www.i-d-s.com/dubai/ktima-gerovassiliou-malagousia-gk1009.html', 'https://www.i-d-s.com/dubai/ktima-gerovassiliou-white-gk1010.html', 'https://www.i-d-s.com/dubai/ktima-gerovassiliou-xinomavro-rose-gk1011.html']\n",
      "prices: 12\n",
      "reduced prices: 12\n",
      "['30.25', '13.15', '14.65', '14.65', '24.35', '24.35', '12.45', '28.20', '16.80', '21.55', '18.90', '20.95']\n",
      "https://www.i-d-s.com/dubai/wine/wines-by-country/rest-of-the-world.html?p=2\n"
     ]
    },
    {
     "name": "stderr",
     "output_type": "stream",
     "text": [
      "/var/folders/9z/sjrbpv9j1996t3_4wv3ry65c0000gn/T/ipykernel_31041/3340895757.py:83: FutureWarning: The frame.append method is deprecated and will be removed from pandas in a future version. Use pandas.concat instead.\n",
      "  df_aggregated=df_aggregated.append(df)\n"
     ]
    },
    {
     "name": "stdout",
     "output_type": "stream",
     "text": [
      "name: 12\n",
      "['Ktima Gerovassiliou AVATON', 'Teliani Valley Glekhuri Kisi Qvevri', 'Teliani Valley Saperavi', 'Teliani Valley Glekhuri Kisiskhevi Saperavi Qvevri', 'Grace Koshu Private Reserve, Grace Winery Grace Yamanashi', 'Grace Koshu Hishiyama, Private Reserve, Grace Winery, Yamanashi', 'Château Ksara Blanc de Blancs', 'Château Ksara Sunset Rosé', 'Vinho Verde Loureiro/Alvarinho, Azevedo, Portugal', 'Mateus Rosé', 'Terra Franca,Vinho Regional Tinto', 'Calusari Pinot Grigio']\n",
      "url_product: 12\n",
      "['https://www.i-d-s.com/dubai/ktima-gerovassiliou-avaton-gk1012.html', 'https://www.i-d-s.com/dubai/teliani-valley-glekhuri-kisi-qvevri-go1000.html', 'https://www.i-d-s.com/dubai/teliani-valley-saperavi-go1001.html', 'https://www.i-d-s.com/dubai/teliani-valley-glekhuri-kisiskhevi-saperavi-qvevri-go1002.html', 'https://www.i-d-s.com/dubai/grace-koshu-private-reserve-grace-winery-grace-yamanashi-jp1001.html', 'https://www.i-d-s.com/dubai/grace-koshu-hishiyama-private-reserve-grace-winery-yamanashi-jp1002.html', 'https://www.i-d-s.com/dubai/ch-teau-ksara-blanc-de-blancs-lb1000.html', 'https://www.i-d-s.com/dubai/ch-teau-ksara-sunset-ros-lb1002.html', 'https://www.i-d-s.com/dubai/vinho-verde-loureiro-alvarinho-azevedo-portugal-pt1001.html', 'https://www.i-d-s.com/dubai/mateus-ros-pt1002.html', 'https://www.i-d-s.com/dubai/terra-franca-vinho-regional-tinto-pt1003.html', 'https://www.i-d-s.com/dubai/calusari-pinot-grigio-ro1000.html']\n",
      "prices: 12\n",
      "reduced prices: 12\n",
      "['29.15', '22.55', '13.30', '22.55', '33.75', '34.80', '13.30', '11.75', '10.85', '8.15', '8.00', '8.85']\n",
      "https://www.i-d-s.com/dubai/wine/wines-by-country/rest-of-the-world.html?p=3\n"
     ]
    },
    {
     "name": "stderr",
     "output_type": "stream",
     "text": [
      "/var/folders/9z/sjrbpv9j1996t3_4wv3ry65c0000gn/T/ipykernel_31041/3340895757.py:83: FutureWarning: The frame.append method is deprecated and will be removed from pandas in a future version. Use pandas.concat instead.\n",
      "  df_aggregated=df_aggregated.append(df)\n"
     ]
    },
    {
     "name": "stdout",
     "output_type": "stream",
     "text": [
      "name: 1\n",
      "['Calusari Pinot Noir']\n",
      "url_product: 1\n",
      "['https://www.i-d-s.com/dubai/calusari-pinot-noir-ro1001.html']\n",
      "prices: 1\n",
      "reduced prices: 1\n",
      "['8.85']\n",
      "https://www.i-d-s.com/dubai/wine/wines-by-country/rest-of-the-world.html?p=4\n"
     ]
    },
    {
     "name": "stderr",
     "output_type": "stream",
     "text": [
      "/var/folders/9z/sjrbpv9j1996t3_4wv3ry65c0000gn/T/ipykernel_31041/3340895757.py:83: FutureWarning: The frame.append method is deprecated and will be removed from pandas in a future version. Use pandas.concat instead.\n",
      "  df_aggregated=df_aggregated.append(df)\n"
     ]
    },
    {
     "name": "stdout",
     "output_type": "stream",
     "text": [
      "name: 0\n",
      "[]\n",
      "url_product: 0\n",
      "[]\n",
      "prices: 0\n",
      "reduced prices: 0\n",
      "[]\n",
      "---------------\n"
     ]
    },
    {
     "name": "stderr",
     "output_type": "stream",
     "text": [
      "/var/folders/9z/sjrbpv9j1996t3_4wv3ry65c0000gn/T/ipykernel_31041/3340895757.py:83: FutureWarning: The frame.append method is deprecated and will be removed from pandas in a future version. Use pandas.concat instead.\n",
      "  df_aggregated=df_aggregated.append(df)\n"
     ]
    }
   ],
   "source": [
    "df_wine_diplo=get_data(parameters[0])"
   ]
  },
  {
   "cell_type": "code",
   "execution_count": 27,
   "id": "84d68a74",
   "metadata": {},
   "outputs": [
    {
     "data": {
      "text/html": [
       "<div>\n",
       "<style scoped>\n",
       "    .dataframe tbody tr th:only-of-type {\n",
       "        vertical-align: middle;\n",
       "    }\n",
       "\n",
       "    .dataframe tbody tr th {\n",
       "        vertical-align: top;\n",
       "    }\n",
       "\n",
       "    .dataframe thead th {\n",
       "        text-align: right;\n",
       "    }\n",
       "</style>\n",
       "<table border=\"1\" class=\"dataframe\">\n",
       "  <thead>\n",
       "    <tr style=\"text-align: right;\">\n",
       "      <th></th>\n",
       "      <th>0</th>\n",
       "      <th>1</th>\n",
       "      <th>2</th>\n",
       "      <th>country</th>\n",
       "      <th>vivino_url</th>\n",
       "      <th>vivino_rating</th>\n",
       "      <th>vivino_name</th>\n",
       "      <th>vivino_price</th>\n",
       "      <th>vivino_country</th>\n",
       "      <th>vivino_region</th>\n",
       "      <th>nb_ratings</th>\n",
       "    </tr>\n",
       "  </thead>\n",
       "  <tbody>\n",
       "    <tr>\n",
       "      <th>0</th>\n",
       "      <td>16.95</td>\n",
       "      <td>M.Chapoutier, Rasteau \" Les Gadilles\"</td>\n",
       "      <td>https://www.i-d-s.com/dubai/m-chapoutier-raste...</td>\n",
       "      <td>france</td>\n",
       "      <td>https://www.vivino.com/FR/en/wines/169803930</td>\n",
       "      <td>3.7</td>\n",
       "      <td>M. Chapoutier Les Gadilles Rasteau 0</td>\n",
       "      <td>15.50</td>\n",
       "      <td>france</td>\n",
       "      <td>rasteau</td>\n",
       "      <td>166</td>\n",
       "    </tr>\n",
       "    <tr>\n",
       "      <th>1</th>\n",
       "      <td>9.25</td>\n",
       "      <td>M.Chapoutier, Luberon 'La Ciboise' Rouge</td>\n",
       "      <td>https://www.i-d-s.com/dubai/m-chapoutier-luber...</td>\n",
       "      <td>france</td>\n",
       "      <td>https://www.vivino.com/FR/en/wines/1471076</td>\n",
       "      <td>3.6</td>\n",
       "      <td>M. Chapoutier Luberon La Ciboise 0</td>\n",
       "      <td>—</td>\n",
       "      <td>france</td>\n",
       "      <td>luberon</td>\n",
       "      <td>5088</td>\n",
       "    </tr>\n",
       "    <tr>\n",
       "      <th>2</th>\n",
       "      <td>33.00</td>\n",
       "      <td>Vranken Brut Nature VDC with Gift Box</td>\n",
       "      <td>https://www.i-d-s.com/dubai/vranken-brut-natur...</td>\n",
       "      <td>france</td>\n",
       "      <td>https://www.vivino.com/FR/en/wines/155582683</td>\n",
       "      <td>3.7</td>\n",
       "      <td>Vranken Brut Nature Champagne 0</td>\n",
       "      <td>—</td>\n",
       "      <td>france</td>\n",
       "      <td>champagne</td>\n",
       "      <td>565</td>\n",
       "    </tr>\n",
       "    <tr>\n",
       "      <th>3</th>\n",
       "      <td>76.85</td>\n",
       "      <td>Veuve Clicquot Yellow Label Brut</td>\n",
       "      <td>https://www.i-d-s.com/dubai/veuve-clicquot-yel...</td>\n",
       "      <td>france</td>\n",
       "      <td>https://www.vivino.com/FR/en/wines/164942636</td>\n",
       "      <td>4.3</td>\n",
       "      <td>Veuve Clicquot Brut (Carte Jaune) Champagne 0</td>\n",
       "      <td>—</td>\n",
       "      <td>france</td>\n",
       "      <td>champagne</td>\n",
       "      <td>126956</td>\n",
       "    </tr>\n",
       "    <tr>\n",
       "      <th>4</th>\n",
       "      <td>63.05</td>\n",
       "      <td>Moët &amp;amp; Chandon Brut Impérial</td>\n",
       "      <td>https://www.i-d-s.com/dubai/mo-t-chandon-brut-...</td>\n",
       "      <td>france</td>\n",
       "      <td>https://www.vivino.com/FR/en/wines/164942645</td>\n",
       "      <td>4.1</td>\n",
       "      <td>Moët \\u0026 Chandon Impérial Brut Champagne 0</td>\n",
       "      <td>—</td>\n",
       "      <td>france</td>\n",
       "      <td>champagne</td>\n",
       "      <td>115219</td>\n",
       "    </tr>\n",
       "    <tr>\n",
       "      <th>...</th>\n",
       "      <td>...</td>\n",
       "      <td>...</td>\n",
       "      <td>...</td>\n",
       "      <td>...</td>\n",
       "      <td>...</td>\n",
       "      <td>...</td>\n",
       "      <td>...</td>\n",
       "      <td>...</td>\n",
       "      <td>...</td>\n",
       "      <td>...</td>\n",
       "      <td>...</td>\n",
       "    </tr>\n",
       "    <tr>\n",
       "      <th>8</th>\n",
       "      <td>10.85</td>\n",
       "      <td>Vinho Verde Loureiro/Alvarinho, Azevedo, Portugal</td>\n",
       "      <td>https://www.i-d-s.com/dubai/vinho-verde-lourei...</td>\n",
       "      <td>rest-of-the-world</td>\n",
       "      <td>https://www.vivino.com/FR/en/wines/161350291</td>\n",
       "      <td>3.8</td>\n",
       "      <td>Quinta de Azevedo Azevedo Loureiro - Alvarinho 0</td>\n",
       "      <td>—</td>\n",
       "      <td>portugal</td>\n",
       "      <td>vinho-verde</td>\n",
       "      <td>2267</td>\n",
       "    </tr>\n",
       "    <tr>\n",
       "      <th>9</th>\n",
       "      <td>8.15</td>\n",
       "      <td>Mateus Rosé</td>\n",
       "      <td>https://www.i-d-s.com/dubai/mateus-ros-pt1002....</td>\n",
       "      <td>rest-of-the-world</td>\n",
       "      <td>https://www.vivino.com/FR/en/wines/164942646</td>\n",
       "      <td>3.7</td>\n",
       "      <td>Mateus The Original Rosé 0</td>\n",
       "      <td>—</td>\n",
       "      <td>portugal</td>\n",
       "      <td>douro</td>\n",
       "      <td>50172</td>\n",
       "    </tr>\n",
       "    <tr>\n",
       "      <th>10</th>\n",
       "      <td>8.00</td>\n",
       "      <td>Terra Franca,Vinho Regional Tinto</td>\n",
       "      <td>https://www.i-d-s.com/dubai/terra-franca-vinho...</td>\n",
       "      <td>rest-of-the-world</td>\n",
       "      <td>https://www.vivino.com/FR/en/wines/3474269</td>\n",
       "      <td>0.0</td>\n",
       "      <td>Ouro Da Terra Vinho Regional Beiras Tinto 0</td>\n",
       "      <td>—</td>\n",
       "      <td>portugal</td>\n",
       "      <td>alentejano</td>\n",
       "      <td>2603</td>\n",
       "    </tr>\n",
       "    <tr>\n",
       "      <th>11</th>\n",
       "      <td>8.85</td>\n",
       "      <td>Calusari Pinot Grigio</td>\n",
       "      <td>https://www.i-d-s.com/dubai/calusari-pinot-gri...</td>\n",
       "      <td>rest-of-the-world</td>\n",
       "      <td>https://www.vivino.com/FR/en/wines/3130030</td>\n",
       "      <td>3.7</td>\n",
       "      <td>Călușari Pinot Grigio 0</td>\n",
       "      <td>—</td>\n",
       "      <td>romania</td>\n",
       "      <td>recas</td>\n",
       "      <td>1891</td>\n",
       "    </tr>\n",
       "    <tr>\n",
       "      <th>0</th>\n",
       "      <td>8.85</td>\n",
       "      <td>Calusari Pinot Noir</td>\n",
       "      <td>https://www.i-d-s.com/dubai/calusari-pinot-noi...</td>\n",
       "      <td>rest-of-the-world</td>\n",
       "      <td>https://www.vivino.com/FR/en/wines/1652687</td>\n",
       "      <td>3.6</td>\n",
       "      <td>Călușari Pinot Noir 0</td>\n",
       "      <td>—</td>\n",
       "      <td>romania</td>\n",
       "      <td>recas</td>\n",
       "      <td>3055</td>\n",
       "    </tr>\n",
       "  </tbody>\n",
       "</table>\n",
       "<p>675 rows × 11 columns</p>\n",
       "</div>"
      ],
      "text/plain": [
       "        0                                                  1  \\\n",
       "0   16.95              M.Chapoutier, Rasteau \" Les Gadilles\"   \n",
       "1    9.25           M.Chapoutier, Luberon 'La Ciboise' Rouge   \n",
       "2   33.00              Vranken Brut Nature VDC with Gift Box   \n",
       "3   76.85                   Veuve Clicquot Yellow Label Brut   \n",
       "4   63.05                   Moët &amp; Chandon Brut Impérial   \n",
       "..    ...                                                ...   \n",
       "8   10.85  Vinho Verde Loureiro/Alvarinho, Azevedo, Portugal   \n",
       "9    8.15                                        Mateus Rosé   \n",
       "10   8.00                  Terra Franca,Vinho Regional Tinto   \n",
       "11   8.85                              Calusari Pinot Grigio   \n",
       "0    8.85                                Calusari Pinot Noir   \n",
       "\n",
       "                                                    2            country  \\\n",
       "0   https://www.i-d-s.com/dubai/m-chapoutier-raste...             france   \n",
       "1   https://www.i-d-s.com/dubai/m-chapoutier-luber...             france   \n",
       "2   https://www.i-d-s.com/dubai/vranken-brut-natur...             france   \n",
       "3   https://www.i-d-s.com/dubai/veuve-clicquot-yel...             france   \n",
       "4   https://www.i-d-s.com/dubai/mo-t-chandon-brut-...             france   \n",
       "..                                                ...                ...   \n",
       "8   https://www.i-d-s.com/dubai/vinho-verde-lourei...  rest-of-the-world   \n",
       "9   https://www.i-d-s.com/dubai/mateus-ros-pt1002....  rest-of-the-world   \n",
       "10  https://www.i-d-s.com/dubai/terra-franca-vinho...  rest-of-the-world   \n",
       "11  https://www.i-d-s.com/dubai/calusari-pinot-gri...  rest-of-the-world   \n",
       "0   https://www.i-d-s.com/dubai/calusari-pinot-noi...  rest-of-the-world   \n",
       "\n",
       "                                      vivino_url vivino_rating  \\\n",
       "0   https://www.vivino.com/FR/en/wines/169803930           3.7   \n",
       "1     https://www.vivino.com/FR/en/wines/1471076           3.6   \n",
       "2   https://www.vivino.com/FR/en/wines/155582683           3.7   \n",
       "3   https://www.vivino.com/FR/en/wines/164942636           4.3   \n",
       "4   https://www.vivino.com/FR/en/wines/164942645           4.1   \n",
       "..                                           ...           ...   \n",
       "8   https://www.vivino.com/FR/en/wines/161350291           3.8   \n",
       "9   https://www.vivino.com/FR/en/wines/164942646           3.7   \n",
       "10    https://www.vivino.com/FR/en/wines/3474269           0.0   \n",
       "11    https://www.vivino.com/FR/en/wines/3130030           3.7   \n",
       "0     https://www.vivino.com/FR/en/wines/1652687           3.6   \n",
       "\n",
       "                                         vivino_name vivino_price  \\\n",
       "0               M. Chapoutier Les Gadilles Rasteau 0        15.50   \n",
       "1                 M. Chapoutier Luberon La Ciboise 0            —   \n",
       "2                    Vranken Brut Nature Champagne 0            —   \n",
       "3      Veuve Clicquot Brut (Carte Jaune) Champagne 0            —   \n",
       "4      Moët \\u0026 Chandon Impérial Brut Champagne 0            —   \n",
       "..                                               ...          ...   \n",
       "8   Quinta de Azevedo Azevedo Loureiro - Alvarinho 0            —   \n",
       "9                         Mateus The Original Rosé 0            —   \n",
       "10       Ouro Da Terra Vinho Regional Beiras Tinto 0            —   \n",
       "11                           Călușari Pinot Grigio 0            —   \n",
       "0                              Călușari Pinot Noir 0            —   \n",
       "\n",
       "   vivino_country vivino_region nb_ratings  \n",
       "0          france       rasteau        166  \n",
       "1          france       luberon       5088  \n",
       "2          france     champagne        565  \n",
       "3          france     champagne     126956  \n",
       "4          france     champagne     115219  \n",
       "..            ...           ...        ...  \n",
       "8        portugal   vinho-verde       2267  \n",
       "9        portugal         douro      50172  \n",
       "10       portugal    alentejano       2603  \n",
       "11        romania         recas       1891  \n",
       "0         romania         recas       3055  \n",
       "\n",
       "[675 rows x 11 columns]"
      ]
     },
     "execution_count": 27,
     "metadata": {},
     "output_type": "execute_result"
    }
   ],
   "source": [
    "df_wine_diplo"
   ]
  },
  {
   "cell_type": "code",
   "execution_count": 36,
   "id": "00f28d70",
   "metadata": {
    "scrolled": false
   },
   "outputs": [],
   "source": [
    "df_wine_diplo.to_csv('test2.csv')"
   ]
  },
  {
   "cell_type": "code",
   "execution_count": 37,
   "id": "b8b26943",
   "metadata": {},
   "outputs": [],
   "source": [
    "#test\n",
    "browser=webdriver.Chrome(executable_path='/Users/hugoruizverastegui/Documents/perso github/chromedriver')\n",
    "browser.get('https://www.i-d-s.com/dubai/wine/wines-by-country/france.html?p=1')  \n",
    "htmlsource = browser.page_source\n",
    "htmlsource"
   ]
  },
  {
   "cell_type": "code",
   "execution_count": 17,
   "id": "6c59bbed",
   "metadata": {},
   "outputs": [],
   "source": [
    "df_wine_diplo['vivino_url']=''\n",
    "df_wine_diplo['vivino_rating']=''"
   ]
  },
  {
   "cell_type": "code",
   "execution_count": 18,
   "id": "4873daee",
   "metadata": {},
   "outputs": [],
   "source": [
    "df_wine_diplo_backup=df_wine_diplo"
   ]
  },
  {
   "cell_type": "code",
   "execution_count": 19,
   "id": "2f42cdd0",
   "metadata": {},
   "outputs": [],
   "source": [
    "def scrap_feature_vivino(feature_name,feature_regex,vivino_feature_list):\n",
    "        if len(re.findall(feature_regexp, htmlsource))==0:\n",
    "            vivino_feature_inter_list=['-']\n",
    "        else:\n",
    "            vivino_feature_inter_list=[re.findall(url_regexp, htmlsource)[0]]\n",
    "            \n",
    "        vivino_feature_list=vivino_feature_list+vivino_feature_inter_list\n",
    "    "
   ]
  },
  {
   "cell_type": "code",
   "execution_count": 20,
   "id": "5d20f26f",
   "metadata": {},
   "outputs": [],
   "source": [
    "#param for vivino scrapper\n",
    "features_vivino=['url','rating']\n",
    "\n",
    "rating_regexp=\"\\\"ratingValue\\\":(.*?),\"\n",
    "url_regexp='\\\"Product\\\",\\\"\\@id\\\":\\\"(.*?)\\\",'\n",
    "name_regexp=\"description\\\":\\\"Check out this (.*?) on Vivino\" \n",
    "price_regexp=\"class=\\\"wine-price-value\\\">(.*?)</span>\"\n",
    "region_regexp=\"wine-regions\\/(.*?)\\\"\"\n",
    "country_regexp=\"wine-countries\\/(.*?)\\\"\"\n",
    "nb_ratings_regexp=\"(\\d+) ratings\""
   ]
  },
  {
   "cell_type": "code",
   "execution_count": 40,
   "id": "1d675b80",
   "metadata": {},
   "outputs": [
    {
     "name": "stderr",
     "output_type": "stream",
     "text": [
      "/var/folders/9z/sjrbpv9j1996t3_4wv3ry65c0000gn/T/ipykernel_31041/1823086508.py:19: FutureWarning: The behavior of `series[i:j]` with an integer-dtype index is deprecated. In a future version, this will be treated as *label-based* indexing, consistent with e.g. `series[i]` lookups. To retain the old behavior, use `series.iloc[i:j]`. To get the future behavior, use `series.loc[i:j]`.\n",
      "  for search_txt in list_wine_search[0:10]:\n"
     ]
    }
   ],
   "source": [
    "# Code to send a wine name to Vivino and scrape the first result\n",
    "\n",
    "\n",
    "vivino_url_wine=[]\n",
    "vivino_rating_wine=[]\n",
    "vivino_name_wine=[]\n",
    "vivino_price_wine=[]\n",
    "vivino_country_wine=[]\n",
    "vivino_region_wine=[]\n",
    "vivino_nb_ratings_wine=[]\n",
    "\n",
    "list_wine_search=df_wine_diplo[1]\n",
    "\n",
    "# open browser\n",
    "#browser = webdriver.Chrome(ChromeDriverManager().install())\n",
    "browser=webdriver.Chrome(executable_path='/Users/hugoruizverastegui/Documents/perso github/chromedriver')\n",
    "browser.get('https://www.vivino.com/FR/en/')\n",
    "#for each wine name in the list \n",
    "for search_txt in list_wine_search[0:10]:\n",
    "    # write the wine name\n",
    "    #browser.get('https://www.vivino.com/FR/en/')  \n",
    "    time.sleep(1)\n",
    "    try:\n",
    "        # find the input bar\n",
    "        element=browser.find_element_by_class_name(\"searchBar_searchInput__Jje-K\")\n",
    "        element.clear()\n",
    "        element.send_keys(search_txt)\n",
    "        element.send_keys(Keys.RETURN)\n",
    "\n",
    "        # get the first result\n",
    "        time.sleep(2)\n",
    "\n",
    "        htmlsource = browser.page_source\n",
    "        rating_regexp=\"\\\"ratingValue\\\":(.*?),\"\n",
    "        url_regexp='\\\"Product\\\",\\\"\\@id\\\":\\\"(.*?)\\\",'\n",
    "        name_regexp=\"description\\\":\\\"Check out this (.*?) on Vivino\" \n",
    "        price_regexp=\"class=\\\"wine-price-value\\\">(.*?)</span>\"\n",
    "        region_regexp=\"wine-regions\\/(.*?)\\\"\"\n",
    "        country_regexp=\"wine-countries\\/(.*?)\\\"\"\n",
    "        nb_ratings_regexp=\"(\\d+) ratings\"\n",
    "\n",
    "        time.sleep(1)\n",
    "\n",
    "        if len(re.findall(url_regexp, htmlsource))==0:\n",
    "            vivino_url_wine_inter=['-']\n",
    "        else:\n",
    "            vivino_url_wine_inter=[re.findall(url_regexp, htmlsource)[0]]\n",
    "        \n",
    "        if len(re.findall(rating_regexp, htmlsource))==0:\n",
    "            vivino_rating_wine_inter= ['-']\n",
    "        else:\n",
    "            vivino_rating_wine_inter= [re.findall(rating_regexp, htmlsource)[0]]\n",
    "        \n",
    "        if len(re.findall(price_regexp, htmlsource))==0:\n",
    "            vivino_price_wine_inter= ['-']\n",
    "        else:\n",
    "            vivino_price_wine_inter= [re.findall(price_regexp, htmlsource)[0]]\n",
    "               \n",
    "        if len(re.findall(name_regexp, htmlsource))==0:\n",
    "            vivino_name_wine_inter= ['-']\n",
    "        else:\n",
    "            vivino_name_wine_inter= [re.findall(name_regexp, htmlsource)[0]]\n",
    "            \n",
    "        if len(re.findall(country_regexp, htmlsource))==0:\n",
    "            vivino_country_wine_inter= ['-']\n",
    "        else:\n",
    "            vivino_country_wine_inter= [re.findall(country_regexp, htmlsource)[0]]\n",
    "        \n",
    "        \n",
    "        if len(re.findall(region_regexp, htmlsource))==0:\n",
    "            vivino_region_wine_inter= ['-']\n",
    "        else:\n",
    "            vivino_region_wine_inter= [re.findall(region_regexp, htmlsource)[0]]\n",
    "        \n",
    "        if len(re.findall(nb_ratings_regexp, htmlsource))==0:\n",
    "            vivino_nb_ratings_wine_inter= ['-']\n",
    "        else:\n",
    "            vivino_nb_ratings_wine_inter= [re.findall(nb_ratings_regexp, htmlsource)[0]]\n",
    "        \n",
    "\n",
    "        vivino_url_wine=vivino_url_wine+vivino_url_wine_inter\n",
    "        vivino_rating_wine=vivino_rating_wine+vivino_rating_wine_inter\n",
    "        vivino_name_wine=vivino_name_wine+vivino_name_wine_inter\n",
    "        vivino_price_wine=vivino_price_wine+vivino_price_wine_inter\n",
    "        vivino_country_wine=vivino_country_wine+vivino_country_wine_inter\n",
    "        vivino_region_wine=vivino_region_wine+vivino_region_wine_inter\n",
    "        vivino_nb_ratings_wine=vivino_nb_ratings_wine+vivino_nb_ratings_wine_inter\n",
    "        \n",
    "        time.sleep(1)\n",
    "\n",
    "    except:\n",
    "        # so the same thing but regenerate the browser and wait 60s\n",
    "        print('blocked - waiting 60')\n",
    "        browser.close()\n",
    "        time.sleep(60)\n",
    "        \n",
    "        #browser = webdriver.Chrome(ChromeDriverManager().install())\n",
    "        browser=webdriver.Chrome(executable_path='/Users/hugoruizverastegui/Documents/perso github/chromedriver')\n",
    "        browser.get('https://www.vivino.com/FR/en/')  \n",
    "        \n",
    "        element=browser.find_element_by_class_name(\"searchBar_searchInput__Jje-K\")\n",
    "        element.clear()\n",
    "        element.send_keys(search_txt)\n",
    "        element.send_keys(Keys.RETURN)\n",
    "\n",
    "        # get the first result\n",
    "        time.sleep(2)\n",
    "\n",
    "        htmlsource = browser.page_source\n",
    "        rating_regexp=\"\\\"ratingValue\\\":(.*?),\"\n",
    "        url_regexp='\\\"Product\\\",\\\"\\@id\\\":\\\"(.*?)\\\",'\n",
    "        name_regexp=\"description\\\":\\\"Check out this (.*?) on Vivino\" \n",
    "        price_regexp=\"class=\\\"wine-price-value\\\">(.*?)<\\/span>\"\n",
    "        region_regexp=\"wine-regions\\/(.*?)\\\"\"\n",
    "        country_regexp=\"wine-countries\\/(.*?)\\\"\"\n",
    "        nb_ratings_regexp=\"(\\d+) ratings\"\n",
    "\n",
    "        time.sleep(1)\n",
    "\n",
    "        if len(re.findall(url_regexp, htmlsource))==0:\n",
    "            vivino_url_wine_inter=['-']\n",
    "        else:\n",
    "            vivino_url_wine_inter=[re.findall(url_regexp, htmlsource)[0]]\n",
    "        \n",
    "        if len(re.findall(rating_regexp, htmlsource))==0:\n",
    "            vivino_rating_wine_inter= ['-']\n",
    "        else:\n",
    "            vivino_rating_wine_inter= [re.findall(rating_regexp, htmlsource)[0]]\n",
    "        \n",
    "        if len(re.findall(price_regexp, htmlsource))==0:\n",
    "            vivino_price_wine_inter= ['-']\n",
    "        else:\n",
    "            vivino_price_wine_inter= [re.findall(price_regexp, htmlsource)[0]]\n",
    "               \n",
    "        if len(re.findall(name_regexp, htmlsource))==0:\n",
    "            vivino_name_wine_inter= ['-']\n",
    "        else:\n",
    "            vivino_name_wine_inter= [re.findall(name_regexp, htmlsource)[0]]\n",
    "            \n",
    "        if len(re.findall(country_regexp, htmlsource))==0:\n",
    "            vivino_country_wine_inter= ['-']\n",
    "        else:\n",
    "            vivino_country_wine_inter= [re.findall(country_regexp, htmlsource)[0]]\n",
    "        \n",
    "        \n",
    "        if len(re.findall(region_regexp, htmlsource))==0:\n",
    "            vivino_region_wine_inter= ['-']\n",
    "        else:\n",
    "            vivino_region_wine_inter= [re.findall(region_regexp, htmlsource)[0]]\n",
    "        \n",
    "        if len(re.findall(nb_ratings_regexp, htmlsource))==0:\n",
    "            vivino_nb_ratings_wine_inter= ['-']\n",
    "        else:\n",
    "            vivino_nb_ratings_wine_inter= [re.findall(nb_ratings_regexp, htmlsource)[0]]\n",
    "        \n",
    "\n",
    "        vivino_url_wine=vivino_url_wine+vivino_url_wine_inter\n",
    "        vivino_rating_wine=vivino_rating_wine+vivino_rating_wine_inter\n",
    "        vivino_name_wine=vivino_name_wine+vivino_name_wine_inter\n",
    "        vivino_price_wine=vivino_price_wine+vivino_price_wine_inter\n",
    "        vivino_country_wine=vivino_country_wine+vivino_country_wine_inter\n",
    "        vivino_region_wine=vivino_region_wine+vivino_region_wine_inter\n",
    "        vivino_nb_ratings_wine=vivino_nb_ratings_wine+vivino_nb_ratings_wine_inter\n",
    "        \n",
    "    "
   ]
  },
  {
   "cell_type": "code",
   "execution_count": 44,
   "id": "39028bc2",
   "metadata": {},
   "outputs": [
    {
     "data": {
      "text/plain": [
       "['M. Chapoutier Les Gadilles Rasteau 0',\n",
       " 'M. Chapoutier Luberon La Ciboise 0',\n",
       " 'Vranken Brut Nature Champagne 0',\n",
       " 'Veuve Clicquot Brut (Carte Jaune) Champagne 0',\n",
       " 'Moët \\\\u0026 Chandon Impérial Brut Champagne 0',\n",
       " 'M. Chapoutier Collection Bio Costières de Nîmes 0',\n",
       " 'Château La Mission Haut-Brion Pessac-Léognan (Grand Cru Classé de Graves) 0',\n",
       " 'Château Talbot Saint-Julien (Grand Cru Classé) 0',\n",
       " 'Château Moncontour Cuvée Prédilection Vouvray Brut 0',\n",
       " 'Château Talbot Saint-Julien (Grand Cru Classé) 0']"
      ]
     },
     "execution_count": 44,
     "metadata": {},
     "output_type": "execute_result"
    }
   ],
   "source": [
    "vivino_name_wine\n"
   ]
  },
  {
   "cell_type": "code",
   "execution_count": 41,
   "id": "924a4409",
   "metadata": {},
   "outputs": [
    {
     "ename": "ValueError",
     "evalue": "Length of values (10) does not match length of index (675)",
     "output_type": "error",
     "traceback": [
      "\u001b[0;31m---------------------------------------------------------------------------\u001b[0m",
      "\u001b[0;31mValueError\u001b[0m                                Traceback (most recent call last)",
      "Cell \u001b[0;32mIn [41], line 1\u001b[0m\n\u001b[0;32m----> 1\u001b[0m \u001b[43mdf_wine_diplo\u001b[49m\u001b[43m[\u001b[49m\u001b[38;5;124;43m'\u001b[39;49m\u001b[38;5;124;43mvivino_url\u001b[39;49m\u001b[38;5;124;43m'\u001b[39;49m\u001b[43m]\u001b[49m\u001b[38;5;241m=\u001b[39mvivino_url_wine\n\u001b[1;32m      2\u001b[0m df_wine_diplo[\u001b[38;5;124m'\u001b[39m\u001b[38;5;124mvivino_rating\u001b[39m\u001b[38;5;124m'\u001b[39m]\u001b[38;5;241m=\u001b[39mvivino_rating_wine\n\u001b[1;32m      3\u001b[0m df_wine_diplo[\u001b[38;5;124m'\u001b[39m\u001b[38;5;124mvivino_name\u001b[39m\u001b[38;5;124m'\u001b[39m]\u001b[38;5;241m=\u001b[39mvivino_name_wine\n",
      "File \u001b[0;32m~/opt/anaconda3/envs/sitrep/lib/python3.9/site-packages/pandas/core/frame.py:3977\u001b[0m, in \u001b[0;36mDataFrame.__setitem__\u001b[0;34m(self, key, value)\u001b[0m\n\u001b[1;32m   3974\u001b[0m     \u001b[38;5;28mself\u001b[39m\u001b[38;5;241m.\u001b[39m_setitem_array([key], value)\n\u001b[1;32m   3975\u001b[0m \u001b[38;5;28;01melse\u001b[39;00m:\n\u001b[1;32m   3976\u001b[0m     \u001b[38;5;66;03m# set column\u001b[39;00m\n\u001b[0;32m-> 3977\u001b[0m     \u001b[38;5;28;43mself\u001b[39;49m\u001b[38;5;241;43m.\u001b[39;49m\u001b[43m_set_item\u001b[49m\u001b[43m(\u001b[49m\u001b[43mkey\u001b[49m\u001b[43m,\u001b[49m\u001b[43m \u001b[49m\u001b[43mvalue\u001b[49m\u001b[43m)\u001b[49m\n",
      "File \u001b[0;32m~/opt/anaconda3/envs/sitrep/lib/python3.9/site-packages/pandas/core/frame.py:4171\u001b[0m, in \u001b[0;36mDataFrame._set_item\u001b[0;34m(self, key, value)\u001b[0m\n\u001b[1;32m   4161\u001b[0m \u001b[38;5;28;01mdef\u001b[39;00m \u001b[38;5;21m_set_item\u001b[39m(\u001b[38;5;28mself\u001b[39m, key, value) \u001b[38;5;241m-\u001b[39m\u001b[38;5;241m>\u001b[39m \u001b[38;5;28;01mNone\u001b[39;00m:\n\u001b[1;32m   4162\u001b[0m     \u001b[38;5;124;03m\"\"\"\u001b[39;00m\n\u001b[1;32m   4163\u001b[0m \u001b[38;5;124;03m    Add series to DataFrame in specified column.\u001b[39;00m\n\u001b[1;32m   4164\u001b[0m \n\u001b[0;32m   (...)\u001b[0m\n\u001b[1;32m   4169\u001b[0m \u001b[38;5;124;03m    ensure homogeneity.\u001b[39;00m\n\u001b[1;32m   4170\u001b[0m \u001b[38;5;124;03m    \"\"\"\u001b[39;00m\n\u001b[0;32m-> 4171\u001b[0m     value \u001b[38;5;241m=\u001b[39m \u001b[38;5;28;43mself\u001b[39;49m\u001b[38;5;241;43m.\u001b[39;49m\u001b[43m_sanitize_column\u001b[49m\u001b[43m(\u001b[49m\u001b[43mvalue\u001b[49m\u001b[43m)\u001b[49m\n\u001b[1;32m   4173\u001b[0m     \u001b[38;5;28;01mif\u001b[39;00m (\n\u001b[1;32m   4174\u001b[0m         key \u001b[38;5;129;01min\u001b[39;00m \u001b[38;5;28mself\u001b[39m\u001b[38;5;241m.\u001b[39mcolumns\n\u001b[1;32m   4175\u001b[0m         \u001b[38;5;129;01mand\u001b[39;00m value\u001b[38;5;241m.\u001b[39mndim \u001b[38;5;241m==\u001b[39m \u001b[38;5;241m1\u001b[39m\n\u001b[1;32m   4176\u001b[0m         \u001b[38;5;129;01mand\u001b[39;00m \u001b[38;5;129;01mnot\u001b[39;00m is_extension_array_dtype(value)\n\u001b[1;32m   4177\u001b[0m     ):\n\u001b[1;32m   4178\u001b[0m         \u001b[38;5;66;03m# broadcast across multiple columns if necessary\u001b[39;00m\n\u001b[1;32m   4179\u001b[0m         \u001b[38;5;28;01mif\u001b[39;00m \u001b[38;5;129;01mnot\u001b[39;00m \u001b[38;5;28mself\u001b[39m\u001b[38;5;241m.\u001b[39mcolumns\u001b[38;5;241m.\u001b[39mis_unique \u001b[38;5;129;01mor\u001b[39;00m \u001b[38;5;28misinstance\u001b[39m(\u001b[38;5;28mself\u001b[39m\u001b[38;5;241m.\u001b[39mcolumns, MultiIndex):\n",
      "File \u001b[0;32m~/opt/anaconda3/envs/sitrep/lib/python3.9/site-packages/pandas/core/frame.py:4904\u001b[0m, in \u001b[0;36mDataFrame._sanitize_column\u001b[0;34m(self, value)\u001b[0m\n\u001b[1;32m   4901\u001b[0m     \u001b[38;5;28;01mreturn\u001b[39;00m _reindex_for_setitem(Series(value), \u001b[38;5;28mself\u001b[39m\u001b[38;5;241m.\u001b[39mindex)\n\u001b[1;32m   4903\u001b[0m \u001b[38;5;28;01mif\u001b[39;00m is_list_like(value):\n\u001b[0;32m-> 4904\u001b[0m     \u001b[43mcom\u001b[49m\u001b[38;5;241;43m.\u001b[39;49m\u001b[43mrequire_length_match\u001b[49m\u001b[43m(\u001b[49m\u001b[43mvalue\u001b[49m\u001b[43m,\u001b[49m\u001b[43m \u001b[49m\u001b[38;5;28;43mself\u001b[39;49m\u001b[38;5;241;43m.\u001b[39;49m\u001b[43mindex\u001b[49m\u001b[43m)\u001b[49m\n\u001b[1;32m   4905\u001b[0m \u001b[38;5;28;01mreturn\u001b[39;00m sanitize_array(value, \u001b[38;5;28mself\u001b[39m\u001b[38;5;241m.\u001b[39mindex, copy\u001b[38;5;241m=\u001b[39m\u001b[38;5;28;01mTrue\u001b[39;00m, allow_2d\u001b[38;5;241m=\u001b[39m\u001b[38;5;28;01mTrue\u001b[39;00m)\n",
      "File \u001b[0;32m~/opt/anaconda3/envs/sitrep/lib/python3.9/site-packages/pandas/core/common.py:561\u001b[0m, in \u001b[0;36mrequire_length_match\u001b[0;34m(data, index)\u001b[0m\n\u001b[1;32m    557\u001b[0m \u001b[38;5;124;03m\"\"\"\u001b[39;00m\n\u001b[1;32m    558\u001b[0m \u001b[38;5;124;03mCheck the length of data matches the length of the index.\u001b[39;00m\n\u001b[1;32m    559\u001b[0m \u001b[38;5;124;03m\"\"\"\u001b[39;00m\n\u001b[1;32m    560\u001b[0m \u001b[38;5;28;01mif\u001b[39;00m \u001b[38;5;28mlen\u001b[39m(data) \u001b[38;5;241m!=\u001b[39m \u001b[38;5;28mlen\u001b[39m(index):\n\u001b[0;32m--> 561\u001b[0m     \u001b[38;5;28;01mraise\u001b[39;00m \u001b[38;5;167;01mValueError\u001b[39;00m(\n\u001b[1;32m    562\u001b[0m         \u001b[38;5;124m\"\u001b[39m\u001b[38;5;124mLength of values \u001b[39m\u001b[38;5;124m\"\u001b[39m\n\u001b[1;32m    563\u001b[0m         \u001b[38;5;124mf\u001b[39m\u001b[38;5;124m\"\u001b[39m\u001b[38;5;124m(\u001b[39m\u001b[38;5;132;01m{\u001b[39;00m\u001b[38;5;28mlen\u001b[39m(data)\u001b[38;5;132;01m}\u001b[39;00m\u001b[38;5;124m) \u001b[39m\u001b[38;5;124m\"\u001b[39m\n\u001b[1;32m    564\u001b[0m         \u001b[38;5;124m\"\u001b[39m\u001b[38;5;124mdoes not match length of index \u001b[39m\u001b[38;5;124m\"\u001b[39m\n\u001b[1;32m    565\u001b[0m         \u001b[38;5;124mf\u001b[39m\u001b[38;5;124m\"\u001b[39m\u001b[38;5;124m(\u001b[39m\u001b[38;5;132;01m{\u001b[39;00m\u001b[38;5;28mlen\u001b[39m(index)\u001b[38;5;132;01m}\u001b[39;00m\u001b[38;5;124m)\u001b[39m\u001b[38;5;124m\"\u001b[39m\n\u001b[1;32m    566\u001b[0m     )\n",
      "\u001b[0;31mValueError\u001b[0m: Length of values (10) does not match length of index (675)"
     ]
    }
   ],
   "source": [
    "df_wine_diplo['vivino_url']=vivino_url_wine\n",
    "df_wine_diplo['vivino_rating']=vivino_rating_wine\n",
    "df_wine_diplo['vivino_name']=vivino_name_wine\n",
    "df_wine_diplo['vivino_price']=vivino_price_wine\n",
    "df_wine_diplo['vivino_country']=vivino_country_wine\n",
    "df_wine_diplo['vivino_region']=vivino_region_wine\n",
    "df_wine_diplo['nb_ratings']=vivino_nb_ratings_wine\n",
    "\n",
    "        "
   ]
  },
  {
   "cell_type": "code",
   "execution_count": 36,
   "id": "986be18c",
   "metadata": {},
   "outputs": [
    {
     "data": {
      "text/html": [
       "<div>\n",
       "<style scoped>\n",
       "    .dataframe tbody tr th:only-of-type {\n",
       "        vertical-align: middle;\n",
       "    }\n",
       "\n",
       "    .dataframe tbody tr th {\n",
       "        vertical-align: top;\n",
       "    }\n",
       "\n",
       "    .dataframe thead th {\n",
       "        text-align: right;\n",
       "    }\n",
       "</style>\n",
       "<table border=\"1\" class=\"dataframe\">\n",
       "  <thead>\n",
       "    <tr style=\"text-align: right;\">\n",
       "      <th></th>\n",
       "      <th>0</th>\n",
       "      <th>1</th>\n",
       "      <th>2</th>\n",
       "      <th>country</th>\n",
       "      <th>vivino_url</th>\n",
       "      <th>vivino_rating</th>\n",
       "      <th>vivino_name</th>\n",
       "      <th>vivino_price</th>\n",
       "      <th>vivino_country</th>\n",
       "      <th>vivino_region</th>\n",
       "      <th>nb_ratings</th>\n",
       "      <th>ratio</th>\n",
       "    </tr>\n",
       "  </thead>\n",
       "  <tbody>\n",
       "    <tr>\n",
       "      <th>0</th>\n",
       "      <td>16.95</td>\n",
       "      <td>M.Chapoutier, Rasteau \" Les Gadilles\"</td>\n",
       "      <td>https://www.i-d-s.com/dubai/m-chapoutier-raste...</td>\n",
       "      <td>france</td>\n",
       "      <td>https://www.vivino.com/FR/en/wines/169803930</td>\n",
       "      <td>3.7</td>\n",
       "      <td>M. Chapoutier Les Gadilles Rasteau 0</td>\n",
       "      <td>15.50</td>\n",
       "      <td>france</td>\n",
       "      <td>rasteau</td>\n",
       "      <td>166</td>\n",
       "      <td>0</td>\n",
       "    </tr>\n",
       "    <tr>\n",
       "      <th>1</th>\n",
       "      <td>9.25</td>\n",
       "      <td>M.Chapoutier, Luberon 'La Ciboise' Rouge</td>\n",
       "      <td>https://www.i-d-s.com/dubai/m-chapoutier-luber...</td>\n",
       "      <td>france</td>\n",
       "      <td>https://www.vivino.com/FR/en/wines/1471076</td>\n",
       "      <td>3.6</td>\n",
       "      <td>M. Chapoutier Luberon La Ciboise 0</td>\n",
       "      <td>—</td>\n",
       "      <td>france</td>\n",
       "      <td>luberon</td>\n",
       "      <td>5088</td>\n",
       "      <td>86</td>\n",
       "    </tr>\n",
       "    <tr>\n",
       "      <th>2</th>\n",
       "      <td>33.00</td>\n",
       "      <td>Vranken Brut Nature VDC with Gift Box</td>\n",
       "      <td>https://www.i-d-s.com/dubai/vranken-brut-natur...</td>\n",
       "      <td>france</td>\n",
       "      <td>https://www.vivino.com/FR/en/wines/155582683</td>\n",
       "      <td>3.7</td>\n",
       "      <td>Vranken Brut Nature Champagne 0</td>\n",
       "      <td>34.10</td>\n",
       "      <td>france</td>\n",
       "      <td>champagne</td>\n",
       "      <td>565</td>\n",
       "      <td>71</td>\n",
       "    </tr>\n",
       "    <tr>\n",
       "      <th>3</th>\n",
       "      <td>76.85</td>\n",
       "      <td>Veuve Clicquot Yellow Label Brut</td>\n",
       "      <td>https://www.i-d-s.com/dubai/veuve-clicquot-yel...</td>\n",
       "      <td>france</td>\n",
       "      <td>https://www.vivino.com/FR/en/wines/164942636</td>\n",
       "      <td>4.3</td>\n",
       "      <td>Veuve Clicquot Brut (Carte Jaune) Champagne 0</td>\n",
       "      <td>—</td>\n",
       "      <td>france</td>\n",
       "      <td>champagne</td>\n",
       "      <td>126965</td>\n",
       "      <td>52</td>\n",
       "    </tr>\n",
       "    <tr>\n",
       "      <th>4</th>\n",
       "      <td>63.05</td>\n",
       "      <td>Moët &amp;amp; Chandon Brut Impérial</td>\n",
       "      <td>https://www.i-d-s.com/dubai/mo-t-chandon-brut-...</td>\n",
       "      <td>france</td>\n",
       "      <td>https://www.vivino.com/FR/en/wines/164942645</td>\n",
       "      <td>4.1</td>\n",
       "      <td>Moët \\u0026 Chandon Impérial Brut Champagne 0</td>\n",
       "      <td>—</td>\n",
       "      <td>france</td>\n",
       "      <td>champagne</td>\n",
       "      <td>115219</td>\n",
       "      <td>57</td>\n",
       "    </tr>\n",
       "    <tr>\n",
       "      <th>...</th>\n",
       "      <td>...</td>\n",
       "      <td>...</td>\n",
       "      <td>...</td>\n",
       "      <td>...</td>\n",
       "      <td>...</td>\n",
       "      <td>...</td>\n",
       "      <td>...</td>\n",
       "      <td>...</td>\n",
       "      <td>...</td>\n",
       "      <td>...</td>\n",
       "      <td>...</td>\n",
       "      <td>...</td>\n",
       "    </tr>\n",
       "    <tr>\n",
       "      <th>8</th>\n",
       "      <td>10.85</td>\n",
       "      <td>Vinho Verde Loureiro/Alvarinho, Azevedo, Portugal</td>\n",
       "      <td>https://www.i-d-s.com/dubai/vinho-verde-lourei...</td>\n",
       "      <td>rest-of-the-world</td>\n",
       "      <td>https://www.vivino.com/FR/en/wines/161350291</td>\n",
       "      <td>3.8</td>\n",
       "      <td>Quinta de Azevedo Azevedo Loureiro - Alvarinho 0</td>\n",
       "      <td>—</td>\n",
       "      <td>portugal</td>\n",
       "      <td>vinho-verde</td>\n",
       "      <td>2267</td>\n",
       "      <td>54</td>\n",
       "    </tr>\n",
       "    <tr>\n",
       "      <th>9</th>\n",
       "      <td>8.15</td>\n",
       "      <td>Mateus Rosé</td>\n",
       "      <td>https://www.i-d-s.com/dubai/mateus-ros-pt1002....</td>\n",
       "      <td>rest-of-the-world</td>\n",
       "      <td>https://www.vivino.com/FR/en/wines/164942646</td>\n",
       "      <td>3.7</td>\n",
       "      <td>Mateus The Original Rosé 0</td>\n",
       "      <td>—</td>\n",
       "      <td>portugal</td>\n",
       "      <td>douro</td>\n",
       "      <td>50172</td>\n",
       "      <td>59</td>\n",
       "    </tr>\n",
       "    <tr>\n",
       "      <th>10</th>\n",
       "      <td>8.00</td>\n",
       "      <td>Terra Franca,Vinho Regional Tinto</td>\n",
       "      <td>https://www.i-d-s.com/dubai/terra-franca-vinho...</td>\n",
       "      <td>rest-of-the-world</td>\n",
       "      <td>https://www.vivino.com/FR/en/wines/3474269</td>\n",
       "      <td>0.0</td>\n",
       "      <td>Ouro Da Terra Vinho Regional Beiras Tinto 0</td>\n",
       "      <td>—</td>\n",
       "      <td>portugal</td>\n",
       "      <td>alentejano</td>\n",
       "      <td>2603</td>\n",
       "      <td>68</td>\n",
       "    </tr>\n",
       "    <tr>\n",
       "      <th>11</th>\n",
       "      <td>8.85</td>\n",
       "      <td>Calusari Pinot Grigio</td>\n",
       "      <td>https://www.i-d-s.com/dubai/calusari-pinot-gri...</td>\n",
       "      <td>rest-of-the-world</td>\n",
       "      <td>https://www.vivino.com/FR/en/wines/3130030</td>\n",
       "      <td>3.7</td>\n",
       "      <td>Călușari Pinot Grigio 0</td>\n",
       "      <td>—</td>\n",
       "      <td>romania</td>\n",
       "      <td>recas</td>\n",
       "      <td>1891</td>\n",
       "      <td>86</td>\n",
       "    </tr>\n",
       "    <tr>\n",
       "      <th>0</th>\n",
       "      <td>8.85</td>\n",
       "      <td>Calusari Pinot Noir</td>\n",
       "      <td>https://www.i-d-s.com/dubai/calusari-pinot-noi...</td>\n",
       "      <td>rest-of-the-world</td>\n",
       "      <td>https://www.vivino.com/FR/en/wines/1652687</td>\n",
       "      <td>3.6</td>\n",
       "      <td>Călușari Pinot Noir 0</td>\n",
       "      <td>—</td>\n",
       "      <td>romania</td>\n",
       "      <td>recas</td>\n",
       "      <td>3055</td>\n",
       "      <td>85</td>\n",
       "    </tr>\n",
       "  </tbody>\n",
       "</table>\n",
       "<p>675 rows × 12 columns</p>\n",
       "</div>"
      ],
      "text/plain": [
       "        0                                                  1  \\\n",
       "0   16.95              M.Chapoutier, Rasteau \" Les Gadilles\"   \n",
       "1    9.25           M.Chapoutier, Luberon 'La Ciboise' Rouge   \n",
       "2   33.00              Vranken Brut Nature VDC with Gift Box   \n",
       "3   76.85                   Veuve Clicquot Yellow Label Brut   \n",
       "4   63.05                   Moët &amp; Chandon Brut Impérial   \n",
       "..    ...                                                ...   \n",
       "8   10.85  Vinho Verde Loureiro/Alvarinho, Azevedo, Portugal   \n",
       "9    8.15                                        Mateus Rosé   \n",
       "10   8.00                  Terra Franca,Vinho Regional Tinto   \n",
       "11   8.85                              Calusari Pinot Grigio   \n",
       "0    8.85                                Calusari Pinot Noir   \n",
       "\n",
       "                                                    2            country  \\\n",
       "0   https://www.i-d-s.com/dubai/m-chapoutier-raste...             france   \n",
       "1   https://www.i-d-s.com/dubai/m-chapoutier-luber...             france   \n",
       "2   https://www.i-d-s.com/dubai/vranken-brut-natur...             france   \n",
       "3   https://www.i-d-s.com/dubai/veuve-clicquot-yel...             france   \n",
       "4   https://www.i-d-s.com/dubai/mo-t-chandon-brut-...             france   \n",
       "..                                                ...                ...   \n",
       "8   https://www.i-d-s.com/dubai/vinho-verde-lourei...  rest-of-the-world   \n",
       "9   https://www.i-d-s.com/dubai/mateus-ros-pt1002....  rest-of-the-world   \n",
       "10  https://www.i-d-s.com/dubai/terra-franca-vinho...  rest-of-the-world   \n",
       "11  https://www.i-d-s.com/dubai/calusari-pinot-gri...  rest-of-the-world   \n",
       "0   https://www.i-d-s.com/dubai/calusari-pinot-noi...  rest-of-the-world   \n",
       "\n",
       "                                      vivino_url vivino_rating  \\\n",
       "0   https://www.vivino.com/FR/en/wines/169803930           3.7   \n",
       "1     https://www.vivino.com/FR/en/wines/1471076           3.6   \n",
       "2   https://www.vivino.com/FR/en/wines/155582683           3.7   \n",
       "3   https://www.vivino.com/FR/en/wines/164942636           4.3   \n",
       "4   https://www.vivino.com/FR/en/wines/164942645           4.1   \n",
       "..                                           ...           ...   \n",
       "8   https://www.vivino.com/FR/en/wines/161350291           3.8   \n",
       "9   https://www.vivino.com/FR/en/wines/164942646           3.7   \n",
       "10    https://www.vivino.com/FR/en/wines/3474269           0.0   \n",
       "11    https://www.vivino.com/FR/en/wines/3130030           3.7   \n",
       "0     https://www.vivino.com/FR/en/wines/1652687           3.6   \n",
       "\n",
       "                                         vivino_name vivino_price  \\\n",
       "0               M. Chapoutier Les Gadilles Rasteau 0        15.50   \n",
       "1                 M. Chapoutier Luberon La Ciboise 0            —   \n",
       "2                    Vranken Brut Nature Champagne 0        34.10   \n",
       "3      Veuve Clicquot Brut (Carte Jaune) Champagne 0            —   \n",
       "4      Moët \\u0026 Chandon Impérial Brut Champagne 0            —   \n",
       "..                                               ...          ...   \n",
       "8   Quinta de Azevedo Azevedo Loureiro - Alvarinho 0            —   \n",
       "9                         Mateus The Original Rosé 0            —   \n",
       "10       Ouro Da Terra Vinho Regional Beiras Tinto 0            —   \n",
       "11                           Călușari Pinot Grigio 0            —   \n",
       "0                              Călușari Pinot Noir 0            —   \n",
       "\n",
       "   vivino_country vivino_region nb_ratings  ratio  \n",
       "0          france       rasteau        166      0  \n",
       "1          france       luberon       5088     86  \n",
       "2          france     champagne        565     71  \n",
       "3          france     champagne     126965     52  \n",
       "4          france     champagne     115219     57  \n",
       "..            ...           ...        ...    ...  \n",
       "8        portugal   vinho-verde       2267     54  \n",
       "9        portugal         douro      50172     59  \n",
       "10       portugal    alentejano       2603     68  \n",
       "11        romania         recas       1891     86  \n",
       "0         romania         recas       3055     85  \n",
       "\n",
       "[675 rows x 12 columns]"
      ]
     },
     "execution_count": 36,
     "metadata": {},
     "output_type": "execute_result"
    }
   ],
   "source": [
    "df_wine_diplo"
   ]
  },
  {
   "cell_type": "code",
   "execution_count": 30,
   "id": "83856253",
   "metadata": {},
   "outputs": [],
   "source": [
    "#check name distance \n",
    "import fuzzywuzzy\n",
    "from fuzzywuzzy import fuzz\n",
    "\n",
    "def distance_name(name1, name2):\n",
    "    return fuzz.ratio(name1.lower(),name2.lower())"
   ]
  },
  {
   "cell_type": "code",
   "execution_count": 31,
   "id": "02d69393",
   "metadata": {
    "scrolled": true
   },
   "outputs": [],
   "source": [
    "df_wine_diplo['ratio']=df_wine_diplo.apply(lambda x: distance_name(x[1], x['vivino_name']), axis=1)"
   ]
  },
  {
   "cell_type": "code",
   "execution_count": 40,
   "id": "830c46d5",
   "metadata": {},
   "outputs": [
    {
     "data": {
      "text/html": [
       "<div>\n",
       "<style scoped>\n",
       "    .dataframe tbody tr th:only-of-type {\n",
       "        vertical-align: middle;\n",
       "    }\n",
       "\n",
       "    .dataframe tbody tr th {\n",
       "        vertical-align: top;\n",
       "    }\n",
       "\n",
       "    .dataframe thead th {\n",
       "        text-align: right;\n",
       "    }\n",
       "</style>\n",
       "<table border=\"1\" class=\"dataframe\">\n",
       "  <thead>\n",
       "    <tr style=\"text-align: right;\">\n",
       "      <th></th>\n",
       "      <th>0</th>\n",
       "      <th>1</th>\n",
       "      <th>2</th>\n",
       "      <th>country</th>\n",
       "      <th>vivino_url</th>\n",
       "      <th>vivino_rating</th>\n",
       "      <th>vivino_name</th>\n",
       "      <th>vivino_price</th>\n",
       "      <th>vivino_country</th>\n",
       "      <th>vivino_region</th>\n",
       "      <th>nb_ratings</th>\n",
       "      <th>ratio</th>\n",
       "    </tr>\n",
       "  </thead>\n",
       "  <tbody>\n",
       "    <tr>\n",
       "      <th>0</th>\n",
       "      <td>16.95</td>\n",
       "      <td>M.Chapoutier, Rasteau \" Les Gadilles\"</td>\n",
       "      <td>https://www.i-d-s.com/dubai/m-chapoutier-raste...</td>\n",
       "      <td>france</td>\n",
       "      <td>-</td>\n",
       "      <td>-</td>\n",
       "      <td>-</td>\n",
       "      <td>-</td>\n",
       "      <td>-</td>\n",
       "      <td>-</td>\n",
       "      <td>-</td>\n",
       "      <td>0</td>\n",
       "    </tr>\n",
       "    <tr>\n",
       "      <th>2</th>\n",
       "      <td>45.75</td>\n",
       "      <td>Savigny Les Beaune Antoine Geoffroy</td>\n",
       "      <td>https://www.i-d-s.com/dubai/savigny-les-beaune...</td>\n",
       "      <td>france</td>\n",
       "      <td>https://www.vivino.com/FR/en/wines/4789464</td>\n",
       "      <td>4.0</td>\n",
       "      <td>Domaine Antoine Olivier Savigny-Les-Beaune Pre...</td>\n",
       "      <td>—</td>\n",
       "      <td>france</td>\n",
       "      <td>savigny-les-beaune-les-peuillets</td>\n",
       "      <td>129</td>\n",
       "      <td>39</td>\n",
       "    </tr>\n",
       "    <tr>\n",
       "      <th>3</th>\n",
       "      <td>21.25</td>\n",
       "      <td>Domaine Trénel, Climat Fleurie 'La Madone' (Si...</td>\n",
       "      <td>https://www.i-d-s.com/dubai/domaine-tr-nel-fle...</td>\n",
       "      <td>france</td>\n",
       "      <td>https://www.vivino.com/FR/en/wines/4833964</td>\n",
       "      <td>3.7</td>\n",
       "      <td>Jean-Marc Despres Domaine de la Madone Fleurie 0</td>\n",
       "      <td>—</td>\n",
       "      <td>france</td>\n",
       "      <td>fleurie</td>\n",
       "      <td>1140</td>\n",
       "      <td>46</td>\n",
       "    </tr>\n",
       "    <tr>\n",
       "      <th>4</th>\n",
       "      <td>13.65</td>\n",
       "      <td>Domaine Trénel, Beaujolais Organic \" Rouge\"</td>\n",
       "      <td>https://www.i-d-s.com/dubai/domaine-tr-nel-bea...</td>\n",
       "      <td>france</td>\n",
       "      <td>https://www.vivino.com/FR/en/wines/3582444</td>\n",
       "      <td>3.7</td>\n",
       "      <td>Martine et Pierre Marie Chermette - Domaine du...</td>\n",
       "      <td>15.10</td>\n",
       "      <td>france</td>\n",
       "      <td>beaujolais</td>\n",
       "      <td>3731</td>\n",
       "      <td>43</td>\n",
       "    </tr>\n",
       "    <tr>\n",
       "      <th>7</th>\n",
       "      <td>22.95</td>\n",
       "      <td>Domaine Trénel, Viré Clessé Chardonnay, Vin de...</td>\n",
       "      <td>https://www.i-d-s.com/dubai/domaine-tr-nel-vir...</td>\n",
       "      <td>france</td>\n",
       "      <td>https://www.vivino.com/FR/en/wines/144587348</td>\n",
       "      <td>4.0</td>\n",
       "      <td>Domaine de l'Epinet Gramont Chardonnay 0</td>\n",
       "      <td>—</td>\n",
       "      <td>france</td>\n",
       "      <td>vire-clesse</td>\n",
       "      <td>206</td>\n",
       "      <td>50</td>\n",
       "    </tr>\n",
       "    <tr>\n",
       "      <th>10</th>\n",
       "      <td>45.85</td>\n",
       "      <td>Boutinot Cairanne 'Les Six'</td>\n",
       "      <td>https://www.i-d-s.com/dubai/boutinot-cairanne-...</td>\n",
       "      <td>france</td>\n",
       "      <td>-</td>\n",
       "      <td>-</td>\n",
       "      <td>-</td>\n",
       "      <td>-</td>\n",
       "      <td>-</td>\n",
       "      <td>-</td>\n",
       "      <td>-</td>\n",
       "      <td>0</td>\n",
       "    </tr>\n",
       "    <tr>\n",
       "      <th>3</th>\n",
       "      <td>31.75</td>\n",
       "      <td>\"M\" De Minuty Magnum (1.5L)</td>\n",
       "      <td>https://www.i-d-s.com/dubai/m-de-minuty-magnum...</td>\n",
       "      <td>france</td>\n",
       "      <td>https://www.vivino.com/FR/en/wines/2191238</td>\n",
       "      <td>3.9</td>\n",
       "      <td>Minuty M Rosé 0</td>\n",
       "      <td>16.00</td>\n",
       "      <td>france</td>\n",
       "      <td>cotes-de-provence</td>\n",
       "      <td>40256</td>\n",
       "      <td>43</td>\n",
       "    </tr>\n",
       "    <tr>\n",
       "      <th>0</th>\n",
       "      <td>22.85</td>\n",
       "      <td>Macon Rouge Maison Antoine Geoffroy</td>\n",
       "      <td>https://www.i-d-s.com/dubai/macon-rouge-maison...</td>\n",
       "      <td>france</td>\n",
       "      <td>https://www.vivino.com/FR/en/wines/147009133</td>\n",
       "      <td>3.8</td>\n",
       "      <td>Maison Guillot-Broux Mâcon Rouge 0</td>\n",
       "      <td>—</td>\n",
       "      <td>france</td>\n",
       "      <td>macon</td>\n",
       "      <td>301</td>\n",
       "      <td>46</td>\n",
       "    </tr>\n",
       "    <tr>\n",
       "      <th>5</th>\n",
       "      <td>295.95</td>\n",
       "      <td>Dom Pérignon Vintage, in individual Gift Box</td>\n",
       "      <td>https://www.i-d-s.com/dubai/dom-p-rignon-vinta...</td>\n",
       "      <td>france</td>\n",
       "      <td>https://www.vivino.com/FR/en/wines/1540082</td>\n",
       "      <td>4.6</td>\n",
       "      <td>Dom Pérignon Brut Champagne 0</td>\n",
       "      <td>250.00</td>\n",
       "      <td>france</td>\n",
       "      <td>champagne</td>\n",
       "      <td>148789</td>\n",
       "      <td>49</td>\n",
       "    </tr>\n",
       "    <tr>\n",
       "      <th>1</th>\n",
       "      <td>99.60</td>\n",
       "      <td>Château Minuty \"281\" Rosé</td>\n",
       "      <td>https://www.i-d-s.com/dubai/ch-teau-minuty-281...</td>\n",
       "      <td>france</td>\n",
       "      <td>https://www.vivino.com/FR/en/wines/1473981</td>\n",
       "      <td>4.1</td>\n",
       "      <td>Château d'Esclans Whispering Angel Rosé 0</td>\n",
       "      <td>19.95</td>\n",
       "      <td>france</td>\n",
       "      <td>cotes-de-provence</td>\n",
       "      <td>79131</td>\n",
       "      <td>48</td>\n",
       "    </tr>\n",
       "    <tr>\n",
       "      <th>5</th>\n",
       "      <td>31.60</td>\n",
       "      <td>Chateau Gravet Renaissance, Grand Cru Saint-Em...</td>\n",
       "      <td>https://www.i-d-s.com/dubai/chateau-gravet-ren...</td>\n",
       "      <td>france</td>\n",
       "      <td>-</td>\n",
       "      <td>-</td>\n",
       "      <td>-</td>\n",
       "      <td>-</td>\n",
       "      <td>-</td>\n",
       "      <td>-</td>\n",
       "      <td>-</td>\n",
       "      <td>4</td>\n",
       "    </tr>\n",
       "    <tr>\n",
       "      <th>11</th>\n",
       "      <td>36.40</td>\n",
       "      <td>Chateau Lange Réglat</td>\n",
       "      <td>https://www.i-d-s.com/dubai/chateau-lange-r-gl...</td>\n",
       "      <td>france</td>\n",
       "      <td>https://www.vivino.com/FR/en/wines/3717744</td>\n",
       "      <td>4.1</td>\n",
       "      <td>Vignobles Bernard Reglat Château Lange-Réglat ...</td>\n",
       "      <td>265.00</td>\n",
       "      <td>france</td>\n",
       "      <td>sauternes</td>\n",
       "      <td>1274</td>\n",
       "      <td>47</td>\n",
       "    </tr>\n",
       "    <tr>\n",
       "      <th>9</th>\n",
       "      <td>24.05</td>\n",
       "      <td>Château Amour</td>\n",
       "      <td>https://www.i-d-s.com/dubai/ch-teau-amour-fr10...</td>\n",
       "      <td>france</td>\n",
       "      <td>https://www.vivino.com/FR/en/wines/1783738</td>\n",
       "      <td>3.6</td>\n",
       "      <td>Château de Panigon Château Amour Médoc 0</td>\n",
       "      <td>12.25</td>\n",
       "      <td>france</td>\n",
       "      <td>medoc</td>\n",
       "      <td>1651</td>\n",
       "      <td>49</td>\n",
       "    </tr>\n",
       "    <tr>\n",
       "      <th>4</th>\n",
       "      <td>38.65</td>\n",
       "      <td>Château Lalande</td>\n",
       "      <td>https://www.i-d-s.com/dubai/ch-teau-lalande-fr...</td>\n",
       "      <td>france</td>\n",
       "      <td>https://www.vivino.com/FR/en/wines/1491165</td>\n",
       "      <td>4.4</td>\n",
       "      <td>Château Pichon Longueville Comtesse de Lalande...</td>\n",
       "      <td>199.00</td>\n",
       "      <td>france</td>\n",
       "      <td>pauillac</td>\n",
       "      <td>40300</td>\n",
       "      <td>33</td>\n",
       "    </tr>\n",
       "    <tr>\n",
       "      <th>11</th>\n",
       "      <td>16.60</td>\n",
       "      <td>Little Ripples Cabernet Sauvignon</td>\n",
       "      <td>https://www.i-d-s.com/dubai/little-ripples-cab...</td>\n",
       "      <td>australia</td>\n",
       "      <td>-</td>\n",
       "      <td>-</td>\n",
       "      <td>-</td>\n",
       "      <td>-</td>\n",
       "      <td>-</td>\n",
       "      <td>-</td>\n",
       "      <td>-</td>\n",
       "      <td>0</td>\n",
       "    </tr>\n",
       "    <tr>\n",
       "      <th>1</th>\n",
       "      <td>4.80</td>\n",
       "      <td>`Red Moon` Mangan Vineyard Wilyabrup Malbec/Pe...</td>\n",
       "      <td>https://www.i-d-s.com/dubai/red-moon-mangan-vi...</td>\n",
       "      <td>australia</td>\n",
       "      <td>https://www.vivino.com/FR/en/wines/157938311</td>\n",
       "      <td>3.6</td>\n",
       "      <td>Cullen Mangan Vineyard Red Moon 0</td>\n",
       "      <td>—</td>\n",
       "      <td>australia</td>\n",
       "      <td>western-australia</td>\n",
       "      <td>634</td>\n",
       "      <td>48</td>\n",
       "    </tr>\n",
       "    <tr>\n",
       "      <th>7</th>\n",
       "      <td>20.75</td>\n",
       "      <td>Tinpot Hut `McKee Vineyard` Grüner Veltliner</td>\n",
       "      <td>https://www.i-d-s.com/dubai/tinpot-hut-mckee-v...</td>\n",
       "      <td>new_zealand</td>\n",
       "      <td>-</td>\n",
       "      <td>-</td>\n",
       "      <td>-</td>\n",
       "      <td>-</td>\n",
       "      <td>-</td>\n",
       "      <td>-</td>\n",
       "      <td>-</td>\n",
       "      <td>0</td>\n",
       "    </tr>\n",
       "    <tr>\n",
       "      <th>1</th>\n",
       "      <td>31.75</td>\n",
       "      <td>Bolney Bubbly Sparkling</td>\n",
       "      <td>https://www.i-d-s.com/dubai/bolney-bubbly-spar...</td>\n",
       "      <td>uk</td>\n",
       "      <td>https://www.vivino.com/FR/en/wines/2952551</td>\n",
       "      <td>3.9</td>\n",
       "      <td>Bolney Wine Estate Bolney Bubbly Brut 0</td>\n",
       "      <td>—</td>\n",
       "      <td>united-kingdom</td>\n",
       "      <td>sussex</td>\n",
       "      <td>527</td>\n",
       "      <td>48</td>\n",
       "    </tr>\n",
       "    <tr>\n",
       "      <th>11</th>\n",
       "      <td>12.35</td>\n",
       "      <td>Apothic Red</td>\n",
       "      <td>https://www.i-d-s.com/dubai/apothic-red-us1030...</td>\n",
       "      <td>usa</td>\n",
       "      <td>https://www.vivino.com/FR/en/wines/1469195</td>\n",
       "      <td>3.7</td>\n",
       "      <td>Apothic Red (Winemaker's Blend) 0</td>\n",
       "      <td>—</td>\n",
       "      <td>united-states</td>\n",
       "      <td>california</td>\n",
       "      <td>139430</td>\n",
       "      <td>50</td>\n",
       "    </tr>\n",
       "    <tr>\n",
       "      <th>2</th>\n",
       "      <td>26.30</td>\n",
       "      <td>Vesevo Taurasi Ensis Docg</td>\n",
       "      <td>https://www.i-d-s.com/dubai/vesevo-taurasi-ens...</td>\n",
       "      <td>italy</td>\n",
       "      <td>https://www.vivino.com/FR/en/wines/2498287</td>\n",
       "      <td>3.8</td>\n",
       "      <td>Ascheri Arneis Langhe 0</td>\n",
       "      <td>—</td>\n",
       "      <td>italy</td>\n",
       "      <td>langhe</td>\n",
       "      <td>1147</td>\n",
       "      <td>42</td>\n",
       "    </tr>\n",
       "    <tr>\n",
       "      <th>6</th>\n",
       "      <td>19.10</td>\n",
       "      <td>Allegrini Estates Rubio, San Polo</td>\n",
       "      <td>https://www.i-d-s.com/dubai/allegrini-estates-...</td>\n",
       "      <td>italy</td>\n",
       "      <td>https://www.vivino.com/FR/en/wines/2060016</td>\n",
       "      <td>3.7</td>\n",
       "      <td>San Polo Rubio 0</td>\n",
       "      <td>10.50</td>\n",
       "      <td>italy</td>\n",
       "      <td>tuscany</td>\n",
       "      <td>5934</td>\n",
       "      <td>41</td>\n",
       "    </tr>\n",
       "    <tr>\n",
       "      <th>5</th>\n",
       "      <td>12.75</td>\n",
       "      <td>Ripa Delle Mandorle IGT Toscana Rosso, Vicchio...</td>\n",
       "      <td>https://www.i-d-s.com/dubai/ripa-delle-mandorl...</td>\n",
       "      <td>italy</td>\n",
       "      <td>https://www.vivino.com/FR/en/wines/1966999</td>\n",
       "      <td>3.6</td>\n",
       "      <td>Vicchiomaggio Ripa delle Mandorle 0</td>\n",
       "      <td>13.95</td>\n",
       "      <td>italy</td>\n",
       "      <td>tuscany</td>\n",
       "      <td>2883</td>\n",
       "      <td>46</td>\n",
       "    </tr>\n",
       "    <tr>\n",
       "      <th>8</th>\n",
       "      <td>20.50</td>\n",
       "      <td>Lugarara, Gavi Di Gavi , La Giustiniana, Piemonte</td>\n",
       "      <td>https://www.i-d-s.com/dubai/lugarara-gavi-di-g...</td>\n",
       "      <td>italy</td>\n",
       "      <td>https://www.vivino.com/FR/en/wines/1517136</td>\n",
       "      <td>3.9</td>\n",
       "      <td>Giustiniana Lugarara Gavi del Comune di Gavi 0</td>\n",
       "      <td>—</td>\n",
       "      <td>italy</td>\n",
       "      <td>gavi</td>\n",
       "      <td>1818</td>\n",
       "      <td>46</td>\n",
       "    </tr>\n",
       "    <tr>\n",
       "      <th>9</th>\n",
       "      <td>36.65</td>\n",
       "      <td>Ripa Delle More Toscana IGT, Castello Vicchiom...</td>\n",
       "      <td>https://www.i-d-s.com/dubai/ripa-delle-more-to...</td>\n",
       "      <td>italy</td>\n",
       "      <td>https://www.vivino.com/FR/en/wines/4626362</td>\n",
       "      <td>4.1</td>\n",
       "      <td>Vicchiomaggio Ripa delle More 0</td>\n",
       "      <td>—</td>\n",
       "      <td>italy</td>\n",
       "      <td>tuscany</td>\n",
       "      <td>2016</td>\n",
       "      <td>39</td>\n",
       "    </tr>\n",
       "    <tr>\n",
       "      <th>0</th>\n",
       "      <td>215.45</td>\n",
       "      <td>FSM Castello Vicchiomaggio, Merlot Toscana IGT</td>\n",
       "      <td>https://www.i-d-s.com/dubai/fsm-castello-vicch...</td>\n",
       "      <td>italy</td>\n",
       "      <td>https://www.vivino.com/FR/en/wines/3483261</td>\n",
       "      <td>4.4</td>\n",
       "      <td>Vicchiomaggio FSM 0</td>\n",
       "      <td>—</td>\n",
       "      <td>italy</td>\n",
       "      <td>tuscany</td>\n",
       "      <td>366</td>\n",
       "      <td>49</td>\n",
       "    </tr>\n",
       "    <tr>\n",
       "      <th>10</th>\n",
       "      <td>9.30</td>\n",
       "      <td>Pinot Grigio Piave La di Motte</td>\n",
       "      <td>https://www.i-d-s.com/dubai/pinot-grigio-piave...</td>\n",
       "      <td>italy</td>\n",
       "      <td>https://www.vivino.com/FR/en/wines/4995084</td>\n",
       "      <td>3.6</td>\n",
       "      <td>La di Motte Pinot Grigio 0</td>\n",
       "      <td>9.50</td>\n",
       "      <td>italy</td>\n",
       "      <td>friuli-grave</td>\n",
       "      <td>925</td>\n",
       "      <td>46</td>\n",
       "    </tr>\n",
       "    <tr>\n",
       "      <th>4</th>\n",
       "      <td>10.05</td>\n",
       "      <td>Vins El Cep Gr5 Senders Negre De Terrer( Tempr...</td>\n",
       "      <td>https://www.i-d-s.com/dubai/vins-el-cep-gr5-se...</td>\n",
       "      <td>spain</td>\n",
       "      <td>https://www.vivino.com/FR/en/wines/1484909</td>\n",
       "      <td>4.1</td>\n",
       "      <td>Casa Madero 3V Cabernet Sauvignon - Merlot - T...</td>\n",
       "      <td>—</td>\n",
       "      <td>mexico</td>\n",
       "      <td>valle-de-parras</td>\n",
       "      <td>31143</td>\n",
       "      <td>41</td>\n",
       "    </tr>\n",
       "    <tr>\n",
       "      <th>9</th>\n",
       "      <td>18.60</td>\n",
       "      <td>Anna Blanc De Blancs, Codorníu Brut Reserva</td>\n",
       "      <td>https://www.i-d-s.com/dubai/anna-blanc-de-blan...</td>\n",
       "      <td>spain</td>\n",
       "      <td>https://www.vivino.com/FR/en/wines/169848214</td>\n",
       "      <td>3.8</td>\n",
       "      <td>Anna de Codorniu Reserva Edición Limitada Blan...</td>\n",
       "      <td>—</td>\n",
       "      <td>spain</td>\n",
       "      <td>cava</td>\n",
       "      <td>54</td>\n",
       "      <td>49</td>\n",
       "    </tr>\n",
       "    <tr>\n",
       "      <th>5</th>\n",
       "      <td>9.55</td>\n",
       "      <td>Adegas Valminor'Davila O Rasal (Albarino/Loure...</td>\n",
       "      <td>https://www.i-d-s.com/dubai/adegas-valminor-da...</td>\n",
       "      <td>spain</td>\n",
       "      <td>https://www.vivino.com/FR/en/wines/5714731</td>\n",
       "      <td>0.0</td>\n",
       "      <td>Enolegs D3 Bote Llas Albariño Treixadura Loure...</td>\n",
       "      <td>—</td>\n",
       "      <td>spain</td>\n",
       "      <td>rias-baixas</td>\n",
       "      <td>14785</td>\n",
       "      <td>50</td>\n",
       "    </tr>\n",
       "    <tr>\n",
       "      <th>8</th>\n",
       "      <td>9.90</td>\n",
       "      <td>CVNE, Monopole Unoaked Blanco Rioja</td>\n",
       "      <td>https://www.i-d-s.com/dubai/cvne-monopole-unoa...</td>\n",
       "      <td>spain</td>\n",
       "      <td>https://www.vivino.com/FR/en/wines/1535391</td>\n",
       "      <td>3.7</td>\n",
       "      <td>Bodegas Franco-Españolas Diamante Semi-Dulce B...</td>\n",
       "      <td>—</td>\n",
       "      <td>spain</td>\n",
       "      <td>rioja</td>\n",
       "      <td>9144</td>\n",
       "      <td>43</td>\n",
       "    </tr>\n",
       "    <tr>\n",
       "      <th>3</th>\n",
       "      <td>9.20</td>\n",
       "      <td>Campo Viejo Tempranillo</td>\n",
       "      <td>https://www.i-d-s.com/dubai/campo-viejo-tempra...</td>\n",
       "      <td>spain</td>\n",
       "      <td>-</td>\n",
       "      <td>-</td>\n",
       "      <td>-</td>\n",
       "      <td>-</td>\n",
       "      <td>-</td>\n",
       "      <td>-</td>\n",
       "      <td>-</td>\n",
       "      <td>0</td>\n",
       "    </tr>\n",
       "  </tbody>\n",
       "</table>\n",
       "</div>"
      ],
      "text/plain": [
       "         0                                                  1  \\\n",
       "0    16.95              M.Chapoutier, Rasteau \" Les Gadilles\"   \n",
       "2    45.75                Savigny Les Beaune Antoine Geoffroy   \n",
       "3    21.25  Domaine Trénel, Climat Fleurie 'La Madone' (Si...   \n",
       "4    13.65        Domaine Trénel, Beaujolais Organic \" Rouge\"   \n",
       "7    22.95  Domaine Trénel, Viré Clessé Chardonnay, Vin de...   \n",
       "10   45.85                        Boutinot Cairanne 'Les Six'   \n",
       "3    31.75                        \"M\" De Minuty Magnum (1.5L)   \n",
       "0    22.85                Macon Rouge Maison Antoine Geoffroy   \n",
       "5   295.95       Dom Pérignon Vintage, in individual Gift Box   \n",
       "1    99.60                          Château Minuty \"281\" Rosé   \n",
       "5    31.60  Chateau Gravet Renaissance, Grand Cru Saint-Em...   \n",
       "11   36.40                               Chateau Lange Réglat   \n",
       "9    24.05                                      Château Amour   \n",
       "4    38.65                                    Château Lalande   \n",
       "11   16.60                  Little Ripples Cabernet Sauvignon   \n",
       "1     4.80  `Red Moon` Mangan Vineyard Wilyabrup Malbec/Pe...   \n",
       "7    20.75       Tinpot Hut `McKee Vineyard` Grüner Veltliner   \n",
       "1    31.75                            Bolney Bubbly Sparkling   \n",
       "11   12.35                                        Apothic Red   \n",
       "2    26.30                          Vesevo Taurasi Ensis Docg   \n",
       "6    19.10                  Allegrini Estates Rubio, San Polo   \n",
       "5    12.75  Ripa Delle Mandorle IGT Toscana Rosso, Vicchio...   \n",
       "8    20.50  Lugarara, Gavi Di Gavi , La Giustiniana, Piemonte   \n",
       "9    36.65  Ripa Delle More Toscana IGT, Castello Vicchiom...   \n",
       "0   215.45     FSM Castello Vicchiomaggio, Merlot Toscana IGT   \n",
       "10    9.30                     Pinot Grigio Piave La di Motte   \n",
       "4    10.05  Vins El Cep Gr5 Senders Negre De Terrer( Tempr...   \n",
       "9    18.60        Anna Blanc De Blancs, Codorníu Brut Reserva   \n",
       "5     9.55  Adegas Valminor'Davila O Rasal (Albarino/Loure...   \n",
       "8     9.90                CVNE, Monopole Unoaked Blanco Rioja   \n",
       "3     9.20                            Campo Viejo Tempranillo   \n",
       "\n",
       "                                                    2      country  \\\n",
       "0   https://www.i-d-s.com/dubai/m-chapoutier-raste...       france   \n",
       "2   https://www.i-d-s.com/dubai/savigny-les-beaune...       france   \n",
       "3   https://www.i-d-s.com/dubai/domaine-tr-nel-fle...       france   \n",
       "4   https://www.i-d-s.com/dubai/domaine-tr-nel-bea...       france   \n",
       "7   https://www.i-d-s.com/dubai/domaine-tr-nel-vir...       france   \n",
       "10  https://www.i-d-s.com/dubai/boutinot-cairanne-...       france   \n",
       "3   https://www.i-d-s.com/dubai/m-de-minuty-magnum...       france   \n",
       "0   https://www.i-d-s.com/dubai/macon-rouge-maison...       france   \n",
       "5   https://www.i-d-s.com/dubai/dom-p-rignon-vinta...       france   \n",
       "1   https://www.i-d-s.com/dubai/ch-teau-minuty-281...       france   \n",
       "5   https://www.i-d-s.com/dubai/chateau-gravet-ren...       france   \n",
       "11  https://www.i-d-s.com/dubai/chateau-lange-r-gl...       france   \n",
       "9   https://www.i-d-s.com/dubai/ch-teau-amour-fr10...       france   \n",
       "4   https://www.i-d-s.com/dubai/ch-teau-lalande-fr...       france   \n",
       "11  https://www.i-d-s.com/dubai/little-ripples-cab...    australia   \n",
       "1   https://www.i-d-s.com/dubai/red-moon-mangan-vi...    australia   \n",
       "7   https://www.i-d-s.com/dubai/tinpot-hut-mckee-v...  new_zealand   \n",
       "1   https://www.i-d-s.com/dubai/bolney-bubbly-spar...           uk   \n",
       "11  https://www.i-d-s.com/dubai/apothic-red-us1030...          usa   \n",
       "2   https://www.i-d-s.com/dubai/vesevo-taurasi-ens...        italy   \n",
       "6   https://www.i-d-s.com/dubai/allegrini-estates-...        italy   \n",
       "5   https://www.i-d-s.com/dubai/ripa-delle-mandorl...        italy   \n",
       "8   https://www.i-d-s.com/dubai/lugarara-gavi-di-g...        italy   \n",
       "9   https://www.i-d-s.com/dubai/ripa-delle-more-to...        italy   \n",
       "0   https://www.i-d-s.com/dubai/fsm-castello-vicch...        italy   \n",
       "10  https://www.i-d-s.com/dubai/pinot-grigio-piave...        italy   \n",
       "4   https://www.i-d-s.com/dubai/vins-el-cep-gr5-se...        spain   \n",
       "9   https://www.i-d-s.com/dubai/anna-blanc-de-blan...        spain   \n",
       "5   https://www.i-d-s.com/dubai/adegas-valminor-da...        spain   \n",
       "8   https://www.i-d-s.com/dubai/cvne-monopole-unoa...        spain   \n",
       "3   https://www.i-d-s.com/dubai/campo-viejo-tempra...        spain   \n",
       "\n",
       "                                      vivino_url vivino_rating  \\\n",
       "0                                              -             -   \n",
       "2     https://www.vivino.com/FR/en/wines/4789464           4.0   \n",
       "3     https://www.vivino.com/FR/en/wines/4833964           3.7   \n",
       "4     https://www.vivino.com/FR/en/wines/3582444           3.7   \n",
       "7   https://www.vivino.com/FR/en/wines/144587348           4.0   \n",
       "10                                             -             -   \n",
       "3     https://www.vivino.com/FR/en/wines/2191238           3.9   \n",
       "0   https://www.vivino.com/FR/en/wines/147009133           3.8   \n",
       "5     https://www.vivino.com/FR/en/wines/1540082           4.6   \n",
       "1     https://www.vivino.com/FR/en/wines/1473981           4.1   \n",
       "5                                              -             -   \n",
       "11    https://www.vivino.com/FR/en/wines/3717744           4.1   \n",
       "9     https://www.vivino.com/FR/en/wines/1783738           3.6   \n",
       "4     https://www.vivino.com/FR/en/wines/1491165           4.4   \n",
       "11                                             -             -   \n",
       "1   https://www.vivino.com/FR/en/wines/157938311           3.6   \n",
       "7                                              -             -   \n",
       "1     https://www.vivino.com/FR/en/wines/2952551           3.9   \n",
       "11    https://www.vivino.com/FR/en/wines/1469195           3.7   \n",
       "2     https://www.vivino.com/FR/en/wines/2498287           3.8   \n",
       "6     https://www.vivino.com/FR/en/wines/2060016           3.7   \n",
       "5     https://www.vivino.com/FR/en/wines/1966999           3.6   \n",
       "8     https://www.vivino.com/FR/en/wines/1517136           3.9   \n",
       "9     https://www.vivino.com/FR/en/wines/4626362           4.1   \n",
       "0     https://www.vivino.com/FR/en/wines/3483261           4.4   \n",
       "10    https://www.vivino.com/FR/en/wines/4995084           3.6   \n",
       "4     https://www.vivino.com/FR/en/wines/1484909           4.1   \n",
       "9   https://www.vivino.com/FR/en/wines/169848214           3.8   \n",
       "5     https://www.vivino.com/FR/en/wines/5714731           0.0   \n",
       "8     https://www.vivino.com/FR/en/wines/1535391           3.7   \n",
       "3                                              -             -   \n",
       "\n",
       "                                          vivino_name vivino_price  \\\n",
       "0                                                   -            -   \n",
       "2   Domaine Antoine Olivier Savigny-Les-Beaune Pre...            —   \n",
       "3    Jean-Marc Despres Domaine de la Madone Fleurie 0            —   \n",
       "4   Martine et Pierre Marie Chermette - Domaine du...        15.10   \n",
       "7            Domaine de l'Epinet Gramont Chardonnay 0            —   \n",
       "10                                                  -            -   \n",
       "3                                     Minuty M Rosé 0        16.00   \n",
       "0                  Maison Guillot-Broux Mâcon Rouge 0            —   \n",
       "5                       Dom Pérignon Brut Champagne 0       250.00   \n",
       "1           Château d'Esclans Whispering Angel Rosé 0        19.95   \n",
       "5                                                   -            -   \n",
       "11  Vignobles Bernard Reglat Château Lange-Réglat ...       265.00   \n",
       "9            Château de Panigon Château Amour Médoc 0        12.25   \n",
       "4   Château Pichon Longueville Comtesse de Lalande...       199.00   \n",
       "11                                                  -            -   \n",
       "1                   Cullen Mangan Vineyard Red Moon 0            —   \n",
       "7                                                   -            -   \n",
       "1             Bolney Wine Estate Bolney Bubbly Brut 0            —   \n",
       "11                  Apothic Red (Winemaker's Blend) 0            —   \n",
       "2                             Ascheri Arneis Langhe 0            —   \n",
       "6                                    San Polo Rubio 0        10.50   \n",
       "5                 Vicchiomaggio Ripa delle Mandorle 0        13.95   \n",
       "8      Giustiniana Lugarara Gavi del Comune di Gavi 0            —   \n",
       "9                     Vicchiomaggio Ripa delle More 0            —   \n",
       "0                                 Vicchiomaggio FSM 0            —   \n",
       "10                         La di Motte Pinot Grigio 0         9.50   \n",
       "4   Casa Madero 3V Cabernet Sauvignon - Merlot - T...            —   \n",
       "9   Anna de Codorniu Reserva Edición Limitada Blan...            —   \n",
       "5   Enolegs D3 Bote Llas Albariño Treixadura Loure...            —   \n",
       "8   Bodegas Franco-Españolas Diamante Semi-Dulce B...            —   \n",
       "3                                                   -            -   \n",
       "\n",
       "    vivino_country                     vivino_region nb_ratings  ratio  \n",
       "0                -                                 -          -      0  \n",
       "2           france  savigny-les-beaune-les-peuillets        129     39  \n",
       "3           france                           fleurie       1140     46  \n",
       "4           france                        beaujolais       3731     43  \n",
       "7           france                       vire-clesse        206     50  \n",
       "10               -                                 -          -      0  \n",
       "3           france                 cotes-de-provence      40256     43  \n",
       "0           france                             macon        301     46  \n",
       "5           france                         champagne     148789     49  \n",
       "1           france                 cotes-de-provence      79131     48  \n",
       "5                -                                 -          -      4  \n",
       "11          france                         sauternes       1274     47  \n",
       "9           france                             medoc       1651     49  \n",
       "4           france                          pauillac      40300     33  \n",
       "11               -                                 -          -      0  \n",
       "1        australia                 western-australia        634     48  \n",
       "7                -                                 -          -      0  \n",
       "1   united-kingdom                            sussex        527     48  \n",
       "11   united-states                        california     139430     50  \n",
       "2            italy                            langhe       1147     42  \n",
       "6            italy                           tuscany       5934     41  \n",
       "5            italy                           tuscany       2883     46  \n",
       "8            italy                              gavi       1818     46  \n",
       "9            italy                           tuscany       2016     39  \n",
       "0            italy                           tuscany        366     49  \n",
       "10           italy                      friuli-grave        925     46  \n",
       "4           mexico                   valle-de-parras      31143     41  \n",
       "9            spain                              cava         54     49  \n",
       "5            spain                       rias-baixas      14785     50  \n",
       "8            spain                             rioja       9144     43  \n",
       "3                -                                 -          -      0  "
      ]
     },
     "execution_count": 40,
     "metadata": {},
     "output_type": "execute_result"
    }
   ],
   "source": [
    "df_wine_diplo[df_wine_diplo['ratio']<=50]"
   ]
  },
  {
   "cell_type": "code",
   "execution_count": null,
   "id": "3a303877",
   "metadata": {},
   "outputs": [],
   "source": [
    "# for the wine with ratio <50 they are scrapped a second time"
   ]
  },
  {
   "cell_type": "code",
   "execution_count": null,
   "id": "233ca4c0",
   "metadata": {},
   "outputs": [],
   "source": []
  },
  {
   "cell_type": "code",
   "execution_count": null,
   "id": "b8d3ae4d",
   "metadata": {},
   "outputs": [],
   "source": []
  },
  {
   "cell_type": "code",
   "execution_count": null,
   "id": "fc2d19b1",
   "metadata": {},
   "outputs": [],
   "source": []
  },
  {
   "cell_type": "code",
   "execution_count": 32,
   "id": "45f1529d",
   "metadata": {},
   "outputs": [],
   "source": [
    "df_wine_diplo.to_csv('wine_diplo_2023_28Aug.csv')"
   ]
  },
  {
   "cell_type": "code",
   "execution_count": null,
   "id": "f8ab6bfd",
   "metadata": {},
   "outputs": [],
   "source": []
  },
  {
   "cell_type": "code",
   "execution_count": null,
   "id": "2ba46171",
   "metadata": {},
   "outputs": [],
   "source": []
  }
 ],
 "metadata": {
  "kernelspec": {
   "display_name": "Python 3 (ipykernel)",
   "language": "python",
   "name": "python3"
  },
  "language_info": {
   "codemirror_mode": {
    "name": "ipython",
    "version": 3
   },
   "file_extension": ".py",
   "mimetype": "text/x-python",
   "name": "python",
   "nbconvert_exporter": "python",
   "pygments_lexer": "ipython3",
   "version": "3.9.13"
  }
 },
 "nbformat": 4,
 "nbformat_minor": 5
}
