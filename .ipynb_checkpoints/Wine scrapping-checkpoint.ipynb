{
 "cells": [
  {
   "cell_type": "code",
   "execution_count": 1,
   "id": "acb5616a",
   "metadata": {},
   "outputs": [],
   "source": [
    "from bs4 import BeautifulSoup\n",
    "from selenium import webdriver\n",
    "import time\n",
    "import pandas\n",
    "import datetime\n",
    "from datetime import datetime\n",
    "import requests\n",
    "import re\n",
    "from selenium import webdriver\n",
    "from selenium.webdriver import ActionChains\n",
    "from webdriver_manager.chrome import ChromeDriverManager\n",
    "from selenium.webdriver.common.by import By\n",
    "from selenium.webdriver.common.keys import Keys\n"
   ]
  },
  {
   "cell_type": "code",
   "execution_count": 2,
   "id": "452a4e50",
   "metadata": {},
   "outputs": [],
   "source": [
    "browser = webdriver.Chrome(executable_path='/Users/hugoruizverastegui/Downloads/chromedriver-121')"
   ]
  },
  {
   "cell_type": "code",
   "execution_count": 3,
   "id": "da03cde6",
   "metadata": {},
   "outputs": [],
   "source": [
    "# automated install\n",
    "#browser = webdriver.Chrome(ChromeDriverManager().install())"
   ]
  },
  {
   "cell_type": "code",
   "execution_count": 3,
   "id": "f23df964",
   "metadata": {},
   "outputs": [],
   "source": [
    "\n",
    "\n",
    "parameters= [\n",
    "{\n",
    "\"country\": \"TH\",   \n",
    "\"website\": \"OIS\",   \n",
    "\"url_scrap\": ((\"france\",\"https://www.i-d-s.com/dubai/wine/wines-by-country/france.html?p=\"),    \n",
    "(\"argentina\",\"https://www.i-d-s.com/dubai/wine/wines-by-country/argentina.html?p=\"),\n",
    "(\"australia\",\"https://www.i-d-s.com/dubai/wine/wines-by-country/australia.html?p=\"),\n",
    "(\"chile\",\"https://www.i-d-s.com/dubai/wine/wines-by-country/chile.html?p=\"),\n",
    "(\"new_zealand\",\"https://www.i-d-s.com/dubai/wine/wines-by-country/new-zealand.html?p=\"),\n",
    "(\"south_africa\",\"https://www.i-d-s.com/dubai/wine/wines-by-country/south-africa.html?p=\"),\n",
    "(\"uk\",\"https://www.i-d-s.com/dubai/wine/wines-by-country/united-kingdom.html?p=\"),\n",
    "(\"usa\",\"https://www.i-d-s.com/dubai/wine/wines-by-country/usa.html?p=\"),\n",
    "(\"germany\",\"https://www.i-d-s.com/dubai/wine/wines-by-country/germany.html?p=\"),\n",
    "(\"italy\",\"https://www.i-d-s.com/dubai/wine/wines-by-country/italy.html?p=\"),\n",
    "(\"spain\",\"https://www.i-d-s.com/dubai/wine/wines-by-country/spain.html?p=\"),\n",
    "(\"rest-of-the-world\",\"https://www.i-d-s.com/dubai/wine/wines-by-country/rest-of-the-world.html?p=\")\n",
    "),\n",
    "    \n",
    "    \n",
    "\"price_regex\":  \"finalPrice\\\" class=\\\"price-wrapper \\\"><span class=\\\"price\\\">.*?\\$(.*?)<\",    \n",
    "#\"price_regex\":  \"<span class=\\\"price\\\">\\$(.*?)<\",\n",
    "##\"data-price-amount=\\\"(.*?)\\\"\",\n",
    "\"name_regex\": \"class=\\\"product-item-link\\\" href=.*?>(.*?)<\",                \n",
    "\"url_regex\": \"product-item-link\\\" href=\\\"(.*?)\\\"\",\n",
    "\"brand_regex\": \"NA\", \n",
    "\"scrolling_type\" : \"no scroll\",\n",
    "\"pop_up_type\" : \"have pop up\", \n",
    "\"page_not_found_type\" : \"yes\",\n",
    "\"page_not_found_regex\":\"find products matching the selection\",\n",
    "\"format_change_type\" : \"yes\",\n",
    "\"multiple_pages\" : \"yes\",\n",
    "\"scrapper_activated\":\"1\"\n",
    "}\n",
    "    \n",
    "]\n",
    "\n",
    "DF_final=pandas.DataFrame()"
   ]
  },
  {
   "cell_type": "code",
   "execution_count": 4,
   "id": "d56bcfac",
   "metadata": {},
   "outputs": [],
   "source": [
    "def pop_up_closing(param,browser_param):\n",
    "    if param[\"pop_up_type\"]=='no pop up':\n",
    "        pass\n",
    "    if param[\"pop_up_type\"]=='have pop up':\n",
    "\n",
    "        close=browser_param.find_elements_by_class_name(\"action-close\")\n",
    "        for element in close : \n",
    "            try:\n",
    "                element.click()   \n",
    "                time.sleep(1)\n",
    "            except:\n",
    "                pass"
   ]
  },
  {
   "cell_type": "code",
   "execution_count": 5,
   "id": "665743e4",
   "metadata": {},
   "outputs": [],
   "source": [
    "def get_data(param):\n",
    "    \n",
    "        l = len(param[\"url_scrap\"])\n",
    "        i=0\n",
    "        df_aggregated=pandas.DataFrame()\n",
    "        nb_issues = 0\n",
    "        today_date=datetime.today().strftime('%Y-%m-%d')\n",
    "        \n",
    "        while i<l:\n",
    "        #while i<2:\n",
    "            \n",
    "            #browser = webdriver.Chrome(executable_path=executable_path)\n",
    "            #browser = webdriver.Chrome(ChromeDriverManager().install())\n",
    "            browser=webdriver.Chrome(executable_path='/Users/hugoruizverastegui/Downloads/chromedriver-121')\n",
    "            category=param[\"url_scrap\"][i][0]           \n",
    "            \n",
    "            url=param[\"url_scrap\"][i][1]\n",
    "            print(category)\n",
    "            #print(url)        \n",
    "\n",
    "            # to change into a parameter\n",
    "            test_not_found=param[\"page_not_found_regex\"]\n",
    "\n",
    "            #init\n",
    "            page_not_found=0\n",
    "\n",
    "            # different starting point depending on the param page not found \n",
    "            if param[\"page_not_found_type\"]=='yes':\n",
    "                page=1\n",
    "\n",
    "            if param[\"page_not_found_type\"]=='no':\n",
    "                page=\"\"\n",
    "\n",
    "\n",
    "            while page_not_found==0:\n",
    "                #use of try to handle possible scrapping errors or time outs - https://stackoverflow.com/questions/51943694/execute-when-error-occurs-python\n",
    "                     \n",
    "                url_with_page=url+str(page)\n",
    "                print(url_with_page)     \n",
    "\n",
    "                browser.get(url_with_page)    \n",
    "\n",
    "                time.sleep(5)\n",
    "                #use of the anti pop up function\n",
    "                pop_up_closing(param,browser)\n",
    "\n",
    "                #use of the scrolling function\n",
    "                #scrolling(param,browser)\n",
    "\n",
    "                #use of format changing\n",
    "                #format_change(param,browser,page)\n",
    "\n",
    "                # extract of sourc code \n",
    "                time.sleep(2)\n",
    "                htmlsource = browser.page_source\n",
    "                \n",
    "\n",
    "                #use of the commas replace code\n",
    "                #htmlsource_replaced = replace_commas(param,htmlsource)\n",
    "                #print(htmlsource)\n",
    "\n",
    "                time.sleep(2)\n",
    "\n",
    "                name = re.findall(param[\"name_regex\"], htmlsource)\n",
    "                print(\"name: \" + str(len(name)))\n",
    "                print(name)\n",
    "                \n",
    "                url_product = re.findall(param[\"url_regex\"], htmlsource)\n",
    "                print(\"url_product: \" + str(len(url_product)))\n",
    "                print(url_product)\n",
    "                \n",
    "                prices = re.findall(param[\"price_regex\"], htmlsource)\n",
    "                print(\"prices: \" + str(len(prices)))\n",
    "                prices = prices[0:len(name)]\n",
    "                print(\"reduced prices: \" + str(len(prices)))\n",
    "                print(prices)\n",
    "                \n",
    "\n",
    "                \n",
    "                df=[prices,name,url_product]\n",
    "                df=pandas.DataFrame(df).transpose()\n",
    "                df['country']=category\n",
    "                df_aggregated=df_aggregated.append(df)\n",
    "\n",
    "\n",
    "                # exit loop after first iteration if there are no pages to go through\n",
    "                if param[\"page_not_found_type\"]=='no':\n",
    "                    page_not_found = 1\n",
    "\n",
    "                if param[\"page_not_found_type\"]=='yes':\n",
    "                    page_not_found = len(re.findall(test_not_found, htmlsource))\n",
    "                    page=page+1\n",
    "                    # only keep the output if there is no shift \n",
    "\n",
    "\n",
    "            i=i+1\n",
    "            browser.close()\n",
    "             \n",
    "            print(\"---------------\")\n",
    "        \n",
    "        #define columns names\n",
    "\n",
    "        return df_aggregated\n",
    "\n",
    "\n",
    "\n"
   ]
  },
  {
   "cell_type": "code",
   "execution_count": 6,
   "id": "5133f08b",
   "metadata": {},
   "outputs": [
    {
     "name": "stdout",
     "output_type": "stream",
     "text": [
      "france\n",
      "https://www.i-d-s.com/dubai/wine/wines-by-country/france.html?p=1\n",
      "name: 12\n",
      "['Clos Mireille Blanc, Domaines Ott', \"L'Héritage` Pouilly-Fumé, Domaine Figeat, Loire, France\", 'Saint-Émilion Grand Cru, Château Tour de Capet, Bordeaux, France', \"Médoc Cru Bourgeois, Château Patache d'Aux, Bordeaux, France\", '2017 Chateau Croix Mouton', '2020 Chateau Beychevelle \"Amiral De Beychevelle\" St. Julien', 'La Chablisienne Chablis Grand Cru Les Clos', 'Maison Champy Chassagne Montrachet', 'Masion Champy \"Les Chenevottes\" Chassagne Montrachet 1er Cru', 'Masion Champy Cote de Beaune Villages', 'Maison Champy Pommard', 'Laurent-Perrier Grand Siècle Champagne ']\n",
      "url_product: 12\n",
      "['https://www.i-d-s.com/dubai/clos-mireille-blanc-domaines-ott-fr1197.html', 'https://www.i-d-s.com/dubai/l-h-ritage-pouilly-fum-domaine-figeat-loire-france-fr1339.html', 'https://www.i-d-s.com/dubai/saint-milion-grand-cru-ch-teau-tour-de-capet-bordeaux-france-fr1335.html', 'https://www.i-d-s.com/dubai/m-doc-cru-bourgeois-ch-teau-patache-d-aux-bordeaux-france-fr1333.html', 'https://www.i-d-s.com/dubai/2017-chateau-croix-mouton-fw1239.html', 'https://www.i-d-s.com/dubai/2020-chateau-beychevelle-amiral-de-beychevelle-st-julien-fw1226.html', 'https://www.i-d-s.com/dubai/la-chablisienne-chablis-grand-cru-les-clos-fr1157.html', 'https://www.i-d-s.com/dubai/maison-champy-chassagne-montrachet-fr4405.html', 'https://www.i-d-s.com/dubai/masion-champy-les-chenevottes-chassagne-montrachet-1er-cru-fr4406.html', 'https://www.i-d-s.com/dubai/masion-champy-cote-de-beaune-villages-fr4408.html', 'https://www.i-d-s.com/dubai/maison-champy-pommard-fr4419.html', 'https://www.i-d-s.com/dubai/laurent-perrier-grand-si-cle-champagne-cp4025.html']\n",
      "prices: 12\n",
      "reduced prices: 12\n",
      "['64.99', '26.55', '35.10', '28.05', '103.45', '454.90', '72.20', '65.65', '87.50', '33.50', '68.05', '206.65']\n",
      "https://www.i-d-s.com/dubai/wine/wines-by-country/france.html?p=2\n"
     ]
    },
    {
     "name": "stderr",
     "output_type": "stream",
     "text": [
      "/var/folders/9z/sjrbpv9j1996t3_4wv3ry65c0000gn/T/ipykernel_98632/3146571461.py:83: FutureWarning: The frame.append method is deprecated and will be removed from pandas in a future version. Use pandas.concat instead.\n",
      "  df_aggregated=df_aggregated.append(df)\n"
     ]
    },
    {
     "name": "stdout",
     "output_type": "stream",
     "text": [
      "name: 12\n",
      "['Cristal Roederer Brut 2009 Magnum', 'Domaine Wiehlé Grand Cru Sporen Vendange Tardive', 'Cave de Turckheim Tradition Pinot Gris', 'Cave de Turckheim Pinot Noir [Organic]', 'Baron Philippe De Rothschild Bordeaux Blanc Aoc', 'Clos de la Cure, Saint-Émilion Grand Cru', 'Château Milon, Saint-Émilion Grand Cru', 'Château Layauga-Duboscq Classique, Médoc', 'Château Cavale Cuvée Saint-Michel (Organic) ', \"Château Castelbruck, 'Cuvée Bruyères', Margaux\", 'Château Haut-Marbuzet, Saint-Estèphe', 'Terres Nobles Jas du Roy']\n",
      "url_product: 12\n",
      "['https://www.i-d-s.com/dubai/cristal-roederer-brut-2009-magnum-cp4028.html', 'https://www.i-d-s.com/dubai/domaine-wiehl-grand-cru-sporen-vendange-tardive-dw4004.html', 'https://www.i-d-s.com/dubai/cave-de-turckheim-tradition-pinot-gris-fr4351.html', 'https://www.i-d-s.com/dubai/cave-de-turckheim-pinot-noir-organic-fr4352.html', 'https://www.i-d-s.com/dubai/baron-philippe-de-rothschild-bordeaux-blanc-aoc-fr4063.html', 'https://www.i-d-s.com/dubai/clos-de-la-cure-saint-milion-grand-cru-fr4358.html', 'https://www.i-d-s.com/dubai/ch-teau-milon-saint-milion-grand-cru-fr4359.html', 'https://www.i-d-s.com/dubai/ch-teau-layauga-duboscq-classique-m-doc-fr4361.html', 'https://www.i-d-s.com/dubai/ch-teau-cavale-cuv-e-saint-michel-organic-fr4439.html', 'https://www.i-d-s.com/dubai/ch-teau-castelbruck-cuv-e-bruy-res-margaux-fr4355.html', 'https://www.i-d-s.com/dubai/ch-teau-haut-marbuzet-saint-est-phe-fr4360.html', 'https://www.i-d-s.com/dubai/terres-nobles-jas-du-roy-fr4365.html']\n",
      "prices: 12\n",
      "reduced prices: 12\n",
      "['671.15', '16.75', '7.30', '9.65', '4.95', '16.00', '13.30', '11.50', '8.10', '19.80', '35.60', '4.85']\n",
      "https://www.i-d-s.com/dubai/wine/wines-by-country/france.html?p=3\n"
     ]
    },
    {
     "name": "stderr",
     "output_type": "stream",
     "text": [
      "/var/folders/9z/sjrbpv9j1996t3_4wv3ry65c0000gn/T/ipykernel_98632/3146571461.py:83: FutureWarning: The frame.append method is deprecated and will be removed from pandas in a future version. Use pandas.concat instead.\n",
      "  df_aggregated=df_aggregated.append(df)\n"
     ]
    },
    {
     "name": "stdout",
     "output_type": "stream",
     "text": [
      "name: 12\n",
      "['Les Croisières Blanc Bib 5 Ltr. (Sauvignon Blanc)', 'Les Croisières Blanc Bib 5 Ltr (Chardonnay-Vermentino)', 'Les Croisières Rouge Bib 5 Ltr. (Merlot, Syrah &amp; Cabernet Sauvignon)', 'La Collection by Maison Boutinot, Côtes de Thau Blanc', 'Domaine Roblin Sancerre Blanc ‘Terres Blanches’', 'Grandin Brut \"Cuvée De Réserve\"', 'A. Ogier &amp; Fils Experience Tavel Rosé', 'Château des Eyssards, Côtes de Bergerac Moelleux', 'Bollinger Special Cuvée Brut', 'Fleur de Miraval, Rosé Champagne', '2016 Chateau.Smith Haut Lafitte Rouge, Pessac -Leognan', 'Baron Philippe de Rothschild, Mouton Cadet Mathilde Rose BIO']\n",
      "url_product: 12\n",
      "['https://www.i-d-s.com/dubai/les-croisi-res-blanc-bib-5-ltr-sauvignon-blanc-fr4324.html', 'https://www.i-d-s.com/dubai/les-croisi-res-blanc-bib-5-ltr-chardonnay-vermentino-fr4325.html', 'https://www.i-d-s.com/dubai/les-croisi-res-rouge-bib-5-ltr-merlot-syrah-cabernet-sauvignon-fr4327.html', 'https://www.i-d-s.com/dubai/la-collection-by-maison-boutinot-c-tes-de-thau-blanc-fr4364.html', 'https://www.i-d-s.com/dubai/domaine-roblin-sancerre-blanc-terres-blanches-fr4369.html', 'https://www.i-d-s.com/dubai/grandin-brut-cuv-e-de-r-serve-sw4042.html', 'https://www.i-d-s.com/dubai/a-ogier-fils-experience-tavel-ros-fr4421.html', 'https://www.i-d-s.com/dubai/ch-teau-des-eyssards-c-tes-de-bergerac-moelleux-dw4044.html', 'https://www.i-d-s.com/dubai/bollinger-special-cuv-e-brut-cp1071.html', 'https://www.i-d-s.com/dubai/fleur-de-miraval-ros-champagne-cp1030.html', 'https://www.i-d-s.com/dubai/2016-chateau-smith-haut-lafitte-rouge-pessac-leognan-fw1187.html', 'https://www.i-d-s.com/dubai/baron-philippe-de-rothschild-mouton-cadet-mathilde-rose-bio-fr1357.html']\n",
      "prices: 12\n",
      "reduced prices: 12\n",
      "['21.30', '28.00', '23.30', '8.65', '13.40', '6.50', '9.05', '4.00', '96.25', '283.08', '2,527.65', '10.50']\n",
      "https://www.i-d-s.com/dubai/wine/wines-by-country/france.html?p=4\n"
     ]
    },
    {
     "name": "stderr",
     "output_type": "stream",
     "text": [
      "/var/folders/9z/sjrbpv9j1996t3_4wv3ry65c0000gn/T/ipykernel_98632/3146571461.py:83: FutureWarning: The frame.append method is deprecated and will be removed from pandas in a future version. Use pandas.concat instead.\n",
      "  df_aggregated=df_aggregated.append(df)\n"
     ]
    },
    {
     "name": "stdout",
     "output_type": "stream",
     "text": [
      "name: 12\n",
      "['Chateau Tour De Mons, Margaux', '2020 Chateau&nbsp;Ormes De Pez', 'Mumm Grand Cordon', '2020 Sarget D Gruaud Larose, St Julien', 'Les Hauts de Perganson, Haut-Medoc, Bordeaux', 'Louis Jadot Pommard', \"M.Chapoutier, Luberon 'La Ciboise' Rouge\", 'M.Chapoutier, Côtes-du-Rhône Blanc Adunatio , Collection Bio', 'Vranken Brut Nature VDC with Gift Box', 'Côtes-du-Rhône Rouge, Les Terres du Roy, Southern Rhône, France', 'Veuve Clicquot Yellow Label Brut', 'Moët &amp; Chandon Brut Impérial']\n",
      "url_product: 12\n",
      "['https://www.i-d-s.com/dubai/chateau-tour-de-mons-margaux-fw1222.html', 'https://www.i-d-s.com/dubai/2020-chateau-ormes-de-pez-fw1218.html', 'https://www.i-d-s.com/dubai/mumm-grand-cordon-cp4026.html', 'https://www.i-d-s.com/dubai/2020-sarget-d-gruaud-larose-st-julien-fw1220.html', 'https://www.i-d-s.com/dubai/les-hauts-de-perganson-haut-medoc-bordeaux-fr1334.html', 'https://www.i-d-s.com/dubai/louis-jadot-pommard-fr2057.html', 'https://www.i-d-s.com/dubai/m-chapoutier-luberon-la-ciboise-rouge-fr1279.html', 'https://www.i-d-s.com/dubai/m-chapoutier-c-tes-du-rh-ne-blanc-collection-bio-fr1271.html', 'https://www.i-d-s.com/dubai/vranken-brut-nature-vdc-with-gift-box-cp4019.html', 'https://www.i-d-s.com/dubai/c-tes-du-rh-ne-rouge-les-terres-du-roy-southern-rh-ne-france-fr1340.html', 'https://www.i-d-s.com/dubai/veuve-clicquot-yellow-label-brut-cp1016.html', 'https://www.i-d-s.com/dubai/mo-t-chandon-brut-imp-rial-cp1011.html']\n",
      "prices: 12\n",
      "reduced prices: 12\n",
      "['262.85', '711.50', '56.55', '700.90', '20.50', '70.70', '9.40', '12.80', '33.00', '10.90', '76.85', '63.05']\n",
      "https://www.i-d-s.com/dubai/wine/wines-by-country/france.html?p=5\n"
     ]
    },
    {
     "name": "stderr",
     "output_type": "stream",
     "text": [
      "/var/folders/9z/sjrbpv9j1996t3_4wv3ry65c0000gn/T/ipykernel_98632/3146571461.py:83: FutureWarning: The frame.append method is deprecated and will be removed from pandas in a future version. Use pandas.concat instead.\n",
      "  df_aggregated=df_aggregated.append(df)\n"
     ]
    },
    {
     "name": "stdout",
     "output_type": "stream",
     "text": [
      "name: 12\n",
      "['M.Chapoutier, Costières-de-Nîmes, Collection Bio “Areca” &amp; “Rouge” ', 'Château des Antonins Bordeaux Blanc, 2022', 'Maison Antoine Geoffroy Pouilly Fuisse', 'Clos de la Cure, Saint-Émilion Grand Cru', 'Luberon Rosé, Famille Perrin, Southern Rhône, France', \"Merlot/Grenache IGP Côtes de Thau, Les Vignes de L'Eglise, Languedoc, France\", 'Syrah IGP Côtes de Thau, Baron de Badassière, Languedoc, France', 'Chardonnay IGP, Les Caves de Richemer, Languedoc, France', '2019 Château Gloria, Saint Julien', '2015 Chateau Pichon Comtesse Lalande, Grand Cru Classe', '2012 Château La Mission Haut-Brion, Grand Cru Classé de Graves, Pessac-Léognan', 'Château Moncontour Vouvray Brut']\n",
      "url_product: 12\n",
      "['https://www.i-d-s.com/dubai/m-chapoutier-costi-res-de-n-mes-collection-bio-fr1280.html', 'https://www.i-d-s.com/dubai/ch-teau-des-antonins-bordeaux-blanc-2022-fr1351.html', 'https://www.i-d-s.com/dubai/maison-antoine-geoffroy-pouilly-fuisse-fr1315.html', 'https://www.i-d-s.com/dubai/clos-de-la-cure-saint-milion-grand-cru-fr1318.html', 'https://www.i-d-s.com/dubai/luberon-ros-famille-perrin-southern-rh-ne-france-fr1331.html', 'https://www.i-d-s.com/dubai/merlot-grenache-igp-c-tes-de-thau-les-vignes-de-l-eglise-languedoc-france-fr1329.html', 'https://www.i-d-s.com/dubai/syrah-igp-c-tes-de-thau-baron-de-badassi-re-languedoc-france-fr1328.html', 'https://www.i-d-s.com/dubai/chardonnay-igp-les-caves-de-richemer-languedoc-france-fr1327.html', 'https://www.i-d-s.com/dubai/2019-ch-teau-gloria-saint-julien-fw1205.html', 'https://www.i-d-s.com/dubai/2015-chateau-pichon-comtesse-lalande-grand-cru-classe-fw1795.html', 'https://www.i-d-s.com/dubai/2012-ch-teau-la-mission-haut-brion-grand-cru-class-de-graves-pessac-l-ognan-fw1188.html', 'https://www.i-d-s.com/dubai/ch-teau-moncontour-vouvray-brut-sw2003.html']\n",
      "prices: 12\n",
      "reduced prices: 12\n",
      "['10.00', '12.30', '43.85', '31.00', '11.80', '8.50', '9.85', '10.55', '754.25', '4,117.75', '2,485.70', '18.50']\n",
      "https://www.i-d-s.com/dubai/wine/wines-by-country/france.html?p=6\n"
     ]
    },
    {
     "name": "stderr",
     "output_type": "stream",
     "text": [
      "/var/folders/9z/sjrbpv9j1996t3_4wv3ry65c0000gn/T/ipykernel_98632/3146571461.py:83: FutureWarning: The frame.append method is deprecated and will be removed from pandas in a future version. Use pandas.concat instead.\n",
      "  df_aggregated=df_aggregated.append(df)\n"
     ]
    },
    {
     "name": "stdout",
     "output_type": "stream",
     "text": [
      "name: 12\n",
      "['Maison Antoine Geoffroy, Beaune, Puligny Montrachet 1Er Cru Les Combettes ', 'Maison Antoine Geoffroy, Beaune, Gevrey Chambertin Vieilles Vignes ', 'Domaine Daniel-Etienne Defaix, Chablis Vieilles Vignes', '2019 Connetable de Talbot, Saint Julien', 'Cave de Turckheim Gewurztraminer Reserve', 'Schröder and Schÿler Margaux Private Selection', '2017 Chateau Croix Mouton', 'JCB No. 21` Crémant de Bourgogne Brut, JCB by Jean-Charles Boisset, Burgundy', 'Miraval, Côtes de Provence Rosé, Magnum', 'Remoissenet Santenay Blanc 2018', 'Château Mont-Redon Châteauneuf-du-Pape Rouge', \"Miraval, 'Studio' Rosé, Magnum\"]\n",
      "url_product: 12\n",
      "['https://www.i-d-s.com/dubai/maison-antoine-geoffroy-beaune-puligny-montrachet-1er-cru-les-combettes-fr1307.html', 'https://www.i-d-s.com/dubai/maison-antoine-geoffroy-beaune-gevrey-chambertin-vieilles-vignes-fr1308.html', 'https://www.i-d-s.com/dubai/domaine-daniel-etienne-defaix-chablis-vieilles-vignes-fr1305.html', 'https://www.i-d-s.com/dubai/2019-connetable-de-talbot-saint-julien-fw1200.html', 'https://www.i-d-s.com/dubai/cave-de-turckheim-gewurztraminer-reserve-fr1310.html', 'https://www.i-d-s.com/dubai/schr-der-and-sch-ler-margaux-private-selection-fr1299.html', 'https://www.i-d-s.com/dubai/2017-chateau-croix-mouton-fw1184.html', 'https://www.i-d-s.com/dubai/jcb-no-21-cr-mant-de-bourgogne-brut-jcb-by-jean-charles-boisset-burgundy-sw1071.html', 'https://www.i-d-s.com/dubai/miraval-c-tes-de-provence-ros-magnum-fr4423.html', 'https://www.i-d-s.com/dubai/remoissenet-santenay-blanc-2018-fr4429.html', 'https://www.i-d-s.com/dubai/ch-teau-mont-redon-ch-teauneuf-du-pape-rouge-zz18126.html', 'https://www.i-d-s.com/dubai/miraval-studio-ros-magnum-fr1288.html']\n",
      "prices: 12\n",
      "reduced prices: 12\n",
      "['183.95', '76.25', '45.90', '234.35', '16.25', '27.35', '202.15', '19.60', '55.15', '38.20', '43.45', '30.00']\n",
      "https://www.i-d-s.com/dubai/wine/wines-by-country/france.html?p=7\n"
     ]
    },
    {
     "name": "stderr",
     "output_type": "stream",
     "text": [
      "/var/folders/9z/sjrbpv9j1996t3_4wv3ry65c0000gn/T/ipykernel_98632/3146571461.py:83: FutureWarning: The frame.append method is deprecated and will be removed from pandas in a future version. Use pandas.concat instead.\n",
      "  df_aggregated=df_aggregated.append(df)\n"
     ]
    },
    {
     "name": "stdout",
     "output_type": "stream",
     "text": [
      "name: 12\n",
      "[\"Miraval, 'Studio' Rosé\", 'Perrier-Jouët Grand Brut', 'Savigny Les Beaune Antoine Geoffroy', 'M.Chapoutier, Côtes-du-Rhône Rouge Adubatio , Collection Bio', \"M.Chapoutier, 'Belleruche' Côtes-du-Rhône Rouge\", 'M.Chapoutier, Châteauneuf-du-Pape, Collection Bio Rouge', 'Marius, Avenue de la Gare Syrah, IGP Collines Rhodaniennes ', \"M.Chapoutier, Cornas 'Les Arènes'\", \"M.Chapoutier, Saint-Joseph 'Deschants' Rouge\", \"M.Chapoutier, 'Belleruche' Côtes-du-Rhône Blanc\", \"M.Chapoutier, Luberon 'La Ciboise' Blanc\", \"M.Chapoutier, Saint-Péray 'Les Tanneurs' \"]\n",
      "url_product: 12\n",
      "['https://www.i-d-s.com/dubai/miraval-studio-ros-fr1287.html', 'https://www.i-d-s.com/dubai/perrier-jou-t-grand-brut-cp1003.html', 'https://www.i-d-s.com/dubai/savigny-les-beaune-antoine-geoffroy-fr4436.html', 'https://www.i-d-s.com/dubai/m-chapoutier-c-tes-du-rh-ne-rouge-collection-bio-fr1278.html', 'https://www.i-d-s.com/dubai/m-chapoutier-belleruche-c-tes-du-rh-ne-rouge-fr1277.html', 'https://www.i-d-s.com/dubai/m-chapoutier-ch-teauneuf-du-pape-collection-bio-rouge-fr1276.html', 'https://www.i-d-s.com/dubai/marius-avenue-de-la-gare-syrah-igp-collines-rhodaniennes-fr1275.html', 'https://www.i-d-s.com/dubai/m-chapoutier-cornas-les-ar-nes-fr1274.html', 'https://www.i-d-s.com/dubai/m-chapoutier-saint-joseph-deschants-rouge-fr1273.html', 'https://www.i-d-s.com/dubai/m-chapoutier-belleruche-c-tes-du-rh-ne-blanc-fr1270.html', 'https://www.i-d-s.com/dubai/m-chapoutier-luberon-la-ciboise-blanc-fr1269.html', 'https://www.i-d-s.com/dubai/m-chapoutier-saint-p-ray-les-tanneurs-fr1268.html']\n",
      "prices: 12\n",
      "reduced prices: 12\n",
      "['17.50', '56.70', '45.75', '14.60', '11.60', '46.30', '12.25', '40.35', '29.90', '11.95', '10.55', '24.15']\n",
      "https://www.i-d-s.com/dubai/wine/wines-by-country/france.html?p=8\n"
     ]
    },
    {
     "name": "stderr",
     "output_type": "stream",
     "text": [
      "/var/folders/9z/sjrbpv9j1996t3_4wv3ry65c0000gn/T/ipykernel_98632/3146571461.py:83: FutureWarning: The frame.append method is deprecated and will be removed from pandas in a future version. Use pandas.concat instead.\n",
      "  df_aggregated=df_aggregated.append(df)\n"
     ]
    },
    {
     "name": "stdout",
     "output_type": "stream",
     "text": [
      "name: 12\n",
      "[\"M.Chapoutier, 'La Combe Pilate' Viognier, IGP Collines Rhodaniennes\", \"M.Chapoutier, Saint-Joseph 'Deschants' Blanc\", \"Domaine Trénel, Climat Fleurie 'La Madone' (Single Vineyard)\", 'Domaine Trénel, Beaujolais Organic \" Rouge\"', 'Domaine Trénel, Moulin à vent, Cru de Beaujolais', 'Domaine Trénel, Coteaux-Bourguignons, Vin de Bourgogne', 'Domaine Trénel, Viré Clessé Chardonnay, Vin de Bourgogne', \"Domaine Bila-Haut,'Occultum Lapidem', Côtes-du-Roussillon Rouge\", \"Domaine Bila-Haut, 'Occultum Lapidem', Côtes-du-Roussillon Blanc\", 'M.Chapoutier, Muscat de Beaumes-de-Venise', '2009 Château Lynch Bages, 5ème Cru Classé, Pauillac', 'Chateau Pontac Lynch Cru, Bourgeois']\n",
      "url_product: 12\n",
      "['https://www.i-d-s.com/dubai/m-chapoutier-la-combe-pilate-viognier-igp-collines-rhodaniennes-fr1267.html', 'https://www.i-d-s.com/dubai/m-chapoutier-saint-joseph-deschants-blanc-fr1266.html', 'https://www.i-d-s.com/dubai/domaine-tr-nel-fleurie-la-madone-single-vineyard-fr1265.html', 'https://www.i-d-s.com/dubai/domaine-tr-nel-beaujolais-organic-fr1264.html', 'https://www.i-d-s.com/dubai/domaine-tr-nel-moulin-vent-cru-de-beaujolais-fr1263.html', 'https://www.i-d-s.com/dubai/domaine-tr-nel-coteaux-bourguignons-vin-de-bourgogne-fr1262.html', 'https://www.i-d-s.com/dubai/domaine-tr-nel-vir-cless-chardonnay-vin-de-bourgogne-fr1261.html', 'https://www.i-d-s.com/dubai/domaine-bila-haut-occultum-lapidem-c-tes-du-roussillon-rouge-fr1284.html', 'https://www.i-d-s.com/dubai/domaine-bila-haut-occultum-lapidem-c-tes-du-roussillon-blanc-fr1283.html', 'https://www.i-d-s.com/dubai/m-chapoutier-muscat-de-beaumes-de-venise-dw1007.html', 'https://www.i-d-s.com/dubai/2008-ch-teau-lynch-bages-5-me-cru-class-pauillac-fw1153.html', 'https://www.i-d-s.com/dubai/chateau-pontac-lynch-cru-bourgeois-ex1020.html']\n",
      "prices: 12\n",
      "reduced prices: 12\n",
      "['17.10', '26.15', '18.30', '13.65', '18.00', '11.50', '20.80', '16.15', '16.15', '15.45', '4,070.05', '37.19']\n",
      "https://www.i-d-s.com/dubai/wine/wines-by-country/france.html?p=9\n"
     ]
    },
    {
     "name": "stderr",
     "output_type": "stream",
     "text": [
      "/var/folders/9z/sjrbpv9j1996t3_4wv3ry65c0000gn/T/ipykernel_98632/3146571461.py:83: FutureWarning: The frame.append method is deprecated and will be removed from pandas in a future version. Use pandas.concat instead.\n",
      "  df_aggregated=df_aggregated.append(df)\n"
     ]
    },
    {
     "name": "stdout",
     "output_type": "stream",
     "text": [
      "name: 12\n",
      "['Perrier-Jouët Belle Epoque', 'Mumm Cordon Rouge Brut', 'Moët &amp; Chandon Grand Vintage Blanc', 'Vranken Brut Nature VDC Magnum 1.5L with Gift Box', 'Champagne Pommery Blue Sky with Gift Box', 'Champagne Pommery Apanage with Gift Box', 'Gerard Betrand Banyuls, Languedoc-Roussillon', 'Louis Latour Macon Lugny', 'Louis Latour Gevrey-Chambertin, Cotes de Nuits', 'Louis Latour Nuits-St Georges, Cotes de Nuits', 'Bouchard Pere &amp; Fils Pommard', \"Les Alexandrins Cotes du Rhone Rouge 'Terrasses de L'Eridan'\"]\n",
      "url_product: 12\n",
      "['https://www.i-d-s.com/dubai/perrier-jou-t-belle-epoque-cp1004.html', 'https://www.i-d-s.com/dubai/mumm-cordon-rouge-brut-cp1008.html', 'https://www.i-d-s.com/dubai/mo-t-chandon-grand-vintage-blanc-cp2004.html', 'https://www.i-d-s.com/dubai/vranken-brut-nature-vdc-magnum-1-5l-with-gift-box-cp4016.html', 'https://www.i-d-s.com/dubai/champagne-pommery-blue-sky-with-gift-box-cp4020.html', 'https://www.i-d-s.com/dubai/champagne-pommery-apanage-with-gift-box-cp4021.html', 'https://www.i-d-s.com/dubai/gerard-betrand-banyuls-languedoc-roussillon-fr2013.html', 'https://www.i-d-s.com/dubai/louis-latour-macon-lugny-fr2040.html', 'https://www.i-d-s.com/dubai/louis-latour-gevrey-chambertin-cotes-de-nuits-fr2048.html', 'https://www.i-d-s.com/dubai/louis-latour-nuits-st-georges-cotes-de-nuits-fr2049.html', 'https://www.i-d-s.com/dubai/bouchard-pere-fils-pommard-fr2056.html', 'https://www.i-d-s.com/dubai/les-alexandrins-cotes-du-rhone-rouge-terrasses-de-l-eridan-fr1168.html']\n",
      "prices: 12\n",
      "reduced prices: 12\n",
      "['194.10', '51.75', '67.25', '48.75', '44.85', '36.25', '19.70', '18.10', '80.90', '88.75', '45.00', '16.70']\n",
      "https://www.i-d-s.com/dubai/wine/wines-by-country/france.html?p=10\n"
     ]
    },
    {
     "name": "stderr",
     "output_type": "stream",
     "text": [
      "/var/folders/9z/sjrbpv9j1996t3_4wv3ry65c0000gn/T/ipykernel_98632/3146571461.py:83: FutureWarning: The frame.append method is deprecated and will be removed from pandas in a future version. Use pandas.concat instead.\n",
      "  df_aggregated=df_aggregated.append(df)\n"
     ]
    },
    {
     "name": "stdout",
     "output_type": "stream",
     "text": [
      "name: 12\n",
      "['Chateau Marzy, Pomerol', 'Domaine des Bosquets `La Font des Bosquets` Gigondas', '\"La Côte Sauvage\" Cairanne', \"Kuehn Riesling D'Alsace\", 'Domaine Wiehlé Riesling Grand Cru Sporen', 'Domaine Henry Pellé Menetou-Salon Morogues', '2010 Château Beychevelle, 4ème Cru Classé, Saint-Julien', 'Domaine De La Soucherie \"Clos Des Perrieres-Savennières\"', 'Château De Coulaine Chinon Rouge', 'Domaine Laporte Sancerre Rouge, \"Les Grandmontains\" Bio', '2015 Château Lynch Bages, 5ème Cru Classé, Pauillac', '2013 Chateau Pavie, Saint Emilion Grand Cru']\n",
      "url_product: 12\n",
      "['https://www.i-d-s.com/dubai/chateau-marzy-pomerol-fr1234.html', 'https://www.i-d-s.com/dubai/domaine-des-bosquets-la-font-des-bosquets-gigondas-fr2031.html', 'https://www.i-d-s.com/dubai/la-c-te-sauvage-cairanne-fr1239.html', 'https://www.i-d-s.com/dubai/kuehn-riesling-d-alsace-fr4003.html', 'https://www.i-d-s.com/dubai/domaine-wiehl-riesling-grand-cru-sporen-fr4007.html', 'https://www.i-d-s.com/dubai/domaine-henry-pell-menetou-salon-morogues-fr4023.html', 'https://www.i-d-s.com/dubai/2010-ch-teau-beychevelle-4-me-cru-class-saint-julien-fw1012.html', 'https://www.i-d-s.com/dubai/domaine-de-la-soucherie-clos-des-perrieres-savenni-res-fr4030.html', 'https://www.i-d-s.com/dubai/ch-teau-de-coulaine-chinon-rouge-fr4037.html', 'https://www.i-d-s.com/dubai/domaine-laporte-sancerre-rouge-les-grandmontains-bio-fr4042.html', 'https://www.i-d-s.com/dubai/2015-ch-teau-lynch-bages-5-me-cru-class-pauillac-fw1018.html', 'https://www.i-d-s.com/dubai/2013-chateau-pavie-saint-emilion-grand-cru-fw1042.html']\n",
      "prices: 12\n",
      "reduced prices: 12\n",
      "['46.20', '26.40', '17.60', '6.00', '15.00', '27.85', '2,915.50', '19.55', '21.65', '28.25', '2,472.75', '2,394.25']\n",
      "https://www.i-d-s.com/dubai/wine/wines-by-country/france.html?p=11\n"
     ]
    },
    {
     "name": "stderr",
     "output_type": "stream",
     "text": [
      "/var/folders/9z/sjrbpv9j1996t3_4wv3ry65c0000gn/T/ipykernel_98632/3146571461.py:83: FutureWarning: The frame.append method is deprecated and will be removed from pandas in a future version. Use pandas.concat instead.\n",
      "  df_aggregated=df_aggregated.append(df)\n"
     ]
    },
    {
     "name": "stdout",
     "output_type": "stream",
     "text": [
      "name: 12\n",
      "['Château Des Eyssards, Bergerac Rosé', 'Château Des Eyssards, Bergerac Rouge Cuvée Prestige', '2015 Château Kirwan, 3ème Cru Classé, Margaux', '2015 Château Corbin, St Emilion', '2010 Château Rauzan Ségla, 2ème Cru Classé, Margaux', 'Château Laffitte Teston Reflet Du Terroir', 'Château La Piecelle Bordeaux Superieur', 'Château Les Aublines, Blaye, Côtes De Bordeaux', 'Château Chasse-Spleen, Bordeaux Blanc', 'Château Poujeaux, Moulis Cru Bourgeois Exceptionnel', 'Château Haut-Mayne \"Réserve De La Famille\", Graves Blanc', 'Château Lamothe-Bouscaut Blanc, Pessac-Léognan']\n",
      "url_product: 12\n",
      "['https://www.i-d-s.com/dubai/ch-teau-des-eyssards-bergerac-ros-fr4046.html', 'https://www.i-d-s.com/dubai/ch-teau-des-eyssards-bergerac-rouge-cuv-e-prestige-fr4048.html', 'https://www.i-d-s.com/dubai/2015-ch-teau-kirwan-3-me-cru-class-margaux-fw1030.html', 'https://www.i-d-s.com/dubai/2015-ch-teau-corbin-st-emilion-fw1152.html', 'https://www.i-d-s.com/dubai/2010-ch-teau-rauzan-s-gla-2-me-cru-class-margaux-fw1007.html', 'https://www.i-d-s.com/dubai/ch-teau-laffitte-teston-reflet-du-terroir-fr4059.html', 'https://www.i-d-s.com/dubai/ch-teau-la-piecelle-bordeaux-superieur-fr4078.html', 'https://www.i-d-s.com/dubai/ch-teau-les-aublines-blaye-c-tes-de-bordeaux-fr4082.html', 'https://www.i-d-s.com/dubai/ch-teau-chasse-spleen-bordeaux-blanc-fr4084.html', 'https://www.i-d-s.com/dubai/ch-teau-poujeaux-moulis-cru-bourgeois-exceptionnel-fr4087.html', 'https://www.i-d-s.com/dubai/ch-teau-haut-mayne-r-serve-de-la-famille-graves-blanc-fr4089.html', 'https://www.i-d-s.com/dubai/ch-teau-lamothe-bouscaut-blanc-pessac-l-ognan-fr4093.html']\n",
      "prices: 12\n",
      "reduced prices: 12\n",
      "['4.40', '6.65', '1,030.75', '505.40', '2,941.60', '9.15', '6.55', '5.25', '18.20', '22.15', '7.80', '16.90']\n",
      "https://www.i-d-s.com/dubai/wine/wines-by-country/france.html?p=12\n"
     ]
    },
    {
     "name": "stderr",
     "output_type": "stream",
     "text": [
      "/var/folders/9z/sjrbpv9j1996t3_4wv3ry65c0000gn/T/ipykernel_98632/3146571461.py:83: FutureWarning: The frame.append method is deprecated and will be removed from pandas in a future version. Use pandas.concat instead.\n",
      "  df_aggregated=df_aggregated.append(df)\n"
     ]
    },
    {
     "name": "stdout",
     "output_type": "stream",
     "text": [
      "name: 12\n",
      "['Château Bouscaut Blanc, Pessac-Léognan Grand Cru Classé', 'Château Lamothe-Bouscaut, Pessac-Léognan Rouge', 'Château Bouscaut Rouge, Pessac-Léognan Grand Cru Classé', 'Château Fleur Lartigue, Saint Emilion Grand Cru Magnum (1.5L)', 'Château La Grave Pomerol', 'Château Franc-Maillet, Pomerol', \"Blason De L'Évangile, Pomerol\", \"Château L'Évangile, Pomerol\", 'Château Maucamps, Haut-Médoc Cru Bourgeois Supérieur', 'Clos De May, Haut-Médoc Magnum (1.5L)', 'Château Sociando-Mallet, Haut-Médoc', 'Château Petit Bocq, Saint-Estèphe Cru Bourgeois Supérieur']\n",
      "url_product: 12\n",
      "['https://www.i-d-s.com/dubai/ch-teau-bouscaut-blanc-pessac-l-ognan-grand-cru-class-fr4094.html', 'https://www.i-d-s.com/dubai/ch-teau-lamothe-bouscaut-pessac-l-ognan-rouge-fr4097.html', 'https://www.i-d-s.com/dubai/ch-teau-bouscaut-rouge-pessac-l-ognan-grand-cru-class-fr4098.html', 'https://www.i-d-s.com/dubai/ch-teau-fleur-lartigue-saint-emilion-grand-cru-magnum-1-5l-fr4115.html', 'https://www.i-d-s.com/dubai/ch-teau-la-grave-pomerol-fr4122.html', 'https://www.i-d-s.com/dubai/ch-teau-franc-maillet-pomerol-fr4123.html', 'https://www.i-d-s.com/dubai/blason-de-l-vangile-pomerol-fr4124.html', 'https://www.i-d-s.com/dubai/ch-teau-l-vangile-pomerol-fr4125.html', 'https://www.i-d-s.com/dubai/ch-teau-maucamps-haut-m-doc-cru-bourgeois-sup-rieur-fr4134.html', 'https://www.i-d-s.com/dubai/clos-de-may-haut-m-doc-magnum-1-5l-fr4135.html', 'https://www.i-d-s.com/dubai/ch-teau-sociando-mallet-haut-m-doc-fr4137.html', 'https://www.i-d-s.com/dubai/ch-teau-petit-bocq-saint-est-phe-cru-bourgeois-sup-rieur-fr4140.html']\n",
      "prices: 12\n",
      "reduced prices: 12\n",
      "['30.65', '16.15', '22.70', '23.50', '25.85', '42.10', '35.60', '235.70', '16.00', '18.50', '29.15', '28.00']\n",
      "https://www.i-d-s.com/dubai/wine/wines-by-country/france.html?p=13\n"
     ]
    },
    {
     "name": "stderr",
     "output_type": "stream",
     "text": [
      "/var/folders/9z/sjrbpv9j1996t3_4wv3ry65c0000gn/T/ipykernel_98632/3146571461.py:83: FutureWarning: The frame.append method is deprecated and will be removed from pandas in a future version. Use pandas.concat instead.\n",
      "  df_aggregated=df_aggregated.append(df)\n"
     ]
    },
    {
     "name": "stdout",
     "output_type": "stream",
     "text": [
      "name: 12\n",
      "['La Fleur De Haut-Bages Libéral, Pauillac', 'Château Teynac, Saint-Julien', 'Connetable De Talbot, Saint-Julien', 'Sarget De Gruaud Larose, Saint-Julien', 'Les Fiefs De Lagrange, Saint-Julien', 'Origine De Desmirail, Margaux (Denis Lurton)', 'Château La Gurgue, Margaux Cru Bourgeois Supérieur', 'Château Durfort-Vivens, Margaux Grand Cru Classé Biodynamie', \"Château L'Ermitage Cuvée Auzan Blanc\", 'Coudelier Original, Costières De Nîmes', \"Château L'Ermitage Cuvée Auzan Rouge\", 'Domaine La Marche Rully Blanc \"Les Plantenays\", Bio']\n",
      "url_product: 12\n",
      "['https://www.i-d-s.com/dubai/la-fleur-de-haut-bages-lib-ral-pauillac-fr4144.html', 'https://www.i-d-s.com/dubai/ch-teau-teynac-saint-julien-fr4148.html', 'https://www.i-d-s.com/dubai/connetable-de-talbot-saint-julien-fr4149.html', 'https://www.i-d-s.com/dubai/sarget-de-gruaud-larose-saint-julien-fr4150.html', 'https://www.i-d-s.com/dubai/les-fiefs-de-lagrange-saint-julien-fr4151.html', 'https://www.i-d-s.com/dubai/origine-de-desmirail-margaux-denis-lurton-fr4154.html', 'https://www.i-d-s.com/dubai/ch-teau-la-gurgue-margaux-cru-bourgeois-sup-rieur-fr4156.html', 'https://www.i-d-s.com/dubai/ch-teau-durfort-vivens-margaux-grand-cru-class-biodynamie-fr4158.html', 'https://www.i-d-s.com/dubai/ch-teau-l-ermitage-cuv-e-auzan-blanc-fr4160.html', 'https://www.i-d-s.com/dubai/coudelier-original-costi-res-de-n-mes-fr4161.html', 'https://www.i-d-s.com/dubai/ch-teau-l-ermitage-cuv-e-auzan-rouge-fr4162.html', 'https://www.i-d-s.com/dubai/domaine-la-marche-rully-blanc-les-plantenays-bio-fr4171.html']\n",
      "prices: 12\n",
      "reduced prices: 12\n",
      "['37.40', '34.50', '39.70', '37.95', '23.10', '17.85', '38.40', '80.40', '10.05', '5.10', '5.80', '15.40']\n",
      "https://www.i-d-s.com/dubai/wine/wines-by-country/france.html?p=14\n"
     ]
    },
    {
     "name": "stderr",
     "output_type": "stream",
     "text": [
      "/var/folders/9z/sjrbpv9j1996t3_4wv3ry65c0000gn/T/ipykernel_98632/3146571461.py:83: FutureWarning: The frame.append method is deprecated and will be removed from pandas in a future version. Use pandas.concat instead.\n",
      "  df_aggregated=df_aggregated.append(df)\n"
     ]
    },
    {
     "name": "stdout",
     "output_type": "stream",
     "text": [
      "name: 12\n",
      "['Remoissenet Père &amp; Fils Givry', 'Domaine Laroche Chablis St-Martin', 'Domaine Laroche, Chablis 1er Cru `Les Vaudevey`', 'Domanie Laroche, Chablis 1er Cru ‘Les Vaillons’ Vieilles Vignes', 'Jean-Marc Brocard Chablis Grand Cru \"Valmur\"', 'Jean-Marc Brocard Chablis Grand Cru \"Les Preuses\"', 'Domaine Laroche, Chablis Grand Cru `Les Clos`', 'Remoissenet Père &amp; Fils Saint-Romain', 'Albert Bichot Meursault', 'Remoissenet Père &amp; Fils Puligny Montrachet', 'Remoissenet Père &amp; Fils Savigny Les Beaune', 'Louis Jadot Saint Aubin']\n",
      "url_product: 12\n",
      "['https://www.i-d-s.com/dubai/remoissenet-p-re-fils-givry-fr4178.html', 'https://www.i-d-s.com/dubai/domaine-laroche-chablis-st-martin-fr4183.html', 'https://www.i-d-s.com/dubai/domaine-laroche-chablis-1er-cru-les-vaudevey-fr4186.html', 'https://www.i-d-s.com/dubai/domanie-laroche-chablis-1er-cru-les-vaillons-vieilles-vignes-fr4187.html', 'https://www.i-d-s.com/dubai/jean-marc-brocard-chablis-grand-cru-valmur-fr4188.html', 'https://www.i-d-s.com/dubai/jean-marc-brocard-chablis-grand-cru-les-preuses-fr4189.html', 'https://www.i-d-s.com/dubai/domaine-laroche-chablis-grand-cru-les-clos-fr4191.html', 'https://www.i-d-s.com/dubai/remoissenet-p-re-fils-saint-romain-fr4195.html', 'https://www.i-d-s.com/dubai/albert-bichot-meursault-fr4197.html', 'https://www.i-d-s.com/dubai/remoissenet-p-re-fils-puligny-montrachet-fr4203.html', 'https://www.i-d-s.com/dubai/remoissenet-p-re-fils-savigny-les-beaune-fr4206.html', 'https://www.i-d-s.com/dubai/louis-jadot-saint-aubin-fr4210.html']\n",
      "prices: 12\n",
      "reduced prices: 12\n",
      "['29.50', '24.65', '32.08', '46.60', '56.75', '67.75', '55.40', '33.80', '69.65', '73.70', '33.45', '53.70']\n",
      "https://www.i-d-s.com/dubai/wine/wines-by-country/france.html?p=15\n"
     ]
    },
    {
     "name": "stderr",
     "output_type": "stream",
     "text": [
      "/var/folders/9z/sjrbpv9j1996t3_4wv3ry65c0000gn/T/ipykernel_98632/3146571461.py:83: FutureWarning: The frame.append method is deprecated and will be removed from pandas in a future version. Use pandas.concat instead.\n",
      "  df_aggregated=df_aggregated.append(df)\n"
     ]
    },
    {
     "name": "stdout",
     "output_type": "stream",
     "text": [
      "name: 12\n",
      "['Ferraton Père &amp; Fils Crozes-Hermitage Blanc \"Matinière\"', 'Ferraton Père &amp; Fils Saint-Joseph Blanc \"La Source\"', 'Boutinot ‘Les Cerisiers’, Côtes Du Rhône Rosé', \"Boutinot Cairanne 'Les Six'\", 'Ferraton Père &amp; Fils Crozes-Hermitage Rouge \"Calendes\" Bio', 'Ferraton Père &amp; Fils Saint-Joseph Rouge \"La Source\"', \"Cave De Tain 'Les Arènes Sauvages'&nbsp;Cornas\", 'A. Ogier &amp; Fils Châteauneuf-Du-Pape Rouge \"Clos De L\\'Oratoire\"', 'Ferraton Père &amp; Fils Ermitage Rouge \"Les Méal\" Bio', 'Gérard Bertrand Languedoc Montpeyroux \"An 1070\" Ao', \"Démon De L'Évêque, Corbières Blanc\", 'Château Fabre Gasparets, Corbières-Boutenac [Organic]']\n",
      "url_product: 12\n",
      "['https://www.i-d-s.com/dubai/ferraton-p-re-fils-crozes-hermitage-blanc-matini-re-fr4236.html', 'https://www.i-d-s.com/dubai/ferraton-p-re-fils-saint-joseph-blanc-la-source-fr4237.html', 'https://www.i-d-s.com/dubai/boutinot-les-cerisiers-c-tes-du-rh-ne-ros-fr4241.html', 'https://www.i-d-s.com/dubai/boutinot-cairanne-les-six-fr4245.html', 'https://www.i-d-s.com/dubai/ferraton-p-re-fils-crozes-hermitage-rouge-calendes-bio-fr4248.html', 'https://www.i-d-s.com/dubai/ferraton-p-re-fils-saint-joseph-rouge-la-source-fr4249.html', 'https://www.i-d-s.com/dubai/cave-de-tain-les-ar-nes-sauvages-cornas-fr4253.html', 'https://www.i-d-s.com/dubai/a-ogier-fils-ch-teauneuf-du-pape-rouge-clos-de-l-oratoire-fr4254.html', 'https://www.i-d-s.com/dubai/ferraton-p-re-fils-ermitage-rouge-les-m-al-bio-fr4256.html', 'https://www.i-d-s.com/dubai/g-rard-bertrand-languedoc-montpeyroux-an-1070-ao-fr4279.html', 'https://www.i-d-s.com/dubai/d-mon-de-l-v-que-corbi-res-blanc-fr4284.html', 'https://www.i-d-s.com/dubai/ch-teau-fabre-gasparets-corbi-res-boutenac-organic-fr4286.html']\n",
      "prices: 12\n",
      "reduced prices: 12\n",
      "['12.00', '14.30', '5.40', '14.80', '12.55', '14.55', '32.61', '27.85', '59.85', '7.80', '7.75', '16.40']\n",
      "https://www.i-d-s.com/dubai/wine/wines-by-country/france.html?p=16\n"
     ]
    },
    {
     "name": "stderr",
     "output_type": "stream",
     "text": [
      "/var/folders/9z/sjrbpv9j1996t3_4wv3ry65c0000gn/T/ipykernel_98632/3146571461.py:83: FutureWarning: The frame.append method is deprecated and will be removed from pandas in a future version. Use pandas.concat instead.\n",
      "  df_aggregated=df_aggregated.append(df)\n"
     ]
    },
    {
     "name": "stdout",
     "output_type": "stream",
     "text": [
      "name: 12\n",
      "['Château Bel Evêque, Corbières', 'Domaine De Villemajou, Corbières Boutenac', 'Château Bel Evêque \"Cuvée Cardinal\", Corbières', \"Château D'Esclans, The Palm By Whispering Angel\", 'Château Minuty \"Cuvee D\\'Or\" Côtes De Provence Aoc', '\"M\" De Minuty Magnum (1.5L)', \"Château Tirecul, 'Ulma' Blanc, Vin De France\", 'Domaine Wiehlé Gewurztraminer Grand Cru Sporen', 'Château Enclos Haut-Mazeyres', 'Les Boriettes Merlot', 'Château Moulin De Carsac By Christophe Gualco', 'Domaine Durieu, Ventoux']\n",
      "url_product: 12\n",
      "['https://www.i-d-s.com/dubai/ch-teau-bel-ev-que-corbi-res-fr4287.html', 'https://www.i-d-s.com/dubai/domaine-de-villemajou-corbi-res-boutenac-fr4288.html', 'https://www.i-d-s.com/dubai/ch-teau-bel-ev-que-cuv-e-cardinal-corbi-res-fr4290.html', 'https://www.i-d-s.com/dubai/ch-teau-d-esclans-the-palm-by-whispering-angel-fr4314.html', 'https://www.i-d-s.com/dubai/ch-teau-minuty-cuvee-d-or-c-tes-de-provence-aoc-fr4316.html', 'https://www.i-d-s.com/dubai/m-de-minuty-magnum-1-5l-fr4318.html', 'https://www.i-d-s.com/dubai/ch-teau-tirecul-ulma-blanc-vin-de-france-fr4322.html', 'https://www.i-d-s.com/dubai/domaine-wiehl-gewurztraminer-grand-cru-sporen-fr4329.html', 'https://www.i-d-s.com/dubai/ch-teau-enclos-haut-mazeyres-fr4330.html', 'https://www.i-d-s.com/dubai/les-boriettes-merlot-fr4333.html', 'https://www.i-d-s.com/dubai/ch-teau-moulin-de-carsac-by-christophe-gualco-fr4334.html', 'https://www.i-d-s.com/dubai/domaine-durieu-ventoux-fr4340.html']\n",
      "prices: 12\n",
      "reduced prices: 12\n",
      "['11.05', '11.90', '14.40', '18.85', '26.00', '31.75', '8.55', '15.00', '26.64', '3.80', '4.95', '7.80']\n",
      "https://www.i-d-s.com/dubai/wine/wines-by-country/france.html?p=17\n"
     ]
    },
    {
     "name": "stderr",
     "output_type": "stream",
     "text": [
      "/var/folders/9z/sjrbpv9j1996t3_4wv3ry65c0000gn/T/ipykernel_98632/3146571461.py:83: FutureWarning: The frame.append method is deprecated and will be removed from pandas in a future version. Use pandas.concat instead.\n",
      "  df_aggregated=df_aggregated.append(df)\n"
     ]
    },
    {
     "name": "stdout",
     "output_type": "stream",
     "text": [
      "name: 12\n",
      "['Domaine Wiehlé Vieilles Vignes Riesling', 'Louis Jadot Nuits-St-Georges', 'Chateau La Gordonne Verite Du Terroir Rouge', 'Château De Plaisance Coteaux De Layon 1Er Cru Chaume', 'Chateau Feret Lambert Bordeaux Superieur, Magnum (1.5L)', 'Beau Joie Brut Champagne ', 'Paul Jaboulet Aine “Les Jalets” Crozes Hermitage “Blanc”', \"Domaine de Gagnebert Les Chailloux, Cabernet d'Anjou\", \"Les Alexandrins Cotes du Rhone Blanc 'Terrasses de L'Eridan'\", 'Macon Rouge Maison Antoine Geoffroy', '2008 Château Calon Segur, 3ème Cru Classé, Saint-Estèphe', '2016 Chateau Léoville Barton, Saint -Julien']\n",
      "url_product: 12\n",
      "['https://www.i-d-s.com/dubai/domaine-wiehl-vieilles-vignes-riesling-fr4402.html', 'https://www.i-d-s.com/dubai/louis-jadot-nuits-st-georges-fr4410.html', 'https://www.i-d-s.com/dubai/chateau-la-gordonne-verite-du-terroir-rouge-fr4331.html', 'https://www.i-d-s.com/dubai/ch-teau-de-plaisance-coteaux-de-layon-1er-cru-chaume-fr4021.html', 'https://www.i-d-s.com/dubai/chateau-feret-lambert-bordeaux-superieur-magnum-1-5l-fr1182.html', 'https://www.i-d-s.com/dubai/beau-joie-brut-champagne-cp1028.html', 'https://www.i-d-s.com/dubai/paul-jaboulet-aine-les-jalets-crozes-hermitage-blanc-fr1159.html', 'https://www.i-d-s.com/dubai/domaine-de-gagnebert-les-chailloux-cabernet-d-anjou-fr1155.html', 'https://www.i-d-s.com/dubai/les-alexandrins-cotes-du-rhone-blanc-terrasses-de-l-eridan-fr1167.html', 'https://www.i-d-s.com/dubai/macon-rouge-maison-antoine-geoffroy-fr1187.html', 'https://www.i-d-s.com/dubai/2008-ch-teau-calon-segur-3-me-cru-class-saint-est-phe-fw1066.html', 'https://www.i-d-s.com/dubai/2016-chateau-l-oville-barton-saint-julien-fw1124.html']\n",
      "prices: 12\n",
      "reduced prices: 12\n",
      "['8.80', '54.10', '9.20', '19.45', '22.58', '78.85', '34.55', '6.10', '17.65', '22.85', '2,607.50', '2,254.00']\n",
      "https://www.i-d-s.com/dubai/wine/wines-by-country/france.html?p=18\n"
     ]
    },
    {
     "name": "stderr",
     "output_type": "stream",
     "text": [
      "/var/folders/9z/sjrbpv9j1996t3_4wv3ry65c0000gn/T/ipykernel_98632/3146571461.py:83: FutureWarning: The frame.append method is deprecated and will be removed from pandas in a future version. Use pandas.concat instead.\n",
      "  df_aggregated=df_aggregated.append(df)\n"
     ]
    },
    {
     "name": "stdout",
     "output_type": "stream",
     "text": [
      "name: 12\n",
      "['Louis Jadot Côte de Nuits Villages \"Le Vaucrain\"', 'Chateau Fleur La Mothe, Medoc Cru Bourgeois', 'Clos Magne Figeac, Saint Emilion', 'Pauillac de Haut-Batailley, Pauillac', 'Domaine Millet Sancerre Blanc', 'Chateau Feret Lambert Bordeaux Superieur', 'Chateau Turcaud, Entre deux Mers Blanc AOC', 'Domaine JM Lafont Brouilly “Les Roches”', 'Moët &amp; Chandon Brut Impérial Rosé', 'Veuve Cliquot Rich', 'Gremillet Sélection Brut', 'Taittinger Brut Réserve']\n",
      "url_product: 12\n",
      "['https://www.i-d-s.com/dubai/louis-jadot-c-te-de-nuits-villages-le-vaucrain-fr1143.html', 'https://www.i-d-s.com/dubai/chateau-fleur-la-mothe-medoc-cru-bourgeois-fr1161.html', 'https://www.i-d-s.com/dubai/clos-magne-figeac-saint-emilion-fr1163.html', 'https://www.i-d-s.com/dubai/pauillac-de-haut-batailley-pauillac-fr1164.html', 'https://www.i-d-s.com/dubai/catalog/product/view/id/12598/s/domaine-millet-sancerre-blanc-fr1166/category/483/', 'https://www.i-d-s.com/dubai/chateau-feret-lambert-bordeaux-superieur-fr1181.html', 'https://www.i-d-s.com/dubai/chateau-turcaud-entre-deux-mers-blanc-aoc-fr1222.html', 'https://www.i-d-s.com/dubai/domaine-de-bel-air-brouilly-fr1152.html', 'https://www.i-d-s.com/dubai/mo-t-chandon-brut-imp-rial-ros-cp1012.html', 'https://www.i-d-s.com/dubai/veuve-cliquot-rich-cp2023.html', 'https://www.i-d-s.com/dubai/gremillet-s-lection-brut-cp1006.html', 'https://www.i-d-s.com/dubai/taittinger-brut-r-serve-cp1010.html']\n",
      "prices: 12\n",
      "reduced prices: 12\n",
      "['20.65', '29.65', '21.85', '54.50', '27.30', '13.95', '14.00', '25.00', '69.90', '76.70', '38.00', '62.20']\n",
      "https://www.i-d-s.com/dubai/wine/wines-by-country/france.html?p=19\n"
     ]
    },
    {
     "name": "stderr",
     "output_type": "stream",
     "text": [
      "/var/folders/9z/sjrbpv9j1996t3_4wv3ry65c0000gn/T/ipykernel_98632/3146571461.py:83: FutureWarning: The frame.append method is deprecated and will be removed from pandas in a future version. Use pandas.concat instead.\n",
      "  df_aggregated=df_aggregated.append(df)\n"
     ]
    },
    {
     "name": "stdout",
     "output_type": "stream",
     "text": [
      "name: 12\n",
      "['Veuve Cliquot Rich Rosé', 'Veuve Clicquot Vintage Rosé', 'Domaine Heimbourger Les Terres Blanches, Chablis', 'Louis Roederer Brut Premier', 'Taittinger Cuvée Prestige Rosé', 'Laurent-Perrier Rosé', 'Krug Grande Cuvee Brut', 'Domaine Wiehlé Engelreben Riesling', 'Ruinart Rosé', 'Veuve Clicquot Rosé', 'Champagne Gosset Reserve Brut', 'Jacquart Rosé Mosaic, With Gift Box']\n",
      "url_product: 12\n",
      "['https://www.i-d-s.com/dubai/veuve-cliquot-rich-ros-cp2027.html', 'https://www.i-d-s.com/dubai/veuve-clicquot-vintage-rose-cp2029.html', 'https://www.i-d-s.com/dubai/domaine-heimbourger-les-terres-blanches-chablis-fr1148.html', 'https://www.i-d-s.com/dubai/louis-roederer-brut-premier-cp2042.html', 'https://www.i-d-s.com/dubai/taittinger-cuv-e-prestige-ros-cp2050.html', 'https://www.i-d-s.com/dubai/laurent-perrier-ros-cp1002.html', 'https://www.i-d-s.com/dubai/krug-grande-cuvee-brut-cp1061.html', 'https://www.i-d-s.com/dubai/domaine-wiehl-engelreben-riesling-fr1217.html', 'https://www.i-d-s.com/dubai/ruinart-rose-cp1062.html', 'https://www.i-d-s.com/dubai/veuve-clicquot-ros-cp1017.html', 'https://www.i-d-s.com/dubai/champagne-gosset-reserve-brut-cp4011.html', 'https://www.i-d-s.com/dubai/jacquart-ros-mosaic-with-gift-box-cp4003.html']\n",
      "prices: 12\n",
      "reduced prices: 12\n",
      "['82.75', '97.90', '27.15', '70.10', '105.75', '118.60', '268.20', '19.20', '90.80', '89.80', '30.65', '23.85']\n",
      "https://www.i-d-s.com/dubai/wine/wines-by-country/france.html?p=20\n"
     ]
    },
    {
     "name": "stderr",
     "output_type": "stream",
     "text": [
      "/var/folders/9z/sjrbpv9j1996t3_4wv3ry65c0000gn/T/ipykernel_98632/3146571461.py:83: FutureWarning: The frame.append method is deprecated and will be removed from pandas in a future version. Use pandas.concat instead.\n",
      "  df_aggregated=df_aggregated.append(df)\n"
     ]
    },
    {
     "name": "stdout",
     "output_type": "stream",
     "text": [
      "name: 12\n",
      "['Moët &amp; Chandon Brut Impérial Magnum (1.5L)', 'Bollinger La Grande Année, With Gift Box', 'Bollinger Rosé, With Gift Box', 'Laurent-Perrier Brut', 'Chateau Bellegrave Les Charmes, Pauillac', 'Chateau Lassalle Le Bergey, Graves', 'Chateau Lassalle Le Pigeonnier Graves Bordeaux', 'Chateau de Mazerolle La Gravelière Peyronne, Graves', 'Chateau Mancèdre Le Trettin, Pessac Leognan', 'Château Vitallis Saint-Véran', 'Domaine Heimbourger Les Terres Blanches, Chardonnay', 'Chateau Cailleteau-Bergeron Hauts de Bergeron, Blaye Cotes de Bordeaux Blanc']\n",
      "url_product: 12\n",
      "['https://www.i-d-s.com/dubai/mo-t-chandon-brut-imp-rial-magnum-cp1013.html', 'https://www.i-d-s.com/dubai/bollinger-la-grande-ann-e-with-gift-box-cp4001.html', 'https://www.i-d-s.com/dubai/bollinger-ros-with-gift-box-cp4000.html', 'https://www.i-d-s.com/dubai/laurent-perrier-brut-cp1001.html', 'https://www.i-d-s.com/dubai/chateau-bellegrave-les-charmes-pauillac-fr1236.html', 'https://www.i-d-s.com/dubai/chateau-lassalle-le-bergey-graves-fr1176.html', 'https://www.i-d-s.com/dubai/chateau-lassalle-le-pigeonnier-graves-bordeaux-fr1177.html', 'https://www.i-d-s.com/dubai/chateau-de-mazerolle-la-graveli-re-peyronne-graves-fr1237.html', 'https://www.i-d-s.com/dubai/chateau-manc-dre-le-trettin-pessac-leognan-fr1238.html', 'https://www.i-d-s.com/dubai/ch-teau-vitallis-saint-v-ran-fr1147.html', 'https://www.i-d-s.com/dubai/domaine-heimbourger-les-terres-blanches-chardonnay-fr1149.html', 'https://www.i-d-s.com/dubai/chateau-cailleteau-bergeron-hauts-de-bergeron-blaye-cotes-de-bordeaux-blanc-fr2591.html']\n",
      "prices: 12\n",
      "reduced prices: 12\n",
      "['138.50', '143.50', '82.45', '63.80', '37.55', '15.75', '16.70', '16.80', '20.84', '19.35', '20.55', '15.35']\n",
      "https://www.i-d-s.com/dubai/wine/wines-by-country/france.html?p=21\n"
     ]
    },
    {
     "name": "stderr",
     "output_type": "stream",
     "text": [
      "/var/folders/9z/sjrbpv9j1996t3_4wv3ry65c0000gn/T/ipykernel_98632/3146571461.py:83: FutureWarning: The frame.append method is deprecated and will be removed from pandas in a future version. Use pandas.concat instead.\n",
      "  df_aggregated=df_aggregated.append(df)\n"
     ]
    },
    {
     "name": "stdout",
     "output_type": "stream",
     "text": [
      "name: 12\n",
      "['Chateau Lalande de Pez, Saint-Estèphe', 'Domaine Coulange Cuvée Bergoïata, Cotes du Rhone', 'Chateau Laborde, Lalande de Pomerol', 'Domaine Faury, Condrieu', 'Gervais Gobillard Prestige Blanc, Champagne', 'Bollinger Special Cuvée Brut, in individual Gift Box', 'Fernand &amp; Laurent Pillot Chassagne Montrachet 1er Cru \"Vide Bourse\"', 'Cave De Tain Crozes-Hermitage \"Sans Sulphites\" Exploration', 'La Chablisienne Chablis Grand Cru, Chateau Grenouille', 'Veuve Clicquot Vintage Réserve Blanc', 'Bellefontaine Sauvignon Blanc', 'Domaine Wiehlé Seidenfaden Gewurztraminer']\n",
      "url_product: 12\n",
      "['https://www.i-d-s.com/dubai/chateau-lalande-de-pez-saint-est-phe-fr2593.html', 'https://www.i-d-s.com/dubai/domaine-coulange-cuv-e-bergo-ata-cotes-du-rhone-fr1169.html', 'https://www.i-d-s.com/dubai/chateau-laborde-lalande-de-pomerol-fr1235.html', 'https://www.i-d-s.com/dubai/domaine-faury-condrieu-fr1156.html', 'https://www.i-d-s.com/dubai/gervais-gobillard-prestige-blanc-champagne-cp1050.html', 'https://www.i-d-s.com/dubai/bollinger-special-cuv-e-brut-in-individual-gift-box-cp1000.html', 'https://www.i-d-s.com/dubai/fernand-laurent-pillot-chassagne-montrachet-1er-cru-vide-bourse-fr1215.html', 'https://www.i-d-s.com/dubai/cave-de-tain-crozes-hermitage-sans-sulphites-exploration-fr1219.html', 'https://www.i-d-s.com/dubai/la-chablisienne-chablis-grand-cru-chateau-grenouille-fr1223.html', 'https://www.i-d-s.com/dubai/veuve-clicquot-vintage-r-serve-blanc-cp1018.html', 'https://www.i-d-s.com/dubai/bellefontaine-sauvignon-blanc-fr1003.html', 'https://www.i-d-s.com/dubai/domaine-wiehl-seidenfaden-gewurztraminer-fr1218.html']\n",
      "prices: 12\n",
      "reduced prices: 12\n",
      "['24.80', '11.95', '31.00', '34.67', '60.50', '96.25', '63.35', '24.80', '96.85', '90.85', '7.05', '21.90']\n",
      "https://www.i-d-s.com/dubai/wine/wines-by-country/france.html?p=22\n"
     ]
    },
    {
     "name": "stderr",
     "output_type": "stream",
     "text": [
      "/var/folders/9z/sjrbpv9j1996t3_4wv3ry65c0000gn/T/ipykernel_98632/3146571461.py:83: FutureWarning: The frame.append method is deprecated and will be removed from pandas in a future version. Use pandas.concat instead.\n",
      "  df_aggregated=df_aggregated.append(df)\n"
     ]
    },
    {
     "name": "stdout",
     "output_type": "stream",
     "text": [
      "name: 12\n",
      "['Baron Philippe de Rothschild Sauvignon Blanc', 'Baron Philippe de Rothschild Chardonnay', 'Baron Philippe de Rothschild Viognier', 'L’Ormarine Duc de Morny Picpoul de Pinet', 'Dom Pérignon Vintage, in individual Gift Box', 'Bellefontaine Grenache Rosé', 'M de Minuty Rosé', 'Whispering Angel Rosé', \"Chateau Canon Saint-Michel (Organic) L'Authentique, Canon Fronsac\", 'Domaine Ott Rosé, Château Romassan', 'Château Minuty \"281\" Rosé', 'Bellefontaine Merlot']\n",
      "url_product: 12\n",
      "['https://www.i-d-s.com/dubai/baron-philippe-de-rothschild-sauvignon-blanc-fr1005.html', 'https://www.i-d-s.com/dubai/baron-philippe-de-rothschild-chardonnay-fr1006.html', 'https://www.i-d-s.com/dubai/baron-philippe-de-rothschild-viognier-fr1007.html', 'https://www.i-d-s.com/dubai/l-ormarine-duc-de-morny-picpoul-de-pinet-fr1008.html', 'https://www.i-d-s.com/dubai/dom-p-rignon-vintage-in-individual-gift-box-cp1014.html', 'https://www.i-d-s.com/dubai/bellefontaine-grenache-ros-fr1010.html', 'https://www.i-d-s.com/dubai/m-de-minuty-ros-fr1014.html', 'https://www.i-d-s.com/dubai/whispering-angel-ros-fr1016.html', 'https://www.i-d-s.com/dubai/chateau-canon-saint-michel-organic-l-authentique-canon-fronsac-fr1232.html', 'https://www.i-d-s.com/dubai/domaine-ott-ros-ch-teau-romassan-fr1017.html', 'https://www.i-d-s.com/dubai/ch-teau-minuty-281-ros-fr1018.html', 'https://www.i-d-s.com/dubai/bellefontaine-merlot-fr1020.html']\n",
      "prices: 12\n",
      "reduced prices: 12\n",
      "['7.80', '9.85', '7.80', '10.55', '295.95', '7.05', '25.05', '30.50', '26.85', '77.70', '99.60', '6.80']\n",
      "https://www.i-d-s.com/dubai/wine/wines-by-country/france.html?p=23\n"
     ]
    },
    {
     "name": "stderr",
     "output_type": "stream",
     "text": [
      "/var/folders/9z/sjrbpv9j1996t3_4wv3ry65c0000gn/T/ipykernel_98632/3146571461.py:83: FutureWarning: The frame.append method is deprecated and will be removed from pandas in a future version. Use pandas.concat instead.\n",
      "  df_aggregated=df_aggregated.append(df)\n"
     ]
    },
    {
     "name": "stdout",
     "output_type": "stream",
     "text": [
      "name: 12\n",
      "['Bellefontaine Malbec', 'Chateau Gravet Renaissance, Grand Cru Saint-Emilion', 'Baron Philippe de Rothschild Merlot', 'Chateau Pradeau-Mazeau Cuvée Prestige, Bordeaux Blanc', 'Baron Philippe de Rothschild Cabernet Sauvignon', 'Baron Philippe de Rothschild Syrah', 'Baron Philippe de Rothschild Pinot Noir', 'Chateau Pineraie Tradition Malbec, Cahors', 'Cave de Turckheim Gewurztraminer', 'Cave de Turckheim Riesling Vieilles Vignes', 'Cave deTurckheim Grand Cru Riesling', \"Baron Philippe de Rothschild' Mouton Cadet Blanc\"]\n",
      "url_product: 12\n",
      "['https://www.i-d-s.com/dubai/bellefontaine-malbec-fr1021.html', 'https://www.i-d-s.com/dubai/chateau-gravet-renaissance-grand-cru-saint-emilion-fr1229.html', 'https://www.i-d-s.com/dubai/baron-philippe-de-rothschild-merlot-fr1023.html', 'https://www.i-d-s.com/dubai/chateau-pradeau-mazeau-cuv-e-prestige-bordeaux-blanc-fr2590.html', 'https://www.i-d-s.com/dubai/baron-philippe-de-rothschild-cabernet-sauvignon-fr1024.html', 'https://www.i-d-s.com/dubai/baron-philippe-de-rothschild-syrah-fr1025.html', 'https://www.i-d-s.com/dubai/baron-philippe-de-rothschild-pinot-noir-fr1026.html', 'https://www.i-d-s.com/dubai/ch-teau-pineraie-cahors-malbec-fr1027.html', 'https://www.i-d-s.com/dubai/cave-de-turckheim-gewurztraminer-fr1028.html', 'https://www.i-d-s.com/dubai/cave-de-turckheim-riesling-vieilles-vignes-fr1029.html', 'https://www.i-d-s.com/dubai/cave-deturckheim-grand-cru-riesling-fr1032.html', 'https://www.i-d-s.com/dubai/baron-philippe-de-rothschild-mouton-cadet-blanc-fr1033.html']\n",
      "prices: 12\n",
      "reduced prices: 12\n",
      "['7.05', '31.60', '8.15', '13.35', '8.15', '7.80', '8.15', '12.75', '14.50', '15.60', '24.90', '11.90']\n",
      "https://www.i-d-s.com/dubai/wine/wines-by-country/france.html?p=24\n"
     ]
    },
    {
     "name": "stderr",
     "output_type": "stream",
     "text": [
      "/var/folders/9z/sjrbpv9j1996t3_4wv3ry65c0000gn/T/ipykernel_98632/3146571461.py:83: FutureWarning: The frame.append method is deprecated and will be removed from pandas in a future version. Use pandas.concat instead.\n",
      "  df_aggregated=df_aggregated.append(df)\n"
     ]
    },
    {
     "name": "stdout",
     "output_type": "stream",
     "text": [
      "name: 12\n",
      "['Baron Philippe de Rothschild, Mouton Cadet Reserve Graves Blanc', 'Château Bel Air Bordeaux Superieur', 'Schröder and Schÿler Chartron La Fleur Rouge', 'Chateau Lange Réglat', 'Gervais Gobillard Brut, Champagne', 'Château Buisson Redon', 'Château de Fontenille, Bordeaux Rouge', 'Baron Philippe de Rothschild Mouton Cadet Rouge', 'Château de Haux Rouge, Premières Côtes de Bordeaux', 'Baron Philippe de Rothschild, Mouton Cadet Heritage Rouge', 'Schröder and Schÿler Private Réserve Medoc', 'Château Roc de Ségur']\n",
      "url_product: 12\n",
      "['https://www.i-d-s.com/dubai/baron-philippe-de-rothschild-mouton-cadet-reserve-graves-blanc-fr1034.html', 'https://www.i-d-s.com/dubai/ch-teau-bel-air-bordeaux-superieur-fr1036.html', 'https://www.i-d-s.com/dubai/schr-der-and-sch-ler-chartron-la-fleur-rouge-fr1037.html', 'https://www.i-d-s.com/dubai/chateau-lange-r-glat-dw1010.html', 'https://www.i-d-s.com/dubai/gervais-gobillard-brut-champagne-cp1025.html', 'https://www.i-d-s.com/dubai/ch-teau-buisson-redon-fr1038.html', 'https://www.i-d-s.com/dubai/ch-teau-de-fontenille-bordeaux-rouge-fr1039.html', 'https://www.i-d-s.com/dubai/baron-philippe-de-rothschild-mouton-cadet-rouge-fr1040.html', 'https://www.i-d-s.com/dubai/ch-teau-de-haux-rouge-premi-res-c-tes-de-bordeaux-fr1041.html', 'https://www.i-d-s.com/dubai/baron-philippe-de-rothschild-mouton-cadet-heritage-rouge-fr1042.html', 'https://www.i-d-s.com/dubai/schr-der-and-sch-ler-private-r-serve-medoc-fr1043.html', 'https://www.i-d-s.com/dubai/ch-teau-roc-de-s-gur-fr1044.html']\n",
      "prices: 12\n",
      "reduced prices: 12\n",
      "['19.00', '8.10', '8.05', '25.30', '168.73', '10.30', '16.00', '12.85', '13.10', '14.35', '10.70', '13.40']\n",
      "https://www.i-d-s.com/dubai/wine/wines-by-country/france.html?p=25\n"
     ]
    },
    {
     "name": "stderr",
     "output_type": "stream",
     "text": [
      "/var/folders/9z/sjrbpv9j1996t3_4wv3ry65c0000gn/T/ipykernel_98632/3146571461.py:83: FutureWarning: The frame.append method is deprecated and will be removed from pandas in a future version. Use pandas.concat instead.\n",
      "  df_aggregated=df_aggregated.append(df)\n"
     ]
    },
    {
     "name": "stdout",
     "output_type": "stream",
     "text": [
      "name: 12\n",
      "['Gervais Gobillard Prestige, Champagne Rosé', 'Baron Philippe de Rothschild, Reserve Mouton Cadet Medoc', 'Château Amour', 'Chateau de Hauterive Chemin de Compostelle Hauts de Vire, Cahors', 'Château Macquin, Saint-Georges-Saint-Émilion, Bordeaux', \"Chateau Durfort-Vivens,'Vivens', Margaux\", 'Chateau Le Coteau Cuvée Graveline, Margaux', 'Château Lalande', 'Chateau Haut-Bastor Les Grandes Vignes Bordeaux Moelleux Blanc', 'La Chablisienne Bourgogne Chardonnay', 'Louis Jadot Mâcon Villages Blanc', 'Domaine Chanson Chassagne-Montrachet']\n",
      "url_product: 12\n",
      "['https://www.i-d-s.com/dubai/gervais-gobillard-prestige-champagne-rose-cp1026.html', 'https://www.i-d-s.com/dubai/baron-philippe-de-rothschild-reserve-mouton-cadet-medoc-fr1045.html', 'https://www.i-d-s.com/dubai/ch-teau-amour-fr1046.html', 'https://www.i-d-s.com/dubai/chateau-de-hauterive-chemin-de-compostelle-hauts-de-vire-cahors-fr1216.html', 'https://www.i-d-s.com/dubai/ch-teau-macquin-saint-georges-saint-milion-bordeaux-fr1049.html', 'https://www.i-d-s.com/dubai/chateau-durfort-vivens-vivens-margaux-fr1053.html', 'https://www.i-d-s.com/dubai/chateau-le-coteau-cuv-e-graveline-margaux-fr1233.html', 'https://www.i-d-s.com/dubai/ch-teau-lalande-fr1056.html', 'https://www.i-d-s.com/dubai/chateau-haut-bastor-les-grandes-vignes-bordeaux-moelleux-blanc-fr1221.html', 'https://www.i-d-s.com/dubai/la-chablisienne-bourgogne-chardonnay-fr1059.html', 'https://www.i-d-s.com/dubai/louis-jadot-m-con-villages-blanc-fr1061.html', 'https://www.i-d-s.com/dubai/domaine-chanson-chassagne-montrachet-fr1066.html']\n",
      "prices: 12\n",
      "reduced prices: 12\n",
      "['61.25', '16.40', '24.05', '18.55', '21.80', '60.85', '44.05', '24.39', '13.15', '14.35', '19.95', '108.65']\n",
      "https://www.i-d-s.com/dubai/wine/wines-by-country/france.html?p=26\n"
     ]
    },
    {
     "name": "stderr",
     "output_type": "stream",
     "text": [
      "/var/folders/9z/sjrbpv9j1996t3_4wv3ry65c0000gn/T/ipykernel_98632/3146571461.py:83: FutureWarning: The frame.append method is deprecated and will be removed from pandas in a future version. Use pandas.concat instead.\n",
      "  df_aggregated=df_aggregated.append(df)\n"
     ]
    },
    {
     "name": "stdout",
     "output_type": "stream",
     "text": [
      "name: 12\n",
      "['Meursault 1er Cru Les Charmes ,Xavier Monnot', 'La Chablisienne Chablis \"La Pierrelée\"', 'Chablis, Jean-Marc Brocard', 'Piper-Heidsieck Cuvée Brut', 'La Chablisienne Chablis 1er Cru \"Beauroy\"', 'La Chablisienne Chablis 1er Cru \"Vaillons\"', 'Domaine Chanson Nuits Saint Georges', 'Gevrey Chambertin , Vallet Frères', 'Vouvray Demi Sec Les Coteaux Tufiers', 'Domaine Pré Baron Touraine Sauvignon Blanc', 'Chateau du Grand Plantier Caupos, Loupiac Blanc', 'de Ladoucette Pouilly Fumé']\n",
      "url_product: 12\n",
      "['https://www.i-d-s.com/dubai/meursault-1er-cru-les-charmes-xavier-monnot-fr1069.html', 'https://www.i-d-s.com/dubai/la-chablisienne-chablis-la-pierrel-e-fr1115.html', 'https://www.i-d-s.com/dubai/chablis-jean-marc-brocard-fr1071.html', 'https://www.i-d-s.com/dubai/piper-heidsieck-cuv-e-brut-cp1009.html', 'https://www.i-d-s.com/dubai/la-chablisienne-chablis-1er-cru-beauroy-fr1072.html', 'https://www.i-d-s.com/dubai/la-chablisienne-chablis-1er-cru-vaillons-fr1073.html', 'https://www.i-d-s.com/dubai/domaine-chanson-nuits-saint-georges-fr1079.html', 'https://www.i-d-s.com/dubai/gevrey-chambertin-vallet-fr-res-fr1080.html', 'https://www.i-d-s.com/dubai/vouvray-demi-sec-les-coteaux-tufiers-fr1086.html', 'https://www.i-d-s.com/dubai/domaine-pr-baron-touraine-sauvignon-blanc-fr1087.html', 'https://www.i-d-s.com/dubai/chateau-du-grand-plantier-caupos-loupiac-blanc-fr2592.html', 'https://www.i-d-s.com/dubai/baron-de-ladoucette-pouilly-fum-fr1095.html']\n",
      "prices: 12\n",
      "reduced prices: 12\n",
      "['211.30', '22.80', '36.80', '54.25', '43.60', '40.75', '81.95', '56.00', '11.45', '12.50', '13.45', '52.35']\n",
      "https://www.i-d-s.com/dubai/wine/wines-by-country/france.html?p=27\n"
     ]
    },
    {
     "name": "stderr",
     "output_type": "stream",
     "text": [
      "/var/folders/9z/sjrbpv9j1996t3_4wv3ry65c0000gn/T/ipykernel_98632/3146571461.py:83: FutureWarning: The frame.append method is deprecated and will be removed from pandas in a future version. Use pandas.concat instead.\n",
      "  df_aggregated=df_aggregated.append(df)\n"
     ]
    },
    {
     "name": "stdout",
     "output_type": "stream",
     "text": [
      "name: 5\n",
      "['Pierre Sourdais Chinon Tradition', 'Patrice Armand Côtes du Rhône La Chapelle de Marin', 'Chateau de Vaudieu,‘Grand Vin’, Châteauneuf-du-Pape Rouge', \"Cavalier de la Méditerranée Merlot IGP Pays d'Oc\", 'Dom Pérignon Vintage Rosé, in individual Gift Box']\n",
      "url_product: 5\n",
      "['https://www.i-d-s.com/dubai/pierre-sourdais-chinon-tradition-fr1099.html', 'https://www.i-d-s.com/dubai/patrice-armand-c-tes-du-rh-ne-la-chapelle-de-marin-fr1103.html', 'https://www.i-d-s.com/dubai/chateau-de-vaudieu-grand-vin-ch-teauneuf-du-pape-rouge-fr1113.html', 'https://www.i-d-s.com/dubai/cavalier-de-la-m-diterran-e-merlot-igp-pays-d-oc-fr2597.html', 'https://www.i-d-s.com/dubai/dom-p-rignon-vintage-ros-in-individual-gift-box-cp1015.html']\n",
      "prices: 5\n",
      "reduced prices: 5\n",
      "['14.50', '8.30', '50.75', '10.00', '552.90']\n",
      "https://www.i-d-s.com/dubai/wine/wines-by-country/france.html?p=28\n"
     ]
    },
    {
     "name": "stderr",
     "output_type": "stream",
     "text": [
      "/var/folders/9z/sjrbpv9j1996t3_4wv3ry65c0000gn/T/ipykernel_98632/3146571461.py:83: FutureWarning: The frame.append method is deprecated and will be removed from pandas in a future version. Use pandas.concat instead.\n",
      "  df_aggregated=df_aggregated.append(df)\n"
     ]
    },
    {
     "name": "stdout",
     "output_type": "stream",
     "text": [
      "name: 0\n",
      "[]\n",
      "url_product: 0\n",
      "[]\n",
      "prices: 0\n",
      "reduced prices: 0\n",
      "[]\n",
      "---------------\n"
     ]
    },
    {
     "name": "stderr",
     "output_type": "stream",
     "text": [
      "/var/folders/9z/sjrbpv9j1996t3_4wv3ry65c0000gn/T/ipykernel_98632/3146571461.py:83: FutureWarning: The frame.append method is deprecated and will be removed from pandas in a future version. Use pandas.concat instead.\n",
      "  df_aggregated=df_aggregated.append(df)\n"
     ]
    },
    {
     "name": "stdout",
     "output_type": "stream",
     "text": [
      "argentina\n",
      "https://www.i-d-s.com/dubai/wine/wines-by-country/argentina.html?p=1\n",
      "name: 12\n",
      "['NV Método Tradicional Brut, Kaiken, Mendoza, Argentina', 'Trivento Reserve Chardonnay', 'Bodega Norton Finca la Colonia Chardonnay', 'Bodega Norton Finca La Colonia Colección Sauvignon Blanc', 'Zuccardi Fuzion Chardonnay', 'Zuccardi Valles Chardonnay', 'Zuccardi Vida Organica Bonarda', 'Kaiken Terroirs Series Vistaflores Malbec/Bonarda/Petit Verdot', 'Kaiken Terroir Series Cabernet Sauvignon/Malbec/Petit Verdot', 'Altos Las Hormigas Malbec Clásico Magnum (1.5L)', 'Kaiken Ultra Malbec Magnum (1.5L)', 'Kaiken Ultra Cabernet Sauvignon, Lujan de Cuyo']\n",
      "url_product: 12\n",
      "['https://www.i-d-s.com/dubai/nv-m-todo-tradicional-brut-kaiken-mendoza-argentina-sw4059.html', 'https://www.i-d-s.com/dubai/trivento-reserve-chardonnay-ag4000.html', 'https://www.i-d-s.com/dubai/bodega-norton-finca-la-colonia-chardonnay-ag4002.html', 'https://www.i-d-s.com/dubai/bodega-norton-finca-la-colonia-colecci-n-sauvignon-blanc-ag4003.html', 'https://www.i-d-s.com/dubai/zuccardi-fuzion-chardonnay-ag4004.html', 'https://www.i-d-s.com/dubai/zuccardi-valles-chardonnay-ag4005.html', 'https://www.i-d-s.com/dubai/zuccardi-vida-organica-bonarda-ag4011.html', 'https://www.i-d-s.com/dubai/kaiken-terroirs-series-vistaflores-malbec-bonarda-petit-verdot-ag4013.html', 'https://www.i-d-s.com/dubai/kaiken-terroir-series-cabernet-sauvignon-malbec-petit-verdot-ag4015.html', 'https://www.i-d-s.com/dubai/altos-las-hormigas-malbec-cl-sico-magnum-1-5l-ag4019.html', 'https://www.i-d-s.com/dubai/kaiken-ultra-malbec-magnum-1-5l-ag4026.html', 'https://www.i-d-s.com/dubai/kaiken-ultra-cabernet-sauvignon-lujan-de-cuyo-ag4016.html']\n",
      "prices: 12\n",
      "reduced prices: 12\n",
      "['7.95', '5.60', '4.60', '7.40', '3.80', '6.95', '4.85', '4.75', '7.25', '15.05', '15.25', '7.60']\n",
      "https://www.i-d-s.com/dubai/wine/wines-by-country/argentina.html?p=2\n"
     ]
    },
    {
     "name": "stderr",
     "output_type": "stream",
     "text": [
      "/var/folders/9z/sjrbpv9j1996t3_4wv3ry65c0000gn/T/ipykernel_98632/3146571461.py:83: FutureWarning: The frame.append method is deprecated and will be removed from pandas in a future version. Use pandas.concat instead.\n",
      "  df_aggregated=df_aggregated.append(df)\n"
     ]
    },
    {
     "name": "stdout",
     "output_type": "stream",
     "text": [
      "name: 12\n",
      "['Kaiken Ultra Merlot, Lujan de Cuyo', 'Kaiken Terroirs Series Vistaflores Cabernet Sauvignon/Malbec/Petit Verdot ,Valle De Uco', 'Altos Las Hormigas Malbec Reserve,Valle de Uco', 'Colomé Lote Especial \"Finca Colomé\" Tannat, Salta', 'Kaiken Terroirs Cafayate Torrontés, Cafayate', 'Pablo y Walter Malbec', 'Kaiken Clásico, Mendoza Cabernet Sauvignon', 'Catena Alta Chardonnay', 'Catena Appellation Vista Flores Malbec', 'Catena Alta Cabernet Sauvignon', 'Argento Malbec', 'Argento Sauvignon Blanc']\n",
      "url_product: 12\n",
      "['https://www.i-d-s.com/dubai/kaiken-ultra-merlot-lujan-de-cuyo-ag4017.html', 'https://www.i-d-s.com/dubai/kaiken-terroirs-series-vistaflores-cabernet-sauvignon-malbec-petit-verdot-valle-de-uco-ag4014.html', 'https://www.i-d-s.com/dubai/altos-las-hormigas-malbec-reserve-valle-de-uco-ag4020.html', 'https://www.i-d-s.com/dubai/colom-lote-especial-finca-colom-tannat-salta-ag4024.html', 'https://www.i-d-s.com/dubai/kaiken-terroirs-cafayate-torront-s-cafayate-ag4021.html', 'https://www.i-d-s.com/dubai/pablo-y-walter-malbec-ag1011.html', 'https://www.i-d-s.com/dubai/kaiken-cl-sico-mendoza-cabernet-sauvignon-ag1010.html', 'https://www.i-d-s.com/dubai/catena-alta-chardonnay-ag4030.html', 'https://www.i-d-s.com/dubai/catena-appellation-vista-flores-malbec-ag4029.html', 'https://www.i-d-s.com/dubai/catena-alta-cabernet-sauvignon-ag4031.html', 'https://www.i-d-s.com/dubai/argento-malbec-ag1007.html', 'https://www.i-d-s.com/dubai/argento-sauvignon-blanc-ag1000.html']\n",
      "prices: 12\n",
      "reduced prices: 12\n",
      "['8.45', '4.75', '18.45', '11.10', '5.80', '10.15', '10.60', '29.95', '21.75', '33.75', '8.95', '7.70']\n",
      "https://www.i-d-s.com/dubai/wine/wines-by-country/argentina.html?p=3\n"
     ]
    },
    {
     "name": "stderr",
     "output_type": "stream",
     "text": [
      "/var/folders/9z/sjrbpv9j1996t3_4wv3ry65c0000gn/T/ipykernel_98632/3146571461.py:83: FutureWarning: The frame.append method is deprecated and will be removed from pandas in a future version. Use pandas.concat instead.\n",
      "  df_aggregated=df_aggregated.append(df)\n"
     ]
    },
    {
     "name": "stdout",
     "output_type": "stream",
     "text": [
      "name: 12\n",
      "['Bodega Norton Finca la Colonia Torrontes', 'Bodega Norton Finca La Colonia Sauvignon Blanc', 'Bodega Norton Finca La Colonia Malbec', 'Bodega Norton Finca La Colonia Merlot', 'Bodega Norton Malbec Reserva', 'Bodega Norton Finca La Colonia Rosé', 'Bodega Norton Cabernet Sauvignon Reserva', 'Catena Appellation Cabernet Franc', 'Catena Appellation Tupungato Chardonnay', 'Chandon Garden Spritz Sparkling Wine', 'Amalaya, Torrontes/Riesling, Calchaqui Valley', 'Salta Malbec, Bodega Colomé `Estate Series`']\n",
      "url_product: 12\n",
      "['https://www.i-d-s.com/dubai/bodega-norton-finca-la-colonia-torrontes-ag1003.html', 'https://www.i-d-s.com/dubai/bodega-norton-finca-la-colonia-sauvignon-blanc-ag1004.html', 'https://www.i-d-s.com/dubai/bodega-norton-finca-la-colonia-malbec-ag1008.html', 'https://www.i-d-s.com/dubai/bodega-norton-finca-la-colonia-merlot-ag1009.html', 'https://www.i-d-s.com/dubai/bodega-norton-malbec-reserva-ag1013.html', 'https://www.i-d-s.com/dubai/bodega-norton-finca-la-colonia-ros-ag4006.html', 'https://www.i-d-s.com/dubai/bodega-norton-cabernet-sauvignon-reserva-ag4018.html', 'https://www.i-d-s.com/dubai/catena-appellation-cabernet-franc-ag4028.html', 'https://www.i-d-s.com/dubai/catena-appellation-tupungato-chardonnay-ag4027.html', 'https://www.i-d-s.com/dubai/chandon-garden-spritz-sparkling-wine-sw1072.html', 'https://www.i-d-s.com/dubai/amalaya-torrontes-riesling-calchaqui-valley-ag4022.html', 'https://www.i-d-s.com/dubai/salta-malbec-bodega-colom-estate-series-ag4025.html']\n",
      "prices: 12\n",
      "reduced prices: 12\n",
      "['12.00', '6.25', '6.25', '5.75', '9.55', '5.10', '11.45', '20.75', '19.10', '27.05', '5.90', '12.00']\n",
      "https://www.i-d-s.com/dubai/wine/wines-by-country/argentina.html?p=4\n"
     ]
    },
    {
     "name": "stderr",
     "output_type": "stream",
     "text": [
      "/var/folders/9z/sjrbpv9j1996t3_4wv3ry65c0000gn/T/ipykernel_98632/3146571461.py:83: FutureWarning: The frame.append method is deprecated and will be removed from pandas in a future version. Use pandas.concat instead.\n",
      "  df_aggregated=df_aggregated.append(df)\n"
     ]
    },
    {
     "name": "stdout",
     "output_type": "stream",
     "text": [
      "name: 1\n",
      "['Kaiken Chardonnay \"Ultra\"']\n",
      "url_product: 1\n",
      "['https://www.i-d-s.com/dubai/kaiken-chardonnay-ultra-ag1050.html']\n",
      "prices: 1\n",
      "reduced prices: 1\n",
      "['9.10']\n",
      "https://www.i-d-s.com/dubai/wine/wines-by-country/argentina.html?p=5\n"
     ]
    },
    {
     "name": "stderr",
     "output_type": "stream",
     "text": [
      "/var/folders/9z/sjrbpv9j1996t3_4wv3ry65c0000gn/T/ipykernel_98632/3146571461.py:83: FutureWarning: The frame.append method is deprecated and will be removed from pandas in a future version. Use pandas.concat instead.\n",
      "  df_aggregated=df_aggregated.append(df)\n"
     ]
    },
    {
     "name": "stdout",
     "output_type": "stream",
     "text": [
      "name: 0\n",
      "[]\n",
      "url_product: 0\n",
      "[]\n",
      "prices: 0\n",
      "reduced prices: 0\n",
      "[]\n",
      "---------------\n"
     ]
    },
    {
     "name": "stderr",
     "output_type": "stream",
     "text": [
      "/var/folders/9z/sjrbpv9j1996t3_4wv3ry65c0000gn/T/ipykernel_98632/3146571461.py:83: FutureWarning: The frame.append method is deprecated and will be removed from pandas in a future version. Use pandas.concat instead.\n",
      "  df_aggregated=df_aggregated.append(df)\n"
     ]
    },
    {
     "name": "stdout",
     "output_type": "stream",
     "text": [
      "australia\n",
      "https://www.i-d-s.com/dubai/wine/wines-by-country/australia.html?p=1\n",
      "name: 12\n",
      "['`Johann’s Garden` Barossa Valley Grenache/Mataro/Shiraz, Henschke', 'Peter Lehmann Masters, Barossa Valley Botrytis Sémillon', \"Peter Lehmann `Black Queen' Sparkling Shiraz\", \"Grosset `Polish Hill' Clare Valley Riesling\", 'Peter Lehmann Hill &amp; Valley Eden Valley Riesling', 'Mitolo, `GAM` Shiraz', 'Lindemans Bin 65 Chardonnay', \"Lindeman's Bin 45 Cabernet Sauvignon\", 'Jane Eyre Mornington Peninsula Pinot Noir', 'Giant Steps `Wombat Creek Vineyard` Yarra Valley Chardonnay', 'Innocent Bystander Moscato', 'Jane Eyre Gippsland Pinot Noir']\n",
      "url_product: 12\n",
      "['https://www.i-d-s.com/dubai/johann-s-garden-barossa-valley-grenache-mataro-shiraz-henschke-au4036.html', 'https://www.i-d-s.com/dubai/peter-lehmann-masters-barossa-valley-botrytis-s-millon-dw4019.html', 'https://www.i-d-s.com/dubai/peter-lehmann-black-queen-sparkling-shiraz-sw4056.html', 'https://www.i-d-s.com/dubai/grosset-polish-hill-clare-valley-riesling-au4022.html', 'https://www.i-d-s.com/dubai/peter-lehmann-hill-valley-eden-valley-riesling-au4032.html', 'https://www.i-d-s.com/dubai/mitolo-gam-shiraz-au4071.html', 'https://www.i-d-s.com/dubai/lindemans-bin-65-chardonnay-au4050.html', 'https://www.i-d-s.com/dubai/lindeman-s-bin-45-cabernet-sauvignon-au1055.html', 'https://www.i-d-s.com/dubai/jane-eyre-mornington-peninsula-pinot-noir-au4046.html', 'https://www.i-d-s.com/dubai/giant-steps-wombat-creek-vineyard-yarra-valley-chardonnay-au4044.html', 'https://www.i-d-s.com/dubai/innocent-bystander-moscato-au4040.html', 'https://www.i-d-s.com/dubai/jane-eyre-gippsland-pinot-noir-au4047.html']\n",
      "prices: 12\n",
      "reduced prices: 12\n",
      "['25.70', '7.35', '16.80', '23.10', '9.05', '18.75', '4.10', '4.95', '28.45', '19.70', '7.30', '28.30']\n",
      "https://www.i-d-s.com/dubai/wine/wines-by-country/australia.html?p=2\n"
     ]
    },
    {
     "name": "stderr",
     "output_type": "stream",
     "text": [
      "/var/folders/9z/sjrbpv9j1996t3_4wv3ry65c0000gn/T/ipykernel_98632/3146571461.py:83: FutureWarning: The frame.append method is deprecated and will be removed from pandas in a future version. Use pandas.concat instead.\n",
      "  df_aggregated=df_aggregated.append(df)\n"
     ]
    },
    {
     "name": "stdout",
     "output_type": "stream",
     "text": [
      "name: 12\n",
      "['Penfolds Koonunga Hill Chardonnay', \"D'Arenberg Peppermint Paddock, Sparkling Shiraz\", \"Katnook Founder's Block Cabernet Sauvignon\", 'Yangarra Estate Old Vine Grenache, McLaren Vale', 'Yangarra Estate Mourvedre, McLaren Vale', 'Yangarra Estate Grenache-Shiraz, Mourvedre, McLaren Vale', 'Yangarra Estate Shiraz, McLaren Vale', 'Penfolds Bin 389 Cabernet Shiraz ', 'Jansz Premium Cuvee NV', 'Fishbone Blue Range Ruby Rose', 'Fishbone Blue Label Shiraz ', 'Fishbone Black Range Sauvignon Blanc']\n",
      "url_product: 12\n",
      "['https://www.i-d-s.com/dubai/penfolds-koonunga-hill-chardonnay-au3013.html', 'https://www.i-d-s.com/dubai/d-arenberg-peppermint-paddock-sparkling-shiraz-sw1041.html', 'https://www.i-d-s.com/dubai/katnook-founder-s-block-cabernet-sauvignon-au2006.html', 'https://www.i-d-s.com/dubai/yangarra-estate-old-vine-grenache-mclaren-vale-au2020.html', 'https://www.i-d-s.com/dubai/yangarra-estate-mourvedre-mclaren-vale-au2021.html', 'https://www.i-d-s.com/dubai/yangarra-estate-grenache-shiraz-mourvedre-mclaren-vale-au2022.html', 'https://www.i-d-s.com/dubai/yangarra-estate-shiraz-mclaren-vale-au2023.html', 'https://www.i-d-s.com/dubai/penfolds-bin-389-cabernet-shiraz-au2041.html', 'https://www.i-d-s.com/dubai/jansz-premium-cuvee-nv-sw4054.html', 'https://www.i-d-s.com/dubai/fishbone-blue-range-ruby-rose-au1139.html', 'https://www.i-d-s.com/dubai/fishbone-blue-label-shiraz-au1164.html', 'https://www.i-d-s.com/dubai/fishbone-black-range-sauvignon-blanc-au1918.html']\n",
      "prices: 12\n",
      "reduced prices: 12\n",
      "['12.35', '16.05', '19.20', '28.70', '28.70', '28.70', '28.70', '80.20', '19.99', '13.30', '16.00', '20.15']\n",
      "https://www.i-d-s.com/dubai/wine/wines-by-country/australia.html?p=3\n"
     ]
    },
    {
     "name": "stderr",
     "output_type": "stream",
     "text": [
      "/var/folders/9z/sjrbpv9j1996t3_4wv3ry65c0000gn/T/ipykernel_98632/3146571461.py:83: FutureWarning: The frame.append method is deprecated and will be removed from pandas in a future version. Use pandas.concat instead.\n",
      "  df_aggregated=df_aggregated.append(df)\n"
     ]
    },
    {
     "name": "stdout",
     "output_type": "stream",
     "text": [
      "name: 12\n",
      "['16 Stops, Chardonnay', '16 Stops, Shiraz', 'Penfolds Bin 389 Cabernet/Shiraz, 2019', 'Penfolds Bin 2 Shiraz Mataro&nbsp; ', 'Innocent Bystander Yarra Valley Chardonnay', \"Elderton 'Ashmead' Single Vineyard, Cabernet Sauvignon\", \"Elderton 'Command' Single Vineyard, Shiraz\", 'Little Ripples Shiraz', 'Little Ripples Cabernet Sauvignon', 'Fishbone, Margaret River Black Range Shiraz', 'Fishbone Cabernet Shiraz', 'Shaw+Smith Adelaide Hills Shiraz']\n",
      "url_product: 12\n",
      "['https://www.i-d-s.com/dubai/16-stops-chardonnay-au4074.html', 'https://www.i-d-s.com/dubai/16-stops-shiraz-au4072.html', 'https://www.i-d-s.com/dubai/penfolds-bin-389-cabernet-shiraz-2019-au1138.html', 'https://www.i-d-s.com/dubai/penfolds-bin-2-shiraz-mataro-au2039.html', 'https://www.i-d-s.com/dubai/innocent-bystander-yarra-valley-chardonnay-au4043.html', 'https://www.i-d-s.com/dubai/elderton-ashmead-single-vineyard-cabernet-sauvignon-au1116.html', 'https://www.i-d-s.com/dubai/elderton-command-single-vineyard-shiraz-au1115.html', 'https://www.i-d-s.com/dubai/little-ripples-shiraz-au4078.html', 'https://www.i-d-s.com/dubai/little-ripples-cabernet-sauvignon-au4077.html', 'https://www.i-d-s.com/dubai/fishbone-margaret-river-black-range-shiraz-au1916.html', 'https://www.i-d-s.com/dubai/fishbone-cabernet-shiraz-au1052.html', 'https://www.i-d-s.com/dubai/shaw-smith-adelaide-hills-shiraz-au4039.html']\n",
      "prices: 12\n",
      "reduced prices: 12\n",
      "['9.70', '9.65', '84.35', '30.10', '19.70', '34.41', '67.45', '8.99', '8.99', '20.15', '13.35', '39.45']\n",
      "https://www.i-d-s.com/dubai/wine/wines-by-country/australia.html?p=4\n"
     ]
    },
    {
     "name": "stderr",
     "output_type": "stream",
     "text": [
      "/var/folders/9z/sjrbpv9j1996t3_4wv3ry65c0000gn/T/ipykernel_98632/3146571461.py:83: FutureWarning: The frame.append method is deprecated and will be removed from pandas in a future version. Use pandas.concat instead.\n",
      "  df_aggregated=df_aggregated.append(df)\n"
     ]
    },
    {
     "name": "stdout",
     "output_type": "stream",
     "text": [
      "name: 12\n",
      "['Elderton Estate Family Vineyards, Barossa Shiraz', 'Elderton Estate Family Vineyards, Barossa Cabernet Sauvignon', 'Elderton Estate Family Vineyards, Eden Valley Riesling', 'Elderton Estate Family Vineyards, Eden Valley Chardonnay', 'Little Ripples Chardonnay', 'Little Ripples Rosé', 'Little Ripples Sauvignon Blanc', 'Jim Barry Macrae Shiraz, McRae Wood', 'Voyager Shiraz', 'Voyager Sauvignon Blanc Semillion', 'Voyager Girt by sea Cab Merlot', 'Voyager Estate Chardonnay']\n",
      "url_product: 12\n",
      "['https://www.i-d-s.com/dubai/elderton-estate-family-vineyards-barossa-shiraz-au1111.html', 'https://www.i-d-s.com/dubai/elderton-estate-family-vineyards-barossa-cabernet-sauvignon-au1112.html', 'https://www.i-d-s.com/dubai/elderton-estate-family-vineyards-eden-valley-riesling-au1114.html', 'https://www.i-d-s.com/dubai/elderton-estate-family-vineyards-eden-valley-chardonnay-au1113.html', 'https://www.i-d-s.com/dubai/little-ripples-chardonnay-au4080.html', 'https://www.i-d-s.com/dubai/little-ripples-ros-au4081.html', 'https://www.i-d-s.com/dubai/little-ripples-sauvignon-blanc-au4079.html', 'https://www.i-d-s.com/dubai/jim-barry-macrae-shiraz-mcrae-wood-au1144.html', 'https://www.i-d-s.com/dubai/voyager-shiraz-au1162.html', 'https://www.i-d-s.com/dubai/voyager-sauvignon-blanc-semillion-au1161.html', 'https://www.i-d-s.com/dubai/voyager-girt-by-sea-cab-merlot-au1160.html', 'https://www.i-d-s.com/dubai/voyager-estate-chardonnay-au1159.html']\n",
      "prices: 12\n",
      "reduced prices: 12\n",
      "['18.00', '18.00', '15.05', '15.05', '8.99', '8.99', '8.99', '41.35', '21.30', '16.95', '15.95', '16.60']\n",
      "https://www.i-d-s.com/dubai/wine/wines-by-country/australia.html?p=5\n"
     ]
    },
    {
     "name": "stderr",
     "output_type": "stream",
     "text": [
      "/var/folders/9z/sjrbpv9j1996t3_4wv3ry65c0000gn/T/ipykernel_98632/3146571461.py:83: FutureWarning: The frame.append method is deprecated and will be removed from pandas in a future version. Use pandas.concat instead.\n",
      "  df_aggregated=df_aggregated.append(df)\n"
     ]
    },
    {
     "name": "stdout",
     "output_type": "stream",
     "text": [
      "name: 12\n",
      "['Voyager Chenin Blanc', 'Vasse Felix Filius Chardonnay', 'Vasse felix Filius Cab Merlot', 'Vasse felix Classid Dry White, Sem. Sauvignon Blanc', 'Vasse Felix Classic Dry Red, Shiraz', 'Taltarni Brut Tache Rosé', 'Taltarni t Series Shiraz', 'Taltarni T Series Victorian Sauvignon Blanc', 'Pirathon Silver Shiraz', 'Jim Barry Watervale Riesling', 'Jim Barry lodge Hill Shiraz', 'Jim Barry Lodge Hill Riesling']\n",
      "url_product: 12\n",
      "['https://www.i-d-s.com/dubai/voyager-chenin-blanc-au1158.html', 'https://www.i-d-s.com/dubai/vasse-felix-filius-chardonnay-au1156.html', 'https://www.i-d-s.com/dubai/vasse-felix-filius-cab-merlot-au1155.html', 'https://www.i-d-s.com/dubai/vasse-felix-classid-dry-white-sem-sauvignon-blanc-au1154.html', 'https://www.i-d-s.com/dubai/vasse-felix-classic-dry-red-shiraz-au1153.html', 'https://www.i-d-s.com/dubai/taltarni-brut-tache-ros-sw1078.html', 'https://www.i-d-s.com/dubai/taltarni-t-series-shiraz-au1150.html', 'https://www.i-d-s.com/dubai/taltarni-t-series-victorian-sauvignon-blanc-au1149.html', 'https://www.i-d-s.com/dubai/pirathon-silver-shiraz-au1146.html', 'https://www.i-d-s.com/dubai/jim-barry-watervale-riesling-au1145.html', 'https://www.i-d-s.com/dubai/jim-barry-lodge-hill-shiraz-au1143.html', 'https://www.i-d-s.com/dubai/jim-barry-lodge-hill-riesling-au1142.html']\n",
      "prices: 12\n",
      "reduced prices: 12\n",
      "['15.30', '17.05', '19.50', '13.25', '13.25', '15.50', '11.90', '13.80', '19.00', '15.75', '23.20', '19.25']\n",
      "https://www.i-d-s.com/dubai/wine/wines-by-country/australia.html?p=6\n"
     ]
    },
    {
     "name": "stderr",
     "output_type": "stream",
     "text": [
      "/var/folders/9z/sjrbpv9j1996t3_4wv3ry65c0000gn/T/ipykernel_98632/3146571461.py:83: FutureWarning: The frame.append method is deprecated and will be removed from pandas in a future version. Use pandas.concat instead.\n",
      "  df_aggregated=df_aggregated.append(df)\n"
     ]
    },
    {
     "name": "stdout",
     "output_type": "stream",
     "text": [
      "name: 12\n",
      "['Jim Barry Cover Drive, Cabernet Sauvignon', \"d'Arenberg Dead Arm Shiraz\", 'Yering Reserve Cabernet Sauvignon', 'Small Victories Rosé', 'Small Victories Pinot Gris', 'Small Victories Shiraz', 'Small Victories Sangiovese', 'Keith Tulloch Chardonnay', 'Keith Tulloch Kester Shiraz ', 'Keith Tulloch Shiraz', 'Keith Tulloch Semillon ', 'Songlines Grenache ']\n",
      "url_product: 12\n",
      "['https://www.i-d-s.com/dubai/jim-barry-cover-drive-cabernet-sauvignon-au1141.html', 'https://www.i-d-s.com/dubai/d-arenberg-dead-arm-shiraz-au1163.html', 'https://www.i-d-s.com/dubai/yering-reserve-cabernet-sauvignon-au1140.html', 'https://www.i-d-s.com/dubai/small-victories-ros-au1117.html', 'https://www.i-d-s.com/dubai/small-victories-pinot-gris-au1110.html', 'https://www.i-d-s.com/dubai/small-victories-shiraz-au1109.html', 'https://www.i-d-s.com/dubai/small-victories-sangiovese-au1108.html', 'https://www.i-d-s.com/dubai/keith-tulloch-chardonnay-au1102.html', 'https://www.i-d-s.com/dubai/keith-tulloch-kester-shiraz-au1101.html', 'https://www.i-d-s.com/dubai/keith-tulloch-shiraz-au1100.html', 'https://www.i-d-s.com/dubai/keith-tulloch-semillon-au1099.html', 'https://www.i-d-s.com/dubai/songlines-grenache-au1098.html']\n",
      "prices: 12\n",
      "reduced prices: 12\n",
      "['14.15', '42.05', '62.95', '14.55', '14.55', '14.55', '14.55', '19.20', '21.13', '19.85', '19.35', '15.20']\n",
      "https://www.i-d-s.com/dubai/wine/wines-by-country/australia.html?p=7\n"
     ]
    },
    {
     "name": "stderr",
     "output_type": "stream",
     "text": [
      "/var/folders/9z/sjrbpv9j1996t3_4wv3ry65c0000gn/T/ipykernel_98632/3146571461.py:83: FutureWarning: The frame.append method is deprecated and will be removed from pandas in a future version. Use pandas.concat instead.\n",
      "  df_aggregated=df_aggregated.append(df)\n"
     ]
    },
    {
     "name": "stdout",
     "output_type": "stream",
     "text": [
      "name: 12\n",
      "['Rag &amp; Bone Riesling  ', 'Wishbone Shiraz Cabernet  ', 'Soldiers Block Malbec', 'Soldiers Block Chardonnay  ', 'Grant Burge Wines of Distinction The Holy Trinity Shiraz Grenache Mourvedre', 'Petaluma White Label Cabernet Sauvignon Coonawarra', 'St Hallett Blackwell Shiraz', 'St Hallett Faith Shiraz', 'St Hallett Eden Valley Riesling', 'St Hallett Gamekeepers Grenache Shiraz Touriga', 'Grant Burge Wines of Distinction Corryton Park Cabernet Sauvignon', 'Grant Burge Wines of Distinction Balthasar Shiraz']\n",
      "url_product: 12\n",
      "['https://www.i-d-s.com/dubai/rag-bone-riesling-au1107.html', 'https://www.i-d-s.com/dubai/wishbone-shiraz-cabernet-au1105.html', 'https://www.i-d-s.com/dubai/soldiers-block-malbec-au1104.html', 'https://www.i-d-s.com/dubai/soldiers-block-chardonnay-au1103.html', 'https://www.i-d-s.com/dubai/grant-burge-wines-of-distinction-the-holy-trinity-shiraz-grenache-mourvedre-au1085.html', 'https://www.i-d-s.com/dubai/petaluma-white-label-cabernet-sauvignon-coonawarra-au1091.html', 'https://www.i-d-s.com/dubai/st-hallett-blackwell-shiraz-au1090.html', 'https://www.i-d-s.com/dubai/st-hallett-faith-shiraz-au1089.html', 'https://www.i-d-s.com/dubai/st-hallett-eden-valley-riesling-au1088.html', 'https://www.i-d-s.com/dubai/st-hallett-gamekeepers-grenache-shiraz-touriga-au1087.html', 'https://www.i-d-s.com/dubai/grant-burge-wines-of-distinction-corryton-park-cabernet-sauvignon-au1086.html', 'https://www.i-d-s.com/dubai/grant-burge-wines-of-distinction-balthasar-shiraz-au1084.html']\n",
      "prices: 12\n",
      "reduced prices: 12\n",
      "['14.85', '9.50', '7.80', '7.30', '24.85', '19.60', '28.65', '17.40', '18.85', '19.15', '20.58', '17.20']\n",
      "https://www.i-d-s.com/dubai/wine/wines-by-country/australia.html?p=8\n"
     ]
    },
    {
     "name": "stderr",
     "output_type": "stream",
     "text": [
      "/var/folders/9z/sjrbpv9j1996t3_4wv3ry65c0000gn/T/ipykernel_98632/3146571461.py:83: FutureWarning: The frame.append method is deprecated and will be removed from pandas in a future version. Use pandas.concat instead.\n",
      "  df_aggregated=df_aggregated.append(df)\n"
     ]
    },
    {
     "name": "stdout",
     "output_type": "stream",
     "text": [
      "name: 12\n",
      "['Grant Burge Wines of Distinction Filsell Shiraz', 'Petaluma White Label Sauvignon Blanc Adelaide Hills', 'Petaluma White Label Chardonnay Adelaide Hills', 'Xanadu Circa 77 Cabernet. Sauvignon', 'Xanadu Circa 77 Chardonnay', 'Yellow Tail Jammy Red Roo', '`Red Moon` Mangan Vineyard Wilyabrup Malbec/Petit Verdot/Merlot, Cullen', '`Mangan East Block` Margaret River, Cullen', 'Mount Horrocks `Watervale` Clare Valley Semillon', 'Cullen `Mangan Vineyard` Sauvignon Blanc/Semillon, Margaret River', 'Dawson James Chardonnay', \"Giant Steps `Primavera Vineyard' Yarra Valley Pinot Noir\"]\n",
      "url_product: 12\n",
      "['https://www.i-d-s.com/dubai/grant-burge-wines-of-distinction-filsell-shiraz-au1083.html', 'https://www.i-d-s.com/dubai/petaluma-white-label-sauvignon-blanc-adelaide-hills-au1093.html', 'https://www.i-d-s.com/dubai/petaluma-white-label-chardonnay-adelaide-hills-au1092.html', 'https://www.i-d-s.com/dubai/xanadu-circa-77-cabernet-sauvignon-au1095.html', 'https://www.i-d-s.com/dubai/xanadu-circa-77-chardonnay-au1094.html', 'https://www.i-d-s.com/dubai/yellow-tail-jammy-red-roo-au1078.html', 'https://www.i-d-s.com/dubai/red-moon-mangan-vineyard-wilyabrup-malbec-petit-verdot-merlot-cullen-au4002.html', 'https://www.i-d-s.com/dubai/mangan-east-block-margaret-river-cullen-au4003.html', 'https://www.i-d-s.com/dubai/mount-harrocks-watervale-clare-valley-semillon-au4019.html', 'https://www.i-d-s.com/dubai/cullen-mangan-vineyard-sauvignon-blanc-semillon-margaret-river-au4001.html', 'https://www.i-d-s.com/dubai/dawson-james-chardonnay-au4069.html', 'https://www.i-d-s.com/dubai/giant-steps-primavera-vineyard-yarra-valley-pinot-noir-au4045.html']\n",
      "prices: 12\n",
      "reduced prices: 12\n",
      "['24.85', '29.55', '18.50', '9.75', '9.75', '4.80', '19.69', '51.20', '29.60', '27.95', '40.11', '47.65']\n",
      "https://www.i-d-s.com/dubai/wine/wines-by-country/australia.html?p=9\n"
     ]
    },
    {
     "name": "stderr",
     "output_type": "stream",
     "text": [
      "/var/folders/9z/sjrbpv9j1996t3_4wv3ry65c0000gn/T/ipykernel_98632/3146571461.py:83: FutureWarning: The frame.append method is deprecated and will be removed from pandas in a future version. Use pandas.concat instead.\n",
      "  df_aggregated=df_aggregated.append(df)\n"
     ]
    },
    {
     "name": "stdout",
     "output_type": "stream",
     "text": [
      "name: 12\n",
      "['Three Lions, Great Southern Sauvignon Blanc', 'Three Lions, Great Southern Chardonnay', 'Plantagenet, Angevin Mount Barker Riesling', 'Three Lions Great Southern Cabernet/Merlot', 'Plantagenet `Aquitaine` Mount Barker Cabernet Sauvignon', 'Dandelion Vineyards `Lionheart of the Barossa` Shiraz', \"Peter Lehmann `The Barossan' Grenache\", 'Charles Melton, Rose Of Virginia Barossa Valley', 'Mount Horrocks Clare Valley Shiraz', 'Dawson James Pinot Noir', 'Mount Langi Ghiran, Billi Billi Pinot Gris', \"d'Arenberg The Stump Jump White\"]\n",
      "url_product: 12\n",
      "['https://www.i-d-s.com/dubai/three-lions-great-southern-sauvignon-blanc-au4004.html', 'https://www.i-d-s.com/dubai/three-lions-great-southern-chardonnay-au4005.html', 'https://www.i-d-s.com/dubai/plantagenet-angevin-mount-barker-riesling-au3002.html', 'https://www.i-d-s.com/dubai/three-lions-great-southern-cabernet-merlot-au4006.html', 'https://www.i-d-s.com/dubai/plantagenet-aquitaine-mount-barker-cabernet-sauvignon-au4007.html', 'https://www.i-d-s.com/dubai/dandelion-vineyards-lionheart-of-the-barossa-shiraz-au3006.html', 'https://www.i-d-s.com/dubai/peter-lehmann-the-barossan-grenache-au4034.html', 'https://www.i-d-s.com/dubai/charles-melton-rose-of-virginia-barossa-valley-au1068.html', 'https://www.i-d-s.com/dubai/mount-horrocks-clare-valley-shiraz-au4023.html', 'https://www.i-d-s.com/dubai/dawson-james-pinot-noir-au4070.html', 'https://www.i-d-s.com/dubai/mount-langi-ghiran-billi-billi-pinot-grigio-au1012.html', 'https://www.i-d-s.com/dubai/d-arenberg-the-stump-jump-white-au1000.html']\n",
      "prices: 12\n",
      "reduced prices: 12\n",
      "['15.20', '15.30', '22.10', '10.80', '34.20', '14.20', '19.80', '32.25', '42.70', '86.80', '9.20', '11.10']\n",
      "https://www.i-d-s.com/dubai/wine/wines-by-country/australia.html?p=10\n"
     ]
    },
    {
     "name": "stderr",
     "output_type": "stream",
     "text": [
      "/var/folders/9z/sjrbpv9j1996t3_4wv3ry65c0000gn/T/ipykernel_98632/3146571461.py:83: FutureWarning: The frame.append method is deprecated and will be removed from pandas in a future version. Use pandas.concat instead.\n",
      "  df_aggregated=df_aggregated.append(df)\n"
     ]
    },
    {
     "name": "stdout",
     "output_type": "stream",
     "text": [
      "name: 12\n",
      "[\"d'Arenberg The Olive Grove Chardonnay\", 'Yering Station Village Chardonnay', 'Yellow Tail Chardonnay', \"d'Arenberg The Hermit Crab Marsanne/Viognier\", 'Peter Lehmann Masters, Margaret Semillon, Barossa Valley', 'Peter Lehmann Hill &amp; Valley Chardonnay, Eden Valley', 'Shaw + Smith, Sauvignon Blanc , Adelaide Hills', 'Shaw + Smith \"M3\", Chardonnay, Adelaide Hills', \"Jacob's Creek Chardonnay\", 'Stella Bella Semillon Sauvignon Blanc', 'Yellow Tail Pinot Grigio', 'Yellow Tail  Rosé']\n",
      "url_product: 12\n",
      "['https://www.i-d-s.com/dubai/d-arenberg-the-olive-grove-chardonnay-au1001.html', 'https://www.i-d-s.com/dubai/yering-station-village-chardonnay-au1014.html', 'https://www.i-d-s.com/dubai/yellow-tail-chardonnay-au1019.html', 'https://www.i-d-s.com/dubai/d-arenberg-the-hermit-crab-marsanne-viognier-au1002.html', 'https://www.i-d-s.com/dubai/peter-lehmann-masters-margaret-semillon-barossa-valley-au1004.html', 'https://www.i-d-s.com/dubai/peter-lehmann-hill-valley-chardonnay-eden-valley-au1006.html', 'https://www.i-d-s.com/dubai/shaw-smith-sauvignon-blanc-adelaide-hills-au1008.html', 'https://www.i-d-s.com/dubai/shaw-smith-m3-chardonnay-adelaide-hills-au1009.html', 'https://www.i-d-s.com/dubai/jacob-s-creek-chardonnay-au1010.html', 'https://www.i-d-s.com/dubai/stella-bella-semillon-sauvignon-blanc-au1016.html', 'https://www.i-d-s.com/dubai/yellow-tail-pinot-grigio-au1018.html', 'https://www.i-d-s.com/dubai/yellow-tail-rose-au1050.html']\n",
      "prices: 12\n",
      "reduced prices: 12\n",
      "['15.45', '13.50', '8.15', '15.65', '23.95', '16.35', '17.65', '38.70', '7.95', '23.00', '8.15', '8.15']\n",
      "https://www.i-d-s.com/dubai/wine/wines-by-country/australia.html?p=11\n"
     ]
    },
    {
     "name": "stderr",
     "output_type": "stream",
     "text": [
      "/var/folders/9z/sjrbpv9j1996t3_4wv3ry65c0000gn/T/ipykernel_98632/3146571461.py:83: FutureWarning: The frame.append method is deprecated and will be removed from pandas in a future version. Use pandas.concat instead.\n",
      "  df_aggregated=df_aggregated.append(df)\n"
     ]
    },
    {
     "name": "stdout",
     "output_type": "stream",
     "text": [
      "name: 12\n",
      "['Mount Langhi Ghiran Billi Billi Shiraz', 'Mount Langi Cliff Edge Shiraz', 'Clonakilla \"Hilltops\", Shiraz', 'Yering Station Village Shiraz', 'Yering Station Village Rosé', \"Lindeman's Bin 50 Shiraz\", 'Yellow Tail Shiraz', 'Yellow Tail Merlot', \"d'Arenberg The Stump Jump Red\", \"d'Arenberg The Footbolt Shiraz\", 'Peter Lehmann, The Barossan Shiraz , Barossa Valley', 'Peter Lehmann Masters, 8 Songs Shiraz, Barossa Valley']\n",
      "url_product: 12\n",
      "['https://www.i-d-s.com/dubai/mount-langhi-ghiran-billi-billi-shiraz-au1022.html', 'https://www.i-d-s.com/dubai/mount-langhi-cliff-edge-shiraz-au1023.html', 'https://www.i-d-s.com/dubai/clonakilla-hilltops-shiraz-au1025.html', 'https://www.i-d-s.com/dubai/yering-station-village-shiraz-au1026.html', 'https://www.i-d-s.com/dubai/yering-station-village-rose-au1027.html', 'https://www.i-d-s.com/dubai/lindeman-s-bin-50-shiraz-au1032.html', 'https://www.i-d-s.com/dubai/yellow-tail-shiraz-au1033.html', 'https://www.i-d-s.com/dubai/yellow-tail-merlot-au1034.html', 'https://www.i-d-s.com/dubai/d-arenberg-the-stump-jump-red-au1035.html', 'https://www.i-d-s.com/dubai/d-arenberg-the-footbolt-shiraz-au1036.html', 'https://www.i-d-s.com/dubai/peter-lehmann-the-barossan-shiraz-barossa-valley-au1038.html', 'https://www.i-d-s.com/dubai/peter-lehmann-masters-8-songs-shiraz-barossa-valley-au1039.html']\n",
      "prices: 12\n",
      "reduced prices: 12\n",
      "['9.35', '17.75', '33.35', '13.70', '14.00', '7.85', '8.15', '8.15', '11.55', '18.30', '20.45', '39.85']\n",
      "https://www.i-d-s.com/dubai/wine/wines-by-country/australia.html?p=12\n"
     ]
    },
    {
     "name": "stderr",
     "output_type": "stream",
     "text": [
      "/var/folders/9z/sjrbpv9j1996t3_4wv3ry65c0000gn/T/ipykernel_98632/3146571461.py:83: FutureWarning: The frame.append method is deprecated and will be removed from pandas in a future version. Use pandas.concat instead.\n",
      "  df_aggregated=df_aggregated.append(df)\n"
     ]
    },
    {
     "name": "stdout",
     "output_type": "stream",
     "text": [
      "name: 10\n",
      "['Henschke Henry’s Seven` Shiraz/Grenache/Mataro/Viognier, Barossa', 'Wolf Blass Eagle Hawk Merlot', 'Penfolds Koonunga Hill Shiraz Cabernet Sauvignon', 'Penfolds Bin 28 Kalimna Shiraz', \"Jacob's Creek Classic Shiraz Cabernet\", \"Jacob's Creek&nbsp;Classic Shiraz Rosé\", 'Yellow Tail Bubbles Brut', \"Jacob's Creek Sparkling Chardonnay Pinot Noir\", 'Yellow Tail Bubbles Brut Rosé', \"Jacob's Creek Sparkling Rosé\"]\n",
      "url_product: 10\n",
      "['https://www.i-d-s.com/dubai/henschke-henry-s-seven-shiraz-grenache-mataro-viognier-barossa-au1040.html', 'https://www.i-d-s.com/dubai/wolf-blass-eagle-hawk-merlot-au1041.html', 'https://www.i-d-s.com/dubai/penfolds-koonunga-hill-shiraz-cabernet-sauvignon-au1042.html', 'https://www.i-d-s.com/dubai/penfolds-bin-28-kalimna-shiraz-au1043.html', 'https://www.i-d-s.com/dubai/jacob-s-creek-classic-shiraz-cabernet-au1044.html', 'https://www.i-d-s.com/dubai/jacob-s-creek-classic-shiraz-ros-au1045.html', 'https://www.i-d-s.com/dubai/yellow-tail-bubbles-brut-sw1026.html', 'https://www.i-d-s.com/dubai/jacob-s-creek-sparkling-chardonnay-pinot-noir-sw1027.html', 'https://www.i-d-s.com/dubai/yellow-tail-bubbles-brut-ros-sw1028.html', 'https://www.i-d-s.com/dubai/jacob-s-creek-sparkling-ros-sw1029.html']\n",
      "prices: 10\n",
      "reduced prices: 10\n",
      "['33.85', '6.45', '20.00', '42.35', '8.15', '7.95', '9.60', '10.20', '9.60', '10.20']\n",
      "https://www.i-d-s.com/dubai/wine/wines-by-country/australia.html?p=13\n"
     ]
    },
    {
     "name": "stderr",
     "output_type": "stream",
     "text": [
      "/var/folders/9z/sjrbpv9j1996t3_4wv3ry65c0000gn/T/ipykernel_98632/3146571461.py:83: FutureWarning: The frame.append method is deprecated and will be removed from pandas in a future version. Use pandas.concat instead.\n",
      "  df_aggregated=df_aggregated.append(df)\n"
     ]
    },
    {
     "name": "stdout",
     "output_type": "stream",
     "text": [
      "name: 0\n",
      "[]\n",
      "url_product: 0\n",
      "[]\n",
      "prices: 0\n",
      "reduced prices: 0\n",
      "[]\n",
      "---------------\n"
     ]
    },
    {
     "name": "stderr",
     "output_type": "stream",
     "text": [
      "/var/folders/9z/sjrbpv9j1996t3_4wv3ry65c0000gn/T/ipykernel_98632/3146571461.py:83: FutureWarning: The frame.append method is deprecated and will be removed from pandas in a future version. Use pandas.concat instead.\n",
      "  df_aggregated=df_aggregated.append(df)\n"
     ]
    },
    {
     "name": "stdout",
     "output_type": "stream",
     "text": [
      "chile\n",
      "https://www.i-d-s.com/dubai/wine/wines-by-country/chile.html?p=1\n",
      "name: 12\n",
      "['Primus Cabernet Sauvignon, Maipo Valley', 'Primus Carmenere, Maipo Valley', 'Lapostolle Cuvee Alexandre Chardonnay', 'Lapostolle Cuvee Alexandre Cabernet Sauvignon', 'Montes Limited Selection Sauvignon Blanc', 'Montes Outer Limits, Zapallar Sauvignon Blanc', 'Montes Alpha Merlot, Colchagua', 'Montes Alpha Carmenère , Colchagua', 'Montes Alpha Syrah', 'Montes Outer Limits Zapallar Coast Pinot Noir', 'Chateau Los Boldos Tradition Reserve Carmenère, Cachapoal Valley', 'Chateau Los Boldos Tradition Reserve Chardonnay, Cachapoal Valley']\n",
      "url_product: 12\n",
      "['https://www.i-d-s.com/dubai/primus-cabernet-sauvignon-maipo-valley-ch2007.html', 'https://www.i-d-s.com/dubai/primus-carmenere-maipo-valley-ch2008.html', 'https://www.i-d-s.com/dubai/lapostolle-cuvee-alexandre-chardonnay-ch2039.html', 'https://www.i-d-s.com/dubai/lapostolle-cuvee-alexandre-cabernet-sauvignon-ch2043.html', 'https://www.i-d-s.com/dubai/montes-limited-selection-sauvignon-blanc-ch4008.html', 'https://www.i-d-s.com/dubai/montes-outer-limits-zapallar-sauvignon-blanc-ch4009.html', 'https://www.i-d-s.com/dubai/montes-alpha-merlot-colchagua-ch4014.html', 'https://www.i-d-s.com/dubai/montes-alpha-carmen-re-colchagua-ch4016.html', 'https://www.i-d-s.com/dubai/montes-alpha-syrah-ch4018.html', 'https://www.i-d-s.com/dubai/montes-outer-limits-zapallar-coast-pinot-noir-ch4020.html', 'https://www.i-d-s.com/dubai/chateau-los-boldos-tradition-reserve-carmen-re-cachapoal-valley-ch4028.html', 'https://www.i-d-s.com/dubai/chateau-los-boldos-tradition-reserve-chardonnay-cachapoal-valley-ch4029.html']\n",
      "prices: 12\n",
      "reduced prices: 12\n",
      "['17.80', '19.85', '19.68', '23.95', '7.25', '9.50', '7.50', '7.55', '9.70', '13.25', '5.10', '5.75']\n",
      "https://www.i-d-s.com/dubai/wine/wines-by-country/chile.html?p=2\n"
     ]
    },
    {
     "name": "stderr",
     "output_type": "stream",
     "text": [
      "/var/folders/9z/sjrbpv9j1996t3_4wv3ry65c0000gn/T/ipykernel_98632/3146571461.py:83: FutureWarning: The frame.append method is deprecated and will be removed from pandas in a future version. Use pandas.concat instead.\n",
      "  df_aggregated=df_aggregated.append(df)\n"
     ]
    },
    {
     "name": "stdout",
     "output_type": "stream",
     "text": [
      "name: 12\n",
      "['Chateau Los Boldos Tradition Reserve Merlot, Cachapoal Valley', 'Lapostelle Apalta Single Vineyard', 'Sierra Grande Sauvignon Blanc', 'Cono Sur Bicicleta Chardonnay', 'Casa Silva, Reserva Sauvignon Gris', 'Casa Silva, Cool Coast Sauvignon Blanc', 'Morandé Adventure, Vigno Carignan', 'Casa Silva, Cool Coast Pinot Noir', 'Casillero del Diablo, Sauvignon Blanc', 'Casillero del Diablo Shiraz Rosé', 'Sierra Grande Cabernet Sauvignon', 'Casillero del Diablo Carménère']\n",
      "url_product: 12\n",
      "['https://www.i-d-s.com/dubai/chateau-los-boldos-tradition-reserve-merlot-cachapoal-valley-ch4030.html', 'https://www.i-d-s.com/dubai/lapostelle-apalta-single-vineyard-ch4034.html', 'https://www.i-d-s.com/dubai/sierra-grande-sauvignon-blanc-ch1000.html', 'https://www.i-d-s.com/dubai/cono-sur-bicicleta-chardonnay-ch1001.html', 'https://www.i-d-s.com/dubai/casa-silva-reserva-sauvignon-gris-ch1003.html', 'https://www.i-d-s.com/dubai/casa-silva-cool-coast-sauvignon-blanc-ch1004.html', 'https://www.i-d-s.com/dubai/morand-adventure-vigno-carignan-ch1018.html', 'https://www.i-d-s.com/dubai/casa-silva-cool-coast-pinot-noir-ch1009.html', 'https://www.i-d-s.com/dubai/casillero-del-diablo-sauvignon-blanc-ch1011.html', 'https://www.i-d-s.com/dubai/casillero-del-diablo-shiraz-ros-ch1012.html', 'https://www.i-d-s.com/dubai/sierra-grande-cabernet-sauvignon-ch1013.html', 'https://www.i-d-s.com/dubai/casillero-del-diablo-carm-n-re-ch1014.html']\n",
      "prices: 12\n",
      "reduced prices: 12\n",
      "['5.40', '10.65', '6.70', '6.30', '10.18', '10.30', '15.32', '10.10', '8.70', '8.70', '7.20', '7.75']\n",
      "https://www.i-d-s.com/dubai/wine/wines-by-country/chile.html?p=3\n"
     ]
    },
    {
     "name": "stderr",
     "output_type": "stream",
     "text": [
      "/var/folders/9z/sjrbpv9j1996t3_4wv3ry65c0000gn/T/ipykernel_98632/3146571461.py:83: FutureWarning: The frame.append method is deprecated and will be removed from pandas in a future version. Use pandas.concat instead.\n",
      "  df_aggregated=df_aggregated.append(df)\n"
     ]
    },
    {
     "name": "stdout",
     "output_type": "stream",
     "text": [
      "name: 4\n",
      "['Casillero Del Diablo, Cabernet Sauvignon', 'Sierra Grande Pinot Noir', 'Morandé, Cabernet Sauvignon Gran Reserva', 'Cono Sur Bicicleta Pinot Noir']\n",
      "url_product: 4\n",
      "['https://www.i-d-s.com/dubai/casillero-del-diablo-cabernet-sauvignon-ch1015.html', 'https://www.i-d-s.com/dubai/sierra-grande-pinot-noir-ch1017.html', 'https://www.i-d-s.com/dubai/morand-cabernet-sauvignon-gran-reserva-ch1019.html', 'https://www.i-d-s.com/dubai/cono-sur-bicicleta-pinot-noir-ch1156.html']\n",
      "prices: 4\n",
      "reduced prices: 4\n",
      "['8.70', '7.20', '19.10', '6.80']\n",
      "https://www.i-d-s.com/dubai/wine/wines-by-country/chile.html?p=4\n"
     ]
    },
    {
     "name": "stderr",
     "output_type": "stream",
     "text": [
      "/var/folders/9z/sjrbpv9j1996t3_4wv3ry65c0000gn/T/ipykernel_98632/3146571461.py:83: FutureWarning: The frame.append method is deprecated and will be removed from pandas in a future version. Use pandas.concat instead.\n",
      "  df_aggregated=df_aggregated.append(df)\n"
     ]
    },
    {
     "name": "stdout",
     "output_type": "stream",
     "text": [
      "name: 0\n",
      "[]\n",
      "url_product: 0\n",
      "[]\n",
      "prices: 0\n",
      "reduced prices: 0\n",
      "[]\n",
      "---------------\n"
     ]
    },
    {
     "name": "stderr",
     "output_type": "stream",
     "text": [
      "/var/folders/9z/sjrbpv9j1996t3_4wv3ry65c0000gn/T/ipykernel_98632/3146571461.py:83: FutureWarning: The frame.append method is deprecated and will be removed from pandas in a future version. Use pandas.concat instead.\n",
      "  df_aggregated=df_aggregated.append(df)\n"
     ]
    },
    {
     "name": "stdout",
     "output_type": "stream",
     "text": [
      "new_zealand\n",
      "https://www.i-d-s.com/dubai/wine/wines-by-country/new-zealand.html?p=1\n",
      "name: 12\n",
      "['Greywacke Sauvignon Blanc Magnum (1.5L)', 'Kim Crawfords, `Spitfire` Small Parcels Marlborough Sauvignon Blanc', 'Kim Crawford Pinot Noir', 'Kim Crawford Sauvignon Blanc', 'Ata Rangi Pinot Noir', \"Ata Rangi `Lismore' Pinot Gris\", 'MOKO Black Sauvignon Blanc', 'Oyster Bay Chardonnay', 'Oyster Bay Sauvignon Blanc', 'Villa Maria Private Bin East Coast Chardonnay', 'Cloudy Bay Sauvignon Blanc', 'Spy Valley Marlborough Sauvignon Blanc']\n",
      "url_product: 12\n",
      "['https://www.i-d-s.com/dubai/greywacke-sauvignon-blanc-magnum-1-5l-nz4012.html', 'https://www.i-d-s.com/dubai/kim-crawfords-spitfire-small-parcels-marlborough-sauvignon-blanc-nz4017.html', 'https://www.i-d-s.com/dubai/kim-crawford-pinot-noir-nz2009.html', 'https://www.i-d-s.com/dubai/kim-crawford-sauvignon-blanc-nz3002.html', 'https://www.i-d-s.com/dubai/ata-rangi-pinot-noir-nz4018.html', 'https://www.i-d-s.com/dubai/ata-rangi-lismore-pinot-gris-nz4015.html', 'https://www.i-d-s.com/dubai/moko-black-sauvignon-blanc-nz1000.html', 'https://www.i-d-s.com/dubai/oyster-bay-chardonnay-nz1004.html', 'https://www.i-d-s.com/dubai/oyster-bay-sauvignon-blanc-nz1005.html', 'https://www.i-d-s.com/dubai/villa-maria-private-bin-east-coast-chardonnay-nz1007.html', 'https://www.i-d-s.com/dubai/cloudy-bay-sauvignon-blanc-nz1006.html', 'https://www.i-d-s.com/dubai/spy-valley-marlborough-sauvignon-blanc-nz1025.html']\n",
      "prices: 12\n",
      "reduced prices: 12\n",
      "['21.70', '12.40', '26.10', '16.80', '87.65', '21.57', '12.90', '13.15', '13.15', '14.90', '32.30', '20.75']\n",
      "https://www.i-d-s.com/dubai/wine/wines-by-country/new-zealand.html?p=2\n"
     ]
    },
    {
     "name": "stderr",
     "output_type": "stream",
     "text": [
      "/var/folders/9z/sjrbpv9j1996t3_4wv3ry65c0000gn/T/ipykernel_98632/3146571461.py:83: FutureWarning: The frame.append method is deprecated and will be removed from pandas in a future version. Use pandas.concat instead.\n",
      "  df_aggregated=df_aggregated.append(df)\n"
     ]
    },
    {
     "name": "stdout",
     "output_type": "stream",
     "text": [
      "name: 12\n",
      "['Framingham Marlborough Classic Riesling', 'Framingham Marlborough Pinot Gris', 'Tinpot Hut Pinot Gris', 'Tinpot Hut Sauvignon Blanc', 'Tinpot Hut `McKee Vineyard` Grüner Veltliner', 'Greywacke Pinot Gris', 'Greywacke Wild Sauvignon', 'Greywacke Chardonnay', 'Tinpot Hut Pinot Noir', \"Ata Rangi `Crimson' Pinot Noir\", 'Burn Cottage Vineyard, Pinot Noir Central Otago', 'Cloudy Bay Pinot Noir']\n",
      "url_product: 12\n",
      "['https://www.i-d-s.com/dubai/framingham-marlborough-classic-riesling-nz4005.html', 'https://www.i-d-s.com/dubai/framingham-marlborough-pinot-gris-nz4006.html', 'https://www.i-d-s.com/dubai/tinpot-hut-pinot-gris-nz4002.html', 'https://www.i-d-s.com/dubai/tinpot-hut-sauvignon-blanc-nz4003.html', 'https://www.i-d-s.com/dubai/tinpot-hut-mckee-vineyard-gr-ner-veltliner-nz4004.html', 'https://www.i-d-s.com/dubai/greywacke-pinot-gris-nz4009.html', 'https://www.i-d-s.com/dubai/greywacke-wild-sauvignon-nz4010.html', 'https://www.i-d-s.com/dubai/greywacke-chardonnay-nz4011.html', 'https://www.i-d-s.com/dubai/tinpot-hut-pinot-noir-nz4014.html', 'https://www.i-d-s.com/dubai/ata-rangi-crimson-pinot-noir-nz4016.html', 'https://www.i-d-s.com/dubai/burn-cottage-vineyard-pinot-noir-central-otago-nz4025.html', 'https://www.i-d-s.com/dubai/cloudy-bay-pinot-noir-nz2010.html']\n",
      "prices: 12\n",
      "reduced prices: 12\n",
      "['21.85', '20.75', '16.20', '16.90', '20.25', '28.20', '15.65', '40.35', '22.85', '35.50', '65.65', '35.45']\n",
      "https://www.i-d-s.com/dubai/wine/wines-by-country/new-zealand.html?p=3\n"
     ]
    },
    {
     "name": "stderr",
     "output_type": "stream",
     "text": [
      "/var/folders/9z/sjrbpv9j1996t3_4wv3ry65c0000gn/T/ipykernel_98632/3146571461.py:83: FutureWarning: The frame.append method is deprecated and will be removed from pandas in a future version. Use pandas.concat instead.\n",
      "  df_aggregated=df_aggregated.append(df)\n"
     ]
    },
    {
     "name": "stdout",
     "output_type": "stream",
     "text": [
      "name: 12\n",
      "['Trinity Hill, Hawkes Bay Chardonnay', 'Greywacke Marlborough Riesling', 'Matua Valley Sauvignon Blanc', 'Sileni Estates ‘The Lodge’ Grand Reserve Chardonnay, Hawke’s Bay', 'The Trinity, Trinity Hill, Hawkes Bay', 'Villa Maria Private Bin Dry Riesling', 'Villa Maria Private Bin Sauvignon Blanc', 'Villa Maria Blush Sauvignon Blanc Rosé', 'MOKO Black Pinot Noir', 'Matua Valley Pinot Noir', 'Oyster Bay Merlot', 'Villa Maria Private Bin Pinot Noir']\n",
      "url_product: 12\n",
      "['https://www.i-d-s.com/dubai/trinity-hill-hawkes-bay-chardonnay-nz1030.html', 'https://www.i-d-s.com/dubai/greywacke-marlborough-riesling-nz1031.html', 'https://www.i-d-s.com/dubai/matua-valley-sauvignon-blanc-nz1001.html', 'https://www.i-d-s.com/dubai/sileni-estates-the-lodge-grand-reserve-chardonnay-hawke-s-bay-nz1002.html', 'https://www.i-d-s.com/dubai/the-trinity-trinity-hill-hawkes-bay-nz1003.html', 'https://www.i-d-s.com/dubai/villa-maria-private-bin-dry-riesling-nz1008.html', 'https://www.i-d-s.com/dubai/villa-maria-private-bin-sauvignon-blanc-nz1009.html', 'https://www.i-d-s.com/dubai/villa-maria-blush-sauvignon-blanc-rose-nz1010.html', 'https://www.i-d-s.com/dubai/moko-black-pinot-noir-nz1012.html', 'https://www.i-d-s.com/dubai/matua-valley-pinot-noir-nz1013.html', 'https://www.i-d-s.com/dubai/oyster-bay-merlot-nz1014.html', 'https://www.i-d-s.com/dubai/villa-maria-private-bin-pinot-noir-nz1015.html']\n",
      "prices: 12\n",
      "reduced prices: 12\n",
      "['19.35', '27.90', '15.65', '20.60', '20.15', '14.90', '16.00', '16.25', '15.75', '15.45', '13.15', '19.75']\n",
      "https://www.i-d-s.com/dubai/wine/wines-by-country/new-zealand.html?p=4\n"
     ]
    },
    {
     "name": "stderr",
     "output_type": "stream",
     "text": [
      "/var/folders/9z/sjrbpv9j1996t3_4wv3ry65c0000gn/T/ipykernel_98632/3146571461.py:83: FutureWarning: The frame.append method is deprecated and will be removed from pandas in a future version. Use pandas.concat instead.\n",
      "  df_aggregated=df_aggregated.append(df)\n"
     ]
    },
    {
     "name": "stdout",
     "output_type": "stream",
     "text": [
      "name: 2\n",
      "['Villa Maria Cellar Selection Pinot Noir', 'Oyster Bay Sparkling Cuvée Brut']\n",
      "url_product: 2\n",
      "['https://www.i-d-s.com/dubai/villa-maria-cellar-selection-pinot-noir-nz1016.html', 'https://www.i-d-s.com/dubai/oyster-bay-sparkling-cuv-e-brut-sw1030.html']\n",
      "prices: 2\n",
      "reduced prices: 2\n",
      "['4.85', '14.80']\n",
      "https://www.i-d-s.com/dubai/wine/wines-by-country/new-zealand.html?p=5\n"
     ]
    },
    {
     "name": "stderr",
     "output_type": "stream",
     "text": [
      "/var/folders/9z/sjrbpv9j1996t3_4wv3ry65c0000gn/T/ipykernel_98632/3146571461.py:83: FutureWarning: The frame.append method is deprecated and will be removed from pandas in a future version. Use pandas.concat instead.\n",
      "  df_aggregated=df_aggregated.append(df)\n"
     ]
    },
    {
     "name": "stdout",
     "output_type": "stream",
     "text": [
      "name: 0\n",
      "[]\n",
      "url_product: 0\n",
      "[]\n",
      "prices: 0\n",
      "reduced prices: 0\n",
      "[]\n"
     ]
    },
    {
     "name": "stderr",
     "output_type": "stream",
     "text": [
      "/var/folders/9z/sjrbpv9j1996t3_4wv3ry65c0000gn/T/ipykernel_98632/3146571461.py:83: FutureWarning: The frame.append method is deprecated and will be removed from pandas in a future version. Use pandas.concat instead.\n",
      "  df_aggregated=df_aggregated.append(df)\n"
     ]
    },
    {
     "name": "stdout",
     "output_type": "stream",
     "text": [
      "---------------\n",
      "south_africa\n",
      "https://www.i-d-s.com/dubai/wine/wines-by-country/south-africa.html?p=1\n",
      "name: 12\n",
      "['Elgin Vintners Sauvignon Blanc', 'Elgin Vintners Merlot', 'Elgin Vintners Pinot Noir', 'Cloof Pinotage', 'Front Row Chenin Blanc/Roussanne', 'Bellingham The Homestead Series Chenin Blanc', 'Bellingham The Homestead Series Sauvignon Blanc', 'Bellingham The Homestead Series Chardonnay', \"Babylon's Peak Viognier/Roussanne\", 'Cloof Inkspot', \"Babylon's Peak Shiraz/Carignan\", 'Bellingham The Homestead Series Shiraz']\n",
      "url_product: 12\n",
      "['https://www.i-d-s.com/dubai/elgin-vintners-sauvignon-blanc-za4076.html', 'https://www.i-d-s.com/dubai/elgin-vintners-merlot-za4078.html', 'https://www.i-d-s.com/dubai/elgin-vintners-pinot-noir-za4079.html', 'https://www.i-d-s.com/dubai/cloof-pinotage-za4061.html', 'https://www.i-d-s.com/dubai/front-row-chenin-blanc-roussanne-za4024.html', 'https://www.i-d-s.com/dubai/bellingham-the-homestead-series-chenin-blanc-za4034.html', 'https://www.i-d-s.com/dubai/bellingham-the-homestead-series-sauvignon-blanc-za4035.html', 'https://www.i-d-s.com/dubai/bellingham-the-homestead-series-chardonnay-za4036.html', 'https://www.i-d-s.com/dubai/babylon-s-peak-viognier-roussanne-za4042.html', 'https://www.i-d-s.com/dubai/cloof-inkspot-za4053.html', 'https://www.i-d-s.com/dubai/babylon-s-peak-shiraz-carignan-za4058.html', 'https://www.i-d-s.com/dubai/bellingham-the-homestead-series-shiraz-za4063.html']\n",
      "prices: 12\n",
      "reduced prices: 12\n",
      "['8.65', '13.05', '13.80', '8.70', '6.55', '7.05', '7.05', '7.05', '9.65', '5.90', '7.30', '7.10']\n",
      "https://www.i-d-s.com/dubai/wine/wines-by-country/south-africa.html?p=2\n"
     ]
    },
    {
     "name": "stderr",
     "output_type": "stream",
     "text": [
      "/var/folders/9z/sjrbpv9j1996t3_4wv3ry65c0000gn/T/ipykernel_98632/3146571461.py:83: FutureWarning: The frame.append method is deprecated and will be removed from pandas in a future version. Use pandas.concat instead.\n",
      "  df_aggregated=df_aggregated.append(df)\n"
     ]
    },
    {
     "name": "stdout",
     "output_type": "stream",
     "text": [
      "name: 12\n",
      "['Cloof Very Sexy Shiraz', 'Buitenverwachting, Buiten Blanc', 'Buitenverwachting Sauvignon Blanc', 'Buitenverwachting Chardonnay', 'Neil Joubert Patrysbult Pinotage', 'Kleinkoof Pinotage', 'Fairview Pinotage, Paarl', 'Peacock Wild Ferment Cabernet Sauvignon, Stellenbosch', 'The Spice Route Mourvèdre, Swartland', 'The Spice Route `The Amos Block` Sauvignon Blanc, Swartland', 'Spice Route Grenache , Swartland', 'Spice Route Pinotage ,Swartland']\n",
      "url_product: 12\n",
      "['https://www.i-d-s.com/dubai/cloof-very-sexy-shiraz-za4064.html', 'https://www.i-d-s.com/dubai/buitenverwachting-buiten-blanc-za4026.html', 'https://www.i-d-s.com/dubai/buitenverwachting-sauvignon-blanc-za4030.html', 'https://www.i-d-s.com/dubai/buitenverwachting-chardonnay-za4039.html', 'https://www.i-d-s.com/dubai/neil-joubert-patrysbult-pinotage-za4012.html', 'https://www.i-d-s.com/dubai/kleinkoof-pinotage-za4013.html', 'https://www.i-d-s.com/dubai/fairview-pinotage-paarl-za4066.html', 'https://www.i-d-s.com/dubai/peacock-wild-ferment-cabernet-sauvignon-stellenbosch-za4054.html', 'https://www.i-d-s.com/dubai/the-spice-route-mourv-dre-swartland-za4059.html', 'https://www.i-d-s.com/dubai/the-spice-route-the-amos-block-sauvignon-blanc-swartland-za4038.html', 'https://www.i-d-s.com/dubai/spice-route-grenache-swartland-za4060.html', 'https://www.i-d-s.com/dubai/spice-route-pinotage-swartland-za4065.html']\n",
      "prices: 12\n",
      "reduced prices: 12\n",
      "['8.75', '5.95', '7.80', '9.65', '5.35', '5.95', '8.45', '5.50', '9.00', '7.35', '8.65', '9.55']\n",
      "https://www.i-d-s.com/dubai/wine/wines-by-country/south-africa.html?p=3\n"
     ]
    },
    {
     "name": "stderr",
     "output_type": "stream",
     "text": [
      "/var/folders/9z/sjrbpv9j1996t3_4wv3ry65c0000gn/T/ipykernel_98632/3146571461.py:83: FutureWarning: The frame.append method is deprecated and will be removed from pandas in a future version. Use pandas.concat instead.\n",
      "  df_aggregated=df_aggregated.append(df)\n"
     ]
    },
    {
     "name": "stdout",
     "output_type": "stream",
     "text": [
      "name: 12\n",
      "['Appellation Series Syrah, Boekenhoutskloof, Swartland', 'Lievland Bush Vine, Pinotage', 'Ernie Els Big Easy Red Blend', 'Waterkloof Seriously Cool Cinsault', 'Drostdy Hof Premium Grand Cru', 'Nederburg Private Collection Pinotage', 'Mooiplaas The Coco Merlot', \"Mooiplaas 'The Bean' Pinotage\", 'KWV Chardonnay', 'KWV Sauvignon Blanc', 'Front Row Shiraz/Mourvèdre/Viognier, Swartland', \"Babylon's Peak Shiraz-Mourvedre-Grenache SMG\"]\n",
      "url_product: 12\n",
      "['https://www.i-d-s.com/dubai/appellation-series-syrah-boekenhoutskloof-swartland-za4069.html', 'https://www.i-d-s.com/dubai/lievland-bush-vine-pinotage-za4067.html', 'https://www.i-d-s.com/dubai/ernie-els-big-easy-red-blend-za2017.html', 'https://www.i-d-s.com/dubai/waterkloof-seriously-cool-cinsault-za2029.html', 'https://www.i-d-s.com/dubai/drostdy-hof-premium-grand-cru-wb1001.html', 'https://www.i-d-s.com/dubai/nederburg-private-collection-pinotage-za2009.html', 'https://www.i-d-s.com/dubai/mooiplaas-the-coco-merlot-za1015.html', 'https://www.i-d-s.com/dubai/mooiplaas-the-bean-pinotage-za1014.html', 'https://www.i-d-s.com/dubai/kwv-chardonnay-za1010.html', 'https://www.i-d-s.com/dubai/kwv-sauvignon-blanc-za1011.html', 'https://www.i-d-s.com/dubai/front-row-shiraz-mourv-dre-viognier-swartland-za4052.html', 'https://www.i-d-s.com/dubai/babylon-s-peak-shiraz-mourvedre-grenache-smg-za4071.html']\n",
      "prices: 12\n",
      "reduced prices: 12\n",
      "['9.20', '13.35', '19.45', '17.20', '76.40', '9.87', '8.75', '8.75', '6.95', '6.95', '8.95', '17.40']\n",
      "https://www.i-d-s.com/dubai/wine/wines-by-country/south-africa.html?p=4\n"
     ]
    },
    {
     "name": "stderr",
     "output_type": "stream",
     "text": [
      "/var/folders/9z/sjrbpv9j1996t3_4wv3ry65c0000gn/T/ipykernel_98632/3146571461.py:83: FutureWarning: The frame.append method is deprecated and will be removed from pandas in a future version. Use pandas.concat instead.\n",
      "  df_aggregated=df_aggregated.append(df)\n"
     ]
    },
    {
     "name": "stdout",
     "output_type": "stream",
     "text": [
      "name: 12\n",
      "['Fairview `The Beacon`Shiraz, Swartland', 'Elgin Vintners Chardonnay', 'Coterie Cabernet Franc Malbec', 'ROSE Coterie Cinsault Rosé', 'Coterie Semillon Sauvignon Blanc', 'Lanzerac Pinotage Rosé', 'Mooiplaas Pinotage', \"Nederburg The Winemaster's Sauvignon Blanc\", \"Nederburg The Winemaster's Chardonnay\", 'Mooiplaas The Peach Chenin Blanc', 'KWV Chenin Blanc', 'Mooiplaas Cabernet Sauvignon']\n",
      "url_product: 12\n",
      "['https://www.i-d-s.com/dubai/fairview-the-beacon-shiraz-swartland-za4074.html', 'https://www.i-d-s.com/dubai/elgin-vintners-chardonnay-za4077.html', 'https://www.i-d-s.com/dubai/coterie-cabernet-franc-malbec-za1071.html', 'https://www.i-d-s.com/dubai/rose-coterie-cinsault-ros-za1070.html', 'https://www.i-d-s.com/dubai/coterie-semillon-sauvignon-blanc-za1069.html', 'https://www.i-d-s.com/dubai/lanzerac-pinotage-rose-za1064.html', 'https://www.i-d-s.com/dubai/mooiplaas-pinotage-za1053.html', 'https://www.i-d-s.com/dubai/nederburg-sauvignon-blanc-za1003.html', 'https://www.i-d-s.com/dubai/nederburg-the-winemaster-chardonnay-za1004.html', 'https://www.i-d-s.com/dubai/mooiplaas-the-peach-white-blend-za1008.html', 'https://www.i-d-s.com/dubai/kwv-chenin-blanc-za1012.html', 'https://www.i-d-s.com/dubai/mooiplaas-cabernet-sauvignon-za1017.html']\n",
      "prices: 12\n",
      "reduced prices: 12\n",
      "['23.37', '12.25', '13.75', '15.85', '13.75', '10.50', '13.35', '8.55', '8.55', '7.85', '6.95', '14.75']\n",
      "https://www.i-d-s.com/dubai/wine/wines-by-country/south-africa.html?p=5\n"
     ]
    },
    {
     "name": "stderr",
     "output_type": "stream",
     "text": [
      "/var/folders/9z/sjrbpv9j1996t3_4wv3ry65c0000gn/T/ipykernel_98632/3146571461.py:83: FutureWarning: The frame.append method is deprecated and will be removed from pandas in a future version. Use pandas.concat instead.\n",
      "  df_aggregated=df_aggregated.append(df)\n"
     ]
    },
    {
     "name": "stdout",
     "output_type": "stream",
     "text": [
      "name: 8\n",
      "['Boekenhouskloof The Chocolate Block', 'KWV Cabernet Sauvignon', 'KWV Pinotage', \"Nederburg The Winemaster's Pinotage\", \"Nederburg The Winemaster's Cabernet Sauvignon\", \"Nederburg The Winemaster's  Shiraz \", 'Nederburg Winemasters Merlot', 'Nederburg Private Collection Shiraz']\n",
      "url_product: 8\n",
      "['https://www.i-d-s.com/dubai/boekenhouskloof-the-chocolate-block-za1020.html', 'https://www.i-d-s.com/dubai/kwv-cabernet-sauvignon-za1025.html', 'https://www.i-d-s.com/dubai/kwv-pinotage-za1026.html', 'https://www.i-d-s.com/dubai/nederburg-pinotage-za1027.html', 'https://www.i-d-s.com/dubai/nederburg-cabernet-sauvignon-za1028.html', 'https://www.i-d-s.com/dubai/nederburg-shiraz-za1029.html', 'https://www.i-d-s.com/dubai/nederburg-merlot-za1030.html', 'https://www.i-d-s.com/dubai/nederburg-private-collection-shiraz-za1032.html']\n",
      "prices: 8\n",
      "reduced prices: 8\n",
      "['38.55', '7.10', '7.10', '9.00', '9.15', '9.15', '9.15', '11.95']\n",
      "https://www.i-d-s.com/dubai/wine/wines-by-country/south-africa.html?p=6\n"
     ]
    },
    {
     "name": "stderr",
     "output_type": "stream",
     "text": [
      "/var/folders/9z/sjrbpv9j1996t3_4wv3ry65c0000gn/T/ipykernel_98632/3146571461.py:83: FutureWarning: The frame.append method is deprecated and will be removed from pandas in a future version. Use pandas.concat instead.\n",
      "  df_aggregated=df_aggregated.append(df)\n"
     ]
    },
    {
     "name": "stdout",
     "output_type": "stream",
     "text": [
      "name: 0\n",
      "[]\n",
      "url_product: 0\n",
      "[]\n",
      "prices: 0\n",
      "reduced prices: 0\n",
      "[]\n"
     ]
    },
    {
     "name": "stderr",
     "output_type": "stream",
     "text": [
      "/var/folders/9z/sjrbpv9j1996t3_4wv3ry65c0000gn/T/ipykernel_98632/3146571461.py:83: FutureWarning: The frame.append method is deprecated and will be removed from pandas in a future version. Use pandas.concat instead.\n",
      "  df_aggregated=df_aggregated.append(df)\n"
     ]
    },
    {
     "name": "stdout",
     "output_type": "stream",
     "text": [
      "---------------\n",
      "uk\n",
      "https://www.i-d-s.com/dubai/wine/wines-by-country/united-kingdom.html?p=1\n",
      "name: 12\n",
      "['Nyetimber Rosé', 'Henners Native Grace Chardonnay 2018', 'Sharpham Dart Valley Reserve', 'Henners Gardner Street Classic', 'Bolney Lychgate Bacchus', 'Bolney Winemaker’s Edition Red', 'Sharpham Estate Little Bee Wild Ferment Pinot Gris', 'Sharpham Estate Pinot Gris , Devon', 'Bolney Estate Pinot Gris', 'Bolney Bubbly Sparkling', 'Nyetimber Classic Cuvee Multi-Vintage', 'Nyetimber Blanc de Blancs']\n",
      "url_product: 12\n",
      "['https://www.i-d-s.com/dubai/nyetimber-ros-sw4057.html', 'https://www.i-d-s.com/dubai/henners-native-grace-chardonnay-2018-en2000.html', 'https://www.i-d-s.com/dubai/sharpham-dart-valley-reserve-gb3002.html', 'https://www.i-d-s.com/dubai/henners-gardner-street-classic-gb4002.html', 'https://www.i-d-s.com/dubai/bolney-lychgate-bacchus-gb3007.html', 'https://www.i-d-s.com/dubai/bolney-winemaker-s-edition-red-gb3006.html', 'https://www.i-d-s.com/dubai/sharpham-estate-little-bee-wild-ferment-pinot-gris-gb1006.html', 'https://www.i-d-s.com/dubai/sharpham-estate-pinot-gris-devon-gb3001.html', 'https://www.i-d-s.com/dubai/bolney-estate-pinot-gris-gb3000.html', 'https://www.i-d-s.com/dubai/bolney-bubbly-sparkling-sw1037.html', 'https://www.i-d-s.com/dubai/nyetimber-classic-cuvee-multi-vintage-sw1038.html', 'https://www.i-d-s.com/dubai/nyetimber-blanc-de-blancs-sw4058.html']\n",
      "prices: 12\n",
      "reduced prices: 12\n",
      "['55.45', '26.05', '11.48', '17.20', '23.25', '26.55', '21.85', '23.65', '16.20', '37.10', '31.54', '44.99']\n",
      "https://www.i-d-s.com/dubai/wine/wines-by-country/united-kingdom.html?p=2\n"
     ]
    },
    {
     "name": "stderr",
     "output_type": "stream",
     "text": [
      "/var/folders/9z/sjrbpv9j1996t3_4wv3ry65c0000gn/T/ipykernel_98632/3146571461.py:83: FutureWarning: The frame.append method is deprecated and will be removed from pandas in a future version. Use pandas.concat instead.\n",
      "  df_aggregated=df_aggregated.append(df)\n"
     ]
    },
    {
     "name": "stdout",
     "output_type": "stream",
     "text": [
      "name: 5\n",
      "['Chapel Down Classic Non-Vintage Brut', 'Chapel Down English Sparkling Rosé', 'Henners Brut, Sussex', 'Rathfinny Cradle Valley, Pinot Blanc', 'Litmus Red Pinot 2018']\n",
      "url_product: 5\n",
      "['https://www.i-d-s.com/dubai/chapel-down-classic-non-vintage-brut-sw1047.html', 'https://www.i-d-s.com/dubai/chapel-down-english-rose-nv-sw1048.html', 'https://www.i-d-s.com/dubai/henners-brut-sussex-sw3002.html', 'https://www.i-d-s.com/dubai/rathfinny-cradle-valley-pinot-blanc-gb1005.html', 'https://www.i-d-s.com/dubai/litmus-red-pinot-2018-gb4003.html']\n",
      "prices: 5\n",
      "reduced prices: 5\n",
      "['32.35', '32.35', '41.65', '13.22', '40.75']\n",
      "https://www.i-d-s.com/dubai/wine/wines-by-country/united-kingdom.html?p=3\n"
     ]
    },
    {
     "name": "stderr",
     "output_type": "stream",
     "text": [
      "/var/folders/9z/sjrbpv9j1996t3_4wv3ry65c0000gn/T/ipykernel_98632/3146571461.py:83: FutureWarning: The frame.append method is deprecated and will be removed from pandas in a future version. Use pandas.concat instead.\n",
      "  df_aggregated=df_aggregated.append(df)\n"
     ]
    },
    {
     "name": "stdout",
     "output_type": "stream",
     "text": [
      "name: 0\n",
      "[]\n",
      "url_product: 0\n",
      "[]\n",
      "prices: 0\n",
      "reduced prices: 0\n",
      "[]\n",
      "---------------\n"
     ]
    },
    {
     "name": "stderr",
     "output_type": "stream",
     "text": [
      "/var/folders/9z/sjrbpv9j1996t3_4wv3ry65c0000gn/T/ipykernel_98632/3146571461.py:83: FutureWarning: The frame.append method is deprecated and will be removed from pandas in a future version. Use pandas.concat instead.\n",
      "  df_aggregated=df_aggregated.append(df)\n"
     ]
    },
    {
     "name": "stdout",
     "output_type": "stream",
     "text": [
      "usa\n",
      "https://www.i-d-s.com/dubai/wine/wines-by-country/usa.html?p=1\n",
      "name: 12\n",
      "['Bread &amp; Butter Merlot', 'Bread &amp; Butter Pinot Grigio', 'Domaine Ste. Michelle Brut Rosé', 'DeLoach, `Heritage Collection` Chardonnay', 'Fog Mountian, Cabernet Sauvignon', 'Littorai Pinot Noir, California', 'Hartford Court Russian River Valley  Pinot Noir', 'Stonestreet Estate Vineyard Cabernet Sauvignon', 'Hess Select Pinot Noir', 'Ferrari Carano Cabernet Sauvignon', 'Freemark Abbey Merlot, Napa Valley', 'Robert Mondavi Cabernet Sauvignon, Napa Valley']\n",
      "url_product: 12\n",
      "['https://www.i-d-s.com/dubai/bread-butter-merlot-us4041.html', 'https://www.i-d-s.com/dubai/bread-butter-pinot-grigio-us4037.html', 'https://www.i-d-s.com/dubai/domaine-ste-michelle-brut-ros-sw2032.html', 'https://www.i-d-s.com/dubai/deloach-heritage-collection-chardonnay-us4001.html', 'https://www.i-d-s.com/dubai/fog-mountian-cabernet-sauvignon-us4005.html', 'https://www.i-d-s.com/dubai/littorai-pinot-noir-california-us4022.html', 'https://www.i-d-s.com/dubai/hartford-court-russian-river-valley-pinot-noir-us1131.html', 'https://www.i-d-s.com/dubai/stonestreet-estate-vineyard-cabernet-sauvignon-us2010.html', 'https://www.i-d-s.com/dubai/hess-select-pinot-noir-us2040.html', 'https://www.i-d-s.com/dubai/ferrari-carano-cabernet-sauvignon-us2043.html', 'https://www.i-d-s.com/dubai/freemark-abbey-merlot-napa-valley-us2045.html', 'https://www.i-d-s.com/dubai/robert-mondavi-cabernet-sauvignon-napa-valley-us2046.html']\n",
      "prices: 12\n",
      "reduced prices: 12\n",
      "['14.20', '14.20', '17.30', '9.25', '11.45', '43.90', '61.55', '46.85', '18.35', '30.00', '30.00', '30.50']\n",
      "https://www.i-d-s.com/dubai/wine/wines-by-country/usa.html?p=2\n"
     ]
    },
    {
     "name": "stderr",
     "output_type": "stream",
     "text": [
      "/var/folders/9z/sjrbpv9j1996t3_4wv3ry65c0000gn/T/ipykernel_98632/3146571461.py:83: FutureWarning: The frame.append method is deprecated and will be removed from pandas in a future version. Use pandas.concat instead.\n",
      "  df_aggregated=df_aggregated.append(df)\n"
     ]
    },
    {
     "name": "stdout",
     "output_type": "stream",
     "text": [
      "name: 12\n",
      "[\"Stags' Leap Merlot, Napa Valley\", 'Freemark Abbey Cabernet Sauvignon, Napa Valley', 'Mt. Brave Mount Veeder Merlot', 'Mt. Brave Mount Veeder Malbec', 'La Crema Chardonnay, Monterey', 'Meiomi Pinot Noir', \"Kendall-Jackson 'Jackson Estate' Cabernet Sauvignon, Alexander Valley\", 'Kendall-Jackson Grand Reserve Cabernet Sauvignon, Sonoma/Napa', \"Hartford Court Land's Edge Vineyard Pinot Noir\", 'Hartford Court \"Jennifer\\'s Vineyard\" Russian River Chardonnay', 'Hartford Court Four Hearts Vineyard Chardonnay', 'Cambria Estate \"Julia\\'s Vineyard\" Pinot Noir']\n",
      "url_product: 12\n",
      "['https://www.i-d-s.com/dubai/stags-leap-merlot-napa-valley-us2049.html', 'https://www.i-d-s.com/dubai/freemark-abbey-cabernet-sauvignon-napa-valley-us2051.html', 'https://www.i-d-s.com/dubai/mt-brave-mount-veeder-merlot-us2054.html', 'https://www.i-d-s.com/dubai/mt-brave-mount-veeder-malbec-us2055.html', 'https://www.i-d-s.com/dubai/la-crema-chardonnay-monterey-us2062.html', 'https://www.i-d-s.com/dubai/meiomi-pinot-noir-us2092.html', 'https://www.i-d-s.com/dubai/kendall-jackson-jackson-estate-cabernet-sauvignon-alexander-valley-us2097.html', 'https://www.i-d-s.com/dubai/kendall-jackson-grand-reserve-cabernet-sauvignon-sonoma-napa-us2099.html', 'https://www.i-d-s.com/dubai/hartford-court-land-s-edge-vineyard-pinot-noir-us2100.html', 'https://www.i-d-s.com/dubai/hartford-court-jennifer-s-vineyard-russian-river-chardonnay-us2108.html', 'https://www.i-d-s.com/dubai/hartford-court-four-hearts-vineyard-chardonnay-us2109.html', 'https://www.i-d-s.com/dubai/cambria-estate-julia-s-vineyard-pinot-noir-us2111.html']\n",
      "prices: 12\n",
      "reduced prices: 12\n",
      "['55.65', '55.80', '78.60', '78.60', '19.70', '19.85', '23.50', '33.30', '57.85', '33.30', '57.45', '24.20']\n",
      "https://www.i-d-s.com/dubai/wine/wines-by-country/usa.html?p=3\n"
     ]
    },
    {
     "name": "stderr",
     "output_type": "stream",
     "text": [
      "/var/folders/9z/sjrbpv9j1996t3_4wv3ry65c0000gn/T/ipykernel_98632/3146571461.py:83: FutureWarning: The frame.append method is deprecated and will be removed from pandas in a future version. Use pandas.concat instead.\n",
      "  df_aggregated=df_aggregated.append(df)\n"
     ]
    },
    {
     "name": "stdout",
     "output_type": "stream",
     "text": [
      "name: 12\n",
      "['Hartford Zinfandel, Russian River Valley', 'Jackson Estate Chardonnay, Santa Maria Valley', 'WillaKenzie Estate Pinot Gris, Willamette Valley', 'Gran Moraine Pinot Noir, Yamhill-Carlton', 'WillaKenzie Pinot Noir, Willamette Valley', 'Browne Family Cabernet Franc', 'Murphy-Goode \"Liar\\'s Dice\" Zinfandel, Sonoma County', 'Bread &amp; Butter Chardonnay', \"Kendall-Jackson Vintner's Reserve Pinot Noir, California\", \"Kendall-Jackson Vintner's Reserve Merlot, Sonoma County\", \"Kendall-Jackson Vintner's Reserve Cabernet Sauvignon, Sonoma County\", \"Kendall-Jackson 'Jackson Estate' Pinot Noir, Anderson Valley\"]\n",
      "url_product: 12\n",
      "['https://www.i-d-s.com/dubai/hartford-zinfandel-russian-river-valley-us2114.html', 'https://www.i-d-s.com/dubai/jackson-estate-chardonnay-santa-maria-valley-us2130.html', 'https://www.i-d-s.com/dubai/willakenzie-estate-pinot-gris-willamette-valley-us2141.html', 'https://www.i-d-s.com/dubai/gran-moraine-pinot-noir-yamhill-carlton-us2145.html', 'https://www.i-d-s.com/dubai/willakenzie-pinot-noir-willamette-valley-us2146.html', 'https://www.i-d-s.com/dubai/browne-family-cabernet-franc-us2155.html', 'https://www.i-d-s.com/dubai/murphy-goode-liar-s-dice-zinfandel-sonoma-county-us2095.html', 'https://www.i-d-s.com/dubai/bread-butter-chardonnay-us1001.html', 'https://www.i-d-s.com/dubai/kendall-jackson-vintner-s-reserve-pinot-noir-california-us2007.html', 'https://www.i-d-s.com/dubai/kendall-jackson-vintner-s-reserve-merlot-california-us2200.html', 'https://www.i-d-s.com/dubai/kendall-jackson-vintner-s-reserve-cabernet-sauvignon-california-us2090.html', 'https://www.i-d-s.com/dubai/kendall-jackson-jackson-estate-pinot-noir-anderson-valley-us2074.html']\n",
      "prices: 12\n",
      "reduced prices: 12\n",
      "['46.30', '22.70', '21.50', '37.90', '27.20', '29.00', '19.13', '14.20', '13.81', '18.90', '19.05', '21.36']\n",
      "https://www.i-d-s.com/dubai/wine/wines-by-country/usa.html?p=4\n"
     ]
    },
    {
     "name": "stderr",
     "output_type": "stream",
     "text": [
      "/var/folders/9z/sjrbpv9j1996t3_4wv3ry65c0000gn/T/ipykernel_98632/3146571461.py:83: FutureWarning: The frame.append method is deprecated and will be removed from pandas in a future version. Use pandas.concat instead.\n",
      "  df_aggregated=df_aggregated.append(df)\n"
     ]
    },
    {
     "name": "stdout",
     "output_type": "stream",
     "text": [
      "name: 12\n",
      "[\"Kendall-Jackson Vintner's Reserve Zinfandel, Mendocino\", 'Murphy Goode Merlot', 'Line 39 Caberet Sauvignon', 'Line 39 Merlot', 'Line 39 Pinot Noir', 'Caymus Mer Soleil Chardonnay', 'Dark Horse Cabernet Sauvignon', 'The Prisoner Red Zinfandel Blend, Napa Valley', 'Leaping Horse Chardonnay', 'Leaping Horse Pinot Grigio', 'Leaping Horse Cabernet Sauvignon', 'Leaping Horse Merlot']\n",
      "url_product: 12\n",
      "['https://www.i-d-s.com/dubai/kendall-jackson-vintner-s-reserve-zinfandel-mendocino-us2069.html', 'https://www.i-d-s.com/dubai/murphy-goode-merlot-us1050.html', 'https://www.i-d-s.com/dubai/line-39-caberet-sauvignon-us1069.html', 'https://www.i-d-s.com/dubai/line-39-merlot-us1068.html', 'https://www.i-d-s.com/dubai/line-39-pinot-noir-us1067.html', 'https://www.i-d-s.com/dubai/caymus-mer-soleil-chardonnay-us4011.html', 'https://www.i-d-s.com/dubai/dark-horse-cabernet-sauvignon-us2233.html', 'https://www.i-d-s.com/dubai/the-prisoner-red-zinfandel-blend-napa-valley-us2047.html', 'https://www.i-d-s.com/dubai/leaping-horse-chardonnay-us1097.html', 'https://www.i-d-s.com/dubai/leaping-horse-pinot-grigio-us1096.html', 'https://www.i-d-s.com/dubai/leaping-horse-cabernet-sauvignon-us1095.html', 'https://www.i-d-s.com/dubai/leaping-horse-merlot-us1094.html']\n",
      "prices: 12\n",
      "reduced prices: 12\n",
      "['13.98', '12.30', '12.35', '12.35', '12.35', '11.45', '9.30', '38.35', '11.45', '11.45', '10.95', '11.45']\n",
      "https://www.i-d-s.com/dubai/wine/wines-by-country/usa.html?p=5\n"
     ]
    },
    {
     "name": "stderr",
     "output_type": "stream",
     "text": [
      "/var/folders/9z/sjrbpv9j1996t3_4wv3ry65c0000gn/T/ipykernel_98632/3146571461.py:83: FutureWarning: The frame.append method is deprecated and will be removed from pandas in a future version. Use pandas.concat instead.\n",
      "  df_aggregated=df_aggregated.append(df)\n"
     ]
    },
    {
     "name": "stdout",
     "output_type": "stream",
     "text": [
      "name: 12\n",
      "['Obsession Symphony-Peach', 'Obsession Red Blend', 'Obsession Rose', 'Obsession Symphony', 'Fog Mountain, Merlot', 'Caymus Conundrum White Blend', 'Barefoot Moscato', 'Barefoot Chardonnay', 'Barefoot White Zinfandel', 'Barefoot Pinot Noir', 'Barefoot Sweet Red', 'Apothic Red Cabernet Sauvignon']\n",
      "url_product: 12\n",
      "['https://www.i-d-s.com/dubai/obsession-symphony-peach-us1093.html', 'https://www.i-d-s.com/dubai/obsession-red-blend-us1092.html', 'https://www.i-d-s.com/dubai/obsession-rose-us1091.html', 'https://www.i-d-s.com/dubai/obsession-symphony-us1090.html', 'https://www.i-d-s.com/dubai/fog-mountain-merlot-us4004.html', 'https://www.i-d-s.com/dubai/caymus-conundrum-white-blend-us4031.html', 'https://www.i-d-s.com/dubai/barefoot-moscato-us2230.html', 'https://www.i-d-s.com/dubai/barefoot-chardonnay-us2207.html', 'https://www.i-d-s.com/dubai/barefoot-white-zinfandel-us2213.html', 'https://www.i-d-s.com/dubai/barefoot-pinot-noir-us2232.html', 'https://www.i-d-s.com/dubai/barefoot-sweet-red-us2222.html', 'https://www.i-d-s.com/dubai/apothic-red-cabernet-sauvignon-us2227.html']\n",
      "prices: 12\n",
      "reduced prices: 12\n",
      "['9.08', '9.08', '12.15', '9.08', '11.54', '18.80', '4.31', '4.95', '7.02', '7.00', '7.00', '12.95']\n",
      "https://www.i-d-s.com/dubai/wine/wines-by-country/usa.html?p=6\n"
     ]
    },
    {
     "name": "stderr",
     "output_type": "stream",
     "text": [
      "/var/folders/9z/sjrbpv9j1996t3_4wv3ry65c0000gn/T/ipykernel_98632/3146571461.py:83: FutureWarning: The frame.append method is deprecated and will be removed from pandas in a future version. Use pandas.concat instead.\n",
      "  df_aggregated=df_aggregated.append(df)\n"
     ]
    },
    {
     "name": "stdout",
     "output_type": "stream",
     "text": [
      "name: 12\n",
      "['Freemark Abbey Sauvignon Blanc, Napa Valley', 'La Crema Pinot Noir, Monterey', 'Kendall-Jackson Grand Reserve Pinot Noir, Anderson Valley', 'Cambria Estate \"Katherine\\'s Vineyard\" Chardonnay', 'Nielson Chardonnay, Santa Barbara', 'Byron Nielson Vineyard Chardonnay', 'Liberty Creek Chardonnay Magnum (1.5L)', 'Barefoot Bubbly Pinot Grigio', 'Ironstone Vineyards Reserve Chardonnay', 'Charles Smith Devil Merlot', 'Charles Smith Eve Chardonnay', 'Columbia Crest, Grand Estates Chardonnay']\n",
      "url_product: 12\n",
      "['https://www.i-d-s.com/dubai/freemark-abbey-sauvignon-blanc-napa-valley-us2023.html', 'https://www.i-d-s.com/dubai/la-crema-pinot-noir-monterey-us2064.html', 'https://www.i-d-s.com/dubai/kendall-jackson-grand-reserve-pinot-noir-anderson-valley-us2075.html', 'https://www.i-d-s.com/dubai/cambria-estate-katherine-s-vineyard-chardonnay-us2105.html', 'https://www.i-d-s.com/dubai/nielson-chardonnay-santa-barbara-us2119.html', 'https://www.i-d-s.com/dubai/byron-nielson-vineyard-chardonnay-us2131.html', 'https://www.i-d-s.com/dubai/liberty-creek-chardonnay-magnum-1-5l-us2202.html', 'https://www.i-d-s.com/dubai/barefoot-bubbly-pinot-grigio-sw2037.html', 'https://www.i-d-s.com/dubai/ironstone-vineyards-reserve-chardonnay-us1108.html', 'https://www.i-d-s.com/dubai/charles-smith-devil-merlot-us1054.html', 'https://www.i-d-s.com/dubai/charles-smith-eve-chardonnay-us1053.html', 'https://www.i-d-s.com/dubai/columbia-crest-grand-estates-chardonnay-us1105.html']\n",
      "prices: 12\n",
      "reduced prices: 12\n",
      "['16.05', '17.61', '22.26', '17.85', '14.16', '21.36', '9.30', '10.45', '26.50', '17.10', '19.20', '12.68']\n",
      "https://www.i-d-s.com/dubai/wine/wines-by-country/usa.html?p=7\n"
     ]
    },
    {
     "name": "stderr",
     "output_type": "stream",
     "text": [
      "/var/folders/9z/sjrbpv9j1996t3_4wv3ry65c0000gn/T/ipykernel_98632/3146571461.py:83: FutureWarning: The frame.append method is deprecated and will be removed from pandas in a future version. Use pandas.concat instead.\n",
      "  df_aggregated=df_aggregated.append(df)\n"
     ]
    },
    {
     "name": "stdout",
     "output_type": "stream",
     "text": [
      "name: 12\n",
      "['Callaway Sauvignon Blanc', 'Callaway Chardonnay', 'Line 39 Pinot Grigio', 'Columbia Crest, Grand Estates Cabernet Sauvignon', 'Columbia Crest, Two Vines Chardonnay', 'Line 39 Sauvignon Blanc', 'Line 39 Chardonnay', 'Jordan Vineyard &amp; Winery Chardonnay', 'Callaway Merlot', 'Callaway Cabernet Sauvignon', 'Line 39 Excursion Red Blend', 'Line 39 Petite Sirah']\n",
      "url_product: 12\n",
      "['https://www.i-d-s.com/dubai/callaway-sauvignon-blanc-us1060.html', 'https://www.i-d-s.com/dubai/callaway-chardonnay-us1061.html', 'https://www.i-d-s.com/dubai/line-39-pinot-grigio-us1064.html', 'https://www.i-d-s.com/dubai/columbia-crest-grand-estates-cabernet-sauvignon-us1107.html', 'https://www.i-d-s.com/dubai/columbia-crest-two-vines-chardonnay-us1104.html', 'https://www.i-d-s.com/dubai/line-39-sauvignon-blanc-us1065.html', 'https://www.i-d-s.com/dubai/line-39-chardonnay-us1066.html', 'https://www.i-d-s.com/dubai/jordan-vineyard-winery-chardonnay-us1072.html', 'https://www.i-d-s.com/dubai/callaway-merlot-us1062.html', 'https://www.i-d-s.com/dubai/callaway-cabernet-sauvignon-us1063.html', 'https://www.i-d-s.com/dubai/line-39-excursion-red-blend-us1070.html', 'https://www.i-d-s.com/dubai/line-39-petite-sirah-us1071.html']\n",
      "prices: 12\n",
      "reduced prices: 12\n",
      "['10.65', '10.65', '12.95', '15.80', '9.36', '12.05', '12.05', '23.30', '10.65', '10.65', '12.35', '12.35']\n",
      "https://www.i-d-s.com/dubai/wine/wines-by-country/usa.html?p=8\n"
     ]
    },
    {
     "name": "stderr",
     "output_type": "stream",
     "text": [
      "/var/folders/9z/sjrbpv9j1996t3_4wv3ry65c0000gn/T/ipykernel_98632/3146571461.py:83: FutureWarning: The frame.append method is deprecated and will be removed from pandas in a future version. Use pandas.concat instead.\n",
      "  df_aggregated=df_aggregated.append(df)\n"
     ]
    },
    {
     "name": "stdout",
     "output_type": "stream",
     "text": [
      "name: 12\n",
      "['Jordan Vineyard &amp; Winery Cabernet Sauvignon', \"Kendall-Jackson Vintner's Reserve Chardonnay, California\", 'Francis Ford Coppola Merlot Diamond', 'Francis Ford Coppola Diamond Collection Claret', \"Stag's Leap Wine Cellars 'Karia' Chardonnay\", 'Douglass Hill Chardonnay', 'Dark Horse Sauvignon Blanc', 'Dark Horse Chardonnay', 'Robert Mondavi Woodbridge Chardonnay', 'Wente Vineyards Morning Fog Chardonnay', 'Wente Vineyards Louis Mel Sauvignon Blanc', 'The Bulletin Zinfandel Rosé']\n",
      "url_product: 12\n",
      "['https://www.i-d-s.com/dubai/jordan-vineyard-winery-cabernet-sauvignon-us1073.html', 'https://www.i-d-s.com/dubai/kendall-jackson-vintner-s-reserve-chardonnay-california-us2001.html', 'https://www.i-d-s.com/dubai/francis-ford-coppola-merlot-diamond-us2008.html', 'https://www.i-d-s.com/dubai/francis-ford-coppola-diamond-collection-claret-us2009.html', 'https://www.i-d-s.com/dubai/stag-s-leap-wine-cellars-karia-chardonnay-us1000.html', 'https://www.i-d-s.com/dubai/douglass-hill-chardonnay-us1003.html', 'https://www.i-d-s.com/dubai/dark-horse-sauvignon-blanc-us1004.html', 'https://www.i-d-s.com/dubai/dark-horse-chardonnay-us1005.html', 'https://www.i-d-s.com/dubai/robert-mondavi-woodbridge-chardonnay-us1006.html', 'https://www.i-d-s.com/dubai/wente-vineyards-morning-fog-chardonnay-us1008.html', 'https://www.i-d-s.com/dubai/wente-vineyards-louis-mel-sauvignon-blanc-us1009.html', 'https://www.i-d-s.com/dubai/the-bulletin-zinfandel-rose-us1013.html']\n",
      "prices: 12\n",
      "reduced prices: 12\n",
      "['40.76', '11.58', '19.60', '22.70', '40.55', '8.30', '9.30', '9.30', '11.70', '13.55', '14.35', '7.05']\n",
      "https://www.i-d-s.com/dubai/wine/wines-by-country/usa.html?p=9\n"
     ]
    },
    {
     "name": "stderr",
     "output_type": "stream",
     "text": [
      "/var/folders/9z/sjrbpv9j1996t3_4wv3ry65c0000gn/T/ipykernel_98632/3146571461.py:83: FutureWarning: The frame.append method is deprecated and will be removed from pandas in a future version. Use pandas.concat instead.\n",
      "  df_aggregated=df_aggregated.append(df)\n"
     ]
    },
    {
     "name": "stdout",
     "output_type": "stream",
     "text": [
      "name: 12\n",
      "['Bread &amp; Butter Pinot Noir', 'Bread &amp; Butter Cabernet Sauvignon', 'Douglass Hill Shiraz', 'Douglass Hill Cabernet Sauvignon', 'Glen Ellen Reserve Cabernet Sauvignon', 'Cabaret Frank No.2 \"The Aviary\", Old Vine Cabernet Franc', 'Dark Horse Zinfandel', 'Robert Mondavi Woodbridge Cabernet Sauvignon', 'Wente Vineyards Southern Hills Cabernet Sauvignon', 'Wente Vineyards Beyer Ranch Zinfandel', 'Wente Vineyards Sandstone Merlot', 'Apothic Red']\n",
      "url_product: 12\n",
      "['https://www.i-d-s.com/dubai/bread-butter-pinot-noir-us1014.html', 'https://www.i-d-s.com/dubai/bread-butter-cabernet-sauvignon-us1015.html', 'https://www.i-d-s.com/dubai/douglass-hill-shiraz-us1016.html', 'https://www.i-d-s.com/dubai/douglass-hill-cabernet-sauvignon-us1017.html', 'https://www.i-d-s.com/dubai/glen-ellen-reserve-cabernet-sauvignon-us1020.html', 'https://www.i-d-s.com/dubai/cabaret-frank-no-2-the-aviary-old-vine-cabernet-franc-us1021.html', 'https://www.i-d-s.com/dubai/dark-horse-zinfandel-us1023.html', 'https://www.i-d-s.com/dubai/robert-mondavi-woodbridge-cabernet-sauvignon-us1025.html', 'https://www.i-d-s.com/dubai/wente-vineyards-southern-hills-cabernet-sauvignon-us1027.html', 'https://www.i-d-s.com/dubai/wente-vineyards-beyer-ranch-zinfandel-us1028.html', 'https://www.i-d-s.com/dubai/wente-vineyards-sandstone-merlot-us1029.html', 'https://www.i-d-s.com/dubai/apothic-red-us1030.html']\n",
      "prices: 12\n",
      "reduced prices: 12\n",
      "['14.20', '14.20', '8.30', '8.30', '7.75', '9.05', '9.30', '13.15', '14.15', '14.15', '14.15', '12.35']\n",
      "https://www.i-d-s.com/dubai/wine/wines-by-country/usa.html?p=10\n"
     ]
    },
    {
     "name": "stderr",
     "output_type": "stream",
     "text": [
      "/var/folders/9z/sjrbpv9j1996t3_4wv3ry65c0000gn/T/ipykernel_98632/3146571461.py:83: FutureWarning: The frame.append method is deprecated and will be removed from pandas in a future version. Use pandas.concat instead.\n",
      "  df_aggregated=df_aggregated.append(df)\n"
     ]
    },
    {
     "name": "stdout",
     "output_type": "stream",
     "text": [
      "name: 8\n",
      "['Ironstone Vineyards Reserve Cabernet Franc', 'Wente Vineyards Charles Wetmore Cabernet Sauvignon', 'Wente Vineyards Riva Ranch Pinot Noir', 'Ironstone Vineyards Rous Vineyard Old Vine Reserve Zinfandel', 'Ironstone Vineyards Reserve Cabernet Sauvignon', 'Murphy Goode Pinot Noir', 'Pine Ridge Vineyards Cabernet Sauvignon', 'Chateau Ste. Michelle Syrah']\n",
      "url_product: 8\n",
      "['https://www.i-d-s.com/dubai/ironstone-vineyards-reserve-cabernet-franc-us1031.html', 'https://www.i-d-s.com/dubai/wente-vineyards-charles-wetmore-cabernet-sauvignon-us1032.html', 'https://www.i-d-s.com/dubai/wente-vineyards-riva-ranch-pinot-noir-us1033.html', 'https://www.i-d-s.com/dubai/ironstone-vineyards-rous-vineyard-old-vine-reserve-zinfandel-us1034.html', 'https://www.i-d-s.com/dubai/ironstone-vineyards-reserve-cabernet-sauvignon-us1035.html', 'https://www.i-d-s.com/dubai/murphy-goode-pinot-noir-us1037.html', 'https://www.i-d-s.com/dubai/pine-ridge-vineyards-cabernet-sauvignon-us1039.html', 'https://www.i-d-s.com/dubai/chateau-ste-michelle-syrah-us1040.html']\n",
      "prices: 8\n",
      "reduced prices: 8\n",
      "['19.95', '23.20', '17.01', '23.60', '23.50', '14.15', '91.85', '20.70']\n",
      "https://www.i-d-s.com/dubai/wine/wines-by-country/usa.html?p=11\n"
     ]
    },
    {
     "name": "stderr",
     "output_type": "stream",
     "text": [
      "/var/folders/9z/sjrbpv9j1996t3_4wv3ry65c0000gn/T/ipykernel_98632/3146571461.py:83: FutureWarning: The frame.append method is deprecated and will be removed from pandas in a future version. Use pandas.concat instead.\n",
      "  df_aggregated=df_aggregated.append(df)\n"
     ]
    },
    {
     "name": "stdout",
     "output_type": "stream",
     "text": [
      "name: 0\n",
      "[]\n",
      "url_product: 0\n",
      "[]\n",
      "prices: 0\n",
      "reduced prices: 0\n",
      "[]\n",
      "---------------\n"
     ]
    },
    {
     "name": "stderr",
     "output_type": "stream",
     "text": [
      "/var/folders/9z/sjrbpv9j1996t3_4wv3ry65c0000gn/T/ipykernel_98632/3146571461.py:83: FutureWarning: The frame.append method is deprecated and will be removed from pandas in a future version. Use pandas.concat instead.\n",
      "  df_aggregated=df_aggregated.append(df)\n"
     ]
    },
    {
     "name": "stdout",
     "output_type": "stream",
     "text": [
      "germany\n",
      "https://www.i-d-s.com/dubai/wine/wines-by-country/germany.html?p=1\n",
      "name: 12\n",
      "['BIO Moselland Riesling Trocken', 'Korrell Riesling Beerenauslese', 'Klostor Liebfraumilch', 'J.Baumer Riesling Auslese', 'Balthasar Ress \"Prestige\"Rüdesheim Berg Schlossberg Riesling Brut Nature', 'Alde Gott-Badenausblick Sekt Riesling Brut', 'Balthasar Ress Wiisselbrunnen Riesling GG Trocken', 'Moselland Goldschild Riesling Trocken', 'Von Othegraven Riesling Kabinett Feinherb', 'Von Othegraven Altenberg Riesling Kabinett', 'Von Othegraven Altenberg Riesling Spatlese', 'Weinland Rheingau Riesling Trocken']\n",
      "url_product: 12\n",
      "['https://www.i-d-s.com/dubai/bio-moselland-riesling-trocken-ge4055.html', 'https://www.i-d-s.com/dubai/korrell-riesling-beerenauslese-dw4015.html', 'https://www.i-d-s.com/dubai/klostor-liebfraumilch-ge4054.html', 'https://www.i-d-s.com/dubai/j-baumer-riesling-auslese-dw4014.html', 'https://www.i-d-s.com/dubai/balthasar-ress-prestige-r-desheim-berg-schlossberg-riesling-brut-nature-sw4039.html', 'https://www.i-d-s.com/dubai/alde-gott-badenausblick-sekt-riesling-brut-sw4036.html', 'https://www.i-d-s.com/dubai/hattenheim-wisselbrunnen-riesling-grosses-gew-chs-ge1021.html', 'https://www.i-d-s.com/dubai/moselland-goldschild-riesling-trocken-ge4001.html', 'https://www.i-d-s.com/dubai/von-othegraven-riesling-kabinett-feinherb-ge4002.html', 'https://www.i-d-s.com/dubai/von-othegraven-altenberg-riesling-kabinett-ge4004.html', 'https://www.i-d-s.com/dubai/von-othegraven-altenberg-riesling-spatlese-ge4005.html', 'https://www.i-d-s.com/dubai/weinland-rheingau-riesling-trocken-ge4007.html']\n",
      "prices: 12\n",
      "reduced prices: 12\n",
      "['4.85', '20.20', '3.15', '8.05', '31.45', '9.10', '47.70', '6.05', '9.70', '12.15', '29.20', '16.50']\n",
      "https://www.i-d-s.com/dubai/wine/wines-by-country/germany.html?p=2\n"
     ]
    },
    {
     "name": "stderr",
     "output_type": "stream",
     "text": [
      "/var/folders/9z/sjrbpv9j1996t3_4wv3ry65c0000gn/T/ipykernel_98632/3146571461.py:83: FutureWarning: The frame.append method is deprecated and will be removed from pandas in a future version. Use pandas.concat instead.\n",
      "  df_aggregated=df_aggregated.append(df)\n"
     ]
    },
    {
     "name": "stdout",
     "output_type": "stream",
     "text": [
      "name: 12\n",
      "['Weingut Carl Ehrhard Rudesheim Riesling Trocken (Vegan)', 'Balthasar Ress Schloss Reichartshausen Riesling Spatlese', 'Balthasar Ress Hattenheim Nussbrunnen Riesling GG Trocken', 'Weinland C Spätburgunder Feinherb', 'Weingut Martinshof Riesling Spätlese Trocken Oppenheimer Sackträger', 'Weingut Martinshof Dornfelder Trocken', 'Alde Gott Einblick Riesling Qualitätswein', 'Alde Gott Einblick Grauburgunder Kabinett Trocken', 'Alde Gott Ausblick Grauburgunder Spätlese Trocken', 'Heitlinger Eichelberg Pinot Blanc Gg', 'Alde Gott Ausblick Spätburgunder Spätlese Von Alten Reben Trocken', 'Heitlinger Konigsbecher Pinot Noir Gg']\n",
      "url_product: 12\n",
      "['https://www.i-d-s.com/dubai/weingut-carl-ehrhard-rudesheim-riesling-trocken-vegan-ge4008.html', 'https://www.i-d-s.com/dubai/balthasar-ress-schloss-reichartshausen-riesling-spatlese-ge4010.html', 'https://www.i-d-s.com/dubai/balthasar-ress-hattenheim-nussbrunnen-riesling-gg-trocken-ge4011.html', 'https://www.i-d-s.com/dubai/weinland-c-sp-tburgunder-feinherb-ge4012.html', 'https://www.i-d-s.com/dubai/weingut-martinshof-riesling-sp-tlese-trocken-oppenheimer-sacktr-ger-ge4016.html', 'https://www.i-d-s.com/dubai/weingut-martinshof-dornfelder-trocken-ge4018.html', 'https://www.i-d-s.com/dubai/alde-gott-einblick-riesling-qba-ge4019.html', 'https://www.i-d-s.com/dubai/alde-gott-einblick-grauburgunder-kabinett-trocken-ge4020.html', 'https://www.i-d-s.com/dubai/alde-gott-ausblick-grauburgunder-sp-tlese-trocken-ge4021.html', 'https://www.i-d-s.com/dubai/heitlinger-eichelberg-pinot-blanc-gg-ge4022.html', 'https://www.i-d-s.com/dubai/alde-gott-ausblick-sp-tburgunder-sp-tlese-von-alten-reben-trocken-ge4023.html', 'https://www.i-d-s.com/dubai/heitlinger-konigsbecher-pinot-noir-gg-ge4024.html']\n",
      "prices: 12\n",
      "reduced prices: 12\n",
      "['7.35', '12.75', '43.35', '4.40', '11.80', '8.85', '6.90', '7.20', '14.85', '17.50', '26.45', '29.90']\n",
      "https://www.i-d-s.com/dubai/wine/wines-by-country/germany.html?p=3\n"
     ]
    },
    {
     "name": "stderr",
     "output_type": "stream",
     "text": [
      "/var/folders/9z/sjrbpv9j1996t3_4wv3ry65c0000gn/T/ipykernel_98632/3146571461.py:83: FutureWarning: The frame.append method is deprecated and will be removed from pandas in a future version. Use pandas.concat instead.\n",
      "  df_aggregated=df_aggregated.append(df)\n"
     ]
    },
    {
     "name": "stdout",
     "output_type": "stream",
     "text": [
      "name: 12\n",
      "['Divino Terroir Weissburgunder Thüngersheimer Johannisberg', 'Hofkeller Würzburg Silvaner Würzburger Stein Erste Lage Vdp', 'Hofkeller Würzburg Riesling Würzburger Innerer Leiste', 'Hofkeller Würzburg Gg Silvaner Würzburger Stein', 'Hofkeller Würzburg Riesling Randsackerer Pfälben', 'Divino Franconia Spätburgunder', 'Schwedhelm Muller-Thurgau', 'Schwedhelm Sauvignon Blanc', 'Bassermann-Jordan Gelber Muskateller, (Organic)', 'Schwedhelm Riesling Wotanfels', 'Bassermann-Jordan Hohenmorgen Riesling Gg, (Organic)', 'Schwedhelm Dornfelder']\n",
      "url_product: 12\n",
      "['https://www.i-d-s.com/dubai/divino-terroir-weissburgunder-th-ngersheimer-johannisberg-ge4026.html', 'https://www.i-d-s.com/dubai/hofkeller-w-rzburg-silvaner-w-rzburger-stein-erste-lage-vdp-ge4028.html', 'https://www.i-d-s.com/dubai/hofkeller-w-rzburg-riesling-w-rzburger-innerer-leiste-ge4029.html', 'https://www.i-d-s.com/dubai/hofkeller-w-rzburg-gg-silvaner-w-rzburger-stein-ge4030.html', 'https://www.i-d-s.com/dubai/hofkeller-w-rzburg-riesling-randsackerer-pf-lben-ge4031.html', 'https://www.i-d-s.com/dubai/divino-franconia-sp-tburgunder-ge4032.html', 'https://www.i-d-s.com/dubai/schwedhelm-muller-thurgau-ge4035.html', 'https://www.i-d-s.com/dubai/schwedhelm-sauvignon-blanc-ge4036.html', 'https://www.i-d-s.com/dubai/bassermann-jordan-gelber-muskateller-organic-ge4038.html', 'https://www.i-d-s.com/dubai/schwedhelm-riesling-wotanfels-ge4039.html', 'https://www.i-d-s.com/dubai/bassermann-jordan-hohenmorgen-riesling-gg-organic-ge4040.html', 'https://www.i-d-s.com/dubai/schwedhelm-dornfelder-ge4042.html']\n",
      "prices: 12\n",
      "reduced prices: 12\n",
      "['12.45', '14.00', '13.45', '28.45', '28.15', '11.00', '5.95', '7.55', '8.80', '14.10', '26.10', '10.50']\n",
      "https://www.i-d-s.com/dubai/wine/wines-by-country/germany.html?p=4\n"
     ]
    },
    {
     "name": "stderr",
     "output_type": "stream",
     "text": [
      "/var/folders/9z/sjrbpv9j1996t3_4wv3ry65c0000gn/T/ipykernel_98632/3146571461.py:83: FutureWarning: The frame.append method is deprecated and will be removed from pandas in a future version. Use pandas.concat instead.\n",
      "  df_aggregated=df_aggregated.append(df)\n"
     ]
    },
    {
     "name": "stdout",
     "output_type": "stream",
     "text": [
      "name: 11\n",
      "['Sankt M Riesling Cleebroon &amp; Guglingen', 'Cleebroon &amp; Guglingen Herzog C Lemberger', 'Hausmann Rivaner', 'Sagenhaft Rosé Cleebroon &amp; Guglingen', 'Weinbiet - Pfalz Von Ersten Lagen Merlot Rosé', 'Korrell Little Lion Rosé', 'J. Baumer Riesling QBA', 'Villa Franz Riesling', 'Balthasar Ress Hattenheim Nussbrunnen Riesling Spatlese', 'Balthasar Ress \"32\" Riesling Rheingauner Landwein', 'Batlhasar Ress Rudesheim Berg Rottland Riesling Auslese']\n",
      "url_product: 11\n",
      "['https://www.i-d-s.com/dubai/sankt-m-riesling-cleebroon-guglingen-ge4045.html', 'https://www.i-d-s.com/dubai/cleebroon-guglingen-herzog-c-lemberger-ge4048.html', 'https://www.i-d-s.com/dubai/hausmann-rivaner-ge4049.html', 'https://www.i-d-s.com/dubai/sagenhaft-ros-cleebroon-guglingen-ge4051.html', 'https://www.i-d-s.com/dubai/weinbiet-pfalz-von-ersten-lagen-merlot-ros-ge4052.html', 'https://www.i-d-s.com/dubai/korrell-little-lion-ros-ge4053.html', 'https://www.i-d-s.com/dubai/j-baumer-riesling-qba-ge1001.html', 'https://www.i-d-s.com/dubai/villa-franz-riesling-ge1002.html', 'https://www.i-d-s.com/dubai/balthasar-ress-hattenheim-nussbrunnen-riesling-spatlese-ge1005.html', 'https://www.i-d-s.com/dubai/balthasar-ress-32-riesling-rheingauner-landwein-ge1011.html', 'https://www.i-d-s.com/dubai/batlhasar-ress-rudesheim-berg-rottland-riesling-auslese-ge1013.html']\n",
      "prices: 11\n",
      "reduced prices: 11\n",
      "['5.50', '11.39', '3.15', '5.40', '5.50', '7.10', '8.50', '9.75', '35.60', '35.20', '44.30']\n",
      "https://www.i-d-s.com/dubai/wine/wines-by-country/germany.html?p=5\n"
     ]
    },
    {
     "name": "stderr",
     "output_type": "stream",
     "text": [
      "/var/folders/9z/sjrbpv9j1996t3_4wv3ry65c0000gn/T/ipykernel_98632/3146571461.py:83: FutureWarning: The frame.append method is deprecated and will be removed from pandas in a future version. Use pandas.concat instead.\n",
      "  df_aggregated=df_aggregated.append(df)\n"
     ]
    },
    {
     "name": "stdout",
     "output_type": "stream",
     "text": [
      "name: 0\n",
      "[]\n",
      "url_product: 0\n",
      "[]\n",
      "prices: 0\n",
      "reduced prices: 0\n",
      "[]\n"
     ]
    },
    {
     "name": "stderr",
     "output_type": "stream",
     "text": [
      "/var/folders/9z/sjrbpv9j1996t3_4wv3ry65c0000gn/T/ipykernel_98632/3146571461.py:83: FutureWarning: The frame.append method is deprecated and will be removed from pandas in a future version. Use pandas.concat instead.\n",
      "  df_aggregated=df_aggregated.append(df)\n"
     ]
    },
    {
     "name": "stdout",
     "output_type": "stream",
     "text": [
      "---------------\n",
      "italy\n",
      "https://www.i-d-s.com/dubai/wine/wines-by-country/italy.html?p=1\n",
      "name: 12\n",
      "['2017 Caiarossa, Toscana', 'Valdipiatta Vino Nobile di Montepulciano', \"Il Faggio Montepulciano D'Abruzzo\", 'Gran Sasso Montepulciano', 'Farnese Fantini Cuvee Bianco Brut', 'Contero Moscato d`Asti', 'Vesevo Beneventano Aglianico', 'Villa Cialdini Pignoletto Sparkling Brut Modena', 'Bellavista, Franciacorta Saten Brut Vintage', 'Cantine Belisario Rosso Conero', \"Batasiolo Barbera D'Alba Doc Sovrana\", 'GD Vajra Langhe Nebbiolo']\n",
      "url_product: 12\n",
      "['https://www.i-d-s.com/dubai/2017-caiarossa-toscana-fw1240.html', 'https://www.i-d-s.com/dubai/valdipiatta-vino-nobile-di-montepulciano-it4109.html', 'https://www.i-d-s.com/dubai/il-faggio-montepulciano-d-abruzzo-it4004.html', 'https://www.i-d-s.com/dubai/gran-sasso-montepulciano-it4005.html', 'https://www.i-d-s.com/dubai/farnese-fantini-cuvee-bianco-brut-sw4012.html', 'https://www.i-d-s.com/dubai/contero-moscato-d-asti-sw4060.html', 'https://www.i-d-s.com/dubai/vesevo-beneventano-aglianico-it4020.html', 'https://www.i-d-s.com/dubai/villa-cialdini-pignoletto-sparkling-brut-modena-sw4011.html', 'https://www.i-d-s.com/dubai/bellavista-franciacorta-saten-brut-vintage-sw4017.html', 'https://www.i-d-s.com/dubai/cantine-belisario-rosso-conero-it4032.html', 'https://www.i-d-s.com/dubai/batasiolo-barbera-d-alba-doc-sovrana-it4044.html', 'https://www.i-d-s.com/dubai/gd-vajra-langhe-nebbiolo-it4048.html']\n",
      "prices: 12\n",
      "reduced prices: 12\n",
      "['381.99', '14.05', '5.30', '5.40', '7.55', '10.55', '5.95', '7.50', '30.90', '6.40', '6.85', '14.95']\n",
      "https://www.i-d-s.com/dubai/wine/wines-by-country/italy.html?p=2\n"
     ]
    },
    {
     "name": "stderr",
     "output_type": "stream",
     "text": [
      "/var/folders/9z/sjrbpv9j1996t3_4wv3ry65c0000gn/T/ipykernel_98632/3146571461.py:83: FutureWarning: The frame.append method is deprecated and will be removed from pandas in a future version. Use pandas.concat instead.\n",
      "  df_aggregated=df_aggregated.append(df)\n"
     ]
    },
    {
     "name": "stdout",
     "output_type": "stream",
     "text": [
      "name: 12\n",
      "['Campofiorin Rosso Verona Igt', 'Cantine San Silvestro Roero Arneis, Serre Dei Roveri', 'Vigneti Del Salento I Muri Bianco', 'Bio Integro Negroamaro Puglia Igp', 'Antichi Poderi Jerzu Cannonau Marghia', 'Planeta Etna Rosso Doc', 'Feudo Maccari Olli Grillo, Sicilia DOC', 'Planeta La Segreta Bianco', 'Mandrarossa Chardonnay Laguna Secca', 'Mandrarossa Merlot Rupenera', \"Planeta Plumbago Nero D'Avola Sicilia Doc\", 'Poggio Al Tesoro `Solosole` Vermentino']\n",
      "url_product: 12\n",
      "['https://www.i-d-s.com/dubai/campofiorin-rosso-verona-igt-it4155.html', 'https://www.i-d-s.com/dubai/cantine-san-silvestro-roero-arneis-serre-dei-roveri-it4034.html', 'https://www.i-d-s.com/dubai/vigneti-del-salento-i-muri-bianco-it4054.html', 'https://www.i-d-s.com/dubai/bio-integro-negroamaro-puglia-igp-it4057.html', 'https://www.i-d-s.com/dubai/antichi-poderi-jerzu-cannonau-marghia-it4062.html', 'https://www.i-d-s.com/dubai/planeta-etna-rosso-doc-it4080.html', 'https://www.i-d-s.com/dubai/feudo-maccari-olli-grillo-sicilia-doc-it2024.html', 'https://www.i-d-s.com/dubai/planeta-la-segreta-bianco-it4065.html', 'https://www.i-d-s.com/dubai/mandrarossa-chardonnay-laguna-secca-it4069.html', 'https://www.i-d-s.com/dubai/mandrarossa-merlot-rupenera-it4075.html', 'https://www.i-d-s.com/dubai/planeta-plumbago-nero-d-avola-sicilia-doc-it4079.html', 'https://www.i-d-s.com/dubai/poggio-al-tesoro-solosole-vermentino-it4088.html']\n",
      "prices: 12\n",
      "reduced prices: 12\n",
      "['7.80', '5.70', '4.05', '4.80', '10.35', '10.20', '9.15', '9.10', '5.25', '5.00', '8.40', '11.40']\n",
      "https://www.i-d-s.com/dubai/wine/wines-by-country/italy.html?p=3\n"
     ]
    },
    {
     "name": "stderr",
     "output_type": "stream",
     "text": [
      "/var/folders/9z/sjrbpv9j1996t3_4wv3ry65c0000gn/T/ipykernel_98632/3146571461.py:83: FutureWarning: The frame.append method is deprecated and will be removed from pandas in a future version. Use pandas.concat instead.\n",
      "  df_aggregated=df_aggregated.append(df)\n"
     ]
    },
    {
     "name": "stdout",
     "output_type": "stream",
     "text": [
      "name: 12\n",
      "['Felsina Berardenga Chardonnay I Sistri', 'Poggiotondo Organic Vermentino', 'Poggiotondo Chianti Classico Terre Di Cresci', 'Villa Antinori\"Antinori Nel Chianti Classico Riserva\"', 'Allegrini Corte Giarapinot Grigio Delle Venezie', 'Cantina Di Monteforte Pinot Grigio Rosato', 'Ponte Pietra Pinot Grigio Rosato', 'Fratelli Zuliani Pinot Grigio Rosé Doc Delle Venezie', 'Ponte Pietra Merlot/Corvina Del Veneto', 'Fratelli Zuliani Merlot Igt Veneto', 'Corte Giara Valpolicella Ripasso', 'Stefano Accordini Valpolicella Ripasso Acinatico']\n",
      "url_product: 12\n",
      "['https://www.i-d-s.com/dubai/felsina-berardenga-chardonnay-i-sistri-it4089.html', 'https://www.i-d-s.com/dubai/poggiotondo-organic-vermentino-it4086.html', 'https://www.i-d-s.com/dubai/poggiotondo-chianti-classico-terre-di-cresci-it4102.html', 'https://www.i-d-s.com/dubai/villa-antinori-antinori-nel-chianti-classico-riserva-it4111.html', 'https://www.i-d-s.com/dubai/allegrini-corte-giarapinot-grigio-delle-venezie-it4131.html', 'https://www.i-d-s.com/dubai/cantina-di-monteforte-pinot-grigio-rosato-it4139.html', 'https://www.i-d-s.com/dubai/ponte-pietra-pinot-grigio-rosato-it4140.html', 'https://www.i-d-s.com/dubai/fratelli-zuliani-pinot-grigio-ros-doc-delle-venezie-it4142.html', 'https://www.i-d-s.com/dubai/ponte-pietra-merlot-corvina-del-veneto-it4144.html', 'https://www.i-d-s.com/dubai/fratelli-zuliani-merlot-igt-veneto-it4153.html', 'https://www.i-d-s.com/dubai/corte-giara-valpolicella-ripasso-it4157.html', 'https://www.i-d-s.com/dubai/stefano-accordini-valpolicella-ripasso-acinatico-it4167.html']\n",
      "prices: 12\n",
      "reduced prices: 12\n",
      "['17.30', '6.40', '11.05', '16.65', '6.70', '5.60', '5.25', '3.90', '4.65', '4.55', '8.85', '10.05']\n",
      "https://www.i-d-s.com/dubai/wine/wines-by-country/italy.html?p=4\n"
     ]
    },
    {
     "name": "stderr",
     "output_type": "stream",
     "text": [
      "/var/folders/9z/sjrbpv9j1996t3_4wv3ry65c0000gn/T/ipykernel_98632/3146571461.py:83: FutureWarning: The frame.append method is deprecated and will be removed from pandas in a future version. Use pandas.concat instead.\n",
      "  df_aggregated=df_aggregated.append(df)\n"
     ]
    },
    {
     "name": "stdout",
     "output_type": "stream",
     "text": [
      "name: 12\n",
      "['Ca Di Alte Prosecco Frizzante', 'Bosco Del Merlo Campo Camino Turranio Sauvignon Blanc', 'Paladin Gli Aceri Veneto Malbec', 'Dogliotti Barolo', \"Banfi 'Belnero' Toscana\", 'Tenuta di Arceno Tuscany Chianti Classico Riserva', 'Tenuta di Arceno Il Fauno di Arcanum Toscana IGT', 'Castello Banfi Excelsus Toscana', 'Allegrini Valpolicella Classico', 'Castello Vicchiomaggio San Jacopo Chianti Classico', 'Alpha Zeta `R` Valpolicella Superiore Ripasso', 'Alpha Zeta,`S` Soave DOC, Veneto']\n",
      "url_product: 12\n",
      "['https://www.i-d-s.com/dubai/ca-di-alte-prosecco-frizzante-sw4003.html', 'https://www.i-d-s.com/dubai/bosco-del-merlo-campo-camino-turranio-sauvignon-blanc-it4168.html', 'https://www.i-d-s.com/dubai/paladin-gli-aceri-veneto-malbec-it4169.html', 'https://www.i-d-s.com/dubai/dogliotti-barolo-it2005.html', 'https://www.i-d-s.com/dubai/banfi-belnero-toscana-it2010.html', 'https://www.i-d-s.com/dubai/tenuta-di-arceno-tuscany-chianti-classico-riserva-it2013.html', 'https://www.i-d-s.com/dubai/tenuta-di-arceno-il-fauno-di-arcanum-toscana-igt-it2014.html', 'https://www.i-d-s.com/dubai/castello-banfi-excelsus-toscana-it2016.html', 'https://www.i-d-s.com/dubai/allegrini-valpolicella-classico-it2039.html', 'https://www.i-d-s.com/dubai/castello-vicchiomaggio-san-jacopo-chianti-classico-it1203.html', 'https://www.i-d-s.com/dubai/alpha-zeta-r-valpolicella-superiore-ripasso-it4156.html', 'https://www.i-d-s.com/dubai/alpha-zeta-s-soave-veneto-it1009.html']\n",
      "prices: 12\n",
      "reduced prices: 12\n",
      "['6.15', '4.85', '4.85', '34.15', '21.90', '25.95', '30.85', '87.25', '16.45', '10.70', '18.30', '8.50']\n",
      "https://www.i-d-s.com/dubai/wine/wines-by-country/italy.html?p=5\n"
     ]
    },
    {
     "name": "stderr",
     "output_type": "stream",
     "text": [
      "/var/folders/9z/sjrbpv9j1996t3_4wv3ry65c0000gn/T/ipykernel_98632/3146571461.py:83: FutureWarning: The frame.append method is deprecated and will be removed from pandas in a future version. Use pandas.concat instead.\n",
      "  df_aggregated=df_aggregated.append(df)\n"
     ]
    },
    {
     "name": "stdout",
     "output_type": "stream",
     "text": [
      "name: 12\n",
      "['Via Nova Merlot del Veneto IGT', 'Via Nova Pinot Grigio IGT', 'Bottega Brunello Di Montalcino', 'Lamberti Pinot Grigio IGT', 'Allegrini Valpolicella DOC', 'Planeta Rosé', 'Araldica Gavi DOCG La Luciana', 'Follador Prosecco DOC Treviso', 'Ceradello Prosecco Spumante Brut', 'Ruggeri Prosecco Argeo Brut', 'Martini Asti Spumante', 'Bottega Prosecco Gold Brut']\n",
      "url_product: 12\n",
      "['https://www.i-d-s.com/dubai/via-nova-merlot-del-veneto-igt-it1043.html', 'https://www.i-d-s.com/dubai/via-nova-pinot-grigio-igt-it1008.html', 'https://www.i-d-s.com/dubai/bottega-brunello-di-montalcino-it1039.html', 'https://www.i-d-s.com/dubai/lamberti-pinot-grigio-igt-it1011.html', 'https://www.i-d-s.com/dubai/allegrini-valpolicella-doc-it1046.html', 'https://www.i-d-s.com/dubai/planeta-ros-it1019.html', 'https://www.i-d-s.com/dubai/araldica-gavi-docg-la-luciana-it1000.html', 'https://www.i-d-s.com/dubai/follador-prosecco-doc-treviso-sw1007.html', 'https://www.i-d-s.com/dubai/ceradello-prosecco-spumante-brut-sw1006.html', 'https://www.i-d-s.com/dubai/ruggeri-prosecco-argeo-brut-nv-sw1011.html', 'https://www.i-d-s.com/dubai/martini-asti-spumante-sw1012.html', 'https://www.i-d-s.com/dubai/bottega-prosecco-gold-brut-sw1013.html']\n",
      "prices: 12\n",
      "reduced prices: 12\n",
      "['5.25', '5.80', '48.50', '9.30', '17.75', '11.80', '11.65', '13.75', '11.80', '16.10', '14.25', '26.20']\n",
      "https://www.i-d-s.com/dubai/wine/wines-by-country/italy.html?p=6\n"
     ]
    },
    {
     "name": "stderr",
     "output_type": "stream",
     "text": [
      "/var/folders/9z/sjrbpv9j1996t3_4wv3ry65c0000gn/T/ipykernel_98632/3146571461.py:83: FutureWarning: The frame.append method is deprecated and will be removed from pandas in a future version. Use pandas.concat instead.\n",
      "  df_aggregated=df_aggregated.append(df)\n"
     ]
    },
    {
     "name": "stdout",
     "output_type": "stream",
     "text": [
      "name: 12\n",
      "['Alasia Rosé Brut, Alta Langa', 'Bottega Prosecco Brut Rosé', 'Castello Vicchiomaggio San Jacopo Vin Santo', 'Tenuta di Arceno Tuscany Chianti Classico', 'Cristina Ascheri Langhe Arneis DOC', 'Vesevo Taurasi Ensis Docg', \"Cà Dei Frati 'I Frati' Lugana\", 'Fontafredda Gavi Di Gavi', 'La Giustiniana Gavi Di Gavi `Montessora`', 'Fontafredda Briccotondo Dolcetto', 'Mandrarossa Bertolino Soprano Grillo Wooden Box', 'Mandrarossa Cartagho Nero D’Avola']\n",
      "url_product: 12\n",
      "['https://www.i-d-s.com/dubai/alasia-ros-brut-alta-langa-sw1003.html', 'https://www.i-d-s.com/dubai/bottega-prosecco-brut-ros-sw1017.html', 'https://www.i-d-s.com/dubai/castello-vicchiomaggio-san-jacopo-vin-santo-dw1011.html', 'https://www.i-d-s.com/dubai/tenuta-di-arceno-tuscany-chianti-classico-it2012.html', 'https://www.i-d-s.com/dubai/cristina-ascheri-langhe-arneis-doc-it4036.html', 'https://www.i-d-s.com/dubai/vesevo-taurasi-ensis-docg-it4021.html', 'https://www.i-d-s.com/dubai/c-dei-frati-i-frati-lugana-it4026.html', 'https://www.i-d-s.com/dubai/fontafredda-gavi-di-gavi-it4037.html', 'https://www.i-d-s.com/dubai/la-giustiniana-gavi-di-gavi-montessora-it4038.html', 'https://www.i-d-s.com/dubai/fontafredda-briccotondo-dolcetto-it4042.html', 'https://www.i-d-s.com/dubai/mandrarossa-bertolino-soprano-grillo-wooden-box-it4072.html', 'https://www.i-d-s.com/dubai/mandrarossa-cartagho-nero-d-avola-it4081.html']\n",
      "prices: 12\n",
      "reduced prices: 12\n",
      "['25.20', '26.95', '14.75', '23.80', '12.36', '30.45', '19.25', '9.00', '30.65', '13.72', '30.50', '13.65']\n",
      "https://www.i-d-s.com/dubai/wine/wines-by-country/italy.html?p=7\n"
     ]
    },
    {
     "name": "stderr",
     "output_type": "stream",
     "text": [
      "/var/folders/9z/sjrbpv9j1996t3_4wv3ry65c0000gn/T/ipykernel_98632/3146571461.py:83: FutureWarning: The frame.append method is deprecated and will be removed from pandas in a future version. Use pandas.concat instead.\n",
      "  df_aggregated=df_aggregated.append(df)\n"
     ]
    },
    {
     "name": "stdout",
     "output_type": "stream",
     "text": [
      "name: 12\n",
      "['Fattoria Selvapiana Chianti Rufina', 'Felsina Berardenga Chianti Classico', 'Alpha Zeta `G` Garganega', 'Cantina Di Monteforte Soave Classico Superiore Montegrande', 'Sartori Marzemino Villa Mura', 'Alpha Zeta `C` Corvina', 'La Marca Prosecco', 'Prunotto Barbera d’Alba, Piemonte', 'Fontanafredda Briccotondo Piemonte Barbera ', 'Tenuta Argiano, Brunello di Montalcino ', 'Castello di Monsanto, Chianti Classico DOCG Riserva', 'Grattamacco, Bolgheri Rosso']\n",
      "url_product: 12\n",
      "['https://www.i-d-s.com/dubai/fattoria-selvapiana-chianti-rufina-it4099.html', 'https://www.i-d-s.com/dubai/felsina-berardenga-chianti-classico-it4108.html', 'https://www.i-d-s.com/dubai/alpha-zeta-g-garganega-it4124.html', 'https://www.i-d-s.com/dubai/cantina-di-monteforte-soave-classico-superiore-montegrande-it4130.html', 'https://www.i-d-s.com/dubai/sartori-marzemino-villa-mura-it4143.html', 'https://www.i-d-s.com/dubai/alpha-zeta-c-corvina-it4145.html', 'https://www.i-d-s.com/dubai/la-marca-prosecco-sw2035.html', 'https://www.i-d-s.com/dubai/prunotto-barbera-d-alba-piemonte-it1078.html', 'https://www.i-d-s.com/dubai/fontafredda-briccotondo-barbera-it4040.html', 'https://www.i-d-s.com/dubai/tenuta-argiano-brunello-di-montalcino-it1074.html', 'https://www.i-d-s.com/dubai/castello-di-monsanto-chianti-classico-docg-riserva-it1073.html', 'https://www.i-d-s.com/dubai/grattamacco-bolgheri-rosso-it1072.html']\n",
      "prices: 12\n",
      "reduced prices: 12\n",
      "['10.15', '28.85', '8.65', '7.25', '9.30', '4.70', '16.60', '37.50', '19.49', '77.65', '52.40', '47.15']\n",
      "https://www.i-d-s.com/dubai/wine/wines-by-country/italy.html?p=8\n"
     ]
    },
    {
     "name": "stderr",
     "output_type": "stream",
     "text": [
      "/var/folders/9z/sjrbpv9j1996t3_4wv3ry65c0000gn/T/ipykernel_98632/3146571461.py:83: FutureWarning: The frame.append method is deprecated and will be removed from pandas in a future version. Use pandas.concat instead.\n",
      "  df_aggregated=df_aggregated.append(df)\n"
     ]
    },
    {
     "name": "stdout",
     "output_type": "stream",
     "text": [
      "name: 12\n",
      "[\"Barolo 'La Morra', Corino Giovanni di Corino Giuliano\", \"Bellavista, 'Alma’ Franciacorta Gran Cuvee Brut ,NV\", 'Santa Margherita, Chianti Classico DOCG', 'Santa Margherita, Merlot IGT', 'Santa Margherita, Sparkling Rosè', 'Santa Margherita, Prosecco DOCG', 'Santa Margherita, Pinot Grigio Valdadige DOC ', 'Contrada Monte Gorna \" Etna Rosso\" (Organic)', 'Mandrarossa Costadune Grillo', 'Allegrini Oasi Mantellina Lugana', \"Cantine Belisario Verdicchio `Terre Di Valbona'\", 'Vesevo Greco Di Tufo Docg']\n",
      "url_product: 12\n",
      "['https://www.i-d-s.com/dubai/barolo-la-morra-corino-giovanni-di-corino-giuliano-it1069.html', 'https://www.i-d-s.com/dubai/bellavista-alma-franciacorta-gran-cuvee-brut-nv-sw4016.html', 'https://www.i-d-s.com/dubai/santa-margherita-chianti-classico-docg-it1076.html', 'https://www.i-d-s.com/dubai/santa-margherita-merlot-igt-it1075.html', 'https://www.i-d-s.com/dubai/santa-margherita-sparkling-ros-sw1051.html', 'https://www.i-d-s.com/dubai/santa-margherita-prosecco-docg-sw1050.html', 'https://www.i-d-s.com/dubai/santa-margherita-pinot-grigio-valdadige-doc-it1077.html', 'https://www.i-d-s.com/dubai/contrada-monte-gorna-etna-rosso-organic-it1071.html', 'https://www.i-d-s.com/dubai/mandrarossa-costadune-grillo-it4066.html', 'https://www.i-d-s.com/dubai/allegrini-oasi-mantellina-lugana-it4025.html', 'https://www.i-d-s.com/dubai/cantine-belisario-verdicchio-terre-di-valbona-it4028.html', 'https://www.i-d-s.com/dubai/vesevo-greco-di-tufo-docg-it4019.html']\n",
      "prices: 12\n",
      "reduced prices: 12\n",
      "['60.90', '44.95', '15.55', '13.65', '15.90', '15.90', '15.45', '22.60', '13.20', '13.07', '11.95', '19.25']\n",
      "https://www.i-d-s.com/dubai/wine/wines-by-country/italy.html?p=9\n"
     ]
    },
    {
     "name": "stderr",
     "output_type": "stream",
     "text": [
      "/var/folders/9z/sjrbpv9j1996t3_4wv3ry65c0000gn/T/ipykernel_98632/3146571461.py:83: FutureWarning: The frame.append method is deprecated and will be removed from pandas in a future version. Use pandas.concat instead.\n",
      "  df_aggregated=df_aggregated.append(df)\n"
     ]
    },
    {
     "name": "stdout",
     "output_type": "stream",
     "text": [
      "name: 12\n",
      "['Poggio Al Tesoro, Alegrini Estates `Cassiopea` Bolgheri Rosato', 'Mandrarossa Casa Mia Alicante Syrah', 'Allegrini Estates Rosso Di Montalcino, San Polo', 'Allegrini Estates Rubio, San Polo', 'Mediceo Chianti', 'Corte Giara Bardolino', 'Vigneti Del Salento I Muri Primitivo', \"Cantine Belisario Lacrima Di Morro D'Alba\", 'Antichi Poderi Jerzu Cannonau Bantu', 'Alpha Zeta V` Valpolicella', 'Pieropan Ruberpan` Valpolicella Superiore', 'Vigneto Del Vulture Aglianico Pipoli']\n",
      "url_product: 12\n",
      "['https://www.i-d-s.com/dubai/poggio-al-tesoro-alegrini-estates-cassiopea-bolgheri-rosato-it4090.html', 'https://www.i-d-s.com/dubai/mandrarossa-casa-mia-alicante-syrah-it4073.html', 'https://www.i-d-s.com/dubai/allegrini-estates-rosso-di-montalcino-san-polo-it4105.html', 'https://www.i-d-s.com/dubai/allegrini-estates-rubio-san-polo-it4097.html', 'https://www.i-d-s.com/dubai/mediceo-chianti-it4091.html', 'https://www.i-d-s.com/dubai/corte-giara-bardolino-it4152.html', 'https://www.i-d-s.com/dubai/vigneti-del-salento-i-muri-primitivo-it4055.html', 'https://www.i-d-s.com/dubai/cantine-belisario-lacrima-di-morro-d-alba-it4031.html', 'https://www.i-d-s.com/dubai/antichi-poderi-jerzu-cannonau-bantu-it4061.html', 'https://www.i-d-s.com/dubai/alpha-zeta-v-valpolicella-it4151.html', 'https://www.i-d-s.com/dubai/pieropan-ruberpan-valpolicella-superiore-it4161.html', 'https://www.i-d-s.com/dubai/vigneto-del-vulture-aglianico-pipoli-it4018.html']\n",
      "prices: 12\n",
      "reduced prices: 12\n",
      "['31.00', '8.60', '39.75', '19.10', '10.50', '11.60', '11.80', '15.35', '9.33', '12.10', '31.65', '13.45']\n",
      "https://www.i-d-s.com/dubai/wine/wines-by-country/italy.html?p=10\n"
     ]
    },
    {
     "name": "stderr",
     "output_type": "stream",
     "text": [
      "/var/folders/9z/sjrbpv9j1996t3_4wv3ry65c0000gn/T/ipykernel_98632/3146571461.py:83: FutureWarning: The frame.append method is deprecated and will be removed from pandas in a future version. Use pandas.concat instead.\n",
      "  df_aggregated=df_aggregated.append(df)\n"
     ]
    },
    {
     "name": "stdout",
     "output_type": "stream",
     "text": [
      "name: 12\n",
      "['Purato Catarratto/Pinot Grigio, Sicily - Organic', 'Poggiotondo,Organic Chianti', 'Ripa Delle Mandorle IGT Toscana Rosso, Vicchiomaggio', \"Montresor Amarone della Valpolicella 'Satinato'\", 'La Prima Chianti Classico Riserva Docg, Castello Vicchiomaggio', 'Chianti Classico Riserva Docg, Agostina Petri', 'San Jacope IGT Toscano Vermentino', 'Ripa Delle More Toscana IGT, Castello Vicchiomaggio', 'Lambrusco Rosso Minini', 'Brunello Di Montalcino, San Polo, Tuscany', 'Ripa Delle Mandorle IGT Toscana Bianco, Vicchiomaggio', 'FSM Castello Vicchiomaggio, Merlot Toscana IGT']\n",
      "url_product: 12\n",
      "['https://www.i-d-s.com/dubai/purato-catarratto-pinot-grigio-sicily-organic-it1105.html', 'https://www.i-d-s.com/dubai/poggiotondo-organic-chianti-it1052.html', 'https://www.i-d-s.com/dubai/ripa-delle-mandorle-igt-toscana-rosso-vicchiomaggio-it1100.html', 'https://www.i-d-s.com/dubai/montresor-amarone-della-valpolicella-satinato-it1029.html', 'https://www.i-d-s.com/dubai/la-prima-chianti-classico-riserva-docg-castello-vicchiomaggio-it1091.html', 'https://www.i-d-s.com/dubai/chianti-classico-riserva-docg-agostina-petri-it1092.html', 'https://www.i-d-s.com/dubai/san-jacope-igt-toscano-vermentino-it1093.html', 'https://www.i-d-s.com/dubai/ripa-delle-more-toscana-igt-castello-vicchiomaggio-it1096.html', 'https://www.i-d-s.com/dubai/lambrusco-rosso-minini-sw1102.html', 'https://www.i-d-s.com/dubai/brunello-di-montalcino-san-polo-tuscany-it1062.html', 'https://www.i-d-s.com/dubai/ripa-delle-mandorle-igt-toscana-bianco-vicchiomaggio-it1097.html', 'https://www.i-d-s.com/dubai/fsm-castello-vicchiomaggio-merlot-toscana-igt-it1099.html']\n",
      "prices: 12\n",
      "reduced prices: 12\n",
      "['13.80', '16.25', '12.75', '37.55', '34.95', '19.95', '11.65', '36.65', '8.40', '79.25', '12.00', '215.45']\n",
      "https://www.i-d-s.com/dubai/wine/wines-by-country/italy.html?p=11\n"
     ]
    },
    {
     "name": "stderr",
     "output_type": "stream",
     "text": [
      "/var/folders/9z/sjrbpv9j1996t3_4wv3ry65c0000gn/T/ipykernel_98632/3146571461.py:83: FutureWarning: The frame.append method is deprecated and will be removed from pandas in a future version. Use pandas.concat instead.\n",
      "  df_aggregated=df_aggregated.append(df)\n"
     ]
    },
    {
     "name": "stdout",
     "output_type": "stream",
     "text": [
      "name: 12\n",
      "['Vicchiomaggio Vegan-Chianti Classico Riserva', 'Terre Antiche, Gavi di Gavi, Piemonte', 'Ascheri Langhe Nebbiolo DOC San Giacomo', 'Mandrarossa Viognier Le Sénie', 'Contrada Monte San Nicolo Etna Bianco (Organic)', 'Antichi Poderi Jerzu \"Telavè\", Vermentino di Sardegna', \"Pieropan 'Calvarino', Soave Classico, Veneto\", 'Bertani Due Uve Bianco Pinot Grigio-Sauvignon IGT', 'Fontana Candida Frascati Superiore DOCG', 'Antinori San Giovanni della Sala Orvieto Classico Superiore', 'La Maglia Rosa Pinot Grigio Blush Delle Venezie', 'Rometta Sangiovese Rubicone IGT']\n",
      "url_product: 12\n",
      "['https://www.i-d-s.com/dubai/vicchiomaggio-vegan-chianti-classico-riserva-it1101.html', 'https://www.i-d-s.com/dubai/terre-antiche-gavi-di-gavi-piemonte-it1001.html', 'https://www.i-d-s.com/dubai/cristina-ascheri-langhe-arneis-doc-it1002.html', 'https://www.i-d-s.com/dubai/mandrarossa-viognier-le-s-nie-it1004.html', 'https://www.i-d-s.com/dubai/etna-bianco-fondo-filara-organic-it1006.html', 'https://www.i-d-s.com/dubai/antichi-poderi-jerzu-telav-vermentino-di-sardegna-it1007.html', 'https://www.i-d-s.com/dubai/pieropan-calvarino-soave-classico-veneto-it1010.html', 'https://www.i-d-s.com/dubai/bertani-due-uve-bianco-pinot-grigio-sauvignon-igt-it1013.html', 'https://www.i-d-s.com/dubai/fontana-candida-frascati-superiore-docg-it1016.html', 'https://www.i-d-s.com/dubai/antinori-san-giovanni-della-sala-orvieto-classico-superiore-it1017.html', 'https://www.i-d-s.com/dubai/la-maglia-rosa-pinot-grigio-blush-delle-venezie-it1049.html', 'https://www.i-d-s.com/dubai/rometta-sangiovese-rubicone-igt-it1022.html']\n",
      "prices: 12\n",
      "reduced prices: 12\n",
      "['20.45', '16.95', '19.20', '13.00', '17.60', '15.85', '28.20', '13.35', '8.15', '27.70', '8.00', '5.25']\n",
      "https://www.i-d-s.com/dubai/wine/wines-by-country/italy.html?p=12\n"
     ]
    },
    {
     "name": "stderr",
     "output_type": "stream",
     "text": [
      "/var/folders/9z/sjrbpv9j1996t3_4wv3ry65c0000gn/T/ipykernel_98632/3146571461.py:83: FutureWarning: The frame.append method is deprecated and will be removed from pandas in a future version. Use pandas.concat instead.\n",
      "  df_aggregated=df_aggregated.append(df)\n"
     ]
    },
    {
     "name": "stdout",
     "output_type": "stream",
     "text": [
      "name: 11\n",
      "[\"Prunotto, Pian Romualdo, Barbera d'Alba No 3, Piedmont\", 'Prunotto, Occhetti Langhe, Nebbiolo, Piedmont', 'Patrizi Barolo DOCG', \"Mandrarossa Nero d'Avola Costadune\", 'Planeta La Segreta Rosso IGT', 'Fattoria dei Barbi Morellino di Scansano DOCG', 'Antinori, Peppoli Chianti Classico DOCG', \"Poggio al Tesoro, 'Il Seggio' Bolgheri, Tuscany\", 'Antinori, Marchese Chianti Classico Riserva DOCG', 'Sartori \"Regolo\" Valpolicella Superiore Ripasso DOC', 'Allegrini Amarone della Valpolicella Classico DOCG']\n",
      "url_product: 11\n",
      "['https://www.i-d-s.com/dubai/prunotto-pian-romualdo-barbera-d-alba-no-3-piedmont-it1023.html', 'https://www.i-d-s.com/dubai/prunotto-occhetti-langhe-nebbiolo-piedmont-it1024.html', 'https://www.i-d-s.com/dubai/patrizi-barolo-docg-it1026.html', 'https://www.i-d-s.com/dubai/mandrarossa-nero-d-avola-costadune-it1030.html', 'https://www.i-d-s.com/dubai/planeta-la-segreta-rosso-igt-it1031.html', 'https://www.i-d-s.com/dubai/fattoria-dei-barbi-morellino-di-scansano-docg-it1036.html', 'https://www.i-d-s.com/dubai/antinori-peppoli-chianti-classico-docg-it1037.html', 'https://www.i-d-s.com/dubai/poggio-al-tesoro-il-seggio-bolgheri-tuscany-it1038.html', 'https://www.i-d-s.com/dubai/antinori-marchese-chianti-classico-riserva-docg-it1040.html', 'https://www.i-d-s.com/dubai/sartori-regolo-valpolicella-superiore-ripasso-doc-it1045.html', 'https://www.i-d-s.com/dubai/allegrini-amarone-della-valpolicella-classico-docg-it1048.html']\n",
      "prices: 11\n",
      "reduced prices: 11\n",
      "['28.80', '28.40', '32.60', '12.25', '11.00', '9.30', '26.75', '35.75', '59.15', '16.10', '96.95']\n",
      "https://www.i-d-s.com/dubai/wine/wines-by-country/italy.html?p=13\n"
     ]
    },
    {
     "name": "stderr",
     "output_type": "stream",
     "text": [
      "/var/folders/9z/sjrbpv9j1996t3_4wv3ry65c0000gn/T/ipykernel_98632/3146571461.py:83: FutureWarning: The frame.append method is deprecated and will be removed from pandas in a future version. Use pandas.concat instead.\n",
      "  df_aggregated=df_aggregated.append(df)\n"
     ]
    },
    {
     "name": "stdout",
     "output_type": "stream",
     "text": [
      "name: 0\n",
      "[]\n",
      "url_product: 0\n",
      "[]\n",
      "prices: 0\n",
      "reduced prices: 0\n",
      "[]\n",
      "---------------\n"
     ]
    },
    {
     "name": "stderr",
     "output_type": "stream",
     "text": [
      "/var/folders/9z/sjrbpv9j1996t3_4wv3ry65c0000gn/T/ipykernel_98632/3146571461.py:83: FutureWarning: The frame.append method is deprecated and will be removed from pandas in a future version. Use pandas.concat instead.\n",
      "  df_aggregated=df_aggregated.append(df)\n"
     ]
    },
    {
     "name": "stdout",
     "output_type": "stream",
     "text": [
      "spain\n",
      "https://www.i-d-s.com/dubai/wine/wines-by-country/spain.html?p=1\n",
      "name: 12\n",
      "['El Escoces Volante \"Manga Del Brujo\", Syrah/Tempranillo/Garnacha)', 'Viñas Del Vero-Finca Lapiedra Blanco', 'Bodegas Mauro, Mauro Grenache,', 'Bodegas Y Viñedos Aalto Crianza Grenache', 'Teso De La Monja Romanico, Grenache', 'Flor De Vetus, Grenache,', 'Enate Crianza, Tempranillo – Cabernet Sauvignon', 'Bodegas Atalaya \"La Atalaya\"Garnacha', 'Viña Romana Heredad Del Viejo Imperio Crianza', 'Petit Pittacum, Mencia', \"Dominio De Tares 'Cepas Viejas' Mencia\", \"Bodegas Castro Ventosa 'El Castro De Valtuille' Barrica\"]\n",
      "url_product: 12\n",
      "['https://www.i-d-s.com/dubai/el-escoces-volante-manga-del-brujo-syrah-tempranillo-garnacha-sp4126.html', 'https://www.i-d-s.com/dubai/vi-as-del-vero-finca-lapiedra-blanco-sp4113.html', 'https://www.i-d-s.com/dubai/bodegas-mauro-mauro-grenache-sp4112.html', 'https://www.i-d-s.com/dubai/bodegas-y-vi-edos-aalto-crianza-grenache-sp4102.html', 'https://www.i-d-s.com/dubai/teso-de-la-monja-romanico-grenache-sp4103.html', 'https://www.i-d-s.com/dubai/flor-de-vetus-grenache-sp4105.html', 'https://www.i-d-s.com/dubai/enate-crianza-tempranillo-cabernet-sauvignon-sp4121.html', 'https://www.i-d-s.com/dubai/bodegas-atalaya-la-atalaya-garnacha-sp4179.html', 'https://www.i-d-s.com/dubai/vi-a-romana-heredad-del-viejo-imperio-crianza-sp4062.html', 'https://www.i-d-s.com/dubai/petit-pittacum-mencia-sp4065.html', 'https://www.i-d-s.com/dubai/dominio-de-tares-cepas-viejas-mencia-sp4069.html', 'https://www.i-d-s.com/dubai/bodegas-castro-ventosa-el-castro-de-valtuille-barrica-sp4072.html']\n",
      "prices: 12\n",
      "reduced prices: 12\n",
      "['8.55', '4.15', '25.65', '30.80', '6.95', '7.45', '6.95', '9.80', '7.05', '5.40', '10.10', '11.70']\n",
      "https://www.i-d-s.com/dubai/wine/wines-by-country/spain.html?p=2\n"
     ]
    },
    {
     "name": "stderr",
     "output_type": "stream",
     "text": [
      "/var/folders/9z/sjrbpv9j1996t3_4wv3ry65c0000gn/T/ipykernel_98632/3146571461.py:83: FutureWarning: The frame.append method is deprecated and will be removed from pandas in a future version. Use pandas.concat instead.\n",
      "  df_aggregated=df_aggregated.append(df)\n"
     ]
    },
    {
     "name": "stdout",
     "output_type": "stream",
     "text": [
      "name: 12\n",
      "['Viñas Del Bierzo Gran Bierzo Origen, Mencia', 'Viñas Del Bierzo Fundacion 1968, Mencia, Viñas Del Bierzo', 'Bodegas Y Vinedos Valderiz \"Valderiz De Chiripa\"', 'Bodegas Y Vinedos Valderiz \"Valdehermoso 9 Meses Tinta Del Pais\"', 'Bodegas Y Vinedos Valderiz \"Valderiz Juegabolos\" Tempranillo', 'Protos Gran Reserva, Ribera Del Duero', 'Emilio Moro Cepa 21', 'Cinema Crianza, Ribera Del Duero', 'Linaje Garsea Reserva, Ribera Del Duero', 'Cinema Paraiso, Ribera Del Duero', 'Tampesta \"Golan Rosado Roble\", Prieto Picudo', 'Teso De La Monja Victorino, Tinto De Toro']\n",
      "url_product: 12\n",
      "['https://www.i-d-s.com/dubai/vi-as-del-bierzo-gran-bierzo-origen-mencia-sp4074.html', 'https://www.i-d-s.com/dubai/vi-as-del-bierzo-fundacion-1968-mencia-vi-as-del-bierzo-sp4075.html', 'https://www.i-d-s.com/dubai/bodegas-y-vinedos-valderiz-valderiz-de-chiripa-sp4080.html', 'https://www.i-d-s.com/dubai/bodegas-y-vinedos-valderiz-valdehermoso-9-meses-tinta-del-pais-sp4078.html', 'https://www.i-d-s.com/dubai/bodegas-y-vinedos-valderiz-valderiz-juegabolos-tempranillo-sp4082.html', 'https://www.i-d-s.com/dubai/protos-gran-reserva-ribera-del-duero-sp4086.html', 'https://www.i-d-s.com/dubai/emilio-moro-cepa-21-sp4089.html', 'https://www.i-d-s.com/dubai/cinema-crianza-ribera-del-duero-sp4091.html', 'https://www.i-d-s.com/dubai/linaje-garsea-reserva-ribera-del-duero-sp4094.html', 'https://www.i-d-s.com/dubai/cinema-paraiso-ribera-del-duero-sp4097.html', 'https://www.i-d-s.com/dubai/tampesta-golan-rosado-roble-prieto-picudo-sp4110.html', 'https://www.i-d-s.com/dubai/teso-de-la-monja-victorino-tinto-de-toro-sp4104.html']\n",
      "prices: 12\n",
      "reduced prices: 12\n",
      "['9.35', '10.65', '9.10', '5.65', '20.85', '31.85', '14.20', '8.95', '13.20', '19.60', '5.25', '30.35']\n",
      "https://www.i-d-s.com/dubai/wine/wines-by-country/spain.html?p=3\n"
     ]
    },
    {
     "name": "stderr",
     "output_type": "stream",
     "text": [
      "/var/folders/9z/sjrbpv9j1996t3_4wv3ry65c0000gn/T/ipykernel_98632/3146571461.py:83: FutureWarning: The frame.append method is deprecated and will be removed from pandas in a future version. Use pandas.concat instead.\n",
      "  df_aggregated=df_aggregated.append(df)\n"
     ]
    },
    {
     "name": "stdout",
     "output_type": "stream",
     "text": [
      "name: 12\n",
      "['Maurodos \"San Román\" Tinta De Toro', 'Numanthia Toro, Tempranillo,', 'Gran Codorniu Pinot Noir Rosé', 'Agustí Torello Cava Kripta Gran Reserva Brut Nature', 'Vins El Cep, Mim Natura Brut Reserva Organic Magnum (1.5L)', 'Vinyes Domenech Bancal Del Bosc Blanc', 'Vinyes Domenech\"Rita\",', 'Álvaro Palacios Les Terrases Vinyes Velles, Priorat', 'Álvaro Palacios Camins De Priorat Grenache', 'Bodegas Habla Habla Del Silencio, Syrah-Cabernet Sauvignon-Tempranillo', 'Adegas Valminor, Valminor Minius Godello', 'Adegas Valminor\" Castanal 100,\"']\n",
      "url_product: 12\n",
      "['https://www.i-d-s.com/dubai/maurodos-san-rom-n-tinta-de-toro-sp4107.html', 'https://www.i-d-s.com/dubai/numanthia-toro-tempranillo-sp4108.html', 'https://www.i-d-s.com/dubai/gran-codorniu-pinot-noir-ros-sw4026.html', 'https://www.i-d-s.com/dubai/agust-torello-cava-kripta-gran-reserva-brut-nature-sw4019.html', 'https://www.i-d-s.com/dubai/vins-el-cep-mim-natura-brut-reserva-organic-magnum-1-5l-sw4032.html', 'https://www.i-d-s.com/dubai/vinyes-domenech-bancal-del-bosc-blanc-sp4047.html', 'https://www.i-d-s.com/dubai/vinyes-domenech-rita-sp4049.html', 'https://www.i-d-s.com/dubai/lvaro-palacios-les-terrases-vinyes-velles-priorat-sp4046.html', 'https://www.i-d-s.com/dubai/lvaro-palacios-camins-de-priorat-grenache-sp4045.html', 'https://www.i-d-s.com/dubai/bodegas-habla-habla-del-silencio-syrah-cabernet-sauvignon-tempranillo-sp4184.html', 'https://www.i-d-s.com/dubai/adegas-valminor-valminor-minius-godello-sp4129.html', 'https://www.i-d-s.com/dubai/adegas-valminor-castanal-100-sp4139.html']\n",
      "prices: 12\n",
      "reduced prices: 12\n",
      "['19.95', '29.80', '8.60', '48.45', '14.00', '7.05', '14.30', '23.55', '14.35', '8.80', '5.45', '15.15']\n",
      "https://www.i-d-s.com/dubai/wine/wines-by-country/spain.html?p=4\n"
     ]
    },
    {
     "name": "stderr",
     "output_type": "stream",
     "text": [
      "/var/folders/9z/sjrbpv9j1996t3_4wv3ry65c0000gn/T/ipykernel_98632/3146571461.py:83: FutureWarning: The frame.append method is deprecated and will be removed from pandas in a future version. Use pandas.concat instead.\n",
      "  df_aggregated=df_aggregated.append(df)\n"
     ]
    },
    {
     "name": "stdout",
     "output_type": "stream",
     "text": [
      "name: 12\n",
      "['Adega Alan De Val Pedrazais Godello Sobre Lias', 'Viñas Del Regajal \"El Regajal\"(Tempranillo/Grenache)', 'Bodegas Licinia \"Licinia\"(Tempranillo/Syrah/Cabernet Sauvignon)', 'Bodegas Juan Gil Blanco Moscatel Seco', 'Bodegas Alceño \"Alceno Monastrel 12 Meses\" (Monastrell/Syrah)', 'Casa Rojo Mmm Macho Man Monastrell', 'Muga Fermentado En Barrica, Rioja Blanco', 'Enrique Mendoza Merlot / Monastrell,', 'Pasamonte Organic Garnacha Tintorera', 'Bodegas Vegalfaro \"Los Altos Pago De Los Balagueses Organic \"(Syrah/Garnacha Tintorera)', 'Pago De Los Balagueses Organic Syrah, Bodegas Vegalfaro', 'Beronia Crianza Edicion Limitada']\n",
      "url_product: 12\n",
      "['https://www.i-d-s.com/dubai/adega-alan-de-val-pedrazais-godello-sobre-lias-sp4132.html', 'https://www.i-d-s.com/dubai/vi-as-del-regajal-el-regajal-tempranillo-grenache-sp4174.html', 'https://www.i-d-s.com/dubai/bodegas-licinia-licinia-tempranillo-syrah-cabernet-sauvignon-sp4176.html', 'https://www.i-d-s.com/dubai/bodegas-juan-gil-blanco-moscatel-seco-sp4161.html', 'https://www.i-d-s.com/dubai/bodegas-alce-o-alceno-monastrel-12-meses-monastrell-syrah-sp4165.html', 'https://www.i-d-s.com/dubai/casa-rojo-mmm-macho-man-monastrell-sp4167.html', 'https://www.i-d-s.com/dubai/muga-fermentado-en-barrica-rioja-blanco-sp4001.html', 'https://www.i-d-s.com/dubai/enrique-mendoza-merlot-monastrell-sp4144.html', 'https://www.i-d-s.com/dubai/pasamonte-organic-garnacha-tintorera-sp4155.html', 'https://www.i-d-s.com/dubai/bodegas-vegalfaro-los-altos-pago-de-los-balagueses-organic-syrah-garnacha-tintorera-sp4159.html', 'https://www.i-d-s.com/dubai/pago-de-los-balagueses-organic-syrah-bodegas-vegalfaro-sp4157.html', 'https://www.i-d-s.com/dubai/beronia-crianza-edicion-limitada-sp4187.html']\n",
      "prices: 12\n",
      "reduced prices: 12\n",
      "['10.70', '11.40', '17.95', '5.50', '6.80', '14.20', '8.30', '9.75', '7.80', '27.70', '10.85', '10.55']\n",
      "https://www.i-d-s.com/dubai/wine/wines-by-country/spain.html?p=5\n"
     ]
    },
    {
     "name": "stderr",
     "output_type": "stream",
     "text": [
      "/var/folders/9z/sjrbpv9j1996t3_4wv3ry65c0000gn/T/ipykernel_98632/3146571461.py:83: FutureWarning: The frame.append method is deprecated and will be removed from pandas in a future version. Use pandas.concat instead.\n",
      "  df_aggregated=df_aggregated.append(df)\n"
     ]
    },
    {
     "name": "stdout",
     "output_type": "stream",
     "text": [
      "name: 12\n",
      "['Perelada 3 Finques 2015', \"L'Expressió del Priorat\", 'Torroxal Albariño ', 'Emilio Moro Crianza, Ribera Del Duero', 'Bodegas Navajas Rioja Tinto', 'Miguel Torres Sangre de Toro', 'Miguel Torres Celeste Crianza', 'Vins El Cep Clot Del Roure Xarel-Lo', 'Vins El Cep Ot Rosat De Terrer Tempranillo/Macabeo', 'Vins El Cep Gr5 Senders Negre De Terrer( Tempranillo/Cabernet/Merlot/Syrah)', 'Les Cousins Marc &amp; Adrià \"L`Inconscient\", Priorat', 'Pittacum Bierzo, Mencia']\n",
      "url_product: 12\n",
      "['https://www.i-d-s.com/dubai/perelada-3-finques-2015-sp2008.html', 'https://www.i-d-s.com/dubai/l-expressi-del-priorat-sp2017.html', 'https://www.i-d-s.com/dubai/torroxal-albari-o-sp2024.html', 'https://www.i-d-s.com/dubai/emilio-moro-crianza-ribera-del-duero-sp4090.html', 'https://www.i-d-s.com/dubai/bodegas-navajas-rioja-tinto-sp1014.html', 'https://www.i-d-s.com/dubai/miguel-torres-sangre-de-toro-sp1012.html', 'https://www.i-d-s.com/dubai/miguel-torres-celeste-crianza-sp1010.html', 'https://www.i-d-s.com/dubai/vins-el-cep-clot-del-roure-xarel-lo-sp4036.html', 'https://www.i-d-s.com/dubai/vins-el-cep-ot-rosat-de-terrer-tempranillo-macabeo-sp4037.html', 'https://www.i-d-s.com/dubai/vins-el-cep-gr5-senders-negre-de-terrer-tempranillo-cabernet-merlot-syrah-sp4039.html', 'https://www.i-d-s.com/dubai/les-cousins-marc-adri-l-inconscient-priorat-sp4044.html', 'https://www.i-d-s.com/dubai/pittacum-bierzo-mencia-sp4066.html']\n",
      "prices: 12\n",
      "reduced prices: 12\n",
      "['12.25', '22.60', '16.10', '29.55', '9.60', '9.20', '25.35', '17.40', '3.90', '11.75', '8.85', '14.55']\n",
      "https://www.i-d-s.com/dubai/wine/wines-by-country/spain.html?p=6\n"
     ]
    },
    {
     "name": "stderr",
     "output_type": "stream",
     "text": [
      "/var/folders/9z/sjrbpv9j1996t3_4wv3ry65c0000gn/T/ipykernel_98632/3146571461.py:83: FutureWarning: The frame.append method is deprecated and will be removed from pandas in a future version. Use pandas.concat instead.\n",
      "  df_aggregated=df_aggregated.append(df)\n"
     ]
    },
    {
     "name": "stdout",
     "output_type": "stream",
     "text": [
      "name: 12\n",
      "['Gran Bierzo \"Bierzo 8 Meses\" (Monastrell/Syrah)', \"Bodegas Castro Ventosa 'El Castro De Valtuille' Mencia Joven\", 'Martín Codax Cuatro Pasos Mencia', '12 Lunas Tinto', 'Baltasar Gracián Blanco De Hielo, Macebeo, Baltasar Gracián', 'Bodegas Godeval \"Godeval\", Godello', 'Pazo San Mauro, Albariño, Rias Baixas', 'Adegas Valminor Minius Mencia', 'Bobal De San Juan Tinto', 'Alceno Syrah 50 Barricas, Monastrell/Syrah, Bodegas Alceño', 'Casa De Monroy \"Alceno De Monroy Garnacha Y Syrah 3M\"', 'Viñas Del Regajal \"Las Retamas Del Regaja']\n",
      "url_product: 12\n",
      "['https://www.i-d-s.com/dubai/gran-bierzo-bierzo-8-meses-monastrell-syrah-sp4067.html', 'https://www.i-d-s.com/dubai/bodegas-castro-ventosa-el-castro-de-valtuille-mencia-joven-sp4071.html', 'https://www.i-d-s.com/dubai/mart-n-codax-cuatro-pasos-mencia-sp4073.html', 'https://www.i-d-s.com/dubai/12-lunas-tinto-sp4119.html', 'https://www.i-d-s.com/dubai/baltasar-graci-n-blanco-de-hielo-macebeo-baltasar-graci-n-sp4124.html', 'https://www.i-d-s.com/dubai/bodegas-godeval-godeval-godello-sp4131.html', 'https://www.i-d-s.com/dubai/pazo-san-mauro-albari-o-rias-baixas-sp4140.html', 'https://www.i-d-s.com/dubai/adegas-valminor-minius-mencia-sp4141.html', 'https://www.i-d-s.com/dubai/bobal-de-san-juan-tinto-sp4153.html', 'https://www.i-d-s.com/dubai/alceno-syrah-50-barricas-monastrell-syrah-bodegas-alce-o-sp4164.html', 'https://www.i-d-s.com/dubai/casa-de-monroy-alceno-de-monroy-garnacha-y-syrah-3m-sp4172.html', 'https://www.i-d-s.com/dubai/vi-as-del-regajal-las-retamas-del-regaja-sp4173.html']\n",
      "prices: 12\n",
      "reduced prices: 12\n",
      "['10.65', '11.05', '11.65', '14.15', '13.95', '10.10', '21.50', '6.33', '9.35', '10.60', '9.80', '10.70']\n",
      "https://www.i-d-s.com/dubai/wine/wines-by-country/spain.html?p=7\n"
     ]
    },
    {
     "name": "stderr",
     "output_type": "stream",
     "text": [
      "/var/folders/9z/sjrbpv9j1996t3_4wv3ry65c0000gn/T/ipykernel_98632/3146571461.py:83: FutureWarning: The frame.append method is deprecated and will be removed from pandas in a future version. Use pandas.concat instead.\n",
      "  df_aggregated=df_aggregated.append(df)\n"
     ]
    },
    {
     "name": "stdout",
     "output_type": "stream",
     "text": [
      "name: 12\n",
      "['Bodegas Alejandro Fernandez\" El Vinculo Tempranillo (Crianza)', 'Anna Blanc De Blancs, Codorníu Brut Reserva', 'González Byass Alfonso Oloroso Seco', 'Gonzalez Byass Solera 1847 Cream', 'La Ina Fino', 'Barón Micaela Manzanilla', \"Marques De Murrieta 'Capellania'&nbsp; Blanco Reserva\", 'Patrocinio Zinio Garnacha \"Terroir De Zinio\"', 'Bodega Contador Predicador Rioja,', 'Contino Reserva, Rioja,', 'Cvne Imperial Reserva, Rioja', 'Vinícola Real 200 Monjes, Rioja']\n",
      "url_product: 12\n",
      "['https://www.i-d-s.com/dubai/bodegas-alejandro-fernandez-el-vinculo-tempranillo-crianza-sp4178.html', 'https://www.i-d-s.com/dubai/anna-blanc-de-blancs-codorn-u-sw4028.html', 'https://www.i-d-s.com/dubai/gonz-lez-byass-alfonso-oloroso-seco-fd4025.html', 'https://www.i-d-s.com/dubai/gonzalez-byass-solera-1847-cream-fd4022.html', 'https://www.i-d-s.com/dubai/la-ina-fino-fd4014.html', 'https://www.i-d-s.com/dubai/bar-n-micaela-manzanilla-fd4013.html', 'https://www.i-d-s.com/dubai/marques-de-murrieta-capellania-reserva-sp4002.html', 'https://www.i-d-s.com/dubai/patrocinio-zinio-garnacha-sp4012.html', 'https://www.i-d-s.com/dubai/bodega-contador-predicador-rioja-sp4027.html', 'https://www.i-d-s.com/dubai/contino-reserva-rioja-sp4028.html', 'https://www.i-d-s.com/dubai/cvne-imperial-reserva-rioja-sp4029.html', 'https://www.i-d-s.com/dubai/vin-cola-real-200-monjes-rioja-sp4030.html']\n",
      "prices: 12\n",
      "reduced prices: 12\n",
      "['15.15', '9.00', '7.55', '6.10', '5.40', '5.05', '37.37', '4.55', '17.85', '19.20', '34.35', '49.15']\n",
      "https://www.i-d-s.com/dubai/wine/wines-by-country/spain.html?p=8\n"
     ]
    },
    {
     "name": "stderr",
     "output_type": "stream",
     "text": [
      "/var/folders/9z/sjrbpv9j1996t3_4wv3ry65c0000gn/T/ipykernel_98632/3146571461.py:83: FutureWarning: The frame.append method is deprecated and will be removed from pandas in a future version. Use pandas.concat instead.\n",
      "  df_aggregated=df_aggregated.append(df)\n"
     ]
    },
    {
     "name": "stdout",
     "output_type": "stream",
     "text": [
      "name: 12\n",
      "['Vinyes Domenech \"Boig Per Tu\" (Grenache/Carignan)', \"Vinyes Domenech Vi D'Amfora Natural, Grenache\", 'Ossian Viñas Viejas Vedejo', 'Shaya Habis Verdejo , Rueda', 'Adegas Valminor \"Abade Do Couto\" El Rebelde ( Souzao/Caino Tinto/Alvarelhao)', \"Adegas Valminor'Davila O Rasal (Albarino/Loureiro/Treixadura)\", 'Bodegas Navajas Rioja Blanco', 'CVNE, Monopole Unoaked Blanco Rioja', 'La Val Vina Ludy Albariño', 'La Miranda de Secastilla Garnacha Blanca', 'Bodega Navajas Rioja Rosado', 'Torres Vina Sol.']\n",
      "url_product: 12\n",
      "['https://www.i-d-s.com/dubai/vinyes-domenech-boig-per-tu-grenache-carignan-sp4052.html', 'https://www.i-d-s.com/dubai/vinyes-domenech-vi-d-amfora-natural-grenache-sp4051.html', 'https://www.i-d-s.com/dubai/ossian-vi-as-viejas-vedejo-sp4061.html', 'https://www.i-d-s.com/dubai/shaya-habis-verdejo-rueda-sp4060.html', 'https://www.i-d-s.com/dubai/adegas-valminor-abade-do-couto-souzao-caino-tinto-alvarelhao-sp4133.html', 'https://www.i-d-s.com/dubai/adegas-valminor-davila-o-rasal-albarino-loureiro-treixadura-sp4136.html', 'https://www.i-d-s.com/dubai/bodegas-navajas-rioja-blanco-sp1000.html', 'https://www.i-d-s.com/dubai/cvne-monopole-unoaked-blanco-rioja-sp1033.html', 'https://www.i-d-s.com/dubai/la-val-vina-ludy-albari-o-sp1007.html', 'https://www.i-d-s.com/dubai/la-miranda-de-secastilla-garnacha-blanca-sp1006.html', 'https://www.i-d-s.com/dubai/bodega-navajas-rioja-rosado-sp1008.html', 'https://www.i-d-s.com/dubai/torres-vina-sol-mw3000.html']\n",
      "prices: 12\n",
      "reduced prices: 12\n",
      "['8.15', '8.60', '36.28', '47.25', '9.55', '17.10', '9.90', '10.15', '13.40', '10.46', '9.60', '39.46']\n",
      "https://www.i-d-s.com/dubai/wine/wines-by-country/spain.html?p=9\n"
     ]
    },
    {
     "name": "stderr",
     "output_type": "stream",
     "text": [
      "/var/folders/9z/sjrbpv9j1996t3_4wv3ry65c0000gn/T/ipykernel_98632/3146571461.py:83: FutureWarning: The frame.append method is deprecated and will be removed from pandas in a future version. Use pandas.concat instead.\n",
      "  df_aggregated=df_aggregated.append(df)\n"
     ]
    },
    {
     "name": "stdout",
     "output_type": "stream",
     "text": [
      "name: 7\n",
      "[\"Merum Priorati 'INICI' Priorat\", 'Campo Viejo Tempranillo', 'CVNE Rioja Crianza', 'Campo Viejo Reserva', 'Vina Real Rioja Crianza', 'Campo Viejo Rioja Gran Reserva', 'CVNE, Rioja Reserva Magnum (1.5L)']\n",
      "url_product: 7\n",
      "['https://www.i-d-s.com/dubai/merum-priorati-ardiles-priorat-sp1011.html', 'https://www.i-d-s.com/dubai/campo-viejo-tempranillo-sp1015.html', 'https://www.i-d-s.com/dubai/cvne-rioja-crianza-sp1019.html', 'https://www.i-d-s.com/dubai/campo-viejo-reserva-sp1020.html', 'https://www.i-d-s.com/dubai/vina-real-rioja-crianza-sp1021.html', 'https://www.i-d-s.com/dubai/campo-viejo-rioja-gran-reserva-sp1023.html', 'https://www.i-d-s.com/dubai/cvne-rioja-reserva-magnums-sp1026.html']\n",
      "prices: 7\n",
      "reduced prices: 7\n",
      "['28.85', '8.00', '11.80', '17.25', '12.50', '17.35', '42.60']\n",
      "https://www.i-d-s.com/dubai/wine/wines-by-country/spain.html?p=10\n"
     ]
    },
    {
     "name": "stderr",
     "output_type": "stream",
     "text": [
      "/var/folders/9z/sjrbpv9j1996t3_4wv3ry65c0000gn/T/ipykernel_98632/3146571461.py:83: FutureWarning: The frame.append method is deprecated and will be removed from pandas in a future version. Use pandas.concat instead.\n",
      "  df_aggregated=df_aggregated.append(df)\n"
     ]
    },
    {
     "name": "stdout",
     "output_type": "stream",
     "text": [
      "name: 0\n",
      "[]\n",
      "url_product: 0\n",
      "[]\n",
      "prices: 0\n",
      "reduced prices: 0\n",
      "[]\n"
     ]
    },
    {
     "name": "stderr",
     "output_type": "stream",
     "text": [
      "/var/folders/9z/sjrbpv9j1996t3_4wv3ry65c0000gn/T/ipykernel_98632/3146571461.py:83: FutureWarning: The frame.append method is deprecated and will be removed from pandas in a future version. Use pandas.concat instead.\n",
      "  df_aggregated=df_aggregated.append(df)\n"
     ]
    },
    {
     "name": "stdout",
     "output_type": "stream",
     "text": [
      "---------------\n",
      "rest-of-the-world\n",
      "https://www.i-d-s.com/dubai/wine/wines-by-country/rest-of-the-world.html?p=1\n",
      "name: 12\n",
      "['Grover Art Collection Viognier 2020 ', 'Grover Art Collection Cabernet Shiraz  2020', 'Grover La Reserve 2018 ', 'Sula Sauvignon Blanc', 'Sula Chenin Blanc Reserve', 'Sula Shiraz', 'Weingut Fred Loimer Kamptal Grüner Veltliner, Kamptal', 'Edition Chremisa Grüner Veltliner', 'Winzer Krems Classic Blauer Zweigelt', 'Winzer Krems Edition Chremisa Blauer Zweigelt', 'Wein Gattinger Grüner Veltliner Smaragd Weitenberg', 'Wiengut Diwald Luft &amp; Liebe Zweigelt']\n",
      "url_product: 12\n",
      "['https://www.i-d-s.com/dubai/grover-art-collection-viognier-2020-in4000.html', 'https://www.i-d-s.com/dubai/grover-art-collection-cabernet-shiraz-2020-in4001.html', 'https://www.i-d-s.com/dubai/grover-la-reserve-2018-in4002.html', 'https://www.i-d-s.com/dubai/sula-sauvignon-blanc-in1000.html', 'https://www.i-d-s.com/dubai/sula-chenin-blanc-reserve-in1001.html', 'https://www.i-d-s.com/dubai/sula-shiraz-in1002.html', 'https://www.i-d-s.com/dubai/weingut-fred-loimer-kamptal-gr-ner-veltliner-kamptal-at4012.html', 'https://www.i-d-s.com/dubai/edition-chremisa-gr-ner-veltliner-at4014.html', 'https://www.i-d-s.com/dubai/winzer-krems-classic-blauer-zweigelt-at4016.html', 'https://www.i-d-s.com/dubai/winzer-krems-edition-chremisa-blauer-zweigelt-at4018.html', 'https://www.i-d-s.com/dubai/wein-gattinger-gr-ner-veltliner-smaragd-weitenberg-at4002.html', 'https://www.i-d-s.com/dubai/wiengut-diwald-luft-liebe-zweigelt-at4007.html']\n",
      "prices: 12\n",
      "reduced prices: 12\n",
      "['13.05', '14.25', '15.05', '13.65', '13.65', '14.70', '9.45', '9.05', '4.95', '9.65', '21.75', '11.00']\n",
      "https://www.i-d-s.com/dubai/wine/wines-by-country/rest-of-the-world.html?p=2\n"
     ]
    },
    {
     "name": "stderr",
     "output_type": "stream",
     "text": [
      "/var/folders/9z/sjrbpv9j1996t3_4wv3ry65c0000gn/T/ipykernel_98632/3146571461.py:83: FutureWarning: The frame.append method is deprecated and will be removed from pandas in a future version. Use pandas.concat instead.\n",
      "  df_aggregated=df_aggregated.append(df)\n"
     ]
    },
    {
     "name": "stdout",
     "output_type": "stream",
     "text": [
      "name: 12\n",
      "['Idaia Winery, Idaia Gi (Kotsifali, Mandilaria)', 'Argyros, Assyrtiko', 'Alpha Estate, Axia', 'Tselepos, Mantinia (Moschofilero)', 'Argyros, Visanto Mezzo 4 Year Old', 'Dobogó Tokaj Furmint', 'Dobogó ‘Mylitta’ Tokaj Noble Late Harvest', 'Pannonhalma Rhine Riesling', 'Quinta Do Ameal Vinho Verde', 'Herdade Do Esporão Colheita White* (Bio)-Alentejo', 'Herdade Do Esporão Private Selection White-Alentejo', 'Herdade Do Esporão Colheita Red* (Bio)']\n",
      "url_product: 12\n",
      "['https://www.i-d-s.com/dubai/idaia-winery-idaia-gi-kotsifali-mandilaria-gk4014.html', 'https://www.i-d-s.com/dubai/argyros-assyrtiko-gk4010.html', 'https://www.i-d-s.com/dubai/alpha-estate-axia-gk4006.html', 'https://www.i-d-s.com/dubai/tselepos-mantinia-moschofilero-gk4016.html', 'https://www.i-d-s.com/dubai/argyros-visanto-mezzo-4-year-old-dw4022.html', 'https://www.i-d-s.com/dubai/dobog-tokaj-furmint-dw4008.html', 'https://www.i-d-s.com/dubai/dobog-mylitta-tokaj-noble-late-harvest-dw4009.html', 'https://www.i-d-s.com/dubai/pannonhalma-rhine-riesling-hu4000.html', 'https://www.i-d-s.com/dubai/quinta-do-ameal-vinho-verde-pt4016.html', 'https://www.i-d-s.com/dubai/herdade-do-espor-o-colheita-white-bio-alentejo-pt4020.html', 'https://www.i-d-s.com/dubai/herdade-do-espor-o-private-selection-white-alentejo-pt4022.html', 'https://www.i-d-s.com/dubai/herdade-do-espor-o-colheita-red-bio-pt4024.html']\n",
      "prices: 12\n",
      "reduced prices: 12\n",
      "['9.40', '20.10', '8.45', '7.95', '32.35', '13.70', '13.90', '12.80', '7.35', '6.70', '13.70', '6.70']\n",
      "https://www.i-d-s.com/dubai/wine/wines-by-country/rest-of-the-world.html?p=3\n"
     ]
    },
    {
     "name": "stderr",
     "output_type": "stream",
     "text": [
      "/var/folders/9z/sjrbpv9j1996t3_4wv3ry65c0000gn/T/ipykernel_98632/3146571461.py:83: FutureWarning: The frame.append method is deprecated and will be removed from pandas in a future version. Use pandas.concat instead.\n",
      "  df_aggregated=df_aggregated.append(df)\n"
     ]
    },
    {
     "name": "stdout",
     "output_type": "stream",
     "text": [
      "name: 12\n",
      "['Herdade Do Esporão Monte Velho Red Magnum in gift box (1.5L)', 'Herdade Do Esporão Reserva Red', 'Herdade Do Esporão Private Selection Red', 'Herdade Do Esporão Reserva Red Magnum (1.5L)', 'Ramozeiros Branco,Quinta De Ramozeiros', 'Murcas Assobio White-Quintas Dos Murcas', 'Symington Family Altano Douro Tinto Doc', 'Quintas De Ramozeiros Tinto', 'Quinta Dos Murcas Assobio Red,Douro', 'Quinta De Azevedo, Vinho Verde Reserva', 'Azul Portugal Vinho Verde Reserva', 'Chateau Kardenakhi \"Saperavi\" qvevri Nagdi Marani']\n",
      "url_product: 12\n",
      "['https://www.i-d-s.com/dubai/herdade-do-espor-o-monte-velho-red-magnum-in-gift-box-1-5l-pt4026.html', 'https://www.i-d-s.com/dubai/herdade-do-espor-o-reserva-red-pt4028.html', 'https://www.i-d-s.com/dubai/herdade-do-espor-o-private-selection-red-pt4029.html', 'https://www.i-d-s.com/dubai/herdade-do-espor-o-reserva-red-magnum-1-5l-pt4030.html', 'https://www.i-d-s.com/dubai/ramozeiros-branco-quinta-de-ramozeiros-pt4001.html', 'https://www.i-d-s.com/dubai/murcas-assobio-white-quintas-dos-murcas-pt4002.html', 'https://www.i-d-s.com/dubai/symington-family-altano-douro-tinto-doc-pt4005.html', 'https://www.i-d-s.com/dubai/quintas-de-ramozeiros-tinto-pt4008.html', 'https://www.i-d-s.com/dubai/quinta-dos-murcas-assobio-red-douro-pt4009.html', 'https://www.i-d-s.com/dubai/quinta-de-azevedo-vinho-verde-reserva-pt4014.html', 'https://www.i-d-s.com/dubai/azul-portugal-vinho-verde-reserva-pt4015.html', 'https://www.i-d-s.com/dubai/chateau-kardenakhi-saperavi-qvevri-nagdi-marani-go1005.html']\n",
      "prices: 12\n",
      "reduced prices: 12\n",
      "['8.90', '12.00', '27.95', '31.65', '5.60', '6.35', '6.15', '6.10', '6.50', '5.70', '5.30', '20.20']\n",
      "https://www.i-d-s.com/dubai/wine/wines-by-country/rest-of-the-world.html?p=4\n"
     ]
    },
    {
     "name": "stderr",
     "output_type": "stream",
     "text": [
      "/var/folders/9z/sjrbpv9j1996t3_4wv3ry65c0000gn/T/ipykernel_98632/3146571461.py:83: FutureWarning: The frame.append method is deprecated and will be removed from pandas in a future version. Use pandas.concat instead.\n",
      "  df_aggregated=df_aggregated.append(df)\n"
     ]
    },
    {
     "name": "stdout",
     "output_type": "stream",
     "text": [
      "name: 12\n",
      "['Chateau Kardenakhi \"Tsarapi\" qvevri 2016 Nagdi Marani', 'Wiengut Diwald Luft &amp; Liebe Grüner Veltliner', 'Wiengut Diwald Selektion Zweigelt', 'Esterházy Wiengut Zweigelt Classic', 'Golan Heights Gamla Cabernet Merlot ', 'Project B Sauvignon Blanc', \"Taylor's Fine Ruby Port\", 'Sandeman Ruby Port', 'Sepp Moser Grüner Veltliner Organic', 'Sepp Moser Zweigelt Organic', 'Trius Sauvignon Blanc', 'Trius Merlot']\n",
      "url_product: 12\n",
      "['https://www.i-d-s.com/dubai/chateau-kardenakhi-tsarapi-qvevri-2016-nagdi-marani-go1006.html', 'https://www.i-d-s.com/dubai/wiengut-diwald-luft-liebe-gr-ner-veltliner-at4005.html', 'https://www.i-d-s.com/dubai/wiengut-diwald-selektion-zweigelt-at4006.html', 'https://www.i-d-s.com/dubai/esterh-zy-wiengut-zweigelt-classic-at4011.html', 'https://www.i-d-s.com/dubai/golan-heights-gamla-cabernet-merlot-il1001.html', 'https://www.i-d-s.com/dubai/project-b-sauvignon-blanc-ca1005.html', 'https://www.i-d-s.com/dubai/taylor-s-fine-ruby-port-fd4033.html', 'https://www.i-d-s.com/dubai/sandeman-ruby-port-fd1003.html', 'https://www.i-d-s.com/dubai/sepp-moser-gr-ner-veltliner-organic-at1000.html', 'https://www.i-d-s.com/dubai/sepp-moser-zweigelt-organic-at1002.html', 'https://www.i-d-s.com/dubai/trius-sauvignon-blanc-ca1000.html', 'https://www.i-d-s.com/dubai/trius-merlot-ca1001.html']\n",
      "prices: 12\n",
      "reduced prices: 12\n",
      "['19.01', '18.50', '8.90', '13.80', '19.50', '20.49', '13.15', '8.10', '15.15', '15.15', '24.35', '24.35']\n",
      "https://www.i-d-s.com/dubai/wine/wines-by-country/rest-of-the-world.html?p=5\n"
     ]
    },
    {
     "name": "stderr",
     "output_type": "stream",
     "text": [
      "/var/folders/9z/sjrbpv9j1996t3_4wv3ry65c0000gn/T/ipykernel_98632/3146571461.py:83: FutureWarning: The frame.append method is deprecated and will be removed from pandas in a future version. Use pandas.concat instead.\n",
      "  df_aggregated=df_aggregated.append(df)\n"
     ]
    },
    {
     "name": "stdout",
     "output_type": "stream",
     "text": [
      "name: 12\n",
      "['Alpha Estate Malagouzia Single Vineyard Turtles', 'Alpha Estate Red', 'Alpha Estate Xinomavro Single Vineyard Hedgehog', 'Ktima Gerovassiliou Malagousia', 'Ktima Gerovassiliou White', 'Ktima Gerovassiliou Xinomavro Rosé', 'Ktima Gerovassiliou AVATON', 'Teliani Valley Glekhuri Kisi Qvevri', 'Teliani Valley Saperavi', 'Teliani Valley Glekhuri Kisiskhevi Saperavi Qvevri', 'Grace Koshu Kayagatake, Grace Winery, Yamanashi', 'Grace Koshu Private Reserve, Grace Winery Grace Yamanashi']\n",
      "url_product: 12\n",
      "['https://www.i-d-s.com/dubai/catalog/product/view/id/12726/s/alpha-estate-malagouzia-single-vineyard-turtles-gk1001/category/486/', 'https://www.i-d-s.com/dubai/alpha-estate-red-gk1005.html', 'https://www.i-d-s.com/dubai/alpha-estate-xinomavro-single-vineyard-hedgehog-gk1007.html', 'https://www.i-d-s.com/dubai/ktima-gerovassiliou-malagousia-gk1009.html', 'https://www.i-d-s.com/dubai/ktima-gerovassiliou-white-gk1010.html', 'https://www.i-d-s.com/dubai/ktima-gerovassiliou-xinomavro-rose-gk1011.html', 'https://www.i-d-s.com/dubai/ktima-gerovassiliou-avaton-gk1012.html', 'https://www.i-d-s.com/dubai/teliani-valley-glekhuri-kisi-qvevri-go1000.html', 'https://www.i-d-s.com/dubai/teliani-valley-saperavi-go1001.html', 'https://www.i-d-s.com/dubai/teliani-valley-glekhuri-kisiskhevi-saperavi-qvevri-go1002.html', 'https://www.i-d-s.com/dubai/grace-koshu-kayagatake-grace-winery-yamanashi-jp1000.html', 'https://www.i-d-s.com/dubai/grace-koshu-private-reserve-grace-winery-grace-yamanashi-jp1001.html']\n",
      "prices: 12\n",
      "reduced prices: 12\n",
      "['12.45', '28.20', '16.80', '21.55', '18.90', '20.95', '29.15', '22.55', '13.30', '22.55', '29.10', '33.75']\n",
      "https://www.i-d-s.com/dubai/wine/wines-by-country/rest-of-the-world.html?p=6\n"
     ]
    },
    {
     "name": "stderr",
     "output_type": "stream",
     "text": [
      "/var/folders/9z/sjrbpv9j1996t3_4wv3ry65c0000gn/T/ipykernel_98632/3146571461.py:83: FutureWarning: The frame.append method is deprecated and will be removed from pandas in a future version. Use pandas.concat instead.\n",
      "  df_aggregated=df_aggregated.append(df)\n"
     ]
    },
    {
     "name": "stdout",
     "output_type": "stream",
     "text": [
      "name: 7\n",
      "['Château Ksara Blanc de Blancs', 'Château Ksara Sunset Rosé', 'Vinho Verde Loureiro/Alvarinho, Azevedo, Portugal', 'Mateus Rosé', 'Terra Franca,Vinho Regional Tinto', 'Calusari Pinot Grigio', 'Calusari Pinot Noir']\n",
      "url_product: 7\n",
      "['https://www.i-d-s.com/dubai/ch-teau-ksara-blanc-de-blancs-lb1000.html', 'https://www.i-d-s.com/dubai/ch-teau-ksara-sunset-ros-lb1002.html', 'https://www.i-d-s.com/dubai/vinho-verde-loureiro-alvarinho-azevedo-portugal-pt1001.html', 'https://www.i-d-s.com/dubai/mateus-ros-pt1002.html', 'https://www.i-d-s.com/dubai/terra-franca-vinho-regional-tinto-pt1003.html', 'https://www.i-d-s.com/dubai/calusari-pinot-grigio-ro1000.html', 'https://www.i-d-s.com/dubai/calusari-pinot-noir-ro1001.html']\n",
      "prices: 7\n",
      "reduced prices: 7\n",
      "['11.90', '10.55', '10.85', '8.65', '8.00', '8.85', '8.85']\n",
      "https://www.i-d-s.com/dubai/wine/wines-by-country/rest-of-the-world.html?p=7\n"
     ]
    },
    {
     "name": "stderr",
     "output_type": "stream",
     "text": [
      "/var/folders/9z/sjrbpv9j1996t3_4wv3ry65c0000gn/T/ipykernel_98632/3146571461.py:83: FutureWarning: The frame.append method is deprecated and will be removed from pandas in a future version. Use pandas.concat instead.\n",
      "  df_aggregated=df_aggregated.append(df)\n"
     ]
    },
    {
     "name": "stdout",
     "output_type": "stream",
     "text": [
      "name: 0\n",
      "[]\n",
      "url_product: 0\n",
      "[]\n",
      "prices: 0\n",
      "reduced prices: 0\n",
      "[]\n"
     ]
    },
    {
     "name": "stderr",
     "output_type": "stream",
     "text": [
      "/var/folders/9z/sjrbpv9j1996t3_4wv3ry65c0000gn/T/ipykernel_98632/3146571461.py:83: FutureWarning: The frame.append method is deprecated and will be removed from pandas in a future version. Use pandas.concat instead.\n",
      "  df_aggregated=df_aggregated.append(df)\n"
     ]
    },
    {
     "name": "stdout",
     "output_type": "stream",
     "text": [
      "---------------\n"
     ]
    }
   ],
   "source": [
    "df_wine_diplo=get_data(parameters[0])"
   ]
  },
  {
   "cell_type": "code",
   "execution_count": 7,
   "id": "84d68a74",
   "metadata": {},
   "outputs": [
    {
     "data": {
      "text/html": [
       "<div>\n",
       "<style scoped>\n",
       "    .dataframe tbody tr th:only-of-type {\n",
       "        vertical-align: middle;\n",
       "    }\n",
       "\n",
       "    .dataframe tbody tr th {\n",
       "        vertical-align: top;\n",
       "    }\n",
       "\n",
       "    .dataframe thead th {\n",
       "        text-align: right;\n",
       "    }\n",
       "</style>\n",
       "<table border=\"1\" class=\"dataframe\">\n",
       "  <thead>\n",
       "    <tr style=\"text-align: right;\">\n",
       "      <th></th>\n",
       "      <th>0</th>\n",
       "      <th>1</th>\n",
       "      <th>2</th>\n",
       "      <th>country</th>\n",
       "    </tr>\n",
       "  </thead>\n",
       "  <tbody>\n",
       "    <tr>\n",
       "      <th>0</th>\n",
       "      <td>64.99</td>\n",
       "      <td>Clos Mireille Blanc, Domaines Ott</td>\n",
       "      <td>https://www.i-d-s.com/dubai/clos-mireille-blan...</td>\n",
       "      <td>france</td>\n",
       "    </tr>\n",
       "    <tr>\n",
       "      <th>1</th>\n",
       "      <td>26.55</td>\n",
       "      <td>L'Héritage` Pouilly-Fumé, Domaine Figeat, Loir...</td>\n",
       "      <td>https://www.i-d-s.com/dubai/l-h-ritage-pouilly...</td>\n",
       "      <td>france</td>\n",
       "    </tr>\n",
       "    <tr>\n",
       "      <th>2</th>\n",
       "      <td>35.10</td>\n",
       "      <td>Saint-Émilion Grand Cru, Château Tour de Capet...</td>\n",
       "      <td>https://www.i-d-s.com/dubai/saint-milion-grand...</td>\n",
       "      <td>france</td>\n",
       "    </tr>\n",
       "    <tr>\n",
       "      <th>3</th>\n",
       "      <td>28.05</td>\n",
       "      <td>Médoc Cru Bourgeois, Château Patache d'Aux, Bo...</td>\n",
       "      <td>https://www.i-d-s.com/dubai/m-doc-cru-bourgeoi...</td>\n",
       "      <td>france</td>\n",
       "    </tr>\n",
       "    <tr>\n",
       "      <th>4</th>\n",
       "      <td>103.45</td>\n",
       "      <td>2017 Chateau Croix Mouton</td>\n",
       "      <td>https://www.i-d-s.com/dubai/2017-chateau-croix...</td>\n",
       "      <td>france</td>\n",
       "    </tr>\n",
       "    <tr>\n",
       "      <th>...</th>\n",
       "      <td>...</td>\n",
       "      <td>...</td>\n",
       "      <td>...</td>\n",
       "      <td>...</td>\n",
       "    </tr>\n",
       "    <tr>\n",
       "      <th>2</th>\n",
       "      <td>10.85</td>\n",
       "      <td>Vinho Verde Loureiro/Alvarinho, Azevedo, Portugal</td>\n",
       "      <td>https://www.i-d-s.com/dubai/vinho-verde-lourei...</td>\n",
       "      <td>rest-of-the-world</td>\n",
       "    </tr>\n",
       "    <tr>\n",
       "      <th>3</th>\n",
       "      <td>8.65</td>\n",
       "      <td>Mateus Rosé</td>\n",
       "      <td>https://www.i-d-s.com/dubai/mateus-ros-pt1002....</td>\n",
       "      <td>rest-of-the-world</td>\n",
       "    </tr>\n",
       "    <tr>\n",
       "      <th>4</th>\n",
       "      <td>8.00</td>\n",
       "      <td>Terra Franca,Vinho Regional Tinto</td>\n",
       "      <td>https://www.i-d-s.com/dubai/terra-franca-vinho...</td>\n",
       "      <td>rest-of-the-world</td>\n",
       "    </tr>\n",
       "    <tr>\n",
       "      <th>5</th>\n",
       "      <td>8.85</td>\n",
       "      <td>Calusari Pinot Grigio</td>\n",
       "      <td>https://www.i-d-s.com/dubai/calusari-pinot-gri...</td>\n",
       "      <td>rest-of-the-world</td>\n",
       "    </tr>\n",
       "    <tr>\n",
       "      <th>6</th>\n",
       "      <td>8.85</td>\n",
       "      <td>Calusari Pinot Noir</td>\n",
       "      <td>https://www.i-d-s.com/dubai/calusari-pinot-noi...</td>\n",
       "      <td>rest-of-the-world</td>\n",
       "    </tr>\n",
       "  </tbody>\n",
       "</table>\n",
       "<p>1111 rows × 4 columns</p>\n",
       "</div>"
      ],
      "text/plain": [
       "         0                                                  1  \\\n",
       "0    64.99                  Clos Mireille Blanc, Domaines Ott   \n",
       "1    26.55  L'Héritage` Pouilly-Fumé, Domaine Figeat, Loir...   \n",
       "2    35.10  Saint-Émilion Grand Cru, Château Tour de Capet...   \n",
       "3    28.05  Médoc Cru Bourgeois, Château Patache d'Aux, Bo...   \n",
       "4   103.45                          2017 Chateau Croix Mouton   \n",
       "..     ...                                                ...   \n",
       "2    10.85  Vinho Verde Loureiro/Alvarinho, Azevedo, Portugal   \n",
       "3     8.65                                        Mateus Rosé   \n",
       "4     8.00                  Terra Franca,Vinho Regional Tinto   \n",
       "5     8.85                              Calusari Pinot Grigio   \n",
       "6     8.85                                Calusari Pinot Noir   \n",
       "\n",
       "                                                    2            country  \n",
       "0   https://www.i-d-s.com/dubai/clos-mireille-blan...             france  \n",
       "1   https://www.i-d-s.com/dubai/l-h-ritage-pouilly...             france  \n",
       "2   https://www.i-d-s.com/dubai/saint-milion-grand...             france  \n",
       "3   https://www.i-d-s.com/dubai/m-doc-cru-bourgeoi...             france  \n",
       "4   https://www.i-d-s.com/dubai/2017-chateau-croix...             france  \n",
       "..                                                ...                ...  \n",
       "2   https://www.i-d-s.com/dubai/vinho-verde-lourei...  rest-of-the-world  \n",
       "3   https://www.i-d-s.com/dubai/mateus-ros-pt1002....  rest-of-the-world  \n",
       "4   https://www.i-d-s.com/dubai/terra-franca-vinho...  rest-of-the-world  \n",
       "5   https://www.i-d-s.com/dubai/calusari-pinot-gri...  rest-of-the-world  \n",
       "6   https://www.i-d-s.com/dubai/calusari-pinot-noi...  rest-of-the-world  \n",
       "\n",
       "[1111 rows x 4 columns]"
      ]
     },
     "execution_count": 7,
     "metadata": {},
     "output_type": "execute_result"
    }
   ],
   "source": [
    "df_wine_diplo"
   ]
  },
  {
   "cell_type": "code",
   "execution_count": 8,
   "id": "00f28d70",
   "metadata": {
    "scrolled": false
   },
   "outputs": [],
   "source": [
    "df_wine_diplo.to_csv('wine_20_02_24.csv')"
   ]
  },
  {
   "cell_type": "code",
   "execution_count": 37,
   "id": "b8b26943",
   "metadata": {},
   "outputs": [],
   "source": [
    "#test\n",
    "browser=webdriver.Chrome(executable_path='/Users/hugoruizverastegui/Documents/perso github/chromedriver')\n",
    "browser.get('https://www.i-d-s.com/dubai/wine/wines-by-country/france.html?p=1')  \n",
    "htmlsource = browser.page_source\n",
    "htmlsource"
   ]
  },
  {
   "cell_type": "code",
   "execution_count": 9,
   "id": "6c59bbed",
   "metadata": {},
   "outputs": [],
   "source": [
    "df_wine_diplo['vivino_url']=''\n",
    "df_wine_diplo['vivino_rating']=''"
   ]
  },
  {
   "cell_type": "code",
   "execution_count": 10,
   "id": "4873daee",
   "metadata": {},
   "outputs": [],
   "source": [
    "df_wine_diplo_backup=df_wine_diplo"
   ]
  },
  {
   "cell_type": "code",
   "execution_count": 11,
   "id": "2f42cdd0",
   "metadata": {},
   "outputs": [],
   "source": [
    "def scrap_feature_vivino(feature_name,feature_regex,vivino_feature_list):\n",
    "        if len(re.findall(feature_regexp, htmlsource))==0:\n",
    "            vivino_feature_inter_list=['-']\n",
    "        else:\n",
    "            vivino_feature_inter_list=[re.findall(url_regexp, htmlsource)[0]]\n",
    "            \n",
    "        vivino_feature_list=vivino_feature_list+vivino_feature_inter_list\n",
    "    "
   ]
  },
  {
   "cell_type": "code",
   "execution_count": 12,
   "id": "5d20f26f",
   "metadata": {},
   "outputs": [],
   "source": [
    "#param for vivino scrapper\n",
    "features_vivino=['url','rating']\n",
    "\n",
    "rating_regexp=\"\\\"ratingValue\\\":(.*?),\"\n",
    "url_regexp='\\\"Product\\\",\\\"\\@id\\\":\\\"(.*?)\\\",'\n",
    "name_regexp=\"description\\\":\\\"Check out this (.*?) on Vivino\" \n",
    "price_regexp=\"class=\\\"wine-price-value\\\">(.*?)</span>\"\n",
    "region_regexp=\"wine-regions\\/(.*?)\\\"\"\n",
    "country_regexp=\"wine-countries\\/(.*?)\\\"\"\n",
    "nb_ratings_regexp=\"(\\d+) ratings\""
   ]
  },
  {
   "cell_type": "markdown",
   "id": "8ba32260",
   "metadata": {},
   "source": [
    "# RUN 1"
   ]
  },
  {
   "cell_type": "code",
   "execution_count": 21,
   "id": "1d675b80",
   "metadata": {},
   "outputs": [
    {
     "name": "stdout",
     "output_type": "stream",
     "text": [
      "blocked - waiting 60\n"
     ]
    },
    {
     "ename": "InvalidSessionIdException",
     "evalue": "Message: invalid session id\n",
     "output_type": "error",
     "traceback": [
      "\u001b[0;31m---------------------------------------------------------------------------\u001b[0m",
      "\u001b[0;31mWebDriverException\u001b[0m                        Traceback (most recent call last)",
      "Cell \u001b[0;32mIn [21], line 33\u001b[0m\n\u001b[1;32m     31\u001b[0m time\u001b[38;5;241m.\u001b[39msleep(\u001b[38;5;241m2\u001b[39m)\n\u001b[0;32m---> 33\u001b[0m htmlsource \u001b[38;5;241m=\u001b[39m \u001b[43mbrowser\u001b[49m\u001b[38;5;241;43m.\u001b[39;49m\u001b[43mpage_source\u001b[49m\n\u001b[1;32m     34\u001b[0m rating_regexp\u001b[38;5;241m=\u001b[39m\u001b[38;5;124m\"\u001b[39m\u001b[38;5;130;01m\\\"\u001b[39;00m\u001b[38;5;124mratingValue\u001b[39m\u001b[38;5;130;01m\\\"\u001b[39;00m\u001b[38;5;124m:(.*?),\u001b[39m\u001b[38;5;124m\"\u001b[39m\n",
      "File \u001b[0;32m~/opt/anaconda3/envs/sitrep/lib/python3.9/site-packages/selenium/webdriver/remote/webdriver.py:679\u001b[0m, in \u001b[0;36mWebDriver.page_source\u001b[0;34m(self)\u001b[0m\n\u001b[1;32m    673\u001b[0m \u001b[38;5;124;03m\"\"\"\u001b[39;00m\n\u001b[1;32m    674\u001b[0m \u001b[38;5;124;03mGets the source of the current page.\u001b[39;00m\n\u001b[1;32m    675\u001b[0m \n\u001b[1;32m    676\u001b[0m \u001b[38;5;124;03m:Usage:\u001b[39;00m\n\u001b[1;32m    677\u001b[0m \u001b[38;5;124;03m    driver.page_source\u001b[39;00m\n\u001b[1;32m    678\u001b[0m \u001b[38;5;124;03m\"\"\"\u001b[39;00m\n\u001b[0;32m--> 679\u001b[0m \u001b[38;5;28;01mreturn\u001b[39;00m \u001b[38;5;28;43mself\u001b[39;49m\u001b[38;5;241;43m.\u001b[39;49m\u001b[43mexecute\u001b[49m\u001b[43m(\u001b[49m\u001b[43mCommand\u001b[49m\u001b[38;5;241;43m.\u001b[39;49m\u001b[43mGET_PAGE_SOURCE\u001b[49m\u001b[43m)\u001b[49m[\u001b[38;5;124m'\u001b[39m\u001b[38;5;124mvalue\u001b[39m\u001b[38;5;124m'\u001b[39m]\n",
      "File \u001b[0;32m~/opt/anaconda3/envs/sitrep/lib/python3.9/site-packages/selenium/webdriver/remote/webdriver.py:321\u001b[0m, in \u001b[0;36mWebDriver.execute\u001b[0;34m(self, driver_command, params)\u001b[0m\n\u001b[1;32m    320\u001b[0m \u001b[38;5;28;01mif\u001b[39;00m response:\n\u001b[0;32m--> 321\u001b[0m     \u001b[38;5;28;43mself\u001b[39;49m\u001b[38;5;241;43m.\u001b[39;49m\u001b[43merror_handler\u001b[49m\u001b[38;5;241;43m.\u001b[39;49m\u001b[43mcheck_response\u001b[49m\u001b[43m(\u001b[49m\u001b[43mresponse\u001b[49m\u001b[43m)\u001b[49m\n\u001b[1;32m    322\u001b[0m     response[\u001b[38;5;124m'\u001b[39m\u001b[38;5;124mvalue\u001b[39m\u001b[38;5;124m'\u001b[39m] \u001b[38;5;241m=\u001b[39m \u001b[38;5;28mself\u001b[39m\u001b[38;5;241m.\u001b[39m_unwrap_value(\n\u001b[1;32m    323\u001b[0m         response\u001b[38;5;241m.\u001b[39mget(\u001b[38;5;124m'\u001b[39m\u001b[38;5;124mvalue\u001b[39m\u001b[38;5;124m'\u001b[39m, \u001b[38;5;28;01mNone\u001b[39;00m))\n",
      "File \u001b[0;32m~/opt/anaconda3/envs/sitrep/lib/python3.9/site-packages/selenium/webdriver/remote/errorhandler.py:242\u001b[0m, in \u001b[0;36mErrorHandler.check_response\u001b[0;34m(self, response)\u001b[0m\n\u001b[1;32m    241\u001b[0m     \u001b[38;5;28;01mraise\u001b[39;00m exception_class(message, screen, stacktrace, alert_text)\n\u001b[0;32m--> 242\u001b[0m \u001b[38;5;28;01mraise\u001b[39;00m exception_class(message, screen, stacktrace)\n",
      "\u001b[0;31mWebDriverException\u001b[0m: Message: unknown error: session deleted because of page crash\nfrom unknown error: cannot determine loading status\nfrom tab crashed\n  (Session info: chrome=121.0.6167.184)\n",
      "\nDuring handling of the above exception, another exception occurred:\n",
      "\u001b[0;31mInvalidSessionIdException\u001b[0m                 Traceback (most recent call last)",
      "Cell \u001b[0;32mIn [21], line 94\u001b[0m\n\u001b[1;32m     91\u001b[0m \u001b[38;5;28;01mexcept\u001b[39;00m:\n\u001b[1;32m     92\u001b[0m     \u001b[38;5;66;03m# so the same thing but regenerate the browser and wait 60s\u001b[39;00m\n\u001b[1;32m     93\u001b[0m     \u001b[38;5;28mprint\u001b[39m(\u001b[38;5;124m'\u001b[39m\u001b[38;5;124mblocked - waiting 60\u001b[39m\u001b[38;5;124m'\u001b[39m)\n\u001b[0;32m---> 94\u001b[0m     \u001b[43mbrowser\u001b[49m\u001b[38;5;241;43m.\u001b[39;49m\u001b[43mclose\u001b[49m\u001b[43m(\u001b[49m\u001b[43m)\u001b[49m\n\u001b[1;32m     95\u001b[0m     time\u001b[38;5;241m.\u001b[39msleep(\u001b[38;5;241m60\u001b[39m)\n\u001b[1;32m     97\u001b[0m     \u001b[38;5;66;03m#browser = webdriver.Chrome(ChromeDriverManager().install())\u001b[39;00m\n",
      "File \u001b[0;32m~/opt/anaconda3/envs/sitrep/lib/python3.9/site-packages/selenium/webdriver/remote/webdriver.py:688\u001b[0m, in \u001b[0;36mWebDriver.close\u001b[0;34m(self)\u001b[0m\n\u001b[1;32m    681\u001b[0m \u001b[38;5;28;01mdef\u001b[39;00m \u001b[38;5;21mclose\u001b[39m(\u001b[38;5;28mself\u001b[39m):\n\u001b[1;32m    682\u001b[0m     \u001b[38;5;124;03m\"\"\"\u001b[39;00m\n\u001b[1;32m    683\u001b[0m \u001b[38;5;124;03m    Closes the current window.\u001b[39;00m\n\u001b[1;32m    684\u001b[0m \n\u001b[1;32m    685\u001b[0m \u001b[38;5;124;03m    :Usage:\u001b[39;00m\n\u001b[1;32m    686\u001b[0m \u001b[38;5;124;03m        driver.close()\u001b[39;00m\n\u001b[1;32m    687\u001b[0m \u001b[38;5;124;03m    \"\"\"\u001b[39;00m\n\u001b[0;32m--> 688\u001b[0m     \u001b[38;5;28;43mself\u001b[39;49m\u001b[38;5;241;43m.\u001b[39;49m\u001b[43mexecute\u001b[49m\u001b[43m(\u001b[49m\u001b[43mCommand\u001b[49m\u001b[38;5;241;43m.\u001b[39;49m\u001b[43mCLOSE\u001b[49m\u001b[43m)\u001b[49m\n",
      "File \u001b[0;32m~/opt/anaconda3/envs/sitrep/lib/python3.9/site-packages/selenium/webdriver/remote/webdriver.py:321\u001b[0m, in \u001b[0;36mWebDriver.execute\u001b[0;34m(self, driver_command, params)\u001b[0m\n\u001b[1;32m    319\u001b[0m response \u001b[38;5;241m=\u001b[39m \u001b[38;5;28mself\u001b[39m\u001b[38;5;241m.\u001b[39mcommand_executor\u001b[38;5;241m.\u001b[39mexecute(driver_command, params)\n\u001b[1;32m    320\u001b[0m \u001b[38;5;28;01mif\u001b[39;00m response:\n\u001b[0;32m--> 321\u001b[0m     \u001b[38;5;28;43mself\u001b[39;49m\u001b[38;5;241;43m.\u001b[39;49m\u001b[43merror_handler\u001b[49m\u001b[38;5;241;43m.\u001b[39;49m\u001b[43mcheck_response\u001b[49m\u001b[43m(\u001b[49m\u001b[43mresponse\u001b[49m\u001b[43m)\u001b[49m\n\u001b[1;32m    322\u001b[0m     response[\u001b[38;5;124m'\u001b[39m\u001b[38;5;124mvalue\u001b[39m\u001b[38;5;124m'\u001b[39m] \u001b[38;5;241m=\u001b[39m \u001b[38;5;28mself\u001b[39m\u001b[38;5;241m.\u001b[39m_unwrap_value(\n\u001b[1;32m    323\u001b[0m         response\u001b[38;5;241m.\u001b[39mget(\u001b[38;5;124m'\u001b[39m\u001b[38;5;124mvalue\u001b[39m\u001b[38;5;124m'\u001b[39m, \u001b[38;5;28;01mNone\u001b[39;00m))\n\u001b[1;32m    324\u001b[0m     \u001b[38;5;28;01mreturn\u001b[39;00m response\n",
      "File \u001b[0;32m~/opt/anaconda3/envs/sitrep/lib/python3.9/site-packages/selenium/webdriver/remote/errorhandler.py:242\u001b[0m, in \u001b[0;36mErrorHandler.check_response\u001b[0;34m(self, response)\u001b[0m\n\u001b[1;32m    240\u001b[0m         alert_text \u001b[38;5;241m=\u001b[39m value[\u001b[38;5;124m'\u001b[39m\u001b[38;5;124malert\u001b[39m\u001b[38;5;124m'\u001b[39m]\u001b[38;5;241m.\u001b[39mget(\u001b[38;5;124m'\u001b[39m\u001b[38;5;124mtext\u001b[39m\u001b[38;5;124m'\u001b[39m)\n\u001b[1;32m    241\u001b[0m     \u001b[38;5;28;01mraise\u001b[39;00m exception_class(message, screen, stacktrace, alert_text)\n\u001b[0;32m--> 242\u001b[0m \u001b[38;5;28;01mraise\u001b[39;00m exception_class(message, screen, stacktrace)\n",
      "\u001b[0;31mInvalidSessionIdException\u001b[0m: Message: invalid session id\n"
     ]
    }
   ],
   "source": [
    "# Code to send a wine name to Vivino and scrape the first result\n",
    "\n",
    "\n",
    "vivino_url_wine=[]\n",
    "vivino_rating_wine=[]\n",
    "vivino_name_wine=[]\n",
    "vivino_price_wine=[]\n",
    "vivino_country_wine=[]\n",
    "vivino_region_wine=[]\n",
    "vivino_nb_ratings_wine=[]\n",
    "\n",
    "list_wine_search=df_wine_diplo[1]\n",
    "\n",
    "# open browser\n",
    "#browser = webdriver.Chrome(ChromeDriverManager().install())\n",
    "browser=webdriver.Chrome(executable_path='/Users/hugoruizverastegui/Downloads/chromedriver-121')\n",
    "browser.get('https://www.vivino.com/FR/en/')\n",
    "#for each wine name in the list \n",
    "for search_txt in list_wine_search:\n",
    "    # write the wine name\n",
    "    #browser.get('https://www.vivino.com/FR/en/')  \n",
    "    time.sleep(1)\n",
    "    try:\n",
    "        # find the input bar\n",
    "        element=browser.find_element_by_class_name(\"searchBar_searchInput__Jje-K\")\n",
    "        element.clear()\n",
    "        element.send_keys(search_txt)\n",
    "        element.send_keys(Keys.RETURN)\n",
    "\n",
    "        # get the first result\n",
    "        time.sleep(2)\n",
    "\n",
    "        htmlsource = browser.page_source\n",
    "        rating_regexp=\"\\\"ratingValue\\\":(.*?),\"\n",
    "        url_regexp='\\\"Product\\\",\\\"\\@id\\\":\\\"(.*?)\\\",'\n",
    "        name_regexp=\"description\\\":\\\"Check out this (.*?) on Vivino\" \n",
    "        price_regexp=\"class=\\\"wine-price-value\\\">(.*?)</span>\"\n",
    "        region_regexp=\"wine-regions\\/(.*?)\\\"\"\n",
    "        country_regexp=\"wine-countries\\/(.*?)\\\"\"\n",
    "        nb_ratings_regexp=\"(\\d+) ratings\"\n",
    "\n",
    "        time.sleep(1)\n",
    "\n",
    "        if len(re.findall(url_regexp, htmlsource))==0:\n",
    "            vivino_url_wine_inter=['-']\n",
    "        else:\n",
    "            vivino_url_wine_inter=[re.findall(url_regexp, htmlsource)[0]]\n",
    "        \n",
    "        if len(re.findall(rating_regexp, htmlsource))==0:\n",
    "            vivino_rating_wine_inter= ['-']\n",
    "        else:\n",
    "            vivino_rating_wine_inter= [re.findall(rating_regexp, htmlsource)[0]]\n",
    "        \n",
    "        if len(re.findall(price_regexp, htmlsource))==0:\n",
    "            vivino_price_wine_inter= ['-']\n",
    "        else:\n",
    "            vivino_price_wine_inter= [re.findall(price_regexp, htmlsource)[0]]\n",
    "               \n",
    "        if len(re.findall(name_regexp, htmlsource))==0:\n",
    "            vivino_name_wine_inter= ['-']\n",
    "        else:\n",
    "            vivino_name_wine_inter= [re.findall(name_regexp, htmlsource)[0]]\n",
    "            \n",
    "        if len(re.findall(country_regexp, htmlsource))==0:\n",
    "            vivino_country_wine_inter= ['-']\n",
    "        else:\n",
    "            vivino_country_wine_inter= [re.findall(country_regexp, htmlsource)[0]]\n",
    "        \n",
    "        \n",
    "        if len(re.findall(region_regexp, htmlsource))==0:\n",
    "            vivino_region_wine_inter= ['-']\n",
    "        else:\n",
    "            vivino_region_wine_inter= [re.findall(region_regexp, htmlsource)[0]]\n",
    "        \n",
    "        if len(re.findall(nb_ratings_regexp, htmlsource))==0:\n",
    "            vivino_nb_ratings_wine_inter= ['-']\n",
    "        else:\n",
    "            vivino_nb_ratings_wine_inter= [re.findall(nb_ratings_regexp, htmlsource)[0]]\n",
    "        \n",
    "\n",
    "        vivino_url_wine=vivino_url_wine+vivino_url_wine_inter\n",
    "        vivino_rating_wine=vivino_rating_wine+vivino_rating_wine_inter\n",
    "        vivino_name_wine=vivino_name_wine+vivino_name_wine_inter\n",
    "        vivino_price_wine=vivino_price_wine+vivino_price_wine_inter\n",
    "        vivino_country_wine=vivino_country_wine+vivino_country_wine_inter\n",
    "        vivino_region_wine=vivino_region_wine+vivino_region_wine_inter\n",
    "        vivino_nb_ratings_wine=vivino_nb_ratings_wine+vivino_nb_ratings_wine_inter\n",
    "        \n",
    "        time.sleep(1)\n",
    "\n",
    "    except:\n",
    "        # so the same thing but regenerate the browser and wait 60s\n",
    "        print('blocked - waiting 60')\n",
    "        browser.close()\n",
    "        time.sleep(60)\n",
    "        \n",
    "        #browser = webdriver.Chrome(ChromeDriverManager().install())\n",
    "        browser=webdriver.Chrome(executable_path='/Users/hugoruizverastegui/Downloads/chromedriver-121')\n",
    "        browser.get('https://www.vivino.com/FR/en/')\n",
    "        \n",
    "        element=browser.find_element_by_class_name(\"searchBar_searchInput__Jje-K\")\n",
    "        element.clear()\n",
    "        element.send_keys(search_txt)\n",
    "        element.send_keys(Keys.RETURN)\n",
    "\n",
    "        # get the first result\n",
    "        time.sleep(2)\n",
    "\n",
    "        htmlsource = browser.page_source\n",
    "        rating_regexp=\"\\\"ratingValue\\\":(.*?),\"\n",
    "        url_regexp='\\\"Product\\\",\\\"\\@id\\\":\\\"(.*?)\\\",'\n",
    "        name_regexp=\"description\\\":\\\"Check out this (.*?) on Vivino\" \n",
    "        price_regexp=\"class=\\\"wine-price-value\\\">(.*?)<\\/span>\"\n",
    "        region_regexp=\"wine-regions\\/(.*?)\\\"\"\n",
    "        country_regexp=\"wine-countries\\/(.*?)\\\"\"\n",
    "        nb_ratings_regexp=\"(\\d+) ratings\"\n",
    "\n",
    "        time.sleep(1)\n",
    "\n",
    "        if len(re.findall(url_regexp, htmlsource))==0:\n",
    "            vivino_url_wine_inter=['-']\n",
    "        else:\n",
    "            vivino_url_wine_inter=[re.findall(url_regexp, htmlsource)[0]]\n",
    "        \n",
    "        if len(re.findall(rating_regexp, htmlsource))==0:\n",
    "            vivino_rating_wine_inter= ['-']\n",
    "        else:\n",
    "            vivino_rating_wine_inter= [re.findall(rating_regexp, htmlsource)[0]]\n",
    "        \n",
    "        if len(re.findall(price_regexp, htmlsource))==0:\n",
    "            vivino_price_wine_inter= ['-']\n",
    "        else:\n",
    "            vivino_price_wine_inter= [re.findall(price_regexp, htmlsource)[0]]\n",
    "               \n",
    "        if len(re.findall(name_regexp, htmlsource))==0:\n",
    "            vivino_name_wine_inter= ['-']\n",
    "        else:\n",
    "            vivino_name_wine_inter= [re.findall(name_regexp, htmlsource)[0]]\n",
    "            \n",
    "        if len(re.findall(country_regexp, htmlsource))==0:\n",
    "            vivino_country_wine_inter= ['-']\n",
    "        else:\n",
    "            vivino_country_wine_inter= [re.findall(country_regexp, htmlsource)[0]]\n",
    "        \n",
    "        \n",
    "        if len(re.findall(region_regexp, htmlsource))==0:\n",
    "            vivino_region_wine_inter= ['-']\n",
    "        else:\n",
    "            vivino_region_wine_inter= [re.findall(region_regexp, htmlsource)[0]]\n",
    "        \n",
    "        if len(re.findall(nb_ratings_regexp, htmlsource))==0:\n",
    "            vivino_nb_ratings_wine_inter= ['-']\n",
    "        else:\n",
    "            vivino_nb_ratings_wine_inter= [re.findall(nb_ratings_regexp, htmlsource)[0]]\n",
    "        \n",
    "\n",
    "        vivino_url_wine=vivino_url_wine+vivino_url_wine_inter\n",
    "        vivino_rating_wine=vivino_rating_wine+vivino_rating_wine_inter\n",
    "        vivino_name_wine=vivino_name_wine+vivino_name_wine_inter\n",
    "        vivino_price_wine=vivino_price_wine+vivino_price_wine_inter\n",
    "        vivino_country_wine=vivino_country_wine+vivino_country_wine_inter\n",
    "        vivino_region_wine=vivino_region_wine+vivino_region_wine_inter\n",
    "        vivino_nb_ratings_wine=vivino_nb_ratings_wine+vivino_nb_ratings_wine_inter\n",
    "        \n",
    "    "
   ]
  },
  {
   "cell_type": "code",
   "execution_count": 35,
   "id": "e09bdde5",
   "metadata": {},
   "outputs": [
    {
     "name": "stderr",
     "output_type": "stream",
     "text": [
      "/var/folders/9z/sjrbpv9j1996t3_4wv3ry65c0000gn/T/ipykernel_98632/2980834181.py:1: FutureWarning: The behavior of `series[i:j]` with an integer-dtype index is deprecated. In a future version, this will be treated as *label-based* indexing, consistent with e.g. `series[i]` lookups. To retain the old behavior, use `series.iloc[i:j]`. To get the future behavior, use `series.loc[i:j]`.\n",
      "  remaining_list_wine=list_wine_search[already_scrapped_len:]\n"
     ]
    },
    {
     "data": {
      "text/plain": [
       "2       Petaluma White Label Chardonnay Adelaide Hills\n",
       "3                  Xanadu Circa 77 Cabernet. Sauvignon\n",
       "4                           Xanadu Circa 77 Chardonnay\n",
       "5                            Yellow Tail Jammy Red Roo\n",
       "6    `Red Moon` Mangan Vineyard Wilyabrup Malbec/Pe...\n",
       "                           ...                        \n",
       "2    Vinho Verde Loureiro/Alvarinho, Azevedo, Portugal\n",
       "3                                          Mateus Rosé\n",
       "4                    Terra Franca,Vinho Regional Tinto\n",
       "5                                Calusari Pinot Grigio\n",
       "6                                  Calusari Pinot Noir\n",
       "Name: 1, Length: 671, dtype: object"
      ]
     },
     "execution_count": 35,
     "metadata": {},
     "output_type": "execute_result"
    }
   ],
   "source": [
    "already_scrapped_len=len(vivino_name_wine)\n",
    "already_scrapped_len\n",
    "\n",
    "remaining_list_wine=list_wine_search[already_scrapped_len:]\n",
    "remaining_list_wine"
   ]
  },
  {
   "cell_type": "markdown",
   "id": "f91b947d",
   "metadata": {},
   "source": [
    "# Step 2 - redo for wines that did not get scrapped\n"
   ]
  },
  {
   "cell_type": "code",
   "execution_count": null,
   "id": "848e4351",
   "metadata": {},
   "outputs": [],
   "source": [
    "browser=webdriver.Chrome(executable_path='/Users/hugoruizverastegui/Downloads/chromedriver-121')\n",
    "browser.get('https://www.vivino.com/FR/en/')\n",
    "#for each wine name in the list \n",
    "for search_txt in remaining_list_wine:\n",
    "    # write the wine name\n",
    "    #browser.get('https://www.vivino.com/FR/en/')  \n",
    "    time.sleep(1)\n",
    "    try:\n",
    "        # find the input bar\n",
    "        element=browser.find_element_by_class_name(\"searchBar_searchInput__Jje-K\")\n",
    "        element.clear()\n",
    "        element.send_keys(search_txt)\n",
    "        element.send_keys(Keys.RETURN)\n",
    "\n",
    "        # get the first result\n",
    "        time.sleep(2)\n",
    "\n",
    "        htmlsource = browser.page_source\n",
    "        rating_regexp=\"\\\"ratingValue\\\":(.*?),\"\n",
    "        url_regexp='\\\"Product\\\",\\\"\\@id\\\":\\\"(.*?)\\\",'\n",
    "        name_regexp=\"description\\\":\\\"Check out this (.*?) on Vivino\" \n",
    "        price_regexp=\"class=\\\"wine-price-value\\\">(.*?)</span>\"\n",
    "        region_regexp=\"wine-regions\\/(.*?)\\\"\"\n",
    "        country_regexp=\"wine-countries\\/(.*?)\\\"\"\n",
    "        nb_ratings_regexp=\"(\\d+) ratings\"\n",
    "\n",
    "        time.sleep(1)\n",
    "\n",
    "        if len(re.findall(url_regexp, htmlsource))==0:\n",
    "            vivino_url_wine_inter=['-']\n",
    "        else:\n",
    "            vivino_url_wine_inter=[re.findall(url_regexp, htmlsource)[0]]\n",
    "        \n",
    "        if len(re.findall(rating_regexp, htmlsource))==0:\n",
    "            vivino_rating_wine_inter= ['-']\n",
    "        else:\n",
    "            vivino_rating_wine_inter= [re.findall(rating_regexp, htmlsource)[0]]\n",
    "        \n",
    "        if len(re.findall(price_regexp, htmlsource))==0:\n",
    "            vivino_price_wine_inter= ['-']\n",
    "        else:\n",
    "            vivino_price_wine_inter= [re.findall(price_regexp, htmlsource)[0]]\n",
    "               \n",
    "        if len(re.findall(name_regexp, htmlsource))==0:\n",
    "            vivino_name_wine_inter= ['-']\n",
    "        else:\n",
    "            vivino_name_wine_inter= [re.findall(name_regexp, htmlsource)[0]]\n",
    "            \n",
    "        if len(re.findall(country_regexp, htmlsource))==0:\n",
    "            vivino_country_wine_inter= ['-']\n",
    "        else:\n",
    "            vivino_country_wine_inter= [re.findall(country_regexp, htmlsource)[0]]\n",
    "        \n",
    "        \n",
    "        if len(re.findall(region_regexp, htmlsource))==0:\n",
    "            vivino_region_wine_inter= ['-']\n",
    "        else:\n",
    "            vivino_region_wine_inter= [re.findall(region_regexp, htmlsource)[0]]\n",
    "        \n",
    "        if len(re.findall(nb_ratings_regexp, htmlsource))==0:\n",
    "            vivino_nb_ratings_wine_inter= ['-']\n",
    "        else:\n",
    "            vivino_nb_ratings_wine_inter= [re.findall(nb_ratings_regexp, htmlsource)[0]]\n",
    "        \n",
    "\n",
    "        vivino_url_wine=vivino_url_wine+vivino_url_wine_inter\n",
    "        vivino_rating_wine=vivino_rating_wine+vivino_rating_wine_inter\n",
    "        vivino_name_wine=vivino_name_wine+vivino_name_wine_inter\n",
    "        vivino_price_wine=vivino_price_wine+vivino_price_wine_inter\n",
    "        vivino_country_wine=vivino_country_wine+vivino_country_wine_inter\n",
    "        vivino_region_wine=vivino_region_wine+vivino_region_wine_inter\n",
    "        vivino_nb_ratings_wine=vivino_nb_ratings_wine+vivino_nb_ratings_wine_inter\n",
    "        \n",
    "        time.sleep(1)\n",
    "\n",
    "    except:\n",
    "        # so the same thing but regenerate the browser and wait 60s\n",
    "        print('blocked - waiting 60')\n",
    "        browser.close()\n",
    "        time.sleep(60)\n",
    "        \n",
    "        #browser = webdriver.Chrome(ChromeDriverManager().install())\n",
    "        browser=webdriver.Chrome(executable_path='/Users/hugoruizverastegui/Downloads/chromedriver-121')\n",
    "        browser.get('https://www.vivino.com/FR/en/')\n",
    "        \n",
    "        element=browser.find_element_by_class_name(\"searchBar_searchInput__Jje-K\")\n",
    "        element.clear()\n",
    "        element.send_keys(search_txt)\n",
    "        element.send_keys(Keys.RETURN)\n",
    "\n",
    "        # get the first result\n",
    "        time.sleep(2)\n",
    "\n",
    "        htmlsource = browser.page_source\n",
    "        rating_regexp=\"\\\"ratingValue\\\":(.*?),\"\n",
    "        url_regexp='\\\"Product\\\",\\\"\\@id\\\":\\\"(.*?)\\\",'\n",
    "        name_regexp=\"description\\\":\\\"Check out this (.*?) on Vivino\" \n",
    "        price_regexp=\"class=\\\"wine-price-value\\\">(.*?)<\\/span>\"\n",
    "        region_regexp=\"wine-regions\\/(.*?)\\\"\"\n",
    "        country_regexp=\"wine-countries\\/(.*?)\\\"\"\n",
    "        nb_ratings_regexp=\"(\\d+) ratings\"\n",
    "\n",
    "        time.sleep(1)\n",
    "\n",
    "        if len(re.findall(url_regexp, htmlsource))==0:\n",
    "            vivino_url_wine_inter=['-']\n",
    "        else:\n",
    "            vivino_url_wine_inter=[re.findall(url_regexp, htmlsource)[0]]\n",
    "        \n",
    "        if len(re.findall(rating_regexp, htmlsource))==0:\n",
    "            vivino_rating_wine_inter= ['-']\n",
    "        else:\n",
    "            vivino_rating_wine_inter= [re.findall(rating_regexp, htmlsource)[0]]\n",
    "        \n",
    "        if len(re.findall(price_regexp, htmlsource))==0:\n",
    "            vivino_price_wine_inter= ['-']\n",
    "        else:\n",
    "            vivino_price_wine_inter= [re.findall(price_regexp, htmlsource)[0]]\n",
    "               \n",
    "        if len(re.findall(name_regexp, htmlsource))==0:\n",
    "            vivino_name_wine_inter= ['-']\n",
    "        else:\n",
    "            vivino_name_wine_inter= [re.findall(name_regexp, htmlsource)[0]]\n",
    "            \n",
    "        if len(re.findall(country_regexp, htmlsource))==0:\n",
    "            vivino_country_wine_inter= ['-']\n",
    "        else:\n",
    "            vivino_country_wine_inter= [re.findall(country_regexp, htmlsource)[0]]\n",
    "        \n",
    "        \n",
    "        if len(re.findall(region_regexp, htmlsource))==0:\n",
    "            vivino_region_wine_inter= ['-']\n",
    "        else:\n",
    "            vivino_region_wine_inter= [re.findall(region_regexp, htmlsource)[0]]\n",
    "        \n",
    "        if len(re.findall(nb_ratings_regexp, htmlsource))==0:\n",
    "            vivino_nb_ratings_wine_inter= ['-']\n",
    "        else:\n",
    "            vivino_nb_ratings_wine_inter= [re.findall(nb_ratings_regexp, htmlsource)[0]]\n",
    "        \n",
    "\n",
    "        vivino_url_wine=vivino_url_wine+vivino_url_wine_inter\n",
    "        vivino_rating_wine=vivino_rating_wine+vivino_rating_wine_inter\n",
    "        vivino_name_wine=vivino_name_wine+vivino_name_wine_inter\n",
    "        vivino_price_wine=vivino_price_wine+vivino_price_wine_inter\n",
    "        vivino_country_wine=vivino_country_wine+vivino_country_wine_inter\n",
    "        vivino_region_wine=vivino_region_wine+vivino_region_wine_inter\n",
    "        vivino_nb_ratings_wine=vivino_nb_ratings_wine+vivino_nb_ratings_wine_inter\n",
    "        "
   ]
  },
  {
   "cell_type": "code",
   "execution_count": null,
   "id": "cc8d866d",
   "metadata": {},
   "outputs": [],
   "source": []
  },
  {
   "cell_type": "code",
   "execution_count": 19,
   "id": "b981311c",
   "metadata": {},
   "outputs": [
    {
     "ename": "ValueError",
     "evalue": "Length of values (428) does not match length of index (1111)",
     "output_type": "error",
     "traceback": [
      "\u001b[0;31m---------------------------------------------------------------------------\u001b[0m",
      "\u001b[0;31mValueError\u001b[0m                                Traceback (most recent call last)",
      "Cell \u001b[0;32mIn [19], line 1\u001b[0m\n\u001b[0;32m----> 1\u001b[0m \u001b[43mdf_wine_diplo\u001b[49m\u001b[43m[\u001b[49m\u001b[38;5;124;43m'\u001b[39;49m\u001b[38;5;124;43mvivino_url\u001b[39;49m\u001b[38;5;124;43m'\u001b[39;49m\u001b[43m]\u001b[49m\u001b[38;5;241m=\u001b[39mvivino_url_wine\n\u001b[1;32m      2\u001b[0m df_wine_diplo[\u001b[38;5;124m'\u001b[39m\u001b[38;5;124mvivino_rating\u001b[39m\u001b[38;5;124m'\u001b[39m]\u001b[38;5;241m=\u001b[39mvivino_rating_wine\n\u001b[1;32m      3\u001b[0m df_wine_diplo[\u001b[38;5;124m'\u001b[39m\u001b[38;5;124mvivino_name\u001b[39m\u001b[38;5;124m'\u001b[39m]\u001b[38;5;241m=\u001b[39mvivino_name_wine\n",
      "File \u001b[0;32m~/opt/anaconda3/envs/sitrep/lib/python3.9/site-packages/pandas/core/frame.py:3977\u001b[0m, in \u001b[0;36mDataFrame.__setitem__\u001b[0;34m(self, key, value)\u001b[0m\n\u001b[1;32m   3974\u001b[0m     \u001b[38;5;28mself\u001b[39m\u001b[38;5;241m.\u001b[39m_setitem_array([key], value)\n\u001b[1;32m   3975\u001b[0m \u001b[38;5;28;01melse\u001b[39;00m:\n\u001b[1;32m   3976\u001b[0m     \u001b[38;5;66;03m# set column\u001b[39;00m\n\u001b[0;32m-> 3977\u001b[0m     \u001b[38;5;28;43mself\u001b[39;49m\u001b[38;5;241;43m.\u001b[39;49m\u001b[43m_set_item\u001b[49m\u001b[43m(\u001b[49m\u001b[43mkey\u001b[49m\u001b[43m,\u001b[49m\u001b[43m \u001b[49m\u001b[43mvalue\u001b[49m\u001b[43m)\u001b[49m\n",
      "File \u001b[0;32m~/opt/anaconda3/envs/sitrep/lib/python3.9/site-packages/pandas/core/frame.py:4171\u001b[0m, in \u001b[0;36mDataFrame._set_item\u001b[0;34m(self, key, value)\u001b[0m\n\u001b[1;32m   4161\u001b[0m \u001b[38;5;28;01mdef\u001b[39;00m \u001b[38;5;21m_set_item\u001b[39m(\u001b[38;5;28mself\u001b[39m, key, value) \u001b[38;5;241m-\u001b[39m\u001b[38;5;241m>\u001b[39m \u001b[38;5;28;01mNone\u001b[39;00m:\n\u001b[1;32m   4162\u001b[0m     \u001b[38;5;124;03m\"\"\"\u001b[39;00m\n\u001b[1;32m   4163\u001b[0m \u001b[38;5;124;03m    Add series to DataFrame in specified column.\u001b[39;00m\n\u001b[1;32m   4164\u001b[0m \n\u001b[0;32m   (...)\u001b[0m\n\u001b[1;32m   4169\u001b[0m \u001b[38;5;124;03m    ensure homogeneity.\u001b[39;00m\n\u001b[1;32m   4170\u001b[0m \u001b[38;5;124;03m    \"\"\"\u001b[39;00m\n\u001b[0;32m-> 4171\u001b[0m     value \u001b[38;5;241m=\u001b[39m \u001b[38;5;28;43mself\u001b[39;49m\u001b[38;5;241;43m.\u001b[39;49m\u001b[43m_sanitize_column\u001b[49m\u001b[43m(\u001b[49m\u001b[43mvalue\u001b[49m\u001b[43m)\u001b[49m\n\u001b[1;32m   4173\u001b[0m     \u001b[38;5;28;01mif\u001b[39;00m (\n\u001b[1;32m   4174\u001b[0m         key \u001b[38;5;129;01min\u001b[39;00m \u001b[38;5;28mself\u001b[39m\u001b[38;5;241m.\u001b[39mcolumns\n\u001b[1;32m   4175\u001b[0m         \u001b[38;5;129;01mand\u001b[39;00m value\u001b[38;5;241m.\u001b[39mndim \u001b[38;5;241m==\u001b[39m \u001b[38;5;241m1\u001b[39m\n\u001b[1;32m   4176\u001b[0m         \u001b[38;5;129;01mand\u001b[39;00m \u001b[38;5;129;01mnot\u001b[39;00m is_extension_array_dtype(value)\n\u001b[1;32m   4177\u001b[0m     ):\n\u001b[1;32m   4178\u001b[0m         \u001b[38;5;66;03m# broadcast across multiple columns if necessary\u001b[39;00m\n\u001b[1;32m   4179\u001b[0m         \u001b[38;5;28;01mif\u001b[39;00m \u001b[38;5;129;01mnot\u001b[39;00m \u001b[38;5;28mself\u001b[39m\u001b[38;5;241m.\u001b[39mcolumns\u001b[38;5;241m.\u001b[39mis_unique \u001b[38;5;129;01mor\u001b[39;00m \u001b[38;5;28misinstance\u001b[39m(\u001b[38;5;28mself\u001b[39m\u001b[38;5;241m.\u001b[39mcolumns, MultiIndex):\n",
      "File \u001b[0;32m~/opt/anaconda3/envs/sitrep/lib/python3.9/site-packages/pandas/core/frame.py:4904\u001b[0m, in \u001b[0;36mDataFrame._sanitize_column\u001b[0;34m(self, value)\u001b[0m\n\u001b[1;32m   4901\u001b[0m     \u001b[38;5;28;01mreturn\u001b[39;00m _reindex_for_setitem(Series(value), \u001b[38;5;28mself\u001b[39m\u001b[38;5;241m.\u001b[39mindex)\n\u001b[1;32m   4903\u001b[0m \u001b[38;5;28;01mif\u001b[39;00m is_list_like(value):\n\u001b[0;32m-> 4904\u001b[0m     \u001b[43mcom\u001b[49m\u001b[38;5;241;43m.\u001b[39;49m\u001b[43mrequire_length_match\u001b[49m\u001b[43m(\u001b[49m\u001b[43mvalue\u001b[49m\u001b[43m,\u001b[49m\u001b[43m \u001b[49m\u001b[38;5;28;43mself\u001b[39;49m\u001b[38;5;241;43m.\u001b[39;49m\u001b[43mindex\u001b[49m\u001b[43m)\u001b[49m\n\u001b[1;32m   4905\u001b[0m \u001b[38;5;28;01mreturn\u001b[39;00m sanitize_array(value, \u001b[38;5;28mself\u001b[39m\u001b[38;5;241m.\u001b[39mindex, copy\u001b[38;5;241m=\u001b[39m\u001b[38;5;28;01mTrue\u001b[39;00m, allow_2d\u001b[38;5;241m=\u001b[39m\u001b[38;5;28;01mTrue\u001b[39;00m)\n",
      "File \u001b[0;32m~/opt/anaconda3/envs/sitrep/lib/python3.9/site-packages/pandas/core/common.py:561\u001b[0m, in \u001b[0;36mrequire_length_match\u001b[0;34m(data, index)\u001b[0m\n\u001b[1;32m    557\u001b[0m \u001b[38;5;124;03m\"\"\"\u001b[39;00m\n\u001b[1;32m    558\u001b[0m \u001b[38;5;124;03mCheck the length of data matches the length of the index.\u001b[39;00m\n\u001b[1;32m    559\u001b[0m \u001b[38;5;124;03m\"\"\"\u001b[39;00m\n\u001b[1;32m    560\u001b[0m \u001b[38;5;28;01mif\u001b[39;00m \u001b[38;5;28mlen\u001b[39m(data) \u001b[38;5;241m!=\u001b[39m \u001b[38;5;28mlen\u001b[39m(index):\n\u001b[0;32m--> 561\u001b[0m     \u001b[38;5;28;01mraise\u001b[39;00m \u001b[38;5;167;01mValueError\u001b[39;00m(\n\u001b[1;32m    562\u001b[0m         \u001b[38;5;124m\"\u001b[39m\u001b[38;5;124mLength of values \u001b[39m\u001b[38;5;124m\"\u001b[39m\n\u001b[1;32m    563\u001b[0m         \u001b[38;5;124mf\u001b[39m\u001b[38;5;124m\"\u001b[39m\u001b[38;5;124m(\u001b[39m\u001b[38;5;132;01m{\u001b[39;00m\u001b[38;5;28mlen\u001b[39m(data)\u001b[38;5;132;01m}\u001b[39;00m\u001b[38;5;124m) \u001b[39m\u001b[38;5;124m\"\u001b[39m\n\u001b[1;32m    564\u001b[0m         \u001b[38;5;124m\"\u001b[39m\u001b[38;5;124mdoes not match length of index \u001b[39m\u001b[38;5;124m\"\u001b[39m\n\u001b[1;32m    565\u001b[0m         \u001b[38;5;124mf\u001b[39m\u001b[38;5;124m\"\u001b[39m\u001b[38;5;124m(\u001b[39m\u001b[38;5;132;01m{\u001b[39;00m\u001b[38;5;28mlen\u001b[39m(index)\u001b[38;5;132;01m}\u001b[39;00m\u001b[38;5;124m)\u001b[39m\u001b[38;5;124m\"\u001b[39m\n\u001b[1;32m    566\u001b[0m     )\n",
      "\u001b[0;31mValueError\u001b[0m: Length of values (428) does not match length of index (1111)"
     ]
    }
   ],
   "source": [
    "df_wine_diplo['vivino_url']=vivino_url_wine\n",
    "df_wine_diplo['vivino_rating']=vivino_rating_wine\n",
    "df_wine_diplo['vivino_name']=vivino_name_wine\n",
    "df_wine_diplo['vivino_price']=vivino_price_wine\n",
    "df_wine_diplo['vivino_country']=vivino_country_wine\n",
    "df_wine_diplo['vivino_region']=vivino_region_wine\n",
    "df_wine_diplo['nb_ratings']=vivino_nb_ratings_wine"
   ]
  },
  {
   "cell_type": "code",
   "execution_count": 36,
   "id": "986be18c",
   "metadata": {},
   "outputs": [
    {
     "data": {
      "text/html": [
       "<div>\n",
       "<style scoped>\n",
       "    .dataframe tbody tr th:only-of-type {\n",
       "        vertical-align: middle;\n",
       "    }\n",
       "\n",
       "    .dataframe tbody tr th {\n",
       "        vertical-align: top;\n",
       "    }\n",
       "\n",
       "    .dataframe thead th {\n",
       "        text-align: right;\n",
       "    }\n",
       "</style>\n",
       "<table border=\"1\" class=\"dataframe\">\n",
       "  <thead>\n",
       "    <tr style=\"text-align: right;\">\n",
       "      <th></th>\n",
       "      <th>0</th>\n",
       "      <th>1</th>\n",
       "      <th>2</th>\n",
       "      <th>country</th>\n",
       "      <th>vivino_url</th>\n",
       "      <th>vivino_rating</th>\n",
       "      <th>vivino_name</th>\n",
       "      <th>vivino_price</th>\n",
       "      <th>vivino_country</th>\n",
       "      <th>vivino_region</th>\n",
       "      <th>nb_ratings</th>\n",
       "      <th>ratio</th>\n",
       "    </tr>\n",
       "  </thead>\n",
       "  <tbody>\n",
       "    <tr>\n",
       "      <th>0</th>\n",
       "      <td>16.95</td>\n",
       "      <td>M.Chapoutier, Rasteau \" Les Gadilles\"</td>\n",
       "      <td>https://www.i-d-s.com/dubai/m-chapoutier-raste...</td>\n",
       "      <td>france</td>\n",
       "      <td>https://www.vivino.com/FR/en/wines/169803930</td>\n",
       "      <td>3.7</td>\n",
       "      <td>M. Chapoutier Les Gadilles Rasteau 0</td>\n",
       "      <td>15.50</td>\n",
       "      <td>france</td>\n",
       "      <td>rasteau</td>\n",
       "      <td>166</td>\n",
       "      <td>0</td>\n",
       "    </tr>\n",
       "    <tr>\n",
       "      <th>1</th>\n",
       "      <td>9.25</td>\n",
       "      <td>M.Chapoutier, Luberon 'La Ciboise' Rouge</td>\n",
       "      <td>https://www.i-d-s.com/dubai/m-chapoutier-luber...</td>\n",
       "      <td>france</td>\n",
       "      <td>https://www.vivino.com/FR/en/wines/1471076</td>\n",
       "      <td>3.6</td>\n",
       "      <td>M. Chapoutier Luberon La Ciboise 0</td>\n",
       "      <td>—</td>\n",
       "      <td>france</td>\n",
       "      <td>luberon</td>\n",
       "      <td>5088</td>\n",
       "      <td>86</td>\n",
       "    </tr>\n",
       "    <tr>\n",
       "      <th>2</th>\n",
       "      <td>33.00</td>\n",
       "      <td>Vranken Brut Nature VDC with Gift Box</td>\n",
       "      <td>https://www.i-d-s.com/dubai/vranken-brut-natur...</td>\n",
       "      <td>france</td>\n",
       "      <td>https://www.vivino.com/FR/en/wines/155582683</td>\n",
       "      <td>3.7</td>\n",
       "      <td>Vranken Brut Nature Champagne 0</td>\n",
       "      <td>34.10</td>\n",
       "      <td>france</td>\n",
       "      <td>champagne</td>\n",
       "      <td>565</td>\n",
       "      <td>71</td>\n",
       "    </tr>\n",
       "    <tr>\n",
       "      <th>3</th>\n",
       "      <td>76.85</td>\n",
       "      <td>Veuve Clicquot Yellow Label Brut</td>\n",
       "      <td>https://www.i-d-s.com/dubai/veuve-clicquot-yel...</td>\n",
       "      <td>france</td>\n",
       "      <td>https://www.vivino.com/FR/en/wines/164942636</td>\n",
       "      <td>4.3</td>\n",
       "      <td>Veuve Clicquot Brut (Carte Jaune) Champagne 0</td>\n",
       "      <td>—</td>\n",
       "      <td>france</td>\n",
       "      <td>champagne</td>\n",
       "      <td>126965</td>\n",
       "      <td>52</td>\n",
       "    </tr>\n",
       "    <tr>\n",
       "      <th>4</th>\n",
       "      <td>63.05</td>\n",
       "      <td>Moët &amp;amp; Chandon Brut Impérial</td>\n",
       "      <td>https://www.i-d-s.com/dubai/mo-t-chandon-brut-...</td>\n",
       "      <td>france</td>\n",
       "      <td>https://www.vivino.com/FR/en/wines/164942645</td>\n",
       "      <td>4.1</td>\n",
       "      <td>Moët \\u0026 Chandon Impérial Brut Champagne 0</td>\n",
       "      <td>—</td>\n",
       "      <td>france</td>\n",
       "      <td>champagne</td>\n",
       "      <td>115219</td>\n",
       "      <td>57</td>\n",
       "    </tr>\n",
       "    <tr>\n",
       "      <th>...</th>\n",
       "      <td>...</td>\n",
       "      <td>...</td>\n",
       "      <td>...</td>\n",
       "      <td>...</td>\n",
       "      <td>...</td>\n",
       "      <td>...</td>\n",
       "      <td>...</td>\n",
       "      <td>...</td>\n",
       "      <td>...</td>\n",
       "      <td>...</td>\n",
       "      <td>...</td>\n",
       "      <td>...</td>\n",
       "    </tr>\n",
       "    <tr>\n",
       "      <th>8</th>\n",
       "      <td>10.85</td>\n",
       "      <td>Vinho Verde Loureiro/Alvarinho, Azevedo, Portugal</td>\n",
       "      <td>https://www.i-d-s.com/dubai/vinho-verde-lourei...</td>\n",
       "      <td>rest-of-the-world</td>\n",
       "      <td>https://www.vivino.com/FR/en/wines/161350291</td>\n",
       "      <td>3.8</td>\n",
       "      <td>Quinta de Azevedo Azevedo Loureiro - Alvarinho 0</td>\n",
       "      <td>—</td>\n",
       "      <td>portugal</td>\n",
       "      <td>vinho-verde</td>\n",
       "      <td>2267</td>\n",
       "      <td>54</td>\n",
       "    </tr>\n",
       "    <tr>\n",
       "      <th>9</th>\n",
       "      <td>8.15</td>\n",
       "      <td>Mateus Rosé</td>\n",
       "      <td>https://www.i-d-s.com/dubai/mateus-ros-pt1002....</td>\n",
       "      <td>rest-of-the-world</td>\n",
       "      <td>https://www.vivino.com/FR/en/wines/164942646</td>\n",
       "      <td>3.7</td>\n",
       "      <td>Mateus The Original Rosé 0</td>\n",
       "      <td>—</td>\n",
       "      <td>portugal</td>\n",
       "      <td>douro</td>\n",
       "      <td>50172</td>\n",
       "      <td>59</td>\n",
       "    </tr>\n",
       "    <tr>\n",
       "      <th>10</th>\n",
       "      <td>8.00</td>\n",
       "      <td>Terra Franca,Vinho Regional Tinto</td>\n",
       "      <td>https://www.i-d-s.com/dubai/terra-franca-vinho...</td>\n",
       "      <td>rest-of-the-world</td>\n",
       "      <td>https://www.vivino.com/FR/en/wines/3474269</td>\n",
       "      <td>0.0</td>\n",
       "      <td>Ouro Da Terra Vinho Regional Beiras Tinto 0</td>\n",
       "      <td>—</td>\n",
       "      <td>portugal</td>\n",
       "      <td>alentejano</td>\n",
       "      <td>2603</td>\n",
       "      <td>68</td>\n",
       "    </tr>\n",
       "    <tr>\n",
       "      <th>11</th>\n",
       "      <td>8.85</td>\n",
       "      <td>Calusari Pinot Grigio</td>\n",
       "      <td>https://www.i-d-s.com/dubai/calusari-pinot-gri...</td>\n",
       "      <td>rest-of-the-world</td>\n",
       "      <td>https://www.vivino.com/FR/en/wines/3130030</td>\n",
       "      <td>3.7</td>\n",
       "      <td>Călușari Pinot Grigio 0</td>\n",
       "      <td>—</td>\n",
       "      <td>romania</td>\n",
       "      <td>recas</td>\n",
       "      <td>1891</td>\n",
       "      <td>86</td>\n",
       "    </tr>\n",
       "    <tr>\n",
       "      <th>0</th>\n",
       "      <td>8.85</td>\n",
       "      <td>Calusari Pinot Noir</td>\n",
       "      <td>https://www.i-d-s.com/dubai/calusari-pinot-noi...</td>\n",
       "      <td>rest-of-the-world</td>\n",
       "      <td>https://www.vivino.com/FR/en/wines/1652687</td>\n",
       "      <td>3.6</td>\n",
       "      <td>Călușari Pinot Noir 0</td>\n",
       "      <td>—</td>\n",
       "      <td>romania</td>\n",
       "      <td>recas</td>\n",
       "      <td>3055</td>\n",
       "      <td>85</td>\n",
       "    </tr>\n",
       "  </tbody>\n",
       "</table>\n",
       "<p>675 rows × 12 columns</p>\n",
       "</div>"
      ],
      "text/plain": [
       "        0                                                  1  \\\n",
       "0   16.95              M.Chapoutier, Rasteau \" Les Gadilles\"   \n",
       "1    9.25           M.Chapoutier, Luberon 'La Ciboise' Rouge   \n",
       "2   33.00              Vranken Brut Nature VDC with Gift Box   \n",
       "3   76.85                   Veuve Clicquot Yellow Label Brut   \n",
       "4   63.05                   Moët &amp; Chandon Brut Impérial   \n",
       "..    ...                                                ...   \n",
       "8   10.85  Vinho Verde Loureiro/Alvarinho, Azevedo, Portugal   \n",
       "9    8.15                                        Mateus Rosé   \n",
       "10   8.00                  Terra Franca,Vinho Regional Tinto   \n",
       "11   8.85                              Calusari Pinot Grigio   \n",
       "0    8.85                                Calusari Pinot Noir   \n",
       "\n",
       "                                                    2            country  \\\n",
       "0   https://www.i-d-s.com/dubai/m-chapoutier-raste...             france   \n",
       "1   https://www.i-d-s.com/dubai/m-chapoutier-luber...             france   \n",
       "2   https://www.i-d-s.com/dubai/vranken-brut-natur...             france   \n",
       "3   https://www.i-d-s.com/dubai/veuve-clicquot-yel...             france   \n",
       "4   https://www.i-d-s.com/dubai/mo-t-chandon-brut-...             france   \n",
       "..                                                ...                ...   \n",
       "8   https://www.i-d-s.com/dubai/vinho-verde-lourei...  rest-of-the-world   \n",
       "9   https://www.i-d-s.com/dubai/mateus-ros-pt1002....  rest-of-the-world   \n",
       "10  https://www.i-d-s.com/dubai/terra-franca-vinho...  rest-of-the-world   \n",
       "11  https://www.i-d-s.com/dubai/calusari-pinot-gri...  rest-of-the-world   \n",
       "0   https://www.i-d-s.com/dubai/calusari-pinot-noi...  rest-of-the-world   \n",
       "\n",
       "                                      vivino_url vivino_rating  \\\n",
       "0   https://www.vivino.com/FR/en/wines/169803930           3.7   \n",
       "1     https://www.vivino.com/FR/en/wines/1471076           3.6   \n",
       "2   https://www.vivino.com/FR/en/wines/155582683           3.7   \n",
       "3   https://www.vivino.com/FR/en/wines/164942636           4.3   \n",
       "4   https://www.vivino.com/FR/en/wines/164942645           4.1   \n",
       "..                                           ...           ...   \n",
       "8   https://www.vivino.com/FR/en/wines/161350291           3.8   \n",
       "9   https://www.vivino.com/FR/en/wines/164942646           3.7   \n",
       "10    https://www.vivino.com/FR/en/wines/3474269           0.0   \n",
       "11    https://www.vivino.com/FR/en/wines/3130030           3.7   \n",
       "0     https://www.vivino.com/FR/en/wines/1652687           3.6   \n",
       "\n",
       "                                         vivino_name vivino_price  \\\n",
       "0               M. Chapoutier Les Gadilles Rasteau 0        15.50   \n",
       "1                 M. Chapoutier Luberon La Ciboise 0            —   \n",
       "2                    Vranken Brut Nature Champagne 0        34.10   \n",
       "3      Veuve Clicquot Brut (Carte Jaune) Champagne 0            —   \n",
       "4      Moët \\u0026 Chandon Impérial Brut Champagne 0            —   \n",
       "..                                               ...          ...   \n",
       "8   Quinta de Azevedo Azevedo Loureiro - Alvarinho 0            —   \n",
       "9                         Mateus The Original Rosé 0            —   \n",
       "10       Ouro Da Terra Vinho Regional Beiras Tinto 0            —   \n",
       "11                           Călușari Pinot Grigio 0            —   \n",
       "0                              Călușari Pinot Noir 0            —   \n",
       "\n",
       "   vivino_country vivino_region nb_ratings  ratio  \n",
       "0          france       rasteau        166      0  \n",
       "1          france       luberon       5088     86  \n",
       "2          france     champagne        565     71  \n",
       "3          france     champagne     126965     52  \n",
       "4          france     champagne     115219     57  \n",
       "..            ...           ...        ...    ...  \n",
       "8        portugal   vinho-verde       2267     54  \n",
       "9        portugal         douro      50172     59  \n",
       "10       portugal    alentejano       2603     68  \n",
       "11        romania         recas       1891     86  \n",
       "0         romania         recas       3055     85  \n",
       "\n",
       "[675 rows x 12 columns]"
      ]
     },
     "execution_count": 36,
     "metadata": {},
     "output_type": "execute_result"
    }
   ],
   "source": [
    "df_wine_diplo"
   ]
  },
  {
   "cell_type": "code",
   "execution_count": 30,
   "id": "83856253",
   "metadata": {},
   "outputs": [],
   "source": [
    "#check name distance \n",
    "import fuzzywuzzy\n",
    "from fuzzywuzzy import fuzz\n",
    "\n",
    "def distance_name(name1, name2):\n",
    "    return fuzz.ratio(name1.lower(),name2.lower())"
   ]
  },
  {
   "cell_type": "code",
   "execution_count": 31,
   "id": "02d69393",
   "metadata": {
    "scrolled": true
   },
   "outputs": [],
   "source": [
    "df_wine_diplo['ratio']=df_wine_diplo.apply(lambda x: distance_name(x[1], x['vivino_name']), axis=1)"
   ]
  },
  {
   "cell_type": "code",
   "execution_count": 40,
   "id": "830c46d5",
   "metadata": {},
   "outputs": [
    {
     "data": {
      "text/html": [
       "<div>\n",
       "<style scoped>\n",
       "    .dataframe tbody tr th:only-of-type {\n",
       "        vertical-align: middle;\n",
       "    }\n",
       "\n",
       "    .dataframe tbody tr th {\n",
       "        vertical-align: top;\n",
       "    }\n",
       "\n",
       "    .dataframe thead th {\n",
       "        text-align: right;\n",
       "    }\n",
       "</style>\n",
       "<table border=\"1\" class=\"dataframe\">\n",
       "  <thead>\n",
       "    <tr style=\"text-align: right;\">\n",
       "      <th></th>\n",
       "      <th>0</th>\n",
       "      <th>1</th>\n",
       "      <th>2</th>\n",
       "      <th>country</th>\n",
       "      <th>vivino_url</th>\n",
       "      <th>vivino_rating</th>\n",
       "      <th>vivino_name</th>\n",
       "      <th>vivino_price</th>\n",
       "      <th>vivino_country</th>\n",
       "      <th>vivino_region</th>\n",
       "      <th>nb_ratings</th>\n",
       "      <th>ratio</th>\n",
       "    </tr>\n",
       "  </thead>\n",
       "  <tbody>\n",
       "    <tr>\n",
       "      <th>0</th>\n",
       "      <td>16.95</td>\n",
       "      <td>M.Chapoutier, Rasteau \" Les Gadilles\"</td>\n",
       "      <td>https://www.i-d-s.com/dubai/m-chapoutier-raste...</td>\n",
       "      <td>france</td>\n",
       "      <td>-</td>\n",
       "      <td>-</td>\n",
       "      <td>-</td>\n",
       "      <td>-</td>\n",
       "      <td>-</td>\n",
       "      <td>-</td>\n",
       "      <td>-</td>\n",
       "      <td>0</td>\n",
       "    </tr>\n",
       "    <tr>\n",
       "      <th>2</th>\n",
       "      <td>45.75</td>\n",
       "      <td>Savigny Les Beaune Antoine Geoffroy</td>\n",
       "      <td>https://www.i-d-s.com/dubai/savigny-les-beaune...</td>\n",
       "      <td>france</td>\n",
       "      <td>https://www.vivino.com/FR/en/wines/4789464</td>\n",
       "      <td>4.0</td>\n",
       "      <td>Domaine Antoine Olivier Savigny-Les-Beaune Pre...</td>\n",
       "      <td>—</td>\n",
       "      <td>france</td>\n",
       "      <td>savigny-les-beaune-les-peuillets</td>\n",
       "      <td>129</td>\n",
       "      <td>39</td>\n",
       "    </tr>\n",
       "    <tr>\n",
       "      <th>3</th>\n",
       "      <td>21.25</td>\n",
       "      <td>Domaine Trénel, Climat Fleurie 'La Madone' (Si...</td>\n",
       "      <td>https://www.i-d-s.com/dubai/domaine-tr-nel-fle...</td>\n",
       "      <td>france</td>\n",
       "      <td>https://www.vivino.com/FR/en/wines/4833964</td>\n",
       "      <td>3.7</td>\n",
       "      <td>Jean-Marc Despres Domaine de la Madone Fleurie 0</td>\n",
       "      <td>—</td>\n",
       "      <td>france</td>\n",
       "      <td>fleurie</td>\n",
       "      <td>1140</td>\n",
       "      <td>46</td>\n",
       "    </tr>\n",
       "    <tr>\n",
       "      <th>4</th>\n",
       "      <td>13.65</td>\n",
       "      <td>Domaine Trénel, Beaujolais Organic \" Rouge\"</td>\n",
       "      <td>https://www.i-d-s.com/dubai/domaine-tr-nel-bea...</td>\n",
       "      <td>france</td>\n",
       "      <td>https://www.vivino.com/FR/en/wines/3582444</td>\n",
       "      <td>3.7</td>\n",
       "      <td>Martine et Pierre Marie Chermette - Domaine du...</td>\n",
       "      <td>15.10</td>\n",
       "      <td>france</td>\n",
       "      <td>beaujolais</td>\n",
       "      <td>3731</td>\n",
       "      <td>43</td>\n",
       "    </tr>\n",
       "    <tr>\n",
       "      <th>7</th>\n",
       "      <td>22.95</td>\n",
       "      <td>Domaine Trénel, Viré Clessé Chardonnay, Vin de...</td>\n",
       "      <td>https://www.i-d-s.com/dubai/domaine-tr-nel-vir...</td>\n",
       "      <td>france</td>\n",
       "      <td>https://www.vivino.com/FR/en/wines/144587348</td>\n",
       "      <td>4.0</td>\n",
       "      <td>Domaine de l'Epinet Gramont Chardonnay 0</td>\n",
       "      <td>—</td>\n",
       "      <td>france</td>\n",
       "      <td>vire-clesse</td>\n",
       "      <td>206</td>\n",
       "      <td>50</td>\n",
       "    </tr>\n",
       "    <tr>\n",
       "      <th>10</th>\n",
       "      <td>45.85</td>\n",
       "      <td>Boutinot Cairanne 'Les Six'</td>\n",
       "      <td>https://www.i-d-s.com/dubai/boutinot-cairanne-...</td>\n",
       "      <td>france</td>\n",
       "      <td>-</td>\n",
       "      <td>-</td>\n",
       "      <td>-</td>\n",
       "      <td>-</td>\n",
       "      <td>-</td>\n",
       "      <td>-</td>\n",
       "      <td>-</td>\n",
       "      <td>0</td>\n",
       "    </tr>\n",
       "    <tr>\n",
       "      <th>3</th>\n",
       "      <td>31.75</td>\n",
       "      <td>\"M\" De Minuty Magnum (1.5L)</td>\n",
       "      <td>https://www.i-d-s.com/dubai/m-de-minuty-magnum...</td>\n",
       "      <td>france</td>\n",
       "      <td>https://www.vivino.com/FR/en/wines/2191238</td>\n",
       "      <td>3.9</td>\n",
       "      <td>Minuty M Rosé 0</td>\n",
       "      <td>16.00</td>\n",
       "      <td>france</td>\n",
       "      <td>cotes-de-provence</td>\n",
       "      <td>40256</td>\n",
       "      <td>43</td>\n",
       "    </tr>\n",
       "    <tr>\n",
       "      <th>0</th>\n",
       "      <td>22.85</td>\n",
       "      <td>Macon Rouge Maison Antoine Geoffroy</td>\n",
       "      <td>https://www.i-d-s.com/dubai/macon-rouge-maison...</td>\n",
       "      <td>france</td>\n",
       "      <td>https://www.vivino.com/FR/en/wines/147009133</td>\n",
       "      <td>3.8</td>\n",
       "      <td>Maison Guillot-Broux Mâcon Rouge 0</td>\n",
       "      <td>—</td>\n",
       "      <td>france</td>\n",
       "      <td>macon</td>\n",
       "      <td>301</td>\n",
       "      <td>46</td>\n",
       "    </tr>\n",
       "    <tr>\n",
       "      <th>5</th>\n",
       "      <td>295.95</td>\n",
       "      <td>Dom Pérignon Vintage, in individual Gift Box</td>\n",
       "      <td>https://www.i-d-s.com/dubai/dom-p-rignon-vinta...</td>\n",
       "      <td>france</td>\n",
       "      <td>https://www.vivino.com/FR/en/wines/1540082</td>\n",
       "      <td>4.6</td>\n",
       "      <td>Dom Pérignon Brut Champagne 0</td>\n",
       "      <td>250.00</td>\n",
       "      <td>france</td>\n",
       "      <td>champagne</td>\n",
       "      <td>148789</td>\n",
       "      <td>49</td>\n",
       "    </tr>\n",
       "    <tr>\n",
       "      <th>1</th>\n",
       "      <td>99.60</td>\n",
       "      <td>Château Minuty \"281\" Rosé</td>\n",
       "      <td>https://www.i-d-s.com/dubai/ch-teau-minuty-281...</td>\n",
       "      <td>france</td>\n",
       "      <td>https://www.vivino.com/FR/en/wines/1473981</td>\n",
       "      <td>4.1</td>\n",
       "      <td>Château d'Esclans Whispering Angel Rosé 0</td>\n",
       "      <td>19.95</td>\n",
       "      <td>france</td>\n",
       "      <td>cotes-de-provence</td>\n",
       "      <td>79131</td>\n",
       "      <td>48</td>\n",
       "    </tr>\n",
       "    <tr>\n",
       "      <th>5</th>\n",
       "      <td>31.60</td>\n",
       "      <td>Chateau Gravet Renaissance, Grand Cru Saint-Em...</td>\n",
       "      <td>https://www.i-d-s.com/dubai/chateau-gravet-ren...</td>\n",
       "      <td>france</td>\n",
       "      <td>-</td>\n",
       "      <td>-</td>\n",
       "      <td>-</td>\n",
       "      <td>-</td>\n",
       "      <td>-</td>\n",
       "      <td>-</td>\n",
       "      <td>-</td>\n",
       "      <td>4</td>\n",
       "    </tr>\n",
       "    <tr>\n",
       "      <th>11</th>\n",
       "      <td>36.40</td>\n",
       "      <td>Chateau Lange Réglat</td>\n",
       "      <td>https://www.i-d-s.com/dubai/chateau-lange-r-gl...</td>\n",
       "      <td>france</td>\n",
       "      <td>https://www.vivino.com/FR/en/wines/3717744</td>\n",
       "      <td>4.1</td>\n",
       "      <td>Vignobles Bernard Reglat Château Lange-Réglat ...</td>\n",
       "      <td>265.00</td>\n",
       "      <td>france</td>\n",
       "      <td>sauternes</td>\n",
       "      <td>1274</td>\n",
       "      <td>47</td>\n",
       "    </tr>\n",
       "    <tr>\n",
       "      <th>9</th>\n",
       "      <td>24.05</td>\n",
       "      <td>Château Amour</td>\n",
       "      <td>https://www.i-d-s.com/dubai/ch-teau-amour-fr10...</td>\n",
       "      <td>france</td>\n",
       "      <td>https://www.vivino.com/FR/en/wines/1783738</td>\n",
       "      <td>3.6</td>\n",
       "      <td>Château de Panigon Château Amour Médoc 0</td>\n",
       "      <td>12.25</td>\n",
       "      <td>france</td>\n",
       "      <td>medoc</td>\n",
       "      <td>1651</td>\n",
       "      <td>49</td>\n",
       "    </tr>\n",
       "    <tr>\n",
       "      <th>4</th>\n",
       "      <td>38.65</td>\n",
       "      <td>Château Lalande</td>\n",
       "      <td>https://www.i-d-s.com/dubai/ch-teau-lalande-fr...</td>\n",
       "      <td>france</td>\n",
       "      <td>https://www.vivino.com/FR/en/wines/1491165</td>\n",
       "      <td>4.4</td>\n",
       "      <td>Château Pichon Longueville Comtesse de Lalande...</td>\n",
       "      <td>199.00</td>\n",
       "      <td>france</td>\n",
       "      <td>pauillac</td>\n",
       "      <td>40300</td>\n",
       "      <td>33</td>\n",
       "    </tr>\n",
       "    <tr>\n",
       "      <th>11</th>\n",
       "      <td>16.60</td>\n",
       "      <td>Little Ripples Cabernet Sauvignon</td>\n",
       "      <td>https://www.i-d-s.com/dubai/little-ripples-cab...</td>\n",
       "      <td>australia</td>\n",
       "      <td>-</td>\n",
       "      <td>-</td>\n",
       "      <td>-</td>\n",
       "      <td>-</td>\n",
       "      <td>-</td>\n",
       "      <td>-</td>\n",
       "      <td>-</td>\n",
       "      <td>0</td>\n",
       "    </tr>\n",
       "    <tr>\n",
       "      <th>1</th>\n",
       "      <td>4.80</td>\n",
       "      <td>`Red Moon` Mangan Vineyard Wilyabrup Malbec/Pe...</td>\n",
       "      <td>https://www.i-d-s.com/dubai/red-moon-mangan-vi...</td>\n",
       "      <td>australia</td>\n",
       "      <td>https://www.vivino.com/FR/en/wines/157938311</td>\n",
       "      <td>3.6</td>\n",
       "      <td>Cullen Mangan Vineyard Red Moon 0</td>\n",
       "      <td>—</td>\n",
       "      <td>australia</td>\n",
       "      <td>western-australia</td>\n",
       "      <td>634</td>\n",
       "      <td>48</td>\n",
       "    </tr>\n",
       "    <tr>\n",
       "      <th>7</th>\n",
       "      <td>20.75</td>\n",
       "      <td>Tinpot Hut `McKee Vineyard` Grüner Veltliner</td>\n",
       "      <td>https://www.i-d-s.com/dubai/tinpot-hut-mckee-v...</td>\n",
       "      <td>new_zealand</td>\n",
       "      <td>-</td>\n",
       "      <td>-</td>\n",
       "      <td>-</td>\n",
       "      <td>-</td>\n",
       "      <td>-</td>\n",
       "      <td>-</td>\n",
       "      <td>-</td>\n",
       "      <td>0</td>\n",
       "    </tr>\n",
       "    <tr>\n",
       "      <th>1</th>\n",
       "      <td>31.75</td>\n",
       "      <td>Bolney Bubbly Sparkling</td>\n",
       "      <td>https://www.i-d-s.com/dubai/bolney-bubbly-spar...</td>\n",
       "      <td>uk</td>\n",
       "      <td>https://www.vivino.com/FR/en/wines/2952551</td>\n",
       "      <td>3.9</td>\n",
       "      <td>Bolney Wine Estate Bolney Bubbly Brut 0</td>\n",
       "      <td>—</td>\n",
       "      <td>united-kingdom</td>\n",
       "      <td>sussex</td>\n",
       "      <td>527</td>\n",
       "      <td>48</td>\n",
       "    </tr>\n",
       "    <tr>\n",
       "      <th>11</th>\n",
       "      <td>12.35</td>\n",
       "      <td>Apothic Red</td>\n",
       "      <td>https://www.i-d-s.com/dubai/apothic-red-us1030...</td>\n",
       "      <td>usa</td>\n",
       "      <td>https://www.vivino.com/FR/en/wines/1469195</td>\n",
       "      <td>3.7</td>\n",
       "      <td>Apothic Red (Winemaker's Blend) 0</td>\n",
       "      <td>—</td>\n",
       "      <td>united-states</td>\n",
       "      <td>california</td>\n",
       "      <td>139430</td>\n",
       "      <td>50</td>\n",
       "    </tr>\n",
       "    <tr>\n",
       "      <th>2</th>\n",
       "      <td>26.30</td>\n",
       "      <td>Vesevo Taurasi Ensis Docg</td>\n",
       "      <td>https://www.i-d-s.com/dubai/vesevo-taurasi-ens...</td>\n",
       "      <td>italy</td>\n",
       "      <td>https://www.vivino.com/FR/en/wines/2498287</td>\n",
       "      <td>3.8</td>\n",
       "      <td>Ascheri Arneis Langhe 0</td>\n",
       "      <td>—</td>\n",
       "      <td>italy</td>\n",
       "      <td>langhe</td>\n",
       "      <td>1147</td>\n",
       "      <td>42</td>\n",
       "    </tr>\n",
       "    <tr>\n",
       "      <th>6</th>\n",
       "      <td>19.10</td>\n",
       "      <td>Allegrini Estates Rubio, San Polo</td>\n",
       "      <td>https://www.i-d-s.com/dubai/allegrini-estates-...</td>\n",
       "      <td>italy</td>\n",
       "      <td>https://www.vivino.com/FR/en/wines/2060016</td>\n",
       "      <td>3.7</td>\n",
       "      <td>San Polo Rubio 0</td>\n",
       "      <td>10.50</td>\n",
       "      <td>italy</td>\n",
       "      <td>tuscany</td>\n",
       "      <td>5934</td>\n",
       "      <td>41</td>\n",
       "    </tr>\n",
       "    <tr>\n",
       "      <th>5</th>\n",
       "      <td>12.75</td>\n",
       "      <td>Ripa Delle Mandorle IGT Toscana Rosso, Vicchio...</td>\n",
       "      <td>https://www.i-d-s.com/dubai/ripa-delle-mandorl...</td>\n",
       "      <td>italy</td>\n",
       "      <td>https://www.vivino.com/FR/en/wines/1966999</td>\n",
       "      <td>3.6</td>\n",
       "      <td>Vicchiomaggio Ripa delle Mandorle 0</td>\n",
       "      <td>13.95</td>\n",
       "      <td>italy</td>\n",
       "      <td>tuscany</td>\n",
       "      <td>2883</td>\n",
       "      <td>46</td>\n",
       "    </tr>\n",
       "    <tr>\n",
       "      <th>8</th>\n",
       "      <td>20.50</td>\n",
       "      <td>Lugarara, Gavi Di Gavi , La Giustiniana, Piemonte</td>\n",
       "      <td>https://www.i-d-s.com/dubai/lugarara-gavi-di-g...</td>\n",
       "      <td>italy</td>\n",
       "      <td>https://www.vivino.com/FR/en/wines/1517136</td>\n",
       "      <td>3.9</td>\n",
       "      <td>Giustiniana Lugarara Gavi del Comune di Gavi 0</td>\n",
       "      <td>—</td>\n",
       "      <td>italy</td>\n",
       "      <td>gavi</td>\n",
       "      <td>1818</td>\n",
       "      <td>46</td>\n",
       "    </tr>\n",
       "    <tr>\n",
       "      <th>9</th>\n",
       "      <td>36.65</td>\n",
       "      <td>Ripa Delle More Toscana IGT, Castello Vicchiom...</td>\n",
       "      <td>https://www.i-d-s.com/dubai/ripa-delle-more-to...</td>\n",
       "      <td>italy</td>\n",
       "      <td>https://www.vivino.com/FR/en/wines/4626362</td>\n",
       "      <td>4.1</td>\n",
       "      <td>Vicchiomaggio Ripa delle More 0</td>\n",
       "      <td>—</td>\n",
       "      <td>italy</td>\n",
       "      <td>tuscany</td>\n",
       "      <td>2016</td>\n",
       "      <td>39</td>\n",
       "    </tr>\n",
       "    <tr>\n",
       "      <th>0</th>\n",
       "      <td>215.45</td>\n",
       "      <td>FSM Castello Vicchiomaggio, Merlot Toscana IGT</td>\n",
       "      <td>https://www.i-d-s.com/dubai/fsm-castello-vicch...</td>\n",
       "      <td>italy</td>\n",
       "      <td>https://www.vivino.com/FR/en/wines/3483261</td>\n",
       "      <td>4.4</td>\n",
       "      <td>Vicchiomaggio FSM 0</td>\n",
       "      <td>—</td>\n",
       "      <td>italy</td>\n",
       "      <td>tuscany</td>\n",
       "      <td>366</td>\n",
       "      <td>49</td>\n",
       "    </tr>\n",
       "    <tr>\n",
       "      <th>10</th>\n",
       "      <td>9.30</td>\n",
       "      <td>Pinot Grigio Piave La di Motte</td>\n",
       "      <td>https://www.i-d-s.com/dubai/pinot-grigio-piave...</td>\n",
       "      <td>italy</td>\n",
       "      <td>https://www.vivino.com/FR/en/wines/4995084</td>\n",
       "      <td>3.6</td>\n",
       "      <td>La di Motte Pinot Grigio 0</td>\n",
       "      <td>9.50</td>\n",
       "      <td>italy</td>\n",
       "      <td>friuli-grave</td>\n",
       "      <td>925</td>\n",
       "      <td>46</td>\n",
       "    </tr>\n",
       "    <tr>\n",
       "      <th>4</th>\n",
       "      <td>10.05</td>\n",
       "      <td>Vins El Cep Gr5 Senders Negre De Terrer( Tempr...</td>\n",
       "      <td>https://www.i-d-s.com/dubai/vins-el-cep-gr5-se...</td>\n",
       "      <td>spain</td>\n",
       "      <td>https://www.vivino.com/FR/en/wines/1484909</td>\n",
       "      <td>4.1</td>\n",
       "      <td>Casa Madero 3V Cabernet Sauvignon - Merlot - T...</td>\n",
       "      <td>—</td>\n",
       "      <td>mexico</td>\n",
       "      <td>valle-de-parras</td>\n",
       "      <td>31143</td>\n",
       "      <td>41</td>\n",
       "    </tr>\n",
       "    <tr>\n",
       "      <th>9</th>\n",
       "      <td>18.60</td>\n",
       "      <td>Anna Blanc De Blancs, Codorníu Brut Reserva</td>\n",
       "      <td>https://www.i-d-s.com/dubai/anna-blanc-de-blan...</td>\n",
       "      <td>spain</td>\n",
       "      <td>https://www.vivino.com/FR/en/wines/169848214</td>\n",
       "      <td>3.8</td>\n",
       "      <td>Anna de Codorniu Reserva Edición Limitada Blan...</td>\n",
       "      <td>—</td>\n",
       "      <td>spain</td>\n",
       "      <td>cava</td>\n",
       "      <td>54</td>\n",
       "      <td>49</td>\n",
       "    </tr>\n",
       "    <tr>\n",
       "      <th>5</th>\n",
       "      <td>9.55</td>\n",
       "      <td>Adegas Valminor'Davila O Rasal (Albarino/Loure...</td>\n",
       "      <td>https://www.i-d-s.com/dubai/adegas-valminor-da...</td>\n",
       "      <td>spain</td>\n",
       "      <td>https://www.vivino.com/FR/en/wines/5714731</td>\n",
       "      <td>0.0</td>\n",
       "      <td>Enolegs D3 Bote Llas Albariño Treixadura Loure...</td>\n",
       "      <td>—</td>\n",
       "      <td>spain</td>\n",
       "      <td>rias-baixas</td>\n",
       "      <td>14785</td>\n",
       "      <td>50</td>\n",
       "    </tr>\n",
       "    <tr>\n",
       "      <th>8</th>\n",
       "      <td>9.90</td>\n",
       "      <td>CVNE, Monopole Unoaked Blanco Rioja</td>\n",
       "      <td>https://www.i-d-s.com/dubai/cvne-monopole-unoa...</td>\n",
       "      <td>spain</td>\n",
       "      <td>https://www.vivino.com/FR/en/wines/1535391</td>\n",
       "      <td>3.7</td>\n",
       "      <td>Bodegas Franco-Españolas Diamante Semi-Dulce B...</td>\n",
       "      <td>—</td>\n",
       "      <td>spain</td>\n",
       "      <td>rioja</td>\n",
       "      <td>9144</td>\n",
       "      <td>43</td>\n",
       "    </tr>\n",
       "    <tr>\n",
       "      <th>3</th>\n",
       "      <td>9.20</td>\n",
       "      <td>Campo Viejo Tempranillo</td>\n",
       "      <td>https://www.i-d-s.com/dubai/campo-viejo-tempra...</td>\n",
       "      <td>spain</td>\n",
       "      <td>-</td>\n",
       "      <td>-</td>\n",
       "      <td>-</td>\n",
       "      <td>-</td>\n",
       "      <td>-</td>\n",
       "      <td>-</td>\n",
       "      <td>-</td>\n",
       "      <td>0</td>\n",
       "    </tr>\n",
       "  </tbody>\n",
       "</table>\n",
       "</div>"
      ],
      "text/plain": [
       "         0                                                  1  \\\n",
       "0    16.95              M.Chapoutier, Rasteau \" Les Gadilles\"   \n",
       "2    45.75                Savigny Les Beaune Antoine Geoffroy   \n",
       "3    21.25  Domaine Trénel, Climat Fleurie 'La Madone' (Si...   \n",
       "4    13.65        Domaine Trénel, Beaujolais Organic \" Rouge\"   \n",
       "7    22.95  Domaine Trénel, Viré Clessé Chardonnay, Vin de...   \n",
       "10   45.85                        Boutinot Cairanne 'Les Six'   \n",
       "3    31.75                        \"M\" De Minuty Magnum (1.5L)   \n",
       "0    22.85                Macon Rouge Maison Antoine Geoffroy   \n",
       "5   295.95       Dom Pérignon Vintage, in individual Gift Box   \n",
       "1    99.60                          Château Minuty \"281\" Rosé   \n",
       "5    31.60  Chateau Gravet Renaissance, Grand Cru Saint-Em...   \n",
       "11   36.40                               Chateau Lange Réglat   \n",
       "9    24.05                                      Château Amour   \n",
       "4    38.65                                    Château Lalande   \n",
       "11   16.60                  Little Ripples Cabernet Sauvignon   \n",
       "1     4.80  `Red Moon` Mangan Vineyard Wilyabrup Malbec/Pe...   \n",
       "7    20.75       Tinpot Hut `McKee Vineyard` Grüner Veltliner   \n",
       "1    31.75                            Bolney Bubbly Sparkling   \n",
       "11   12.35                                        Apothic Red   \n",
       "2    26.30                          Vesevo Taurasi Ensis Docg   \n",
       "6    19.10                  Allegrini Estates Rubio, San Polo   \n",
       "5    12.75  Ripa Delle Mandorle IGT Toscana Rosso, Vicchio...   \n",
       "8    20.50  Lugarara, Gavi Di Gavi , La Giustiniana, Piemonte   \n",
       "9    36.65  Ripa Delle More Toscana IGT, Castello Vicchiom...   \n",
       "0   215.45     FSM Castello Vicchiomaggio, Merlot Toscana IGT   \n",
       "10    9.30                     Pinot Grigio Piave La di Motte   \n",
       "4    10.05  Vins El Cep Gr5 Senders Negre De Terrer( Tempr...   \n",
       "9    18.60        Anna Blanc De Blancs, Codorníu Brut Reserva   \n",
       "5     9.55  Adegas Valminor'Davila O Rasal (Albarino/Loure...   \n",
       "8     9.90                CVNE, Monopole Unoaked Blanco Rioja   \n",
       "3     9.20                            Campo Viejo Tempranillo   \n",
       "\n",
       "                                                    2      country  \\\n",
       "0   https://www.i-d-s.com/dubai/m-chapoutier-raste...       france   \n",
       "2   https://www.i-d-s.com/dubai/savigny-les-beaune...       france   \n",
       "3   https://www.i-d-s.com/dubai/domaine-tr-nel-fle...       france   \n",
       "4   https://www.i-d-s.com/dubai/domaine-tr-nel-bea...       france   \n",
       "7   https://www.i-d-s.com/dubai/domaine-tr-nel-vir...       france   \n",
       "10  https://www.i-d-s.com/dubai/boutinot-cairanne-...       france   \n",
       "3   https://www.i-d-s.com/dubai/m-de-minuty-magnum...       france   \n",
       "0   https://www.i-d-s.com/dubai/macon-rouge-maison...       france   \n",
       "5   https://www.i-d-s.com/dubai/dom-p-rignon-vinta...       france   \n",
       "1   https://www.i-d-s.com/dubai/ch-teau-minuty-281...       france   \n",
       "5   https://www.i-d-s.com/dubai/chateau-gravet-ren...       france   \n",
       "11  https://www.i-d-s.com/dubai/chateau-lange-r-gl...       france   \n",
       "9   https://www.i-d-s.com/dubai/ch-teau-amour-fr10...       france   \n",
       "4   https://www.i-d-s.com/dubai/ch-teau-lalande-fr...       france   \n",
       "11  https://www.i-d-s.com/dubai/little-ripples-cab...    australia   \n",
       "1   https://www.i-d-s.com/dubai/red-moon-mangan-vi...    australia   \n",
       "7   https://www.i-d-s.com/dubai/tinpot-hut-mckee-v...  new_zealand   \n",
       "1   https://www.i-d-s.com/dubai/bolney-bubbly-spar...           uk   \n",
       "11  https://www.i-d-s.com/dubai/apothic-red-us1030...          usa   \n",
       "2   https://www.i-d-s.com/dubai/vesevo-taurasi-ens...        italy   \n",
       "6   https://www.i-d-s.com/dubai/allegrini-estates-...        italy   \n",
       "5   https://www.i-d-s.com/dubai/ripa-delle-mandorl...        italy   \n",
       "8   https://www.i-d-s.com/dubai/lugarara-gavi-di-g...        italy   \n",
       "9   https://www.i-d-s.com/dubai/ripa-delle-more-to...        italy   \n",
       "0   https://www.i-d-s.com/dubai/fsm-castello-vicch...        italy   \n",
       "10  https://www.i-d-s.com/dubai/pinot-grigio-piave...        italy   \n",
       "4   https://www.i-d-s.com/dubai/vins-el-cep-gr5-se...        spain   \n",
       "9   https://www.i-d-s.com/dubai/anna-blanc-de-blan...        spain   \n",
       "5   https://www.i-d-s.com/dubai/adegas-valminor-da...        spain   \n",
       "8   https://www.i-d-s.com/dubai/cvne-monopole-unoa...        spain   \n",
       "3   https://www.i-d-s.com/dubai/campo-viejo-tempra...        spain   \n",
       "\n",
       "                                      vivino_url vivino_rating  \\\n",
       "0                                              -             -   \n",
       "2     https://www.vivino.com/FR/en/wines/4789464           4.0   \n",
       "3     https://www.vivino.com/FR/en/wines/4833964           3.7   \n",
       "4     https://www.vivino.com/FR/en/wines/3582444           3.7   \n",
       "7   https://www.vivino.com/FR/en/wines/144587348           4.0   \n",
       "10                                             -             -   \n",
       "3     https://www.vivino.com/FR/en/wines/2191238           3.9   \n",
       "0   https://www.vivino.com/FR/en/wines/147009133           3.8   \n",
       "5     https://www.vivino.com/FR/en/wines/1540082           4.6   \n",
       "1     https://www.vivino.com/FR/en/wines/1473981           4.1   \n",
       "5                                              -             -   \n",
       "11    https://www.vivino.com/FR/en/wines/3717744           4.1   \n",
       "9     https://www.vivino.com/FR/en/wines/1783738           3.6   \n",
       "4     https://www.vivino.com/FR/en/wines/1491165           4.4   \n",
       "11                                             -             -   \n",
       "1   https://www.vivino.com/FR/en/wines/157938311           3.6   \n",
       "7                                              -             -   \n",
       "1     https://www.vivino.com/FR/en/wines/2952551           3.9   \n",
       "11    https://www.vivino.com/FR/en/wines/1469195           3.7   \n",
       "2     https://www.vivino.com/FR/en/wines/2498287           3.8   \n",
       "6     https://www.vivino.com/FR/en/wines/2060016           3.7   \n",
       "5     https://www.vivino.com/FR/en/wines/1966999           3.6   \n",
       "8     https://www.vivino.com/FR/en/wines/1517136           3.9   \n",
       "9     https://www.vivino.com/FR/en/wines/4626362           4.1   \n",
       "0     https://www.vivino.com/FR/en/wines/3483261           4.4   \n",
       "10    https://www.vivino.com/FR/en/wines/4995084           3.6   \n",
       "4     https://www.vivino.com/FR/en/wines/1484909           4.1   \n",
       "9   https://www.vivino.com/FR/en/wines/169848214           3.8   \n",
       "5     https://www.vivino.com/FR/en/wines/5714731           0.0   \n",
       "8     https://www.vivino.com/FR/en/wines/1535391           3.7   \n",
       "3                                              -             -   \n",
       "\n",
       "                                          vivino_name vivino_price  \\\n",
       "0                                                   -            -   \n",
       "2   Domaine Antoine Olivier Savigny-Les-Beaune Pre...            —   \n",
       "3    Jean-Marc Despres Domaine de la Madone Fleurie 0            —   \n",
       "4   Martine et Pierre Marie Chermette - Domaine du...        15.10   \n",
       "7            Domaine de l'Epinet Gramont Chardonnay 0            —   \n",
       "10                                                  -            -   \n",
       "3                                     Minuty M Rosé 0        16.00   \n",
       "0                  Maison Guillot-Broux Mâcon Rouge 0            —   \n",
       "5                       Dom Pérignon Brut Champagne 0       250.00   \n",
       "1           Château d'Esclans Whispering Angel Rosé 0        19.95   \n",
       "5                                                   -            -   \n",
       "11  Vignobles Bernard Reglat Château Lange-Réglat ...       265.00   \n",
       "9            Château de Panigon Château Amour Médoc 0        12.25   \n",
       "4   Château Pichon Longueville Comtesse de Lalande...       199.00   \n",
       "11                                                  -            -   \n",
       "1                   Cullen Mangan Vineyard Red Moon 0            —   \n",
       "7                                                   -            -   \n",
       "1             Bolney Wine Estate Bolney Bubbly Brut 0            —   \n",
       "11                  Apothic Red (Winemaker's Blend) 0            —   \n",
       "2                             Ascheri Arneis Langhe 0            —   \n",
       "6                                    San Polo Rubio 0        10.50   \n",
       "5                 Vicchiomaggio Ripa delle Mandorle 0        13.95   \n",
       "8      Giustiniana Lugarara Gavi del Comune di Gavi 0            —   \n",
       "9                     Vicchiomaggio Ripa delle More 0            —   \n",
       "0                                 Vicchiomaggio FSM 0            —   \n",
       "10                         La di Motte Pinot Grigio 0         9.50   \n",
       "4   Casa Madero 3V Cabernet Sauvignon - Merlot - T...            —   \n",
       "9   Anna de Codorniu Reserva Edición Limitada Blan...            —   \n",
       "5   Enolegs D3 Bote Llas Albariño Treixadura Loure...            —   \n",
       "8   Bodegas Franco-Españolas Diamante Semi-Dulce B...            —   \n",
       "3                                                   -            -   \n",
       "\n",
       "    vivino_country                     vivino_region nb_ratings  ratio  \n",
       "0                -                                 -          -      0  \n",
       "2           france  savigny-les-beaune-les-peuillets        129     39  \n",
       "3           france                           fleurie       1140     46  \n",
       "4           france                        beaujolais       3731     43  \n",
       "7           france                       vire-clesse        206     50  \n",
       "10               -                                 -          -      0  \n",
       "3           france                 cotes-de-provence      40256     43  \n",
       "0           france                             macon        301     46  \n",
       "5           france                         champagne     148789     49  \n",
       "1           france                 cotes-de-provence      79131     48  \n",
       "5                -                                 -          -      4  \n",
       "11          france                         sauternes       1274     47  \n",
       "9           france                             medoc       1651     49  \n",
       "4           france                          pauillac      40300     33  \n",
       "11               -                                 -          -      0  \n",
       "1        australia                 western-australia        634     48  \n",
       "7                -                                 -          -      0  \n",
       "1   united-kingdom                            sussex        527     48  \n",
       "11   united-states                        california     139430     50  \n",
       "2            italy                            langhe       1147     42  \n",
       "6            italy                           tuscany       5934     41  \n",
       "5            italy                           tuscany       2883     46  \n",
       "8            italy                              gavi       1818     46  \n",
       "9            italy                           tuscany       2016     39  \n",
       "0            italy                           tuscany        366     49  \n",
       "10           italy                      friuli-grave        925     46  \n",
       "4           mexico                   valle-de-parras      31143     41  \n",
       "9            spain                              cava         54     49  \n",
       "5            spain                       rias-baixas      14785     50  \n",
       "8            spain                             rioja       9144     43  \n",
       "3                -                                 -          -      0  "
      ]
     },
     "execution_count": 40,
     "metadata": {},
     "output_type": "execute_result"
    }
   ],
   "source": [
    "df_wine_diplo[df_wine_diplo['ratio']<=50]"
   ]
  },
  {
   "cell_type": "code",
   "execution_count": null,
   "id": "3a303877",
   "metadata": {},
   "outputs": [],
   "source": [
    "# for the wine with ratio <50 they are scrapped a second time"
   ]
  },
  {
   "cell_type": "code",
   "execution_count": 32,
   "id": "45f1529d",
   "metadata": {},
   "outputs": [],
   "source": [
    "df_wine_diplo.to_csv('wine_diplo_2023_28Aug.csv')"
   ]
  }
 ],
 "metadata": {
  "kernelspec": {
   "display_name": "Python 3 (ipykernel)",
   "language": "python",
   "name": "python3"
  },
  "language_info": {
   "codemirror_mode": {
    "name": "ipython",
    "version": 3
   },
   "file_extension": ".py",
   "mimetype": "text/x-python",
   "name": "python",
   "nbconvert_exporter": "python",
   "pygments_lexer": "ipython3",
   "version": "3.9.13"
  }
 },
 "nbformat": 4,
 "nbformat_minor": 5
}
